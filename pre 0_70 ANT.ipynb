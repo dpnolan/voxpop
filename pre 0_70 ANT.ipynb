{
 "cells": [
  {
   "cell_type": "markdown",
   "id": "bfca3d69-3199-4215-95f3-43d0c716cf0f",
   "metadata": {},
   "source": [
    "# Preprocessing Functions"
   ]
  },
  {
   "cell_type": "markdown",
   "id": "743b2460",
   "metadata": {},
   "source": [
    "## This workbook\n",
    "* Imports sound files from the SAIE dataset\n",
    "* Graphs and calculates the features\n",
    "* Adds the features to a Dataframe, then saves down the sample data for input in the classification model "
   ]
  },
  {
   "cell_type": "markdown",
   "id": "e1d71c36",
   "metadata": {},
   "source": [
    "## To do\n"
   ]
  },
  {
   "cell_type": "markdown",
   "id": "616f9cde",
   "metadata": {},
   "source": [
    "## Updates\n",
    "\n",
    "* 0_70 Store sample number and sample file names and add them to the dataframe\n",
    "* 0_69 DER Derry files, 0_69 Antrim and Belfast files, 0_60 DUB for Dublin files\n",
    "* 0_69 Clean up and check code and data; add exports of samples to WAV files\n",
    "* 0_68 Sample recordings every SAMPLE_LENGTH seconds.  Add these samples to the dataframe exported along with statistics for the sample alone.  \n",
    "* 0_67 Added DER Derry data,  Added regex for Windows file formats on Core i5\n",
    "* 0_66 Added DOW Down data\n",
    "* 0_65 Added ANT Antrim and BEL Belfast sound data, added rational expression to deal with the urban/rural and size codes in the SAIE filenames\n",
    "* 0_63,4 add conversion of MP3 to WAV, add extraction of county, town, gender and age codes\n",
    "* 0_6 add code for dataframe definition and export\n",
    "* 0_5 added graphing of spectrogram\n",
    "* 0_4 loaded Dublin full-text data"
   ]
  },
  {
   "cell_type": "code",
   "execution_count": 1,
   "id": "9b37be14",
   "metadata": {},
   "outputs": [
    {
     "name": "stdout",
     "output_type": "stream",
     "text": [
      "20240622_2146\n"
     ]
    }
   ],
   "source": [
    "from datetime import datetime\n",
    "\n",
    "# Get the current system date and time\n",
    "now = datetime.now()\n",
    "\n",
    "# Format the date and time as yyyymmdd_hhmm\n",
    "formatted_date_time = now.strftime(\"%Y%m%d_%H%M\")\n",
    "\n",
    "# Save it to a variable\n",
    "date_time_variable = formatted_date_time\n",
    "\n",
    "# Print the variable to verify\n",
    "print(date_time_variable)"
   ]
  },
  {
   "cell_type": "code",
   "execution_count": 2,
   "id": "f48b2a4e",
   "metadata": {},
   "outputs": [],
   "source": [
    "#DIR_PATH=r'/Users/peternolan/Documents/voxpop/notebooks/DUB/*.wav'\n",
    "#DIR_PATH=r'/Users/peternolan/Documents/voxpop/notebooks/NI/DER/*.wav'\n",
    "\n",
    "#DIR_PATH=r\"C:\\Users\\peter\\VoxPop\\DER\\*.wav\" # Derry input files\n",
    "DIR_PATH=r\"C:\\Users\\peter\\VoxPop\\ANT\\*.wav\" # Antrim input files\n",
    "#DIR_PATH=r\"C:\\Users\\peter\\VoxPop\\DUB\\*.wav\" # Dublin input files\n"
   ]
  },
  {
   "cell_type": "code",
   "execution_count": 3,
   "id": "9b120c27",
   "metadata": {},
   "outputs": [
    {
     "name": "stdout",
     "output_type": "stream",
     "text": [
      "C:\\Users\\peter\\VoxPop\n"
     ]
    }
   ],
   "source": [
    "#!pwd\n",
    "!cd "
   ]
  },
  {
   "cell_type": "code",
   "execution_count": 4,
   "id": "7c909746",
   "metadata": {},
   "outputs": [],
   "source": [
    "import librosa\n",
    "librosa.__version__ \n",
    "import librosa.display"
   ]
  },
  {
   "cell_type": "code",
   "execution_count": 5,
   "id": "6c91b3b7",
   "metadata": {},
   "outputs": [
    {
     "data": {
      "text/plain": [
       "'1.26.4'"
      ]
     },
     "execution_count": 5,
     "metadata": {},
     "output_type": "execute_result"
    }
   ],
   "source": [
    "import numpy as np \n",
    "np.__version__"
   ]
  },
  {
   "cell_type": "code",
   "execution_count": 6,
   "id": "d16fe3a8",
   "metadata": {},
   "outputs": [
    {
     "data": {
      "text/plain": [
       "'2.2.1'"
      ]
     },
     "execution_count": 6,
     "metadata": {},
     "output_type": "execute_result"
    }
   ],
   "source": [
    "import pandas as pd\n",
    "pd.__version__"
   ]
  },
  {
   "cell_type": "code",
   "execution_count": 7,
   "id": "7a0d5f61-4592-4af4-ac3f-948c45c10072",
   "metadata": {},
   "outputs": [],
   "source": [
    "import soundfile as sf"
   ]
  },
  {
   "cell_type": "code",
   "execution_count": 8,
   "id": "b635a787-6abb-4c24-8ddc-d189aacb7973",
   "metadata": {},
   "outputs": [],
   "source": [
    "import math"
   ]
  },
  {
   "cell_type": "code",
   "execution_count": 9,
   "id": "c3beb420",
   "metadata": {},
   "outputs": [],
   "source": [
    "import matplotlib.pyplot as plt\n",
    "%matplotlib inline\n",
    "#plt.style.use(\"seaborn\")\n",
    "import glob\n",
    "import IPython\n",
    "from IPython.display import Audio\n",
    "import re\n",
    "import csv"
   ]
  },
  {
   "cell_type": "code",
   "execution_count": 10,
   "id": "8965461d",
   "metadata": {},
   "outputs": [],
   "source": [
    "from pydub import AudioSegment\n",
    "import soundfile as sf\n",
    "import os"
   ]
  },
  {
   "cell_type": "code",
   "execution_count": 11,
   "id": "923bfb14",
   "metadata": {},
   "outputs": [],
   "source": [
    "filenames=[]\n",
    "sr=[]\n",
    "dur=[]\n",
    "y=[]\n",
    "names=[]"
   ]
  },
  {
   "cell_type": "markdown",
   "id": "7dc4f617-5f94-4b51-b4aa-ac6570f60c87",
   "metadata": {},
   "source": [
    "## Global Variables"
   ]
  },
  {
   "cell_type": "code",
   "execution_count": 72,
   "id": "d6cfe86a-4b41-4511-9eba-ba976f76de33",
   "metadata": {},
   "outputs": [],
   "source": [
    "DATASET_NAME = \"ANT\""
   ]
  },
  {
   "cell_type": "code",
   "execution_count": 13,
   "id": "c34bb296-937f-49a7-949c-b359165a8947",
   "metadata": {},
   "outputs": [],
   "source": [
    "SAMPLE_OUTPUT_DIRECTORY=\"C:\\\\Users\\\\peter\\\\VoxPop\\\\sample_output_directory\\\\\" "
   ]
  },
  {
   "cell_type": "code",
   "execution_count": 14,
   "id": "3419e4ee-d792-4e44-aaa0-7dba2cae234a",
   "metadata": {},
   "outputs": [],
   "source": [
    "SAMPLE_LENGTH=1 # seconds"
   ]
  },
  {
   "cell_type": "code",
   "execution_count": 15,
   "id": "1ddadbbf",
   "metadata": {},
   "outputs": [],
   "source": [
    "#RESAMPLE_RATE=8000\n",
    "RESAMPLE_RATE=22050"
   ]
  },
  {
   "cell_type": "code",
   "execution_count": 16,
   "id": "dcf8ee6c-3b1d-41eb-9a02-8b0f0729a77d",
   "metadata": {},
   "outputs": [
    {
     "data": {
      "text/plain": [
       "'C:\\\\Users\\\\peter\\\\VoxPop\\\\ANT\\\\*.wav'"
      ]
     },
     "execution_count": 16,
     "metadata": {},
     "output_type": "execute_result"
    }
   ],
   "source": [
    "DIR_PATH"
   ]
  },
  {
   "cell_type": "code",
   "execution_count": 17,
   "id": "f67fb15f",
   "metadata": {},
   "outputs": [],
   "source": [
    "res = glob.glob(DIR_PATH)\n",
    "for filename in res:\n",
    "    filenames.append(filename)"
   ]
  },
  {
   "cell_type": "code",
   "execution_count": 18,
   "id": "5980a35c",
   "metadata": {},
   "outputs": [
    {
     "data": {
      "text/plain": [
       "66"
      ]
     },
     "execution_count": 18,
     "metadata": {},
     "output_type": "execute_result"
    }
   ],
   "source": [
    "len(filenames)"
   ]
  },
  {
   "cell_type": "code",
   "execution_count": 19,
   "id": "f9ecfe32",
   "metadata": {},
   "outputs": [],
   "source": [
    "def sample_duration(filename):\n",
    "    d=(librosa.get_duration(path=filename))\n",
    "    d=int(d*100)/100\n",
    "    return d"
   ]
  },
  {
   "cell_type": "code",
   "execution_count": 20,
   "id": "e764dcfa",
   "metadata": {},
   "outputs": [],
   "source": [
    "def convert_MP3_to_WAV(convertfile):\n",
    "    print(convertfile)\n",
    "    convertaudio = AudioSegment.from_mp3(convertfile)\n",
    "    convertaudio.export(\"convertfile.wav\", format=\"wav\")\n",
    "    dur=sample_duration(\"convertfile.wav\")\n",
    "    y, sr = librosa.load(\"convertfile.wav\",duration=dur)\n",
    "    return y,sr"
   ]
  },
  {
   "cell_type": "code",
   "execution_count": 21,
   "id": "e70cb6d4",
   "metadata": {},
   "outputs": [
    {
     "data": {
      "text/plain": [
       "['C:\\\\Users\\\\peter\\\\VoxPop\\\\ANT\\\\ANT_Antrim_R1_F_20.wav',\n",
       " 'C:\\\\Users\\\\peter\\\\VoxPop\\\\ANT\\\\ANT_Antrim_R1_M_25.wav',\n",
       " 'C:\\\\Users\\\\peter\\\\VoxPop\\\\ANT\\\\ANT_Antrim_R1_M_40.wav',\n",
       " 'C:\\\\Users\\\\peter\\\\VoxPop\\\\ANT\\\\ANT_Ballycastle_R1_F_70.wav',\n",
       " 'C:\\\\Users\\\\peter\\\\VoxPop\\\\ANT\\\\ANT_Ballycastle_R1_M_25.wav',\n",
       " 'C:\\\\Users\\\\peter\\\\VoxPop\\\\ANT\\\\ANT_Ballycastle_R1_M_70.wav',\n",
       " 'C:\\\\Users\\\\peter\\\\VoxPop\\\\ANT\\\\ANT_Ballycastle_R1_M_80.wav',\n",
       " 'C:\\\\Users\\\\peter\\\\VoxPop\\\\ANT\\\\ANT_Ballyclare_R2_M_50.wav',\n",
       " 'C:\\\\Users\\\\peter\\\\VoxPop\\\\ANT\\\\ANT_Ballyclare_R2_M_55.wav',\n",
       " 'C:\\\\Users\\\\peter\\\\VoxPop\\\\ANT\\\\ANT_Ballymena_U2_F_20.wav',\n",
       " 'C:\\\\Users\\\\peter\\\\VoxPop\\\\ANT\\\\ANT_Ballymena_U2_F_25.wav',\n",
       " 'C:\\\\Users\\\\peter\\\\VoxPop\\\\ANT\\\\ANT_Ballymena_U2_M_20.wav',\n",
       " 'C:\\\\Users\\\\peter\\\\VoxPop\\\\ANT\\\\ANT_Ballymena_U2_M_20_(2).wav',\n",
       " 'C:\\\\Users\\\\peter\\\\VoxPop\\\\ANT\\\\ANT_Ballymena_U2_M_20_(3).wav',\n",
       " 'C:\\\\Users\\\\peter\\\\VoxPop\\\\ANT\\\\ANT_Ballymoney_R1_F_20.wav',\n",
       " 'C:\\\\Users\\\\peter\\\\VoxPop\\\\ANT\\\\ANT_Ballymoney_R1_F_60.wav',\n",
       " 'C:\\\\Users\\\\peter\\\\VoxPop\\\\ANT\\\\ANT_Ballymoney_R1_M_30.wav',\n",
       " 'C:\\\\Users\\\\peter\\\\VoxPop\\\\ANT\\\\ANT_Ballynure_R2_F_20.wav',\n",
       " 'C:\\\\Users\\\\peter\\\\VoxPop\\\\ANT\\\\ANT_Bushmills_R2_M_16.wav',\n",
       " 'C:\\\\Users\\\\peter\\\\VoxPop\\\\ANT\\\\ANT_Carnlough_R2_F_20.wav',\n",
       " 'C:\\\\Users\\\\peter\\\\VoxPop\\\\ANT\\\\ANT_Carrickfergus_R1_F_20.wav',\n",
       " 'C:\\\\Users\\\\peter\\\\VoxPop\\\\ANT\\\\ANT_Crumlin_R2_M_30.wav',\n",
       " 'C:\\\\Users\\\\peter\\\\VoxPop\\\\ANT\\\\ANT_Crumlin_R2_M_50.wav',\n",
       " 'C:\\\\Users\\\\peter\\\\VoxPop\\\\ANT\\\\ANT_Cullybackey_R2_M_30.wav',\n",
       " 'C:\\\\Users\\\\peter\\\\VoxPop\\\\ANT\\\\ANT_Dervock_R2_M_65.wav',\n",
       " 'C:\\\\Users\\\\peter\\\\VoxPop\\\\ANT\\\\ANT_Dunloy_R2_M_60.wav',\n",
       " 'C:\\\\Users\\\\peter\\\\VoxPop\\\\ANT\\\\ANT_Glenarm_R2_F_20.wav',\n",
       " 'C:\\\\Users\\\\peter\\\\VoxPop\\\\ANT\\\\ANT_Larne_R1_F_20.wav',\n",
       " 'C:\\\\Users\\\\peter\\\\VoxPop\\\\ANT\\\\ANT_Larne_R1_M_20.wav',\n",
       " 'C:\\\\Users\\\\peter\\\\VoxPop\\\\ANT\\\\ANT_Lisburn_U2_F_20.wav',\n",
       " 'C:\\\\Users\\\\peter\\\\VoxPop\\\\ANT\\\\ANT_Lisburn_U2_F_20_(2).wav',\n",
       " 'C:\\\\Users\\\\peter\\\\VoxPop\\\\ANT\\\\ANT_Lisburn_U2_M_20.wav',\n",
       " 'C:\\\\Users\\\\peter\\\\VoxPop\\\\ANT\\\\ANT_Newtownabbey_R1_F_20.wav',\n",
       " 'C:\\\\Users\\\\peter\\\\VoxPop\\\\ANT\\\\ANT_Newtownabbey_R1_F_30.wav',\n",
       " 'C:\\\\Users\\\\peter\\\\VoxPop\\\\ANT\\\\ANT_Newtownabbey_R1_M_55.wav',\n",
       " 'C:\\\\Users\\\\peter\\\\VoxPop\\\\ANT\\\\ANT_Randalstown_R2_M_20.wav',\n",
       " 'C:\\\\Users\\\\peter\\\\VoxPop\\\\ANT\\\\ANT_Randalstown_R2_M_25.wav',\n",
       " 'C:\\\\Users\\\\peter\\\\VoxPop\\\\ANT\\\\ANT_Templepatrick_R2_M_20.wav',\n",
       " 'C:\\\\Users\\\\peter\\\\VoxPop\\\\ANT\\\\ANT_Toomebridge_R2_M_30.wav',\n",
       " 'C:\\\\Users\\\\peter\\\\VoxPop\\\\ANT\\\\BEL_City_F_20.wav',\n",
       " 'C:\\\\Users\\\\peter\\\\VoxPop\\\\ANT\\\\BEL_City_F_20_(2).wav',\n",
       " 'C:\\\\Users\\\\peter\\\\VoxPop\\\\ANT\\\\BEL_City_F_20_(3).wav',\n",
       " 'C:\\\\Users\\\\peter\\\\VoxPop\\\\ANT\\\\BEL_City_F_20_(5).wav',\n",
       " 'C:\\\\Users\\\\peter\\\\VoxPop\\\\ANT\\\\BEL_City_M_20.wav',\n",
       " 'C:\\\\Users\\\\peter\\\\VoxPop\\\\ANT\\\\BEL_City_M_20_(14).wav',\n",
       " 'C:\\\\Users\\\\peter\\\\VoxPop\\\\ANT\\\\BEL_City_M_20_(2).wav',\n",
       " 'C:\\\\Users\\\\peter\\\\VoxPop\\\\ANT\\\\BEL_City_M_20_(3).wav',\n",
       " 'C:\\\\Users\\\\peter\\\\VoxPop\\\\ANT\\\\BEL_City_M_35.wav',\n",
       " 'C:\\\\Users\\\\peter\\\\VoxPop\\\\ANT\\\\BEL_City_M_40.wav',\n",
       " 'C:\\\\Users\\\\peter\\\\VoxPop\\\\ANT\\\\BEL_City_M_40_(2).wav',\n",
       " 'C:\\\\Users\\\\peter\\\\VoxPop\\\\ANT\\\\BEL_Drumbeg_F_20_(6).wav',\n",
       " 'C:\\\\Users\\\\peter\\\\VoxPop\\\\ANT\\\\BEL_East_F_20_(4).wav',\n",
       " 'C:\\\\Users\\\\peter\\\\VoxPop\\\\ANT\\\\BEL_East_F_30.wav',\n",
       " 'C:\\\\Users\\\\peter\\\\VoxPop\\\\ANT\\\\BEL_East_M_20_(12).wav',\n",
       " 'C:\\\\Users\\\\peter\\\\VoxPop\\\\ANT\\\\BEL_East_M_20_(4).wav',\n",
       " 'C:\\\\Users\\\\peter\\\\VoxPop\\\\ANT\\\\BEL_North_M_20_(10).wav',\n",
       " 'C:\\\\Users\\\\peter\\\\VoxPop\\\\ANT\\\\BEL_North_M_20_(11).wav',\n",
       " 'C:\\\\Users\\\\peter\\\\VoxPop\\\\ANT\\\\BEL_North_M_20_(4).wav',\n",
       " 'C:\\\\Users\\\\peter\\\\VoxPop\\\\ANT\\\\BEL_North_M_20_(5).wav',\n",
       " 'C:\\\\Users\\\\peter\\\\VoxPop\\\\ANT\\\\BEL_North_M_20_(6).wav',\n",
       " 'C:\\\\Users\\\\peter\\\\VoxPop\\\\ANT\\\\BEL_North_M_20_(7).wav',\n",
       " 'C:\\\\Users\\\\peter\\\\VoxPop\\\\ANT\\\\BEL_North_M_20_(8).wav',\n",
       " 'C:\\\\Users\\\\peter\\\\VoxPop\\\\ANT\\\\BEL_OrmeauRoad_M_20_(9).wav',\n",
       " 'C:\\\\Users\\\\peter\\\\VoxPop\\\\ANT\\\\BEL_South_M_20_(13).wav',\n",
       " 'C:\\\\Users\\\\peter\\\\VoxPop\\\\ANT\\\\BEL_South_M_20_(8).wav',\n",
       " 'C:\\\\Users\\\\peter\\\\VoxPop\\\\ANT\\\\BEL_Whitehouse_M_20_(13).wav']"
      ]
     },
     "execution_count": 21,
     "metadata": {},
     "output_type": "execute_result"
    }
   ],
   "source": [
    "filenames"
   ]
  },
  {
   "cell_type": "code",
   "execution_count": 22,
   "id": "af1bfcc5",
   "metadata": {},
   "outputs": [],
   "source": [
    "for i in filenames: \n",
    "#    names.append(re.search(r'/([^/]+)\\.wav$',i).group(1)) MacOs version\n",
    "    names.append(re.search(r'([^\\\\]+).wav$',i).group(1)) #Windows version\n"
   ]
  },
  {
   "cell_type": "code",
   "execution_count": 23,
   "id": "3b8c27c6",
   "metadata": {},
   "outputs": [
    {
     "data": {
      "text/plain": [
       "66"
      ]
     },
     "execution_count": 23,
     "metadata": {},
     "output_type": "execute_result"
    }
   ],
   "source": [
    "len(names)"
   ]
  },
  {
   "cell_type": "code",
   "execution_count": 24,
   "id": "57be6f53",
   "metadata": {},
   "outputs": [
    {
     "data": {
      "text/plain": [
       "['ANT_Antrim_R1_F_20',\n",
       " 'ANT_Antrim_R1_M_25',\n",
       " 'ANT_Antrim_R1_M_40',\n",
       " 'ANT_Ballycastle_R1_F_70',\n",
       " 'ANT_Ballycastle_R1_M_25',\n",
       " 'ANT_Ballycastle_R1_M_70',\n",
       " 'ANT_Ballycastle_R1_M_80',\n",
       " 'ANT_Ballyclare_R2_M_50',\n",
       " 'ANT_Ballyclare_R2_M_55',\n",
       " 'ANT_Ballymena_U2_F_20',\n",
       " 'ANT_Ballymena_U2_F_25',\n",
       " 'ANT_Ballymena_U2_M_20',\n",
       " 'ANT_Ballymena_U2_M_20_(2)',\n",
       " 'ANT_Ballymena_U2_M_20_(3)',\n",
       " 'ANT_Ballymoney_R1_F_20',\n",
       " 'ANT_Ballymoney_R1_F_60',\n",
       " 'ANT_Ballymoney_R1_M_30',\n",
       " 'ANT_Ballynure_R2_F_20',\n",
       " 'ANT_Bushmills_R2_M_16',\n",
       " 'ANT_Carnlough_R2_F_20',\n",
       " 'ANT_Carrickfergus_R1_F_20',\n",
       " 'ANT_Crumlin_R2_M_30',\n",
       " 'ANT_Crumlin_R2_M_50',\n",
       " 'ANT_Cullybackey_R2_M_30',\n",
       " 'ANT_Dervock_R2_M_65',\n",
       " 'ANT_Dunloy_R2_M_60',\n",
       " 'ANT_Glenarm_R2_F_20',\n",
       " 'ANT_Larne_R1_F_20',\n",
       " 'ANT_Larne_R1_M_20',\n",
       " 'ANT_Lisburn_U2_F_20',\n",
       " 'ANT_Lisburn_U2_F_20_(2)',\n",
       " 'ANT_Lisburn_U2_M_20',\n",
       " 'ANT_Newtownabbey_R1_F_20',\n",
       " 'ANT_Newtownabbey_R1_F_30',\n",
       " 'ANT_Newtownabbey_R1_M_55',\n",
       " 'ANT_Randalstown_R2_M_20',\n",
       " 'ANT_Randalstown_R2_M_25',\n",
       " 'ANT_Templepatrick_R2_M_20',\n",
       " 'ANT_Toomebridge_R2_M_30',\n",
       " 'BEL_City_F_20',\n",
       " 'BEL_City_F_20_(2)',\n",
       " 'BEL_City_F_20_(3)',\n",
       " 'BEL_City_F_20_(5)',\n",
       " 'BEL_City_M_20',\n",
       " 'BEL_City_M_20_(14)',\n",
       " 'BEL_City_M_20_(2)',\n",
       " 'BEL_City_M_20_(3)',\n",
       " 'BEL_City_M_35',\n",
       " 'BEL_City_M_40',\n",
       " 'BEL_City_M_40_(2)',\n",
       " 'BEL_Drumbeg_F_20_(6)',\n",
       " 'BEL_East_F_20_(4)',\n",
       " 'BEL_East_F_30',\n",
       " 'BEL_East_M_20_(12)',\n",
       " 'BEL_East_M_20_(4)',\n",
       " 'BEL_North_M_20_(10)',\n",
       " 'BEL_North_M_20_(11)',\n",
       " 'BEL_North_M_20_(4)',\n",
       " 'BEL_North_M_20_(5)',\n",
       " 'BEL_North_M_20_(6)',\n",
       " 'BEL_North_M_20_(7)',\n",
       " 'BEL_North_M_20_(8)',\n",
       " 'BEL_OrmeauRoad_M_20_(9)',\n",
       " 'BEL_South_M_20_(13)',\n",
       " 'BEL_South_M_20_(8)',\n",
       " 'BEL_Whitehouse_M_20_(13)']"
      ]
     },
     "execution_count": 24,
     "metadata": {},
     "output_type": "execute_result"
    }
   ],
   "source": [
    "names"
   ]
  },
  {
   "cell_type": "code",
   "execution_count": 25,
   "id": "aa33ffdb",
   "metadata": {},
   "outputs": [],
   "source": [
    "counties=[]\n",
    "towns=[]\n",
    "genders=[]\n",
    "urbanrurals=[]\n",
    "sizes=[]\n",
    "ages=[]  "
   ]
  },
  {
   "cell_type": "code",
   "execution_count": 26,
   "id": "c3d6035a",
   "metadata": {},
   "outputs": [
    {
     "name": "stdout",
     "output_type": "stream",
     "text": [
      "0 ANT_Antrim_R1_F_20\n",
      "1 ANT_Antrim_R1_M_25\n",
      "2 ANT_Antrim_R1_M_40\n",
      "3 ANT_Ballycastle_R1_F_70\n",
      "4 ANT_Ballycastle_R1_M_25\n",
      "5 ANT_Ballycastle_R1_M_70\n",
      "6 ANT_Ballycastle_R1_M_80\n",
      "7 ANT_Ballyclare_R2_M_50\n",
      "8 ANT_Ballyclare_R2_M_55\n",
      "9 ANT_Ballymena_U2_F_20\n",
      "10 ANT_Ballymena_U2_F_25\n",
      "11 ANT_Ballymena_U2_M_20\n",
      "12 ANT_Ballymena_U2_M_20_(2)\n",
      "13 ANT_Ballymena_U2_M_20_(3)\n",
      "14 ANT_Ballymoney_R1_F_20\n",
      "15 ANT_Ballymoney_R1_F_60\n",
      "16 ANT_Ballymoney_R1_M_30\n",
      "17 ANT_Ballynure_R2_F_20\n",
      "18 ANT_Bushmills_R2_M_16\n",
      "19 ANT_Carnlough_R2_F_20\n",
      "20 ANT_Carrickfergus_R1_F_20\n",
      "21 ANT_Crumlin_R2_M_30\n",
      "22 ANT_Crumlin_R2_M_50\n",
      "23 ANT_Cullybackey_R2_M_30\n",
      "24 ANT_Dervock_R2_M_65\n",
      "25 ANT_Dunloy_R2_M_60\n",
      "26 ANT_Glenarm_R2_F_20\n",
      "27 ANT_Larne_R1_F_20\n",
      "28 ANT_Larne_R1_M_20\n",
      "29 ANT_Lisburn_U2_F_20\n",
      "30 ANT_Lisburn_U2_F_20_(2)\n",
      "31 ANT_Lisburn_U2_M_20\n",
      "32 ANT_Newtownabbey_R1_F_20\n",
      "33 ANT_Newtownabbey_R1_F_30\n",
      "34 ANT_Newtownabbey_R1_M_55\n",
      "35 ANT_Randalstown_R2_M_20\n",
      "36 ANT_Randalstown_R2_M_25\n",
      "37 ANT_Templepatrick_R2_M_20\n",
      "38 ANT_Toomebridge_R2_M_30\n",
      "39 BEL_City_F_20\n",
      "40 BEL_City_F_20_(2)\n",
      "41 BEL_City_F_20_(3)\n",
      "42 BEL_City_F_20_(5)\n",
      "43 BEL_City_M_20\n",
      "44 BEL_City_M_20_(14)\n",
      "45 BEL_City_M_20_(2)\n",
      "46 BEL_City_M_20_(3)\n",
      "47 BEL_City_M_35\n",
      "48 BEL_City_M_40\n",
      "49 BEL_City_M_40_(2)\n",
      "50 BEL_Drumbeg_F_20_(6)\n",
      "51 BEL_East_F_20_(4)\n",
      "52 BEL_East_F_30\n",
      "53 BEL_East_M_20_(12)\n",
      "54 BEL_East_M_20_(4)\n",
      "55 BEL_North_M_20_(10)\n",
      "56 BEL_North_M_20_(11)\n",
      "57 BEL_North_M_20_(4)\n",
      "58 BEL_North_M_20_(5)\n",
      "59 BEL_North_M_20_(6)\n",
      "60 BEL_North_M_20_(7)\n",
      "61 BEL_North_M_20_(8)\n",
      "62 BEL_OrmeauRoad_M_20_(9)\n",
      "63 BEL_South_M_20_(13)\n",
      "64 BEL_South_M_20_(8)\n",
      "65 BEL_Whitehouse_M_20_(13)\n"
     ]
    }
   ],
   "source": [
    "pattern1 = r'(?P<county>[a-zA-Z]+)_(?P<town>[a-zA-Z-]+)_(?P<gender>[MF])_(?P<age>\\d+)'\n",
    "pattern2 = r'(?P<county>[a-zA-Z]+)_(?P<town>[a-zA-Z-]+)_(?P<urbanrural>[UR])(?P<size>[12])_(?P<gender>[MF])_(?P<age>\\d+)'\n",
    "\n",
    "h=0\n",
    "\n",
    "# Loop through the strings and extract the variables\n",
    "for string in names:\n",
    "    match1 = re.match(pattern1, string)\n",
    "    match2 = re.match(pattern2, string)\n",
    "\n",
    "    print(str(h)+\" \"+string)\n",
    "\n",
    "    if match1:\n",
    "        county = match1.group('county')\n",
    "        counties.append(county)\n",
    "        \n",
    "        town = match1.group('town')\n",
    "        towns.append(town)\n",
    "        \n",
    "        urbanrurals.append(None)\n",
    "        sizes.append(None)\n",
    "        \n",
    "        gender = match1.group('gender') \n",
    "        genders.append(gender)\n",
    "        \n",
    "        age = int(match1.group('age'))\n",
    "        ages.append(age)\n",
    "        \n",
    "    elif match2:\n",
    "        county = match2.group('county')\n",
    "        counties.append(county)\n",
    "        \n",
    "        town = match2.group('town')\n",
    "        towns.append(town)\n",
    "        \n",
    "        urbanrural = match2.group('urbanrural')  # 'U' or 'R'\n",
    "        urbanrurals.append(urbanrural)\n",
    "        \n",
    "        size=match2.group('size')\n",
    "        sizes.append(size)\n",
    "        \n",
    "        gender = match2.group('gender')  # '1' or '2'\n",
    "        genders.append(gender)\n",
    "        \n",
    "        age = int(match2.group('age'))\n",
    "        ages.append(age)\n",
    "        \n",
    "   #     print(county,town,gender,age)\n",
    "   #     print(\"\\n\")\n",
    "    h+=1\n"
   ]
  },
  {
   "cell_type": "code",
   "execution_count": 27,
   "id": "d2e4e474",
   "metadata": {
    "scrolled": true
   },
   "outputs": [
    {
     "data": {
      "text/plain": [
       "['ANT',\n",
       " 'ANT',\n",
       " 'ANT',\n",
       " 'ANT',\n",
       " 'ANT',\n",
       " 'ANT',\n",
       " 'ANT',\n",
       " 'ANT',\n",
       " 'ANT',\n",
       " 'ANT',\n",
       " 'ANT',\n",
       " 'ANT',\n",
       " 'ANT',\n",
       " 'ANT',\n",
       " 'ANT',\n",
       " 'ANT',\n",
       " 'ANT',\n",
       " 'ANT',\n",
       " 'ANT',\n",
       " 'ANT',\n",
       " 'ANT',\n",
       " 'ANT',\n",
       " 'ANT',\n",
       " 'ANT',\n",
       " 'ANT',\n",
       " 'ANT',\n",
       " 'ANT',\n",
       " 'ANT',\n",
       " 'ANT',\n",
       " 'ANT',\n",
       " 'ANT',\n",
       " 'ANT',\n",
       " 'ANT',\n",
       " 'ANT',\n",
       " 'ANT',\n",
       " 'ANT',\n",
       " 'ANT',\n",
       " 'ANT',\n",
       " 'ANT',\n",
       " 'BEL',\n",
       " 'BEL',\n",
       " 'BEL',\n",
       " 'BEL',\n",
       " 'BEL',\n",
       " 'BEL',\n",
       " 'BEL',\n",
       " 'BEL',\n",
       " 'BEL',\n",
       " 'BEL',\n",
       " 'BEL',\n",
       " 'BEL',\n",
       " 'BEL',\n",
       " 'BEL',\n",
       " 'BEL',\n",
       " 'BEL',\n",
       " 'BEL',\n",
       " 'BEL',\n",
       " 'BEL',\n",
       " 'BEL',\n",
       " 'BEL',\n",
       " 'BEL',\n",
       " 'BEL',\n",
       " 'BEL',\n",
       " 'BEL',\n",
       " 'BEL',\n",
       " 'BEL']"
      ]
     },
     "execution_count": 27,
     "metadata": {},
     "output_type": "execute_result"
    }
   ],
   "source": [
    "counties"
   ]
  },
  {
   "cell_type": "code",
   "execution_count": 28,
   "id": "2bc6bfd3",
   "metadata": {
    "scrolled": true
   },
   "outputs": [
    {
     "data": {
      "text/plain": [
       "['ANT_Antrim_R1_F_20',\n",
       " 'ANT_Antrim_R1_M_25',\n",
       " 'ANT_Antrim_R1_M_40',\n",
       " 'ANT_Ballycastle_R1_F_70',\n",
       " 'ANT_Ballycastle_R1_M_25',\n",
       " 'ANT_Ballycastle_R1_M_70',\n",
       " 'ANT_Ballycastle_R1_M_80',\n",
       " 'ANT_Ballyclare_R2_M_50',\n",
       " 'ANT_Ballyclare_R2_M_55',\n",
       " 'ANT_Ballymena_U2_F_20',\n",
       " 'ANT_Ballymena_U2_F_25',\n",
       " 'ANT_Ballymena_U2_M_20',\n",
       " 'ANT_Ballymena_U2_M_20_(2)',\n",
       " 'ANT_Ballymena_U2_M_20_(3)',\n",
       " 'ANT_Ballymoney_R1_F_20',\n",
       " 'ANT_Ballymoney_R1_F_60',\n",
       " 'ANT_Ballymoney_R1_M_30',\n",
       " 'ANT_Ballynure_R2_F_20',\n",
       " 'ANT_Bushmills_R2_M_16',\n",
       " 'ANT_Carnlough_R2_F_20',\n",
       " 'ANT_Carrickfergus_R1_F_20',\n",
       " 'ANT_Crumlin_R2_M_30',\n",
       " 'ANT_Crumlin_R2_M_50',\n",
       " 'ANT_Cullybackey_R2_M_30',\n",
       " 'ANT_Dervock_R2_M_65',\n",
       " 'ANT_Dunloy_R2_M_60',\n",
       " 'ANT_Glenarm_R2_F_20',\n",
       " 'ANT_Larne_R1_F_20',\n",
       " 'ANT_Larne_R1_M_20',\n",
       " 'ANT_Lisburn_U2_F_20',\n",
       " 'ANT_Lisburn_U2_F_20_(2)',\n",
       " 'ANT_Lisburn_U2_M_20',\n",
       " 'ANT_Newtownabbey_R1_F_20',\n",
       " 'ANT_Newtownabbey_R1_F_30',\n",
       " 'ANT_Newtownabbey_R1_M_55',\n",
       " 'ANT_Randalstown_R2_M_20',\n",
       " 'ANT_Randalstown_R2_M_25',\n",
       " 'ANT_Templepatrick_R2_M_20',\n",
       " 'ANT_Toomebridge_R2_M_30',\n",
       " 'BEL_City_F_20',\n",
       " 'BEL_City_F_20_(2)',\n",
       " 'BEL_City_F_20_(3)',\n",
       " 'BEL_City_F_20_(5)',\n",
       " 'BEL_City_M_20',\n",
       " 'BEL_City_M_20_(14)',\n",
       " 'BEL_City_M_20_(2)',\n",
       " 'BEL_City_M_20_(3)',\n",
       " 'BEL_City_M_35',\n",
       " 'BEL_City_M_40',\n",
       " 'BEL_City_M_40_(2)',\n",
       " 'BEL_Drumbeg_F_20_(6)',\n",
       " 'BEL_East_F_20_(4)',\n",
       " 'BEL_East_F_30',\n",
       " 'BEL_East_M_20_(12)',\n",
       " 'BEL_East_M_20_(4)',\n",
       " 'BEL_North_M_20_(10)',\n",
       " 'BEL_North_M_20_(11)',\n",
       " 'BEL_North_M_20_(4)',\n",
       " 'BEL_North_M_20_(5)',\n",
       " 'BEL_North_M_20_(6)',\n",
       " 'BEL_North_M_20_(7)',\n",
       " 'BEL_North_M_20_(8)',\n",
       " 'BEL_OrmeauRoad_M_20_(9)',\n",
       " 'BEL_South_M_20_(13)',\n",
       " 'BEL_South_M_20_(8)',\n",
       " 'BEL_Whitehouse_M_20_(13)']"
      ]
     },
     "execution_count": 28,
     "metadata": {},
     "output_type": "execute_result"
    }
   ],
   "source": [
    "names"
   ]
  },
  {
   "cell_type": "code",
   "execution_count": 29,
   "id": "509acaa3",
   "metadata": {
    "scrolled": true
   },
   "outputs": [
    {
     "data": {
      "text/plain": [
       "['Antrim',\n",
       " 'Antrim',\n",
       " 'Antrim',\n",
       " 'Ballycastle',\n",
       " 'Ballycastle',\n",
       " 'Ballycastle',\n",
       " 'Ballycastle',\n",
       " 'Ballyclare',\n",
       " 'Ballyclare',\n",
       " 'Ballymena',\n",
       " 'Ballymena',\n",
       " 'Ballymena',\n",
       " 'Ballymena',\n",
       " 'Ballymena',\n",
       " 'Ballymoney',\n",
       " 'Ballymoney',\n",
       " 'Ballymoney',\n",
       " 'Ballynure',\n",
       " 'Bushmills',\n",
       " 'Carnlough',\n",
       " 'Carrickfergus',\n",
       " 'Crumlin',\n",
       " 'Crumlin',\n",
       " 'Cullybackey',\n",
       " 'Dervock',\n",
       " 'Dunloy',\n",
       " 'Glenarm',\n",
       " 'Larne',\n",
       " 'Larne',\n",
       " 'Lisburn',\n",
       " 'Lisburn',\n",
       " 'Lisburn',\n",
       " 'Newtownabbey',\n",
       " 'Newtownabbey',\n",
       " 'Newtownabbey',\n",
       " 'Randalstown',\n",
       " 'Randalstown',\n",
       " 'Templepatrick',\n",
       " 'Toomebridge',\n",
       " 'City',\n",
       " 'City',\n",
       " 'City',\n",
       " 'City',\n",
       " 'City',\n",
       " 'City',\n",
       " 'City',\n",
       " 'City',\n",
       " 'City',\n",
       " 'City',\n",
       " 'City',\n",
       " 'Drumbeg',\n",
       " 'East',\n",
       " 'East',\n",
       " 'East',\n",
       " 'East',\n",
       " 'North',\n",
       " 'North',\n",
       " 'North',\n",
       " 'North',\n",
       " 'North',\n",
       " 'North',\n",
       " 'North',\n",
       " 'OrmeauRoad',\n",
       " 'South',\n",
       " 'South',\n",
       " 'Whitehouse']"
      ]
     },
     "execution_count": 29,
     "metadata": {},
     "output_type": "execute_result"
    }
   ],
   "source": [
    "towns"
   ]
  },
  {
   "cell_type": "code",
   "execution_count": 30,
   "id": "d9f4c8d9",
   "metadata": {
    "scrolled": true
   },
   "outputs": [
    {
     "data": {
      "text/plain": [
       "['R',\n",
       " 'R',\n",
       " 'R',\n",
       " 'R',\n",
       " 'R',\n",
       " 'R',\n",
       " 'R',\n",
       " 'R',\n",
       " 'R',\n",
       " 'U',\n",
       " 'U',\n",
       " 'U',\n",
       " 'U',\n",
       " 'U',\n",
       " 'R',\n",
       " 'R',\n",
       " 'R',\n",
       " 'R',\n",
       " 'R',\n",
       " 'R',\n",
       " 'R',\n",
       " 'R',\n",
       " 'R',\n",
       " 'R',\n",
       " 'R',\n",
       " 'R',\n",
       " 'R',\n",
       " 'R',\n",
       " 'R',\n",
       " 'U',\n",
       " 'U',\n",
       " 'U',\n",
       " 'R',\n",
       " 'R',\n",
       " 'R',\n",
       " 'R',\n",
       " 'R',\n",
       " 'R',\n",
       " 'R',\n",
       " None,\n",
       " None,\n",
       " None,\n",
       " None,\n",
       " None,\n",
       " None,\n",
       " None,\n",
       " None,\n",
       " None,\n",
       " None,\n",
       " None,\n",
       " None,\n",
       " None,\n",
       " None,\n",
       " None,\n",
       " None,\n",
       " None,\n",
       " None,\n",
       " None,\n",
       " None,\n",
       " None,\n",
       " None,\n",
       " None,\n",
       " None,\n",
       " None,\n",
       " None,\n",
       " None]"
      ]
     },
     "execution_count": 30,
     "metadata": {},
     "output_type": "execute_result"
    }
   ],
   "source": [
    "urbanrurals"
   ]
  },
  {
   "cell_type": "code",
   "execution_count": 31,
   "id": "a6ed748c",
   "metadata": {
    "scrolled": true
   },
   "outputs": [
    {
     "data": {
      "text/plain": [
       "['F',\n",
       " 'M',\n",
       " 'M',\n",
       " 'F',\n",
       " 'M',\n",
       " 'M',\n",
       " 'M',\n",
       " 'M',\n",
       " 'M',\n",
       " 'F',\n",
       " 'F',\n",
       " 'M',\n",
       " 'M',\n",
       " 'M',\n",
       " 'F',\n",
       " 'F',\n",
       " 'M',\n",
       " 'F',\n",
       " 'M',\n",
       " 'F',\n",
       " 'F',\n",
       " 'M',\n",
       " 'M',\n",
       " 'M',\n",
       " 'M',\n",
       " 'M',\n",
       " 'F',\n",
       " 'F',\n",
       " 'M',\n",
       " 'F',\n",
       " 'F',\n",
       " 'M',\n",
       " 'F',\n",
       " 'F',\n",
       " 'M',\n",
       " 'M',\n",
       " 'M',\n",
       " 'M',\n",
       " 'M',\n",
       " 'F',\n",
       " 'F',\n",
       " 'F',\n",
       " 'F',\n",
       " 'M',\n",
       " 'M',\n",
       " 'M',\n",
       " 'M',\n",
       " 'M',\n",
       " 'M',\n",
       " 'M',\n",
       " 'F',\n",
       " 'F',\n",
       " 'F',\n",
       " 'M',\n",
       " 'M',\n",
       " 'M',\n",
       " 'M',\n",
       " 'M',\n",
       " 'M',\n",
       " 'M',\n",
       " 'M',\n",
       " 'M',\n",
       " 'M',\n",
       " 'M',\n",
       " 'M',\n",
       " 'M']"
      ]
     },
     "execution_count": 31,
     "metadata": {},
     "output_type": "execute_result"
    }
   ],
   "source": [
    "genders"
   ]
  },
  {
   "cell_type": "code",
   "execution_count": 32,
   "id": "9d593128",
   "metadata": {
    "scrolled": true
   },
   "outputs": [
    {
     "data": {
      "text/plain": [
       "['1',\n",
       " '1',\n",
       " '1',\n",
       " '1',\n",
       " '1',\n",
       " '1',\n",
       " '1',\n",
       " '2',\n",
       " '2',\n",
       " '2',\n",
       " '2',\n",
       " '2',\n",
       " '2',\n",
       " '2',\n",
       " '1',\n",
       " '1',\n",
       " '1',\n",
       " '2',\n",
       " '2',\n",
       " '2',\n",
       " '1',\n",
       " '2',\n",
       " '2',\n",
       " '2',\n",
       " '2',\n",
       " '2',\n",
       " '2',\n",
       " '1',\n",
       " '1',\n",
       " '2',\n",
       " '2',\n",
       " '2',\n",
       " '1',\n",
       " '1',\n",
       " '1',\n",
       " '2',\n",
       " '2',\n",
       " '2',\n",
       " '2',\n",
       " None,\n",
       " None,\n",
       " None,\n",
       " None,\n",
       " None,\n",
       " None,\n",
       " None,\n",
       " None,\n",
       " None,\n",
       " None,\n",
       " None,\n",
       " None,\n",
       " None,\n",
       " None,\n",
       " None,\n",
       " None,\n",
       " None,\n",
       " None,\n",
       " None,\n",
       " None,\n",
       " None,\n",
       " None,\n",
       " None,\n",
       " None,\n",
       " None,\n",
       " None,\n",
       " None]"
      ]
     },
     "execution_count": 32,
     "metadata": {},
     "output_type": "execute_result"
    }
   ],
   "source": [
    "sizes"
   ]
  },
  {
   "cell_type": "code",
   "execution_count": 33,
   "id": "3782811a",
   "metadata": {
    "scrolled": true
   },
   "outputs": [
    {
     "data": {
      "text/plain": [
       "[20,\n",
       " 25,\n",
       " 40,\n",
       " 70,\n",
       " 25,\n",
       " 70,\n",
       " 80,\n",
       " 50,\n",
       " 55,\n",
       " 20,\n",
       " 25,\n",
       " 20,\n",
       " 20,\n",
       " 20,\n",
       " 20,\n",
       " 60,\n",
       " 30,\n",
       " 20,\n",
       " 16,\n",
       " 20,\n",
       " 20,\n",
       " 30,\n",
       " 50,\n",
       " 30,\n",
       " 65,\n",
       " 60,\n",
       " 20,\n",
       " 20,\n",
       " 20,\n",
       " 20,\n",
       " 20,\n",
       " 20,\n",
       " 20,\n",
       " 30,\n",
       " 55,\n",
       " 20,\n",
       " 25,\n",
       " 20,\n",
       " 30,\n",
       " 20,\n",
       " 20,\n",
       " 20,\n",
       " 20,\n",
       " 20,\n",
       " 20,\n",
       " 20,\n",
       " 20,\n",
       " 35,\n",
       " 40,\n",
       " 40,\n",
       " 20,\n",
       " 20,\n",
       " 30,\n",
       " 20,\n",
       " 20,\n",
       " 20,\n",
       " 20,\n",
       " 20,\n",
       " 20,\n",
       " 20,\n",
       " 20,\n",
       " 20,\n",
       " 20,\n",
       " 20,\n",
       " 20,\n",
       " 20]"
      ]
     },
     "execution_count": 33,
     "metadata": {},
     "output_type": "execute_result"
    }
   ],
   "source": [
    "ages"
   ]
  },
  {
   "cell_type": "code",
   "execution_count": 34,
   "id": "dc161154",
   "metadata": {},
   "outputs": [
    {
     "name": "stdout",
     "output_type": "stream",
     "text": [
      "66\n",
      "66\n",
      "66\n",
      "66\n",
      "66\n",
      "66\n"
     ]
    }
   ],
   "source": [
    "print(len(counties))\n",
    "print(len(towns))\n",
    "print(len(urbanrurals))\n",
    "print(len(sizes))\n",
    "print(len(genders))\n",
    "print(len(ages))"
   ]
  },
  {
   "cell_type": "code",
   "execution_count": 35,
   "id": "0381206c",
   "metadata": {},
   "outputs": [],
   "source": [
    "h=0\n",
    "for filename in filenames:\n",
    "    file_duration=sample_duration(filename)\n",
    "    file_y, file_sr= librosa.load(filename,duration=sample_duration(filename))\n",
    "    \n",
    "    if len(file_y)==0:\n",
    "        print(\"MP3 converted to WAV\\n\")\n",
    "        print(str(h))\n",
    "        file_y, file_sr=convert_MP3_to_WAV(filename)\n",
    "         \n",
    "    resample_y=librosa.resample(file_y, orig_sr=file_sr, target_sr=RESAMPLE_RATE)\n",
    "    \n",
    "    y.append(resample_y)\n",
    "    sr.append(RESAMPLE_RATE)\n",
    "    dur.append(file_duration)\n",
    "    h+=1"
   ]
  },
  {
   "cell_type": "code",
   "execution_count": 36,
   "id": "3f431a1f",
   "metadata": {},
   "outputs": [
    {
     "data": {
      "text/plain": [
       "66"
      ]
     },
     "execution_count": 36,
     "metadata": {},
     "output_type": "execute_result"
    }
   ],
   "source": [
    "len(y)"
   ]
  },
  {
   "cell_type": "code",
   "execution_count": 37,
   "id": "63aaf453",
   "metadata": {},
   "outputs": [
    {
     "data": {
      "text/plain": [
       "66"
      ]
     },
     "execution_count": 37,
     "metadata": {},
     "output_type": "execute_result"
    }
   ],
   "source": [
    "len(filenames)"
   ]
  },
  {
   "cell_type": "code",
   "execution_count": 38,
   "id": "2c5341c1",
   "metadata": {},
   "outputs": [
    {
     "data": {
      "text/plain": [
       "(2115648,)"
      ]
     },
     "execution_count": 38,
     "metadata": {},
     "output_type": "execute_result"
    }
   ],
   "source": [
    "y[0].shape"
   ]
  },
  {
   "cell_type": "code",
   "execution_count": null,
   "id": "4a2350c5-1b8c-406f-ae9f-f491209982a5",
   "metadata": {},
   "outputs": [],
   "source": []
  },
  {
   "cell_type": "code",
   "execution_count": 39,
   "id": "55f59437",
   "metadata": {
    "scrolled": true
   },
   "outputs": [
    {
     "name": "stdout",
     "output_type": "stream",
     "text": [
      "0 C:\\Users\\peter\\VoxPop\\ANT\\ANT_Antrim_R1_F_20.wav\n",
      "1 C:\\Users\\peter\\VoxPop\\ANT\\ANT_Antrim_R1_M_25.wav\n",
      "2 C:\\Users\\peter\\VoxPop\\ANT\\ANT_Antrim_R1_M_40.wav\n",
      "3 C:\\Users\\peter\\VoxPop\\ANT\\ANT_Ballycastle_R1_F_70.wav\n",
      "4 C:\\Users\\peter\\VoxPop\\ANT\\ANT_Ballycastle_R1_M_25.wav\n",
      "5 C:\\Users\\peter\\VoxPop\\ANT\\ANT_Ballycastle_R1_M_70.wav\n",
      "6 C:\\Users\\peter\\VoxPop\\ANT\\ANT_Ballycastle_R1_M_80.wav\n",
      "7 C:\\Users\\peter\\VoxPop\\ANT\\ANT_Ballyclare_R2_M_50.wav\n",
      "8 C:\\Users\\peter\\VoxPop\\ANT\\ANT_Ballyclare_R2_M_55.wav\n",
      "9 C:\\Users\\peter\\VoxPop\\ANT\\ANT_Ballymena_U2_F_20.wav\n",
      "10 C:\\Users\\peter\\VoxPop\\ANT\\ANT_Ballymena_U2_F_25.wav\n",
      "11 C:\\Users\\peter\\VoxPop\\ANT\\ANT_Ballymena_U2_M_20.wav\n",
      "12 C:\\Users\\peter\\VoxPop\\ANT\\ANT_Ballymena_U2_M_20_(2).wav\n",
      "13 C:\\Users\\peter\\VoxPop\\ANT\\ANT_Ballymena_U2_M_20_(3).wav\n",
      "14 C:\\Users\\peter\\VoxPop\\ANT\\ANT_Ballymoney_R1_F_20.wav\n",
      "15 C:\\Users\\peter\\VoxPop\\ANT\\ANT_Ballymoney_R1_F_60.wav\n",
      "16 C:\\Users\\peter\\VoxPop\\ANT\\ANT_Ballymoney_R1_M_30.wav\n",
      "17 C:\\Users\\peter\\VoxPop\\ANT\\ANT_Ballynure_R2_F_20.wav\n",
      "18 C:\\Users\\peter\\VoxPop\\ANT\\ANT_Bushmills_R2_M_16.wav\n",
      "19 C:\\Users\\peter\\VoxPop\\ANT\\ANT_Carnlough_R2_F_20.wav\n",
      "20 C:\\Users\\peter\\VoxPop\\ANT\\ANT_Carrickfergus_R1_F_20.wav\n",
      "21 C:\\Users\\peter\\VoxPop\\ANT\\ANT_Crumlin_R2_M_30.wav\n",
      "22 C:\\Users\\peter\\VoxPop\\ANT\\ANT_Crumlin_R2_M_50.wav\n",
      "23 C:\\Users\\peter\\VoxPop\\ANT\\ANT_Cullybackey_R2_M_30.wav\n",
      "24 C:\\Users\\peter\\VoxPop\\ANT\\ANT_Dervock_R2_M_65.wav\n",
      "25 C:\\Users\\peter\\VoxPop\\ANT\\ANT_Dunloy_R2_M_60.wav\n",
      "26 C:\\Users\\peter\\VoxPop\\ANT\\ANT_Glenarm_R2_F_20.wav\n",
      "27 C:\\Users\\peter\\VoxPop\\ANT\\ANT_Larne_R1_F_20.wav\n",
      "28 C:\\Users\\peter\\VoxPop\\ANT\\ANT_Larne_R1_M_20.wav\n",
      "29 C:\\Users\\peter\\VoxPop\\ANT\\ANT_Lisburn_U2_F_20.wav\n",
      "30 C:\\Users\\peter\\VoxPop\\ANT\\ANT_Lisburn_U2_F_20_(2).wav\n",
      "31 C:\\Users\\peter\\VoxPop\\ANT\\ANT_Lisburn_U2_M_20.wav\n",
      "32 C:\\Users\\peter\\VoxPop\\ANT\\ANT_Newtownabbey_R1_F_20.wav\n",
      "33 C:\\Users\\peter\\VoxPop\\ANT\\ANT_Newtownabbey_R1_F_30.wav\n",
      "34 C:\\Users\\peter\\VoxPop\\ANT\\ANT_Newtownabbey_R1_M_55.wav\n",
      "35 C:\\Users\\peter\\VoxPop\\ANT\\ANT_Randalstown_R2_M_20.wav\n",
      "36 C:\\Users\\peter\\VoxPop\\ANT\\ANT_Randalstown_R2_M_25.wav\n",
      "37 C:\\Users\\peter\\VoxPop\\ANT\\ANT_Templepatrick_R2_M_20.wav\n",
      "38 C:\\Users\\peter\\VoxPop\\ANT\\ANT_Toomebridge_R2_M_30.wav\n",
      "39 C:\\Users\\peter\\VoxPop\\ANT\\BEL_City_F_20.wav\n",
      "40 C:\\Users\\peter\\VoxPop\\ANT\\BEL_City_F_20_(2).wav\n",
      "41 C:\\Users\\peter\\VoxPop\\ANT\\BEL_City_F_20_(3).wav\n",
      "42 C:\\Users\\peter\\VoxPop\\ANT\\BEL_City_F_20_(5).wav\n",
      "43 C:\\Users\\peter\\VoxPop\\ANT\\BEL_City_M_20.wav\n",
      "44 C:\\Users\\peter\\VoxPop\\ANT\\BEL_City_M_20_(14).wav\n",
      "45 C:\\Users\\peter\\VoxPop\\ANT\\BEL_City_M_20_(2).wav\n",
      "46 C:\\Users\\peter\\VoxPop\\ANT\\BEL_City_M_20_(3).wav\n",
      "47 C:\\Users\\peter\\VoxPop\\ANT\\BEL_City_M_35.wav\n",
      "48 C:\\Users\\peter\\VoxPop\\ANT\\BEL_City_M_40.wav\n",
      "49 C:\\Users\\peter\\VoxPop\\ANT\\BEL_City_M_40_(2).wav\n",
      "50 C:\\Users\\peter\\VoxPop\\ANT\\BEL_Drumbeg_F_20_(6).wav\n",
      "51 C:\\Users\\peter\\VoxPop\\ANT\\BEL_East_F_20_(4).wav\n",
      "52 C:\\Users\\peter\\VoxPop\\ANT\\BEL_East_F_30.wav\n",
      "53 C:\\Users\\peter\\VoxPop\\ANT\\BEL_East_M_20_(12).wav\n",
      "54 C:\\Users\\peter\\VoxPop\\ANT\\BEL_East_M_20_(4).wav\n",
      "55 C:\\Users\\peter\\VoxPop\\ANT\\BEL_North_M_20_(10).wav\n",
      "56 C:\\Users\\peter\\VoxPop\\ANT\\BEL_North_M_20_(11).wav\n",
      "57 C:\\Users\\peter\\VoxPop\\ANT\\BEL_North_M_20_(4).wav\n",
      "58 C:\\Users\\peter\\VoxPop\\ANT\\BEL_North_M_20_(5).wav\n",
      "59 C:\\Users\\peter\\VoxPop\\ANT\\BEL_North_M_20_(6).wav\n",
      "60 C:\\Users\\peter\\VoxPop\\ANT\\BEL_North_M_20_(7).wav\n",
      "61 C:\\Users\\peter\\VoxPop\\ANT\\BEL_North_M_20_(8).wav\n",
      "62 C:\\Users\\peter\\VoxPop\\ANT\\BEL_OrmeauRoad_M_20_(9).wav\n",
      "63 C:\\Users\\peter\\VoxPop\\ANT\\BEL_South_M_20_(13).wav\n",
      "64 C:\\Users\\peter\\VoxPop\\ANT\\BEL_South_M_20_(8).wav\n",
      "65 C:\\Users\\peter\\VoxPop\\ANT\\BEL_Whitehouse_M_20_(13).wav\n"
     ]
    }
   ],
   "source": [
    "for i in range(0,len(filenames)):\n",
    "    print(str(i)+\" \"+filenames[i])\n",
    "    #print(y[i][0])\n",
    "   #IPython.display.display(Audio(data=y[i], rate=sr[i]))"
   ]
  },
  {
   "cell_type": "code",
   "execution_count": null,
   "id": "5e2e6141",
   "metadata": {},
   "outputs": [],
   "source": [
    "'''h=0\n",
    "for i,j,k in zip(filenames,y,sr):\n",
    "    print(str(h)+i)\n",
    "    IPython.display.display(Audio(data=i, rate=j))\n",
    "    h+=1\n",
    "'''"
   ]
  },
  {
   "cell_type": "code",
   "execution_count": 40,
   "id": "871fdfb1",
   "metadata": {
    "scrolled": true
   },
   "outputs": [
    {
     "name": "stdout",
     "output_type": "stream",
     "text": [
      "0 OK: ANT_Antrim_R1_F_20\n",
      "1 OK: ANT_Antrim_R1_M_25\n",
      "2 OK: ANT_Antrim_R1_M_40\n",
      "3 OK: ANT_Ballycastle_R1_F_70\n",
      "4 OK: ANT_Ballycastle_R1_M_25\n",
      "5 OK: ANT_Ballycastle_R1_M_70\n",
      "6 OK: ANT_Ballycastle_R1_M_80\n",
      "7 OK: ANT_Ballyclare_R2_M_50\n",
      "8 OK: ANT_Ballyclare_R2_M_55\n",
      "9 OK: ANT_Ballymena_U2_F_20\n",
      "10 OK: ANT_Ballymena_U2_F_25\n",
      "11 OK: ANT_Ballymena_U2_M_20\n",
      "12 OK: ANT_Ballymena_U2_M_20_(2)\n",
      "13 OK: ANT_Ballymena_U2_M_20_(3)\n",
      "14 OK: ANT_Ballymoney_R1_F_20\n",
      "15 OK: ANT_Ballymoney_R1_F_60\n",
      "16 OK: ANT_Ballymoney_R1_M_30\n",
      "17 OK: ANT_Ballynure_R2_F_20\n",
      "18 OK: ANT_Bushmills_R2_M_16\n",
      "19 OK: ANT_Carnlough_R2_F_20\n",
      "20 OK: ANT_Carrickfergus_R1_F_20\n",
      "21 OK: ANT_Crumlin_R2_M_30\n",
      "22 OK: ANT_Crumlin_R2_M_50\n",
      "23 OK: ANT_Cullybackey_R2_M_30\n",
      "24 OK: ANT_Dervock_R2_M_65\n",
      "25 OK: ANT_Dunloy_R2_M_60\n",
      "26 OK: ANT_Glenarm_R2_F_20\n",
      "27 OK: ANT_Larne_R1_F_20\n",
      "28 OK: ANT_Larne_R1_M_20\n",
      "29 OK: ANT_Lisburn_U2_F_20\n",
      "30 OK: ANT_Lisburn_U2_F_20_(2)\n",
      "31 OK: ANT_Lisburn_U2_M_20\n",
      "32 OK: ANT_Newtownabbey_R1_F_20\n",
      "33 OK: ANT_Newtownabbey_R1_F_30\n",
      "34 OK: ANT_Newtownabbey_R1_M_55\n",
      "35 OK: ANT_Randalstown_R2_M_20\n",
      "36 OK: ANT_Randalstown_R2_M_25\n",
      "37 OK: ANT_Templepatrick_R2_M_20\n",
      "38 OK: ANT_Toomebridge_R2_M_30\n",
      "39 OK: BEL_City_F_20\n",
      "40 OK: BEL_City_F_20_(2)\n",
      "41 OK: BEL_City_F_20_(3)\n",
      "42 OK: BEL_City_F_20_(5)\n",
      "43 OK: BEL_City_M_20\n",
      "44 OK: BEL_City_M_20_(14)\n",
      "45 OK: BEL_City_M_20_(2)\n",
      "46 OK: BEL_City_M_20_(3)\n",
      "47 OK: BEL_City_M_35\n",
      "48 OK: BEL_City_M_40\n",
      "49 OK: BEL_City_M_40_(2)\n",
      "50 OK: BEL_Drumbeg_F_20_(6)\n",
      "51 OK: BEL_East_F_20_(4)\n",
      "52 OK: BEL_East_F_30\n",
      "53 OK: BEL_East_M_20_(12)\n",
      "54 OK: BEL_East_M_20_(4)\n",
      "55 OK: BEL_North_M_20_(10)\n",
      "56 OK: BEL_North_M_20_(11)\n",
      "57 OK: BEL_North_M_20_(4)\n",
      "58 OK: BEL_North_M_20_(5)\n",
      "59 OK: BEL_North_M_20_(6)\n",
      "60 OK: BEL_North_M_20_(7)\n",
      "61 OK: BEL_North_M_20_(8)\n",
      "62 OK: BEL_OrmeauRoad_M_20_(9)\n",
      "63 OK: BEL_South_M_20_(13)\n",
      "64 OK: BEL_South_M_20_(8)\n",
      "65 OK: BEL_Whitehouse_M_20_(13)\n"
     ]
    }
   ],
   "source": [
    "#Check filenames are successfully converted to WAV\n",
    "h=-1\n",
    "for i,j,k in zip(y,sr,names):\n",
    "    h+=1\n",
    "    if len(i)==0: \n",
    "        print(\"Broken: \"+str(k))\n",
    "    else:\n",
    "        print(str(h)+\" OK: \"+str(k))\n",
    "        continue"
   ]
  },
  {
   "cell_type": "code",
   "execution_count": 41,
   "id": "40333001-e9a3-4c93-b653-d127bca55b2c",
   "metadata": {},
   "outputs": [],
   "source": [
    "samples=[]"
   ]
  },
  {
   "cell_type": "code",
   "execution_count": 42,
   "id": "fd4050ae-bde7-4b4b-a6b9-5c27005ca235",
   "metadata": {},
   "outputs": [
    {
     "data": {
      "text/plain": [
       "66"
      ]
     },
     "execution_count": 42,
     "metadata": {},
     "output_type": "execute_result"
    }
   ],
   "source": [
    "len(y)"
   ]
  },
  {
   "cell_type": "code",
   "execution_count": 43,
   "id": "dbb2019b-5612-45c4-bd0d-c3f2c4cf9848",
   "metadata": {},
   "outputs": [],
   "source": [
    "# Create samples from each recording file\n",
    "h=0\n",
    "for j in y:\n",
    "    \n",
    "    num_samples=math.floor(len(j)/(sr[h]*SAMPLE_LENGTH))\n",
    "    #print(h,names[h])\n",
    "    sample=[]\n",
    "    \n",
    "    for i in range(0,num_samples):\n",
    "        sample_start=i*sr[0]*SAMPLE_LENGTH\n",
    "        sample_end=(i+1)*sr[0]*SAMPLE_LENGTH \n",
    "        sample.append(j[sample_start:sample_end])\n",
    "        \n",
    "        #if len(sample.size==0: \n",
    "        #    sample=new_sample\n",
    "        #else: \n",
    "        #    sample=np.append(sample,[new_sample],axis=0)\n",
    "        #print(i,sample_start/sr[h],sample_end/sr[h])\n",
    "    h+=1\n",
    "    samples.append(sample)\n"
   ]
  },
  {
   "cell_type": "code",
   "execution_count": 44,
   "id": "0eb30e83-83b7-40ad-8f93-10269d48d530",
   "metadata": {},
   "outputs": [
    {
     "data": {
      "text/plain": [
       "66"
      ]
     },
     "execution_count": 44,
     "metadata": {},
     "output_type": "execute_result"
    }
   ],
   "source": [
    "len(samples)"
   ]
  },
  {
   "cell_type": "code",
   "execution_count": 45,
   "id": "93f5635f-8f17-4e3f-96fd-7168dcb8eaee",
   "metadata": {},
   "outputs": [
    {
     "data": {
      "text/plain": [
       "(22050,)"
      ]
     },
     "execution_count": 45,
     "metadata": {},
     "output_type": "execute_result"
    }
   ],
   "source": [
    "samples[0][0].shape"
   ]
  },
  {
   "cell_type": "code",
   "execution_count": 46,
   "id": "fe0ab7b3-d8a9-4d0f-b925-19f647f48229",
   "metadata": {},
   "outputs": [
    {
     "data": {
      "text/plain": [
       "<librosa.display.AdaptiveWaveplot at 0x1dcebc3c130>"
      ]
     },
     "execution_count": 46,
     "metadata": {},
     "output_type": "execute_result"
    },
    {
     "data": {
      "image/png": "[encoded data removed]",
      "text/plain": [
       "<Figure size 1500x500 with 1 Axes>"
      ]
     },
     "metadata": {},
     "output_type": "display_data"
    }
   ],
   "source": [
    "plt.figure(figsize=(15, 5))\n",
    "librosa.display.waveshow(y=samples[0][0], sr=sr[0], label=names[0],color='b')"
   ]
  },
  {
   "cell_type": "code",
   "execution_count": 47,
   "id": "185d5c34-aa4e-4af9-a984-d1211bfaafc7",
   "metadata": {},
   "outputs": [
    {
     "data": {
      "text/plain": [
       "<librosa.display.AdaptiveWaveplot at 0x1dce9b7e230>"
      ]
     },
     "execution_count": 47,
     "metadata": {},
     "output_type": "execute_result"
    },
    {
     "data": {
      "image/png": "[encoded data removed]",
      "text/plain": [
       "<Figure size 1500x500 with 1 Axes>"
      ]
     },
     "metadata": {},
     "output_type": "display_data"
    }
   ],
   "source": [
    "plt.figure(figsize=(15, 5))\n",
    "librosa.display.waveshow(y=y[0][0:22050], sr=sr[0], label=names[0],color='b')"
   ]
  },
  {
   "cell_type": "code",
   "execution_count": 48,
   "id": "ac37eb94-ad56-4c0b-9429-1a1f6c1e2b7a",
   "metadata": {},
   "outputs": [
    {
     "name": "stdout",
     "output_type": "stream",
     "text": [
      "ANT_Antrim_R1_F_20\n"
     ]
    },
    {
     "data": {
      "text/html": [
       "\n",
       "                <audio  controls=\"controls\" >\n",
       "                    <source src=\"data:audio/wav;base64,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\" type=\"audio/wav\" />\n",
       "                    Your browser does not support the audio element.\n",
       "                </audio>\n",
       "              "
      ],
      "text/plain": [
       "<IPython.lib.display.Audio object>"
      ]
     },
     "metadata": {},
     "output_type": "display_data"
    }
   ],
   "source": [
    "print(names[0])\n",
    "IPython.display.display(Audio(data=samples[0][0], rate=sr[0]))"
   ]
  },
  {
   "cell_type": "markdown",
   "id": "4085774a-49c9-4a53-a3a1-5f07602b4d37",
   "metadata": {},
   "source": [
    "### Print waveform of all input sound files"
   ]
  },
  {
   "cell_type": "code",
   "execution_count": null,
   "id": "d5a2ef5a",
   "metadata": {},
   "outputs": [],
   "source": [
    "h=0\n",
    "for i,j,k in zip(y,sr,names):\n",
    "    print(h)\n",
    "    #plt.subplot(len(y),1,h)\n",
    "    librosa.display.waveshow(y=i, sr=j, label=k,color='b')\n",
    "    plt.legend()\n",
    "    plt.show()\n",
    "    h+=1"
   ]
  },
  {
   "cell_type": "code",
   "execution_count": null,
   "id": "0aced23b-9f0a-4eee-ab55-edffeeb57118",
   "metadata": {},
   "outputs": [],
   "source": [
    "mfccs = librosa.feature.mfcc(y=samples[0][0], sr=sr[0], n_mfcc=30)\n",
    "print(mfccs.shape)\n",
    "\n",
    "plt.figure(figsize=(10, 5))\n",
    "librosa.display.specshow(mfccs, sr=sr[0], x_axis='time',y_axis=\"mel\")\n",
    "plt.show()"
   ]
  },
  {
   "cell_type": "code",
   "execution_count": null,
   "id": "aa6798ba",
   "metadata": {},
   "outputs": [],
   "source": [
    "Ydb=[]"
   ]
  },
  {
   "cell_type": "code",
   "execution_count": null,
   "id": "cf7608eb",
   "metadata": {},
   "outputs": [],
   "source": [
    "# graph power for every single input file \n",
    "h=0\n",
    "for i,j,k in zip(y,sr,names):\n",
    "    #plt.subplot(len(i),1,h)\n",
    "    Y=librosa.stft(i)\n",
    "    Ydb.append(librosa.amplitude_to_db(abs(Y)))\n",
    "    librosa.display.specshow(Ydb[-1], sr=j, x_axis=\"time\", y_axis=\"mel\")\n",
    "    plt.colorbar()\n",
    "    print(str(h)+\" \"+k)\n",
    "    plt.title(k)\n",
    "    plt.figure(figsize=(7, 2.5))\n",
    "    plt.show()\n",
    "    h+=1"
   ]
  },
  {
   "cell_type": "code",
   "execution_count": null,
   "id": "b8ea70c2",
   "metadata": {},
   "outputs": [],
   "source": [
    "len(Ydb)"
   ]
  },
  {
   "cell_type": "code",
   "execution_count": null,
   "id": "6d6c9a3a",
   "metadata": {},
   "outputs": [],
   "source": [
    "Ydb[0].shape"
   ]
  },
  {
   "cell_type": "code",
   "execution_count": null,
   "id": "77e516c1",
   "metadata": {},
   "outputs": [],
   "source": [
    "\"\"\"\n",
    "Y = librosa.stft(y[0])\n",
    "Ydb = librosa.amplitude_to_db(abs(Y))\n",
    "plt.figure(figsize=(14, 5))\n",
    "librosa.display.specshow(Ydb, sr=sr[0], x_axis=\"time\", y_axis=\"hz\")\n",
    "plt.colorbar()\n",
    "plt.show()    \n",
    "\"\"\" "
   ]
  },
  {
   "cell_type": "markdown",
   "id": "7b3295db-c2bc-4f54-9495-82b3273fef67",
   "metadata": {},
   "source": [
    "## Calculate Features"
   ]
  },
  {
   "cell_type": "code",
   "execution_count": 49,
   "id": "bd3dd5e9",
   "metadata": {},
   "outputs": [],
   "source": [
    "Ydb=[]\n",
    "mfcc=[]\n",
    "mfcc_delta=[]\n",
    "mfcc_delta_2=[]\n",
    "sample_file_names=[]"
   ]
  },
  {
   "cell_type": "code",
   "execution_count": 50,
   "id": "729b7499-768b-4698-b965-55de0ba0ab1c",
   "metadata": {},
   "outputs": [],
   "source": [
    "#Calculate features for each sample by iteration through the samples; add each to a master list\n",
    "h=0\n",
    "for i in samples:\n",
    "    for j in i:\n",
    "        Y=librosa.stft(j)\n",
    "        Ydb.append(librosa.amplitude_to_db(abs(Y)))\n",
    "        mfcc.append(librosa.feature.mfcc(y=j, sr=sr[h]))\n",
    "        mfcc_delta.append(librosa.feature.delta(mfcc[-1]))\n",
    "        mfcc_delta_2.append(librosa.feature.delta(mfcc[-1], order=2))\n",
    "\n",
    "    h+=1        "
   ]
  },
  {
   "cell_type": "code",
   "execution_count": 51,
   "id": "1afd4bb1-c0b8-45de-9ecd-4b5479d66dbf",
   "metadata": {},
   "outputs": [
    {
     "name": "stdout",
     "output_type": "stream",
     "text": [
      "6494\n",
      "(1025, 44)\n"
     ]
    }
   ],
   "source": [
    "print(len(Ydb))\n",
    "print(Ydb[0].shape)"
   ]
  },
  {
   "cell_type": "markdown",
   "id": "d5740f1c-7e4e-44e4-be72-db09e91fe687",
   "metadata": {},
   "source": [
    "### Iterate through the recordings and save the samples"
   ]
  },
  {
   "cell_type": "code",
   "execution_count": 52,
   "id": "6deb66fb-beb5-485d-b231-30ee4c3497cc",
   "metadata": {},
   "outputs": [],
   "source": [
    "# iterate through the recordings and save them \n",
    "\n",
    "h=0\n",
    "for i in range(0,len(samples)):\n",
    "    for j in range(0,len(samples[i])):\n",
    "        sample_file_names.append(names[i]+\"_Rec_\"+str(i)+\"_Sample_\"+str(j)+\".wav\")\n",
    "        #print(sample_file_names[h])\n",
    "        sf.write(SAMPLE_OUTPUT_DIRECTORY+sample_file_names[h], samples[i][j], sr[i], subtype='PCM_24')\n",
    "        h+=1\n"
   ]
  },
  {
   "cell_type": "code",
   "execution_count": 53,
   "id": "4a1083b0-6657-403f-b2fa-f038826cd089",
   "metadata": {},
   "outputs": [
    {
     "data": {
      "text/plain": [
       "'\\n# Calculate the features by recording, iterating through the recordings\\nfor i,j in zip(samples,sr):\\n    mfcc.append(librosa.feature.mfcc(y=i, sr=j))\\n    mfcc_delta.append(librosa.feature.delta(mfcc[-1]))\\n    mfcc_delta_2.append(librosa.feature.delta(mfcc[-1], order=2))\\n'"
      ]
     },
     "execution_count": 53,
     "metadata": {},
     "output_type": "execute_result"
    }
   ],
   "source": [
    "'''\n",
    "# Calculate the features by recording, iterating through the recordings\n",
    "for i,j in zip(samples,sr):\n",
    "    mfcc.append(librosa.feature.mfcc(y=i, sr=j))\n",
    "    mfcc_delta.append(librosa.feature.delta(mfcc[-1]))\n",
    "    mfcc_delta_2.append(librosa.feature.delta(mfcc[-1], order=2))\n",
    "'''"
   ]
  },
  {
   "cell_type": "code",
   "execution_count": 55,
   "id": "2e30a138",
   "metadata": {},
   "outputs": [
    {
     "name": "stdout",
     "output_type": "stream",
     "text": [
      "6494\n",
      "6494\n",
      "6494\n",
      "6494\n",
      "6494\n"
     ]
    }
   ],
   "source": [
    "print(len(Ydb))\n",
    "print(len(mfcc))\n",
    "print(len(mfcc_delta))\n",
    "print(len(mfcc_delta_2))\n",
    "print(len(Ydb))"
   ]
  },
  {
   "cell_type": "markdown",
   "id": "a5508564-f5f5-4eb8-9f35-0126dfdc77ae",
   "metadata": {},
   "source": [
    "## Graph features by recording"
   ]
  },
  {
   "cell_type": "code",
   "execution_count": null,
   "id": "26b2abdc",
   "metadata": {},
   "outputs": [],
   "source": [
    "# Graph the feature for each recording\n",
    "h=1\n",
    "for i,j,k in zip(y,sr,names):\n",
    "    #plt.subplot(len(i),1,h)\n",
    "    #Y=librosa.stft(i)\n",
    "    #Ydb.append(librosa.amplitude_to_db(abs(Y)))\n",
    "    print(str(h)+\": \"+k)\n",
    "    librosa.display.specshow(mfcc[h-1], sr=j, x_axis=\"time\", y_axis=\"mel\")\n",
    "    plt.colorbar()\n",
    "    plt.title(k+\" \"+r'MFCC')\n",
    "    plt.figure(figsize=(14, 5))\n",
    "    plt.show()\n",
    "    h+=1"
   ]
  },
  {
   "cell_type": "code",
   "execution_count": null,
   "id": "115dfb90",
   "metadata": {
    "scrolled": true
   },
   "outputs": [],
   "source": [
    "# Graph the feature for each recording\n",
    "h=1\n",
    "for i,j,k in zip(y,sr,names):\n",
    "    #plt.subplot(len(i),1,h)\n",
    "    #Y=librosa.stft(i)\n",
    "    #Ydb.append(librosa.amplitude_to_db(abs(Y)))\n",
    "    librosa.display.specshow(mfcc_delta[h-1], sr=j, x_axis=\"time\", y_axis=\"mel\")\n",
    "    plt.colorbar()\n",
    "    print(str(h)+\": \"+k)\n",
    "    plt.title(k+\" \"+r'MFCC-$\\Delta$')\n",
    "    plt.figure(figsize=(14, 5))\n",
    "    plt.show()\n",
    "    h+=1"
   ]
  },
  {
   "cell_type": "code",
   "execution_count": null,
   "id": "645ef07c",
   "metadata": {
    "scrolled": true
   },
   "outputs": [],
   "source": [
    "# Graph the feature for each recording\n",
    "h=1\n",
    "for i,j,k in zip(y,sr,names):\n",
    "    #plt.subplot(len(i),1,h)\n",
    "    Y=librosa.stft(i)\n",
    "    #Ydb.append(librosa.amplitude_to_db(abs(Y)))\n",
    "    librosa.display.specshow(mfcc_delta_2[h-1], sr=j, x_axis=\"time\", y_axis=\"mel\")\n",
    "    plt.colorbar()\n",
    "    print(str(h)+\": \"+k)\n",
    "    plt.title(k+\" \"+r'MFCC-$\\Delta^2$')\n",
    "    plt.figure(figsize=(14, 5))\n",
    "    plt.show()\n",
    "    h+=1"
   ]
  },
  {
   "cell_type": "markdown",
   "id": "ddefb611-dcc8-47bf-b642-0593a8d218d6",
   "metadata": {},
   "source": [
    "## Define and export the DataFrame of Samples and their Characteristics"
   ]
  },
  {
   "cell_type": "code",
   "execution_count": 56,
   "id": "6c675fc2",
   "metadata": {},
   "outputs": [
    {
     "name": "stdout",
     "output_type": "stream",
     "text": [
      "66\n",
      "66\n",
      "66\n",
      "66\n",
      "66\n",
      "6494\n",
      "6494\n",
      "6494\n",
      "6494\n"
     ]
    }
   ],
   "source": [
    "print(len(filenames))\n",
    "print(len(names))\n",
    "print(len(dur))\n",
    "print(len(y))\n",
    "print(len(sr))\n",
    "print(len(Ydb))\n",
    "print(len(mfcc))\n",
    "print(len(mfcc_delta))\n",
    "print(len(mfcc_delta_2))"
   ]
  },
  {
   "cell_type": "code",
   "execution_count": 57,
   "id": "0826e43e",
   "metadata": {},
   "outputs": [
    {
     "ename": "NameError",
     "evalue": "name 'df' is not defined",
     "output_type": "error",
     "traceback": [
      "\u001b[1;31m---------------------------------------------------------------------------\u001b[0m",
      "\u001b[1;31mNameError\u001b[0m                                 Traceback (most recent call last)",
      "Cell \u001b[1;32mIn[57], line 1\u001b[0m\n\u001b[1;32m----> 1\u001b[0m \u001b[38;5;28;01mdel\u001b[39;00m(df)\n",
      "\u001b[1;31mNameError\u001b[0m: name 'df' is not defined"
     ]
    }
   ],
   "source": [
    "del(df)"
   ]
  },
  {
   "cell_type": "code",
   "execution_count": 58,
   "id": "1e36636a-4647-41f6-8141-c30d180151a2",
   "metadata": {},
   "outputs": [],
   "source": [
    "df_columns=[\n",
    "    \"filenames\",\"names\",\"counties\",\"towns\",\"urbanrural\",\"size\",\"genders\",\"ages\",\"dur\",\"recording num\",\"sample num\",\"sample file name\",\"sample\",\"Ydb\",\"sr\",\"mfcc\",\"mfcc_delta\",\"mfcc_delta_2\"\n",
    "]"
   ]
  },
  {
   "cell_type": "code",
   "execution_count": 60,
   "id": "76fdef11-7bf4-4fae-ad17-9d6126d9019f",
   "metadata": {},
   "outputs": [],
   "source": [
    "df=pd.DataFrame(columns=df_columns)"
   ]
  },
  {
   "cell_type": "code",
   "execution_count": 61,
   "id": "aa525e77-6a2c-401d-ad0b-317d3003ff63",
   "metadata": {},
   "outputs": [
    {
     "data": {
      "text/html": [
       "<div>\n",
       "<style scoped>\n",
       "    .dataframe tbody tr th:only-of-type {\n",
       "        vertical-align: middle;\n",
       "    }\n",
       "\n",
       "    .dataframe tbody tr th {\n",
       "        vertical-align: top;\n",
       "    }\n",
       "\n",
       "    .dataframe thead th {\n",
       "        text-align: right;\n",
       "    }\n",
       "</style>\n",
       "<table border=\"1\" class=\"dataframe\">\n",
       "  <thead>\n",
       "    <tr style=\"text-align: right;\">\n",
       "      <th></th>\n",
       "      <th>filenames</th>\n",
       "      <th>names</th>\n",
       "      <th>counties</th>\n",
       "      <th>towns</th>\n",
       "      <th>urbanrural</th>\n",
       "      <th>size</th>\n",
       "      <th>genders</th>\n",
       "      <th>ages</th>\n",
       "      <th>dur</th>\n",
       "      <th>recording num</th>\n",
       "      <th>sample num</th>\n",
       "      <th>sample file name</th>\n",
       "      <th>sample</th>\n",
       "      <th>Ydb</th>\n",
       "      <th>sr</th>\n",
       "      <th>mfcc</th>\n",
       "      <th>mfcc_delta</th>\n",
       "      <th>mfcc_delta_2</th>\n",
       "    </tr>\n",
       "  </thead>\n",
       "  <tbody>\n",
       "  </tbody>\n",
       "</table>\n",
       "</div>"
      ],
      "text/plain": [
       "Empty DataFrame\n",
       "Columns: [filenames, names, counties, towns, urbanrural, size, genders, ages, dur, recording num, sample num, sample file name, sample, Ydb, sr, mfcc, mfcc_delta, mfcc_delta_2]\n",
       "Index: []"
      ]
     },
     "execution_count": 61,
     "metadata": {},
     "output_type": "execute_result"
    }
   ],
   "source": [
    "df[80:84]"
   ]
  },
  {
   "cell_type": "code",
   "execution_count": 62,
   "id": "de3c0677-6552-4ac1-8a53-dbe38fd449a9",
   "metadata": {},
   "outputs": [
    {
     "name": "stderr",
     "output_type": "stream",
     "text": [
      "C:\\Users\\peter\\AppData\\Local\\Temp\\ipykernel_12332\\4282055374.py:23: FutureWarning: The behavior of DataFrame concatenation with empty or all-NA entries is deprecated. In a future version, this will no longer exclude empty or all-NA columns when determining the result dtypes. To retain the old behavior, exclude the relevant entries before the concat operation.\n",
      "  df = pd.concat([df,insert_row],ignore_index=True)\n"
     ]
    }
   ],
   "source": [
    "h=0\n",
    "for i in range(0,len(samples)):\n",
    "    for j in range(0,len(samples[i])):\n",
    "        #insert_row=pd.DataFrame([{\"filenames\":i,\"names\":j}])\n",
    "        insert_row= pd.DataFrame([{\"filenames\":filenames[i], \n",
    "                      \"names\":names[i],\n",
    "                      \"counties\":counties[i],\n",
    "                      \"towns\":towns[i],\n",
    "                      \"urbanrural\":urbanrurals[i],\n",
    "                      'size':sizes[i],\n",
    "                      'genders':genders[i],\n",
    "                      'ages':ages[i],\n",
    "                      'dur':dur[i],\n",
    "                      'recording num':i,\n",
    "                      'sample num':j,\n",
    "                      'sample file name':sample_file_names[h],\n",
    "                      'sample': samples[i][j],\n",
    "                      'Ydb': Ydb[h],\n",
    "                      'sr': sr[i],\n",
    "                      'mfcc': mfcc[h],\n",
    "                      'mfcc_delta': mfcc_delta[h],\n",
    "                      'mfcc_delta_2': mfcc_delta_2[h]}])\n",
    "        df = pd.concat([df,insert_row],ignore_index=True)\n",
    "        h+=1"
   ]
  },
  {
   "cell_type": "code",
   "execution_count": 63,
   "id": "aa4f9a53-d148-4cfb-bcc4-9b913d91b39a",
   "metadata": {},
   "outputs": [
    {
     "data": {
      "text/plain": [
       "116892"
      ]
     },
     "execution_count": 63,
     "metadata": {},
     "output_type": "execute_result"
    }
   ],
   "source": [
    "df.size"
   ]
  },
  {
   "cell_type": "code",
   "execution_count": 64,
   "id": "d75950e7-6d0d-4094-bbd9-38c7f0e6bc45",
   "metadata": {},
   "outputs": [
    {
     "data": {
      "text/html": [
       "<div>\n",
       "<style scoped>\n",
       "    .dataframe tbody tr th:only-of-type {\n",
       "        vertical-align: middle;\n",
       "    }\n",
       "\n",
       "    .dataframe tbody tr th {\n",
       "        vertical-align: top;\n",
       "    }\n",
       "\n",
       "    .dataframe thead th {\n",
       "        text-align: right;\n",
       "    }\n",
       "</style>\n",
       "<table border=\"1\" class=\"dataframe\">\n",
       "  <thead>\n",
       "    <tr style=\"text-align: right;\">\n",
       "      <th></th>\n",
       "      <th>filenames</th>\n",
       "      <th>names</th>\n",
       "      <th>counties</th>\n",
       "      <th>towns</th>\n",
       "      <th>urbanrural</th>\n",
       "      <th>size</th>\n",
       "      <th>genders</th>\n",
       "      <th>ages</th>\n",
       "      <th>dur</th>\n",
       "      <th>recording num</th>\n",
       "      <th>sample num</th>\n",
       "      <th>sample file name</th>\n",
       "      <th>sample</th>\n",
       "      <th>Ydb</th>\n",
       "      <th>sr</th>\n",
       "      <th>mfcc</th>\n",
       "      <th>mfcc_delta</th>\n",
       "      <th>mfcc_delta_2</th>\n",
       "    </tr>\n",
       "  </thead>\n",
       "  <tbody>\n",
       "    <tr>\n",
       "      <th>80</th>\n",
       "      <td>C:\\Users\\peter\\VoxPop\\ANT\\ANT_Antrim_R1_F_20.wav</td>\n",
       "      <td>ANT_Antrim_R1_F_20</td>\n",
       "      <td>ANT</td>\n",
       "      <td>Antrim</td>\n",
       "      <td>R</td>\n",
       "      <td>1</td>\n",
       "      <td>F</td>\n",
       "      <td>20</td>\n",
       "      <td>95.95</td>\n",
       "      <td>0</td>\n",
       "      <td>80</td>\n",
       "      <td>ANT_Antrim_R1_F_20_Rec_0_Sample_80.wav</td>\n",
       "      <td>[-0.005446762, -0.0066472366, -0.0064038895, -...</td>\n",
       "      <td>[[-9.844185, -12.774447, -13.34241, -12.043291...</td>\n",
       "      <td>22050</td>\n",
       "      <td>[[-202.93607, -91.67953, -94.67605, -149.91838...</td>\n",
       "      <td>[[-19.393772, -19.393772, -19.393772, -19.3937...</td>\n",
       "      <td>[[-14.591207, -14.591207, -14.591207, -14.5912...</td>\n",
       "    </tr>\n",
       "    <tr>\n",
       "      <th>81</th>\n",
       "      <td>C:\\Users\\peter\\VoxPop\\ANT\\ANT_Antrim_R1_F_20.wav</td>\n",
       "      <td>ANT_Antrim_R1_F_20</td>\n",
       "      <td>ANT</td>\n",
       "      <td>Antrim</td>\n",
       "      <td>R</td>\n",
       "      <td>1</td>\n",
       "      <td>F</td>\n",
       "      <td>20</td>\n",
       "      <td>95.95</td>\n",
       "      <td>0</td>\n",
       "      <td>81</td>\n",
       "      <td>ANT_Antrim_R1_F_20_Rec_0_Sample_81.wav</td>\n",
       "      <td>[-0.006133534, -0.00463512, -0.0019354858, -0....</td>\n",
       "      <td>[[-18.491436, -28.119572, -28.188408, -29.2526...</td>\n",
       "      <td>22050</td>\n",
       "      <td>[[-367.80045, -330.25327, -325.34702, -316.495...</td>\n",
       "      <td>[[-0.046417747, -0.046417747, -0.046417747, -0...</td>\n",
       "      <td>[[-6.3501725, -6.3501725, -6.3501725, -6.35017...</td>\n",
       "    </tr>\n",
       "  </tbody>\n",
       "</table>\n",
       "</div>"
      ],
      "text/plain": [
       "                                           filenames               names  \\\n",
       "80  C:\\Users\\peter\\VoxPop\\ANT\\ANT_Antrim_R1_F_20.wav  ANT_Antrim_R1_F_20   \n",
       "81  C:\\Users\\peter\\VoxPop\\ANT\\ANT_Antrim_R1_F_20.wav  ANT_Antrim_R1_F_20   \n",
       "\n",
       "   counties   towns urbanrural size genders ages    dur recording num  \\\n",
       "80      ANT  Antrim          R    1       F   20  95.95             0   \n",
       "81      ANT  Antrim          R    1       F   20  95.95             0   \n",
       "\n",
       "   sample num                        sample file name  \\\n",
       "80         80  ANT_Antrim_R1_F_20_Rec_0_Sample_80.wav   \n",
       "81         81  ANT_Antrim_R1_F_20_Rec_0_Sample_81.wav   \n",
       "\n",
       "                                               sample  \\\n",
       "80  [-0.005446762, -0.0066472366, -0.0064038895, -...   \n",
       "81  [-0.006133534, -0.00463512, -0.0019354858, -0....   \n",
       "\n",
       "                                                  Ydb     sr  \\\n",
       "80  [[-9.844185, -12.774447, -13.34241, -12.043291...  22050   \n",
       "81  [[-18.491436, -28.119572, -28.188408, -29.2526...  22050   \n",
       "\n",
       "                                                 mfcc  \\\n",
       "80  [[-202.93607, -91.67953, -94.67605, -149.91838...   \n",
       "81  [[-367.80045, -330.25327, -325.34702, -316.495...   \n",
       "\n",
       "                                           mfcc_delta  \\\n",
       "80  [[-19.393772, -19.393772, -19.393772, -19.3937...   \n",
       "81  [[-0.046417747, -0.046417747, -0.046417747, -0...   \n",
       "\n",
       "                                         mfcc_delta_2  \n",
       "80  [[-14.591207, -14.591207, -14.591207, -14.5912...  \n",
       "81  [[-6.3501725, -6.3501725, -6.3501725, -6.35017...  "
      ]
     },
     "execution_count": 64,
     "metadata": {},
     "output_type": "execute_result"
    }
   ],
   "source": [
    "df[80:82]"
   ]
  },
  {
   "cell_type": "code",
   "execution_count": null,
   "id": "284678d4-b9cc-4ed4-b1ca-91237b80ab9d",
   "metadata": {},
   "outputs": [],
   "source": [
    "'''\n",
    "# DataFrame defintion by recording\n",
    "\n",
    "df=pd.DataFrame(\n",
    "    \"filenames\": filenames,\n",
    "    \"names\": names,\n",
    "    \"counties\": counties,\n",
    "    \"towns\": towns,\n",
    "    \"urbanrural\": urbanrurals,\n",
    "    \"size\": sizes,\n",
    "    \"genders\": genders,\n",
    "    \"ages\": ages,\n",
    "    \"dur\":dur,\n",
    "    \"y\":y,\n",
    "    \"Ydb\":Ydb,\n",
    "    \"sr\":RESAMPLE_RATE,\n",
    "    \"mfcc\":mfcc,\n",
    "    \"mfcc_delta\":mfcc_delta,\n",
    "    \"mfcc_delta_2\":mfcc_delta_2\n",
    "'''"
   ]
  },
  {
   "cell_type": "code",
   "execution_count": 65,
   "id": "cad8c501",
   "metadata": {},
   "outputs": [
    {
     "data": {
      "text/plain": [
       "(6494, 18)"
      ]
     },
     "execution_count": 65,
     "metadata": {},
     "output_type": "execute_result"
    }
   ],
   "source": [
    "df.shape"
   ]
  },
  {
   "cell_type": "code",
   "execution_count": 66,
   "id": "7d77664f",
   "metadata": {},
   "outputs": [
    {
     "name": "stdout",
     "output_type": "stream",
     "text": [
      "[-3.2596290e-09 -1.9790605e-09 -1.8626451e-09 ...  3.2416232e-02\n",
      "  9.7716980e-02 -1.6670101e-03]\n"
     ]
    }
   ],
   "source": [
    "print(df['sample'].iloc[0])"
   ]
  },
  {
   "cell_type": "code",
   "execution_count": 67,
   "id": "69cbc373",
   "metadata": {},
   "outputs": [
    {
     "data": {
      "text/plain": [
       "(22050,)"
      ]
     },
     "execution_count": 67,
     "metadata": {},
     "output_type": "execute_result"
    }
   ],
   "source": [
    "df['sample'].iloc[0].shape"
   ]
  },
  {
   "cell_type": "code",
   "execution_count": 68,
   "id": "b5a468e9",
   "metadata": {},
   "outputs": [
    {
     "data": {
      "text/plain": [
       "(20, 44)"
      ]
     },
     "execution_count": 68,
     "metadata": {},
     "output_type": "execute_result"
    }
   ],
   "source": [
    "df['mfcc'].iloc[0].shape"
   ]
  },
  {
   "cell_type": "code",
   "execution_count": 73,
   "id": "a51d111d",
   "metadata": {},
   "outputs": [],
   "source": [
    "df.to_csv(date_time_variable+\"_\"+DATASET_NAME+'_features.csv')"
   ]
  },
  {
   "cell_type": "code",
   "execution_count": 71,
   "id": "9853b5d2",
   "metadata": {},
   "outputs": [
    {
     "data": {
      "text/plain": [
       "'DUB'"
      ]
     },
     "execution_count": 71,
     "metadata": {},
     "output_type": "execute_result"
    }
   ],
   "source": []
  },
  {
   "cell_type": "code",
   "execution_count": null,
   "id": "8330e158",
   "metadata": {},
   "outputs": [],
   "source": []
  }
 ],
 "metadata": {
  "kernelspec": {
   "display_name": "Python 3 (ipykernel)",
   "language": "python",
   "name": "python3"
  },
  "language_info": {
   "codemirror_mode": {
    "name": "ipython",
    "version": 3
   },
   "file_extension": ".py",
   "mimetype": "text/x-python",
   "name": "python",
   "nbconvert_exporter": "python",
   "pygments_lexer": "ipython3",
   "version": "3.10.13"
  }
 },
 "nbformat": 4,
 "nbformat_minor": 5
}
