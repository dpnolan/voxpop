{
 "cells": [
  {
   "cell_type": "markdown",
   "id": "de037ff4-f5da-4eaf-9784-dfa7e9d3784e",
   "metadata": {},
   "source": [
    "# 3.2 Neural Network Multi-Layer Perceptron Model"
   ]
  },
  {
   "cell_type": "markdown",
   "id": "7cdb0be2-c347-42c4-b9d7-c8b74c797392",
   "metadata": {},
   "source": [
    "kernel = audio8_2_tf \\\n",
    "audio8_2_tf_requirements.txt"
   ]
  },
  {
   "cell_type": "markdown",
   "id": "b42b10f2-345f-4ef6-8cf7-3bef06ee8ff7",
   "metadata": {},
   "source": [
    "Structure largely follows Keras examples \n",
    "* https://github.com/tensorflow/docs/blob/master/site/en/tutorials/keras/classification.ipynb"
   ]
  },
  {
   "cell_type": "markdown",
   "id": "3646608b-6b15-4025-a9a6-7f4130c2fd90",
   "metadata": {},
   "source": [
    "## To Run\n"
   ]
  },
  {
   "cell_type": "markdown",
   "id": "c501616d-901a-4aee-9e56-776ac8f3e614",
   "metadata": {},
   "source": [
    "## Changes\n",
    "* 8 Fixed hyperparameter tuning on MLP \n",
    "* 7 Add the CNN model, refactored,from PyTorch to TensorFlow\n",
    "* 6 Automated hyperparameter estimation on MLP\n",
    "* 5 Added the gender and age categorical variables as inputs\n",
    "* 4 Added other MFCC metrics as numerical features from my preprocess script\n",
    "* 3 added MFCC from my preprocessing scripts, added classification and class-imbalance metrics and performance improved to 80%+ accuracy\n",
    "* 2 used MFCC calculated from the SAIE dataset from the method given in the script\n"
   ]
  },
  {
   "cell_type": "code",
   "execution_count": 1,
   "id": "f0361c0f-638f-41b5-9b03-282fe4d52c80",
   "metadata": {},
   "outputs": [],
   "source": [
    "import tensorflow as tf\n",
    "from tensorflow import keras\n",
    "from keras import layers\n",
    "\n",
    "# from tensorflow.keras.models import Sequential\n",
    "# from tensorflow.keras.layers import Conv2D, MaxPooling2D, Flatten, Dense"
   ]
  },
  {
   "cell_type": "code",
   "execution_count": 2,
   "id": "614857c5-82e1-4d77-a2b2-f1a9da28365e",
   "metadata": {},
   "outputs": [
    {
     "data": {
      "text/plain": [
       "'2.17.0'"
      ]
     },
     "execution_count": 2,
     "metadata": {},
     "output_type": "execute_result"
    }
   ],
   "source": [
    "tf.__version__"
   ]
  },
  {
   "cell_type": "code",
   "execution_count": 3,
   "id": "f989cbc8-bd3e-45c1-a77e-eacc995e4b16",
   "metadata": {},
   "outputs": [
    {
     "name": "stderr",
     "output_type": "stream",
     "text": [
      "C:\\Users\\GGMachines_Gaming\\.conda\\envs\\audio8_2_tf\\lib\\site-packages\\pydub\\utils.py:170: RuntimeWarning: Couldn't find ffmpeg or avconv - defaulting to ffmpeg, but may not work\n",
      "  warn(\"Couldn't find ffmpeg or avconv - defaulting to ffmpeg, but may not work\", RuntimeWarning)\n"
     ]
    }
   ],
   "source": [
    "import librosa\n",
    "from pydub import AudioSegment\n",
    "import soundfile as sf\n",
    "import ffmpeg\n",
    "from IPython.display import Audio"
   ]
  },
  {
   "cell_type": "code",
   "execution_count": 4,
   "id": "38a98d5d-01c6-4264-9ae3-5c46f4380ad9",
   "metadata": {},
   "outputs": [],
   "source": [
    "import pandas as pd\n",
    "import numpy as np\n",
    "import os"
   ]
  },
  {
   "cell_type": "code",
   "execution_count": 5,
   "id": "f5cdd42a-417d-464c-b764-5851ac1cbbfd",
   "metadata": {},
   "outputs": [],
   "source": [
    "from sklearn.preprocessing import StandardScaler\n",
    "from sklearn.model_selection import train_test_split\n",
    "from sklearn.utils.class_weight import compute_class_weight\n",
    "from sklearn.metrics import confusion_matrix, roc_auc_score, roc_curve, auc\n",
    "from sklearn.metrics import accuracy_score, precision_score, recall_score, f1_score"
   ]
  },
  {
   "cell_type": "code",
   "execution_count": 6,
   "id": "17d95129-96a1-449d-abc1-419802691aec",
   "metadata": {},
   "outputs": [],
   "source": [
    "import matplotlib.pyplot as plt\n",
    "import seaborn as sns"
   ]
  },
  {
   "cell_type": "code",
   "execution_count": 7,
   "id": "98e50224-9770-4458-9418-adef41ea77ff",
   "metadata": {},
   "outputs": [
    {
     "data": {
      "text/plain": [
       "'0.10.2.post1'"
      ]
     },
     "execution_count": 7,
     "metadata": {},
     "output_type": "execute_result"
    }
   ],
   "source": [
    "librosa.__version__"
   ]
  },
  {
   "cell_type": "code",
   "execution_count": 8,
   "id": "ad2efd76-a70f-48d0-a75f-a3cf67180b3d",
   "metadata": {},
   "outputs": [],
   "source": [
    "import keras_tuner as kt"
   ]
  },
  {
   "cell_type": "markdown",
   "id": "78a701ec-a6e2-4b31-b945-f4f46f7ecabb",
   "metadata": {},
   "source": [
    "## File inputs and GLOBAL VARIABLES"
   ]
  },
  {
   "cell_type": "code",
   "execution_count": 9,
   "id": "baa29e2f-06c9-4b8b-a4da-03342b0bb8ff",
   "metadata": {},
   "outputs": [],
   "source": [
    "#file_class=pd.read_csv('file_class.csv',index_col=0) #\"C:\\Users\\GGMachines_Gaming\\Documents\\voxpop\\file_class.df\""
   ]
  },
  {
   "cell_type": "code",
   "execution_count": 10,
   "id": "37893c2a-fa20-4322-850f-8b4c76cc4971",
   "metadata": {},
   "outputs": [
    {
     "name": "stdout",
     "output_type": "stream",
     "text": [
      "C:\\Users\\GGMachines_Gaming\\Documents\\voxpop\n"
     ]
    }
   ],
   "source": [
    "CWD=os.getcwd()\n",
    "print(CWD)"
   ]
  },
  {
   "cell_type": "code",
   "execution_count": 11,
   "id": "f4428562-bad0-4c5f-8907-77a7cadc8a07",
   "metadata": {},
   "outputs": [],
   "source": [
    "INPUT_DIRECTORY=CWD"
   ]
  },
  {
   "cell_type": "code",
   "execution_count": 12,
   "id": "17ce2453-5a59-43bc-b1a2-d04c79a0992f",
   "metadata": {},
   "outputs": [
    {
     "data": {
      "text/plain": [
       "'C:\\\\Users\\\\GGMachines_Gaming\\\\Documents\\\\voxpop'"
      ]
     },
     "execution_count": 12,
     "metadata": {},
     "output_type": "execute_result"
    }
   ],
   "source": [
    "INPUT_DIRECTORY"
   ]
  },
  {
   "cell_type": "code",
   "execution_count": 13,
   "id": "d692c556-f4b0-457d-907d-3cc45af046fa",
   "metadata": {},
   "outputs": [],
   "source": [
    "#INPUT_DIRECTORY='C:\\\\Users\\\\GGMachines_Gaming\\\\Documents\\\\voxpop\\\\' #i9 machine"
   ]
  },
  {
   "cell_type": "code",
   "execution_count": 14,
   "id": "77c41766-b8c5-4a4b-a7dd-a8df9f9c5502",
   "metadata": {},
   "outputs": [],
   "source": [
    "TRAIN_TEST_SPLIT = 0.80"
   ]
  },
  {
   "cell_type": "code",
   "execution_count": null,
   "id": "ece5bf26-5200-4528-89f1-32d247dbd087",
   "metadata": {},
   "outputs": [],
   "source": []
  },
  {
   "cell_type": "code",
   "execution_count": 15,
   "id": "2cd01da5-6246-4446-9b14-2fa95cadf210",
   "metadata": {},
   "outputs": [],
   "source": [
    "# Neural network training run parameters\n",
    "EPOCHS=20\n",
    "BATCH_SIZE=32"
   ]
  },
  {
   "cell_type": "code",
   "execution_count": 16,
   "id": "8b4e91fb-fd3c-46bc-95cb-a7ccf9a3456d",
   "metadata": {},
   "outputs": [],
   "source": [
    "## Used in versions 1,2 instead of the pickle preprocessing output\n",
    "\n",
    "# file_class=pd.read_csv('file_class.csv',index_col=0) #\"C:\\Users\\GGMachines_Gaming\\Documents\\voxpop\\file_class.df\"\n",
    "# file_class.shape"
   ]
  },
  {
   "cell_type": "code",
   "execution_count": null,
   "id": "7a40b8b9-8c48-46b8-9451-9e872b013365",
   "metadata": {},
   "outputs": [],
   "source": []
  },
  {
   "cell_type": "code",
   "execution_count": 17,
   "id": "963a643d-0abd-4a95-8e41-1c7322107dc0",
   "metadata": {},
   "outputs": [
    {
     "name": "stdout",
     "output_type": "stream",
     "text": [
      "nt\n"
     ]
    }
   ],
   "source": [
    "platform=os.name\n",
    "print(platform)"
   ]
  },
  {
   "cell_type": "code",
   "execution_count": 18,
   "id": "7942bfcb-4463-4116-91cb-6327ef97a85c",
   "metadata": {},
   "outputs": [
    {
     "name": "stdout",
     "output_type": "stream",
     "text": [
      "\\sample_output_directory\\\n"
     ]
    }
   ],
   "source": [
    "if (platform=='nt'):\n",
    "    SUBDIR=\"\\\\sample_output_directory\\\\\"\n",
    "print(SUBDIR)"
   ]
  },
  {
   "cell_type": "code",
   "execution_count": null,
   "id": "20f3c9eb-7a71-451b-bcd0-41fb102b9c7c",
   "metadata": {},
   "outputs": [],
   "source": []
  },
  {
   "cell_type": "code",
   "execution_count": 19,
   "id": "61ad285c-7fbb-4ecc-b5ff-f854ed5443c8",
   "metadata": {},
   "outputs": [],
   "source": [
    "def retrieve_file(county):\n",
    "    all_files=os.listdir(INPUT_DIRECTORY+SUBDIR)\n",
    "    pkl_files = [f for f in all_files if f.endswith('.pkl')]\n",
    "    #print(pkl_files)\n",
    "    filtered_files = [file for file in pkl_files if county in file]\n",
    "    #print(filtered_files)\n",
    "    most_recent_file=filtered_files[-1]\n",
    "    #print(most_recent_file)\n",
    "    return most_recent_file"
   ]
  },
  {
   "cell_type": "code",
   "execution_count": 20,
   "id": "b6b00c43-4752-4fe8-bd2a-7a81639de864",
   "metadata": {},
   "outputs": [
    {
     "data": {
      "text/plain": [
       "'20240721_0000_DUB_features.pkl'"
      ]
     },
     "execution_count": 20,
     "metadata": {},
     "output_type": "execute_result"
    }
   ],
   "source": [
    "retrieve_file('DUB')"
   ]
  },
  {
   "cell_type": "code",
   "execution_count": 21,
   "id": "d4ca9b73-1b01-46de-b762-55c6a0df6518",
   "metadata": {},
   "outputs": [
    {
     "data": {
      "text/plain": [
       "'20240721_0013_ANT_features.pkl'"
      ]
     },
     "execution_count": 21,
     "metadata": {},
     "output_type": "execute_result"
    }
   ],
   "source": [
    "retrieve_file('ANT')"
   ]
  },
  {
   "cell_type": "code",
   "execution_count": 22,
   "id": "a8051d15-08df-455e-b372-4f4d98f46b60",
   "metadata": {},
   "outputs": [
    {
     "data": {
      "text/plain": [
       "\"\\nall_files=os.listdir(cwd+subdir)\\npkl_files = [f for f in all_files if f.endswith('.pkl')]\\nprint(pkl_files)\\nfiltered_files = [file for file in pkl_files if 'DUB' in file]\\nprint(filtered_files)\\nmost_recent_file=filtered_files[-1]\\nprint(most_recent_file)\\n\""
      ]
     },
     "execution_count": 22,
     "metadata": {},
     "output_type": "execute_result"
    }
   ],
   "source": [
    "'''\n",
    "all_files=os.listdir(cwd+subdir)\n",
    "pkl_files = [f for f in all_files if f.endswith('.pkl')]\n",
    "print(pkl_files)\n",
    "filtered_files = [file for file in pkl_files if 'DUB' in file]\n",
    "print(filtered_files)\n",
    "most_recent_file=filtered_files[-1]\n",
    "print(most_recent_file)\n",
    "'''"
   ]
  },
  {
   "cell_type": "code",
   "execution_count": 23,
   "id": "e2e991bc-822d-4b2c-b790-e0b794d7494d",
   "metadata": {},
   "outputs": [],
   "source": [
    "dub_df=pd.read_pickle(INPUT_DIRECTORY+SUBDIR+retrieve_file('DUB'))"
   ]
  },
  {
   "cell_type": "code",
   "execution_count": 24,
   "id": "87c26717-ba5c-4ec9-b891-a71d8855abed",
   "metadata": {},
   "outputs": [],
   "source": [
    "#dub_df = pd.read_pickle('C:\\\\Users\\\\GGMachines_Gaming\\\\Documents\\\\voxpop\\\\sample_output_directory\\\\20240721_0000_DUB_features.pkl') #i9 directory"
   ]
  },
  {
   "cell_type": "code",
   "execution_count": 25,
   "id": "4fc6ba85-5ee4-4c43-8889-f15e13af6905",
   "metadata": {},
   "outputs": [
    {
     "data": {
      "text/html": [
       "<div>\n",
       "<style scoped>\n",
       "    .dataframe tbody tr th:only-of-type {\n",
       "        vertical-align: middle;\n",
       "    }\n",
       "\n",
       "    .dataframe tbody tr th {\n",
       "        vertical-align: top;\n",
       "    }\n",
       "\n",
       "    .dataframe thead th {\n",
       "        text-align: right;\n",
       "    }\n",
       "</style>\n",
       "<table border=\"1\" class=\"dataframe\">\n",
       "  <thead>\n",
       "    <tr style=\"text-align: right;\">\n",
       "      <th></th>\n",
       "      <th>filenames</th>\n",
       "      <th>names</th>\n",
       "      <th>counties</th>\n",
       "      <th>towns</th>\n",
       "      <th>urbanrural</th>\n",
       "      <th>size</th>\n",
       "      <th>genders</th>\n",
       "      <th>ages</th>\n",
       "      <th>dur</th>\n",
       "      <th>recording num</th>\n",
       "      <th>sample num</th>\n",
       "      <th>sample file name</th>\n",
       "      <th>sample</th>\n",
       "      <th>Ydb</th>\n",
       "      <th>sr</th>\n",
       "      <th>mfcc</th>\n",
       "      <th>mfcc_delta</th>\n",
       "      <th>mfcc_delta_2</th>\n",
       "    </tr>\n",
       "  </thead>\n",
       "  <tbody>\n",
       "    <tr>\n",
       "      <th>0</th>\n",
       "      <td>C:\\Users\\GGMachines_Gaming\\Documents\\DUB\\DUB_A...</td>\n",
       "      <td>DUB_Artane_M_20</td>\n",
       "      <td>DUB</td>\n",
       "      <td>Artane</td>\n",
       "      <td>None</td>\n",
       "      <td>None</td>\n",
       "      <td>M</td>\n",
       "      <td>20</td>\n",
       "      <td>81.63</td>\n",
       "      <td>0</td>\n",
       "      <td>0</td>\n",
       "      <td>DUB_Artane_M_20_Rec_0_Sample_0.wav</td>\n",
       "      <td>[1.5543122e-15, 3.330669e-15, 3.5527137e-15, 3...</td>\n",
       "      <td>[[-45.312862, -45.312862, -20.940594, -15.0561...</td>\n",
       "      <td>22050</td>\n",
       "      <td>[[-655.949, -615.1495, -328.68915, -242.04138,...</td>\n",
       "      <td>[[49.801403, 49.801403, 49.801403, 49.801403, ...</td>\n",
       "      <td>[[-30.38227, -30.38227, -30.38227, -30.38227, ...</td>\n",
       "    </tr>\n",
       "    <tr>\n",
       "      <th>1</th>\n",
       "      <td>C:\\Users\\GGMachines_Gaming\\Documents\\DUB\\DUB_A...</td>\n",
       "      <td>DUB_Artane_M_20</td>\n",
       "      <td>DUB</td>\n",
       "      <td>Artane</td>\n",
       "      <td>None</td>\n",
       "      <td>None</td>\n",
       "      <td>M</td>\n",
       "      <td>20</td>\n",
       "      <td>81.63</td>\n",
       "      <td>0</td>\n",
       "      <td>1</td>\n",
       "      <td>DUB_Artane_M_20_Rec_0_Sample_1.wav</td>\n",
       "      <td>[-0.008644444, -0.01465759, -0.012110229, 0.00...</td>\n",
       "      <td>[[-34.0381, -32.152866, -36.18184, -49.078957,...</td>\n",
       "      <td>22050</td>\n",
       "      <td>[[-280.54608, -219.32281, -217.8543, -227.0891...</td>\n",
       "      <td>[[16.633562, 16.633562, 16.633562, 16.633562, ...</td>\n",
       "      <td>[[-3.0967958, -3.0967958, -3.0967958, -3.09679...</td>\n",
       "    </tr>\n",
       "    <tr>\n",
       "      <th>2</th>\n",
       "      <td>C:\\Users\\GGMachines_Gaming\\Documents\\DUB\\DUB_A...</td>\n",
       "      <td>DUB_Artane_M_20</td>\n",
       "      <td>DUB</td>\n",
       "      <td>Artane</td>\n",
       "      <td>None</td>\n",
       "      <td>None</td>\n",
       "      <td>M</td>\n",
       "      <td>20</td>\n",
       "      <td>81.63</td>\n",
       "      <td>0</td>\n",
       "      <td>2</td>\n",
       "      <td>DUB_Artane_M_20_Rec_0_Sample_2.wav</td>\n",
       "      <td>[-0.013591497, -0.009562584, -0.0034573623, 0....</td>\n",
       "      <td>[[-26.495678, -26.199865, -34.241257, -27.4409...</td>\n",
       "      <td>22050</td>\n",
       "      <td>[[-334.6902, -300.3063, -289.8084, -286.79123,...</td>\n",
       "      <td>[[5.437888, 5.437888, 5.437888, 5.437888, 5.43...</td>\n",
       "      <td>[[-1.3182307, -1.3182307, -1.3182307, -1.31823...</td>\n",
       "    </tr>\n",
       "  </tbody>\n",
       "</table>\n",
       "</div>"
      ],
      "text/plain": [
       "                                           filenames            names  \\\n",
       "0  C:\\Users\\GGMachines_Gaming\\Documents\\DUB\\DUB_A...  DUB_Artane_M_20   \n",
       "1  C:\\Users\\GGMachines_Gaming\\Documents\\DUB\\DUB_A...  DUB_Artane_M_20   \n",
       "2  C:\\Users\\GGMachines_Gaming\\Documents\\DUB\\DUB_A...  DUB_Artane_M_20   \n",
       "\n",
       "  counties   towns urbanrural  size genders ages    dur recording num  \\\n",
       "0      DUB  Artane       None  None       M   20  81.63             0   \n",
       "1      DUB  Artane       None  None       M   20  81.63             0   \n",
       "2      DUB  Artane       None  None       M   20  81.63             0   \n",
       "\n",
       "  sample num                    sample file name  \\\n",
       "0          0  DUB_Artane_M_20_Rec_0_Sample_0.wav   \n",
       "1          1  DUB_Artane_M_20_Rec_0_Sample_1.wav   \n",
       "2          2  DUB_Artane_M_20_Rec_0_Sample_2.wav   \n",
       "\n",
       "                                              sample  \\\n",
       "0  [1.5543122e-15, 3.330669e-15, 3.5527137e-15, 3...   \n",
       "1  [-0.008644444, -0.01465759, -0.012110229, 0.00...   \n",
       "2  [-0.013591497, -0.009562584, -0.0034573623, 0....   \n",
       "\n",
       "                                                 Ydb     sr  \\\n",
       "0  [[-45.312862, -45.312862, -20.940594, -15.0561...  22050   \n",
       "1  [[-34.0381, -32.152866, -36.18184, -49.078957,...  22050   \n",
       "2  [[-26.495678, -26.199865, -34.241257, -27.4409...  22050   \n",
       "\n",
       "                                                mfcc  \\\n",
       "0  [[-655.949, -615.1495, -328.68915, -242.04138,...   \n",
       "1  [[-280.54608, -219.32281, -217.8543, -227.0891...   \n",
       "2  [[-334.6902, -300.3063, -289.8084, -286.79123,...   \n",
       "\n",
       "                                          mfcc_delta  \\\n",
       "0  [[49.801403, 49.801403, 49.801403, 49.801403, ...   \n",
       "1  [[16.633562, 16.633562, 16.633562, 16.633562, ...   \n",
       "2  [[5.437888, 5.437888, 5.437888, 5.437888, 5.43...   \n",
       "\n",
       "                                        mfcc_delta_2  \n",
       "0  [[-30.38227, -30.38227, -30.38227, -30.38227, ...  \n",
       "1  [[-3.0967958, -3.0967958, -3.0967958, -3.09679...  \n",
       "2  [[-1.3182307, -1.3182307, -1.3182307, -1.31823...  "
      ]
     },
     "execution_count": 25,
     "metadata": {},
     "output_type": "execute_result"
    }
   ],
   "source": [
    "dub_df[0:3]"
   ]
  },
  {
   "cell_type": "code",
   "execution_count": 26,
   "id": "a8632f14-0732-4f39-af05-d4003f5be831",
   "metadata": {},
   "outputs": [],
   "source": [
    "antbel_df = pd.read_pickle(INPUT_DIRECTORY+SUBDIR+retrieve_file('ANT'))"
   ]
  },
  {
   "cell_type": "code",
   "execution_count": 27,
   "id": "e3b4921b-fbec-4b57-b90a-3d936f2252e2",
   "metadata": {},
   "outputs": [],
   "source": [
    "#antbel_df = pd.read_pickle('C:\\\\Users\\\\GGMachines_Gaming\\\\Documents\\\\voxpop\\\\sample_output_directory\\\\20240721_0013_ANT_features.pkl') #i9 directory"
   ]
  },
  {
   "cell_type": "code",
   "execution_count": 28,
   "id": "d1981eb0-ce32-4e7c-acd0-bc534c0777e9",
   "metadata": {},
   "outputs": [
    {
     "data": {
      "text/html": [
       "<div>\n",
       "<style scoped>\n",
       "    .dataframe tbody tr th:only-of-type {\n",
       "        vertical-align: middle;\n",
       "    }\n",
       "\n",
       "    .dataframe tbody tr th {\n",
       "        vertical-align: top;\n",
       "    }\n",
       "\n",
       "    .dataframe thead th {\n",
       "        text-align: right;\n",
       "    }\n",
       "</style>\n",
       "<table border=\"1\" class=\"dataframe\">\n",
       "  <thead>\n",
       "    <tr style=\"text-align: right;\">\n",
       "      <th></th>\n",
       "      <th>filenames</th>\n",
       "      <th>names</th>\n",
       "      <th>counties</th>\n",
       "      <th>towns</th>\n",
       "      <th>urbanrural</th>\n",
       "      <th>size</th>\n",
       "      <th>genders</th>\n",
       "      <th>ages</th>\n",
       "      <th>dur</th>\n",
       "      <th>recording num</th>\n",
       "      <th>sample num</th>\n",
       "      <th>sample file name</th>\n",
       "      <th>sample</th>\n",
       "      <th>Ydb</th>\n",
       "      <th>sr</th>\n",
       "      <th>mfcc</th>\n",
       "      <th>mfcc_delta</th>\n",
       "      <th>mfcc_delta_2</th>\n",
       "    </tr>\n",
       "  </thead>\n",
       "  <tbody>\n",
       "    <tr>\n",
       "      <th>0</th>\n",
       "      <td>C:\\Users\\GGMachines_Gaming\\Documents\\ANT\\ANT_A...</td>\n",
       "      <td>ANT_Antrim_R1_F_20</td>\n",
       "      <td>ANT</td>\n",
       "      <td>Antrim</td>\n",
       "      <td>R</td>\n",
       "      <td>1</td>\n",
       "      <td>F</td>\n",
       "      <td>20</td>\n",
       "      <td>95.95</td>\n",
       "      <td>0</td>\n",
       "      <td>0</td>\n",
       "      <td>ANT_Antrim_R1_F_20_Rec_0_Sample_0.wav</td>\n",
       "      <td>[-3.259629e-09, -1.9790605e-09, -1.8626451e-09...</td>\n",
       "      <td>[[-35.601192, -23.076942, -25.175114, -30.8771...</td>\n",
       "      <td>22050</td>\n",
       "      <td>[[-494.3632, -314.76587, -256.5209, -248.23921...</td>\n",
       "      <td>[[22.54509, 22.54509, 22.54509, 22.54509, 22.5...</td>\n",
       "      <td>[[-13.363751, -13.363751, -13.363751, -13.3637...</td>\n",
       "    </tr>\n",
       "    <tr>\n",
       "      <th>1</th>\n",
       "      <td>C:\\Users\\GGMachines_Gaming\\Documents\\ANT\\ANT_A...</td>\n",
       "      <td>ANT_Antrim_R1_F_20</td>\n",
       "      <td>ANT</td>\n",
       "      <td>Antrim</td>\n",
       "      <td>R</td>\n",
       "      <td>1</td>\n",
       "      <td>F</td>\n",
       "      <td>20</td>\n",
       "      <td>95.95</td>\n",
       "      <td>0</td>\n",
       "      <td>1</td>\n",
       "      <td>ANT_Antrim_R1_F_20_Rec_0_Sample_1.wav</td>\n",
       "      <td>[-0.063719966, 0.018594107, 0.042440787, 0.011...</td>\n",
       "      <td>[[-24.939114, -19.037073, -35.540073, -40.6882...</td>\n",
       "      <td>22050</td>\n",
       "      <td>[[-200.87267, -189.22813, -205.93425, -217.350...</td>\n",
       "      <td>[[1.7263998, 1.7263998, 1.7263998, 1.7263998, ...</td>\n",
       "      <td>[[8.442614, 8.442614, 8.442614, 8.442614, 8.44...</td>\n",
       "    </tr>\n",
       "    <tr>\n",
       "      <th>2</th>\n",
       "      <td>C:\\Users\\GGMachines_Gaming\\Documents\\ANT\\ANT_A...</td>\n",
       "      <td>ANT_Antrim_R1_F_20</td>\n",
       "      <td>ANT</td>\n",
       "      <td>Antrim</td>\n",
       "      <td>R</td>\n",
       "      <td>1</td>\n",
       "      <td>F</td>\n",
       "      <td>20</td>\n",
       "      <td>95.95</td>\n",
       "      <td>0</td>\n",
       "      <td>2</td>\n",
       "      <td>ANT_Antrim_R1_F_20_Rec_0_Sample_2.wav</td>\n",
       "      <td>[-0.009588398, -0.029184137, -0.023096263, -0....</td>\n",
       "      <td>[[-12.003866, -22.771717, -25.912066, -27.5487...</td>\n",
       "      <td>22050</td>\n",
       "      <td>[[-269.9958, -209.71855, -199.9971, -192.51334...</td>\n",
       "      <td>[[7.1880474, 7.1880474, 7.1880474, 7.1880474, ...</td>\n",
       "      <td>[[-7.412616, -7.412616, -7.412616, -7.412616, ...</td>\n",
       "    </tr>\n",
       "  </tbody>\n",
       "</table>\n",
       "</div>"
      ],
      "text/plain": [
       "                                           filenames               names  \\\n",
       "0  C:\\Users\\GGMachines_Gaming\\Documents\\ANT\\ANT_A...  ANT_Antrim_R1_F_20   \n",
       "1  C:\\Users\\GGMachines_Gaming\\Documents\\ANT\\ANT_A...  ANT_Antrim_R1_F_20   \n",
       "2  C:\\Users\\GGMachines_Gaming\\Documents\\ANT\\ANT_A...  ANT_Antrim_R1_F_20   \n",
       "\n",
       "  counties   towns urbanrural size genders ages    dur recording num  \\\n",
       "0      ANT  Antrim          R    1       F   20  95.95             0   \n",
       "1      ANT  Antrim          R    1       F   20  95.95             0   \n",
       "2      ANT  Antrim          R    1       F   20  95.95             0   \n",
       "\n",
       "  sample num                       sample file name  \\\n",
       "0          0  ANT_Antrim_R1_F_20_Rec_0_Sample_0.wav   \n",
       "1          1  ANT_Antrim_R1_F_20_Rec_0_Sample_1.wav   \n",
       "2          2  ANT_Antrim_R1_F_20_Rec_0_Sample_2.wav   \n",
       "\n",
       "                                              sample  \\\n",
       "0  [-3.259629e-09, -1.9790605e-09, -1.8626451e-09...   \n",
       "1  [-0.063719966, 0.018594107, 0.042440787, 0.011...   \n",
       "2  [-0.009588398, -0.029184137, -0.023096263, -0....   \n",
       "\n",
       "                                                 Ydb     sr  \\\n",
       "0  [[-35.601192, -23.076942, -25.175114, -30.8771...  22050   \n",
       "1  [[-24.939114, -19.037073, -35.540073, -40.6882...  22050   \n",
       "2  [[-12.003866, -22.771717, -25.912066, -27.5487...  22050   \n",
       "\n",
       "                                                mfcc  \\\n",
       "0  [[-494.3632, -314.76587, -256.5209, -248.23921...   \n",
       "1  [[-200.87267, -189.22813, -205.93425, -217.350...   \n",
       "2  [[-269.9958, -209.71855, -199.9971, -192.51334...   \n",
       "\n",
       "                                          mfcc_delta  \\\n",
       "0  [[22.54509, 22.54509, 22.54509, 22.54509, 22.5...   \n",
       "1  [[1.7263998, 1.7263998, 1.7263998, 1.7263998, ...   \n",
       "2  [[7.1880474, 7.1880474, 7.1880474, 7.1880474, ...   \n",
       "\n",
       "                                        mfcc_delta_2  \n",
       "0  [[-13.363751, -13.363751, -13.363751, -13.3637...  \n",
       "1  [[8.442614, 8.442614, 8.442614, 8.442614, 8.44...  \n",
       "2  [[-7.412616, -7.412616, -7.412616, -7.412616, ...  "
      ]
     },
     "execution_count": 28,
     "metadata": {},
     "output_type": "execute_result"
    }
   ],
   "source": [
    "antbel_df[0:3]"
   ]
  },
  {
   "cell_type": "markdown",
   "id": "149f4296-8e53-4c53-94bd-7f8279ebec3f",
   "metadata": {},
   "source": [
    "## Reset recording numbers to avoid duplicates"
   ]
  },
  {
   "cell_type": "code",
   "execution_count": 29,
   "id": "0bf7ee44-5aa0-4bbe-81d3-74f2791e0720",
   "metadata": {},
   "outputs": [
    {
     "data": {
      "text/plain": [
       "166"
      ]
     },
     "execution_count": 29,
     "metadata": {},
     "output_type": "execute_result"
    }
   ],
   "source": [
    "recordings_count=dub_df['recording num'].max()\n",
    "recordings_count"
   ]
  },
  {
   "cell_type": "code",
   "execution_count": 30,
   "id": "ac763ca5-5b06-4613-af4a-b2b6661020c0",
   "metadata": {},
   "outputs": [
    {
     "data": {
      "text/plain": [
       "0       166\n",
       "1       166\n",
       "2       166\n",
       "3       166\n",
       "4       166\n",
       "       ... \n",
       "6489    237\n",
       "6490    237\n",
       "6491    237\n",
       "6492    237\n",
       "6493    237\n",
       "Name: recording num, Length: 6494, dtype: object"
      ]
     },
     "execution_count": 30,
     "metadata": {},
     "output_type": "execute_result"
    }
   ],
   "source": [
    "#Increase the recording number in the 2nd dataframe so that there are no duplicates\n",
    "antbel_df['recording num']=dub_df['recording num']+recordings_count\n",
    "antbel_df['recording num']"
   ]
  },
  {
   "cell_type": "markdown",
   "id": "ae7ed263-e72c-4478-942b-faf86b9b3863",
   "metadata": {},
   "source": [
    "## Merge the DataFrames"
   ]
  },
  {
   "cell_type": "code",
   "execution_count": 31,
   "id": "ecd28926-8595-41c0-8f33-3abdbdbded06",
   "metadata": {},
   "outputs": [],
   "source": [
    "# Concatenate the DataFrames\n",
    "all_df= pd.concat([antbel_df, dub_df], ignore_index=True)"
   ]
  },
  {
   "cell_type": "code",
   "execution_count": 32,
   "id": "8bc029e6-fce0-4248-a1da-ae7db6381be9",
   "metadata": {},
   "outputs": [
    {
     "data": {
      "text/plain": [
       "(21594, 18)"
      ]
     },
     "execution_count": 32,
     "metadata": {},
     "output_type": "execute_result"
    }
   ],
   "source": [
    "all_df.shape"
   ]
  },
  {
   "cell_type": "code",
   "execution_count": 33,
   "id": "864d85cb-b9be-44de-9d11-3079b29f6b9b",
   "metadata": {},
   "outputs": [
    {
     "data": {
      "text/html": [
       "<div>\n",
       "<style scoped>\n",
       "    .dataframe tbody tr th:only-of-type {\n",
       "        vertical-align: middle;\n",
       "    }\n",
       "\n",
       "    .dataframe tbody tr th {\n",
       "        vertical-align: top;\n",
       "    }\n",
       "\n",
       "    .dataframe thead th {\n",
       "        text-align: right;\n",
       "    }\n",
       "</style>\n",
       "<table border=\"1\" class=\"dataframe\">\n",
       "  <thead>\n",
       "    <tr style=\"text-align: right;\">\n",
       "      <th></th>\n",
       "      <th>filenames</th>\n",
       "      <th>names</th>\n",
       "      <th>counties</th>\n",
       "      <th>towns</th>\n",
       "      <th>urbanrural</th>\n",
       "      <th>size</th>\n",
       "      <th>genders</th>\n",
       "      <th>ages</th>\n",
       "      <th>dur</th>\n",
       "      <th>recording num</th>\n",
       "      <th>sample num</th>\n",
       "      <th>sample file name</th>\n",
       "      <th>sample</th>\n",
       "      <th>Ydb</th>\n",
       "      <th>sr</th>\n",
       "      <th>mfcc</th>\n",
       "      <th>mfcc_delta</th>\n",
       "      <th>mfcc_delta_2</th>\n",
       "    </tr>\n",
       "  </thead>\n",
       "  <tbody>\n",
       "    <tr>\n",
       "      <th>0</th>\n",
       "      <td>C:\\Users\\GGMachines_Gaming\\Documents\\ANT\\ANT_A...</td>\n",
       "      <td>ANT_Antrim_R1_F_20</td>\n",
       "      <td>ANT</td>\n",
       "      <td>Antrim</td>\n",
       "      <td>R</td>\n",
       "      <td>1</td>\n",
       "      <td>F</td>\n",
       "      <td>20</td>\n",
       "      <td>95.95</td>\n",
       "      <td>166</td>\n",
       "      <td>0</td>\n",
       "      <td>ANT_Antrim_R1_F_20_Rec_0_Sample_0.wav</td>\n",
       "      <td>[-3.259629e-09, -1.9790605e-09, -1.8626451e-09...</td>\n",
       "      <td>[[-35.601192, -23.076942, -25.175114, -30.8771...</td>\n",
       "      <td>22050</td>\n",
       "      <td>[[-494.3632, -314.76587, -256.5209, -248.23921...</td>\n",
       "      <td>[[22.54509, 22.54509, 22.54509, 22.54509, 22.5...</td>\n",
       "      <td>[[-13.363751, -13.363751, -13.363751, -13.3637...</td>\n",
       "    </tr>\n",
       "    <tr>\n",
       "      <th>1</th>\n",
       "      <td>C:\\Users\\GGMachines_Gaming\\Documents\\ANT\\ANT_A...</td>\n",
       "      <td>ANT_Antrim_R1_F_20</td>\n",
       "      <td>ANT</td>\n",
       "      <td>Antrim</td>\n",
       "      <td>R</td>\n",
       "      <td>1</td>\n",
       "      <td>F</td>\n",
       "      <td>20</td>\n",
       "      <td>95.95</td>\n",
       "      <td>166</td>\n",
       "      <td>1</td>\n",
       "      <td>ANT_Antrim_R1_F_20_Rec_0_Sample_1.wav</td>\n",
       "      <td>[-0.063719966, 0.018594107, 0.042440787, 0.011...</td>\n",
       "      <td>[[-24.939114, -19.037073, -35.540073, -40.6882...</td>\n",
       "      <td>22050</td>\n",
       "      <td>[[-200.87267, -189.22813, -205.93425, -217.350...</td>\n",
       "      <td>[[1.7263998, 1.7263998, 1.7263998, 1.7263998, ...</td>\n",
       "      <td>[[8.442614, 8.442614, 8.442614, 8.442614, 8.44...</td>\n",
       "    </tr>\n",
       "    <tr>\n",
       "      <th>2</th>\n",
       "      <td>C:\\Users\\GGMachines_Gaming\\Documents\\ANT\\ANT_A...</td>\n",
       "      <td>ANT_Antrim_R1_F_20</td>\n",
       "      <td>ANT</td>\n",
       "      <td>Antrim</td>\n",
       "      <td>R</td>\n",
       "      <td>1</td>\n",
       "      <td>F</td>\n",
       "      <td>20</td>\n",
       "      <td>95.95</td>\n",
       "      <td>166</td>\n",
       "      <td>2</td>\n",
       "      <td>ANT_Antrim_R1_F_20_Rec_0_Sample_2.wav</td>\n",
       "      <td>[-0.009588398, -0.029184137, -0.023096263, -0....</td>\n",
       "      <td>[[-12.003866, -22.771717, -25.912066, -27.5487...</td>\n",
       "      <td>22050</td>\n",
       "      <td>[[-269.9958, -209.71855, -199.9971, -192.51334...</td>\n",
       "      <td>[[7.1880474, 7.1880474, 7.1880474, 7.1880474, ...</td>\n",
       "      <td>[[-7.412616, -7.412616, -7.412616, -7.412616, ...</td>\n",
       "    </tr>\n",
       "    <tr>\n",
       "      <th>3</th>\n",
       "      <td>C:\\Users\\GGMachines_Gaming\\Documents\\ANT\\ANT_A...</td>\n",
       "      <td>ANT_Antrim_R1_F_20</td>\n",
       "      <td>ANT</td>\n",
       "      <td>Antrim</td>\n",
       "      <td>R</td>\n",
       "      <td>1</td>\n",
       "      <td>F</td>\n",
       "      <td>20</td>\n",
       "      <td>95.95</td>\n",
       "      <td>166</td>\n",
       "      <td>3</td>\n",
       "      <td>ANT_Antrim_R1_F_20_Rec_0_Sample_3.wav</td>\n",
       "      <td>[-0.02926175, -0.03246651, -0.03447114, -0.032...</td>\n",
       "      <td>[[-33.829704, -37.727036, -24.553106, -31.8029...</td>\n",
       "      <td>22050</td>\n",
       "      <td>[[-319.19656, -307.64944, -314.54547, -295.997...</td>\n",
       "      <td>[[9.711183, 9.711183, 9.711183, 9.711183, 9.71...</td>\n",
       "      <td>[[-0.45292982, -0.45292982, -0.45292982, -0.45...</td>\n",
       "    </tr>\n",
       "  </tbody>\n",
       "</table>\n",
       "</div>"
      ],
      "text/plain": [
       "                                           filenames               names  \\\n",
       "0  C:\\Users\\GGMachines_Gaming\\Documents\\ANT\\ANT_A...  ANT_Antrim_R1_F_20   \n",
       "1  C:\\Users\\GGMachines_Gaming\\Documents\\ANT\\ANT_A...  ANT_Antrim_R1_F_20   \n",
       "2  C:\\Users\\GGMachines_Gaming\\Documents\\ANT\\ANT_A...  ANT_Antrim_R1_F_20   \n",
       "3  C:\\Users\\GGMachines_Gaming\\Documents\\ANT\\ANT_A...  ANT_Antrim_R1_F_20   \n",
       "\n",
       "  counties   towns urbanrural size genders ages    dur recording num  \\\n",
       "0      ANT  Antrim          R    1       F   20  95.95           166   \n",
       "1      ANT  Antrim          R    1       F   20  95.95           166   \n",
       "2      ANT  Antrim          R    1       F   20  95.95           166   \n",
       "3      ANT  Antrim          R    1       F   20  95.95           166   \n",
       "\n",
       "  sample num                       sample file name  \\\n",
       "0          0  ANT_Antrim_R1_F_20_Rec_0_Sample_0.wav   \n",
       "1          1  ANT_Antrim_R1_F_20_Rec_0_Sample_1.wav   \n",
       "2          2  ANT_Antrim_R1_F_20_Rec_0_Sample_2.wav   \n",
       "3          3  ANT_Antrim_R1_F_20_Rec_0_Sample_3.wav   \n",
       "\n",
       "                                              sample  \\\n",
       "0  [-3.259629e-09, -1.9790605e-09, -1.8626451e-09...   \n",
       "1  [-0.063719966, 0.018594107, 0.042440787, 0.011...   \n",
       "2  [-0.009588398, -0.029184137, -0.023096263, -0....   \n",
       "3  [-0.02926175, -0.03246651, -0.03447114, -0.032...   \n",
       "\n",
       "                                                 Ydb     sr  \\\n",
       "0  [[-35.601192, -23.076942, -25.175114, -30.8771...  22050   \n",
       "1  [[-24.939114, -19.037073, -35.540073, -40.6882...  22050   \n",
       "2  [[-12.003866, -22.771717, -25.912066, -27.5487...  22050   \n",
       "3  [[-33.829704, -37.727036, -24.553106, -31.8029...  22050   \n",
       "\n",
       "                                                mfcc  \\\n",
       "0  [[-494.3632, -314.76587, -256.5209, -248.23921...   \n",
       "1  [[-200.87267, -189.22813, -205.93425, -217.350...   \n",
       "2  [[-269.9958, -209.71855, -199.9971, -192.51334...   \n",
       "3  [[-319.19656, -307.64944, -314.54547, -295.997...   \n",
       "\n",
       "                                          mfcc_delta  \\\n",
       "0  [[22.54509, 22.54509, 22.54509, 22.54509, 22.5...   \n",
       "1  [[1.7263998, 1.7263998, 1.7263998, 1.7263998, ...   \n",
       "2  [[7.1880474, 7.1880474, 7.1880474, 7.1880474, ...   \n",
       "3  [[9.711183, 9.711183, 9.711183, 9.711183, 9.71...   \n",
       "\n",
       "                                        mfcc_delta_2  \n",
       "0  [[-13.363751, -13.363751, -13.363751, -13.3637...  \n",
       "1  [[8.442614, 8.442614, 8.442614, 8.442614, 8.44...  \n",
       "2  [[-7.412616, -7.412616, -7.412616, -7.412616, ...  \n",
       "3  [[-0.45292982, -0.45292982, -0.45292982, -0.45...  "
      ]
     },
     "execution_count": 33,
     "metadata": {},
     "output_type": "execute_result"
    }
   ],
   "source": [
    "all_df.iloc[0:4]"
   ]
  },
  {
   "cell_type": "code",
   "execution_count": 34,
   "id": "9dfd3bb8-59fb-477c-a359-1d22930d3be5",
   "metadata": {},
   "outputs": [],
   "source": [
    "# One-hot encoding: Put one column in for every value of the categorical variables\n",
    "\n",
    "all_df = pd.get_dummies(all_df, columns=['genders','ages'],prefix=[None,None])"
   ]
  },
  {
   "cell_type": "code",
   "execution_count": 35,
   "id": "bcddc458-eece-4b40-a073-52a4f0936688",
   "metadata": {},
   "outputs": [
    {
     "data": {
      "text/html": [
       "<div>\n",
       "<style scoped>\n",
       "    .dataframe tbody tr th:only-of-type {\n",
       "        vertical-align: middle;\n",
       "    }\n",
       "\n",
       "    .dataframe tbody tr th {\n",
       "        vertical-align: top;\n",
       "    }\n",
       "\n",
       "    .dataframe thead th {\n",
       "        text-align: right;\n",
       "    }\n",
       "</style>\n",
       "<table border=\"1\" class=\"dataframe\">\n",
       "  <thead>\n",
       "    <tr style=\"text-align: right;\">\n",
       "      <th></th>\n",
       "      <th>F</th>\n",
       "      <th>M</th>\n",
       "      <th>15</th>\n",
       "      <th>16</th>\n",
       "      <th>20</th>\n",
       "      <th>25</th>\n",
       "      <th>30</th>\n",
       "      <th>35</th>\n",
       "      <th>40</th>\n",
       "      <th>45</th>\n",
       "      <th>50</th>\n",
       "      <th>55</th>\n",
       "      <th>60</th>\n",
       "      <th>65</th>\n",
       "      <th>70</th>\n",
       "    </tr>\n",
       "  </thead>\n",
       "  <tbody>\n",
       "    <tr>\n",
       "      <th>0</th>\n",
       "      <td>True</td>\n",
       "      <td>False</td>\n",
       "      <td>False</td>\n",
       "      <td>False</td>\n",
       "      <td>True</td>\n",
       "      <td>False</td>\n",
       "      <td>False</td>\n",
       "      <td>False</td>\n",
       "      <td>False</td>\n",
       "      <td>False</td>\n",
       "      <td>False</td>\n",
       "      <td>False</td>\n",
       "      <td>False</td>\n",
       "      <td>False</td>\n",
       "      <td>False</td>\n",
       "    </tr>\n",
       "    <tr>\n",
       "      <th>1</th>\n",
       "      <td>True</td>\n",
       "      <td>False</td>\n",
       "      <td>False</td>\n",
       "      <td>False</td>\n",
       "      <td>True</td>\n",
       "      <td>False</td>\n",
       "      <td>False</td>\n",
       "      <td>False</td>\n",
       "      <td>False</td>\n",
       "      <td>False</td>\n",
       "      <td>False</td>\n",
       "      <td>False</td>\n",
       "      <td>False</td>\n",
       "      <td>False</td>\n",
       "      <td>False</td>\n",
       "    </tr>\n",
       "    <tr>\n",
       "      <th>2</th>\n",
       "      <td>True</td>\n",
       "      <td>False</td>\n",
       "      <td>False</td>\n",
       "      <td>False</td>\n",
       "      <td>True</td>\n",
       "      <td>False</td>\n",
       "      <td>False</td>\n",
       "      <td>False</td>\n",
       "      <td>False</td>\n",
       "      <td>False</td>\n",
       "      <td>False</td>\n",
       "      <td>False</td>\n",
       "      <td>False</td>\n",
       "      <td>False</td>\n",
       "      <td>False</td>\n",
       "    </tr>\n",
       "    <tr>\n",
       "      <th>3</th>\n",
       "      <td>True</td>\n",
       "      <td>False</td>\n",
       "      <td>False</td>\n",
       "      <td>False</td>\n",
       "      <td>True</td>\n",
       "      <td>False</td>\n",
       "      <td>False</td>\n",
       "      <td>False</td>\n",
       "      <td>False</td>\n",
       "      <td>False</td>\n",
       "      <td>False</td>\n",
       "      <td>False</td>\n",
       "      <td>False</td>\n",
       "      <td>False</td>\n",
       "      <td>False</td>\n",
       "    </tr>\n",
       "  </tbody>\n",
       "</table>\n",
       "</div>"
      ],
      "text/plain": [
       "      F      M     15     16    20     25     30     35     40     45     50  \\\n",
       "0  True  False  False  False  True  False  False  False  False  False  False   \n",
       "1  True  False  False  False  True  False  False  False  False  False  False   \n",
       "2  True  False  False  False  True  False  False  False  False  False  False   \n",
       "3  True  False  False  False  True  False  False  False  False  False  False   \n",
       "\n",
       "      55     60     65     70  \n",
       "0  False  False  False  False  \n",
       "1  False  False  False  False  \n",
       "2  False  False  False  False  \n",
       "3  False  False  False  False  "
      ]
     },
     "execution_count": 35,
     "metadata": {},
     "output_type": "execute_result"
    }
   ],
   "source": [
    "all_df.iloc[0:4,-16:-1]"
   ]
  },
  {
   "cell_type": "markdown",
   "id": "15cdbfb2-2404-42af-804a-53ccbae664f4",
   "metadata": {},
   "source": [
    "## Merge the samples with counties=ANT and BEL to give a common Antrim and Belfast dataset"
   ]
  },
  {
   "cell_type": "code",
   "execution_count": 36,
   "id": "b4830b54-e9df-482e-b392-bce723a43620",
   "metadata": {},
   "outputs": [],
   "source": [
    "counties=all_df['counties']"
   ]
  },
  {
   "cell_type": "code",
   "execution_count": 37,
   "id": "43143d36-abd8-4fc0-a85d-e6bc75fa39ba",
   "metadata": {},
   "outputs": [],
   "source": [
    "all_df['counties'] = all_df['counties'].replace({'ANT': 'ANTBEL', 'BEL': 'ANTBEL'})"
   ]
  },
  {
   "cell_type": "code",
   "execution_count": 38,
   "id": "527f9ca4-feb8-49e3-8024-0104576e370e",
   "metadata": {},
   "outputs": [
    {
     "data": {
      "text/plain": [
       "counties\n",
       "DUB       15100\n",
       "ANTBEL     6494\n",
       "Name: count, dtype: int64"
      ]
     },
     "execution_count": 38,
     "metadata": {},
     "output_type": "execute_result"
    }
   ],
   "source": [
    "all_df['counties'].value_counts()"
   ]
  },
  {
   "cell_type": "code",
   "execution_count": 39,
   "id": "161a5225-4f5c-4ebf-bf8f-9fe998efd1ea",
   "metadata": {},
   "outputs": [
    {
     "name": "stdout",
     "output_type": "stream",
     "text": [
      "(21594,)\n"
     ]
    }
   ],
   "source": [
    "print(all_df['counties'].shape)"
   ]
  },
  {
   "cell_type": "markdown",
   "id": "6a270fcc-eff8-495f-a76f-a349835cf430",
   "metadata": {},
   "source": [
    "## Replace counties with a binary value"
   ]
  },
  {
   "cell_type": "code",
   "execution_count": 40,
   "id": "58929736-56d9-40a7-af92-391539be82d4",
   "metadata": {},
   "outputs": [
    {
     "name": "stderr",
     "output_type": "stream",
     "text": [
      "C:\\Users\\GGMachines_Gaming\\AppData\\Local\\Temp\\ipykernel_34068\\3374583436.py:1: FutureWarning: Downcasting behavior in `replace` is deprecated and will be removed in a future version. To retain the old behavior, explicitly call `result.infer_objects(copy=False)`. To opt-in to the future behavior, set `pd.set_option('future.no_silent_downcasting', True)`\n",
      "  all_df['y'] = all_df['counties'].replace({'ANTBEL':1, 'DUB': 0})\n"
     ]
    }
   ],
   "source": [
    "all_df['y'] = all_df['counties'].replace({'ANTBEL':1, 'DUB': 0})"
   ]
  },
  {
   "cell_type": "code",
   "execution_count": 41,
   "id": "740abec7-2ee5-4eef-9584-649c6366ee2d",
   "metadata": {},
   "outputs": [
    {
     "data": {
      "text/plain": [
       "0        1\n",
       "1        1\n",
       "2        1\n",
       "3        1\n",
       "4        1\n",
       "        ..\n",
       "21589    0\n",
       "21590    0\n",
       "21591    0\n",
       "21592    0\n",
       "21593    0\n",
       "Name: y, Length: 21594, dtype: int64"
      ]
     },
     "execution_count": 41,
     "metadata": {},
     "output_type": "execute_result"
    }
   ],
   "source": [
    "all_df['y']"
   ]
  },
  {
   "cell_type": "code",
   "execution_count": 42,
   "id": "aaa28264-48cb-4cc0-b8c3-ed42dcd5df33",
   "metadata": {},
   "outputs": [
    {
     "data": {
      "text/plain": [
       "y\n",
       "0    15100\n",
       "1     6494\n",
       "Name: count, dtype: int64"
      ]
     },
     "execution_count": 42,
     "metadata": {},
     "output_type": "execute_result"
    }
   ],
   "source": [
    "all_df['y'].value_counts()"
   ]
  },
  {
   "cell_type": "markdown",
   "id": "42d0df3a-5270-49fc-9c65-58d427d4a178",
   "metadata": {},
   "source": [
    "## Split into train and test datasets - make sure speakers are not split between them"
   ]
  },
  {
   "cell_type": "code",
   "execution_count": 43,
   "id": "d2f1f41a-0c8f-49df-a89f-7393bab074c3",
   "metadata": {},
   "outputs": [
    {
     "name": "stdout",
     "output_type": "stream",
     "text": [
      "190\n"
     ]
    }
   ],
   "source": [
    "# Count the unique recording values, then shuffle the unique values\n",
    "unique_recordings = all_df['recording num'].unique()\n",
    "np.random.shuffle(unique_recordings)  \n",
    "\n",
    "# Determine the split index\n",
    "split_index = int(len(unique_recordings) * TRAIN_TEST_SPLIT)\n",
    "print(split_index)"
   ]
  },
  {
   "cell_type": "code",
   "execution_count": 44,
   "id": "6376bde1-2d3a-47bd-b55c-1e06c6d1e96e",
   "metadata": {},
   "outputs": [
    {
     "data": {
      "text/plain": [
       "array([223, 142, 232, 173, 136, 41, 37, 219, 198, 11, 34, 85, 131, 222,\n",
       "       152, 155, 6, 174, 73, 59, 44, 210, 24, 55, 214, 32, 143, 182, 94,\n",
       "       220, 160, 225, 103, 228, 192, 117, 48, 16, 119, 92, 102, 236, 191,\n",
       "       128, 75, 181, 164, 140, 22, 134, 30, 105, 40, 208, 166, 229, 234,\n",
       "       18, 65, 0, 227, 141, 221, 171, 139, 186, 231, 111, 151, 163, 180,\n",
       "       138, 201, 12, 127, 26, 50, 101, 54, 170, 144, 196, 216, 63, 83,\n",
       "       147, 49, 70, 120, 172, 156, 169, 218, 80, 153, 29, 97, 108, 95, 78,\n",
       "       82, 161, 9, 193, 69, 7, 132, 68, 130, 167, 224, 177, 51, 215, 58,\n",
       "       149, 88, 38, 137, 146, 162, 8, 202, 121, 99, 42, 64, 93, 5, 81, 61,\n",
       "       113, 176, 76, 72, 183, 150, 213, 2, 107, 217, 207, 187, 39, 4, 21,\n",
       "       159, 89, 226, 35, 87, 135, 14, 36, 189, 3, 31, 114, 122, 15, 237,\n",
       "       46, 10, 157, 185, 45, 100, 47, 28, 194, 233, 19, 154, 133, 123,\n",
       "       206, 104, 118, 116, 212, 13, 158, 20, 60, 175, 109, 179, 204, 115,\n",
       "       106, 145, 52, 91, 66, 67, 74, 98, 25, 57, 71, 124, 178, 199, 129,\n",
       "       125, 200, 84, 211, 43, 86, 190, 33, 235, 165, 27, 205, 184, 110,\n",
       "       126, 17, 148, 79, 203, 77, 197, 188, 195, 96, 53, 209, 62, 1, 90,\n",
       "       230, 168, 23, 56, 112], dtype=object)"
      ]
     },
     "execution_count": 44,
     "metadata": {},
     "output_type": "execute_result"
    }
   ],
   "source": [
    "unique_recordings"
   ]
  },
  {
   "cell_type": "code",
   "execution_count": 2,
   "id": "5ccf9c21-226f-4cd5-923f-9d405c7f4e37",
   "metadata": {},
   "outputs": [
    {
     "ename": "NameError",
     "evalue": "name 'unique_recordings' is not defined",
     "output_type": "error",
     "traceback": [
      "\u001b[1;31m---------------------------------------------------------------------------\u001b[0m",
      "\u001b[1;31mNameError\u001b[0m                                 Traceback (most recent call last)",
      "Cell \u001b[1;32mIn[2], line 2\u001b[0m\n\u001b[0;32m      1\u001b[0m \u001b[38;5;66;03m# Split the unique values into two sets for train and test datasets WITH DIFFERENT SPEAKERS IN EACH\u001b[39;00m\n\u001b[1;32m----> 2\u001b[0m recording_train \u001b[38;5;241m=\u001b[39m \u001b[43munique_recordings\u001b[49m[:split_index]\n\u001b[0;32m      3\u001b[0m recording_test \u001b[38;5;241m=\u001b[39m unique_recordings[split_index:]\n",
      "\u001b[1;31mNameError\u001b[0m: name 'unique_recordings' is not defined"
     ]
    }
   ],
   "source": [
    "# Split the unique values into two sets for train and test datasets WITH DIFFERENT SPEAKERS IN EACH\n",
    "recording_train = unique_recordings[:split_index]\n",
    "recording_test = unique_recordings[split_index:]"
   ]
  },
  {
   "cell_type": "code",
   "execution_count": 46,
   "id": "5adb60f0-98f0-41bf-b6bc-00103b4f35f7",
   "metadata": {},
   "outputs": [
    {
     "name": "stdout",
     "output_type": "stream",
     "text": [
      "[223 142 232 173 136 41 37 219 198 11 34 85 131 222 152 155 6 174 73 59 44\n",
      " 210 24 55 214 32 143 182 94 220 160 225 103 228 192 117 48 16 119 92 102\n",
      " 236 191 128 75 181 164 140 22 134 30 105 40 208 166 229 234 18 65 0 227\n",
      " 141 221 171 139 186 231 111 151 163 180 138 201 12 127 26 50 101 54 170\n",
      " 144 196 216 63 83 147 49 70 120 172 156 169 218 80 153 29 97 108 95 78 82\n",
      " 161 9 193 69 7 132 68 130 167 224 177 51 215 58 149 88 38 137 146 162 8\n",
      " 202 121 99 42 64 93 5 81 61 113 176 76 72 183 150 213 2 107 217 207 187\n",
      " 39 4 21 159 89 226 35 87 135 14 36 189 3 31 114 122 15 237 46 10 157 185\n",
      " 45 100 47 28 194 233 19 154 133 123 206 104 118 116 212 13 158 20 60 175\n",
      " 109 179 204 115 106]\n"
     ]
    }
   ],
   "source": [
    "print(recording_train) # TRAIN portion of the randomly shuffled dataset"
   ]
  },
  {
   "cell_type": "code",
   "execution_count": 47,
   "id": "d9030d4b-72ce-4d97-87ee-26174e874295",
   "metadata": {},
   "outputs": [
    {
     "name": "stdout",
     "output_type": "stream",
     "text": [
      "[145 52 91 66 67 74 98 25 57 71 124 178 199 129 125 200 84 211 43 86 190\n",
      " 33 235 165 27 205 184 110 126 17 148 79 203 77 197 188 195 96 53 209 62 1\n",
      " 90 230 168 23 56 112]\n"
     ]
    }
   ],
   "source": [
    "print(recording_test) # TEST portion of the randomly shuffled dataset"
   ]
  },
  {
   "cell_type": "code",
   "execution_count": 48,
   "id": "2d20026e-e291-45ad-9285-0c8de87ee3fe",
   "metadata": {},
   "outputs": [],
   "source": [
    "# Create two new DataFrames based on the split unique values\n",
    "train_df = all_df[all_df['recording num'].isin(recording_train)].reset_index(drop=True)\n",
    "test_df = all_df[all_df['recording num'].isin(recording_test)].reset_index(drop=True)"
   ]
  },
  {
   "cell_type": "code",
   "execution_count": 49,
   "id": "5f603b30-c90b-4c7f-8603-48e905decd1a",
   "metadata": {},
   "outputs": [
    {
     "data": {
      "text/plain": [
       "(17181, 33)"
      ]
     },
     "execution_count": 49,
     "metadata": {},
     "output_type": "execute_result"
    }
   ],
   "source": [
    "train_df.shape"
   ]
  },
  {
   "cell_type": "code",
   "execution_count": 50,
   "id": "514c2991-a9b1-43f5-8680-b7a9a0f21e74",
   "metadata": {},
   "outputs": [
    {
     "data": {
      "text/plain": [
       "(4413, 33)"
      ]
     },
     "execution_count": 50,
     "metadata": {},
     "output_type": "execute_result"
    }
   ],
   "source": [
    "test_df.shape"
   ]
  },
  {
   "cell_type": "code",
   "execution_count": null,
   "id": "d1db0b99-647e-4e01-a39e-9059e05b9671",
   "metadata": {},
   "outputs": [],
   "source": []
  },
  {
   "cell_type": "markdown",
   "id": "316c253c-df19-47ec-9978-9da530a8335f",
   "metadata": {},
   "source": [
    "## Inspect MFCCx features"
   ]
  },
  {
   "cell_type": "code",
   "execution_count": 51,
   "id": "32ab21d2-9ee0-4e77-bf37-0fc22590f880",
   "metadata": {},
   "outputs": [
    {
     "data": {
      "text/plain": [
       "(20, 44)"
      ]
     },
     "execution_count": 51,
     "metadata": {},
     "output_type": "execute_result"
    }
   ],
   "source": [
    "# Each individual MFCC shape\n",
    "train_df['mfcc'][0].shape"
   ]
  },
  {
   "cell_type": "code",
   "execution_count": 52,
   "id": "1ef72c0f-0c15-4ee9-9acc-50d47156637c",
   "metadata": {},
   "outputs": [
    {
     "data": {
      "text/plain": [
       "(17181,)"
      ]
     },
     "execution_count": 52,
     "metadata": {},
     "output_type": "execute_result"
    }
   ],
   "source": [
    "# Full array of MFCC values\n",
    "train_df['mfcc'].shape"
   ]
  },
  {
   "cell_type": "code",
   "execution_count": 53,
   "id": "301d0bb9-2ffa-4e47-985f-2227dc456515",
   "metadata": {},
   "outputs": [],
   "source": [
    "X_train = np.stack((train_df['mfcc'],train_df['mfcc_delta'],train_df['mfcc_delta_2']),axis=-1)"
   ]
  },
  {
   "cell_type": "code",
   "execution_count": 54,
   "id": "65060eee-183e-4e8b-a9e9-c31299d21005",
   "metadata": {},
   "outputs": [
    {
     "data": {
      "text/plain": [
       "(17181,)"
      ]
     },
     "execution_count": 54,
     "metadata": {},
     "output_type": "execute_result"
    }
   ],
   "source": [
    "train_df['mfcc'].shape"
   ]
  },
  {
   "cell_type": "code",
   "execution_count": 55,
   "id": "59f8daa1-719c-428f-8372-993854fe7c4b",
   "metadata": {},
   "outputs": [
    {
     "data": {
      "text/plain": [
       "pandas.core.series.Series"
      ]
     },
     "execution_count": 55,
     "metadata": {},
     "output_type": "execute_result"
    }
   ],
   "source": [
    "type(train_df['mfcc'])"
   ]
  },
  {
   "cell_type": "code",
   "execution_count": 56,
   "id": "b2f59a7c-54af-4b6e-9ec2-3f7f41e81e29",
   "metadata": {},
   "outputs": [
    {
     "data": {
      "text/plain": [
       "numpy.ndarray"
      ]
     },
     "execution_count": 56,
     "metadata": {},
     "output_type": "execute_result"
    }
   ],
   "source": [
    "type(train_df['mfcc'][0])"
   ]
  },
  {
   "cell_type": "code",
   "execution_count": 57,
   "id": "cd165a0d-810a-4ab1-9d5f-b524dd3a5f76",
   "metadata": {},
   "outputs": [
    {
     "data": {
      "text/plain": [
       "(20, 44)"
      ]
     },
     "execution_count": 57,
     "metadata": {},
     "output_type": "execute_result"
    }
   ],
   "source": [
    "train_df['mfcc'][0].shape"
   ]
  },
  {
   "cell_type": "code",
   "execution_count": 58,
   "id": "78e7fdac-11d0-4b8b-9d78-a8cfd29098b1",
   "metadata": {},
   "outputs": [
    {
     "data": {
      "text/plain": [
       "0        [[-494.3632, -314.76587, -256.5209, -248.23921...\n",
       "1        [[-200.87267, -189.22813, -205.93425, -217.350...\n",
       "2        [[-269.9958, -209.71855, -199.9971, -192.51334...\n",
       "3        [[-319.19656, -307.64944, -314.54547, -295.997...\n",
       "4        [[-238.38216, -228.49149, -256.09305, -273.210...\n",
       "                               ...                        \n",
       "17176    [[-110.30995, -99.04926, -126.198555, -136.179...\n",
       "17177    [[-97.73651, -89.979546, -113.11529, -134.1764...\n",
       "17178    [[-239.09358, -160.47281, -144.84918, -154.863...\n",
       "17179    [[-87.451416, -108.45021, -148.85347, -161.430...\n",
       "17180    [[-170.16429, -178.88602, -222.11624, -225.288...\n",
       "Name: mfcc, Length: 17181, dtype: object"
      ]
     },
     "execution_count": 58,
     "metadata": {},
     "output_type": "execute_result"
    }
   ],
   "source": [
    "train_df['mfcc']"
   ]
  },
  {
   "cell_type": "code",
   "execution_count": 59,
   "id": "ddd8e4e3-0380-40e7-95ff-a00a36185f6b",
   "metadata": {},
   "outputs": [
    {
     "data": {
      "text/plain": [
       "array([-494.3632 , -314.76587, -256.5209 , -248.23921, -253.03188,\n",
       "       -255.51733, -248.05202, -232.95198, -219.96217, -142.84169,\n",
       "        -97.36846, -110.77999, -132.57796, -174.49683, -258.99118,\n",
       "       -296.77695, -227.69757, -172.99887, -191.70612, -218.03659,\n",
       "       -223.80177, -241.4747 , -248.62724, -224.09459, -206.40266,\n",
       "       -212.6678 , -253.71323, -299.12943, -224.64539, -194.39392,\n",
       "       -214.50746, -199.5038 , -175.75398, -197.1167 , -248.56822,\n",
       "       -264.3485 , -266.5907 , -286.43826, -294.3691 , -290.6586 ,\n",
       "       -294.62158, -269.237  , -165.28264, -153.55447], dtype=float32)"
      ]
     },
     "execution_count": 59,
     "metadata": {},
     "output_type": "execute_result"
    }
   ],
   "source": [
    "train_df['mfcc'][0][0]"
   ]
  },
  {
   "cell_type": "code",
   "execution_count": 60,
   "id": "b8171fe9-b747-4812-9d32-73a38ab4a562",
   "metadata": {},
   "outputs": [
    {
     "data": {
      "text/plain": [
       "numpy.ndarray"
      ]
     },
     "execution_count": 60,
     "metadata": {},
     "output_type": "execute_result"
    }
   ],
   "source": [
    "type(train_df['mfcc'][0][0])"
   ]
  },
  {
   "cell_type": "code",
   "execution_count": 61,
   "id": "b35757ee-914b-43ac-9cc0-d4719d500f60",
   "metadata": {},
   "outputs": [
    {
     "data": {
      "text/plain": [
       "(44,)"
      ]
     },
     "execution_count": 61,
     "metadata": {},
     "output_type": "execute_result"
    }
   ],
   "source": [
    "train_df['mfcc'][0][0].shape"
   ]
  },
  {
   "cell_type": "code",
   "execution_count": 62,
   "id": "8e6b5579-520a-46be-920b-181ab851ead5",
   "metadata": {},
   "outputs": [
    {
     "data": {
      "text/plain": [
       "(17181, 3)"
      ]
     },
     "execution_count": 62,
     "metadata": {},
     "output_type": "execute_result"
    }
   ],
   "source": [
    "X_train.shape"
   ]
  },
  {
   "cell_type": "code",
   "execution_count": 63,
   "id": "087fdfa6-b8b6-485e-8256-c3f11ca10fd2",
   "metadata": {},
   "outputs": [
    {
     "data": {
      "text/plain": [
       "(20, 44)"
      ]
     },
     "execution_count": 63,
     "metadata": {},
     "output_type": "execute_result"
    }
   ],
   "source": [
    "X_train[0][0].shape"
   ]
  },
  {
   "cell_type": "code",
   "execution_count": 64,
   "id": "bcb75c86-29a0-43b2-965a-8892c2a060ce",
   "metadata": {},
   "outputs": [],
   "source": [
    "X_test = np.stack((test_df['mfcc'],test_df['mfcc_delta'],test_df['mfcc_delta_2']),axis=-1)"
   ]
  },
  {
   "cell_type": "markdown",
   "id": "4f8c439a-184e-4398-9689-7578ea5bc530",
   "metadata": {},
   "source": [
    "## Reshape MFCC features"
   ]
  },
  {
   "cell_type": "code",
   "execution_count": 65,
   "id": "dc50c58d-d8a0-40ca-bca7-23c69fde3745",
   "metadata": {},
   "outputs": [],
   "source": [
    "\n",
    "def preprocess_features(feature: str ='mfcc', input: pd.DataFrame =train_df, output: pd.DataFrame ='X', ): \n",
    "    '''\n",
    "    preprocess_features(feature: str ='mfcc', input: pd.DataFrame =train_df, output: pd.DataFrame ='X',)\n",
    "    feature = numerical feature from dataset, usually 'mfcc', 'mfcc_delta', 'mfcc_delta_2'\n",
    "    input = source dataset, usually train_df or test_df\n",
    "    output = destination output dataframe\n",
    "    '''\n",
    "    flattened=[]\n",
    "    flattened_index=input.index\n",
    "    for j in input[feature]:\n",
    "        flattened.append(np.array(j.flatten()))\n",
    "    #print(len(flattened))\n",
    "    output = pd.Series(flattened, index=flattened_index)\n",
    "    output = np.stack(output.values)\n",
    "    return output\n"
   ]
  },
  {
   "cell_type": "code",
   "execution_count": 66,
   "id": "79c787f2-5cb7-458a-acd3-0dc7922e1e32",
   "metadata": {},
   "outputs": [
    {
     "name": "stdout",
     "output_type": "stream",
     "text": [
      "[[-4.94363190e+02 -3.14765869e+02 -2.56520905e+02 ... -1.60376263e+00\n",
      "  -3.11242390e+00 -1.56794906e+00]\n",
      " [-2.00872665e+02 -1.89228134e+02 -2.05934250e+02 ...  9.28223610e+00\n",
      "   8.04540825e+00  1.06966095e+01]\n",
      " [-2.69995789e+02 -2.09718552e+02 -1.99997101e+02 ... -3.92313886e+00\n",
      "  -7.42311621e+00 -5.33314514e+00]\n",
      " ...\n",
      " [-2.39093582e+02 -1.60472809e+02 -1.44849182e+02 ... -3.65712166e-01\n",
      "  -8.62231541e+00 -7.36551952e+00]\n",
      " [-8.74514160e+01 -1.08450211e+02 -1.48853470e+02 ... -3.99238062e+00\n",
      "  -2.72970438e+00 -2.40183997e+00]\n",
      " [-1.70164291e+02 -1.78886017e+02 -2.22116241e+02 ... -1.29232941e+01\n",
      "  -1.03022346e+01 -5.41623688e+00]]\n",
      "(17181, 880)\n",
      "<class 'numpy.ndarray'>\n"
     ]
    }
   ],
   "source": [
    "mfcc_train=preprocess_features('mfcc')\n",
    "print(mfcc_train)\n",
    "print(mfcc_train.shape)\n",
    "print(type(mfcc_train))"
   ]
  },
  {
   "cell_type": "code",
   "execution_count": 67,
   "id": "31030dd6-7e7c-41cd-9ba6-a3aeed8c3205",
   "metadata": {},
   "outputs": [
    {
     "name": "stdout",
     "output_type": "stream",
     "text": [
      "[[-1.9258206e+02 -1.7897838e+02 -2.0269991e+02 ... -6.0020957e+00\n",
      "  -8.5819588e+00 -7.9937773e+00]\n",
      " [-2.4248033e+02 -2.3579128e+02 -2.7496640e+02 ... -6.3402867e-01\n",
      "   2.1134546e+00  5.8295670e+00]\n",
      " [-4.0104791e+02 -3.6778891e+02 -3.6861429e+02 ... -6.7300949e+00\n",
      "  -3.7140150e+00 -3.3979897e+00]\n",
      " ...\n",
      " [-2.3622951e+02 -2.2657021e+02 -2.5364145e+02 ... -1.0759991e+01\n",
      "  -1.2976841e+01 -6.3813190e+00]\n",
      " [-7.0539040e+01 -1.0354980e+02 -1.8674783e+02 ...  1.6289256e+00\n",
      "  -7.9042464e-03  2.0488713e+00]\n",
      " [-4.3066998e+02 -3.8125369e+02 -3.5371768e+02 ... -3.0282297e+00\n",
      "   1.8168622e-01  1.0387173e+00]]\n",
      "(4413, 880)\n",
      "<class 'numpy.ndarray'>\n"
     ]
    }
   ],
   "source": [
    "mfcc_test=preprocess_features(feature='mfcc',input=test_df)\n",
    "print(mfcc_test)\n",
    "print(mfcc_test.shape)\n",
    "print(type(mfcc_test))"
   ]
  },
  {
   "cell_type": "code",
   "execution_count": 68,
   "id": "e6773e9a-b1b5-4d13-ae4e-fbf39da7106f",
   "metadata": {},
   "outputs": [
    {
     "data": {
      "text/plain": [
       "array([[22.54509   , 22.54509   , 22.54509   , ..., -0.12745161,\n",
       "        -0.12745161, -0.12745161],\n",
       "       [ 1.7263998 ,  1.7263998 ,  1.7263998 , ...,  1.8224183 ,\n",
       "         1.8224183 ,  1.8224183 ],\n",
       "       [ 7.1880474 ,  7.1880474 ,  7.1880474 , ..., -0.73991925,\n",
       "        -0.73991925, -0.73991925]], dtype=float32)"
      ]
     },
     "execution_count": 68,
     "metadata": {},
     "output_type": "execute_result"
    }
   ],
   "source": [
    "mfcc_delta_train=preprocess_features('mfcc_delta')\n",
    "mfcc_delta_train[0:3]"
   ]
  },
  {
   "cell_type": "code",
   "execution_count": 69,
   "id": "1a478dd8-dc1f-4df8-8dbe-6c582d14836d",
   "metadata": {},
   "outputs": [
    {
     "data": {
      "text/plain": [
       "array([[  4.923385  ,   4.923385  ,   4.923385  , ...,  -1.9246106 ,\n",
       "         -1.9246106 ,  -1.9246106 ],\n",
       "       [-18.472893  , -18.472893  , -18.472893  , ...,   0.19279245,\n",
       "          0.19279245,   0.19279245],\n",
       "       [  2.9945495 ,   2.9945495 ,   2.9945495 , ...,   0.22773969,\n",
       "          0.22773969,   0.22773969]], dtype=float32)"
      ]
     },
     "execution_count": 69,
     "metadata": {},
     "output_type": "execute_result"
    }
   ],
   "source": [
    "mfcc_delta_test=preprocess_features(feature='mfcc_delta',input=test_df)\n",
    "mfcc_delta_test[0:3]"
   ]
  },
  {
   "cell_type": "code",
   "execution_count": 70,
   "id": "ac378901-1619-4702-b76a-12e11296e5f3",
   "metadata": {},
   "outputs": [
    {
     "data": {
      "text/plain": [
       "array([[-1.3363751e+01, -1.3363751e+01, -1.3363751e+01, ...,\n",
       "        -1.3258730e-04, -1.3258730e-04, -1.3258730e-04],\n",
       "       [ 8.4426136e+00,  8.4426136e+00,  8.4426136e+00, ...,\n",
       "        -4.2466238e-01, -4.2466238e-01, -4.2466238e-01],\n",
       "       [-7.4126158e+00, -7.4126158e+00, -7.4126158e+00, ...,\n",
       "        -1.4199364e+00, -1.4199364e+00, -1.4199364e+00]], dtype=float32)"
      ]
     },
     "execution_count": 70,
     "metadata": {},
     "output_type": "execute_result"
    }
   ],
   "source": [
    "mfcc_delta_2_train=preprocess_features('mfcc_delta_2')\n",
    "mfcc_delta_2_train[0:3]"
   ]
  },
  {
   "cell_type": "code",
   "execution_count": 71,
   "id": "07c23abe-59cf-4100-af1f-f51816e2a762",
   "metadata": {},
   "outputs": [
    {
     "data": {
      "text/plain": [
       "array([[ 0.21570802,  0.21570802,  0.21570802, ...,  0.9317962 ,\n",
       "         0.9317962 ,  0.9317962 ],\n",
       "       [ 4.094953  ,  4.094953  ,  4.094953  , ..., -0.27899605,\n",
       "        -0.27899605, -0.27899605],\n",
       "       [-2.5580301 , -2.5580301 , -2.5580301 , ..., -0.5966005 ,\n",
       "        -0.5966005 , -0.5966005 ]], dtype=float32)"
      ]
     },
     "execution_count": 71,
     "metadata": {},
     "output_type": "execute_result"
    }
   ],
   "source": [
    "mfcc_delta_2_test=preprocess_features(feature='mfcc_delta_2',input=test_df)\n",
    "mfcc_delta_2_test[0:3]"
   ]
  },
  {
   "cell_type": "markdown",
   "id": "500b2e97-0e40-47db-95ae-efe9237b06a3",
   "metadata": {},
   "source": [
    "## Add ages and genders columns to train and test data"
   ]
  },
  {
   "cell_type": "code",
   "execution_count": 72,
   "id": "5efbfdfc-9396-44fd-89cf-ccfd0231e62f",
   "metadata": {},
   "outputs": [],
   "source": [
    "X_ages_train=train_df[[15,16,20,25,30,35,40,45,50,55,60,65,70]]"
   ]
  },
  {
   "cell_type": "code",
   "execution_count": 73,
   "id": "2763d341-0d62-400a-aa5c-ffdfecc193a5",
   "metadata": {
    "scrolled": true
   },
   "outputs": [
    {
     "data": {
      "text/html": [
       "<div>\n",
       "<style scoped>\n",
       "    .dataframe tbody tr th:only-of-type {\n",
       "        vertical-align: middle;\n",
       "    }\n",
       "\n",
       "    .dataframe tbody tr th {\n",
       "        vertical-align: top;\n",
       "    }\n",
       "\n",
       "    .dataframe thead th {\n",
       "        text-align: right;\n",
       "    }\n",
       "</style>\n",
       "<table border=\"1\" class=\"dataframe\">\n",
       "  <thead>\n",
       "    <tr style=\"text-align: right;\">\n",
       "      <th></th>\n",
       "      <th>15</th>\n",
       "      <th>16</th>\n",
       "      <th>20</th>\n",
       "      <th>25</th>\n",
       "      <th>30</th>\n",
       "      <th>35</th>\n",
       "      <th>40</th>\n",
       "      <th>45</th>\n",
       "      <th>50</th>\n",
       "      <th>55</th>\n",
       "      <th>60</th>\n",
       "      <th>65</th>\n",
       "      <th>70</th>\n",
       "    </tr>\n",
       "  </thead>\n",
       "  <tbody>\n",
       "    <tr>\n",
       "      <th>0</th>\n",
       "      <td>False</td>\n",
       "      <td>False</td>\n",
       "      <td>True</td>\n",
       "      <td>False</td>\n",
       "      <td>False</td>\n",
       "      <td>False</td>\n",
       "      <td>False</td>\n",
       "      <td>False</td>\n",
       "      <td>False</td>\n",
       "      <td>False</td>\n",
       "      <td>False</td>\n",
       "      <td>False</td>\n",
       "      <td>False</td>\n",
       "    </tr>\n",
       "    <tr>\n",
       "      <th>1</th>\n",
       "      <td>False</td>\n",
       "      <td>False</td>\n",
       "      <td>True</td>\n",
       "      <td>False</td>\n",
       "      <td>False</td>\n",
       "      <td>False</td>\n",
       "      <td>False</td>\n",
       "      <td>False</td>\n",
       "      <td>False</td>\n",
       "      <td>False</td>\n",
       "      <td>False</td>\n",
       "      <td>False</td>\n",
       "      <td>False</td>\n",
       "    </tr>\n",
       "    <tr>\n",
       "      <th>2</th>\n",
       "      <td>False</td>\n",
       "      <td>False</td>\n",
       "      <td>True</td>\n",
       "      <td>False</td>\n",
       "      <td>False</td>\n",
       "      <td>False</td>\n",
       "      <td>False</td>\n",
       "      <td>False</td>\n",
       "      <td>False</td>\n",
       "      <td>False</td>\n",
       "      <td>False</td>\n",
       "      <td>False</td>\n",
       "      <td>False</td>\n",
       "    </tr>\n",
       "    <tr>\n",
       "      <th>3</th>\n",
       "      <td>False</td>\n",
       "      <td>False</td>\n",
       "      <td>True</td>\n",
       "      <td>False</td>\n",
       "      <td>False</td>\n",
       "      <td>False</td>\n",
       "      <td>False</td>\n",
       "      <td>False</td>\n",
       "      <td>False</td>\n",
       "      <td>False</td>\n",
       "      <td>False</td>\n",
       "      <td>False</td>\n",
       "      <td>False</td>\n",
       "    </tr>\n",
       "    <tr>\n",
       "      <th>4</th>\n",
       "      <td>False</td>\n",
       "      <td>False</td>\n",
       "      <td>True</td>\n",
       "      <td>False</td>\n",
       "      <td>False</td>\n",
       "      <td>False</td>\n",
       "      <td>False</td>\n",
       "      <td>False</td>\n",
       "      <td>False</td>\n",
       "      <td>False</td>\n",
       "      <td>False</td>\n",
       "      <td>False</td>\n",
       "      <td>False</td>\n",
       "    </tr>\n",
       "    <tr>\n",
       "      <th>...</th>\n",
       "      <td>...</td>\n",
       "      <td>...</td>\n",
       "      <td>...</td>\n",
       "      <td>...</td>\n",
       "      <td>...</td>\n",
       "      <td>...</td>\n",
       "      <td>...</td>\n",
       "      <td>...</td>\n",
       "      <td>...</td>\n",
       "      <td>...</td>\n",
       "      <td>...</td>\n",
       "      <td>...</td>\n",
       "      <td>...</td>\n",
       "    </tr>\n",
       "    <tr>\n",
       "      <th>17176</th>\n",
       "      <td>False</td>\n",
       "      <td>False</td>\n",
       "      <td>True</td>\n",
       "      <td>False</td>\n",
       "      <td>False</td>\n",
       "      <td>False</td>\n",
       "      <td>False</td>\n",
       "      <td>False</td>\n",
       "      <td>False</td>\n",
       "      <td>False</td>\n",
       "      <td>False</td>\n",
       "      <td>False</td>\n",
       "      <td>False</td>\n",
       "    </tr>\n",
       "    <tr>\n",
       "      <th>17177</th>\n",
       "      <td>False</td>\n",
       "      <td>False</td>\n",
       "      <td>True</td>\n",
       "      <td>False</td>\n",
       "      <td>False</td>\n",
       "      <td>False</td>\n",
       "      <td>False</td>\n",
       "      <td>False</td>\n",
       "      <td>False</td>\n",
       "      <td>False</td>\n",
       "      <td>False</td>\n",
       "      <td>False</td>\n",
       "      <td>False</td>\n",
       "    </tr>\n",
       "    <tr>\n",
       "      <th>17178</th>\n",
       "      <td>False</td>\n",
       "      <td>False</td>\n",
       "      <td>True</td>\n",
       "      <td>False</td>\n",
       "      <td>False</td>\n",
       "      <td>False</td>\n",
       "      <td>False</td>\n",
       "      <td>False</td>\n",
       "      <td>False</td>\n",
       "      <td>False</td>\n",
       "      <td>False</td>\n",
       "      <td>False</td>\n",
       "      <td>False</td>\n",
       "    </tr>\n",
       "    <tr>\n",
       "      <th>17179</th>\n",
       "      <td>False</td>\n",
       "      <td>False</td>\n",
       "      <td>True</td>\n",
       "      <td>False</td>\n",
       "      <td>False</td>\n",
       "      <td>False</td>\n",
       "      <td>False</td>\n",
       "      <td>False</td>\n",
       "      <td>False</td>\n",
       "      <td>False</td>\n",
       "      <td>False</td>\n",
       "      <td>False</td>\n",
       "      <td>False</td>\n",
       "    </tr>\n",
       "    <tr>\n",
       "      <th>17180</th>\n",
       "      <td>False</td>\n",
       "      <td>False</td>\n",
       "      <td>True</td>\n",
       "      <td>False</td>\n",
       "      <td>False</td>\n",
       "      <td>False</td>\n",
       "      <td>False</td>\n",
       "      <td>False</td>\n",
       "      <td>False</td>\n",
       "      <td>False</td>\n",
       "      <td>False</td>\n",
       "      <td>False</td>\n",
       "      <td>False</td>\n",
       "    </tr>\n",
       "  </tbody>\n",
       "</table>\n",
       "<p>17181 rows × 13 columns</p>\n",
       "</div>"
      ],
      "text/plain": [
       "          15     16    20     25     30     35     40     45     50     55  \\\n",
       "0      False  False  True  False  False  False  False  False  False  False   \n",
       "1      False  False  True  False  False  False  False  False  False  False   \n",
       "2      False  False  True  False  False  False  False  False  False  False   \n",
       "3      False  False  True  False  False  False  False  False  False  False   \n",
       "4      False  False  True  False  False  False  False  False  False  False   \n",
       "...      ...    ...   ...    ...    ...    ...    ...    ...    ...    ...   \n",
       "17176  False  False  True  False  False  False  False  False  False  False   \n",
       "17177  False  False  True  False  False  False  False  False  False  False   \n",
       "17178  False  False  True  False  False  False  False  False  False  False   \n",
       "17179  False  False  True  False  False  False  False  False  False  False   \n",
       "17180  False  False  True  False  False  False  False  False  False  False   \n",
       "\n",
       "          60     65     70  \n",
       "0      False  False  False  \n",
       "1      False  False  False  \n",
       "2      False  False  False  \n",
       "3      False  False  False  \n",
       "4      False  False  False  \n",
       "...      ...    ...    ...  \n",
       "17176  False  False  False  \n",
       "17177  False  False  False  \n",
       "17178  False  False  False  \n",
       "17179  False  False  False  \n",
       "17180  False  False  False  \n",
       "\n",
       "[17181 rows x 13 columns]"
      ]
     },
     "execution_count": 73,
     "metadata": {},
     "output_type": "execute_result"
    }
   ],
   "source": [
    "X_ages_train"
   ]
  },
  {
   "cell_type": "code",
   "execution_count": 74,
   "id": "3f228fdc-c9bd-4e84-a262-9e13a6c4775c",
   "metadata": {},
   "outputs": [],
   "source": [
    "X_ages_test = test_df[[15,16,20,25,30,35,40,45,50,55,60,65,70]]"
   ]
  },
  {
   "cell_type": "code",
   "execution_count": 75,
   "id": "97deb267-13a7-4e0e-816e-e8d228247a8e",
   "metadata": {},
   "outputs": [
    {
     "data": {
      "text/html": [
       "<div>\n",
       "<style scoped>\n",
       "    .dataframe tbody tr th:only-of-type {\n",
       "        vertical-align: middle;\n",
       "    }\n",
       "\n",
       "    .dataframe tbody tr th {\n",
       "        vertical-align: top;\n",
       "    }\n",
       "\n",
       "    .dataframe thead th {\n",
       "        text-align: right;\n",
       "    }\n",
       "</style>\n",
       "<table border=\"1\" class=\"dataframe\">\n",
       "  <thead>\n",
       "    <tr style=\"text-align: right;\">\n",
       "      <th></th>\n",
       "      <th>15</th>\n",
       "      <th>16</th>\n",
       "      <th>20</th>\n",
       "      <th>25</th>\n",
       "      <th>30</th>\n",
       "      <th>35</th>\n",
       "      <th>40</th>\n",
       "      <th>45</th>\n",
       "      <th>50</th>\n",
       "      <th>55</th>\n",
       "      <th>60</th>\n",
       "      <th>65</th>\n",
       "      <th>70</th>\n",
       "    </tr>\n",
       "  </thead>\n",
       "  <tbody>\n",
       "    <tr>\n",
       "      <th>0</th>\n",
       "      <td>False</td>\n",
       "      <td>False</td>\n",
       "      <td>False</td>\n",
       "      <td>True</td>\n",
       "      <td>False</td>\n",
       "      <td>False</td>\n",
       "      <td>False</td>\n",
       "      <td>False</td>\n",
       "      <td>False</td>\n",
       "      <td>False</td>\n",
       "      <td>False</td>\n",
       "      <td>False</td>\n",
       "      <td>False</td>\n",
       "    </tr>\n",
       "    <tr>\n",
       "      <th>1</th>\n",
       "      <td>False</td>\n",
       "      <td>False</td>\n",
       "      <td>False</td>\n",
       "      <td>True</td>\n",
       "      <td>False</td>\n",
       "      <td>False</td>\n",
       "      <td>False</td>\n",
       "      <td>False</td>\n",
       "      <td>False</td>\n",
       "      <td>False</td>\n",
       "      <td>False</td>\n",
       "      <td>False</td>\n",
       "      <td>False</td>\n",
       "    </tr>\n",
       "    <tr>\n",
       "      <th>2</th>\n",
       "      <td>False</td>\n",
       "      <td>False</td>\n",
       "      <td>False</td>\n",
       "      <td>True</td>\n",
       "      <td>False</td>\n",
       "      <td>False</td>\n",
       "      <td>False</td>\n",
       "      <td>False</td>\n",
       "      <td>False</td>\n",
       "      <td>False</td>\n",
       "      <td>False</td>\n",
       "      <td>False</td>\n",
       "      <td>False</td>\n",
       "    </tr>\n",
       "    <tr>\n",
       "      <th>3</th>\n",
       "      <td>False</td>\n",
       "      <td>False</td>\n",
       "      <td>False</td>\n",
       "      <td>True</td>\n",
       "      <td>False</td>\n",
       "      <td>False</td>\n",
       "      <td>False</td>\n",
       "      <td>False</td>\n",
       "      <td>False</td>\n",
       "      <td>False</td>\n",
       "      <td>False</td>\n",
       "      <td>False</td>\n",
       "      <td>False</td>\n",
       "    </tr>\n",
       "    <tr>\n",
       "      <th>4</th>\n",
       "      <td>False</td>\n",
       "      <td>False</td>\n",
       "      <td>False</td>\n",
       "      <td>True</td>\n",
       "      <td>False</td>\n",
       "      <td>False</td>\n",
       "      <td>False</td>\n",
       "      <td>False</td>\n",
       "      <td>False</td>\n",
       "      <td>False</td>\n",
       "      <td>False</td>\n",
       "      <td>False</td>\n",
       "      <td>False</td>\n",
       "    </tr>\n",
       "    <tr>\n",
       "      <th>...</th>\n",
       "      <td>...</td>\n",
       "      <td>...</td>\n",
       "      <td>...</td>\n",
       "      <td>...</td>\n",
       "      <td>...</td>\n",
       "      <td>...</td>\n",
       "      <td>...</td>\n",
       "      <td>...</td>\n",
       "      <td>...</td>\n",
       "      <td>...</td>\n",
       "      <td>...</td>\n",
       "      <td>...</td>\n",
       "      <td>...</td>\n",
       "    </tr>\n",
       "    <tr>\n",
       "      <th>4408</th>\n",
       "      <td>False</td>\n",
       "      <td>False</td>\n",
       "      <td>True</td>\n",
       "      <td>False</td>\n",
       "      <td>False</td>\n",
       "      <td>False</td>\n",
       "      <td>False</td>\n",
       "      <td>False</td>\n",
       "      <td>False</td>\n",
       "      <td>False</td>\n",
       "      <td>False</td>\n",
       "      <td>False</td>\n",
       "      <td>False</td>\n",
       "    </tr>\n",
       "    <tr>\n",
       "      <th>4409</th>\n",
       "      <td>False</td>\n",
       "      <td>False</td>\n",
       "      <td>True</td>\n",
       "      <td>False</td>\n",
       "      <td>False</td>\n",
       "      <td>False</td>\n",
       "      <td>False</td>\n",
       "      <td>False</td>\n",
       "      <td>False</td>\n",
       "      <td>False</td>\n",
       "      <td>False</td>\n",
       "      <td>False</td>\n",
       "      <td>False</td>\n",
       "    </tr>\n",
       "    <tr>\n",
       "      <th>4410</th>\n",
       "      <td>False</td>\n",
       "      <td>False</td>\n",
       "      <td>True</td>\n",
       "      <td>False</td>\n",
       "      <td>False</td>\n",
       "      <td>False</td>\n",
       "      <td>False</td>\n",
       "      <td>False</td>\n",
       "      <td>False</td>\n",
       "      <td>False</td>\n",
       "      <td>False</td>\n",
       "      <td>False</td>\n",
       "      <td>False</td>\n",
       "    </tr>\n",
       "    <tr>\n",
       "      <th>4411</th>\n",
       "      <td>False</td>\n",
       "      <td>False</td>\n",
       "      <td>True</td>\n",
       "      <td>False</td>\n",
       "      <td>False</td>\n",
       "      <td>False</td>\n",
       "      <td>False</td>\n",
       "      <td>False</td>\n",
       "      <td>False</td>\n",
       "      <td>False</td>\n",
       "      <td>False</td>\n",
       "      <td>False</td>\n",
       "      <td>False</td>\n",
       "    </tr>\n",
       "    <tr>\n",
       "      <th>4412</th>\n",
       "      <td>False</td>\n",
       "      <td>False</td>\n",
       "      <td>True</td>\n",
       "      <td>False</td>\n",
       "      <td>False</td>\n",
       "      <td>False</td>\n",
       "      <td>False</td>\n",
       "      <td>False</td>\n",
       "      <td>False</td>\n",
       "      <td>False</td>\n",
       "      <td>False</td>\n",
       "      <td>False</td>\n",
       "      <td>False</td>\n",
       "    </tr>\n",
       "  </tbody>\n",
       "</table>\n",
       "<p>4413 rows × 13 columns</p>\n",
       "</div>"
      ],
      "text/plain": [
       "         15     16     20     25     30     35     40     45     50     55  \\\n",
       "0     False  False  False   True  False  False  False  False  False  False   \n",
       "1     False  False  False   True  False  False  False  False  False  False   \n",
       "2     False  False  False   True  False  False  False  False  False  False   \n",
       "3     False  False  False   True  False  False  False  False  False  False   \n",
       "4     False  False  False   True  False  False  False  False  False  False   \n",
       "...     ...    ...    ...    ...    ...    ...    ...    ...    ...    ...   \n",
       "4408  False  False   True  False  False  False  False  False  False  False   \n",
       "4409  False  False   True  False  False  False  False  False  False  False   \n",
       "4410  False  False   True  False  False  False  False  False  False  False   \n",
       "4411  False  False   True  False  False  False  False  False  False  False   \n",
       "4412  False  False   True  False  False  False  False  False  False  False   \n",
       "\n",
       "         60     65     70  \n",
       "0     False  False  False  \n",
       "1     False  False  False  \n",
       "2     False  False  False  \n",
       "3     False  False  False  \n",
       "4     False  False  False  \n",
       "...     ...    ...    ...  \n",
       "4408  False  False  False  \n",
       "4409  False  False  False  \n",
       "4410  False  False  False  \n",
       "4411  False  False  False  \n",
       "4412  False  False  False  \n",
       "\n",
       "[4413 rows x 13 columns]"
      ]
     },
     "execution_count": 75,
     "metadata": {},
     "output_type": "execute_result"
    }
   ],
   "source": [
    "X_ages_test"
   ]
  },
  {
   "cell_type": "code",
   "execution_count": 76,
   "id": "574b1019-9baa-42d4-83b4-ee38a154966d",
   "metadata": {},
   "outputs": [],
   "source": [
    "X_genders_train=train_df[['F','M']]"
   ]
  },
  {
   "cell_type": "code",
   "execution_count": 77,
   "id": "2c20df03-7d1e-4dce-b941-ae696c6a38ac",
   "metadata": {},
   "outputs": [],
   "source": [
    "X_genders_test = test_df[['F','M']]"
   ]
  },
  {
   "cell_type": "code",
   "execution_count": 78,
   "id": "7dc9fe1f-2ad4-44ab-b6ab-dcd0b031efa1",
   "metadata": {},
   "outputs": [],
   "source": [
    "#X_train, X_test = mfcc_train, mfcc_test"
   ]
  },
  {
   "cell_type": "code",
   "execution_count": 79,
   "id": "1464bcc7-c102-4121-83a1-4e50dd4b8207",
   "metadata": {},
   "outputs": [],
   "source": [
    "#X_train=np.stack((mfcc_train, mfcc_delta_train, mfcc_delta_2_train), axis=-1)"
   ]
  },
  {
   "cell_type": "code",
   "execution_count": 80,
   "id": "d2013cf4-8012-4a5d-a563-6ad11030fe9d",
   "metadata": {},
   "outputs": [],
   "source": [
    "#X_train=np.hstack((mfcc_train, mfcc_delta_train, mfcc_delta_2_train,X_genders_train))\n",
    "#X_train.shape"
   ]
  },
  {
   "cell_type": "code",
   "execution_count": 81,
   "id": "96122d0b-c618-4072-9fae-86c015f17d65",
   "metadata": {},
   "outputs": [
    {
     "data": {
      "text/plain": [
       "(17181, 2655)"
      ]
     },
     "execution_count": 81,
     "metadata": {},
     "output_type": "execute_result"
    }
   ],
   "source": [
    "X_train=np.hstack((mfcc_train, mfcc_delta_train, mfcc_delta_2_train,X_genders_train,X_ages_train))\n",
    "X_train.shape"
   ]
  },
  {
   "cell_type": "code",
   "execution_count": 82,
   "id": "7581cc84-0080-4f9d-ba3e-53fc88c64f56",
   "metadata": {},
   "outputs": [],
   "source": [
    "#X_test=np.stack((mfcc_test, mfcc_delta_2_test, mfcc_delta_2_test), axis=-1)"
   ]
  },
  {
   "cell_type": "code",
   "execution_count": 83,
   "id": "b71316b1-aa5e-44e1-afe2-ec665409ef8b",
   "metadata": {},
   "outputs": [],
   "source": [
    "#X_test2=np.hstack((mfcc_test, mfcc_delta_2_test, mfcc_delta_2_test,X_genders_test))"
   ]
  },
  {
   "cell_type": "code",
   "execution_count": 84,
   "id": "3c84d136-bb74-4fe8-bb63-3ad70bad7655",
   "metadata": {},
   "outputs": [],
   "source": [
    "#X_test2.shape"
   ]
  },
  {
   "cell_type": "code",
   "execution_count": 85,
   "id": "a0ba7928-20d6-4fc0-aeb6-53995e9ccec9",
   "metadata": {},
   "outputs": [],
   "source": [
    "X_test=np.hstack((mfcc_test, mfcc_delta_2_test, mfcc_delta_2_test,X_genders_test,X_ages_test))"
   ]
  },
  {
   "cell_type": "code",
   "execution_count": 86,
   "id": "6bc35842-489a-44c5-996f-95826aee88fe",
   "metadata": {},
   "outputs": [
    {
     "data": {
      "text/plain": [
       "(4413, 2655)"
      ]
     },
     "execution_count": 86,
     "metadata": {},
     "output_type": "execute_result"
    }
   ],
   "source": [
    "X_test.shape"
   ]
  },
  {
   "cell_type": "code",
   "execution_count": 87,
   "id": "affdf663-8c55-4761-a6f9-a66e12e1a138",
   "metadata": {},
   "outputs": [
    {
     "data": {
      "text/plain": [
       "21594"
      ]
     },
     "execution_count": 87,
     "metadata": {},
     "output_type": "execute_result"
    }
   ],
   "source": [
    "# Check the total number of records in train and test is the same as in ANT and DUB dataframes\n",
    "X_train.shape[0]+X_test.shape[0]"
   ]
  },
  {
   "cell_type": "code",
   "execution_count": 88,
   "id": "38183d34-024f-4426-a273-d2c627a7d557",
   "metadata": {},
   "outputs": [
    {
     "data": {
      "text/plain": [
       "F      M    \n",
       "False  True     2325\n",
       "True   False    2088\n",
       "Name: count, dtype: int64"
      ]
     },
     "execution_count": 88,
     "metadata": {},
     "output_type": "execute_result"
    }
   ],
   "source": [
    "X_genders_test.value_counts()"
   ]
  },
  {
   "cell_type": "code",
   "execution_count": 89,
   "id": "d03e3b40-8f21-46d3-9056-4130ff2df415",
   "metadata": {},
   "outputs": [
    {
     "name": "stdout",
     "output_type": "stream",
     "text": [
      "(4413, 2655)\n"
     ]
    }
   ],
   "source": [
    "X_test\n",
    "print(X_test.shape)"
   ]
  },
  {
   "cell_type": "code",
   "execution_count": 90,
   "id": "6f1fb93e-5432-46c4-93b5-22964de23eb1",
   "metadata": {},
   "outputs": [
    {
     "data": {
      "text/plain": [
       "(17181, 2655)"
      ]
     },
     "execution_count": 90,
     "metadata": {},
     "output_type": "execute_result"
    }
   ],
   "source": [
    "X_train.shape"
   ]
  },
  {
   "cell_type": "code",
   "execution_count": 91,
   "id": "3023d165-256d-4934-b984-62c3e7264bd8",
   "metadata": {},
   "outputs": [
    {
     "data": {
      "text/plain": [
       "array([[-494.3632 , -314.76587, -256.5209 , ...,    0.     ,    0.     ,\n",
       "           0.     ]], dtype=float32)"
      ]
     },
     "execution_count": 91,
     "metadata": {},
     "output_type": "execute_result"
    }
   ],
   "source": [
    "X_train[0:1]"
   ]
  },
  {
   "cell_type": "code",
   "execution_count": 92,
   "id": "4fd51d92-03eb-4539-8831-5c88ff4c9809",
   "metadata": {},
   "outputs": [],
   "source": [
    "y_train, y_test = train_df['y'], test_df['y'], "
   ]
  },
  {
   "cell_type": "code",
   "execution_count": 93,
   "id": "4063bfa1-ed96-442e-8444-d4094711569a",
   "metadata": {},
   "outputs": [
    {
     "name": "stdout",
     "output_type": "stream",
     "text": [
      "(17181,)\n"
     ]
    },
    {
     "data": {
      "text/plain": [
       "array([1, 1, 1, ..., 0, 0, 0], dtype=int64)"
      ]
     },
     "execution_count": 93,
     "metadata": {},
     "output_type": "execute_result"
    }
   ],
   "source": [
    "print(y_train.shape)\n",
    "y_train=np.array(y_train)\n",
    "y_train"
   ]
  },
  {
   "cell_type": "code",
   "execution_count": 94,
   "id": "3f2851ac-efb5-4870-af68-12754a721c3f",
   "metadata": {},
   "outputs": [
    {
     "name": "stdout",
     "output_type": "stream",
     "text": [
      "(4413,)\n"
     ]
    }
   ],
   "source": [
    "print(y_test.shape)\n",
    "y_test=np.array(y_test)"
   ]
  },
  {
   "cell_type": "markdown",
   "id": "35f33ca9-f06c-4446-860a-2cf209d13c1a",
   "metadata": {},
   "source": [
    "## Compute class weights"
   ]
  },
  {
   "cell_type": "code",
   "execution_count": 95,
   "id": "8fb950c5-491c-45c0-a537-efc61917bec9",
   "metadata": {},
   "outputs": [
    {
     "name": "stdout",
     "output_type": "stream",
     "text": [
      "Class Weights: {0: 0.7126088759850684, 1: 1.675868123293016}\n"
     ]
    }
   ],
   "source": [
    "class_weights = compute_class_weight('balanced', classes=np.unique(y_train), y=y_train)\n",
    "class_weights = {i : class_weights[i] for i in range(len(class_weights))}\n",
    "print(\"Class Weights:\", class_weights)"
   ]
  },
  {
   "cell_type": "code",
   "execution_count": 96,
   "id": "15f52bd1-7f16-49bf-94ba-41d2243f06ef",
   "metadata": {},
   "outputs": [],
   "source": [
    "#scaler = StandardScaler()\n",
    "#X_train_scaled  = scaler.fit_transform(X_train)\n",
    "#X_test_scaled = scaler.transform(X_test)"
   ]
  },
  {
   "cell_type": "code",
   "execution_count": 97,
   "id": "440f2d65-0c38-4a8c-83d1-692f296bb5b6",
   "metadata": {},
   "outputs": [
    {
     "name": "stdout",
     "output_type": "stream",
     "text": [
      "ANTBEL share = 29.84%\n",
      "DUB share = 70.16%\n"
     ]
    }
   ],
   "source": [
    "ANTBEL_share=(y_train.sum()/y_train.shape[0])\n",
    "DUB_share=1-ANTBEL_share\n",
    "print(\"ANTBEL share = {:.2%}\".format(ANTBEL_share))\n",
    "print(\"DUB share = {:.2%}\".format(DUB_share))"
   ]
  },
  {
   "cell_type": "code",
   "execution_count": 98,
   "id": "3cb5c155-bbc0-4154-ace1-a21682e84628",
   "metadata": {},
   "outputs": [],
   "source": [
    "#input_shape=(880,3) # MFCCs stacked vertically\n",
    "#input_shape=(2642,) # MFCCs stacked horizontally alongside gender one-hot variables\n",
    "\n",
    "input_shape=(2655,) # MFCCs stacked horizontally alongside gender and age one-hot variables\n"
   ]
  },
  {
   "cell_type": "markdown",
   "id": "646b96d2-b5b9-4aca-9245-a7d15a21767e",
   "metadata": {},
   "source": [
    "# Build Model for Autotuning MLP NN"
   ]
  },
  {
   "cell_type": "code",
   "execution_count": 99,
   "id": "aed8fb63-344d-42fd-9945-d6ff74660d39",
   "metadata": {},
   "outputs": [],
   "source": [
    "# Add normalization and dropout\n",
    "\n",
    "def build_model(hp,):\n",
    "      \n",
    "    model = keras.Sequential()\n",
    "    \n",
    "    model.add(layers.LayerNormalization(input_shape=input_shape))\n",
    "\n",
    "    model.add(layers.Flatten(input_shape=input_shape))  # Adjust input shape according to your data\n",
    "    \n",
    "    # Tune the number of units in the first Dense layer\n",
    "    layer1 = hp.Int('units1', min_value=32, max_value=512, step=32)\n",
    "    model.add(layers.Dense(units=layer1, activation='relu'))\n",
    "    \n",
    "    #model.add(layers.Dropout(0.5))\n",
    "    #if hp.Boolean(\"dropout\"):\n",
    "    #    model.add(layers.Dropout(rate=0.5))\n",
    "        \n",
    "    # Tune the number of units in the second Dense layer\n",
    "    layer2 = hp.Int('units2', min_value=32, max_value=512, step=32)\n",
    "    model.add(layers.Dense(units=layer2, activation='relu'))\n",
    "    \n",
    "    #model.add(layers.Dropout(0.5))\n",
    "    # random chance of adding a dropout layer\n",
    "    \n",
    "    #if hp.Boolean(\"dropout\"):\n",
    "    #    model.add(layers.Dropout(rate=0.5))\n",
    "\n",
    "    # Tune the number of units in the third Dense layer\n",
    "    layer3 = hp.Int('units3', min_value=32, max_value=512, step=32)\n",
    "    model.add(layers.Dense(units=layer3, activation='relu'))\n",
    "    \n",
    "    #if hp.Boolean(\"dropout\"):\n",
    "    #    model.add(layers.Dropout(rate=0.5))\n",
    "    #model.add(layers.Dropout(0.5))\n",
    "    \n",
    "    if hp.Boolean(\"fourth_layer\"):\n",
    "    # Tune the number of units in the 4th Dense layer\n",
    "        layer4 = hp.Int('units4', min_value=32, max_value=512, step=32)\n",
    "        model.add(layers.Dense(units=layer4, activation='relu'))\n",
    "    \n",
    "    #model.add(layers.Dropout(0.5))\n",
    "    \n",
    "    #if hp.Boolean(\"dropout\"):\n",
    "    #    model.add(layers.Dropout(rate=0.5))\n",
    "    \n",
    "    model.add(layers.Dense(1, activation='sigmoid'))  # Assuming binary classification\n",
    "    \n",
    "    # Tune the learning rate for the optimizer\n",
    "    learning_rate = hp.Choice('learning_rate', values=[1e-2, 1e-3, 1e-4])\n",
    "    \n",
    "    model.compile(optimizer=keras.optimizers.Adam(learning_rate=learning_rate),\n",
    "                  loss='binary_crossentropy',\n",
    "                  metrics=['accuracy'])\n",
    "    \n",
    "    return model\n"
   ]
  },
  {
   "cell_type": "code",
   "execution_count": null,
   "id": "f06b1f10-c166-429a-8413-3bb4a92f047b",
   "metadata": {},
   "outputs": [],
   "source": [
    "'''\n",
    "def build_model(hp,):\n",
    "      \n",
    "    model = keras.Sequential()\n",
    "    model.add(layers.Flatten(input_shape=input_shape))  # Adjust input shape according to your data\n",
    "\n",
    "    # Tune the number of units in the first Dense layer\n",
    "    layer1 = hp.Int('units1', min_value=32, max_value=512, step=32)\n",
    "    model.add(layers.Dense(units=layer1, activation='relu'))\n",
    "\n",
    "    # Tune the number of units in the second Dense layer\n",
    "    layer2 = hp.Int('units2', min_value=32, max_value=512, step=32)\n",
    "    model.add(layers.Dense(units=layer2, activation='relu'))\n",
    "\n",
    "    # Tune the number of units in the third Dense layer\n",
    "    layer3 = hp.Int('units3', min_value=32, max_value=512, step=32)\n",
    "    model.add(layers.Dense(units=layer3, activation='relu'))\n",
    "\n",
    "    model.add(layers.Dense(1, activation='sigmoid'))  # Assuming binary classification\n",
    "    \n",
    "    # Tune the learning rate for the optimizer\n",
    "    learning_rate = hp.Choice('learning_rate', values=[1e-2, 1e-3, 1e-4])\n",
    "    \n",
    "    model.compile(optimizer=keras.optimizers.Adam(learning_rate=learning_rate),\n",
    "                  loss='binary_crossentropy',\n",
    "                  metrics=['accuracy'])\n",
    "    \n",
    "    return model\n",
    "'''"
   ]
  },
  {
   "cell_type": "code",
   "execution_count": null,
   "id": "364fd749-4fdb-4800-afa7-943d1a6258aa",
   "metadata": {},
   "outputs": [],
   "source": [
    "'''\n",
    "def build_model(hp,):\n",
    "      \n",
    "    model = keras.Sequential()\n",
    "    model.add(layers.Flatten(input_shape=input_shape))  # Adjust input shape according to your data\n",
    "\n",
    "    # Tune the number of units in the first Dense layer\n",
    "    layer1 = hp.Int('units1', min_value=32, max_value=100, step=2)\n",
    "    model.add(layers.Dense(units=layer1, activation='relu'))\n",
    "\n",
    "    # Tune the number of units in the second Dense layer\n",
    "    layer2 = hp.Int('units2', min_value=32, max_value=100, step=2)\n",
    "    model.add(layers.Dense(units=layer2, activation='relu'))\n",
    "\n",
    "    # Tune the number of units in the third Dense layer\n",
    "    layer3 = hp.Int('units3', min_value=32, max_value=100, step=2)\n",
    "    model.add(layers.Dense(units=layer3, activation='relu'))\n",
    "\n",
    "    model.add(layers.Dense(1, activation='sigmoid'))  # Assuming binary classification\n",
    "    \n",
    "    # Tune the learning rate for the optimizer\n",
    "    learning_rate = hp.Choice('learning_rate', values=[1e-2, 1e-3, 1e-4, 1e-5])\n",
    "    \n",
    "    model.compile(optimizer=keras.optimizers.Adam(learning_rate=learning_rate),\n",
    "                  loss='binary_crossentropy',\n",
    "                  metrics=['accuracy'])\n",
    "    \n",
    "    return model\n",
    "'''"
   ]
  },
  {
   "cell_type": "code",
   "execution_count": 100,
   "id": "0192a3ac-a622-490e-932e-61c80bdf45b1",
   "metadata": {},
   "outputs": [],
   "source": [
    "# keras tuner RandomSearch parameters \n",
    "MAX_TRIALS=5\n",
    "EXECUTIONS_PER_TRIAL=3"
   ]
  },
  {
   "cell_type": "code",
   "execution_count": 101,
   "id": "79ec46e4-988b-4437-9347-c876e1cd2aaa",
   "metadata": {},
   "outputs": [
    {
     "name": "stderr",
     "output_type": "stream",
     "text": [
      "C:\\Users\\GGMachines_Gaming\\.conda\\envs\\audio8_2_tf\\lib\\site-packages\\keras\\src\\layers\\normalization\\layer_normalization.py:122: UserWarning: Do not pass an `input_shape`/`input_dim` argument to a layer. When using Sequential models, prefer using an `Input(shape)` object as the first layer in the model instead.\n",
      "  super().__init__(**kwargs)\n",
      "C:\\Users\\GGMachines_Gaming\\.conda\\envs\\audio8_2_tf\\lib\\site-packages\\keras\\src\\layers\\reshaping\\flatten.py:37: UserWarning: Do not pass an `input_shape`/`input_dim` argument to a layer. When using Sequential models, prefer using an `Input(shape)` object as the first layer in the model instead.\n",
      "  super().__init__(**kwargs)\n"
     ]
    }
   ],
   "source": [
    "tuner = kt.RandomSearch(\n",
    "    hypermodel=build_model,\n",
    "    objective='val_accuracy',\n",
    "    max_trials=MAX_TRIALS,  # Number of different models to try\n",
    "    executions_per_trial=EXECUTIONS_PER_TRIAL,  # Number of times to train each model\n",
    "    #directory='my_dir',\n",
    "    directory=INPUT_DIRECTORY,\n",
    "    project_name='mlp_randomsearch_4layers_nodrop'\n",
    ")"
   ]
  },
  {
   "cell_type": "code",
   "execution_count": 106,
   "id": "37ec390f-3603-4166-929f-8dd55ee85dbc",
   "metadata": {
    "scrolled": true
   },
   "outputs": [
    {
     "name": "stdout",
     "output_type": "stream",
     "text": [
      "Search space summary\n",
      "Default search space size: 6\n",
      "units1 (Int)\n",
      "{'default': None, 'conditions': [], 'min_value': 32, 'max_value': 512, 'step': 32, 'sampling': 'linear'}\n",
      "units2 (Int)\n",
      "{'default': None, 'conditions': [], 'min_value': 32, 'max_value': 512, 'step': 32, 'sampling': 'linear'}\n",
      "units3 (Int)\n",
      "{'default': None, 'conditions': [], 'min_value': 32, 'max_value': 512, 'step': 32, 'sampling': 'linear'}\n",
      "fourth_layer (Boolean)\n",
      "{'default': False, 'conditions': []}\n",
      "learning_rate (Choice)\n",
      "{'default': 0.01, 'conditions': [], 'values': [0.01, 0.001, 0.0001], 'ordered': True}\n",
      "units4 (Int)\n",
      "{'default': None, 'conditions': [], 'min_value': 32, 'max_value': 512, 'step': 32, 'sampling': 'linear'}\n"
     ]
    }
   ],
   "source": [
    "tuner.search_space_summary()"
   ]
  },
  {
   "cell_type": "code",
   "execution_count": 103,
   "id": "14a5d17e-57ac-4ba7-bb95-a3a51d706bcf",
   "metadata": {},
   "outputs": [
    {
     "name": "stdout",
     "output_type": "stream",
     "text": [
      "X_train shape: (17181, 2655)\n",
      "X_test shape: (4413, 2655)\n",
      "y_train shape: (17181,)\n",
      "y_test shape: (4413,)\n"
     ]
    }
   ],
   "source": [
    "print(f\"X_train shape: {X_train.shape}\")\n",
    "print(f\"X_test shape: {X_test.shape}\")\n",
    "print(f\"y_train shape: {y_train.shape}\")\n",
    "print(f\"y_test shape: {y_test.shape}\")\n"
   ]
  },
  {
   "cell_type": "code",
   "execution_count": 104,
   "id": "349760fe-cfdb-4937-8e02-cfdb0fa7c3b2",
   "metadata": {},
   "outputs": [
    {
     "name": "stdout",
     "output_type": "stream",
     "text": [
      "Trial 5 Complete [00h 01m 22s]\n",
      "val_accuracy: 0.8433416485786438\n",
      "\n",
      "Best val_accuracy So Far: 0.8570888837178549\n",
      "Total elapsed time: 00h 09m 13s\n",
      "\n",
      "The optimal number of units in the first densely-connected layer is 448.\n",
      "The optimal number of units in the second densely-connected layer is 192.\n",
      "The optimal number of units in the third densely-connected layer is 32.\n",
      "The optimal number of units in the fourth densely-connected layer is present? True.\n",
      "The optimal number of units in the fourth densely-connected layer is 96.\n",
      "The optimal learning rate for the optimizer is 0.0001.\n",
      "\n"
     ]
    }
   ],
   "source": [
    "tuner.search(X_train, y_train, epochs=EPOCHS, class_weight=class_weights, verbose=2, validation_data=(X_test, y_test))\n",
    "\n",
    "# Get the optimal hyperparameters\n",
    "best_hps = tuner.get_best_hyperparameters(num_trials=MAX_TRIALS)[0]\n",
    "\n",
    "print(f\"\"\"\n",
    "The optimal number of units in the first densely-connected layer is {best_hps.get('units1')}.\n",
    "The optimal number of units in the second densely-connected layer is {best_hps.get('units2')}.\n",
    "The optimal number of units in the third densely-connected layer is {best_hps.get('units3')}.\n",
    "The optimal number of units in the fourth densely-connected layer is present? {best_hps.get('fourth_layer')}.\n",
    "The optimal number of units in the fourth densely-connected layer is {best_hps.get('units4')}.\n",
    "The optimal learning rate for the optimizer is {best_hps.get('learning_rate')}.\n",
    "\"\"\")"
   ]
  },
  {
   "cell_type": "code",
   "execution_count": 105,
   "id": "c439dba0-0c27-4f58-8bb5-7f8f1079a033",
   "metadata": {},
   "outputs": [
    {
     "name": "stderr",
     "output_type": "stream",
     "text": [
      "C:\\Users\\GGMachines_Gaming\\.conda\\envs\\audio8_2_tf\\lib\\site-packages\\keras\\src\\saving\\saving_lib.py:576: UserWarning: Skipping variable loading for optimizer 'adam', because it has 2 variables whereas the saved optimizer has 26 variables. \n",
      "  saveable.load_own_variables(weights_store.get(inner_path))\n"
     ]
    },
    {
     "data": {
      "text/html": [
       "<pre style=\"white-space:pre;overflow-x:auto;line-height:normal;font-family:Menlo,'DejaVu Sans Mono',consolas,'Courier New',monospace\"><span style=\"font-weight: bold\">Model: \"sequential\"</span>\n",
       "</pre>\n"
      ],
      "text/plain": [
       "\u001b[1mModel: \"sequential\"\u001b[0m\n"
      ]
     },
     "metadata": {},
     "output_type": "display_data"
    },
    {
     "data": {
      "text/html": [
       "<pre style=\"white-space:pre;overflow-x:auto;line-height:normal;font-family:Menlo,'DejaVu Sans Mono',consolas,'Courier New',monospace\">┏━━━━━━━━━━━━━━━━━━━━━━━━━━━━━━━━━┳━━━━━━━━━━━━━━━━━━━━━━━━┳━━━━━━━━━━━━━━━┓\n",
       "┃<span style=\"font-weight: bold\"> Layer (type)                    </span>┃<span style=\"font-weight: bold\"> Output Shape           </span>┃<span style=\"font-weight: bold\">       Param # </span>┃\n",
       "┡━━━━━━━━━━━━━━━━━━━━━━━━━━━━━━━━━╇━━━━━━━━━━━━━━━━━━━━━━━━╇━━━━━━━━━━━━━━━┩\n",
       "│ layer_normalization             │ (<span style=\"color: #00d7ff; text-decoration-color: #00d7ff\">None</span>, <span style=\"color: #00af00; text-decoration-color: #00af00\">2655</span>)           │         <span style=\"color: #00af00; text-decoration-color: #00af00\">5,310</span> │\n",
       "│ (<span style=\"color: #0087ff; text-decoration-color: #0087ff\">LayerNormalization</span>)            │                        │               │\n",
       "├─────────────────────────────────┼────────────────────────┼───────────────┤\n",
       "│ flatten (<span style=\"color: #0087ff; text-decoration-color: #0087ff\">Flatten</span>)               │ (<span style=\"color: #00d7ff; text-decoration-color: #00d7ff\">None</span>, <span style=\"color: #00af00; text-decoration-color: #00af00\">2655</span>)           │             <span style=\"color: #00af00; text-decoration-color: #00af00\">0</span> │\n",
       "├─────────────────────────────────┼────────────────────────┼───────────────┤\n",
       "│ dense (<span style=\"color: #0087ff; text-decoration-color: #0087ff\">Dense</span>)                   │ (<span style=\"color: #00d7ff; text-decoration-color: #00d7ff\">None</span>, <span style=\"color: #00af00; text-decoration-color: #00af00\">448</span>)            │     <span style=\"color: #00af00; text-decoration-color: #00af00\">1,189,888</span> │\n",
       "├─────────────────────────────────┼────────────────────────┼───────────────┤\n",
       "│ dense_1 (<span style=\"color: #0087ff; text-decoration-color: #0087ff\">Dense</span>)                 │ (<span style=\"color: #00d7ff; text-decoration-color: #00d7ff\">None</span>, <span style=\"color: #00af00; text-decoration-color: #00af00\">192</span>)            │        <span style=\"color: #00af00; text-decoration-color: #00af00\">86,208</span> │\n",
       "├─────────────────────────────────┼────────────────────────┼───────────────┤\n",
       "│ dense_2 (<span style=\"color: #0087ff; text-decoration-color: #0087ff\">Dense</span>)                 │ (<span style=\"color: #00d7ff; text-decoration-color: #00d7ff\">None</span>, <span style=\"color: #00af00; text-decoration-color: #00af00\">32</span>)             │         <span style=\"color: #00af00; text-decoration-color: #00af00\">6,176</span> │\n",
       "├─────────────────────────────────┼────────────────────────┼───────────────┤\n",
       "│ dense_3 (<span style=\"color: #0087ff; text-decoration-color: #0087ff\">Dense</span>)                 │ (<span style=\"color: #00d7ff; text-decoration-color: #00d7ff\">None</span>, <span style=\"color: #00af00; text-decoration-color: #00af00\">96</span>)             │         <span style=\"color: #00af00; text-decoration-color: #00af00\">3,168</span> │\n",
       "├─────────────────────────────────┼────────────────────────┼───────────────┤\n",
       "│ dense_4 (<span style=\"color: #0087ff; text-decoration-color: #0087ff\">Dense</span>)                 │ (<span style=\"color: #00d7ff; text-decoration-color: #00d7ff\">None</span>, <span style=\"color: #00af00; text-decoration-color: #00af00\">1</span>)              │            <span style=\"color: #00af00; text-decoration-color: #00af00\">97</span> │\n",
       "└─────────────────────────────────┴────────────────────────┴───────────────┘\n",
       "</pre>\n"
      ],
      "text/plain": [
       "┏━━━━━━━━━━━━━━━━━━━━━━━━━━━━━━━━━┳━━━━━━━━━━━━━━━━━━━━━━━━┳━━━━━━━━━━━━━━━┓\n",
       "┃\u001b[1m \u001b[0m\u001b[1mLayer (type)                   \u001b[0m\u001b[1m \u001b[0m┃\u001b[1m \u001b[0m\u001b[1mOutput Shape          \u001b[0m\u001b[1m \u001b[0m┃\u001b[1m \u001b[0m\u001b[1m      Param #\u001b[0m\u001b[1m \u001b[0m┃\n",
       "┡━━━━━━━━━━━━━━━━━━━━━━━━━━━━━━━━━╇━━━━━━━━━━━━━━━━━━━━━━━━╇━━━━━━━━━━━━━━━┩\n",
       "│ layer_normalization             │ (\u001b[38;5;45mNone\u001b[0m, \u001b[38;5;34m2655\u001b[0m)           │         \u001b[38;5;34m5,310\u001b[0m │\n",
       "│ (\u001b[38;5;33mLayerNormalization\u001b[0m)            │                        │               │\n",
       "├─────────────────────────────────┼────────────────────────┼───────────────┤\n",
       "│ flatten (\u001b[38;5;33mFlatten\u001b[0m)               │ (\u001b[38;5;45mNone\u001b[0m, \u001b[38;5;34m2655\u001b[0m)           │             \u001b[38;5;34m0\u001b[0m │\n",
       "├─────────────────────────────────┼────────────────────────┼───────────────┤\n",
       "│ dense (\u001b[38;5;33mDense\u001b[0m)                   │ (\u001b[38;5;45mNone\u001b[0m, \u001b[38;5;34m448\u001b[0m)            │     \u001b[38;5;34m1,189,888\u001b[0m │\n",
       "├─────────────────────────────────┼────────────────────────┼───────────────┤\n",
       "│ dense_1 (\u001b[38;5;33mDense\u001b[0m)                 │ (\u001b[38;5;45mNone\u001b[0m, \u001b[38;5;34m192\u001b[0m)            │        \u001b[38;5;34m86,208\u001b[0m │\n",
       "├─────────────────────────────────┼────────────────────────┼───────────────┤\n",
       "│ dense_2 (\u001b[38;5;33mDense\u001b[0m)                 │ (\u001b[38;5;45mNone\u001b[0m, \u001b[38;5;34m32\u001b[0m)             │         \u001b[38;5;34m6,176\u001b[0m │\n",
       "├─────────────────────────────────┼────────────────────────┼───────────────┤\n",
       "│ dense_3 (\u001b[38;5;33mDense\u001b[0m)                 │ (\u001b[38;5;45mNone\u001b[0m, \u001b[38;5;34m96\u001b[0m)             │         \u001b[38;5;34m3,168\u001b[0m │\n",
       "├─────────────────────────────────┼────────────────────────┼───────────────┤\n",
       "│ dense_4 (\u001b[38;5;33mDense\u001b[0m)                 │ (\u001b[38;5;45mNone\u001b[0m, \u001b[38;5;34m1\u001b[0m)              │            \u001b[38;5;34m97\u001b[0m │\n",
       "└─────────────────────────────────┴────────────────────────┴───────────────┘\n"
      ]
     },
     "metadata": {},
     "output_type": "display_data"
    },
    {
     "data": {
      "text/html": [
       "<pre style=\"white-space:pre;overflow-x:auto;line-height:normal;font-family:Menlo,'DejaVu Sans Mono',consolas,'Courier New',monospace\"><span style=\"font-weight: bold\"> Total params: </span><span style=\"color: #00af00; text-decoration-color: #00af00\">1,290,847</span> (4.92 MB)\n",
       "</pre>\n"
      ],
      "text/plain": [
       "\u001b[1m Total params: \u001b[0m\u001b[38;5;34m1,290,847\u001b[0m (4.92 MB)\n"
      ]
     },
     "metadata": {},
     "output_type": "display_data"
    },
    {
     "data": {
      "text/html": [
       "<pre style=\"white-space:pre;overflow-x:auto;line-height:normal;font-family:Menlo,'DejaVu Sans Mono',consolas,'Courier New',monospace\"><span style=\"font-weight: bold\"> Trainable params: </span><span style=\"color: #00af00; text-decoration-color: #00af00\">1,290,847</span> (4.92 MB)\n",
       "</pre>\n"
      ],
      "text/plain": [
       "\u001b[1m Trainable params: \u001b[0m\u001b[38;5;34m1,290,847\u001b[0m (4.92 MB)\n"
      ]
     },
     "metadata": {},
     "output_type": "display_data"
    },
    {
     "data": {
      "text/html": [
       "<pre style=\"white-space:pre;overflow-x:auto;line-height:normal;font-family:Menlo,'DejaVu Sans Mono',consolas,'Courier New',monospace\"><span style=\"font-weight: bold\"> Non-trainable params: </span><span style=\"color: #00af00; text-decoration-color: #00af00\">0</span> (0.00 B)\n",
       "</pre>\n"
      ],
      "text/plain": [
       "\u001b[1m Non-trainable params: \u001b[0m\u001b[38;5;34m0\u001b[0m (0.00 B)\n"
      ]
     },
     "metadata": {},
     "output_type": "display_data"
    }
   ],
   "source": [
    "models=tuner.get_best_models(num_models=1)\n",
    "best_model=models[0]\n",
    "best_model.summary()"
   ]
  },
  {
   "cell_type": "code",
   "execution_count": 107,
   "id": "b56126f1-a019-42f8-ad7e-0621931c750c",
   "metadata": {},
   "outputs": [
    {
     "name": "stdout",
     "output_type": "stream",
     "text": [
      "Results summary\n",
      "Results in C:\\Users\\GGMachines_Gaming\\Documents\\voxpop\\mlp_randomsearch_4layers_nodrop\n",
      "Showing 10 best trials\n",
      "Objective(name=\"val_accuracy\", direction=\"max\")\n",
      "\n",
      "Trial 1 summary\n",
      "Hyperparameters:\n",
      "units1: 448\n",
      "units2: 192\n",
      "units3: 32\n",
      "fourth_layer: True\n",
      "learning_rate: 0.0001\n",
      "units4: 96\n",
      "Score: 0.8570888837178549\n",
      "\n",
      "Trial 3 summary\n",
      "Hyperparameters:\n",
      "units1: 320\n",
      "units2: 96\n",
      "units3: 224\n",
      "fourth_layer: True\n",
      "learning_rate: 0.001\n",
      "units4: 160\n",
      "Score: 0.8530100385348002\n",
      "\n",
      "Trial 4 summary\n",
      "Hyperparameters:\n",
      "units1: 64\n",
      "units2: 192\n",
      "units3: 224\n",
      "fourth_layer: False\n",
      "learning_rate: 0.0001\n",
      "units4: 32\n",
      "Score: 0.8433416485786438\n",
      "\n",
      "Trial 0 summary\n",
      "Hyperparameters:\n",
      "units1: 64\n",
      "units2: 128\n",
      "units3: 160\n",
      "fourth_layer: True\n",
      "learning_rate: 0.01\n",
      "units4: 32\n",
      "Score: 0.8186419010162354\n",
      "\n",
      "Trial 2 summary\n",
      "Hyperparameters:\n",
      "units1: 224\n",
      "units2: 288\n",
      "units3: 416\n",
      "fourth_layer: True\n",
      "learning_rate: 0.01\n",
      "units4: 64\n",
      "Score: 0.7721882263819376\n"
     ]
    }
   ],
   "source": [
    "tuner.results_summary()"
   ]
  },
  {
   "cell_type": "code",
   "execution_count": null,
   "id": "63217e67-deba-46ce-8039-333a094a282f",
   "metadata": {},
   "outputs": [],
   "source": [
    "''' mlp_randomsearch_5_3\n",
    "trial 5 Complete [00h 05m 35s]\n",
    "val_accuracy: 0.8656761844952902\n",
    "\n",
    "Best val_accuracy So Far: 0.8656761844952902\n",
    "Total elapsed time: 00h 19m 31s\n",
    "\n",
    "The optimal number of units in the first densely-connected layer is 448.\n",
    "The optimal number of units in the second densely-connected layer is 352.\n",
    "The optimal number of units in the third densely-connected layer is 512.\n",
    "The optimal learning rate for the optimizer is 0.001.\n",
    "'''"
   ]
  },
  {
   "cell_type": "code",
   "execution_count": null,
   "id": "e1e9ac3c-d9a7-4f19-bd9f-6a1a2e89fa14",
   "metadata": {},
   "outputs": [],
   "source": [
    "''' mlp_randomsearch_7_3\n",
    "Trial 7 Complete [00h 01m 39s]\n",
    "val_accuracy: 0.8757333358128866\n",
    "\n",
    "Best val_accuracy So Far: 0.8757333358128866\n",
    "Total elapsed time: 00h 19m 49s\n",
    "\n",
    "The optimal number of units in the first densely-connected layer is 64.\n",
    "The optimal number of units in the second densely-connected layer is 32.\n",
    "The optimal number of units in the third densely-connected layer is 416.\n",
    "The optimal learning rate for the optimizer is 0.001.\n",
    "'''"
   ]
  },
  {
   "cell_type": "code",
   "execution_count": null,
   "id": "d985ee40-1dd8-43c6-87fc-e88744ba5763",
   "metadata": {},
   "outputs": [],
   "source": [
    "''' intro_to_kt 20 trials of 5 each\n",
    "Trial 20 Complete [00h 02m 56s]\n",
    "val_accuracy: 0.8646399974822998\n",
    "\n",
    "Best val_accuracy So Far: 0.8733257174491882\n",
    "Total elapsed time: 01h 12m 13s\n",
    "\n",
    "The optimal number of units in the first densely-connected layer is 60.\n",
    "The optimal number of units in the second densely-connected layer is 42.\n",
    "The optimal number of units in the third densely-connected layer is 48.\n",
    "The optimal learning rate for the optimizer is 0.01.\n",
    "'''\n"
   ]
  },
  {
   "cell_type": "markdown",
   "id": "667f352e-6ab4-4798-b943-6a8d23ae3a2c",
   "metadata": {},
   "source": [
    "# Run the optimised MLP "
   ]
  },
  {
   "cell_type": "code",
   "execution_count": null,
   "id": "e45b0841-2fdc-41ee-b426-921f5be4013c",
   "metadata": {},
   "outputs": [],
   "source": [
    "units1: 448\n",
    "units2: 192\n",
    "units3: 32\n",
    "fourth_layer: True\n",
    "learning_rate: 0.0001\n",
    "units4: 96\n",
    "Score: 0.8570888837178549"
   ]
  },
  {
   "cell_type": "code",
   "execution_count": 108,
   "id": "f3c6b905-a3ad-4d53-8ef0-72b509a4d123",
   "metadata": {},
   "outputs": [],
   "source": [
    "model = tf.keras.models.Sequential([\n",
    "        tf.keras.layers.Flatten(input_shape=input_shape,),\n",
    "        \n",
    "        tf.keras.layers.Dense(448, activation='relu'),\n",
    "        tf.keras.layers.Dense(192, activation='relu'),\n",
    "        tf.keras.layers.Dense(32, activation='relu'),\n",
    "        tf.keras.layers.Dense(96, activation='relu'),\n",
    "    \n",
    "        tf.keras.layers.Dense(1, activation='sigmoid')  # Assuming binary classification\n",
    "    ])"
   ]
  },
  {
   "cell_type": "code",
   "execution_count": 109,
   "id": "bcc4dbc8-8ecf-4f73-acbd-aa37c1b95e0a",
   "metadata": {},
   "outputs": [],
   "source": [
    "model.compile(optimizer=tf.keras.optimizers.Adam(learning_rate=0.0001),loss='binary_crossentropy', metrics=['accuracy'])"
   ]
  },
  {
   "cell_type": "code",
   "execution_count": 110,
   "id": "bf3feda7-20af-43b4-b8e7-ff1c7e1929b8",
   "metadata": {},
   "outputs": [
    {
     "name": "stdout",
     "output_type": "stream",
     "text": [
      "Epoch 1/20\n",
      "537/537 - 3s - 5ms/step - accuracy: 0.7902 - loss: 0.5193 - val_accuracy: 0.7720 - val_loss: 0.5006\n",
      "Epoch 2/20\n",
      "537/537 - 2s - 5ms/step - accuracy: 0.8403 - loss: 0.3432 - val_accuracy: 0.8069 - val_loss: 0.4348\n",
      "Epoch 3/20\n",
      "537/537 - 2s - 3ms/step - accuracy: 0.8500 - loss: 0.3137 - val_accuracy: 0.7786 - val_loss: 0.4796\n",
      "Epoch 4/20\n",
      "537/537 - 2s - 3ms/step - accuracy: 0.8625 - loss: 0.2869 - val_accuracy: 0.8144 - val_loss: 0.4799\n",
      "Epoch 5/20\n",
      "537/537 - 3s - 5ms/step - accuracy: 0.8741 - loss: 0.2694 - val_accuracy: 0.8208 - val_loss: 0.4023\n",
      "Epoch 6/20\n",
      "537/537 - 2s - 3ms/step - accuracy: 0.8806 - loss: 0.2496 - val_accuracy: 0.8310 - val_loss: 0.3932\n",
      "Epoch 7/20\n",
      "537/537 - 3s - 5ms/step - accuracy: 0.8942 - loss: 0.2235 - val_accuracy: 0.8298 - val_loss: 0.3840\n",
      "Epoch 8/20\n",
      "537/537 - 2s - 3ms/step - accuracy: 0.9059 - loss: 0.2022 - val_accuracy: 0.8307 - val_loss: 0.4078\n",
      "Epoch 9/20\n",
      "537/537 - 3s - 5ms/step - accuracy: 0.9171 - loss: 0.1794 - val_accuracy: 0.8217 - val_loss: 0.5230\n",
      "Epoch 10/20\n",
      "537/537 - 2s - 3ms/step - accuracy: 0.9268 - loss: 0.1629 - val_accuracy: 0.8255 - val_loss: 0.4831\n",
      "Epoch 11/20\n",
      "537/537 - 2s - 3ms/step - accuracy: 0.9358 - loss: 0.1433 - val_accuracy: 0.8346 - val_loss: 0.4750\n",
      "Epoch 12/20\n",
      "537/537 - 2s - 3ms/step - accuracy: 0.9477 - loss: 0.1212 - val_accuracy: 0.8432 - val_loss: 0.4779\n",
      "Epoch 13/20\n",
      "537/537 - 2s - 3ms/step - accuracy: 0.9536 - loss: 0.1067 - val_accuracy: 0.8368 - val_loss: 0.4725\n",
      "Epoch 14/20\n",
      "537/537 - 3s - 5ms/step - accuracy: 0.9605 - loss: 0.0943 - val_accuracy: 0.8418 - val_loss: 0.5028\n",
      "Epoch 15/20\n",
      "537/537 - 3s - 5ms/step - accuracy: 0.9603 - loss: 0.0922 - val_accuracy: 0.8339 - val_loss: 0.6195\n",
      "Epoch 16/20\n",
      "537/537 - 2s - 3ms/step - accuracy: 0.9696 - loss: 0.0723 - val_accuracy: 0.8475 - val_loss: 0.4953\n",
      "Epoch 17/20\n",
      "537/537 - 2s - 3ms/step - accuracy: 0.9738 - loss: 0.0662 - val_accuracy: 0.8427 - val_loss: 0.6304\n",
      "Epoch 18/20\n",
      "537/537 - 2s - 3ms/step - accuracy: 0.9792 - loss: 0.0529 - val_accuracy: 0.8482 - val_loss: 0.5531\n",
      "Epoch 19/20\n",
      "537/537 - 2s - 3ms/step - accuracy: 0.9833 - loss: 0.0432 - val_accuracy: 0.8375 - val_loss: 0.6497\n",
      "Epoch 20/20\n",
      "537/537 - 2s - 3ms/step - accuracy: 0.9800 - loss: 0.0513 - val_accuracy: 0.8473 - val_loss: 0.5887\n"
     ]
    }
   ],
   "source": [
    "history=model.fit(X_train, y_train, epochs=EPOCHS, batch_size=BATCH_SIZE, class_weight=class_weights, verbose=2, validation_data=(X_test, y_test))"
   ]
  },
  {
   "cell_type": "code",
   "execution_count": 111,
   "id": "5d40af68-103d-41f1-aca0-5632fc7ef273",
   "metadata": {},
   "outputs": [
    {
     "data": {
      "text/html": [
       "<pre style=\"white-space:pre;overflow-x:auto;line-height:normal;font-family:Menlo,'DejaVu Sans Mono',consolas,'Courier New',monospace\"><span style=\"font-weight: bold\">Model: \"sequential_1\"</span>\n",
       "</pre>\n"
      ],
      "text/plain": [
       "\u001b[1mModel: \"sequential_1\"\u001b[0m\n"
      ]
     },
     "metadata": {},
     "output_type": "display_data"
    },
    {
     "data": {
      "text/html": [
       "<pre style=\"white-space:pre;overflow-x:auto;line-height:normal;font-family:Menlo,'DejaVu Sans Mono',consolas,'Courier New',monospace\">┏━━━━━━━━━━━━━━━━━━━━━━━━━━━━━━━━━┳━━━━━━━━━━━━━━━━━━━━━━━━┳━━━━━━━━━━━━━━━┓\n",
       "┃<span style=\"font-weight: bold\"> Layer (type)                    </span>┃<span style=\"font-weight: bold\"> Output Shape           </span>┃<span style=\"font-weight: bold\">       Param # </span>┃\n",
       "┡━━━━━━━━━━━━━━━━━━━━━━━━━━━━━━━━━╇━━━━━━━━━━━━━━━━━━━━━━━━╇━━━━━━━━━━━━━━━┩\n",
       "│ flatten_1 (<span style=\"color: #0087ff; text-decoration-color: #0087ff\">Flatten</span>)             │ (<span style=\"color: #00d7ff; text-decoration-color: #00d7ff\">None</span>, <span style=\"color: #00af00; text-decoration-color: #00af00\">2655</span>)           │             <span style=\"color: #00af00; text-decoration-color: #00af00\">0</span> │\n",
       "├─────────────────────────────────┼────────────────────────┼───────────────┤\n",
       "│ dense_5 (<span style=\"color: #0087ff; text-decoration-color: #0087ff\">Dense</span>)                 │ (<span style=\"color: #00d7ff; text-decoration-color: #00d7ff\">None</span>, <span style=\"color: #00af00; text-decoration-color: #00af00\">448</span>)            │     <span style=\"color: #00af00; text-decoration-color: #00af00\">1,189,888</span> │\n",
       "├─────────────────────────────────┼────────────────────────┼───────────────┤\n",
       "│ dense_6 (<span style=\"color: #0087ff; text-decoration-color: #0087ff\">Dense</span>)                 │ (<span style=\"color: #00d7ff; text-decoration-color: #00d7ff\">None</span>, <span style=\"color: #00af00; text-decoration-color: #00af00\">192</span>)            │        <span style=\"color: #00af00; text-decoration-color: #00af00\">86,208</span> │\n",
       "├─────────────────────────────────┼────────────────────────┼───────────────┤\n",
       "│ dense_7 (<span style=\"color: #0087ff; text-decoration-color: #0087ff\">Dense</span>)                 │ (<span style=\"color: #00d7ff; text-decoration-color: #00d7ff\">None</span>, <span style=\"color: #00af00; text-decoration-color: #00af00\">32</span>)             │         <span style=\"color: #00af00; text-decoration-color: #00af00\">6,176</span> │\n",
       "├─────────────────────────────────┼────────────────────────┼───────────────┤\n",
       "│ dense_8 (<span style=\"color: #0087ff; text-decoration-color: #0087ff\">Dense</span>)                 │ (<span style=\"color: #00d7ff; text-decoration-color: #00d7ff\">None</span>, <span style=\"color: #00af00; text-decoration-color: #00af00\">96</span>)             │         <span style=\"color: #00af00; text-decoration-color: #00af00\">3,168</span> │\n",
       "├─────────────────────────────────┼────────────────────────┼───────────────┤\n",
       "│ dense_9 (<span style=\"color: #0087ff; text-decoration-color: #0087ff\">Dense</span>)                 │ (<span style=\"color: #00d7ff; text-decoration-color: #00d7ff\">None</span>, <span style=\"color: #00af00; text-decoration-color: #00af00\">1</span>)              │            <span style=\"color: #00af00; text-decoration-color: #00af00\">97</span> │\n",
       "└─────────────────────────────────┴────────────────────────┴───────────────┘\n",
       "</pre>\n"
      ],
      "text/plain": [
       "┏━━━━━━━━━━━━━━━━━━━━━━━━━━━━━━━━━┳━━━━━━━━━━━━━━━━━━━━━━━━┳━━━━━━━━━━━━━━━┓\n",
       "┃\u001b[1m \u001b[0m\u001b[1mLayer (type)                   \u001b[0m\u001b[1m \u001b[0m┃\u001b[1m \u001b[0m\u001b[1mOutput Shape          \u001b[0m\u001b[1m \u001b[0m┃\u001b[1m \u001b[0m\u001b[1m      Param #\u001b[0m\u001b[1m \u001b[0m┃\n",
       "┡━━━━━━━━━━━━━━━━━━━━━━━━━━━━━━━━━╇━━━━━━━━━━━━━━━━━━━━━━━━╇━━━━━━━━━━━━━━━┩\n",
       "│ flatten_1 (\u001b[38;5;33mFlatten\u001b[0m)             │ (\u001b[38;5;45mNone\u001b[0m, \u001b[38;5;34m2655\u001b[0m)           │             \u001b[38;5;34m0\u001b[0m │\n",
       "├─────────────────────────────────┼────────────────────────┼───────────────┤\n",
       "│ dense_5 (\u001b[38;5;33mDense\u001b[0m)                 │ (\u001b[38;5;45mNone\u001b[0m, \u001b[38;5;34m448\u001b[0m)            │     \u001b[38;5;34m1,189,888\u001b[0m │\n",
       "├─────────────────────────────────┼────────────────────────┼───────────────┤\n",
       "│ dense_6 (\u001b[38;5;33mDense\u001b[0m)                 │ (\u001b[38;5;45mNone\u001b[0m, \u001b[38;5;34m192\u001b[0m)            │        \u001b[38;5;34m86,208\u001b[0m │\n",
       "├─────────────────────────────────┼────────────────────────┼───────────────┤\n",
       "│ dense_7 (\u001b[38;5;33mDense\u001b[0m)                 │ (\u001b[38;5;45mNone\u001b[0m, \u001b[38;5;34m32\u001b[0m)             │         \u001b[38;5;34m6,176\u001b[0m │\n",
       "├─────────────────────────────────┼────────────────────────┼───────────────┤\n",
       "│ dense_8 (\u001b[38;5;33mDense\u001b[0m)                 │ (\u001b[38;5;45mNone\u001b[0m, \u001b[38;5;34m96\u001b[0m)             │         \u001b[38;5;34m3,168\u001b[0m │\n",
       "├─────────────────────────────────┼────────────────────────┼───────────────┤\n",
       "│ dense_9 (\u001b[38;5;33mDense\u001b[0m)                 │ (\u001b[38;5;45mNone\u001b[0m, \u001b[38;5;34m1\u001b[0m)              │            \u001b[38;5;34m97\u001b[0m │\n",
       "└─────────────────────────────────┴────────────────────────┴───────────────┘\n"
      ]
     },
     "metadata": {},
     "output_type": "display_data"
    },
    {
     "data": {
      "text/html": [
       "<pre style=\"white-space:pre;overflow-x:auto;line-height:normal;font-family:Menlo,'DejaVu Sans Mono',consolas,'Courier New',monospace\"><span style=\"font-weight: bold\"> Total params: </span><span style=\"color: #00af00; text-decoration-color: #00af00\">3,856,613</span> (14.71 MB)\n",
       "</pre>\n"
      ],
      "text/plain": [
       "\u001b[1m Total params: \u001b[0m\u001b[38;5;34m3,856,613\u001b[0m (14.71 MB)\n"
      ]
     },
     "metadata": {},
     "output_type": "display_data"
    },
    {
     "data": {
      "text/html": [
       "<pre style=\"white-space:pre;overflow-x:auto;line-height:normal;font-family:Menlo,'DejaVu Sans Mono',consolas,'Courier New',monospace\"><span style=\"font-weight: bold\"> Trainable params: </span><span style=\"color: #00af00; text-decoration-color: #00af00\">1,285,537</span> (4.90 MB)\n",
       "</pre>\n"
      ],
      "text/plain": [
       "\u001b[1m Trainable params: \u001b[0m\u001b[38;5;34m1,285,537\u001b[0m (4.90 MB)\n"
      ]
     },
     "metadata": {},
     "output_type": "display_data"
    },
    {
     "data": {
      "text/html": [
       "<pre style=\"white-space:pre;overflow-x:auto;line-height:normal;font-family:Menlo,'DejaVu Sans Mono',consolas,'Courier New',monospace\"><span style=\"font-weight: bold\"> Non-trainable params: </span><span style=\"color: #00af00; text-decoration-color: #00af00\">0</span> (0.00 B)\n",
       "</pre>\n"
      ],
      "text/plain": [
       "\u001b[1m Non-trainable params: \u001b[0m\u001b[38;5;34m0\u001b[0m (0.00 B)\n"
      ]
     },
     "metadata": {},
     "output_type": "display_data"
    },
    {
     "data": {
      "text/html": [
       "<pre style=\"white-space:pre;overflow-x:auto;line-height:normal;font-family:Menlo,'DejaVu Sans Mono',consolas,'Courier New',monospace\"><span style=\"font-weight: bold\"> Optimizer params: </span><span style=\"color: #00af00; text-decoration-color: #00af00\">2,571,076</span> (9.81 MB)\n",
       "</pre>\n"
      ],
      "text/plain": [
       "\u001b[1m Optimizer params: \u001b[0m\u001b[38;5;34m2,571,076\u001b[0m (9.81 MB)\n"
      ]
     },
     "metadata": {},
     "output_type": "display_data"
    }
   ],
   "source": [
    "model.summary()"
   ]
  },
  {
   "cell_type": "code",
   "execution_count": 112,
   "id": "dbf204ac-3f6b-4fb9-8c9d-6d63257d78f6",
   "metadata": {},
   "outputs": [
    {
     "name": "stdout",
     "output_type": "stream",
     "text": [
      "138/138 - 0s - 1ms/step - accuracy: 0.8473 - loss: 0.5887\n",
      "Test  Accuracy: 84.7%\n"
     ]
    }
   ],
   "source": [
    "loss, accuracy = model.evaluate(X_test, y_test,verbose=2)\n",
    "print(f'Test  Accuracy: {accuracy:.1%}')"
   ]
  },
  {
   "cell_type": "code",
   "execution_count": 113,
   "id": "dcbf5df6-7c08-46b8-8a8b-762cb7ca86eb",
   "metadata": {},
   "outputs": [],
   "source": [
    "from matplotlib.ticker import MaxNLocator"
   ]
  },
  {
   "cell_type": "code",
   "execution_count": 114,
   "id": "3d2ceb42-290a-4cd5-9bc3-7b053d16f2f4",
   "metadata": {},
   "outputs": [
    {
     "data": {
      "image/png": "[encoded data removed]",
      "text/plain": [
       "<Figure size 640x480 with 1 Axes>"
      ]
     },
     "metadata": {},
     "output_type": "display_data"
    }
   ],
   "source": [
    "plt.figure()\n",
    "plt.plot([acc * 100 for acc in history.history['accuracy']], label='Training Accuracy')\n",
    "plt.plot([val_acc * 100 for val_acc in history.history['val_accuracy']], label='Test Accuracy')\n",
    "plt.xlabel('Epochs')\n",
    "plt.ylabel('Accuracy %')\n",
    "plt.title('Accuracy Curve')\n",
    "plt.legend()\n",
    "plt.gca().xaxis.set_major_locator(MaxNLocator(integer=True))\n",
    "\n",
    "mean_accuracy = np.mean(history.history['accuracy'])\n",
    "mean_val_accuracy = np.mean(history.history['val_accuracy'])\n",
    "plt.axhline(mean_accuracy * 100, color='blue', linestyle='--', linewidth=1, label=f'Mean Training Accuracy ({mean_accuracy*100:.2f}%)')\n",
    "plt.axhline(mean_val_accuracy * 100, color='orange', linestyle='--', linewidth=1, label=f'Mean Validation Accuracy ({mean_val_accuracy*100:.2f}%)')\n",
    "\n",
    "plt.show()"
   ]
  },
  {
   "cell_type": "code",
   "execution_count": 115,
   "id": "9e5f33bf-83fb-45a2-a64d-3d0dbeee5c77",
   "metadata": {},
   "outputs": [
    {
     "name": "stdout",
     "output_type": "stream",
     "text": [
      "\u001b[1m138/138\u001b[0m \u001b[32m━━━━━━━━━━━━━━━━━━━━\u001b[0m\u001b[37m\u001b[0m \u001b[1m0s\u001b[0m 2ms/step\n"
     ]
    }
   ],
   "source": [
    " # Generate predictions, \n",
    "y_pred_prob = model.predict(X_test)\n",
    "y_pred = (y_pred_prob > DUB_share).astype(int)"
   ]
  },
  {
   "cell_type": "code",
   "execution_count": 116,
   "id": "f8e90f29-c6e7-4ae6-bd0d-78fcaf9e4d9c",
   "metadata": {},
   "outputs": [
    {
     "name": "stdout",
     "output_type": "stream",
     "text": [
      "Confusion Matrix:\n",
      "[[2724  321]\n",
      " [ 344 1024]]\n"
     ]
    }
   ],
   "source": [
    "cm = confusion_matrix(y_test,y_pred)\n",
    "print(\"Confusion Matrix:\")\n",
    "print(cm)"
   ]
  },
  {
   "cell_type": "code",
   "execution_count": 117,
   "id": "29ce99f5-59a5-4924-a4e3-5ed289365565",
   "metadata": {},
   "outputs": [
    {
     "data": {
      "image/png": "[encoded data removed]",
      "text/plain": [
       "<Figure size 500x300 with 2 Axes>"
      ]
     },
     "metadata": {},
     "output_type": "display_data"
    }
   ],
   "source": [
    "# Plot Confusion Matrix\n",
    "plt.figure(figsize=(5, 3))\n",
    "sns.heatmap(cm, annot=True, fmt='d', cmap='Reds')\n",
    "plt.xlabel('Predicted')\n",
    "plt.ylabel('Actual')\n",
    "plt.title('Confusion Matrix')\n",
    "plt.show()"
   ]
  },
  {
   "cell_type": "code",
   "execution_count": 118,
   "id": "6ccb732c-4285-46aa-b8f0-fb3e1906726f",
   "metadata": {},
   "outputs": [
    {
     "name": "stdout",
     "output_type": "stream",
     "text": [
      "Accuracy: 84.93%\n",
      "Precision: 76.13%\n",
      "Recall: 74.85%\n",
      "F1 Score: 75.49%\n",
      "AUC Score: 91.92%\n"
     ]
    },
    {
     "data": {
      "image/png": "[encoded data removed]",
      "text/plain": [
       "<Figure size 640x480 with 1 Axes>"
      ]
     },
     "metadata": {},
     "output_type": "display_data"
    }
   ],
   "source": [
    "accuracy = accuracy_score(y_test, y_pred)\n",
    "precision = precision_score(y_test, y_pred)\n",
    "recall = recall_score(y_test, y_pred)\n",
    "f1 = f1_score(y_test, y_pred)\n",
    "\n",
    "print(f'Accuracy: {accuracy:.2%}')\n",
    "print(f'Precision: {precision:.2%}')\n",
    "print(f'Recall: {recall:.2%}')\n",
    "print(f'F1 Score: {f1:.2%}')\n",
    "# AUC Score and Curve\n",
    "auc_score = roc_auc_score(y_test, y_pred_prob)\n",
    "fpr, tpr, thresholds = roc_curve(y_test, y_pred_prob)\n",
    "roc_auc = auc(fpr, tpr)\n",
    "\n",
    "print(f'AUC Score: {auc_score:.2%}')\n",
    "#\n",
    "plt.figure()\n",
    "plt.plot(fpr*100, tpr*100, color='darkorange', lw=2, label=f'ROC curve (area = {roc_auc:.2%})')\n",
    "plt.plot([0, 100], [0, 100], color='navy', lw=2, linestyle='--')\n",
    "plt.xlim([0.0, 100])\n",
    "plt.ylim([0.0, 105])\n",
    "plt.xlabel('False Positive Rate %')\n",
    "plt.ylabel('True Positive Rate %')\n",
    "plt.title('Receiver Operating Characteristic')\n",
    "plt.legend(loc=\"lower right\")\n",
    "plt.show()"
   ]
  },
  {
   "cell_type": "code",
   "execution_count": null,
   "id": "48d6c71f-91b6-43d8-bce4-a76bd8a4c1fd",
   "metadata": {},
   "outputs": [],
   "source": []
  },
  {
   "cell_type": "code",
   "execution_count": null,
   "id": "8cac99d7-df38-4418-91dd-75633c9eaf75",
   "metadata": {},
   "outputs": [],
   "source": []
  }
 ],
 "metadata": {
  "kernelspec": {
   "display_name": "audio8_2_tf",
   "language": "python",
   "name": "audio8_2_tf"
  },
  "language_info": {
   "codemirror_mode": {
    "name": "ipython",
    "version": 3
   },
   "file_extension": ".py",
   "mimetype": "text/x-python",
   "name": "python",
   "nbconvert_exporter": "python",
   "pygments_lexer": "ipython3",
   "version": "3.9.19"
  }
 },
 "nbformat": 4,
 "nbformat_minor": 5
}
