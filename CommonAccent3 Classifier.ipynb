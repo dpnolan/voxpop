{
 "cells": [
  {
   "cell_type": "markdown",
   "id": "7f04de87-b5e9-4b87-ab1c-77f0eea763ce",
   "metadata": {},
   "source": [
    "# Common Accent - Classifier - v3"
   ]
  },
  {
   "cell_type": "markdown",
   "id": "7dcea694-01c5-49d1-9e60-2ed8123f63e1",
   "metadata": {},
   "source": [
    "HF model page for this model\n",
    "https://huggingface.co/Jzuluaga/accent-id-commonaccent_ecapa\n",
    "\n",
    "The Large Accoustic Model\n",
    "https://huggingface.co/Jzuluaga/accent-id-commonaccent_xlsr-en-english"
   ]
  },
  {
   "cell_type": "markdown",
   "id": "72ae0a30-3c10-4956-9761-e80bf8f59d80",
   "metadata": {},
   "source": [
    "Intel(R) Core(TM) i5-12400 2.50 GHz \\\n",
    "RAM 8.00 GB \\\n",
    "Run on full SAIE dataset takes almost 60 mins"
   ]
  },
  {
   "cell_type": "markdown",
   "id": "e30aff0f-6229-4af5-9371-4d9742cbe2ba",
   "metadata": {},
   "source": [
    "kernel = i5 / audio4"
   ]
  },
  {
   "cell_type": "code",
   "execution_count": 1,
   "id": "870e93a1-e7ed-4d12-aa73-ba4a9a2e88ce",
   "metadata": {},
   "outputs": [
    {
     "name": "stdout",
     "output_type": "stream",
     "text": [
      "DIR_PATH\n"
     ]
    }
   ],
   "source": [
    "import os\n",
    "DIR_PATH=os.getcwd()\n",
    "print('DIR_PATH')"
   ]
  },
  {
   "cell_type": "code",
   "execution_count": 2,
   "id": "2c5f7195-a8e1-4203-b8f0-2d9004876422",
   "metadata": {},
   "outputs": [
    {
     "name": "stderr",
     "output_type": "stream",
     "text": [
      "The torchaudio backend is switched to 'soundfile'. Note that 'sox_io' is not supported on Windows.\n",
      "C:\\Users\\peter\\.conda\\envs\\audio4\\lib\\site-packages\\speechbrain\\utils\\torch_audio_backend.py:22: UserWarning: torchaudio._backend.set_audio_backend has been deprecated. With dispatcher enabled, this function is no-op. You can remove the function call.\n",
      "  torchaudio.set_audio_backend(\"soundfile\")\n",
      "torchvision is not available - cannot save figures\n",
      "The torchaudio backend is switched to 'soundfile'. Note that 'sox_io' is not supported on Windows.\n",
      "C:\\Users\\peter\\.conda\\envs\\audio4\\lib\\site-packages\\speechbrain\\utils\\torch_audio_backend.py:22: UserWarning: torchaudio._backend.set_audio_backend has been deprecated. With dispatcher enabled, this function is no-op. You can remove the function call.\n",
      "  torchaudio.set_audio_backend(\"soundfile\")\n"
     ]
    }
   ],
   "source": [
    "import torchaudio\n",
    "from speechbrain.pretrained import EncoderClassifier"
   ]
  },
  {
   "cell_type": "markdown",
   "id": "db600626-60d1-4eef-aa91-144b9991049e",
   "metadata": {},
   "source": [
    "### Access to the model requires that the Python code, so Anaconda in this case, be run as Administrator"
   ]
  },
  {
   "cell_type": "code",
   "execution_count": 3,
   "id": "15760ba1-6c65-45b1-b186-521ccfac7933",
   "metadata": {},
   "outputs": [],
   "source": [
    "classifier = EncoderClassifier.from_hparams(source=\"Jzuluaga/accent-id-commonaccent_ecapa\", savedir=\"pretrained_models/accent-id-commonaccent_ecapa\")"
   ]
  },
  {
   "cell_type": "code",
   "execution_count": 4,
   "id": "2e3a5ec6-2ebc-464b-ad5d-53dca67cf48d",
   "metadata": {},
   "outputs": [
    {
     "name": "stdout",
     "output_type": "stream",
     "text": [
      "['ireland']\n"
     ]
    },
    {
     "name": "stderr",
     "output_type": "stream",
     "text": [
      "C:\\Users\\peter\\.conda\\envs\\audio4\\lib\\site-packages\\speechbrain\\dataio\\encoder.py:722: UserWarning: CategoricalEncoder.expect_len was never called: assuming category count of 16 to be correct! Sanity check your encoder using `.expect_len`. Ensure that downstream code also uses the correct size. If you are sure this does not apply to you, use `.ignore_len`.\n",
      "  warnings.warn(\n"
     ]
    }
   ],
   "source": [
    "# Irish Example\n",
    "#out_prob, score, index, text_lab = classifier.classify_file('Jzuluaga/accent-id-commonaccent_ecapa/data/ireland_1.wav')\n",
    "out_prob, score, index, text_lab = classifier.classify_file('C:\\\\Users\\\\peter\\\\VoxPop\\\\commonaccent\\\\data_ireland_1.wav')\n",
    "print(text_lab)"
   ]
  },
  {
   "cell_type": "code",
   "execution_count": 5,
   "id": "f11f1068-2a78-4944-8e97-8ec88ab72879",
   "metadata": {},
   "outputs": [
    {
     "name": "stdout",
     "output_type": "stream",
     "text": [
      "['malaysia']\n"
     ]
    }
   ],
   "source": [
    "# Malaysia Example\n",
    "out_prob, score, index, text_lab = classifier.classify_file('C:\\\\Users\\\\peter\\\\VoxPop\\\\commonaccent\\\\data_malaysia_1.wav')\n",
    "print(text_lab)\n"
   ]
  },
  {
   "cell_type": "code",
   "execution_count": 6,
   "id": "37d53ec1-960a-4c87-8f40-78912adb5fba",
   "metadata": {},
   "outputs": [
    {
     "name": "stdout",
     "output_type": "stream",
     "text": [
      "C:\\Users\\peter\\VoxPop\\sample_output_directory\\*.wav\n"
     ]
    }
   ],
   "source": [
    "DIR_PATH=DIR_PATH+\"\\sample_output_directory\\*.wav\"\n",
    "#DIR_PATH=r\"C:\\Users\\peter\\VoxPop\\ANT\\*.wav\"\n",
    "print(DIR_PATH)"
   ]
  },
  {
   "cell_type": "code",
   "execution_count": 7,
   "id": "3da9d0cd-d3f5-4865-b825-59bc1fb2c7f4",
   "metadata": {},
   "outputs": [],
   "source": [
    "import glob"
   ]
  },
  {
   "cell_type": "code",
   "execution_count": 8,
   "id": "dcb98b5f-e6d0-4e94-a81e-6ed4403e8dc9",
   "metadata": {},
   "outputs": [],
   "source": [
    "filenames=[]"
   ]
  },
  {
   "cell_type": "code",
   "execution_count": 9,
   "id": "9b05d114-6832-4fc0-b672-fb216244997d",
   "metadata": {},
   "outputs": [
    {
     "name": "stdout",
     "output_type": "stream",
     "text": [
      "21594\n"
     ]
    }
   ],
   "source": [
    "res = glob.glob(DIR_PATH)\n",
    "for filename in res:\n",
    "    filenames.append(filename)\n",
    "print(len(filenames))"
   ]
  },
  {
   "cell_type": "code",
   "execution_count": 10,
   "id": "4df87410-27ef-4a64-b3c1-1ee3653b4559",
   "metadata": {},
   "outputs": [],
   "source": [
    "import time"
   ]
  },
  {
   "cell_type": "code",
   "execution_count": 11,
   "id": "bac8ed36-1210-490a-aaa0-dd1160ec6728",
   "metadata": {},
   "outputs": [
    {
     "name": "stdout",
     "output_type": "stream",
     "text": [
      "1723229875.6247644\n"
     ]
    }
   ],
   "source": [
    "# Start time\n",
    "start_time = time.time()\n",
    "print(start_time)"
   ]
  },
  {
   "cell_type": "code",
   "execution_count": 12,
   "id": "a112d151-10ca-4193-a7c4-14dd7493beec",
   "metadata": {},
   "outputs": [],
   "source": [
    "files=[]\n",
    "out_probs=[]\n",
    "scores=[]\n",
    "text_labs=[]\n",
    "trues=[]"
   ]
  },
  {
   "cell_type": "code",
   "execution_count": 13,
   "id": "f53592d3-a20d-463d-9cdc-87998fa06b40",
   "metadata": {},
   "outputs": [],
   "source": [
    "for number, file in enumerate(filenames):\n",
    "    #print(number)\n",
    "    #print(file)\n",
    "    out_prob, score, index, text_lab = classifier.classify_file(file)\n",
    "    files.append(file)\n",
    "    out_probs.append(out_prob.flatten().numpy())\n",
    "    text_labs.append(text_lab[0])\n",
    "    scores.append(score[0])\n",
    "    true=(text_lab[0]=='ireland')\n",
    "    trues.append(true)\n",
    "    #print(out_prob, score, index)\n",
    "    #print(\"{:.2f}\".format(float(score[0]) * 100))\n",
    "    #print(text_lab[0]+\"\\n\")"
   ]
  },
  {
   "cell_type": "code",
   "execution_count": 14,
   "id": "8ebc12aa-505a-41f1-874c-35ea68e37f5a",
   "metadata": {},
   "outputs": [
    {
     "name": "stdout",
     "output_type": "stream",
     "text": [
      "Execution time: 3455.99 seconds 57.60 minutes\n"
     ]
    }
   ],
   "source": [
    "# End time\n",
    "end_time = time.time()\n",
    "\n",
    "# Execution time\n",
    "execution_time = end_time - start_time\n",
    "print(f\"Execution time: {execution_time:.2f} seconds {execution_time/60:.2f} minutes\" )"
   ]
  },
  {
   "cell_type": "code",
   "execution_count": null,
   "id": "ec3a4211-818e-455a-8d0d-45d0e15bdf7f",
   "metadata": {},
   "outputs": [],
   "source": []
  },
  {
   "cell_type": "code",
   "execution_count": 25,
   "id": "5c4652ec-4bde-4e92-a6c9-b1fb6c167202",
   "metadata": {},
   "outputs": [],
   "source": [
    "import pandas as pd\n",
    "import numpy as np"
   ]
  },
  {
   "cell_type": "code",
   "execution_count": 16,
   "id": "b6096e60-0d95-48dd-8a2a-67afd5b26057",
   "metadata": {},
   "outputs": [
    {
     "name": "stdout",
     "output_type": "stream",
     "text": [
      "21594\n",
      "21594\n",
      "21594\n",
      "21594\n",
      "21594\n"
     ]
    }
   ],
   "source": [
    "print(len(files))\n",
    "print(len(text_labs))\n",
    "print(len(scores))\n",
    "print(len(trues))\n",
    "print(len(out_probs))"
   ]
  },
  {
   "cell_type": "code",
   "execution_count": 17,
   "id": "bd327bb7-9601-411c-9c6c-9ade58848ba6",
   "metadata": {},
   "outputs": [],
   "source": [
    "# Create a dictionary with column names as keys and lists as values\n",
    "data = {\n",
    "    'file': files,\n",
    "    'out_prob': out_probs,\n",
    "    'text_lab': text_labs,\n",
    "    'score': scores,\n",
    "    'true': trues\n",
    "}\n",
    "\n",
    "# Create a DataFrame from the dictionary\n",
    "df = pd.DataFrame(data)"
   ]
  },
  {
   "cell_type": "code",
   "execution_count": 18,
   "id": "0c6ae289-ef92-41fa-a6eb-5c5bb386afbf",
   "metadata": {},
   "outputs": [
    {
     "data": {
      "text/html": [
       "<div>\n",
       "<style scoped>\n",
       "    .dataframe tbody tr th:only-of-type {\n",
       "        vertical-align: middle;\n",
       "    }\n",
       "\n",
       "    .dataframe tbody tr th {\n",
       "        vertical-align: top;\n",
       "    }\n",
       "\n",
       "    .dataframe thead th {\n",
       "        text-align: right;\n",
       "    }\n",
       "</style>\n",
       "<table border=\"1\" class=\"dataframe\">\n",
       "  <thead>\n",
       "    <tr style=\"text-align: right;\">\n",
       "      <th></th>\n",
       "      <th>file</th>\n",
       "      <th>out_prob</th>\n",
       "      <th>text_lab</th>\n",
       "      <th>score</th>\n",
       "      <th>true</th>\n",
       "    </tr>\n",
       "  </thead>\n",
       "  <tbody>\n",
       "    <tr>\n",
       "      <th>0</th>\n",
       "      <td>C:\\Users\\peter\\VoxPop\\sample_output_directory\\...</td>\n",
       "      <td>[0.46775746, 0.51209784, 0.35003126, 0.2508372...</td>\n",
       "      <td>us</td>\n",
       "      <td>tensor(0.5121)</td>\n",
       "      <td>False</td>\n",
       "    </tr>\n",
       "    <tr>\n",
       "      <th>1</th>\n",
       "      <td>C:\\Users\\peter\\VoxPop\\sample_output_directory\\...</td>\n",
       "      <td>[0.33711463, 0.6235305, 0.55231106, 0.38076192...</td>\n",
       "      <td>us</td>\n",
       "      <td>tensor(0.6235)</td>\n",
       "      <td>False</td>\n",
       "    </tr>\n",
       "    <tr>\n",
       "      <th>2</th>\n",
       "      <td>C:\\Users\\peter\\VoxPop\\sample_output_directory\\...</td>\n",
       "      <td>[0.34367928, 0.46769005, 0.19954014, 0.3333324...</td>\n",
       "      <td>us</td>\n",
       "      <td>tensor(0.4677)</td>\n",
       "      <td>False</td>\n",
       "    </tr>\n",
       "    <tr>\n",
       "      <th>3</th>\n",
       "      <td>C:\\Users\\peter\\VoxPop\\sample_output_directory\\...</td>\n",
       "      <td>[0.5354333, 0.18778895, 0.12865376, 0.17647633...</td>\n",
       "      <td>england</td>\n",
       "      <td>tensor(0.5354)</td>\n",
       "      <td>False</td>\n",
       "    </tr>\n",
       "    <tr>\n",
       "      <th>4</th>\n",
       "      <td>C:\\Users\\peter\\VoxPop\\sample_output_directory\\...</td>\n",
       "      <td>[0.5854126, 0.30902618, 0.0724244, 0.14701594,...</td>\n",
       "      <td>england</td>\n",
       "      <td>tensor(0.5854)</td>\n",
       "      <td>False</td>\n",
       "    </tr>\n",
       "    <tr>\n",
       "      <th>...</th>\n",
       "      <td>...</td>\n",
       "      <td>...</td>\n",
       "      <td>...</td>\n",
       "      <td>...</td>\n",
       "      <td>...</td>\n",
       "    </tr>\n",
       "    <tr>\n",
       "      <th>21589</th>\n",
       "      <td>C:\\Users\\peter\\VoxPop\\sample_output_directory\\...</td>\n",
       "      <td>[0.19778767, 0.38407403, -0.054174658, 0.21990...</td>\n",
       "      <td>scotland</td>\n",
       "      <td>tensor(0.4497)</td>\n",
       "      <td>False</td>\n",
       "    </tr>\n",
       "    <tr>\n",
       "      <th>21590</th>\n",
       "      <td>C:\\Users\\peter\\VoxPop\\sample_output_directory\\...</td>\n",
       "      <td>[0.5277188, 0.15278128, -0.17591949, 0.1386958...</td>\n",
       "      <td>england</td>\n",
       "      <td>tensor(0.5277)</td>\n",
       "      <td>False</td>\n",
       "    </tr>\n",
       "    <tr>\n",
       "      <th>21591</th>\n",
       "      <td>C:\\Users\\peter\\VoxPop\\sample_output_directory\\...</td>\n",
       "      <td>[0.51234096, 0.3661647, 0.06659398, 0.18252993...</td>\n",
       "      <td>england</td>\n",
       "      <td>tensor(0.5123)</td>\n",
       "      <td>False</td>\n",
       "    </tr>\n",
       "    <tr>\n",
       "      <th>21592</th>\n",
       "      <td>C:\\Users\\peter\\VoxPop\\sample_output_directory\\...</td>\n",
       "      <td>[0.39278162, 0.37522447, 0.11022212, 0.0833859...</td>\n",
       "      <td>england</td>\n",
       "      <td>tensor(0.3928)</td>\n",
       "      <td>False</td>\n",
       "    </tr>\n",
       "    <tr>\n",
       "      <th>21593</th>\n",
       "      <td>C:\\Users\\peter\\VoxPop\\sample_output_directory\\...</td>\n",
       "      <td>[0.1596539, 0.11591194, 0.08927685, 0.4878154,...</td>\n",
       "      <td>australia</td>\n",
       "      <td>tensor(0.4878)</td>\n",
       "      <td>False</td>\n",
       "    </tr>\n",
       "  </tbody>\n",
       "</table>\n",
       "<p>21594 rows × 5 columns</p>\n",
       "</div>"
      ],
      "text/plain": [
       "                                                    file  \\\n",
       "0      C:\\Users\\peter\\VoxPop\\sample_output_directory\\...   \n",
       "1      C:\\Users\\peter\\VoxPop\\sample_output_directory\\...   \n",
       "2      C:\\Users\\peter\\VoxPop\\sample_output_directory\\...   \n",
       "3      C:\\Users\\peter\\VoxPop\\sample_output_directory\\...   \n",
       "4      C:\\Users\\peter\\VoxPop\\sample_output_directory\\...   \n",
       "...                                                  ...   \n",
       "21589  C:\\Users\\peter\\VoxPop\\sample_output_directory\\...   \n",
       "21590  C:\\Users\\peter\\VoxPop\\sample_output_directory\\...   \n",
       "21591  C:\\Users\\peter\\VoxPop\\sample_output_directory\\...   \n",
       "21592  C:\\Users\\peter\\VoxPop\\sample_output_directory\\...   \n",
       "21593  C:\\Users\\peter\\VoxPop\\sample_output_directory\\...   \n",
       "\n",
       "                                                out_prob   text_lab  \\\n",
       "0      [0.46775746, 0.51209784, 0.35003126, 0.2508372...         us   \n",
       "1      [0.33711463, 0.6235305, 0.55231106, 0.38076192...         us   \n",
       "2      [0.34367928, 0.46769005, 0.19954014, 0.3333324...         us   \n",
       "3      [0.5354333, 0.18778895, 0.12865376, 0.17647633...    england   \n",
       "4      [0.5854126, 0.30902618, 0.0724244, 0.14701594,...    england   \n",
       "...                                                  ...        ...   \n",
       "21589  [0.19778767, 0.38407403, -0.054174658, 0.21990...   scotland   \n",
       "21590  [0.5277188, 0.15278128, -0.17591949, 0.1386958...    england   \n",
       "21591  [0.51234096, 0.3661647, 0.06659398, 0.18252993...    england   \n",
       "21592  [0.39278162, 0.37522447, 0.11022212, 0.0833859...    england   \n",
       "21593  [0.1596539, 0.11591194, 0.08927685, 0.4878154,...  australia   \n",
       "\n",
       "                score   true  \n",
       "0      tensor(0.5121)  False  \n",
       "1      tensor(0.6235)  False  \n",
       "2      tensor(0.4677)  False  \n",
       "3      tensor(0.5354)  False  \n",
       "4      tensor(0.5854)  False  \n",
       "...               ...    ...  \n",
       "21589  tensor(0.4497)  False  \n",
       "21590  tensor(0.5277)  False  \n",
       "21591  tensor(0.5123)  False  \n",
       "21592  tensor(0.3928)  False  \n",
       "21593  tensor(0.4878)  False  \n",
       "\n",
       "[21594 rows x 5 columns]"
      ]
     },
     "execution_count": 18,
     "metadata": {},
     "output_type": "execute_result"
    }
   ],
   "source": [
    "df"
   ]
  },
  {
   "cell_type": "code",
   "execution_count": 26,
   "id": "38e334a6-280a-450a-ab54-ce99cde10827",
   "metadata": {},
   "outputs": [
    {
     "data": {
      "text/plain": [
       "651"
      ]
     },
     "execution_count": 26,
     "metadata": {},
     "output_type": "execute_result"
    }
   ],
   "source": [
    "df['true'][df['true']==True].sum()"
   ]
  },
  {
   "cell_type": "code",
   "execution_count": 27,
   "id": "9c29db1c-f3c6-4544-9fcc-96c4572e1d33",
   "metadata": {},
   "outputs": [
    {
     "name": "stdout",
     "output_type": "stream",
     "text": [
      "3.01%\n"
     ]
    }
   ],
   "source": [
    "print(\"{:.2%}\".format(df['true'][df['true']==True].sum() / len (filenames)))"
   ]
  },
  {
   "cell_type": "code",
   "execution_count": null,
   "id": "58c85460-763b-4726-bd74-53611d6e63b8",
   "metadata": {},
   "outputs": [],
   "source": []
  },
  {
   "cell_type": "code",
   "execution_count": 30,
   "id": "378d647e-3700-4a3d-8e5f-047e3eaf3619",
   "metadata": {},
   "outputs": [
    {
     "data": {
      "text/html": [
       "<div>\n",
       "<style scoped>\n",
       "    .dataframe tbody tr th:only-of-type {\n",
       "        vertical-align: middle;\n",
       "    }\n",
       "\n",
       "    .dataframe tbody tr th {\n",
       "        vertical-align: top;\n",
       "    }\n",
       "\n",
       "    .dataframe thead th {\n",
       "        text-align: right;\n",
       "    }\n",
       "</style>\n",
       "<table border=\"1\" class=\"dataframe\">\n",
       "  <thead>\n",
       "    <tr style=\"text-align: right;\">\n",
       "      <th></th>\n",
       "      <th>file</th>\n",
       "      <th>out_prob</th>\n",
       "      <th>text_lab</th>\n",
       "      <th>score</th>\n",
       "      <th>true</th>\n",
       "    </tr>\n",
       "  </thead>\n",
       "  <tbody>\n",
       "    <tr>\n",
       "      <th>16</th>\n",
       "      <td>C:\\Users\\peter\\VoxPop\\sample_output_directory\\...</td>\n",
       "      <td>[0.27312946, 0.3324712, 0.16831839, 0.28433096...</td>\n",
       "      <td>ireland</td>\n",
       "      <td>tensor(0.4752)</td>\n",
       "      <td>True</td>\n",
       "    </tr>\n",
       "    <tr>\n",
       "      <th>35</th>\n",
       "      <td>C:\\Users\\peter\\VoxPop\\sample_output_directory\\...</td>\n",
       "      <td>[0.27026194, 0.2486932, 0.2305888, 0.042003576...</td>\n",
       "      <td>ireland</td>\n",
       "      <td>tensor(0.4827)</td>\n",
       "      <td>True</td>\n",
       "    </tr>\n",
       "    <tr>\n",
       "      <th>62</th>\n",
       "      <td>C:\\Users\\peter\\VoxPop\\sample_output_directory\\...</td>\n",
       "      <td>[0.21659653, 0.21417135, 0.2528292, 0.03536192...</td>\n",
       "      <td>ireland</td>\n",
       "      <td>tensor(0.2897)</td>\n",
       "      <td>True</td>\n",
       "    </tr>\n",
       "    <tr>\n",
       "      <th>212</th>\n",
       "      <td>C:\\Users\\peter\\VoxPop\\sample_output_directory\\...</td>\n",
       "      <td>[0.19705823, 0.42349064, 0.23447715, 0.0748811...</td>\n",
       "      <td>ireland</td>\n",
       "      <td>tensor(0.5702)</td>\n",
       "      <td>True</td>\n",
       "    </tr>\n",
       "    <tr>\n",
       "      <th>275</th>\n",
       "      <td>C:\\Users\\peter\\VoxPop\\sample_output_directory\\...</td>\n",
       "      <td>[0.21074745, 0.3354432, 0.05505607, 0.15546317...</td>\n",
       "      <td>ireland</td>\n",
       "      <td>tensor(0.5118)</td>\n",
       "      <td>True</td>\n",
       "    </tr>\n",
       "    <tr>\n",
       "      <th>...</th>\n",
       "      <td>...</td>\n",
       "      <td>...</td>\n",
       "      <td>...</td>\n",
       "      <td>...</td>\n",
       "      <td>...</td>\n",
       "    </tr>\n",
       "    <tr>\n",
       "      <th>21408</th>\n",
       "      <td>C:\\Users\\peter\\VoxPop\\sample_output_directory\\...</td>\n",
       "      <td>[0.25692257, -0.027206495, 0.08978666, 0.13821...</td>\n",
       "      <td>ireland</td>\n",
       "      <td>tensor(0.4102)</td>\n",
       "      <td>True</td>\n",
       "    </tr>\n",
       "    <tr>\n",
       "      <th>21411</th>\n",
       "      <td>C:\\Users\\peter\\VoxPop\\sample_output_directory\\...</td>\n",
       "      <td>[0.46664494, 0.40144613, 0.086355194, 0.128205...</td>\n",
       "      <td>ireland</td>\n",
       "      <td>tensor(0.4674)</td>\n",
       "      <td>True</td>\n",
       "    </tr>\n",
       "    <tr>\n",
       "      <th>21514</th>\n",
       "      <td>C:\\Users\\peter\\VoxPop\\sample_output_directory\\...</td>\n",
       "      <td>[0.27615035, 0.5190058, 0.32567048, 0.14064418...</td>\n",
       "      <td>ireland</td>\n",
       "      <td>tensor(0.5199)</td>\n",
       "      <td>True</td>\n",
       "    </tr>\n",
       "    <tr>\n",
       "      <th>21549</th>\n",
       "      <td>C:\\Users\\peter\\VoxPop\\sample_output_directory\\...</td>\n",
       "      <td>[0.3495509, 0.26506916, 0.026432361, 0.1710534...</td>\n",
       "      <td>ireland</td>\n",
       "      <td>tensor(0.3536)</td>\n",
       "      <td>True</td>\n",
       "    </tr>\n",
       "    <tr>\n",
       "      <th>21576</th>\n",
       "      <td>C:\\Users\\peter\\VoxPop\\sample_output_directory\\...</td>\n",
       "      <td>[0.031237915, 0.24799481, 0.1273096, 0.0715664...</td>\n",
       "      <td>ireland</td>\n",
       "      <td>tensor(0.4560)</td>\n",
       "      <td>True</td>\n",
       "    </tr>\n",
       "  </tbody>\n",
       "</table>\n",
       "<p>651 rows × 5 columns</p>\n",
       "</div>"
      ],
      "text/plain": [
       "                                                    file  \\\n",
       "16     C:\\Users\\peter\\VoxPop\\sample_output_directory\\...   \n",
       "35     C:\\Users\\peter\\VoxPop\\sample_output_directory\\...   \n",
       "62     C:\\Users\\peter\\VoxPop\\sample_output_directory\\...   \n",
       "212    C:\\Users\\peter\\VoxPop\\sample_output_directory\\...   \n",
       "275    C:\\Users\\peter\\VoxPop\\sample_output_directory\\...   \n",
       "...                                                  ...   \n",
       "21408  C:\\Users\\peter\\VoxPop\\sample_output_directory\\...   \n",
       "21411  C:\\Users\\peter\\VoxPop\\sample_output_directory\\...   \n",
       "21514  C:\\Users\\peter\\VoxPop\\sample_output_directory\\...   \n",
       "21549  C:\\Users\\peter\\VoxPop\\sample_output_directory\\...   \n",
       "21576  C:\\Users\\peter\\VoxPop\\sample_output_directory\\...   \n",
       "\n",
       "                                                out_prob text_lab  \\\n",
       "16     [0.27312946, 0.3324712, 0.16831839, 0.28433096...  ireland   \n",
       "35     [0.27026194, 0.2486932, 0.2305888, 0.042003576...  ireland   \n",
       "62     [0.21659653, 0.21417135, 0.2528292, 0.03536192...  ireland   \n",
       "212    [0.19705823, 0.42349064, 0.23447715, 0.0748811...  ireland   \n",
       "275    [0.21074745, 0.3354432, 0.05505607, 0.15546317...  ireland   \n",
       "...                                                  ...      ...   \n",
       "21408  [0.25692257, -0.027206495, 0.08978666, 0.13821...  ireland   \n",
       "21411  [0.46664494, 0.40144613, 0.086355194, 0.128205...  ireland   \n",
       "21514  [0.27615035, 0.5190058, 0.32567048, 0.14064418...  ireland   \n",
       "21549  [0.3495509, 0.26506916, 0.026432361, 0.1710534...  ireland   \n",
       "21576  [0.031237915, 0.24799481, 0.1273096, 0.0715664...  ireland   \n",
       "\n",
       "                score  true  \n",
       "16     tensor(0.4752)  True  \n",
       "35     tensor(0.4827)  True  \n",
       "62     tensor(0.2897)  True  \n",
       "212    tensor(0.5702)  True  \n",
       "275    tensor(0.5118)  True  \n",
       "...               ...   ...  \n",
       "21408  tensor(0.4102)  True  \n",
       "21411  tensor(0.4674)  True  \n",
       "21514  tensor(0.5199)  True  \n",
       "21549  tensor(0.3536)  True  \n",
       "21576  tensor(0.4560)  True  \n",
       "\n",
       "[651 rows x 5 columns]"
      ]
     },
     "execution_count": 30,
     "metadata": {},
     "output_type": "execute_result"
    }
   ],
   "source": [
    "ireland_count=df[df['text_lab']=='ireland']\n",
    "ireland_count"
   ]
  },
  {
   "cell_type": "code",
   "execution_count": 31,
   "id": "036792ef-04f6-4a50-a845-9f4a3b0cb64f",
   "metadata": {},
   "outputs": [
    {
     "data": {
      "text/html": [
       "<div>\n",
       "<style scoped>\n",
       "    .dataframe tbody tr th:only-of-type {\n",
       "        vertical-align: middle;\n",
       "    }\n",
       "\n",
       "    .dataframe tbody tr th {\n",
       "        vertical-align: top;\n",
       "    }\n",
       "\n",
       "    .dataframe thead th {\n",
       "        text-align: right;\n",
       "    }\n",
       "</style>\n",
       "<table border=\"1\" class=\"dataframe\">\n",
       "  <thead>\n",
       "    <tr style=\"text-align: right;\">\n",
       "      <th></th>\n",
       "      <th>file</th>\n",
       "      <th>out_prob</th>\n",
       "      <th>text_lab</th>\n",
       "      <th>score</th>\n",
       "      <th>true</th>\n",
       "    </tr>\n",
       "  </thead>\n",
       "  <tbody>\n",
       "    <tr>\n",
       "      <th>16</th>\n",
       "      <td>C:\\Users\\peter\\VoxPop\\sample_output_directory\\...</td>\n",
       "      <td>[0.27312946, 0.3324712, 0.16831839, 0.28433096...</td>\n",
       "      <td>ireland</td>\n",
       "      <td>tensor(0.4752)</td>\n",
       "      <td>True</td>\n",
       "    </tr>\n",
       "    <tr>\n",
       "      <th>35</th>\n",
       "      <td>C:\\Users\\peter\\VoxPop\\sample_output_directory\\...</td>\n",
       "      <td>[0.27026194, 0.2486932, 0.2305888, 0.042003576...</td>\n",
       "      <td>ireland</td>\n",
       "      <td>tensor(0.4827)</td>\n",
       "      <td>True</td>\n",
       "    </tr>\n",
       "    <tr>\n",
       "      <th>62</th>\n",
       "      <td>C:\\Users\\peter\\VoxPop\\sample_output_directory\\...</td>\n",
       "      <td>[0.21659653, 0.21417135, 0.2528292, 0.03536192...</td>\n",
       "      <td>ireland</td>\n",
       "      <td>tensor(0.2897)</td>\n",
       "      <td>True</td>\n",
       "    </tr>\n",
       "    <tr>\n",
       "      <th>212</th>\n",
       "      <td>C:\\Users\\peter\\VoxPop\\sample_output_directory\\...</td>\n",
       "      <td>[0.19705823, 0.42349064, 0.23447715, 0.0748811...</td>\n",
       "      <td>ireland</td>\n",
       "      <td>tensor(0.5702)</td>\n",
       "      <td>True</td>\n",
       "    </tr>\n",
       "    <tr>\n",
       "      <th>275</th>\n",
       "      <td>C:\\Users\\peter\\VoxPop\\sample_output_directory\\...</td>\n",
       "      <td>[0.21074745, 0.3354432, 0.05505607, 0.15546317...</td>\n",
       "      <td>ireland</td>\n",
       "      <td>tensor(0.5118)</td>\n",
       "      <td>True</td>\n",
       "    </tr>\n",
       "    <tr>\n",
       "      <th>...</th>\n",
       "      <td>...</td>\n",
       "      <td>...</td>\n",
       "      <td>...</td>\n",
       "      <td>...</td>\n",
       "      <td>...</td>\n",
       "    </tr>\n",
       "    <tr>\n",
       "      <th>21408</th>\n",
       "      <td>C:\\Users\\peter\\VoxPop\\sample_output_directory\\...</td>\n",
       "      <td>[0.25692257, -0.027206495, 0.08978666, 0.13821...</td>\n",
       "      <td>ireland</td>\n",
       "      <td>tensor(0.4102)</td>\n",
       "      <td>True</td>\n",
       "    </tr>\n",
       "    <tr>\n",
       "      <th>21411</th>\n",
       "      <td>C:\\Users\\peter\\VoxPop\\sample_output_directory\\...</td>\n",
       "      <td>[0.46664494, 0.40144613, 0.086355194, 0.128205...</td>\n",
       "      <td>ireland</td>\n",
       "      <td>tensor(0.4674)</td>\n",
       "      <td>True</td>\n",
       "    </tr>\n",
       "    <tr>\n",
       "      <th>21514</th>\n",
       "      <td>C:\\Users\\peter\\VoxPop\\sample_output_directory\\...</td>\n",
       "      <td>[0.27615035, 0.5190058, 0.32567048, 0.14064418...</td>\n",
       "      <td>ireland</td>\n",
       "      <td>tensor(0.5199)</td>\n",
       "      <td>True</td>\n",
       "    </tr>\n",
       "    <tr>\n",
       "      <th>21549</th>\n",
       "      <td>C:\\Users\\peter\\VoxPop\\sample_output_directory\\...</td>\n",
       "      <td>[0.3495509, 0.26506916, 0.026432361, 0.1710534...</td>\n",
       "      <td>ireland</td>\n",
       "      <td>tensor(0.3536)</td>\n",
       "      <td>True</td>\n",
       "    </tr>\n",
       "    <tr>\n",
       "      <th>21576</th>\n",
       "      <td>C:\\Users\\peter\\VoxPop\\sample_output_directory\\...</td>\n",
       "      <td>[0.031237915, 0.24799481, 0.1273096, 0.0715664...</td>\n",
       "      <td>ireland</td>\n",
       "      <td>tensor(0.4560)</td>\n",
       "      <td>True</td>\n",
       "    </tr>\n",
       "  </tbody>\n",
       "</table>\n",
       "<p>651 rows × 5 columns</p>\n",
       "</div>"
      ],
      "text/plain": [
       "                                                    file  \\\n",
       "16     C:\\Users\\peter\\VoxPop\\sample_output_directory\\...   \n",
       "35     C:\\Users\\peter\\VoxPop\\sample_output_directory\\...   \n",
       "62     C:\\Users\\peter\\VoxPop\\sample_output_directory\\...   \n",
       "212    C:\\Users\\peter\\VoxPop\\sample_output_directory\\...   \n",
       "275    C:\\Users\\peter\\VoxPop\\sample_output_directory\\...   \n",
       "...                                                  ...   \n",
       "21408  C:\\Users\\peter\\VoxPop\\sample_output_directory\\...   \n",
       "21411  C:\\Users\\peter\\VoxPop\\sample_output_directory\\...   \n",
       "21514  C:\\Users\\peter\\VoxPop\\sample_output_directory\\...   \n",
       "21549  C:\\Users\\peter\\VoxPop\\sample_output_directory\\...   \n",
       "21576  C:\\Users\\peter\\VoxPop\\sample_output_directory\\...   \n",
       "\n",
       "                                                out_prob text_lab  \\\n",
       "16     [0.27312946, 0.3324712, 0.16831839, 0.28433096...  ireland   \n",
       "35     [0.27026194, 0.2486932, 0.2305888, 0.042003576...  ireland   \n",
       "62     [0.21659653, 0.21417135, 0.2528292, 0.03536192...  ireland   \n",
       "212    [0.19705823, 0.42349064, 0.23447715, 0.0748811...  ireland   \n",
       "275    [0.21074745, 0.3354432, 0.05505607, 0.15546317...  ireland   \n",
       "...                                                  ...      ...   \n",
       "21408  [0.25692257, -0.027206495, 0.08978666, 0.13821...  ireland   \n",
       "21411  [0.46664494, 0.40144613, 0.086355194, 0.128205...  ireland   \n",
       "21514  [0.27615035, 0.5190058, 0.32567048, 0.14064418...  ireland   \n",
       "21549  [0.3495509, 0.26506916, 0.026432361, 0.1710534...  ireland   \n",
       "21576  [0.031237915, 0.24799481, 0.1273096, 0.0715664...  ireland   \n",
       "\n",
       "                score  true  \n",
       "16     tensor(0.4752)  True  \n",
       "35     tensor(0.4827)  True  \n",
       "62     tensor(0.2897)  True  \n",
       "212    tensor(0.5702)  True  \n",
       "275    tensor(0.5118)  True  \n",
       "...               ...   ...  \n",
       "21408  tensor(0.4102)  True  \n",
       "21411  tensor(0.4674)  True  \n",
       "21514  tensor(0.5199)  True  \n",
       "21549  tensor(0.3536)  True  \n",
       "21576  tensor(0.4560)  True  \n",
       "\n",
       "[651 rows x 5 columns]"
      ]
     },
     "execution_count": 31,
     "metadata": {},
     "output_type": "execute_result"
    }
   ],
   "source": [
    "ireland_count"
   ]
  },
  {
   "cell_type": "markdown",
   "id": "931209c3-ea84-41b3-bccf-1c64d212f313",
   "metadata": {},
   "source": [
    "## 651 Irish classifications made correctly, out of the full dataset of both our input speech samples "
   ]
  },
  {
   "cell_type": "code",
   "execution_count": null,
   "id": "a79ce6ef-6219-4917-b96f-89e41af0d226",
   "metadata": {},
   "outputs": [],
   "source": []
  },
  {
   "cell_type": "code",
   "execution_count": 29,
   "id": "cd002172-73b1-4c61-8d6c-a0046bfe2744",
   "metadata": {},
   "outputs": [],
   "source": [
    "# Save the results \n",
    "df.to_csv(\"dub_claassification_results_ecapa.csv\")"
   ]
  },
  {
   "cell_type": "code",
   "execution_count": null,
   "id": "ffb5381f-42f0-4c56-ae68-33bdb7c15637",
   "metadata": {},
   "outputs": [],
   "source": []
  }
 ],
 "metadata": {
  "kernelspec": {
   "display_name": "audio4",
   "language": "python",
   "name": "audio4"
  },
  "language_info": {
   "codemirror_mode": {
    "name": "ipython",
    "version": 3
   },
   "file_extension": ".py",
   "mimetype": "text/x-python",
   "name": "python",
   "nbconvert_exporter": "python",
   "pygments_lexer": "ipython3",
   "version": "3.10.13"
  }
 },
 "nbformat": 4,
 "nbformat_minor": 5
}
