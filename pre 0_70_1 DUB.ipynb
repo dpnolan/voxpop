{
 "cells": [
  {
   "cell_type": "markdown",
   "id": "bfca3d69-3199-4215-95f3-43d0c716cf0f",
   "metadata": {},
   "source": [
    "# Preprocessing Functions"
   ]
  },
  {
   "cell_type": "markdown",
   "id": "743b2460",
   "metadata": {},
   "source": [
    "## This workbook\n",
    "* Imports sound files from the SAIE dataset\n",
    "* Graphs and calculates the features\n",
    "* Adds the features to a Dataframe, then saves down the sample data for input in the classification model "
   ]
  },
  {
   "cell_type": "markdown",
   "id": "e1d71c36",
   "metadata": {},
   "source": [
    "## To do\n"
   ]
  },
  {
   "cell_type": "markdown",
   "id": "616f9cde",
   "metadata": {},
   "source": [
    "## Updates\n",
    "\n",
    "* 0_70 Store sample number and sample file names and add them to the dataframe\n",
    "* 0_69 DER Derry files, 0_69 Antrim and Belfast files, 0_60 DUB for Dublin files\n",
    "* 0_69 Clean up and check code and data; add exports of samples to WAV files\n",
    "* 0_68 Sample recordings every SAMPLE_LENGTH seconds.  Add these samples to the dataframe exported along with statistics for the sample alone.  \n",
    "* 0_67 Added DER Derry data,  Added regex for Windows file formats on Core i5\n",
    "* 0_66 Added DOW Down data\n",
    "* 0_65 Added ANT Antrim and BEL Belfast sound data, added rational expression to deal with the urban/rural and size codes in the SAIE filenames\n",
    "* 0_63,4 add conversion of MP3 to WAV, add extraction of county, town, gender and age codes\n",
    "* 0_6 add code for dataframe definition and export\n",
    "* 0_5 added graphing of spectrogram\n",
    "* 0_4 loaded Dublin full-text data"
   ]
  },
  {
   "cell_type": "code",
   "execution_count": 1,
   "id": "9b37be14",
   "metadata": {},
   "outputs": [
    {
     "name": "stdout",
     "output_type": "stream",
     "text": [
      "20240623_0159\n"
     ]
    }
   ],
   "source": [
    "from datetime import datetime\n",
    "\n",
    "# Get the current system date and time\n",
    "now = datetime.now()\n",
    "\n",
    "# Format the date and time as yyyymmdd_hhmm\n",
    "formatted_date_time = now.strftime(\"%Y%m%d_%H%M\")\n",
    "\n",
    "# Save it to a variable\n",
    "date_time_variable = formatted_date_time\n",
    "\n",
    "# Print the variable to verify\n",
    "print(date_time_variable)"
   ]
  },
  {
   "cell_type": "code",
   "execution_count": 2,
   "id": "9b120c27",
   "metadata": {},
   "outputs": [
    {
     "name": "stdout",
     "output_type": "stream",
     "text": [
      "C:\\Users\\peter\\VoxPop\n"
     ]
    }
   ],
   "source": [
    "#!pwd\n",
    "!cd "
   ]
  },
  {
   "cell_type": "code",
   "execution_count": 3,
   "id": "7c909746",
   "metadata": {},
   "outputs": [],
   "source": [
    "import librosa\n",
    "librosa.__version__ \n",
    "import librosa.display"
   ]
  },
  {
   "cell_type": "code",
   "execution_count": 4,
   "id": "6c91b3b7",
   "metadata": {},
   "outputs": [
    {
     "data": {
      "text/plain": [
       "'1.26.4'"
      ]
     },
     "execution_count": 4,
     "metadata": {},
     "output_type": "execute_result"
    }
   ],
   "source": [
    "import numpy as np \n",
    "np.__version__"
   ]
  },
  {
   "cell_type": "code",
   "execution_count": 5,
   "id": "d16fe3a8",
   "metadata": {},
   "outputs": [
    {
     "data": {
      "text/plain": [
       "'2.2.1'"
      ]
     },
     "execution_count": 5,
     "metadata": {},
     "output_type": "execute_result"
    }
   ],
   "source": [
    "import pandas as pd\n",
    "pd.__version__"
   ]
  },
  {
   "cell_type": "code",
   "execution_count": 6,
   "id": "7a0d5f61-4592-4af4-ac3f-948c45c10072",
   "metadata": {},
   "outputs": [],
   "source": [
    "import soundfile as sf"
   ]
  },
  {
   "cell_type": "code",
   "execution_count": 7,
   "id": "b635a787-6abb-4c24-8ddc-d189aacb7973",
   "metadata": {},
   "outputs": [],
   "source": [
    "import math"
   ]
  },
  {
   "cell_type": "code",
   "execution_count": 8,
   "id": "c3beb420",
   "metadata": {},
   "outputs": [],
   "source": [
    "import matplotlib.pyplot as plt\n",
    "%matplotlib inline\n",
    "#plt.style.use(\"seaborn\")\n",
    "import glob\n",
    "import IPython\n",
    "from IPython.display import Audio\n",
    "import re\n",
    "import csv"
   ]
  },
  {
   "cell_type": "code",
   "execution_count": 9,
   "id": "8965461d",
   "metadata": {},
   "outputs": [],
   "source": [
    "from pydub import AudioSegment\n",
    "import soundfile as sf\n",
    "import os"
   ]
  },
  {
   "cell_type": "code",
   "execution_count": 10,
   "id": "923bfb14",
   "metadata": {},
   "outputs": [],
   "source": [
    "filenames=[]\n",
    "sr=[]\n",
    "dur=[]\n",
    "y=[]\n",
    "names=[]"
   ]
  },
  {
   "cell_type": "markdown",
   "id": "7dc4f617-5f94-4b51-b4aa-ac6570f60c87",
   "metadata": {},
   "source": [
    "## Global Variables"
   ]
  },
  {
   "cell_type": "code",
   "execution_count": 11,
   "id": "f48b2a4e",
   "metadata": {},
   "outputs": [],
   "source": [
    "#DIR_PATH=r'/Users/peternolan/Documents/voxpop/notebooks/DUB/*.wav'\n",
    "#DIR_PATH=r'/Users/peternolan/Documents/voxpop/notebooks/NI/DER/*.wav'\n",
    "#DIR_PATH=r\"C:\\Users\\peter\\VoxPop\\DER\\*.wav\" # Derry input files\n",
    "#DIR_PATH=r\"C:\\Users\\peter\\VoxPop\\ANT\\*.wav\" # Antrim input files\n",
    "DIR_PATH=r\"C:\\Users\\peter\\VoxPop\\DUB\\*.wav\" # Dublin input files\n"
   ]
  },
  {
   "cell_type": "code",
   "execution_count": 12,
   "id": "d6cfe86a-4b41-4511-9eba-ba976f76de33",
   "metadata": {},
   "outputs": [],
   "source": [
    "DATASET_NAME = \"DUB\""
   ]
  },
  {
   "cell_type": "code",
   "execution_count": 13,
   "id": "c34bb296-937f-49a7-949c-b359165a8947",
   "metadata": {},
   "outputs": [],
   "source": [
    "SAMPLE_OUTPUT_DIRECTORY=\"C:\\\\Users\\\\peter\\\\VoxPop\\\\sample_output_directory\\\\\" "
   ]
  },
  {
   "cell_type": "code",
   "execution_count": 14,
   "id": "3419e4ee-d792-4e44-aaa0-7dba2cae234a",
   "metadata": {},
   "outputs": [],
   "source": [
    "SAMPLE_LENGTH=1 # seconds"
   ]
  },
  {
   "cell_type": "code",
   "execution_count": 15,
   "id": "1ddadbbf",
   "metadata": {},
   "outputs": [],
   "source": [
    "#RESAMPLE_RATE=8000\n",
    "RESAMPLE_RATE=22050"
   ]
  },
  {
   "cell_type": "code",
   "execution_count": 16,
   "id": "dcf8ee6c-3b1d-41eb-9a02-8b0f0729a77d",
   "metadata": {},
   "outputs": [
    {
     "data": {
      "text/plain": [
       "'C:\\\\Users\\\\peter\\\\VoxPop\\\\DUB\\\\*.wav'"
      ]
     },
     "execution_count": 16,
     "metadata": {},
     "output_type": "execute_result"
    }
   ],
   "source": [
    "DIR_PATH"
   ]
  },
  {
   "cell_type": "code",
   "execution_count": 17,
   "id": "f67fb15f",
   "metadata": {},
   "outputs": [],
   "source": [
    "res = glob.glob(DIR_PATH)\n",
    "for filename in res:\n",
    "    filenames.append(filename)"
   ]
  },
  {
   "cell_type": "code",
   "execution_count": 18,
   "id": "5980a35c",
   "metadata": {},
   "outputs": [
    {
     "data": {
      "text/plain": [
       "167"
      ]
     },
     "execution_count": 18,
     "metadata": {},
     "output_type": "execute_result"
    }
   ],
   "source": [
    "len(filenames)"
   ]
  },
  {
   "cell_type": "code",
   "execution_count": 19,
   "id": "f9ecfe32",
   "metadata": {},
   "outputs": [],
   "source": [
    "def sample_duration(filename):\n",
    "    d=(librosa.get_duration(path=filename))\n",
    "    d=int(d*100)/100\n",
    "    return d"
   ]
  },
  {
   "cell_type": "code",
   "execution_count": 20,
   "id": "e764dcfa",
   "metadata": {},
   "outputs": [],
   "source": [
    "def convert_MP3_to_WAV(convertfile):\n",
    "    print(convertfile)\n",
    "    convertaudio = AudioSegment.from_mp3(convertfile)\n",
    "    convertaudio.export(\"convertfile.wav\", format=\"wav\")\n",
    "    dur=sample_duration(\"convertfile.wav\")\n",
    "    y, sr = librosa.load(\"convertfile.wav\",duration=dur)\n",
    "    return y,sr"
   ]
  },
  {
   "cell_type": "code",
   "execution_count": 21,
   "id": "e70cb6d4",
   "metadata": {},
   "outputs": [
    {
     "data": {
      "text/plain": [
       "['C:\\\\Users\\\\peter\\\\VoxPop\\\\DUB\\\\DUB_Artane_M_20.wav',\n",
       " 'C:\\\\Users\\\\peter\\\\VoxPop\\\\DUB\\\\DUB_Artane_M_20_(2).wav',\n",
       " 'C:\\\\Users\\\\peter\\\\VoxPop\\\\DUB\\\\DUB_Artane_M_20_(3).wav',\n",
       " 'C:\\\\Users\\\\peter\\\\VoxPop\\\\DUB\\\\DUB_Ballinteer_F_20.wav',\n",
       " 'C:\\\\Users\\\\peter\\\\VoxPop\\\\DUB\\\\DUB_Ballinteer_F_20_(2).wav',\n",
       " 'C:\\\\Users\\\\peter\\\\VoxPop\\\\DUB\\\\DUB_Ballinteer_F_20_(3).wav',\n",
       " 'C:\\\\Users\\\\peter\\\\VoxPop\\\\DUB\\\\DUB_Ballinteer_M_25.wav',\n",
       " 'C:\\\\Users\\\\peter\\\\VoxPop\\\\DUB\\\\DUB_Beaumont_M_35.wav',\n",
       " 'C:\\\\Users\\\\peter\\\\VoxPop\\\\DUB\\\\DUB_Blackrock_F_20.wav',\n",
       " 'C:\\\\Users\\\\peter\\\\VoxPop\\\\DUB\\\\DUB_Blanchard_F_20.wav',\n",
       " 'C:\\\\Users\\\\peter\\\\VoxPop\\\\DUB\\\\DUB_Blanchard_F_20_(2).wav',\n",
       " 'C:\\\\Users\\\\peter\\\\VoxPop\\\\DUB\\\\DUB_Blanchard_F_20_(3).wav',\n",
       " 'C:\\\\Users\\\\peter\\\\VoxPop\\\\DUB\\\\DUB_Blanchard_F_20_(4).wav',\n",
       " 'C:\\\\Users\\\\peter\\\\VoxPop\\\\DUB\\\\DUB_Blanchard_F_20_(5).wav',\n",
       " 'C:\\\\Users\\\\peter\\\\VoxPop\\\\DUB\\\\DUB_Blanchard_M_20.wav',\n",
       " 'C:\\\\Users\\\\peter\\\\VoxPop\\\\DUB\\\\DUB_Blanchard_M_20_(2).wav',\n",
       " 'C:\\\\Users\\\\peter\\\\VoxPop\\\\DUB\\\\DUB_Blanchard_M_20_(3).wav',\n",
       " 'C:\\\\Users\\\\peter\\\\VoxPop\\\\DUB\\\\DUB_Blanchard_M_20_(4).wav',\n",
       " 'C:\\\\Users\\\\peter\\\\VoxPop\\\\DUB\\\\DUB_Bray_F_20.wav',\n",
       " 'C:\\\\Users\\\\peter\\\\VoxPop\\\\DUB\\\\DUB_Bray_F_20_(2).wav',\n",
       " 'C:\\\\Users\\\\peter\\\\VoxPop\\\\DUB\\\\DUB_Bray_F_35.wav',\n",
       " 'C:\\\\Users\\\\peter\\\\VoxPop\\\\DUB\\\\DUB_Bray_M_20.wav',\n",
       " 'C:\\\\Users\\\\peter\\\\VoxPop\\\\DUB\\\\DUB_Bray_M_20_(2).wav',\n",
       " 'C:\\\\Users\\\\peter\\\\VoxPop\\\\DUB\\\\DUB_Bray_M_20_(3).wav',\n",
       " 'C:\\\\Users\\\\peter\\\\VoxPop\\\\DUB\\\\DUB_Bray_M_20_(4).wav',\n",
       " 'C:\\\\Users\\\\peter\\\\VoxPop\\\\DUB\\\\DUB_Cabinteely_F_20.wav',\n",
       " 'C:\\\\Users\\\\peter\\\\VoxPop\\\\DUB\\\\DUB_Cabinteely_F_20_(2).wav',\n",
       " 'C:\\\\Users\\\\peter\\\\VoxPop\\\\DUB\\\\DUB_Cabinteely_F_20_(3).wav',\n",
       " 'C:\\\\Users\\\\peter\\\\VoxPop\\\\DUB\\\\DUB_Cabinteely_M_20.wav',\n",
       " 'C:\\\\Users\\\\peter\\\\VoxPop\\\\DUB\\\\DUB_Cabra_F_20.wav',\n",
       " 'C:\\\\Users\\\\peter\\\\VoxPop\\\\DUB\\\\DUB_Cabra_M_20.wav',\n",
       " 'C:\\\\Users\\\\peter\\\\VoxPop\\\\DUB\\\\DUB_Castleknock_F_20.wav',\n",
       " 'C:\\\\Users\\\\peter\\\\VoxPop\\\\DUB\\\\DUB_Castleknock_M_20.wav',\n",
       " 'C:\\\\Users\\\\peter\\\\VoxPop\\\\DUB\\\\DUB_Castleknock_M_20_(2).wav',\n",
       " 'C:\\\\Users\\\\peter\\\\VoxPop\\\\DUB\\\\DUB_Castleknock_M_20_(3).wav',\n",
       " 'C:\\\\Users\\\\peter\\\\VoxPop\\\\DUB\\\\DUB_Churchtown_F_20.wav',\n",
       " 'C:\\\\Users\\\\peter\\\\VoxPop\\\\DUB\\\\DUB_Churchtown_F_20_(2).wav',\n",
       " 'C:\\\\Users\\\\peter\\\\VoxPop\\\\DUB\\\\DUB_Churchtown_F_20_(3).wav',\n",
       " 'C:\\\\Users\\\\peter\\\\VoxPop\\\\DUB\\\\DUB_Clondalkin_M_20.wav',\n",
       " 'C:\\\\Users\\\\peter\\\\VoxPop\\\\DUB\\\\DUB_Clonskea_F_20.wav',\n",
       " 'C:\\\\Users\\\\peter\\\\VoxPop\\\\DUB\\\\DUB_Clonskea_F_20_(2).wav',\n",
       " 'C:\\\\Users\\\\peter\\\\VoxPop\\\\DUB\\\\DUB_Clonskea_F_20_(3).wav',\n",
       " 'C:\\\\Users\\\\peter\\\\VoxPop\\\\DUB\\\\DUB_Clonskea_F_20_(4).wav',\n",
       " 'C:\\\\Users\\\\peter\\\\VoxPop\\\\DUB\\\\DUB_Clonskea_M_20.wav',\n",
       " 'C:\\\\Users\\\\peter\\\\VoxPop\\\\DUB\\\\DUB_Clontarf_F_20.wav',\n",
       " 'C:\\\\Users\\\\peter\\\\VoxPop\\\\DUB\\\\DUB_Clontarf_F_20_(2).wav',\n",
       " 'C:\\\\Users\\\\peter\\\\VoxPop\\\\DUB\\\\DUB_Clontarf_F_20_(3).wav',\n",
       " 'C:\\\\Users\\\\peter\\\\VoxPop\\\\DUB\\\\DUB_Clontarf_M_20.wav',\n",
       " 'C:\\\\Users\\\\peter\\\\VoxPop\\\\DUB\\\\DUB_Clontarf_M_20_(2).wav',\n",
       " 'C:\\\\Users\\\\peter\\\\VoxPop\\\\DUB\\\\DUB_Clontarf_M_20_(3).wav',\n",
       " 'C:\\\\Users\\\\peter\\\\VoxPop\\\\DUB\\\\DUB_Crumlin_F_20.wav',\n",
       " 'C:\\\\Users\\\\peter\\\\VoxPop\\\\DUB\\\\DUB_Dalkey_F_20.wav',\n",
       " 'C:\\\\Users\\\\peter\\\\VoxPop\\\\DUB\\\\DUB_Dalkey_M_20.wav',\n",
       " 'C:\\\\Users\\\\peter\\\\VoxPop\\\\DUB\\\\DUB_DeansGrange_F_20.wav',\n",
       " 'C:\\\\Users\\\\peter\\\\VoxPop\\\\DUB\\\\DUB_DeansGrange_M_20.wav',\n",
       " 'C:\\\\Users\\\\peter\\\\VoxPop\\\\DUB\\\\DUB_Donnybrook_F_20.wav',\n",
       " 'C:\\\\Users\\\\peter\\\\VoxPop\\\\DUB\\\\DUB_Donnybrook_F_50.wav',\n",
       " 'C:\\\\Users\\\\peter\\\\VoxPop\\\\DUB\\\\DUB_Dundrum_F_20.wav',\n",
       " 'C:\\\\Users\\\\peter\\\\VoxPop\\\\DUB\\\\DUB_Dundrum_F_40.wav',\n",
       " 'C:\\\\Users\\\\peter\\\\VoxPop\\\\DUB\\\\DUB_Dundrum_M_20.wav',\n",
       " 'C:\\\\Users\\\\peter\\\\VoxPop\\\\DUB\\\\DUB_Dundrum_M_20_(2).wav',\n",
       " 'C:\\\\Users\\\\peter\\\\VoxPop\\\\DUB\\\\DUB_Dunleary_F_20.wav',\n",
       " 'C:\\\\Users\\\\peter\\\\VoxPop\\\\DUB\\\\DUB_Dunleary_F_20_(2).wav',\n",
       " 'C:\\\\Users\\\\peter\\\\VoxPop\\\\DUB\\\\DUB_Dunleary_F_20_(3).wav',\n",
       " 'C:\\\\Users\\\\peter\\\\VoxPop\\\\DUB\\\\DUB_Dunleary_F_20_(4).wav',\n",
       " 'C:\\\\Users\\\\peter\\\\VoxPop\\\\DUB\\\\DUB_Dunleary_M_20.wav',\n",
       " 'C:\\\\Users\\\\peter\\\\VoxPop\\\\DUB\\\\DUB_Dunleary_M_20_(2).wav',\n",
       " 'C:\\\\Users\\\\peter\\\\VoxPop\\\\DUB\\\\DUB_Dunleary_M_30.wav',\n",
       " 'C:\\\\Users\\\\peter\\\\VoxPop\\\\DUB\\\\DUB_EastWall_M_20.wav',\n",
       " 'C:\\\\Users\\\\peter\\\\VoxPop\\\\DUB\\\\DUB_Finglas_F_35.wav',\n",
       " 'C:\\\\Users\\\\peter\\\\VoxPop\\\\DUB\\\\DUB_Finglas_M_25.wav',\n",
       " 'C:\\\\Users\\\\peter\\\\VoxPop\\\\DUB\\\\DUB_Foxrock_M_20.wav',\n",
       " 'C:\\\\Users\\\\peter\\\\VoxPop\\\\DUB\\\\DUB_Foxrock_M_20_(2).wav',\n",
       " 'C:\\\\Users\\\\peter\\\\VoxPop\\\\DUB\\\\DUB_Goatstown_F_20.wav',\n",
       " 'C:\\\\Users\\\\peter\\\\VoxPop\\\\DUB\\\\DUB_Goatstown_M_20.wav',\n",
       " 'C:\\\\Users\\\\peter\\\\VoxPop\\\\DUB\\\\DUB_HaroldsCross_M_20.wav',\n",
       " 'C:\\\\Users\\\\peter\\\\VoxPop\\\\DUB\\\\DUB_Howth_F_20.wav',\n",
       " 'C:\\\\Users\\\\peter\\\\VoxPop\\\\DUB\\\\DUB_Inchicore_F_20.wav',\n",
       " 'C:\\\\Users\\\\peter\\\\VoxPop\\\\DUB\\\\DUB_Kilbarrack_M_25.wav',\n",
       " 'C:\\\\Users\\\\peter\\\\VoxPop\\\\DUB\\\\DUB_Killiney_M_20.wav',\n",
       " 'C:\\\\Users\\\\peter\\\\VoxPop\\\\DUB\\\\DUB_Killiney_M_20_(2).wav',\n",
       " 'C:\\\\Users\\\\peter\\\\VoxPop\\\\DUB\\\\DUB_Kilmainham_M_20_(2).wav',\n",
       " 'C:\\\\Users\\\\peter\\\\VoxPop\\\\DUB\\\\DUB_Kimmage_F_20.wav',\n",
       " 'C:\\\\Users\\\\peter\\\\VoxPop\\\\DUB\\\\DUB_Knocklyon_F_20.wav',\n",
       " 'C:\\\\Users\\\\peter\\\\VoxPop\\\\DUB\\\\DUB_Knocklyon_F_30_(2).wav',\n",
       " 'C:\\\\Users\\\\peter\\\\VoxPop\\\\DUB\\\\DUB_Knocklyon_M_20.wav',\n",
       " 'C:\\\\Users\\\\peter\\\\VoxPop\\\\DUB\\\\DUB_Landsdowne_F_20.wav',\n",
       " 'C:\\\\Users\\\\peter\\\\VoxPop\\\\DUB\\\\DUB_Lucan_F_20.wav',\n",
       " 'C:\\\\Users\\\\peter\\\\VoxPop\\\\DUB\\\\DUB_Lucan_M_20.wav',\n",
       " 'C:\\\\Users\\\\peter\\\\VoxPop\\\\DUB\\\\DUB_Lucan_M_20_(2).wav',\n",
       " 'C:\\\\Users\\\\peter\\\\VoxPop\\\\DUB\\\\DUB_Lucan_M_20_(3).wav',\n",
       " 'C:\\\\Users\\\\peter\\\\VoxPop\\\\DUB\\\\DUB_Malahide_F_20.wav',\n",
       " 'C:\\\\Users\\\\peter\\\\VoxPop\\\\DUB\\\\DUB_Malahide_F_20_(2).wav',\n",
       " 'C:\\\\Users\\\\peter\\\\VoxPop\\\\DUB\\\\DUB_Malahide_F_20_(3).wav',\n",
       " 'C:\\\\Users\\\\peter\\\\VoxPop\\\\DUB\\\\DUB_Malahide_M_20.wav',\n",
       " 'C:\\\\Users\\\\peter\\\\VoxPop\\\\DUB\\\\DUB_Monkstown_F_20.wav',\n",
       " 'C:\\\\Users\\\\peter\\\\VoxPop\\\\DUB\\\\DUB_Monkstown_F_30.wav',\n",
       " 'C:\\\\Users\\\\peter\\\\VoxPop\\\\DUB\\\\DUB_Monkstown_M_20.wav',\n",
       " 'C:\\\\Users\\\\peter\\\\VoxPop\\\\DUB\\\\DUB_MountMerrion_F_20.wav',\n",
       " 'C:\\\\Users\\\\peter\\\\VoxPop\\\\DUB\\\\DUB_MountMerrion_M_20.wav',\n",
       " 'C:\\\\Users\\\\peter\\\\VoxPop\\\\DUB\\\\DUB_Portmarnock_F_20.wav',\n",
       " 'C:\\\\Users\\\\peter\\\\VoxPop\\\\DUB\\\\DUB_Portmarnock_M_20.wav',\n",
       " 'C:\\\\Users\\\\peter\\\\VoxPop\\\\DUB\\\\DUB_Raheny_F_20.wav',\n",
       " 'C:\\\\Users\\\\peter\\\\VoxPop\\\\DUB\\\\DUB_Ranelagh_F_20.wav',\n",
       " 'C:\\\\Users\\\\peter\\\\VoxPop\\\\DUB\\\\DUB_Ranelagh_M_20.wav',\n",
       " 'C:\\\\Users\\\\peter\\\\VoxPop\\\\DUB\\\\DUB_Ranelagh_M_20_(2).wav',\n",
       " 'C:\\\\Users\\\\peter\\\\VoxPop\\\\DUB\\\\DUB_Ranelagh_M_20_(3).wav',\n",
       " 'C:\\\\Users\\\\peter\\\\VoxPop\\\\DUB\\\\DUB_Rathfarnham_F_20.wav',\n",
       " 'C:\\\\Users\\\\peter\\\\VoxPop\\\\DUB\\\\DUB_Rathfarnham_F_20_(2).wav',\n",
       " 'C:\\\\Users\\\\peter\\\\VoxPop\\\\DUB\\\\DUB_Rathfarnham_F_20_(3).wav',\n",
       " 'C:\\\\Users\\\\peter\\\\VoxPop\\\\DUB\\\\DUB_Rathfarnham_M_20.wav',\n",
       " 'C:\\\\Users\\\\peter\\\\VoxPop\\\\DUB\\\\DUB_Rathfarnham_M_20_(2).wav',\n",
       " 'C:\\\\Users\\\\peter\\\\VoxPop\\\\DUB\\\\DUB_Rathgar_F_20.wav',\n",
       " 'C:\\\\Users\\\\peter\\\\VoxPop\\\\DUB\\\\DUB_Rathgar_F_20_(2).wav',\n",
       " 'C:\\\\Users\\\\peter\\\\VoxPop\\\\DUB\\\\DUB_Rathgar_F_20_(3).wav',\n",
       " 'C:\\\\Users\\\\peter\\\\VoxPop\\\\DUB\\\\DUB_Rathgar_F_20_(4).wav',\n",
       " 'C:\\\\Users\\\\peter\\\\VoxPop\\\\DUB\\\\DUB_Rathmines_F_50.wav',\n",
       " 'C:\\\\Users\\\\peter\\\\VoxPop\\\\DUB\\\\DUB_Rathmines_M_20.wav',\n",
       " 'C:\\\\Users\\\\peter\\\\VoxPop\\\\DUB\\\\DUB_Rathmines_M_20_(2).wav',\n",
       " 'C:\\\\Users\\\\peter\\\\VoxPop\\\\DUB\\\\DUB_Ringsend_M_45.wav',\n",
       " 'C:\\\\Users\\\\peter\\\\VoxPop\\\\DUB\\\\DUB_Rush_M_15.wav',\n",
       " 'C:\\\\Users\\\\peter\\\\VoxPop\\\\DUB\\\\DUB_Rush_M_20.wav',\n",
       " 'C:\\\\Users\\\\peter\\\\VoxPop\\\\DUB\\\\DUB_Sallynoggin_F_20.wav',\n",
       " 'C:\\\\Users\\\\peter\\\\VoxPop\\\\DUB\\\\DUB_Sandyford_F_20.wav',\n",
       " 'C:\\\\Users\\\\peter\\\\VoxPop\\\\DUB\\\\DUB_Sandyford_F_20_(2).wav',\n",
       " 'C:\\\\Users\\\\peter\\\\VoxPop\\\\DUB\\\\DUB_Sandyford_F_20_(3).wav',\n",
       " 'C:\\\\Users\\\\peter\\\\VoxPop\\\\DUB\\\\DUB_Sandyford_M_20.wav',\n",
       " 'C:\\\\Users\\\\peter\\\\VoxPop\\\\DUB\\\\DUB_Sandyford_M_20_(2).wav',\n",
       " 'C:\\\\Users\\\\peter\\\\VoxPop\\\\DUB\\\\DUB_Sandymount_M_20.wav',\n",
       " 'C:\\\\Users\\\\peter\\\\VoxPop\\\\DUB\\\\DUB_Shankhill_F_20.wav',\n",
       " 'C:\\\\Users\\\\peter\\\\VoxPop\\\\DUB\\\\DUB_Shankhill_F_20_(2).wav',\n",
       " 'C:\\\\Users\\\\peter\\\\VoxPop\\\\DUB\\\\DUB_Shankhill_F_20_(3).wav',\n",
       " 'C:\\\\Users\\\\peter\\\\VoxPop\\\\DUB\\\\DUB_Shankhill_M_20.wav',\n",
       " 'C:\\\\Users\\\\peter\\\\VoxPop\\\\DUB\\\\DUB_Stillorgan_M_20.wav',\n",
       " 'C:\\\\Users\\\\peter\\\\VoxPop\\\\DUB\\\\DUB_Sutton_F_20.wav',\n",
       " 'C:\\\\Users\\\\peter\\\\VoxPop\\\\DUB\\\\DUB_Sutton_M_20.wav',\n",
       " 'C:\\\\Users\\\\peter\\\\VoxPop\\\\DUB\\\\DUB_Swords_F_15.wav',\n",
       " 'C:\\\\Users\\\\peter\\\\VoxPop\\\\DUB\\\\DUB_Swords_F_15_(2).wav',\n",
       " 'C:\\\\Users\\\\peter\\\\VoxPop\\\\DUB\\\\DUB_Swords_F_35.wav',\n",
       " 'C:\\\\Users\\\\peter\\\\VoxPop\\\\DUB\\\\DUB_Swords_M_15.wav',\n",
       " 'C:\\\\Users\\\\peter\\\\VoxPop\\\\DUB\\\\DUB_Swords_M_15_(2).wav',\n",
       " 'C:\\\\Users\\\\peter\\\\VoxPop\\\\DUB\\\\DUB_Tallaght_F_20.wav',\n",
       " 'C:\\\\Users\\\\peter\\\\VoxPop\\\\DUB\\\\DUB_Tallaght_F_20_(2).wav',\n",
       " 'C:\\\\Users\\\\peter\\\\VoxPop\\\\DUB\\\\DUB_Tallaght_M_20.wav',\n",
       " 'C:\\\\Users\\\\peter\\\\VoxPop\\\\DUB\\\\DUB_Tallaght_M_20_(2).wav',\n",
       " 'C:\\\\Users\\\\peter\\\\VoxPop\\\\DUB\\\\DUB_Tallaght_M_20_(3).wav',\n",
       " 'C:\\\\Users\\\\peter\\\\VoxPop\\\\DUB\\\\DUB_Tallaght_M_20_(4).wav',\n",
       " 'C:\\\\Users\\\\peter\\\\VoxPop\\\\DUB\\\\DUB_Tallaght_M_20_(5).wav',\n",
       " 'C:\\\\Users\\\\peter\\\\VoxPop\\\\DUB\\\\DUB_Tallaght_M_20_(6).wav',\n",
       " 'C:\\\\Users\\\\peter\\\\VoxPop\\\\DUB\\\\DUB_Tallaght_M_20_(7).wav',\n",
       " 'C:\\\\Users\\\\peter\\\\VoxPop\\\\DUB\\\\DUB_Tallaght_M_40.wav',\n",
       " 'C:\\\\Users\\\\peter\\\\VoxPop\\\\DUB\\\\DUB_Templeogue_F_20.wav',\n",
       " 'C:\\\\Users\\\\peter\\\\VoxPop\\\\DUB\\\\DUB_Templeogue_F_20_(2).wav',\n",
       " 'C:\\\\Users\\\\peter\\\\VoxPop\\\\DUB\\\\DUB_Templeogue_F_20_(3).wav',\n",
       " 'C:\\\\Users\\\\peter\\\\VoxPop\\\\DUB\\\\DUB_Templeogue_F_20_(4).wav',\n",
       " 'C:\\\\Users\\\\peter\\\\VoxPop\\\\DUB\\\\DUB_Templeogue_M_20.wav',\n",
       " 'C:\\\\Users\\\\peter\\\\VoxPop\\\\DUB\\\\DUB_Templeogue_M_20_(2).wav',\n",
       " 'C:\\\\Users\\\\peter\\\\VoxPop\\\\DUB\\\\DUB_Terenure_F_20.wav',\n",
       " 'C:\\\\Users\\\\peter\\\\VoxPop\\\\DUB\\\\DUB_Terenure_F_20_(2).wav',\n",
       " 'C:\\\\Users\\\\peter\\\\VoxPop\\\\DUB\\\\DUB_Terenure_F_20_(3).wav',\n",
       " 'C:\\\\Users\\\\peter\\\\VoxPop\\\\DUB\\\\DUB_Terenure_F_20_(4).wav',\n",
       " 'C:\\\\Users\\\\peter\\\\VoxPop\\\\DUB\\\\DUB_Terenure_M_20.wav',\n",
       " 'C:\\\\Users\\\\peter\\\\VoxPop\\\\DUB\\\\DUB_Terenure_M_20_(2).wav',\n",
       " 'C:\\\\Users\\\\peter\\\\VoxPop\\\\DUB\\\\DUB_Terenure_M_30.wav',\n",
       " 'C:\\\\Users\\\\peter\\\\VoxPop\\\\DUB\\\\DUB_Walkinstown_F_30.wav',\n",
       " 'C:\\\\Users\\\\peter\\\\VoxPop\\\\DUB\\\\DUB_Walkinstown_M_20.wav',\n",
       " 'C:\\\\Users\\\\peter\\\\VoxPop\\\\DUB\\\\DUB_Whitehall_F_20.wav']"
      ]
     },
     "execution_count": 21,
     "metadata": {},
     "output_type": "execute_result"
    }
   ],
   "source": [
    "filenames"
   ]
  },
  {
   "cell_type": "code",
   "execution_count": 22,
   "id": "af1bfcc5",
   "metadata": {},
   "outputs": [],
   "source": [
    "for i in filenames: \n",
    "#    names.append(re.search(r'/([^/]+)\\.wav$',i).group(1)) MacOs version\n",
    "    names.append(re.search(r'([^\\\\]+).wav$',i).group(1)) #Windows version\n"
   ]
  },
  {
   "cell_type": "code",
   "execution_count": 23,
   "id": "3b8c27c6",
   "metadata": {},
   "outputs": [
    {
     "data": {
      "text/plain": [
       "167"
      ]
     },
     "execution_count": 23,
     "metadata": {},
     "output_type": "execute_result"
    }
   ],
   "source": [
    "len(names)"
   ]
  },
  {
   "cell_type": "code",
   "execution_count": 24,
   "id": "57be6f53",
   "metadata": {},
   "outputs": [
    {
     "data": {
      "text/plain": [
       "['DUB_Artane_M_20',\n",
       " 'DUB_Artane_M_20_(2)',\n",
       " 'DUB_Artane_M_20_(3)',\n",
       " 'DUB_Ballinteer_F_20',\n",
       " 'DUB_Ballinteer_F_20_(2)',\n",
       " 'DUB_Ballinteer_F_20_(3)',\n",
       " 'DUB_Ballinteer_M_25',\n",
       " 'DUB_Beaumont_M_35',\n",
       " 'DUB_Blackrock_F_20',\n",
       " 'DUB_Blanchard_F_20',\n",
       " 'DUB_Blanchard_F_20_(2)',\n",
       " 'DUB_Blanchard_F_20_(3)',\n",
       " 'DUB_Blanchard_F_20_(4)',\n",
       " 'DUB_Blanchard_F_20_(5)',\n",
       " 'DUB_Blanchard_M_20',\n",
       " 'DUB_Blanchard_M_20_(2)',\n",
       " 'DUB_Blanchard_M_20_(3)',\n",
       " 'DUB_Blanchard_M_20_(4)',\n",
       " 'DUB_Bray_F_20',\n",
       " 'DUB_Bray_F_20_(2)',\n",
       " 'DUB_Bray_F_35',\n",
       " 'DUB_Bray_M_20',\n",
       " 'DUB_Bray_M_20_(2)',\n",
       " 'DUB_Bray_M_20_(3)',\n",
       " 'DUB_Bray_M_20_(4)',\n",
       " 'DUB_Cabinteely_F_20',\n",
       " 'DUB_Cabinteely_F_20_(2)',\n",
       " 'DUB_Cabinteely_F_20_(3)',\n",
       " 'DUB_Cabinteely_M_20',\n",
       " 'DUB_Cabra_F_20',\n",
       " 'DUB_Cabra_M_20',\n",
       " 'DUB_Castleknock_F_20',\n",
       " 'DUB_Castleknock_M_20',\n",
       " 'DUB_Castleknock_M_20_(2)',\n",
       " 'DUB_Castleknock_M_20_(3)',\n",
       " 'DUB_Churchtown_F_20',\n",
       " 'DUB_Churchtown_F_20_(2)',\n",
       " 'DUB_Churchtown_F_20_(3)',\n",
       " 'DUB_Clondalkin_M_20',\n",
       " 'DUB_Clonskea_F_20',\n",
       " 'DUB_Clonskea_F_20_(2)',\n",
       " 'DUB_Clonskea_F_20_(3)',\n",
       " 'DUB_Clonskea_F_20_(4)',\n",
       " 'DUB_Clonskea_M_20',\n",
       " 'DUB_Clontarf_F_20',\n",
       " 'DUB_Clontarf_F_20_(2)',\n",
       " 'DUB_Clontarf_F_20_(3)',\n",
       " 'DUB_Clontarf_M_20',\n",
       " 'DUB_Clontarf_M_20_(2)',\n",
       " 'DUB_Clontarf_M_20_(3)',\n",
       " 'DUB_Crumlin_F_20',\n",
       " 'DUB_Dalkey_F_20',\n",
       " 'DUB_Dalkey_M_20',\n",
       " 'DUB_DeansGrange_F_20',\n",
       " 'DUB_DeansGrange_M_20',\n",
       " 'DUB_Donnybrook_F_20',\n",
       " 'DUB_Donnybrook_F_50',\n",
       " 'DUB_Dundrum_F_20',\n",
       " 'DUB_Dundrum_F_40',\n",
       " 'DUB_Dundrum_M_20',\n",
       " 'DUB_Dundrum_M_20_(2)',\n",
       " 'DUB_Dunleary_F_20',\n",
       " 'DUB_Dunleary_F_20_(2)',\n",
       " 'DUB_Dunleary_F_20_(3)',\n",
       " 'DUB_Dunleary_F_20_(4)',\n",
       " 'DUB_Dunleary_M_20',\n",
       " 'DUB_Dunleary_M_20_(2)',\n",
       " 'DUB_Dunleary_M_30',\n",
       " 'DUB_EastWall_M_20',\n",
       " 'DUB_Finglas_F_35',\n",
       " 'DUB_Finglas_M_25',\n",
       " 'DUB_Foxrock_M_20',\n",
       " 'DUB_Foxrock_M_20_(2)',\n",
       " 'DUB_Goatstown_F_20',\n",
       " 'DUB_Goatstown_M_20',\n",
       " 'DUB_HaroldsCross_M_20',\n",
       " 'DUB_Howth_F_20',\n",
       " 'DUB_Inchicore_F_20',\n",
       " 'DUB_Kilbarrack_M_25',\n",
       " 'DUB_Killiney_M_20',\n",
       " 'DUB_Killiney_M_20_(2)',\n",
       " 'DUB_Kilmainham_M_20_(2)',\n",
       " 'DUB_Kimmage_F_20',\n",
       " 'DUB_Knocklyon_F_20',\n",
       " 'DUB_Knocklyon_F_30_(2)',\n",
       " 'DUB_Knocklyon_M_20',\n",
       " 'DUB_Landsdowne_F_20',\n",
       " 'DUB_Lucan_F_20',\n",
       " 'DUB_Lucan_M_20',\n",
       " 'DUB_Lucan_M_20_(2)',\n",
       " 'DUB_Lucan_M_20_(3)',\n",
       " 'DUB_Malahide_F_20',\n",
       " 'DUB_Malahide_F_20_(2)',\n",
       " 'DUB_Malahide_F_20_(3)',\n",
       " 'DUB_Malahide_M_20',\n",
       " 'DUB_Monkstown_F_20',\n",
       " 'DUB_Monkstown_F_30',\n",
       " 'DUB_Monkstown_M_20',\n",
       " 'DUB_MountMerrion_F_20',\n",
       " 'DUB_MountMerrion_M_20',\n",
       " 'DUB_Portmarnock_F_20',\n",
       " 'DUB_Portmarnock_M_20',\n",
       " 'DUB_Raheny_F_20',\n",
       " 'DUB_Ranelagh_F_20',\n",
       " 'DUB_Ranelagh_M_20',\n",
       " 'DUB_Ranelagh_M_20_(2)',\n",
       " 'DUB_Ranelagh_M_20_(3)',\n",
       " 'DUB_Rathfarnham_F_20',\n",
       " 'DUB_Rathfarnham_F_20_(2)',\n",
       " 'DUB_Rathfarnham_F_20_(3)',\n",
       " 'DUB_Rathfarnham_M_20',\n",
       " 'DUB_Rathfarnham_M_20_(2)',\n",
       " 'DUB_Rathgar_F_20',\n",
       " 'DUB_Rathgar_F_20_(2)',\n",
       " 'DUB_Rathgar_F_20_(3)',\n",
       " 'DUB_Rathgar_F_20_(4)',\n",
       " 'DUB_Rathmines_F_50',\n",
       " 'DUB_Rathmines_M_20',\n",
       " 'DUB_Rathmines_M_20_(2)',\n",
       " 'DUB_Ringsend_M_45',\n",
       " 'DUB_Rush_M_15',\n",
       " 'DUB_Rush_M_20',\n",
       " 'DUB_Sallynoggin_F_20',\n",
       " 'DUB_Sandyford_F_20',\n",
       " 'DUB_Sandyford_F_20_(2)',\n",
       " 'DUB_Sandyford_F_20_(3)',\n",
       " 'DUB_Sandyford_M_20',\n",
       " 'DUB_Sandyford_M_20_(2)',\n",
       " 'DUB_Sandymount_M_20',\n",
       " 'DUB_Shankhill_F_20',\n",
       " 'DUB_Shankhill_F_20_(2)',\n",
       " 'DUB_Shankhill_F_20_(3)',\n",
       " 'DUB_Shankhill_M_20',\n",
       " 'DUB_Stillorgan_M_20',\n",
       " 'DUB_Sutton_F_20',\n",
       " 'DUB_Sutton_M_20',\n",
       " 'DUB_Swords_F_15',\n",
       " 'DUB_Swords_F_15_(2)',\n",
       " 'DUB_Swords_F_35',\n",
       " 'DUB_Swords_M_15',\n",
       " 'DUB_Swords_M_15_(2)',\n",
       " 'DUB_Tallaght_F_20',\n",
       " 'DUB_Tallaght_F_20_(2)',\n",
       " 'DUB_Tallaght_M_20',\n",
       " 'DUB_Tallaght_M_20_(2)',\n",
       " 'DUB_Tallaght_M_20_(3)',\n",
       " 'DUB_Tallaght_M_20_(4)',\n",
       " 'DUB_Tallaght_M_20_(5)',\n",
       " 'DUB_Tallaght_M_20_(6)',\n",
       " 'DUB_Tallaght_M_20_(7)',\n",
       " 'DUB_Tallaght_M_40',\n",
       " 'DUB_Templeogue_F_20',\n",
       " 'DUB_Templeogue_F_20_(2)',\n",
       " 'DUB_Templeogue_F_20_(3)',\n",
       " 'DUB_Templeogue_F_20_(4)',\n",
       " 'DUB_Templeogue_M_20',\n",
       " 'DUB_Templeogue_M_20_(2)',\n",
       " 'DUB_Terenure_F_20',\n",
       " 'DUB_Terenure_F_20_(2)',\n",
       " 'DUB_Terenure_F_20_(3)',\n",
       " 'DUB_Terenure_F_20_(4)',\n",
       " 'DUB_Terenure_M_20',\n",
       " 'DUB_Terenure_M_20_(2)',\n",
       " 'DUB_Terenure_M_30',\n",
       " 'DUB_Walkinstown_F_30',\n",
       " 'DUB_Walkinstown_M_20',\n",
       " 'DUB_Whitehall_F_20']"
      ]
     },
     "execution_count": 24,
     "metadata": {},
     "output_type": "execute_result"
    }
   ],
   "source": [
    "names"
   ]
  },
  {
   "cell_type": "code",
   "execution_count": 31,
   "id": "aa33ffdb",
   "metadata": {},
   "outputs": [],
   "source": [
    "counties=[]\n",
    "towns=[]\n",
    "genders=[]\n",
    "urbanrurals=[]\n",
    "sizes=[]\n",
    "ages=[]  "
   ]
  },
  {
   "cell_type": "code",
   "execution_count": 32,
   "id": "c3d6035a",
   "metadata": {},
   "outputs": [
    {
     "name": "stdout",
     "output_type": "stream",
     "text": [
      "0 DUB_Artane_M_20\n",
      "1 DUB_Artane_M_20_(2)\n",
      "2 DUB_Artane_M_20_(3)\n",
      "3 DUB_Ballinteer_F_20\n",
      "4 DUB_Ballinteer_F_20_(2)\n",
      "5 DUB_Ballinteer_F_20_(3)\n",
      "6 DUB_Ballinteer_M_25\n",
      "7 DUB_Beaumont_M_35\n",
      "8 DUB_Blackrock_F_20\n",
      "9 DUB_Blanchard_F_20\n",
      "10 DUB_Blanchard_F_20_(2)\n",
      "11 DUB_Blanchard_F_20_(3)\n",
      "12 DUB_Blanchard_F_20_(4)\n",
      "13 DUB_Blanchard_F_20_(5)\n",
      "14 DUB_Blanchard_M_20\n",
      "15 DUB_Blanchard_M_20_(2)\n",
      "16 DUB_Blanchard_M_20_(3)\n",
      "17 DUB_Blanchard_M_20_(4)\n",
      "18 DUB_Bray_F_20\n",
      "19 DUB_Bray_F_20_(2)\n",
      "20 DUB_Bray_F_35\n",
      "21 DUB_Bray_M_20\n",
      "22 DUB_Bray_M_20_(2)\n",
      "23 DUB_Bray_M_20_(3)\n",
      "24 DUB_Bray_M_20_(4)\n",
      "25 DUB_Cabinteely_F_20\n",
      "26 DUB_Cabinteely_F_20_(2)\n",
      "27 DUB_Cabinteely_F_20_(3)\n",
      "28 DUB_Cabinteely_M_20\n",
      "29 DUB_Cabra_F_20\n",
      "30 DUB_Cabra_M_20\n",
      "31 DUB_Castleknock_F_20\n",
      "32 DUB_Castleknock_M_20\n",
      "33 DUB_Castleknock_M_20_(2)\n",
      "34 DUB_Castleknock_M_20_(3)\n",
      "35 DUB_Churchtown_F_20\n",
      "36 DUB_Churchtown_F_20_(2)\n",
      "37 DUB_Churchtown_F_20_(3)\n",
      "38 DUB_Clondalkin_M_20\n",
      "39 DUB_Clonskea_F_20\n",
      "40 DUB_Clonskea_F_20_(2)\n",
      "41 DUB_Clonskea_F_20_(3)\n",
      "42 DUB_Clonskea_F_20_(4)\n",
      "43 DUB_Clonskea_M_20\n",
      "44 DUB_Clontarf_F_20\n",
      "45 DUB_Clontarf_F_20_(2)\n",
      "46 DUB_Clontarf_F_20_(3)\n",
      "47 DUB_Clontarf_M_20\n",
      "48 DUB_Clontarf_M_20_(2)\n",
      "49 DUB_Clontarf_M_20_(3)\n",
      "50 DUB_Crumlin_F_20\n",
      "51 DUB_Dalkey_F_20\n",
      "52 DUB_Dalkey_M_20\n",
      "53 DUB_DeansGrange_F_20\n",
      "54 DUB_DeansGrange_M_20\n",
      "55 DUB_Donnybrook_F_20\n",
      "56 DUB_Donnybrook_F_50\n",
      "57 DUB_Dundrum_F_20\n",
      "58 DUB_Dundrum_F_40\n",
      "59 DUB_Dundrum_M_20\n",
      "60 DUB_Dundrum_M_20_(2)\n",
      "61 DUB_Dunleary_F_20\n",
      "62 DUB_Dunleary_F_20_(2)\n",
      "63 DUB_Dunleary_F_20_(3)\n",
      "64 DUB_Dunleary_F_20_(4)\n",
      "65 DUB_Dunleary_M_20\n",
      "66 DUB_Dunleary_M_20_(2)\n",
      "67 DUB_Dunleary_M_30\n",
      "68 DUB_EastWall_M_20\n",
      "69 DUB_Finglas_F_35\n",
      "70 DUB_Finglas_M_25\n",
      "71 DUB_Foxrock_M_20\n",
      "72 DUB_Foxrock_M_20_(2)\n",
      "73 DUB_Goatstown_F_20\n",
      "74 DUB_Goatstown_M_20\n",
      "75 DUB_HaroldsCross_M_20\n",
      "76 DUB_Howth_F_20\n",
      "77 DUB_Inchicore_F_20\n",
      "78 DUB_Kilbarrack_M_25\n",
      "79 DUB_Killiney_M_20\n",
      "80 DUB_Killiney_M_20_(2)\n",
      "81 DUB_Kilmainham_M_20_(2)\n",
      "82 DUB_Kimmage_F_20\n",
      "83 DUB_Knocklyon_F_20\n",
      "84 DUB_Knocklyon_F_30_(2)\n",
      "85 DUB_Knocklyon_M_20\n",
      "86 DUB_Landsdowne_F_20\n",
      "87 DUB_Lucan_F_20\n",
      "88 DUB_Lucan_M_20\n",
      "89 DUB_Lucan_M_20_(2)\n",
      "90 DUB_Lucan_M_20_(3)\n",
      "91 DUB_Malahide_F_20\n",
      "92 DUB_Malahide_F_20_(2)\n",
      "93 DUB_Malahide_F_20_(3)\n",
      "94 DUB_Malahide_M_20\n",
      "95 DUB_Monkstown_F_20\n",
      "96 DUB_Monkstown_F_30\n",
      "97 DUB_Monkstown_M_20\n",
      "98 DUB_MountMerrion_F_20\n",
      "99 DUB_MountMerrion_M_20\n",
      "100 DUB_Portmarnock_F_20\n",
      "101 DUB_Portmarnock_M_20\n",
      "102 DUB_Raheny_F_20\n",
      "103 DUB_Ranelagh_F_20\n",
      "104 DUB_Ranelagh_M_20\n",
      "105 DUB_Ranelagh_M_20_(2)\n",
      "106 DUB_Ranelagh_M_20_(3)\n",
      "107 DUB_Rathfarnham_F_20\n",
      "108 DUB_Rathfarnham_F_20_(2)\n",
      "109 DUB_Rathfarnham_F_20_(3)\n",
      "110 DUB_Rathfarnham_M_20\n",
      "111 DUB_Rathfarnham_M_20_(2)\n",
      "112 DUB_Rathgar_F_20\n",
      "113 DUB_Rathgar_F_20_(2)\n",
      "114 DUB_Rathgar_F_20_(3)\n",
      "115 DUB_Rathgar_F_20_(4)\n",
      "116 DUB_Rathmines_F_50\n",
      "117 DUB_Rathmines_M_20\n",
      "118 DUB_Rathmines_M_20_(2)\n",
      "119 DUB_Ringsend_M_45\n",
      "120 DUB_Rush_M_15\n",
      "121 DUB_Rush_M_20\n",
      "122 DUB_Sallynoggin_F_20\n",
      "123 DUB_Sandyford_F_20\n",
      "124 DUB_Sandyford_F_20_(2)\n",
      "125 DUB_Sandyford_F_20_(3)\n",
      "126 DUB_Sandyford_M_20\n",
      "127 DUB_Sandyford_M_20_(2)\n",
      "128 DUB_Sandymount_M_20\n",
      "129 DUB_Shankhill_F_20\n",
      "130 DUB_Shankhill_F_20_(2)\n",
      "131 DUB_Shankhill_F_20_(3)\n",
      "132 DUB_Shankhill_M_20\n",
      "133 DUB_Stillorgan_M_20\n",
      "134 DUB_Sutton_F_20\n",
      "135 DUB_Sutton_M_20\n",
      "136 DUB_Swords_F_15\n",
      "137 DUB_Swords_F_15_(2)\n",
      "138 DUB_Swords_F_35\n",
      "139 DUB_Swords_M_15\n",
      "140 DUB_Swords_M_15_(2)\n",
      "141 DUB_Tallaght_F_20\n",
      "142 DUB_Tallaght_F_20_(2)\n",
      "143 DUB_Tallaght_M_20\n",
      "144 DUB_Tallaght_M_20_(2)\n",
      "145 DUB_Tallaght_M_20_(3)\n",
      "146 DUB_Tallaght_M_20_(4)\n",
      "147 DUB_Tallaght_M_20_(5)\n",
      "148 DUB_Tallaght_M_20_(6)\n",
      "149 DUB_Tallaght_M_20_(7)\n",
      "150 DUB_Tallaght_M_40\n",
      "151 DUB_Templeogue_F_20\n",
      "152 DUB_Templeogue_F_20_(2)\n",
      "153 DUB_Templeogue_F_20_(3)\n",
      "154 DUB_Templeogue_F_20_(4)\n",
      "155 DUB_Templeogue_M_20\n",
      "156 DUB_Templeogue_M_20_(2)\n",
      "157 DUB_Terenure_F_20\n",
      "158 DUB_Terenure_F_20_(2)\n",
      "159 DUB_Terenure_F_20_(3)\n",
      "160 DUB_Terenure_F_20_(4)\n",
      "161 DUB_Terenure_M_20\n",
      "162 DUB_Terenure_M_20_(2)\n",
      "163 DUB_Terenure_M_30\n",
      "164 DUB_Walkinstown_F_30\n",
      "165 DUB_Walkinstown_M_20\n",
      "166 DUB_Whitehall_F_20\n"
     ]
    }
   ],
   "source": [
    "pattern1 = r'(?P<county>[a-zA-Z]+)_(?P<town>[a-zA-Z-]+)_(?P<gender>[MF])_(?P<age>\\d+)'\n",
    "pattern2 = r'(?P<county>[a-zA-Z]+)_(?P<town>[a-zA-Z-]+)_(?P<urbanrural>[UR])(?P<size>[12])_(?P<gender>[MF])_(?P<age>\\d+)'\n",
    "\n",
    "h=0\n",
    "\n",
    "# Loop through the strings and extract the variables\n",
    "for string in names:\n",
    "    match1 = re.match(pattern1, string)\n",
    "    match2 = re.match(pattern2, string)\n",
    "\n",
    "    print(str(h)+\" \"+string)\n",
    "\n",
    "    if match1:\n",
    "        county = match1.group('county')\n",
    "        counties.append(county)\n",
    "        \n",
    "        town = match1.group('town')\n",
    "        towns.append(town)\n",
    "        \n",
    "        urbanrurals.append(None)\n",
    "        sizes.append(None)\n",
    "        \n",
    "        gender = match1.group('gender') \n",
    "        genders.append(gender)\n",
    "        \n",
    "        age = int(match1.group('age'))\n",
    "        ages.append(age)\n",
    "        \n",
    "    elif match2:\n",
    "        county = match2.group('county')\n",
    "        counties.append(county)\n",
    "        \n",
    "        town = match2.group('town')\n",
    "        towns.append(town)\n",
    "        \n",
    "        urbanrural = match2.group('urbanrural')  # 'U' or 'R'\n",
    "        urbanrurals.append(urbanrural)\n",
    "        \n",
    "        size=match2.group('size')\n",
    "        sizes.append(size)\n",
    "        \n",
    "        gender = match2.group('gender')  # '1' or '2'\n",
    "        genders.append(gender)\n",
    "        \n",
    "        age = int(match2.group('age'))\n",
    "        ages.append(age)\n",
    "        \n",
    "   #     print(county,town,gender,age)\n",
    "   #     print(\"\\n\")\n",
    "    h+=1\n"
   ]
  },
  {
   "cell_type": "code",
   "execution_count": 33,
   "id": "d2e4e474",
   "metadata": {
    "scrolled": true
   },
   "outputs": [
    {
     "data": {
      "text/plain": [
       "['DUB',\n",
       " 'DUB',\n",
       " 'DUB',\n",
       " 'DUB',\n",
       " 'DUB',\n",
       " 'DUB',\n",
       " 'DUB',\n",
       " 'DUB',\n",
       " 'DUB',\n",
       " 'DUB',\n",
       " 'DUB',\n",
       " 'DUB',\n",
       " 'DUB',\n",
       " 'DUB',\n",
       " 'DUB',\n",
       " 'DUB',\n",
       " 'DUB',\n",
       " 'DUB',\n",
       " 'DUB',\n",
       " 'DUB',\n",
       " 'DUB',\n",
       " 'DUB',\n",
       " 'DUB',\n",
       " 'DUB',\n",
       " 'DUB',\n",
       " 'DUB',\n",
       " 'DUB',\n",
       " 'DUB',\n",
       " 'DUB',\n",
       " 'DUB',\n",
       " 'DUB',\n",
       " 'DUB',\n",
       " 'DUB',\n",
       " 'DUB',\n",
       " 'DUB',\n",
       " 'DUB',\n",
       " 'DUB',\n",
       " 'DUB',\n",
       " 'DUB',\n",
       " 'DUB',\n",
       " 'DUB',\n",
       " 'DUB',\n",
       " 'DUB',\n",
       " 'DUB',\n",
       " 'DUB',\n",
       " 'DUB',\n",
       " 'DUB',\n",
       " 'DUB',\n",
       " 'DUB',\n",
       " 'DUB',\n",
       " 'DUB',\n",
       " 'DUB',\n",
       " 'DUB',\n",
       " 'DUB',\n",
       " 'DUB',\n",
       " 'DUB',\n",
       " 'DUB',\n",
       " 'DUB',\n",
       " 'DUB',\n",
       " 'DUB',\n",
       " 'DUB',\n",
       " 'DUB',\n",
       " 'DUB',\n",
       " 'DUB',\n",
       " 'DUB',\n",
       " 'DUB',\n",
       " 'DUB',\n",
       " 'DUB',\n",
       " 'DUB',\n",
       " 'DUB',\n",
       " 'DUB',\n",
       " 'DUB',\n",
       " 'DUB',\n",
       " 'DUB',\n",
       " 'DUB',\n",
       " 'DUB',\n",
       " 'DUB',\n",
       " 'DUB',\n",
       " 'DUB',\n",
       " 'DUB',\n",
       " 'DUB',\n",
       " 'DUB',\n",
       " 'DUB',\n",
       " 'DUB',\n",
       " 'DUB',\n",
       " 'DUB',\n",
       " 'DUB',\n",
       " 'DUB',\n",
       " 'DUB',\n",
       " 'DUB',\n",
       " 'DUB',\n",
       " 'DUB',\n",
       " 'DUB',\n",
       " 'DUB',\n",
       " 'DUB',\n",
       " 'DUB',\n",
       " 'DUB',\n",
       " 'DUB',\n",
       " 'DUB',\n",
       " 'DUB',\n",
       " 'DUB',\n",
       " 'DUB',\n",
       " 'DUB',\n",
       " 'DUB',\n",
       " 'DUB',\n",
       " 'DUB',\n",
       " 'DUB',\n",
       " 'DUB',\n",
       " 'DUB',\n",
       " 'DUB',\n",
       " 'DUB',\n",
       " 'DUB',\n",
       " 'DUB',\n",
       " 'DUB',\n",
       " 'DUB',\n",
       " 'DUB',\n",
       " 'DUB',\n",
       " 'DUB',\n",
       " 'DUB',\n",
       " 'DUB',\n",
       " 'DUB',\n",
       " 'DUB',\n",
       " 'DUB',\n",
       " 'DUB',\n",
       " 'DUB',\n",
       " 'DUB',\n",
       " 'DUB',\n",
       " 'DUB',\n",
       " 'DUB',\n",
       " 'DUB',\n",
       " 'DUB',\n",
       " 'DUB',\n",
       " 'DUB',\n",
       " 'DUB',\n",
       " 'DUB',\n",
       " 'DUB',\n",
       " 'DUB',\n",
       " 'DUB',\n",
       " 'DUB',\n",
       " 'DUB',\n",
       " 'DUB',\n",
       " 'DUB',\n",
       " 'DUB',\n",
       " 'DUB',\n",
       " 'DUB',\n",
       " 'DUB',\n",
       " 'DUB',\n",
       " 'DUB',\n",
       " 'DUB',\n",
       " 'DUB',\n",
       " 'DUB',\n",
       " 'DUB',\n",
       " 'DUB',\n",
       " 'DUB',\n",
       " 'DUB',\n",
       " 'DUB',\n",
       " 'DUB',\n",
       " 'DUB',\n",
       " 'DUB',\n",
       " 'DUB',\n",
       " 'DUB',\n",
       " 'DUB',\n",
       " 'DUB',\n",
       " 'DUB',\n",
       " 'DUB',\n",
       " 'DUB',\n",
       " 'DUB']"
      ]
     },
     "execution_count": 33,
     "metadata": {},
     "output_type": "execute_result"
    }
   ],
   "source": [
    "counties"
   ]
  },
  {
   "cell_type": "code",
   "execution_count": 34,
   "id": "2bc6bfd3",
   "metadata": {
    "scrolled": true
   },
   "outputs": [
    {
     "data": {
      "text/plain": [
       "['DUB_Artane_M_20',\n",
       " 'DUB_Artane_M_20_(2)',\n",
       " 'DUB_Artane_M_20_(3)',\n",
       " 'DUB_Ballinteer_F_20',\n",
       " 'DUB_Ballinteer_F_20_(2)',\n",
       " 'DUB_Ballinteer_F_20_(3)',\n",
       " 'DUB_Ballinteer_M_25',\n",
       " 'DUB_Beaumont_M_35',\n",
       " 'DUB_Blackrock_F_20',\n",
       " 'DUB_Blanchard_F_20',\n",
       " 'DUB_Blanchard_F_20_(2)',\n",
       " 'DUB_Blanchard_F_20_(3)',\n",
       " 'DUB_Blanchard_F_20_(4)',\n",
       " 'DUB_Blanchard_F_20_(5)',\n",
       " 'DUB_Blanchard_M_20',\n",
       " 'DUB_Blanchard_M_20_(2)',\n",
       " 'DUB_Blanchard_M_20_(3)',\n",
       " 'DUB_Blanchard_M_20_(4)',\n",
       " 'DUB_Bray_F_20',\n",
       " 'DUB_Bray_F_20_(2)',\n",
       " 'DUB_Bray_F_35',\n",
       " 'DUB_Bray_M_20',\n",
       " 'DUB_Bray_M_20_(2)',\n",
       " 'DUB_Bray_M_20_(3)',\n",
       " 'DUB_Bray_M_20_(4)',\n",
       " 'DUB_Cabinteely_F_20',\n",
       " 'DUB_Cabinteely_F_20_(2)',\n",
       " 'DUB_Cabinteely_F_20_(3)',\n",
       " 'DUB_Cabinteely_M_20',\n",
       " 'DUB_Cabra_F_20',\n",
       " 'DUB_Cabra_M_20',\n",
       " 'DUB_Castleknock_F_20',\n",
       " 'DUB_Castleknock_M_20',\n",
       " 'DUB_Castleknock_M_20_(2)',\n",
       " 'DUB_Castleknock_M_20_(3)',\n",
       " 'DUB_Churchtown_F_20',\n",
       " 'DUB_Churchtown_F_20_(2)',\n",
       " 'DUB_Churchtown_F_20_(3)',\n",
       " 'DUB_Clondalkin_M_20',\n",
       " 'DUB_Clonskea_F_20',\n",
       " 'DUB_Clonskea_F_20_(2)',\n",
       " 'DUB_Clonskea_F_20_(3)',\n",
       " 'DUB_Clonskea_F_20_(4)',\n",
       " 'DUB_Clonskea_M_20',\n",
       " 'DUB_Clontarf_F_20',\n",
       " 'DUB_Clontarf_F_20_(2)',\n",
       " 'DUB_Clontarf_F_20_(3)',\n",
       " 'DUB_Clontarf_M_20',\n",
       " 'DUB_Clontarf_M_20_(2)',\n",
       " 'DUB_Clontarf_M_20_(3)',\n",
       " 'DUB_Crumlin_F_20',\n",
       " 'DUB_Dalkey_F_20',\n",
       " 'DUB_Dalkey_M_20',\n",
       " 'DUB_DeansGrange_F_20',\n",
       " 'DUB_DeansGrange_M_20',\n",
       " 'DUB_Donnybrook_F_20',\n",
       " 'DUB_Donnybrook_F_50',\n",
       " 'DUB_Dundrum_F_20',\n",
       " 'DUB_Dundrum_F_40',\n",
       " 'DUB_Dundrum_M_20',\n",
       " 'DUB_Dundrum_M_20_(2)',\n",
       " 'DUB_Dunleary_F_20',\n",
       " 'DUB_Dunleary_F_20_(2)',\n",
       " 'DUB_Dunleary_F_20_(3)',\n",
       " 'DUB_Dunleary_F_20_(4)',\n",
       " 'DUB_Dunleary_M_20',\n",
       " 'DUB_Dunleary_M_20_(2)',\n",
       " 'DUB_Dunleary_M_30',\n",
       " 'DUB_EastWall_M_20',\n",
       " 'DUB_Finglas_F_35',\n",
       " 'DUB_Finglas_M_25',\n",
       " 'DUB_Foxrock_M_20',\n",
       " 'DUB_Foxrock_M_20_(2)',\n",
       " 'DUB_Goatstown_F_20',\n",
       " 'DUB_Goatstown_M_20',\n",
       " 'DUB_HaroldsCross_M_20',\n",
       " 'DUB_Howth_F_20',\n",
       " 'DUB_Inchicore_F_20',\n",
       " 'DUB_Kilbarrack_M_25',\n",
       " 'DUB_Killiney_M_20',\n",
       " 'DUB_Killiney_M_20_(2)',\n",
       " 'DUB_Kilmainham_M_20_(2)',\n",
       " 'DUB_Kimmage_F_20',\n",
       " 'DUB_Knocklyon_F_20',\n",
       " 'DUB_Knocklyon_F_30_(2)',\n",
       " 'DUB_Knocklyon_M_20',\n",
       " 'DUB_Landsdowne_F_20',\n",
       " 'DUB_Lucan_F_20',\n",
       " 'DUB_Lucan_M_20',\n",
       " 'DUB_Lucan_M_20_(2)',\n",
       " 'DUB_Lucan_M_20_(3)',\n",
       " 'DUB_Malahide_F_20',\n",
       " 'DUB_Malahide_F_20_(2)',\n",
       " 'DUB_Malahide_F_20_(3)',\n",
       " 'DUB_Malahide_M_20',\n",
       " 'DUB_Monkstown_F_20',\n",
       " 'DUB_Monkstown_F_30',\n",
       " 'DUB_Monkstown_M_20',\n",
       " 'DUB_MountMerrion_F_20',\n",
       " 'DUB_MountMerrion_M_20',\n",
       " 'DUB_Portmarnock_F_20',\n",
       " 'DUB_Portmarnock_M_20',\n",
       " 'DUB_Raheny_F_20',\n",
       " 'DUB_Ranelagh_F_20',\n",
       " 'DUB_Ranelagh_M_20',\n",
       " 'DUB_Ranelagh_M_20_(2)',\n",
       " 'DUB_Ranelagh_M_20_(3)',\n",
       " 'DUB_Rathfarnham_F_20',\n",
       " 'DUB_Rathfarnham_F_20_(2)',\n",
       " 'DUB_Rathfarnham_F_20_(3)',\n",
       " 'DUB_Rathfarnham_M_20',\n",
       " 'DUB_Rathfarnham_M_20_(2)',\n",
       " 'DUB_Rathgar_F_20',\n",
       " 'DUB_Rathgar_F_20_(2)',\n",
       " 'DUB_Rathgar_F_20_(3)',\n",
       " 'DUB_Rathgar_F_20_(4)',\n",
       " 'DUB_Rathmines_F_50',\n",
       " 'DUB_Rathmines_M_20',\n",
       " 'DUB_Rathmines_M_20_(2)',\n",
       " 'DUB_Ringsend_M_45',\n",
       " 'DUB_Rush_M_15',\n",
       " 'DUB_Rush_M_20',\n",
       " 'DUB_Sallynoggin_F_20',\n",
       " 'DUB_Sandyford_F_20',\n",
       " 'DUB_Sandyford_F_20_(2)',\n",
       " 'DUB_Sandyford_F_20_(3)',\n",
       " 'DUB_Sandyford_M_20',\n",
       " 'DUB_Sandyford_M_20_(2)',\n",
       " 'DUB_Sandymount_M_20',\n",
       " 'DUB_Shankhill_F_20',\n",
       " 'DUB_Shankhill_F_20_(2)',\n",
       " 'DUB_Shankhill_F_20_(3)',\n",
       " 'DUB_Shankhill_M_20',\n",
       " 'DUB_Stillorgan_M_20',\n",
       " 'DUB_Sutton_F_20',\n",
       " 'DUB_Sutton_M_20',\n",
       " 'DUB_Swords_F_15',\n",
       " 'DUB_Swords_F_15_(2)',\n",
       " 'DUB_Swords_F_35',\n",
       " 'DUB_Swords_M_15',\n",
       " 'DUB_Swords_M_15_(2)',\n",
       " 'DUB_Tallaght_F_20',\n",
       " 'DUB_Tallaght_F_20_(2)',\n",
       " 'DUB_Tallaght_M_20',\n",
       " 'DUB_Tallaght_M_20_(2)',\n",
       " 'DUB_Tallaght_M_20_(3)',\n",
       " 'DUB_Tallaght_M_20_(4)',\n",
       " 'DUB_Tallaght_M_20_(5)',\n",
       " 'DUB_Tallaght_M_20_(6)',\n",
       " 'DUB_Tallaght_M_20_(7)',\n",
       " 'DUB_Tallaght_M_40',\n",
       " 'DUB_Templeogue_F_20',\n",
       " 'DUB_Templeogue_F_20_(2)',\n",
       " 'DUB_Templeogue_F_20_(3)',\n",
       " 'DUB_Templeogue_F_20_(4)',\n",
       " 'DUB_Templeogue_M_20',\n",
       " 'DUB_Templeogue_M_20_(2)',\n",
       " 'DUB_Terenure_F_20',\n",
       " 'DUB_Terenure_F_20_(2)',\n",
       " 'DUB_Terenure_F_20_(3)',\n",
       " 'DUB_Terenure_F_20_(4)',\n",
       " 'DUB_Terenure_M_20',\n",
       " 'DUB_Terenure_M_20_(2)',\n",
       " 'DUB_Terenure_M_30',\n",
       " 'DUB_Walkinstown_F_30',\n",
       " 'DUB_Walkinstown_M_20',\n",
       " 'DUB_Whitehall_F_20']"
      ]
     },
     "execution_count": 34,
     "metadata": {},
     "output_type": "execute_result"
    }
   ],
   "source": [
    "names"
   ]
  },
  {
   "cell_type": "code",
   "execution_count": 35,
   "id": "509acaa3",
   "metadata": {
    "scrolled": true
   },
   "outputs": [
    {
     "data": {
      "text/plain": [
       "['Artane',\n",
       " 'Artane',\n",
       " 'Artane',\n",
       " 'Ballinteer',\n",
       " 'Ballinteer',\n",
       " 'Ballinteer',\n",
       " 'Ballinteer',\n",
       " 'Beaumont',\n",
       " 'Blackrock',\n",
       " 'Blanchard',\n",
       " 'Blanchard',\n",
       " 'Blanchard',\n",
       " 'Blanchard',\n",
       " 'Blanchard',\n",
       " 'Blanchard',\n",
       " 'Blanchard',\n",
       " 'Blanchard',\n",
       " 'Blanchard',\n",
       " 'Bray',\n",
       " 'Bray',\n",
       " 'Bray',\n",
       " 'Bray',\n",
       " 'Bray',\n",
       " 'Bray',\n",
       " 'Bray',\n",
       " 'Cabinteely',\n",
       " 'Cabinteely',\n",
       " 'Cabinteely',\n",
       " 'Cabinteely',\n",
       " 'Cabra',\n",
       " 'Cabra',\n",
       " 'Castleknock',\n",
       " 'Castleknock',\n",
       " 'Castleknock',\n",
       " 'Castleknock',\n",
       " 'Churchtown',\n",
       " 'Churchtown',\n",
       " 'Churchtown',\n",
       " 'Clondalkin',\n",
       " 'Clonskea',\n",
       " 'Clonskea',\n",
       " 'Clonskea',\n",
       " 'Clonskea',\n",
       " 'Clonskea',\n",
       " 'Clontarf',\n",
       " 'Clontarf',\n",
       " 'Clontarf',\n",
       " 'Clontarf',\n",
       " 'Clontarf',\n",
       " 'Clontarf',\n",
       " 'Crumlin',\n",
       " 'Dalkey',\n",
       " 'Dalkey',\n",
       " 'DeansGrange',\n",
       " 'DeansGrange',\n",
       " 'Donnybrook',\n",
       " 'Donnybrook',\n",
       " 'Dundrum',\n",
       " 'Dundrum',\n",
       " 'Dundrum',\n",
       " 'Dundrum',\n",
       " 'Dunleary',\n",
       " 'Dunleary',\n",
       " 'Dunleary',\n",
       " 'Dunleary',\n",
       " 'Dunleary',\n",
       " 'Dunleary',\n",
       " 'Dunleary',\n",
       " 'EastWall',\n",
       " 'Finglas',\n",
       " 'Finglas',\n",
       " 'Foxrock',\n",
       " 'Foxrock',\n",
       " 'Goatstown',\n",
       " 'Goatstown',\n",
       " 'HaroldsCross',\n",
       " 'Howth',\n",
       " 'Inchicore',\n",
       " 'Kilbarrack',\n",
       " 'Killiney',\n",
       " 'Killiney',\n",
       " 'Kilmainham',\n",
       " 'Kimmage',\n",
       " 'Knocklyon',\n",
       " 'Knocklyon',\n",
       " 'Knocklyon',\n",
       " 'Landsdowne',\n",
       " 'Lucan',\n",
       " 'Lucan',\n",
       " 'Lucan',\n",
       " 'Lucan',\n",
       " 'Malahide',\n",
       " 'Malahide',\n",
       " 'Malahide',\n",
       " 'Malahide',\n",
       " 'Monkstown',\n",
       " 'Monkstown',\n",
       " 'Monkstown',\n",
       " 'MountMerrion',\n",
       " 'MountMerrion',\n",
       " 'Portmarnock',\n",
       " 'Portmarnock',\n",
       " 'Raheny',\n",
       " 'Ranelagh',\n",
       " 'Ranelagh',\n",
       " 'Ranelagh',\n",
       " 'Ranelagh',\n",
       " 'Rathfarnham',\n",
       " 'Rathfarnham',\n",
       " 'Rathfarnham',\n",
       " 'Rathfarnham',\n",
       " 'Rathfarnham',\n",
       " 'Rathgar',\n",
       " 'Rathgar',\n",
       " 'Rathgar',\n",
       " 'Rathgar',\n",
       " 'Rathmines',\n",
       " 'Rathmines',\n",
       " 'Rathmines',\n",
       " 'Ringsend',\n",
       " 'Rush',\n",
       " 'Rush',\n",
       " 'Sallynoggin',\n",
       " 'Sandyford',\n",
       " 'Sandyford',\n",
       " 'Sandyford',\n",
       " 'Sandyford',\n",
       " 'Sandyford',\n",
       " 'Sandymount',\n",
       " 'Shankhill',\n",
       " 'Shankhill',\n",
       " 'Shankhill',\n",
       " 'Shankhill',\n",
       " 'Stillorgan',\n",
       " 'Sutton',\n",
       " 'Sutton',\n",
       " 'Swords',\n",
       " 'Swords',\n",
       " 'Swords',\n",
       " 'Swords',\n",
       " 'Swords',\n",
       " 'Tallaght',\n",
       " 'Tallaght',\n",
       " 'Tallaght',\n",
       " 'Tallaght',\n",
       " 'Tallaght',\n",
       " 'Tallaght',\n",
       " 'Tallaght',\n",
       " 'Tallaght',\n",
       " 'Tallaght',\n",
       " 'Tallaght',\n",
       " 'Templeogue',\n",
       " 'Templeogue',\n",
       " 'Templeogue',\n",
       " 'Templeogue',\n",
       " 'Templeogue',\n",
       " 'Templeogue',\n",
       " 'Terenure',\n",
       " 'Terenure',\n",
       " 'Terenure',\n",
       " 'Terenure',\n",
       " 'Terenure',\n",
       " 'Terenure',\n",
       " 'Terenure',\n",
       " 'Walkinstown',\n",
       " 'Walkinstown',\n",
       " 'Whitehall']"
      ]
     },
     "execution_count": 35,
     "metadata": {},
     "output_type": "execute_result"
    }
   ],
   "source": [
    "towns"
   ]
  },
  {
   "cell_type": "code",
   "execution_count": 36,
   "id": "d9f4c8d9",
   "metadata": {
    "scrolled": true
   },
   "outputs": [
    {
     "data": {
      "text/plain": [
       "[None,\n",
       " None,\n",
       " None,\n",
       " None,\n",
       " None,\n",
       " None,\n",
       " None,\n",
       " None,\n",
       " None,\n",
       " None,\n",
       " None,\n",
       " None,\n",
       " None,\n",
       " None,\n",
       " None,\n",
       " None,\n",
       " None,\n",
       " None,\n",
       " None,\n",
       " None,\n",
       " None,\n",
       " None,\n",
       " None,\n",
       " None,\n",
       " None,\n",
       " None,\n",
       " None,\n",
       " None,\n",
       " None,\n",
       " None,\n",
       " None,\n",
       " None,\n",
       " None,\n",
       " None,\n",
       " None,\n",
       " None,\n",
       " None,\n",
       " None,\n",
       " None,\n",
       " None,\n",
       " None,\n",
       " None,\n",
       " None,\n",
       " None,\n",
       " None,\n",
       " None,\n",
       " None,\n",
       " None,\n",
       " None,\n",
       " None,\n",
       " None,\n",
       " None,\n",
       " None,\n",
       " None,\n",
       " None,\n",
       " None,\n",
       " None,\n",
       " None,\n",
       " None,\n",
       " None,\n",
       " None,\n",
       " None,\n",
       " None,\n",
       " None,\n",
       " None,\n",
       " None,\n",
       " None,\n",
       " None,\n",
       " None,\n",
       " None,\n",
       " None,\n",
       " None,\n",
       " None,\n",
       " None,\n",
       " None,\n",
       " None,\n",
       " None,\n",
       " None,\n",
       " None,\n",
       " None,\n",
       " None,\n",
       " None,\n",
       " None,\n",
       " None,\n",
       " None,\n",
       " None,\n",
       " None,\n",
       " None,\n",
       " None,\n",
       " None,\n",
       " None,\n",
       " None,\n",
       " None,\n",
       " None,\n",
       " None,\n",
       " None,\n",
       " None,\n",
       " None,\n",
       " None,\n",
       " None,\n",
       " None,\n",
       " None,\n",
       " None,\n",
       " None,\n",
       " None,\n",
       " None,\n",
       " None,\n",
       " None,\n",
       " None,\n",
       " None,\n",
       " None,\n",
       " None,\n",
       " None,\n",
       " None,\n",
       " None,\n",
       " None,\n",
       " None,\n",
       " None,\n",
       " None,\n",
       " None,\n",
       " None,\n",
       " None,\n",
       " None,\n",
       " None,\n",
       " None,\n",
       " None,\n",
       " None,\n",
       " None,\n",
       " None,\n",
       " None,\n",
       " None,\n",
       " None,\n",
       " None,\n",
       " None,\n",
       " None,\n",
       " None,\n",
       " None,\n",
       " None,\n",
       " None,\n",
       " None,\n",
       " None,\n",
       " None,\n",
       " None,\n",
       " None,\n",
       " None,\n",
       " None,\n",
       " None,\n",
       " None,\n",
       " None,\n",
       " None,\n",
       " None,\n",
       " None,\n",
       " None,\n",
       " None,\n",
       " None,\n",
       " None,\n",
       " None,\n",
       " None,\n",
       " None,\n",
       " None,\n",
       " None,\n",
       " None,\n",
       " None,\n",
       " None,\n",
       " None,\n",
       " None,\n",
       " None]"
      ]
     },
     "execution_count": 36,
     "metadata": {},
     "output_type": "execute_result"
    }
   ],
   "source": [
    "urbanrurals"
   ]
  },
  {
   "cell_type": "code",
   "execution_count": 37,
   "id": "a6ed748c",
   "metadata": {
    "scrolled": true
   },
   "outputs": [
    {
     "data": {
      "text/plain": [
       "['M',\n",
       " 'M',\n",
       " 'M',\n",
       " 'F',\n",
       " 'F',\n",
       " 'F',\n",
       " 'M',\n",
       " 'M',\n",
       " 'F',\n",
       " 'F',\n",
       " 'F',\n",
       " 'F',\n",
       " 'F',\n",
       " 'F',\n",
       " 'M',\n",
       " 'M',\n",
       " 'M',\n",
       " 'M',\n",
       " 'F',\n",
       " 'F',\n",
       " 'F',\n",
       " 'M',\n",
       " 'M',\n",
       " 'M',\n",
       " 'M',\n",
       " 'F',\n",
       " 'F',\n",
       " 'F',\n",
       " 'M',\n",
       " 'F',\n",
       " 'M',\n",
       " 'F',\n",
       " 'M',\n",
       " 'M',\n",
       " 'M',\n",
       " 'F',\n",
       " 'F',\n",
       " 'F',\n",
       " 'M',\n",
       " 'F',\n",
       " 'F',\n",
       " 'F',\n",
       " 'F',\n",
       " 'M',\n",
       " 'F',\n",
       " 'F',\n",
       " 'F',\n",
       " 'M',\n",
       " 'M',\n",
       " 'M',\n",
       " 'F',\n",
       " 'F',\n",
       " 'M',\n",
       " 'F',\n",
       " 'M',\n",
       " 'F',\n",
       " 'F',\n",
       " 'F',\n",
       " 'F',\n",
       " 'M',\n",
       " 'M',\n",
       " 'F',\n",
       " 'F',\n",
       " 'F',\n",
       " 'F',\n",
       " 'M',\n",
       " 'M',\n",
       " 'M',\n",
       " 'M',\n",
       " 'F',\n",
       " 'M',\n",
       " 'M',\n",
       " 'M',\n",
       " 'F',\n",
       " 'M',\n",
       " 'M',\n",
       " 'F',\n",
       " 'F',\n",
       " 'M',\n",
       " 'M',\n",
       " 'M',\n",
       " 'M',\n",
       " 'F',\n",
       " 'F',\n",
       " 'F',\n",
       " 'M',\n",
       " 'F',\n",
       " 'F',\n",
       " 'M',\n",
       " 'M',\n",
       " 'M',\n",
       " 'F',\n",
       " 'F',\n",
       " 'F',\n",
       " 'M',\n",
       " 'F',\n",
       " 'F',\n",
       " 'M',\n",
       " 'F',\n",
       " 'M',\n",
       " 'F',\n",
       " 'M',\n",
       " 'F',\n",
       " 'F',\n",
       " 'M',\n",
       " 'M',\n",
       " 'M',\n",
       " 'F',\n",
       " 'F',\n",
       " 'F',\n",
       " 'M',\n",
       " 'M',\n",
       " 'F',\n",
       " 'F',\n",
       " 'F',\n",
       " 'F',\n",
       " 'F',\n",
       " 'M',\n",
       " 'M',\n",
       " 'M',\n",
       " 'M',\n",
       " 'M',\n",
       " 'F',\n",
       " 'F',\n",
       " 'F',\n",
       " 'F',\n",
       " 'M',\n",
       " 'M',\n",
       " 'M',\n",
       " 'F',\n",
       " 'F',\n",
       " 'F',\n",
       " 'M',\n",
       " 'M',\n",
       " 'F',\n",
       " 'M',\n",
       " 'F',\n",
       " 'F',\n",
       " 'F',\n",
       " 'M',\n",
       " 'M',\n",
       " 'F',\n",
       " 'F',\n",
       " 'M',\n",
       " 'M',\n",
       " 'M',\n",
       " 'M',\n",
       " 'M',\n",
       " 'M',\n",
       " 'M',\n",
       " 'M',\n",
       " 'F',\n",
       " 'F',\n",
       " 'F',\n",
       " 'F',\n",
       " 'M',\n",
       " 'M',\n",
       " 'F',\n",
       " 'F',\n",
       " 'F',\n",
       " 'F',\n",
       " 'M',\n",
       " 'M',\n",
       " 'M',\n",
       " 'F',\n",
       " 'M',\n",
       " 'F']"
      ]
     },
     "execution_count": 37,
     "metadata": {},
     "output_type": "execute_result"
    }
   ],
   "source": [
    "genders"
   ]
  },
  {
   "cell_type": "code",
   "execution_count": 38,
   "id": "9d593128",
   "metadata": {
    "scrolled": true
   },
   "outputs": [
    {
     "data": {
      "text/plain": [
       "[None,\n",
       " None,\n",
       " None,\n",
       " None,\n",
       " None,\n",
       " None,\n",
       " None,\n",
       " None,\n",
       " None,\n",
       " None,\n",
       " None,\n",
       " None,\n",
       " None,\n",
       " None,\n",
       " None,\n",
       " None,\n",
       " None,\n",
       " None,\n",
       " None,\n",
       " None,\n",
       " None,\n",
       " None,\n",
       " None,\n",
       " None,\n",
       " None,\n",
       " None,\n",
       " None,\n",
       " None,\n",
       " None,\n",
       " None,\n",
       " None,\n",
       " None,\n",
       " None,\n",
       " None,\n",
       " None,\n",
       " None,\n",
       " None,\n",
       " None,\n",
       " None,\n",
       " None,\n",
       " None,\n",
       " None,\n",
       " None,\n",
       " None,\n",
       " None,\n",
       " None,\n",
       " None,\n",
       " None,\n",
       " None,\n",
       " None,\n",
       " None,\n",
       " None,\n",
       " None,\n",
       " None,\n",
       " None,\n",
       " None,\n",
       " None,\n",
       " None,\n",
       " None,\n",
       " None,\n",
       " None,\n",
       " None,\n",
       " None,\n",
       " None,\n",
       " None,\n",
       " None,\n",
       " None,\n",
       " None,\n",
       " None,\n",
       " None,\n",
       " None,\n",
       " None,\n",
       " None,\n",
       " None,\n",
       " None,\n",
       " None,\n",
       " None,\n",
       " None,\n",
       " None,\n",
       " None,\n",
       " None,\n",
       " None,\n",
       " None,\n",
       " None,\n",
       " None,\n",
       " None,\n",
       " None,\n",
       " None,\n",
       " None,\n",
       " None,\n",
       " None,\n",
       " None,\n",
       " None,\n",
       " None,\n",
       " None,\n",
       " None,\n",
       " None,\n",
       " None,\n",
       " None,\n",
       " None,\n",
       " None,\n",
       " None,\n",
       " None,\n",
       " None,\n",
       " None,\n",
       " None,\n",
       " None,\n",
       " None,\n",
       " None,\n",
       " None,\n",
       " None,\n",
       " None,\n",
       " None,\n",
       " None,\n",
       " None,\n",
       " None,\n",
       " None,\n",
       " None,\n",
       " None,\n",
       " None,\n",
       " None,\n",
       " None,\n",
       " None,\n",
       " None,\n",
       " None,\n",
       " None,\n",
       " None,\n",
       " None,\n",
       " None,\n",
       " None,\n",
       " None,\n",
       " None,\n",
       " None,\n",
       " None,\n",
       " None,\n",
       " None,\n",
       " None,\n",
       " None,\n",
       " None,\n",
       " None,\n",
       " None,\n",
       " None,\n",
       " None,\n",
       " None,\n",
       " None,\n",
       " None,\n",
       " None,\n",
       " None,\n",
       " None,\n",
       " None,\n",
       " None,\n",
       " None,\n",
       " None,\n",
       " None,\n",
       " None,\n",
       " None,\n",
       " None,\n",
       " None,\n",
       " None,\n",
       " None,\n",
       " None,\n",
       " None,\n",
       " None,\n",
       " None,\n",
       " None,\n",
       " None,\n",
       " None]"
      ]
     },
     "execution_count": 38,
     "metadata": {},
     "output_type": "execute_result"
    }
   ],
   "source": [
    "sizes"
   ]
  },
  {
   "cell_type": "code",
   "execution_count": 39,
   "id": "3782811a",
   "metadata": {
    "scrolled": true
   },
   "outputs": [
    {
     "data": {
      "text/plain": [
       "[20,\n",
       " 20,\n",
       " 20,\n",
       " 20,\n",
       " 20,\n",
       " 20,\n",
       " 25,\n",
       " 35,\n",
       " 20,\n",
       " 20,\n",
       " 20,\n",
       " 20,\n",
       " 20,\n",
       " 20,\n",
       " 20,\n",
       " 20,\n",
       " 20,\n",
       " 20,\n",
       " 20,\n",
       " 20,\n",
       " 35,\n",
       " 20,\n",
       " 20,\n",
       " 20,\n",
       " 20,\n",
       " 20,\n",
       " 20,\n",
       " 20,\n",
       " 20,\n",
       " 20,\n",
       " 20,\n",
       " 20,\n",
       " 20,\n",
       " 20,\n",
       " 20,\n",
       " 20,\n",
       " 20,\n",
       " 20,\n",
       " 20,\n",
       " 20,\n",
       " 20,\n",
       " 20,\n",
       " 20,\n",
       " 20,\n",
       " 20,\n",
       " 20,\n",
       " 20,\n",
       " 20,\n",
       " 20,\n",
       " 20,\n",
       " 20,\n",
       " 20,\n",
       " 20,\n",
       " 20,\n",
       " 20,\n",
       " 20,\n",
       " 50,\n",
       " 20,\n",
       " 40,\n",
       " 20,\n",
       " 20,\n",
       " 20,\n",
       " 20,\n",
       " 20,\n",
       " 20,\n",
       " 20,\n",
       " 20,\n",
       " 30,\n",
       " 20,\n",
       " 35,\n",
       " 25,\n",
       " 20,\n",
       " 20,\n",
       " 20,\n",
       " 20,\n",
       " 20,\n",
       " 20,\n",
       " 20,\n",
       " 25,\n",
       " 20,\n",
       " 20,\n",
       " 20,\n",
       " 20,\n",
       " 20,\n",
       " 30,\n",
       " 20,\n",
       " 20,\n",
       " 20,\n",
       " 20,\n",
       " 20,\n",
       " 20,\n",
       " 20,\n",
       " 20,\n",
       " 20,\n",
       " 20,\n",
       " 20,\n",
       " 30,\n",
       " 20,\n",
       " 20,\n",
       " 20,\n",
       " 20,\n",
       " 20,\n",
       " 20,\n",
       " 20,\n",
       " 20,\n",
       " 20,\n",
       " 20,\n",
       " 20,\n",
       " 20,\n",
       " 20,\n",
       " 20,\n",
       " 20,\n",
       " 20,\n",
       " 20,\n",
       " 20,\n",
       " 20,\n",
       " 50,\n",
       " 20,\n",
       " 20,\n",
       " 45,\n",
       " 15,\n",
       " 20,\n",
       " 20,\n",
       " 20,\n",
       " 20,\n",
       " 20,\n",
       " 20,\n",
       " 20,\n",
       " 20,\n",
       " 20,\n",
       " 20,\n",
       " 20,\n",
       " 20,\n",
       " 20,\n",
       " 20,\n",
       " 20,\n",
       " 15,\n",
       " 15,\n",
       " 35,\n",
       " 15,\n",
       " 15,\n",
       " 20,\n",
       " 20,\n",
       " 20,\n",
       " 20,\n",
       " 20,\n",
       " 20,\n",
       " 20,\n",
       " 20,\n",
       " 20,\n",
       " 40,\n",
       " 20,\n",
       " 20,\n",
       " 20,\n",
       " 20,\n",
       " 20,\n",
       " 20,\n",
       " 20,\n",
       " 20,\n",
       " 20,\n",
       " 20,\n",
       " 20,\n",
       " 20,\n",
       " 30,\n",
       " 30,\n",
       " 20,\n",
       " 20]"
      ]
     },
     "execution_count": 39,
     "metadata": {},
     "output_type": "execute_result"
    }
   ],
   "source": [
    "ages"
   ]
  },
  {
   "cell_type": "code",
   "execution_count": 40,
   "id": "dc161154",
   "metadata": {},
   "outputs": [
    {
     "name": "stdout",
     "output_type": "stream",
     "text": [
      "167\n",
      "167\n",
      "167\n",
      "167\n",
      "167\n",
      "167\n"
     ]
    }
   ],
   "source": [
    "print(len(counties))\n",
    "print(len(towns))\n",
    "print(len(urbanrurals))\n",
    "print(len(sizes))\n",
    "print(len(genders))\n",
    "print(len(ages))"
   ]
  },
  {
   "cell_type": "code",
   "execution_count": 41,
   "id": "0381206c",
   "metadata": {},
   "outputs": [],
   "source": [
    "h=0\n",
    "for filename in filenames:\n",
    "    file_duration=sample_duration(filename)\n",
    "    file_y, file_sr= librosa.load(filename,duration=sample_duration(filename))\n",
    "    \n",
    "    if len(file_y)==0:\n",
    "        print(\"MP3 converted to WAV\\n\")\n",
    "        print(str(h))\n",
    "        file_y, file_sr=convert_MP3_to_WAV(filename)\n",
    "         \n",
    "    resample_y=librosa.resample(file_y, orig_sr=file_sr, target_sr=RESAMPLE_RATE)\n",
    "    \n",
    "    y.append(resample_y)\n",
    "    sr.append(RESAMPLE_RATE)\n",
    "    dur.append(file_duration)\n",
    "    h+=1"
   ]
  },
  {
   "cell_type": "code",
   "execution_count": 42,
   "id": "3f431a1f",
   "metadata": {},
   "outputs": [
    {
     "data": {
      "text/plain": [
       "167"
      ]
     },
     "execution_count": 42,
     "metadata": {},
     "output_type": "execute_result"
    }
   ],
   "source": [
    "len(y)"
   ]
  },
  {
   "cell_type": "code",
   "execution_count": 43,
   "id": "63aaf453",
   "metadata": {},
   "outputs": [
    {
     "data": {
      "text/plain": [
       "167"
      ]
     },
     "execution_count": 43,
     "metadata": {},
     "output_type": "execute_result"
    }
   ],
   "source": [
    "len(filenames)"
   ]
  },
  {
   "cell_type": "code",
   "execution_count": 44,
   "id": "2c5341c1",
   "metadata": {},
   "outputs": [
    {
     "data": {
      "text/plain": [
       "(1799942,)"
      ]
     },
     "execution_count": 44,
     "metadata": {},
     "output_type": "execute_result"
    }
   ],
   "source": [
    "y[0].shape"
   ]
  },
  {
   "cell_type": "code",
   "execution_count": null,
   "id": "4a2350c5-1b8c-406f-ae9f-f491209982a5",
   "metadata": {},
   "outputs": [],
   "source": []
  },
  {
   "cell_type": "code",
   "execution_count": 45,
   "id": "55f59437",
   "metadata": {
    "scrolled": true
   },
   "outputs": [
    {
     "name": "stdout",
     "output_type": "stream",
     "text": [
      "0 C:\\Users\\peter\\VoxPop\\DUB\\DUB_Artane_M_20.wav\n",
      "1 C:\\Users\\peter\\VoxPop\\DUB\\DUB_Artane_M_20_(2).wav\n",
      "2 C:\\Users\\peter\\VoxPop\\DUB\\DUB_Artane_M_20_(3).wav\n",
      "3 C:\\Users\\peter\\VoxPop\\DUB\\DUB_Ballinteer_F_20.wav\n",
      "4 C:\\Users\\peter\\VoxPop\\DUB\\DUB_Ballinteer_F_20_(2).wav\n",
      "5 C:\\Users\\peter\\VoxPop\\DUB\\DUB_Ballinteer_F_20_(3).wav\n",
      "6 C:\\Users\\peter\\VoxPop\\DUB\\DUB_Ballinteer_M_25.wav\n",
      "7 C:\\Users\\peter\\VoxPop\\DUB\\DUB_Beaumont_M_35.wav\n",
      "8 C:\\Users\\peter\\VoxPop\\DUB\\DUB_Blackrock_F_20.wav\n",
      "9 C:\\Users\\peter\\VoxPop\\DUB\\DUB_Blanchard_F_20.wav\n",
      "10 C:\\Users\\peter\\VoxPop\\DUB\\DUB_Blanchard_F_20_(2).wav\n",
      "11 C:\\Users\\peter\\VoxPop\\DUB\\DUB_Blanchard_F_20_(3).wav\n",
      "12 C:\\Users\\peter\\VoxPop\\DUB\\DUB_Blanchard_F_20_(4).wav\n",
      "13 C:\\Users\\peter\\VoxPop\\DUB\\DUB_Blanchard_F_20_(5).wav\n",
      "14 C:\\Users\\peter\\VoxPop\\DUB\\DUB_Blanchard_M_20.wav\n",
      "15 C:\\Users\\peter\\VoxPop\\DUB\\DUB_Blanchard_M_20_(2).wav\n",
      "16 C:\\Users\\peter\\VoxPop\\DUB\\DUB_Blanchard_M_20_(3).wav\n",
      "17 C:\\Users\\peter\\VoxPop\\DUB\\DUB_Blanchard_M_20_(4).wav\n",
      "18 C:\\Users\\peter\\VoxPop\\DUB\\DUB_Bray_F_20.wav\n",
      "19 C:\\Users\\peter\\VoxPop\\DUB\\DUB_Bray_F_20_(2).wav\n",
      "20 C:\\Users\\peter\\VoxPop\\DUB\\DUB_Bray_F_35.wav\n",
      "21 C:\\Users\\peter\\VoxPop\\DUB\\DUB_Bray_M_20.wav\n",
      "22 C:\\Users\\peter\\VoxPop\\DUB\\DUB_Bray_M_20_(2).wav\n",
      "23 C:\\Users\\peter\\VoxPop\\DUB\\DUB_Bray_M_20_(3).wav\n",
      "24 C:\\Users\\peter\\VoxPop\\DUB\\DUB_Bray_M_20_(4).wav\n",
      "25 C:\\Users\\peter\\VoxPop\\DUB\\DUB_Cabinteely_F_20.wav\n",
      "26 C:\\Users\\peter\\VoxPop\\DUB\\DUB_Cabinteely_F_20_(2).wav\n",
      "27 C:\\Users\\peter\\VoxPop\\DUB\\DUB_Cabinteely_F_20_(3).wav\n",
      "28 C:\\Users\\peter\\VoxPop\\DUB\\DUB_Cabinteely_M_20.wav\n",
      "29 C:\\Users\\peter\\VoxPop\\DUB\\DUB_Cabra_F_20.wav\n",
      "30 C:\\Users\\peter\\VoxPop\\DUB\\DUB_Cabra_M_20.wav\n",
      "31 C:\\Users\\peter\\VoxPop\\DUB\\DUB_Castleknock_F_20.wav\n",
      "32 C:\\Users\\peter\\VoxPop\\DUB\\DUB_Castleknock_M_20.wav\n",
      "33 C:\\Users\\peter\\VoxPop\\DUB\\DUB_Castleknock_M_20_(2).wav\n",
      "34 C:\\Users\\peter\\VoxPop\\DUB\\DUB_Castleknock_M_20_(3).wav\n",
      "35 C:\\Users\\peter\\VoxPop\\DUB\\DUB_Churchtown_F_20.wav\n",
      "36 C:\\Users\\peter\\VoxPop\\DUB\\DUB_Churchtown_F_20_(2).wav\n",
      "37 C:\\Users\\peter\\VoxPop\\DUB\\DUB_Churchtown_F_20_(3).wav\n",
      "38 C:\\Users\\peter\\VoxPop\\DUB\\DUB_Clondalkin_M_20.wav\n",
      "39 C:\\Users\\peter\\VoxPop\\DUB\\DUB_Clonskea_F_20.wav\n",
      "40 C:\\Users\\peter\\VoxPop\\DUB\\DUB_Clonskea_F_20_(2).wav\n",
      "41 C:\\Users\\peter\\VoxPop\\DUB\\DUB_Clonskea_F_20_(3).wav\n",
      "42 C:\\Users\\peter\\VoxPop\\DUB\\DUB_Clonskea_F_20_(4).wav\n",
      "43 C:\\Users\\peter\\VoxPop\\DUB\\DUB_Clonskea_M_20.wav\n",
      "44 C:\\Users\\peter\\VoxPop\\DUB\\DUB_Clontarf_F_20.wav\n",
      "45 C:\\Users\\peter\\VoxPop\\DUB\\DUB_Clontarf_F_20_(2).wav\n",
      "46 C:\\Users\\peter\\VoxPop\\DUB\\DUB_Clontarf_F_20_(3).wav\n",
      "47 C:\\Users\\peter\\VoxPop\\DUB\\DUB_Clontarf_M_20.wav\n",
      "48 C:\\Users\\peter\\VoxPop\\DUB\\DUB_Clontarf_M_20_(2).wav\n",
      "49 C:\\Users\\peter\\VoxPop\\DUB\\DUB_Clontarf_M_20_(3).wav\n",
      "50 C:\\Users\\peter\\VoxPop\\DUB\\DUB_Crumlin_F_20.wav\n",
      "51 C:\\Users\\peter\\VoxPop\\DUB\\DUB_Dalkey_F_20.wav\n",
      "52 C:\\Users\\peter\\VoxPop\\DUB\\DUB_Dalkey_M_20.wav\n",
      "53 C:\\Users\\peter\\VoxPop\\DUB\\DUB_DeansGrange_F_20.wav\n",
      "54 C:\\Users\\peter\\VoxPop\\DUB\\DUB_DeansGrange_M_20.wav\n",
      "55 C:\\Users\\peter\\VoxPop\\DUB\\DUB_Donnybrook_F_20.wav\n",
      "56 C:\\Users\\peter\\VoxPop\\DUB\\DUB_Donnybrook_F_50.wav\n",
      "57 C:\\Users\\peter\\VoxPop\\DUB\\DUB_Dundrum_F_20.wav\n",
      "58 C:\\Users\\peter\\VoxPop\\DUB\\DUB_Dundrum_F_40.wav\n",
      "59 C:\\Users\\peter\\VoxPop\\DUB\\DUB_Dundrum_M_20.wav\n",
      "60 C:\\Users\\peter\\VoxPop\\DUB\\DUB_Dundrum_M_20_(2).wav\n",
      "61 C:\\Users\\peter\\VoxPop\\DUB\\DUB_Dunleary_F_20.wav\n",
      "62 C:\\Users\\peter\\VoxPop\\DUB\\DUB_Dunleary_F_20_(2).wav\n",
      "63 C:\\Users\\peter\\VoxPop\\DUB\\DUB_Dunleary_F_20_(3).wav\n",
      "64 C:\\Users\\peter\\VoxPop\\DUB\\DUB_Dunleary_F_20_(4).wav\n",
      "65 C:\\Users\\peter\\VoxPop\\DUB\\DUB_Dunleary_M_20.wav\n",
      "66 C:\\Users\\peter\\VoxPop\\DUB\\DUB_Dunleary_M_20_(2).wav\n",
      "67 C:\\Users\\peter\\VoxPop\\DUB\\DUB_Dunleary_M_30.wav\n",
      "68 C:\\Users\\peter\\VoxPop\\DUB\\DUB_EastWall_M_20.wav\n",
      "69 C:\\Users\\peter\\VoxPop\\DUB\\DUB_Finglas_F_35.wav\n",
      "70 C:\\Users\\peter\\VoxPop\\DUB\\DUB_Finglas_M_25.wav\n",
      "71 C:\\Users\\peter\\VoxPop\\DUB\\DUB_Foxrock_M_20.wav\n",
      "72 C:\\Users\\peter\\VoxPop\\DUB\\DUB_Foxrock_M_20_(2).wav\n",
      "73 C:\\Users\\peter\\VoxPop\\DUB\\DUB_Goatstown_F_20.wav\n",
      "74 C:\\Users\\peter\\VoxPop\\DUB\\DUB_Goatstown_M_20.wav\n",
      "75 C:\\Users\\peter\\VoxPop\\DUB\\DUB_HaroldsCross_M_20.wav\n",
      "76 C:\\Users\\peter\\VoxPop\\DUB\\DUB_Howth_F_20.wav\n",
      "77 C:\\Users\\peter\\VoxPop\\DUB\\DUB_Inchicore_F_20.wav\n",
      "78 C:\\Users\\peter\\VoxPop\\DUB\\DUB_Kilbarrack_M_25.wav\n",
      "79 C:\\Users\\peter\\VoxPop\\DUB\\DUB_Killiney_M_20.wav\n",
      "80 C:\\Users\\peter\\VoxPop\\DUB\\DUB_Killiney_M_20_(2).wav\n",
      "81 C:\\Users\\peter\\VoxPop\\DUB\\DUB_Kilmainham_M_20_(2).wav\n",
      "82 C:\\Users\\peter\\VoxPop\\DUB\\DUB_Kimmage_F_20.wav\n",
      "83 C:\\Users\\peter\\VoxPop\\DUB\\DUB_Knocklyon_F_20.wav\n",
      "84 C:\\Users\\peter\\VoxPop\\DUB\\DUB_Knocklyon_F_30_(2).wav\n",
      "85 C:\\Users\\peter\\VoxPop\\DUB\\DUB_Knocklyon_M_20.wav\n",
      "86 C:\\Users\\peter\\VoxPop\\DUB\\DUB_Landsdowne_F_20.wav\n",
      "87 C:\\Users\\peter\\VoxPop\\DUB\\DUB_Lucan_F_20.wav\n",
      "88 C:\\Users\\peter\\VoxPop\\DUB\\DUB_Lucan_M_20.wav\n",
      "89 C:\\Users\\peter\\VoxPop\\DUB\\DUB_Lucan_M_20_(2).wav\n",
      "90 C:\\Users\\peter\\VoxPop\\DUB\\DUB_Lucan_M_20_(3).wav\n",
      "91 C:\\Users\\peter\\VoxPop\\DUB\\DUB_Malahide_F_20.wav\n",
      "92 C:\\Users\\peter\\VoxPop\\DUB\\DUB_Malahide_F_20_(2).wav\n",
      "93 C:\\Users\\peter\\VoxPop\\DUB\\DUB_Malahide_F_20_(3).wav\n",
      "94 C:\\Users\\peter\\VoxPop\\DUB\\DUB_Malahide_M_20.wav\n",
      "95 C:\\Users\\peter\\VoxPop\\DUB\\DUB_Monkstown_F_20.wav\n",
      "96 C:\\Users\\peter\\VoxPop\\DUB\\DUB_Monkstown_F_30.wav\n",
      "97 C:\\Users\\peter\\VoxPop\\DUB\\DUB_Monkstown_M_20.wav\n",
      "98 C:\\Users\\peter\\VoxPop\\DUB\\DUB_MountMerrion_F_20.wav\n",
      "99 C:\\Users\\peter\\VoxPop\\DUB\\DUB_MountMerrion_M_20.wav\n",
      "100 C:\\Users\\peter\\VoxPop\\DUB\\DUB_Portmarnock_F_20.wav\n",
      "101 C:\\Users\\peter\\VoxPop\\DUB\\DUB_Portmarnock_M_20.wav\n",
      "102 C:\\Users\\peter\\VoxPop\\DUB\\DUB_Raheny_F_20.wav\n",
      "103 C:\\Users\\peter\\VoxPop\\DUB\\DUB_Ranelagh_F_20.wav\n",
      "104 C:\\Users\\peter\\VoxPop\\DUB\\DUB_Ranelagh_M_20.wav\n",
      "105 C:\\Users\\peter\\VoxPop\\DUB\\DUB_Ranelagh_M_20_(2).wav\n",
      "106 C:\\Users\\peter\\VoxPop\\DUB\\DUB_Ranelagh_M_20_(3).wav\n",
      "107 C:\\Users\\peter\\VoxPop\\DUB\\DUB_Rathfarnham_F_20.wav\n",
      "108 C:\\Users\\peter\\VoxPop\\DUB\\DUB_Rathfarnham_F_20_(2).wav\n",
      "109 C:\\Users\\peter\\VoxPop\\DUB\\DUB_Rathfarnham_F_20_(3).wav\n",
      "110 C:\\Users\\peter\\VoxPop\\DUB\\DUB_Rathfarnham_M_20.wav\n",
      "111 C:\\Users\\peter\\VoxPop\\DUB\\DUB_Rathfarnham_M_20_(2).wav\n",
      "112 C:\\Users\\peter\\VoxPop\\DUB\\DUB_Rathgar_F_20.wav\n",
      "113 C:\\Users\\peter\\VoxPop\\DUB\\DUB_Rathgar_F_20_(2).wav\n",
      "114 C:\\Users\\peter\\VoxPop\\DUB\\DUB_Rathgar_F_20_(3).wav\n",
      "115 C:\\Users\\peter\\VoxPop\\DUB\\DUB_Rathgar_F_20_(4).wav\n",
      "116 C:\\Users\\peter\\VoxPop\\DUB\\DUB_Rathmines_F_50.wav\n",
      "117 C:\\Users\\peter\\VoxPop\\DUB\\DUB_Rathmines_M_20.wav\n",
      "118 C:\\Users\\peter\\VoxPop\\DUB\\DUB_Rathmines_M_20_(2).wav\n",
      "119 C:\\Users\\peter\\VoxPop\\DUB\\DUB_Ringsend_M_45.wav\n",
      "120 C:\\Users\\peter\\VoxPop\\DUB\\DUB_Rush_M_15.wav\n",
      "121 C:\\Users\\peter\\VoxPop\\DUB\\DUB_Rush_M_20.wav\n",
      "122 C:\\Users\\peter\\VoxPop\\DUB\\DUB_Sallynoggin_F_20.wav\n",
      "123 C:\\Users\\peter\\VoxPop\\DUB\\DUB_Sandyford_F_20.wav\n",
      "124 C:\\Users\\peter\\VoxPop\\DUB\\DUB_Sandyford_F_20_(2).wav\n",
      "125 C:\\Users\\peter\\VoxPop\\DUB\\DUB_Sandyford_F_20_(3).wav\n",
      "126 C:\\Users\\peter\\VoxPop\\DUB\\DUB_Sandyford_M_20.wav\n",
      "127 C:\\Users\\peter\\VoxPop\\DUB\\DUB_Sandyford_M_20_(2).wav\n",
      "128 C:\\Users\\peter\\VoxPop\\DUB\\DUB_Sandymount_M_20.wav\n",
      "129 C:\\Users\\peter\\VoxPop\\DUB\\DUB_Shankhill_F_20.wav\n",
      "130 C:\\Users\\peter\\VoxPop\\DUB\\DUB_Shankhill_F_20_(2).wav\n",
      "131 C:\\Users\\peter\\VoxPop\\DUB\\DUB_Shankhill_F_20_(3).wav\n",
      "132 C:\\Users\\peter\\VoxPop\\DUB\\DUB_Shankhill_M_20.wav\n",
      "133 C:\\Users\\peter\\VoxPop\\DUB\\DUB_Stillorgan_M_20.wav\n",
      "134 C:\\Users\\peter\\VoxPop\\DUB\\DUB_Sutton_F_20.wav\n",
      "135 C:\\Users\\peter\\VoxPop\\DUB\\DUB_Sutton_M_20.wav\n",
      "136 C:\\Users\\peter\\VoxPop\\DUB\\DUB_Swords_F_15.wav\n",
      "137 C:\\Users\\peter\\VoxPop\\DUB\\DUB_Swords_F_15_(2).wav\n",
      "138 C:\\Users\\peter\\VoxPop\\DUB\\DUB_Swords_F_35.wav\n",
      "139 C:\\Users\\peter\\VoxPop\\DUB\\DUB_Swords_M_15.wav\n",
      "140 C:\\Users\\peter\\VoxPop\\DUB\\DUB_Swords_M_15_(2).wav\n",
      "141 C:\\Users\\peter\\VoxPop\\DUB\\DUB_Tallaght_F_20.wav\n",
      "142 C:\\Users\\peter\\VoxPop\\DUB\\DUB_Tallaght_F_20_(2).wav\n",
      "143 C:\\Users\\peter\\VoxPop\\DUB\\DUB_Tallaght_M_20.wav\n",
      "144 C:\\Users\\peter\\VoxPop\\DUB\\DUB_Tallaght_M_20_(2).wav\n",
      "145 C:\\Users\\peter\\VoxPop\\DUB\\DUB_Tallaght_M_20_(3).wav\n",
      "146 C:\\Users\\peter\\VoxPop\\DUB\\DUB_Tallaght_M_20_(4).wav\n",
      "147 C:\\Users\\peter\\VoxPop\\DUB\\DUB_Tallaght_M_20_(5).wav\n",
      "148 C:\\Users\\peter\\VoxPop\\DUB\\DUB_Tallaght_M_20_(6).wav\n",
      "149 C:\\Users\\peter\\VoxPop\\DUB\\DUB_Tallaght_M_20_(7).wav\n",
      "150 C:\\Users\\peter\\VoxPop\\DUB\\DUB_Tallaght_M_40.wav\n",
      "151 C:\\Users\\peter\\VoxPop\\DUB\\DUB_Templeogue_F_20.wav\n",
      "152 C:\\Users\\peter\\VoxPop\\DUB\\DUB_Templeogue_F_20_(2).wav\n",
      "153 C:\\Users\\peter\\VoxPop\\DUB\\DUB_Templeogue_F_20_(3).wav\n",
      "154 C:\\Users\\peter\\VoxPop\\DUB\\DUB_Templeogue_F_20_(4).wav\n",
      "155 C:\\Users\\peter\\VoxPop\\DUB\\DUB_Templeogue_M_20.wav\n",
      "156 C:\\Users\\peter\\VoxPop\\DUB\\DUB_Templeogue_M_20_(2).wav\n",
      "157 C:\\Users\\peter\\VoxPop\\DUB\\DUB_Terenure_F_20.wav\n",
      "158 C:\\Users\\peter\\VoxPop\\DUB\\DUB_Terenure_F_20_(2).wav\n",
      "159 C:\\Users\\peter\\VoxPop\\DUB\\DUB_Terenure_F_20_(3).wav\n",
      "160 C:\\Users\\peter\\VoxPop\\DUB\\DUB_Terenure_F_20_(4).wav\n",
      "161 C:\\Users\\peter\\VoxPop\\DUB\\DUB_Terenure_M_20.wav\n",
      "162 C:\\Users\\peter\\VoxPop\\DUB\\DUB_Terenure_M_20_(2).wav\n",
      "163 C:\\Users\\peter\\VoxPop\\DUB\\DUB_Terenure_M_30.wav\n",
      "164 C:\\Users\\peter\\VoxPop\\DUB\\DUB_Walkinstown_F_30.wav\n",
      "165 C:\\Users\\peter\\VoxPop\\DUB\\DUB_Walkinstown_M_20.wav\n",
      "166 C:\\Users\\peter\\VoxPop\\DUB\\DUB_Whitehall_F_20.wav\n"
     ]
    }
   ],
   "source": [
    "for i in range(0,len(filenames)):\n",
    "    print(str(i)+\" \"+filenames[i])\n",
    "    #print(y[i][0])\n",
    "   #IPython.display.display(Audio(data=y[i], rate=sr[i]))"
   ]
  },
  {
   "cell_type": "code",
   "execution_count": null,
   "id": "5e2e6141",
   "metadata": {},
   "outputs": [],
   "source": [
    "'''h=0\n",
    "for i,j,k in zip(filenames,y,sr):\n",
    "    print(str(h)+i)\n",
    "    IPython.display.display(Audio(data=i, rate=j))\n",
    "    h+=1\n",
    "'''"
   ]
  },
  {
   "cell_type": "code",
   "execution_count": 46,
   "id": "871fdfb1",
   "metadata": {
    "scrolled": true
   },
   "outputs": [
    {
     "name": "stdout",
     "output_type": "stream",
     "text": [
      "0 OK: DUB_Artane_M_20\n",
      "1 OK: DUB_Artane_M_20_(2)\n",
      "2 OK: DUB_Artane_M_20_(3)\n",
      "3 OK: DUB_Ballinteer_F_20\n",
      "4 OK: DUB_Ballinteer_F_20_(2)\n",
      "5 OK: DUB_Ballinteer_F_20_(3)\n",
      "6 OK: DUB_Ballinteer_M_25\n",
      "7 OK: DUB_Beaumont_M_35\n",
      "8 OK: DUB_Blackrock_F_20\n",
      "9 OK: DUB_Blanchard_F_20\n",
      "10 OK: DUB_Blanchard_F_20_(2)\n",
      "11 OK: DUB_Blanchard_F_20_(3)\n",
      "12 OK: DUB_Blanchard_F_20_(4)\n",
      "13 OK: DUB_Blanchard_F_20_(5)\n",
      "14 OK: DUB_Blanchard_M_20\n",
      "15 OK: DUB_Blanchard_M_20_(2)\n",
      "16 OK: DUB_Blanchard_M_20_(3)\n",
      "17 OK: DUB_Blanchard_M_20_(4)\n",
      "18 OK: DUB_Bray_F_20\n",
      "19 OK: DUB_Bray_F_20_(2)\n",
      "20 OK: DUB_Bray_F_35\n",
      "21 OK: DUB_Bray_M_20\n",
      "22 OK: DUB_Bray_M_20_(2)\n",
      "23 OK: DUB_Bray_M_20_(3)\n",
      "24 OK: DUB_Bray_M_20_(4)\n",
      "25 OK: DUB_Cabinteely_F_20\n",
      "26 OK: DUB_Cabinteely_F_20_(2)\n",
      "27 OK: DUB_Cabinteely_F_20_(3)\n",
      "28 OK: DUB_Cabinteely_M_20\n",
      "29 OK: DUB_Cabra_F_20\n",
      "30 OK: DUB_Cabra_M_20\n",
      "31 OK: DUB_Castleknock_F_20\n",
      "32 OK: DUB_Castleknock_M_20\n",
      "33 OK: DUB_Castleknock_M_20_(2)\n",
      "34 OK: DUB_Castleknock_M_20_(3)\n",
      "35 OK: DUB_Churchtown_F_20\n",
      "36 OK: DUB_Churchtown_F_20_(2)\n",
      "37 OK: DUB_Churchtown_F_20_(3)\n",
      "38 OK: DUB_Clondalkin_M_20\n",
      "39 OK: DUB_Clonskea_F_20\n",
      "40 OK: DUB_Clonskea_F_20_(2)\n",
      "41 OK: DUB_Clonskea_F_20_(3)\n",
      "42 OK: DUB_Clonskea_F_20_(4)\n",
      "43 OK: DUB_Clonskea_M_20\n",
      "44 OK: DUB_Clontarf_F_20\n",
      "45 OK: DUB_Clontarf_F_20_(2)\n",
      "46 OK: DUB_Clontarf_F_20_(3)\n",
      "47 OK: DUB_Clontarf_M_20\n",
      "48 OK: DUB_Clontarf_M_20_(2)\n",
      "49 OK: DUB_Clontarf_M_20_(3)\n",
      "50 OK: DUB_Crumlin_F_20\n",
      "51 OK: DUB_Dalkey_F_20\n",
      "52 OK: DUB_Dalkey_M_20\n",
      "53 OK: DUB_DeansGrange_F_20\n",
      "54 OK: DUB_DeansGrange_M_20\n",
      "55 OK: DUB_Donnybrook_F_20\n",
      "56 OK: DUB_Donnybrook_F_50\n",
      "57 OK: DUB_Dundrum_F_20\n",
      "58 OK: DUB_Dundrum_F_40\n",
      "59 OK: DUB_Dundrum_M_20\n",
      "60 OK: DUB_Dundrum_M_20_(2)\n",
      "61 OK: DUB_Dunleary_F_20\n",
      "62 OK: DUB_Dunleary_F_20_(2)\n",
      "63 OK: DUB_Dunleary_F_20_(3)\n",
      "64 OK: DUB_Dunleary_F_20_(4)\n",
      "65 OK: DUB_Dunleary_M_20\n",
      "66 OK: DUB_Dunleary_M_20_(2)\n",
      "67 OK: DUB_Dunleary_M_30\n",
      "68 OK: DUB_EastWall_M_20\n",
      "69 OK: DUB_Finglas_F_35\n",
      "70 OK: DUB_Finglas_M_25\n",
      "71 OK: DUB_Foxrock_M_20\n",
      "72 OK: DUB_Foxrock_M_20_(2)\n",
      "73 OK: DUB_Goatstown_F_20\n",
      "74 OK: DUB_Goatstown_M_20\n",
      "75 OK: DUB_HaroldsCross_M_20\n",
      "76 OK: DUB_Howth_F_20\n",
      "77 OK: DUB_Inchicore_F_20\n",
      "78 OK: DUB_Kilbarrack_M_25\n",
      "79 OK: DUB_Killiney_M_20\n",
      "80 OK: DUB_Killiney_M_20_(2)\n",
      "81 OK: DUB_Kilmainham_M_20_(2)\n",
      "82 OK: DUB_Kimmage_F_20\n",
      "83 OK: DUB_Knocklyon_F_20\n",
      "84 OK: DUB_Knocklyon_F_30_(2)\n",
      "85 OK: DUB_Knocklyon_M_20\n",
      "86 OK: DUB_Landsdowne_F_20\n",
      "87 OK: DUB_Lucan_F_20\n",
      "88 OK: DUB_Lucan_M_20\n",
      "89 OK: DUB_Lucan_M_20_(2)\n",
      "90 OK: DUB_Lucan_M_20_(3)\n",
      "91 OK: DUB_Malahide_F_20\n",
      "92 OK: DUB_Malahide_F_20_(2)\n",
      "93 OK: DUB_Malahide_F_20_(3)\n",
      "94 OK: DUB_Malahide_M_20\n",
      "95 OK: DUB_Monkstown_F_20\n",
      "96 OK: DUB_Monkstown_F_30\n",
      "97 OK: DUB_Monkstown_M_20\n",
      "98 OK: DUB_MountMerrion_F_20\n",
      "99 OK: DUB_MountMerrion_M_20\n",
      "100 OK: DUB_Portmarnock_F_20\n",
      "101 OK: DUB_Portmarnock_M_20\n",
      "102 OK: DUB_Raheny_F_20\n",
      "103 OK: DUB_Ranelagh_F_20\n",
      "104 OK: DUB_Ranelagh_M_20\n",
      "105 OK: DUB_Ranelagh_M_20_(2)\n",
      "106 OK: DUB_Ranelagh_M_20_(3)\n",
      "107 OK: DUB_Rathfarnham_F_20\n",
      "108 OK: DUB_Rathfarnham_F_20_(2)\n",
      "109 OK: DUB_Rathfarnham_F_20_(3)\n",
      "110 OK: DUB_Rathfarnham_M_20\n",
      "111 OK: DUB_Rathfarnham_M_20_(2)\n",
      "112 OK: DUB_Rathgar_F_20\n",
      "113 OK: DUB_Rathgar_F_20_(2)\n",
      "114 OK: DUB_Rathgar_F_20_(3)\n",
      "115 OK: DUB_Rathgar_F_20_(4)\n",
      "116 OK: DUB_Rathmines_F_50\n",
      "117 OK: DUB_Rathmines_M_20\n",
      "118 OK: DUB_Rathmines_M_20_(2)\n",
      "119 OK: DUB_Ringsend_M_45\n",
      "120 OK: DUB_Rush_M_15\n",
      "121 OK: DUB_Rush_M_20\n",
      "122 OK: DUB_Sallynoggin_F_20\n",
      "123 OK: DUB_Sandyford_F_20\n",
      "124 OK: DUB_Sandyford_F_20_(2)\n",
      "125 OK: DUB_Sandyford_F_20_(3)\n",
      "126 OK: DUB_Sandyford_M_20\n",
      "127 OK: DUB_Sandyford_M_20_(2)\n",
      "128 OK: DUB_Sandymount_M_20\n",
      "129 OK: DUB_Shankhill_F_20\n",
      "130 OK: DUB_Shankhill_F_20_(2)\n",
      "131 OK: DUB_Shankhill_F_20_(3)\n",
      "132 OK: DUB_Shankhill_M_20\n",
      "133 OK: DUB_Stillorgan_M_20\n",
      "134 OK: DUB_Sutton_F_20\n",
      "135 OK: DUB_Sutton_M_20\n",
      "136 OK: DUB_Swords_F_15\n",
      "137 OK: DUB_Swords_F_15_(2)\n",
      "138 OK: DUB_Swords_F_35\n",
      "139 OK: DUB_Swords_M_15\n",
      "140 OK: DUB_Swords_M_15_(2)\n",
      "141 OK: DUB_Tallaght_F_20\n",
      "142 OK: DUB_Tallaght_F_20_(2)\n",
      "143 OK: DUB_Tallaght_M_20\n",
      "144 OK: DUB_Tallaght_M_20_(2)\n",
      "145 OK: DUB_Tallaght_M_20_(3)\n",
      "146 OK: DUB_Tallaght_M_20_(4)\n",
      "147 OK: DUB_Tallaght_M_20_(5)\n",
      "148 OK: DUB_Tallaght_M_20_(6)\n",
      "149 OK: DUB_Tallaght_M_20_(7)\n",
      "150 OK: DUB_Tallaght_M_40\n",
      "151 OK: DUB_Templeogue_F_20\n",
      "152 OK: DUB_Templeogue_F_20_(2)\n",
      "153 OK: DUB_Templeogue_F_20_(3)\n",
      "154 OK: DUB_Templeogue_F_20_(4)\n",
      "155 OK: DUB_Templeogue_M_20\n",
      "156 OK: DUB_Templeogue_M_20_(2)\n",
      "157 OK: DUB_Terenure_F_20\n",
      "158 OK: DUB_Terenure_F_20_(2)\n",
      "159 OK: DUB_Terenure_F_20_(3)\n",
      "160 OK: DUB_Terenure_F_20_(4)\n",
      "161 OK: DUB_Terenure_M_20\n",
      "162 OK: DUB_Terenure_M_20_(2)\n",
      "163 OK: DUB_Terenure_M_30\n",
      "164 OK: DUB_Walkinstown_F_30\n",
      "165 OK: DUB_Walkinstown_M_20\n",
      "166 OK: DUB_Whitehall_F_20\n"
     ]
    }
   ],
   "source": [
    "#Check filenames are successfully converted to WAV\n",
    "h=-1\n",
    "for i,j,k in zip(y,sr,names):\n",
    "    h+=1\n",
    "    if len(i)==0: \n",
    "        print(\"Broken: \"+str(k))\n",
    "    else:\n",
    "        print(str(h)+\" OK: \"+str(k))\n",
    "        continue"
   ]
  },
  {
   "cell_type": "code",
   "execution_count": 47,
   "id": "40333001-e9a3-4c93-b653-d127bca55b2c",
   "metadata": {},
   "outputs": [],
   "source": [
    "samples=[]"
   ]
  },
  {
   "cell_type": "code",
   "execution_count": 48,
   "id": "fd4050ae-bde7-4b4b-a6b9-5c27005ca235",
   "metadata": {},
   "outputs": [
    {
     "data": {
      "text/plain": [
       "167"
      ]
     },
     "execution_count": 48,
     "metadata": {},
     "output_type": "execute_result"
    }
   ],
   "source": [
    "len(y)"
   ]
  },
  {
   "cell_type": "code",
   "execution_count": 49,
   "id": "dbb2019b-5612-45c4-bd0d-c3f2c4cf9848",
   "metadata": {},
   "outputs": [],
   "source": [
    "# Create samples from each recording file\n",
    "h=0\n",
    "for j in y:\n",
    "    \n",
    "    num_samples=math.floor(len(j)/(sr[h]*SAMPLE_LENGTH))\n",
    "    #print(h,names[h])\n",
    "    sample=[]\n",
    "    \n",
    "    for i in range(0,num_samples):\n",
    "        sample_start=i*sr[0]*SAMPLE_LENGTH\n",
    "        sample_end=(i+1)*sr[0]*SAMPLE_LENGTH \n",
    "        sample.append(j[sample_start:sample_end])\n",
    "        \n",
    "        #if len(sample.size==0: \n",
    "        #    sample=new_sample\n",
    "        #else: \n",
    "        #    sample=np.append(sample,[new_sample],axis=0)\n",
    "        #print(i,sample_start/sr[h],sample_end/sr[h])\n",
    "    h+=1\n",
    "    samples.append(sample)\n"
   ]
  },
  {
   "cell_type": "code",
   "execution_count": 50,
   "id": "0eb30e83-83b7-40ad-8f93-10269d48d530",
   "metadata": {},
   "outputs": [
    {
     "data": {
      "text/plain": [
       "167"
      ]
     },
     "execution_count": 50,
     "metadata": {},
     "output_type": "execute_result"
    }
   ],
   "source": [
    "len(samples)"
   ]
  },
  {
   "cell_type": "code",
   "execution_count": 51,
   "id": "93f5635f-8f17-4e3f-96fd-7168dcb8eaee",
   "metadata": {},
   "outputs": [
    {
     "data": {
      "text/plain": [
       "(22050,)"
      ]
     },
     "execution_count": 51,
     "metadata": {},
     "output_type": "execute_result"
    }
   ],
   "source": [
    "samples[0][0].shape"
   ]
  },
  {
   "cell_type": "code",
   "execution_count": 52,
   "id": "fe0ab7b3-d8a9-4d0f-b925-19f647f48229",
   "metadata": {},
   "outputs": [
    {
     "data": {
      "text/plain": [
       "<librosa.display.AdaptiveWaveplot at 0x2b13eff4cd0>"
      ]
     },
     "execution_count": 52,
     "metadata": {},
     "output_type": "execute_result"
    },
    {
     "data": {
      "image/png": "[encoded data removed]",
      "text/plain": [
       "<Figure size 1500x500 with 1 Axes>"
      ]
     },
     "metadata": {},
     "output_type": "display_data"
    }
   ],
   "source": [
    "plt.figure(figsize=(15, 5))\n",
    "librosa.display.waveshow(y=samples[0][0], sr=sr[0], label=names[0],color='b')"
   ]
  },
  {
   "cell_type": "code",
   "execution_count": 53,
   "id": "185d5c34-aa4e-4af9-a984-d1211bfaafc7",
   "metadata": {},
   "outputs": [
    {
     "data": {
      "text/plain": [
       "<librosa.display.AdaptiveWaveplot at 0x2b138c77130>"
      ]
     },
     "execution_count": 53,
     "metadata": {},
     "output_type": "execute_result"
    },
    {
     "data": {
      "image/png": "[encoded data removed]",
      "text/plain": [
       "<Figure size 1500x500 with 1 Axes>"
      ]
     },
     "metadata": {},
     "output_type": "display_data"
    }
   ],
   "source": [
    "plt.figure(figsize=(15, 5))\n",
    "librosa.display.waveshow(y=y[0][0:22050], sr=sr[0], label=names[0],color='b')"
   ]
  },
  {
   "cell_type": "code",
   "execution_count": 54,
   "id": "ac37eb94-ad56-4c0b-9429-1a1f6c1e2b7a",
   "metadata": {},
   "outputs": [
    {
     "name": "stdout",
     "output_type": "stream",
     "text": [
      "DUB_Artane_M_20\n"
     ]
    },
    {
     "data": {
      "text/html": [
       "\n",
       "                <audio  controls=\"controls\" >\n",
       "                    <source src=\"data:audio/wav;base64,UklGRmisAABXQVZFZm10IBAAAAABAAEAIlYAAESsAAACABAAZGF0YUSsAAAAAAAAAAAAAAAAAAAAAAAAAAAAAAAAAAAAAAAAAAAAAAAAAAAAAAAAAAAAAAAAAAAAAAAAAAAAAAAAAAAAAAAAAAAAAAAAAAAAAAAAAAAAAAAAAAAAAAAAAAAAAAAAAAAAAAAAAAAAAAAAAAAAAAAAAAAAAAAAAAAAAAAAAAAAAAAAAAAAAAAAAAAAAAAAAAAAAAAAAAAAAAAAAAAAAAAAAAAAAAAAAAAAAAAAAAAAAAAAAAAAAAAAAAAAAAAAAAAAAAAAAAAAAAAAAAAAAAAAAAAAAAAAAAAAAAAAAAAAAAAAAAAAAAAAAAAAAAAAAAAAAAAAAAAAAAAAAAAAAAAAAAAAAAAAAAAAAAAAAAAAAAAAAAAAAAAAAAAAAAAAAAAAAAAAAAAAAAAAAAAAAAAAAAAAAAAAAAAAAAAAAAAAAAAAAAAAAAAAAAAAAAAAAAAAAAAAAAAAAAAAAAAAAAAAAAAAAAAAAAAAAAAAAAAAAAAAAAAAAAAAAAAAAAAAAAAAAAAAAAAAAAAAAAAAAAAAAAAAAAAAAAAAAAAAAAAAAAAAAAAAAAAAAAAAAAAAAAAAAAAAAAAAAAAAAAAAAAAAAAAAAAAAAAAAAAAAAAAAAAAAAAAAAAAAAAAAAAAAAAAAAAAAAAAAAAAAAAAAAAAAAAAAAAAAAAAAAAAAAAAAAAAAAAAAAAAAAAAAAAAAAAAAAAAAAAAAAAAAAAAAAAAAAAAAAAAAAAAAAAAAAAAAAAAAAAAAAAAAAAAAAAAAAAAAAAAAAAAAAAAAAAAAAAAAAAAAAAAAAAAAAAAAAAAAAAAAAAAAAAAAAAAAAAAAAAAAAAAAAAAAAAAAAAAAAAAAAAAAAAAAAAAAAAAAAAAAAAAAAAAAAAAAAAAAAAAAAAAAAAAAAAAAAAAAAAAAAAAAAAAAAAAAAAAAAAAAAAAAAAAAAAAAAAAAAAAAAAAAAAAAAAAAAAAAAAAAAAAAAAAAAAAAAAAAAAAAAAAAAAAAAAAAAAAAAAAAAAAAAAAAAAAAAAAAAAAAAAAAAAAAAAAAAAAAAAAAAAAAAAAAAAAAAAAAAAAAAAAAAAAAAAAAAAAAAAAAAAAAAAAAAAAAAAAAAAAAAAAAAAAAAAAAAAAAAAAAAAAAAAAAAAAAAAAAAAAAAAAAAAAAAAAAAAAAAAAAAAAAAAAAAAAAAAAAAAAAAAAAAAAAAAAAAAAAAAAAAAAAAAAAAAAAAAAAAAAAAAAAAAAAAAAAAAAAAAAAAAAAAAAAAAAAAAAAAAAAAAAAAAAAAAAAAAAAAAAAAAAAAAAAAAAAAAAAAAAAAAAAAAAAAAAAAAAAAAAAAAAAAAAAAAAAAAAAAAAAAAAAAAAAAAAAAAAAAAAAAAAAAAAAAAAAAAAAAAAAAAAAAAAAAAAAAAAAAAAAAAAAAAAAAAAAAAAAAAAAAAAAAAAAAAAAAAAAAAAAAAAAAAAAAAAAAAAAAAAAAAAAAAAAAAAAAAAAAAAAAAAAAAAAAAAAAAAAAAAAAAAAAAAAAAAAAAAAAAAAAAAAAAAAAAAAAAAAAAAAAAAAAAAAAAAAAAAAAAAAAAAAAAAAAAAAAAAAAAAAAAAAAAAAAAAAAAAAAAAAAAAAAAAAAAAAAAAAAAAAAAAAAAAAAAAAAAAAAAAAAAAAAAAAAAAAAAAAAAAAAAAAAAAAAAAAAAAAAAAAAAAAAAAAAAAAAAAAAAAAAAAAAAAAAAAAAAAAAAAAAAAAAAAAAAAAAAAAAAAAAAAAAAAAAAAAAAAAAAAAAAAAAAAAAAAAAAAAAAAAAAAAAAAAAAAAAAAAAAAAAAAAAAAAAAAAAAAAAAAAAAAAAAAAAAAAAAAAAAAAAAAAAAAAAAAAAAAAAAAAAAAAAAAAAAAAAAAAAAAAAAAAAAAAAAAAAAAAAAAAAAAAAAAAAAAAAAAAAAAAAAAAAAAAAAAAAAAAAAAAAAAAAAAAAAAAAAAAAAAAAAAAAAAAAAAAAAAAAAAAAAAAAAAAAAAAAAAAAAAAAAAAAAAAAAAAAAAAAAAAAAAAAAAAAAAAAAAAAAAAAAAAAAAAAAAAAAAAAAAAAAAAAAAAAAAAAAAAAAAAAAAAAAAAAAAAAAAAAAAAAAAAAAAAAAAAAAAAAAAAAAAAAAAAAAAAAAAAAAAAAAAAAAAAAAAAAAAAAAAAAAAAAAAAAAAAAAAAAAAAAAAAAAAAAAAAAAAAAAAAAAAAAAAAAAAAAAAAAAAAAAAAAAAAAAAAAAAAAAAAAAAAAAAAAAAAAAAAAAAAAAAAAAAAAAAAAAAAAAAAAAAAAAAAAAAAAAAAAAAAAAAAAAAAAAAAAAAAAAAAAAAAAAAAAAAAAAAAAAAAAAAAAAAAAAAAAAAAAAAAAAAAAAAAAAAAAAAAAAAAAAAAAAAAAAAAAAAAAAAAAAAAAAAAAAAAAAAAAAAAAAAAAAAAAAAAAAAAAAAAAAAAAAAAAAAAAAAAAAAAAAAAAAAAAAAAAAAAAAAAAAAAAAAAAAAAAAAAAAAAAAAAAAAAAAAAAAAAAAAAAAAAAAAAAAAAAAAAAAAAAAAAAAAAAAAAAAAAAAAAAAAAAAAAAAAAAAAAAAAAAAAAAAAAAAAAAAAAAAAAAAAAAAAAAAAAAAAAAAAAAAAAAAAAAAAAAAAAAAAAAAAAAAAAAAAAAAAAAAAAAAAAAAAAAAAAAAAAAAAAAAAAAAAAAAAAAAAAAAAAAAAAAAAAAAAAAAAAAAAAAAAAAAAAAAAAAAAAAAAAAAAAAAAAAAAAAAAAAAAAAAAAAAAAAAAAAAAAAAAAAAAAAAAAAAAAAAAAAAAAAAAAAAAAAAAAAAAAAAAAAAAAAAAAAAAAAAAAAAAAAAAAAAAAAAAAAAAAAAAAAAAAAAAAAAAAAAAAAAAAAAAAAAAAAAAAAAAAAAAAAAAAAAAAAAAAAAAAAAAAAAAAAAAAAAAAAAAAAAAAAAAAAAAAAAAAAAAAAAAAAAAAAAAAAAAAAAAAAAAAAAAAAAAAAAAAAAAAAAAAAAAAAAAAAAAAAAAAAAAAAAAAAAAAAAAAAAAAAAAAAAAAAAAAAAAAAAAAAAAAAAAAAAAAAAAAAAAAAAAAAAAAAAAAAAAAAAAAAAAAAAAAAAAAAAAAAAAAAAAAAAAAAAAAAAAAAAAA////////AAAAAAAAAAD+/////v/+/wAA//8AAAAAAAABAAIAAgAEAAUABAADAAIAAQAAAAAAAQAAAP7//P/3//f/9//6//r/+//6//r/+//+/wEABAAJAAgABwAIAAkADAAOAA8ACwAKAAYABAAEAAUABwABAAEA/f/7//3//v8AAAAA///7//n/+v/9/wEAAgAAAPr/9//3//X/+f/9//r/+f/2//L/9//7/wMABQALAAwABwALAAsAGwAlACoAJgAgABcADwAPABQAGQAWAA4AAwD9//j/+v/2/wQABADr/+r/8P8BABMAGgARAAgAIAAeAA8ALAAmAB0AJQAdABwA/v/x//X/AAAIABkAGQADAPL/6/8EABUACADz/93/4P8BABEAAAD7/wMAKgAvADEALgAGAA0A5f/b/+r/DwARAAwABAD4//T/5f8OAC8AGwDt/8j/pP/D/+T/CAAMAOn/8f/h/8T/s//n/zIAOwASAMv/wf/N/xMASgBKACsAHAAfACIAEwACAP3/6f/f/9H//P8+ADkADwAHABoAKwD5/93/5P8CAEEAGABKAO3/fgCdA9kDfASdBhoHIQfxBUsEEwLXAGgBVwJtAgACdALtA34FVwTR/3b7Hvmz+Nj4P/dQ9HnzD/at+vf/qgLf/0v3zu4U7W7yO/umAd8EawfaCcMJQAXS/8n8g/1QAtYHGAmtBZcC5wKuBn0LHgsbBdf/7wAnCPsN0AvAAqT6l/tGBBgMPQ5dCcoAsfsp/K//JwAi/AP5APrd/lIDZgNc/u34M/nk/u4DvwEB+oXxrPA2/PAI+wpYAWf2A/PU80L0HfTp81v2P/7/BgsKbQZv/Zj0xPG59ZH7+fzm+yn+pgT+CuwLDgat/Vj5p/zFAsQEGwEt/H/7IACwBSkHVgSiAXgBzwD7/Xf6BvfJ87P09PvlBf0KvAk/A6L5sPPa89f3RPwX/mr+2f+8Aj4HPQpECFABSvha8c7xOvohBQEKHgetA1ICpv/j+5n6rv1nBR4NWg3KBd/9XPq9+44ArAIA/8768vxJBZQMYgweBKv57fSW+Iv/vAZACcwFwgLkBHQI1wh7BbcAg/+oAqMGgAagAgH+xfw9AB0GDwmNBhACvQAdA7QDm/7x9MTsNeyP9B4B5AhnB/4AbPzV+538jvuY+W36tP5wBBAHPwZpBOsDtQUjCI0IiARm/FP3J/qjAMoGjQk6CD4EQP94+bf1S/aT/HAEBwdfBHv/lPsr+1f9kv26+Qr0SfMa+RcBLwW+ATj5DfQG9gf7E/4m/if92vwm/y8B4f9m/P/6G/4eBGAI7AZ3AKH6Y/Zl9f/47P48A9MCxwCD/zgAIQJHAaj9WfvW+sT58/fE+UX9JP8M/xf+xf7nAOQBJgDZ/Sn+GwDJ//b9Lf5eASMGdQkVCJsEfwHoAPMCNwYOCfYI1gUJAaT9SP5JAAH/LPoE95D7OgVhDAcK+gBM+4T9/QLzBHoB7/vl+X/9twIRBHoAb/rg9mP5fACyBFQBPPp/9k/59f+ABMwDUgGLAl0HPAq1BxgB5vrE+Gj6Avz5+uv4RfnS/GoAIACW+2r2sfRj9yb7svsg+VT4pfzLBPcMQRCVC1ACe/u8+Zz6Jfvv+Qn5vP13CB0RchAPCIX+U/li+qn+IQF7APX+IP6G/gUBzARMBm4Dtf6o+5X6afpf+9b9kQFYBVYFA/+c95322fph/Tf7J/ae8vb14v/iCMELiAkfBCj+Xfxn/0UCFQKyAIMAhAJXBVsF3AGv/4kCVwduCFUEvP5I/Dr++QF1BPAEgwQUBE8D3wFhAJj/hf/j/9wAGQJ3AiQCdgK/AocAUPvU9cnzb/cq/2gEhwIW/f75mfqr/ecAswD//Of64fxbAMsDnAXnAhn+wvzx/jkBlQLUAYH9Zfl9+cz9YQWmDcUQ4QtyAyz9wvtc/ocBkANzBl0LpQ/+Dx8LeQNS/vL9Nv+T/q77zfdD9gH6cwDhA4sC0P5y+077Wf6BAN7+SfxX/Aj+v//GAJIAhAA6A68G3AVTAF36Tff0+J/+egN2A24AvP5a/o/9b/ta96ryA/K09jL8+P7Y/5L/vf+oApEFxQPK/m77pPvHABEJ9A6iD50NVQrMBQkBmvx8+fb51P7UBGYIeweMAtr9SP2VAFEEcQTQ/1H6vfhN+9D+jAAhAK7/EQHBAmcBLvz19g/2ufp4AtYHuQax/3z4lvWI97n7tP4k/g/8r/xQAOcEmwgxCuUIUwbVA5QBdP9T/t/9HP3c/Gj/LgS9CMEK4QdIATf8vvxSAGcDNwTaAk0CIQUBCIwGEwHm+pT3W/nU/dv/+v7c/F/7n/sg/JT6iPff9br2jfkw/Gr87vod+/D9DAFHAqwARf7m/mADtQf4B54E1QBaAGUDIAZPBPv+uPtH/fkB2gSgA6z/7/4nBC8JXQhsAZj5LvcZ/FwDRAZkBRUFswYMCWUIzwP3/iP+VQESBRkGhQU2BkwJKQzRCZQBMvcZ8eLyIvkf/sf+XvwE/E3/bgMsBMX+ZfaX8VDyc/as+ZP6uPr3/UUFGwlSBlr/DfoI/B8EmwkIBnr9Dfnp/E0GsAwJCSX+4fUh9qf9kwYvCkoH3QDu/OX75vzO/kz/B/8b/6kB5wR8BWMBIvqw9Ob2e/8YBhAHHAJJ/Kv7OADGAjr/Xvm492n9BgXnBur/W/er9kj+9ApdEx0QDQZ8+7P4m/6OBzsO+Q4XCiIDR/8X/+4AEQHX/jL+rP/XAW0ChQDy/QP9xPxm/Lj7v/uC/qsD/Ai1CVAHNwN3/637Z/kL+8QC7gwwEe0J4flY77Lurfi2A0AFsP4R+Mf1WPdP+gH75vpP/UEBVQFU/bj46Pe8/CEEdwgCCOQEvQKdAdAC1gS4BMMDSgOwBA4GFQdRBs8DEAFU/rH7bvqO/I8AUAbvCpkItP5+9Fvygfl9A4cHkAEj9x7ySPT5+/ACNQUnBP0DLQaJBZEAJvnk9MD2a/xrAm4Gcwf4BkoGXwSLAKv7Nvgt+D37bv+9AMX/nP9vAAcB8AADAE3+Df4r/+UAywH9AZ0BOgBp/t/9gv7TAG4F2gemBnADWAHcAfkCFwLs/3j/ngGAA1QDqwFA/9P+0P+eAAP/Zvvp+M/5xP7dArED+gJfAab9GPk4+H385gILB48HmAU6AyQB0wCiAmUE2gODAar+sfsF+2T8kAAFAxf/Ufd18+n25/u7/bT9TP5T/hb/c/9i/Yb7gfrk+3z+fwCmAUYBaQRIBVkBtv3x/YAALgExAEgAKATKCfwMBQpjBJb/Gv2U/gAAtPxq+T37WADZAuEA5PvA+Ub9EwJoAiH+aPpp+SX+FwcCDZAK8wQGAXYAEQPeBVwFawNVBGQHLQpQCdQDEP0K+zz/mwNXAbr6MvSY9K77qQFpAs79b/nx96z4Pfkx9+322/o5AZYG5AUuAdT8cv1iALkAef2o+eT3Nfrn/qIBtQHZAOUCxgY5CQoGtf4f+Bj3W/kc/Kv96f4OA7MI3wyQChMCRfhZ8zv0qvcY+oL82gBSBNsFfgPp/lv7JvpO/Nj9dv7S/5IBjANpBDYD3wEFAoQCQwGB/oP8yfww/vIA7wOHBNMDugKrATT/H/yZ95nzFPJB9Ub+IwiWDLYHSf5o97D3Gvw2AFABdv+4/g8AFQJpBOoERQXUBgQH7AJn/Gz4UvfQ+KD8wAKtBx8KDghHApH7Ovi89y/3+vfc+Cb8AANyCigMtAdbAvL+R/xw+rX4ePmZ/ZkCTwQ1ACv7ufiz+lT/CAH1/I35ovoMAIgFOAbVAcj6bfc8+aj9ZAHaAY3/Of6yAG0ErAWXBAIC9P9TAAEB3f4i+RX1qPVy+cH9Lv/9/v8ACgbHCuQICQGP+HL0Qfn2AMsFuwQ3AbUBggVkCi4L5QU2/nn5oPsjAlAImgmXBi4CGv6O/GL6avgo+E/72AL7CSANxwkAAtT8fv1nAlMHJggeA9z6XvWB9Wr6fgDlA5YCMP2H+E33lPnq/jgDYASqAUf+j/xd/FX9hP31+mP4nPlq/twEyQc5Bp8BKv8iA/wJ2g08DPoFPP/e/Cb/rADU/0/9PPzM/mYCJAVGAgv9tPqk/AQB9wPCAin9dvhr+Pr6Jf58/4v/HQCoAsIGVwcNA3L8q/c3+EL/Ugj2DGoLogbAAV0A4wJ/BvkHfgZLA13/5fww/MP8BP2//RYA6gG+AisBo/wD+AH29vcy/Gj/hv/p/I377P5YBZsJyAfpANT6EvtIAaEI/Qo3Bw0BKf36/t8BYAGJ+1/07/MK/I8IeRBxEEAL0AWUAmH/jvhZ78XoCurH84wAWwm7Ce8D6v0k+6D5FPf78y/zhfj5Am8Lrwy2BQb8P/bH98f+kgRhA+T97flV+1YDrwveDRUJmAEJ/Un9DQHcAyYCg/0l+l/85gAUBgMGrgAO/OP7PAH8BE0DYPsu9LP0LP07BYEEDvzz87fzdvxLBsIH5f9I9g7zE/ntAg0IbwQX/G75Hv6kBE0FmP2e9GDzF/xpBhAInAGO+Xv3/PxcA2cD//0v+8EAvwuJE80R4Aao/CX8YgRdDJcNmAZF/nH9ewQdDNELmQTE/QX+VQVMC9UIhv+g+Bb6JQJUCf8JtgMn/nQA1wd0DEAHqPkX7kXuuPk9Bo4I9ACE9s/wVfPC+XL7A/d28K7u/fVaAi8LXQvaB0UHCgvNDOcHZP6Q9y37MAUQDkYOMAVG+lX0p/ndAwILsgkNArr7sfpR/pQBggNlBEIEuwLZ/tH6D/ld+g//HgPMA1kAcvsQ+r79KAKTAHT6YvYt+W8B9AWhApz7SfeS+N37qPzN+dn2lPdZ/QcFYwfXAkv7cPgAANAKzg9sChb/CPgf+lkBFAfUBocAs/tp+zj+gwA7/yT9oP+qBqAMCQzgBRYAKf2w/b3/CwJjBRUImweFBK4BYv8//cL7CfyB/rcBpAJGAXcB2QF6AAz9svqt/L8AQwKX/mX62/vhAXsGegd6BIz/ev1T/RP92vyK+lD3svYd+sz+pACWAJECowfWDNwLbwLG+Ab2Vvv0A2QJPAr2CVsMkRDcEn0OeAPT9+byafebAB4IjgilBO0BcgFRAVn+lPli9mX5lQB9BJcC8P2q+//+sAPDAkz8MvYR9ZP4Pf1WAJ8B/wJjBM0DRQF5/WP47fN69Cf5c/9jAwEDdALwBeoJ0wca/yr2M/aM/+8JeAxgBuX+k/xD/0sCIwIW/f73Gfd2+7oDyAhkB8wAW/uU+3YBjwaIBhgDW/9L/gP/X//T/fr8VP3P/X39zPth+dv3cviz+mP97f5b/03/zgDkBPoHNgifBBD+jffm84r0ifpcA4QJ5AkFBUoAff+qAdkC/f+1+pf2lfUf+R7/kQWvCDAHkQKi/f77Gfx+/Bz90/48AUQCeP9v+oH4o/tMAi4HrwVxACz8vfqx+5L8avuC+uH7pf7MAKwBywAo/7X9jf7dAVwFGAi2Bj0CnP8nAHsBSwLNAnoDXwXTB+QHlAaMBskGzgSK/5D5TvYi+KP9/wBZAF/9FPty/DD/bADf/W/4M/Wu9e75kv+gBIkIWApFCnAH5ALk/fH6F/v+/fgBVQOWAfD+CQCDBAYI2Ab2/6n5uflM/3UEOQRW/l33svSe9hb6WfwP/NL6S/oO/Ej/DALpAjX/fvnD9c32Gf1TBMEHBgbIAU3/WADtA7kHfQl1CG8HdQcxCP4I8AbFAbn9uv5bBEQLnw1qCf0Cmv9W/8v+zvqc9D7yk/aV/wkG7gVcAt/+qQBKBscK7wosBigAmvyl/U8BCgMrATb+Vfx5/TEAJAEuAP3/h/9l/bX4Y/IB8Cb0Xv3sAzsEp//H+Qb5NfzA/zwA2f0Q++H6s/3gATYF1AUrBnwF/wV8B0UHDQW7AQb+hPs3+sf3qfUY94b99AQzCccFzPv08vzvV/HJ9IL4LvtZ/iUCywSBBHACoP8z/JP5KfqC/EH+vP6o/H/6yfu7ANYDpAPgAFP+BgDXBKQI7geyA6D+tfwT/rAB8wPwArn/+PwH/U//zwBL/oT5Dvd/+gABYwT3/4b33PJF91kCOAuWC0sFkv69/TkD2gnBC48Gov+a+7z+1ga6DKUMLgj1BBAGAgm7CbIFHgDL/2IECApTDHAJ1QToAcMBvwHq//b9DP4jAQgGBwocCz8JbQaFA5cAFP7U+hn3BPT886j3yvw3/1D9bPoU++j/mAQsAUT3fu/C7jz4+QLjCEwKzwnMCZ4JIweVApL+jfts+qz6e/0BAi4F6gT2AXr+pPyf/kEBNwKlAUf+tfiL9IX1SPmi/n8BUf8y+xT54/tfAbcGoAj3BSMBvP6q/hAAOgAh/4T+Iv65/jH+Z/1K/gQBIAQ/BUcD1wB8/pf8xf3h/8MAWf9Q/Jf6RP51BsEKFAcd/Vrzg+5N8Gv20fzSAm0GFAbcAq4AYQBwAJz/W/1c/Fn+8wFUBEUE+QIVACL90vu+/e8CSwgZCRYEpv0A+Qf4b/n5+tn7aP3B/94CXQXdBLIBgP3D+kv7Hf09/gX/+v88Acz/E/vZ9nj3Df2QA54FJAPVABgAU/8s/jP9y/8dBAsG2QPb/rr8wf31/zIAhP6f+/L5h/pL/ikFMwo2CugFMwF6AKIDfAUsBVQECATnAwkBE/zC+Gj5n/0AAIz/bv0P/Jb9VwHkBCUEsv/y+bn2hfmK/40CSQGl/kf8e/mZ9YbxBvKw+QoDKwa3ABH6Ffl1/xkIuwo5Bkn9Vffb9hb7CAA9Aa0AsgHbBTAJ/AZj/kX5Yf0ZB1ANhAms/3z6L/9CB+8J7gTE/d75eftl/pv+4vs8+539TwEVAsX7H/Kl6/fvfvw7CdENEwhw/yf7nPyn/0f/HvtT+BP7NAKACPwKLgnTBnoHQwqdCi0GU//t+Rn6GP/AAzcEaAAg/Mr6evwwAW8FPgcJBmIC5v6g/dT/RwO1BJIDTwH2/xQAZAG0AukCmAMoBJEDxgFC/zD9HP3h/ooBrAQnBjsFLwGz+uD2bPfP+zb/o/11+Sz21PaI+h/9lP1I/sD/xQE5A+EDSQTUBEkFXQToAhMCJAFRAK8A4AKCBaQHQwe5BHUCLwF4AUUDygc3DEQNEwk4Ab76QvoQ/kYB7gEjAIT/GQGbA5QDiAHk/xABxAWuCToJfwMP/dj60vzn/0kAsP2y/fIBMQZkBmgBgPsg+lf94P8v/1D9g/01ARUFfwY5BGsAx/w7+d/1WvNX8wX1fPnf/RQA2f73+gL58/vwAukGbgTb/Nj3O/o4ATkG8QXxA0IEwwe4Co0J4AT8AD7/4P8iAUwChAMhBKcDfgIxAUj/Cv57+yr4Dvcg+Br7BP9GAZAAA/+g/sz/kgEJAX79UfmM+Nb78f8KAnYBzQAhAYQBAACQ/Nr64fwPAGkB0v4R+hD4+foFAtoHXggvAwn7Hfas9138O/9M/7n97P2w//3+APrV9I71evtAAnwEZQFw/jr/ygFeAgcA/Pzf/Kf/8AG1ARX/sfwh/Fr/kgM4BisG+QFV/Iv4Y/iS+dX7BP6N/7IBcwMeBGUCNv8Q+xn3GffA+3ED6Ac7B3MAbvml+Ib9MwSXBk0EMf/t/VoCIglhC8wHPP/3+DT6xv6wAej9T/YG8Qjz3vqUAw8IlAhgBp4EGgQtBOQCDf9n+lz3t/l1/ygFcgVAAar7Y/ll+kv7nvoc+Mv2u/iF/tIDGgfoBZAAovpq+ED6Hf5+AVUCzwH1AdUDngQRBH8DsQPhBDUHMAhdBhgEXAIWAc0BFQOvA4cC7ADP/jX9U/2t/Uj+rv7A/z4BywOYBggJmQmhB3cEqgFlAJQA1QCPAH//cAAoAvICogKF/7n7vvjo9xH4kPjf+Xr8NwDXBCQHfgXXAdv+pv50ACMBGv5V+qD4EvuQATcH/gnRCs4K7AojCm8H4QKg/uT8xv00/2b/Kf9z/rb+MABYAQkBnv9X/vX8Qvsg+jD6i/rK/Lr+ef36+h352Pmz/dcC0Qa0B7gGjwXXAz4CJADz/cP78/mg+bT6Vf6ZA+sIjQpIBiD/Z/js9Qj68v+VAvsAzvxN+t37lwBBAx8CC/+P+3/6d/up+/X6rfuy/U0BXwXEBoQGkAXCBHkDFQE8/gD7CvlJ+RT7+v63A+oHoQooCvMHbwWsAhP/lvsI+ZD53v6OBlELowqSBEr8ivYB9aP3qfon/ST+Bv5X/iD+jv4e/1n/MwDdAMv/CP7j/cT/wQP6BpsGQALe/MX7efwY/G75fvQV8334tAK+CvoLXwnGBbgDHAJL/XX1xO4J8GL3NAB6BdIEbAAW/W/9Kf+eAGUB9AGvAs8FQwiPCaIIfQZVBbQEswKF/nz3SvF+8Ef1C/1CAusE/QQqBqYIlQowCcQEVQDk/ej8RP3X/BL7efrt+hn+7AE9BRMGxgNbAKX+R/8IAOP+/vtg+aX5NPz6/CT6f/Z69qf6av/f/j/5H/Tz9Af9owQ4BLr99Pbj9YT9CwfHChIIYAKP/YT9rQAcAyME3wM8BOUFLgfsBrEFywRMB5ULNw0ECvICzPwV/JoAUgUVB+oF7wOpA5UD2wFS/yX+LP8DAZgBDgCJ/2sB6QN8A/P+fPqg+SL+WARHBg8E1v+6/Y7+P/8j/xv9Ffsn/Fv+JgFcA9cCpACS/sX+HQJqB/YK8gltBX0ABv4f/wUCaASkBVsFJQSNAl4BCgHNAPr/wf0N/Hz8D/8AAlcDZAKCAX0CiQOHA8cBwf/x/kz/Tv+a/DL6v/mE+33+rQBqA+kEpAWcAxr9fvZW9bH5MP8FAkEAe/0AAKAHiQ0wDFIDr/g881H27P7gBZUGPgNz/sz7z/zA/tD+Tf34/XkB8QX3B58E4f3S+cv8dAMiB1QF9P6P+UP6RP+mAyAEdwHs/kn9Tv0K/tP83frg+Un5gfrM/c4ANgKrAbIAFAAvAGf///yP+lP88AEvB6wHlwHq+UD3KvsxAGkBtPyJ9/r2GPz8AekCZv/++ir6n/3oAbcCMQCq/TD+SwLmB9wKkAoKCbkHDQdQBYEAJPw7+2n+bwMpA0388PKi7nHxd/g+/cD83Pog+z/+IABz/iv70fvBAIwGqAfjAnD9Rf3GAkAHIQcJAjb8EvybARcHqwn2BwwEVwHYACoB1f+z/DT5vvZf9wX8+gAABvAInQgXBi0BzfsM+CH46vrv/TH+oPsu+S36FP85BHAGUgSF/xz7Lfma+eT7Ov9YArYEewX6BdYFGQRhALb6VfaN9RP63v9gA/8EMQWVBRIFJQLp+9X2CPhX/bACZASmAJ78NP06AQMFCgTH/kP5FPbX98f7lP5TAO8APgIfBMcGsAhrCAMHowU0BOACZQKqAe4B6QN1BTkFxwIMAHX+mP79/sf8Mfoz+Mj5O/2c/2v/Wvx5+cf2h/Rp8xr0s/dM/n0DIQSVAGf96fxKAYkHpAlIB3cCAQBKAvYH5Qy1C+8EHv7/+oT9rgIkBTsDSgBz/wQBygGp/nH5L/Zo+Hv+BAIcAF35o/NR8s30xPgI+wv9zgAjBj8K2QkFBQn+JvlK+U38YgGbBckIwgpRC8MKewnGCFQJaQomCfoEYP5/+Tj4Xfrl/D39Uv2h/n4BcQNPAC/46u/q7EnwmPbQ++z9MgDBA6wGGQZbAVT7MPgQ+nr9Sf7Z/J/7hv0HA3AHOAeHAib9gvnp+Gr6Tfub+1793gC9BKwGXgWeAkYBLAOyBqgJ3An9B7oFiAMCAhMAb/62/oMBfQQQBZsDewFOAGMAy/8T/e35evhb+vn9+QCvAPv9Bvz3+3r+EgJXBTEHDAc0BRAD0ALkAmkCNQFg/kP8PP1HAR8G4AgbB7ICXP6j/VD/gwGkAYP+Svp49935g/53AmQEJATBArwB3/9c/ST7RPoV/Kz+2/+L/jv8ifxeACkEogVVAyf/vv29/vgA1ALEAWD/6/6BAXcEugON/kf2S+5P7J/wGfgF/7IB//98/BL8Qf6sAnAIwwt6C8YHsQNwAH3+HP1k/Fv89f7XA5AIVwq6Bkn/CvpF+lX+rgNFBeED3gHWAYEDLwXvA9L+n/jd9Cr1oPZe96v32fbd9/v8iQN4CBUJPgU3AOT+0QBcBAQGoAQ3AU/+7P0GADcBZf8K/Uj7nPxjAN8EpggQC9ELpwvrCe0F+v/P+gX5+/mi/NH+If9S/3AAaACPAHcAJf7K+2X7FvzI/qEDcwmnDQ8OcQo7BIMAdACqAd0CtwEb/3v+bP/SAVAC2/6m+l34avgB+Tf4R/WU9Db3lfwnA9MEBgIQ/vb7Vf0IAKwANf+d/XP9/f75AH8CNQKoAVMBqAGgAWEAwv71/WT9nf0z/3kArwJuAykDmwEWAID/wf9TAV8CcQE9/wf+Ev5TAGAC2AOHA48CtwFJAcABIQG5/yz+qPxY/BL+kADBA9MEMQPJ/7f8L/us+vz6kPuj/Ir+OgALAdoAT/9V/or+Y/9GABIB9wGlAZ8AlP84/kb/mwH/AmkC4/8K/GL5Lvri/G7/Uv+Q/EP6HfstAJoGTwmJBpgAm/zU/EEBuQSrA57/5Ppy+Fb5Q/y6/h8AEgFJA7oG8AklCloGIACw+677C//iAtQDNAMyAtgCXwNwAaT9w/r3+tv95wDzAKj+jPzq/FP/VQLUAogBlv+a/jT/DACW/7D+dP4W/y0BSwHP/nv9e/9zBMsKrAzoB+MBy/7G/nMBNgOYAgECZAGJ/yn7xPaf9aX5+P/vAmkBWPyG+YP8TQLWBFoCzvwu+Gn6EwLwB0oH2P8Y94PyHvVG+13+3P9lAYoFRQpoC0oHQAFi/wsEkwshEAsO9AYW/035dfdK+ZD9TwEfBJUDVQBZ/eP6jvjK9hT2wPar+Vv+dQPiBlQHHAUkAFv6hfdL+I/7rf4WAa0B/gCvAXEC+wOOBwULWQs4B6cBlv1V/TwA8QDJ/c35K/ml/KQAEAHp/Jb3j/Zm+tsA6AUiB14FsQL1ATkDfgUvBk4F8AOcA+YD4QKh/0b6WPd8+AL7Nfz2+nX3PfZT+VT9wgCqAmUCdgHwASkCHQPMA/kCbQFy/7r/cQFnArACYQIqA5kGJQlrB0IBnPuP+TX85wDkAhECqQBfAfcCwAN7Ahb/ZftD+lb85P/zAo4DvQBJ/Nb5b/lH+l782v8RBDsIKgpGByMDeQF1A7gG8wdkBuEDWQOLA2UC1f7P+1P76vxf/rP9s/uj+jb76Pqc+cL3U/dX+Qv9GACUAvoD/gP+AmIBfgBkAN//F/3s+aP49/rV/mwBmwAw/6UAfgPfBJECH/0x+dn6r/+hBCgHEAeBBsIG+wYoBVABg/xN+dP5F/0xAEsAR/0o+vP6iP9DBMMEIgBV+pb3Zvmk/awBgQR2B4MKgwuKCfYEDQFeAAEEcgjYCb4HXwLP/az8A/9wAXQBS//t/Jj9LwHwAxsD7P69+ar2jPUe9ZH1ifag+Db66fg59uL01/dk/UsBwwCA/Af5vPkf/fH/sv+D/Tr8Sv7KAr4GDwhOByAGiwZ/CIkI9QUbAXT9UPwg/dn7sPdT9H723/5zCJsMwAYJ/dr1fvUU+1sBngQFBRwEbwNtBGoGjQiqCFoFJ/9r+nT6Vv7VAgkEbwFM/24BQQVGCFsIQAUxA0kDwgToBQ4G+gU+Ayf+hfj280H1W/v/AFgD9gCH/Yv7Wfp9+Tj4b/jW+6cAaAMtA8MBWAH8ASACgf9J+9H4Zfku/EH/ZwEHA7QEjgXPBTgF0QQhBQgFJQNq/7r7g/nI+eD8cABLArYBFP71+rv67v2yAY4BEv2c9//1nfkhACIFvQUABCkCcgAVAEwAPgDeAIwB9QCzAOYAJgHpAYsCMwO8BKUFWgRlAYD+rf6HAbMD2AEb/Sn50vgq/BL/gP4c/Fz6CvoU+8D7p/uD/JT/hgLIAzsDOgEDATYDbgWBBi8FJgNlAg8DtgP5AkMC0QEFA2wFfgcWB1AFHwMYAQ0BdwKsBLIEzgI6/qr4qfU59QH3xvgr+ZH3ZfXM9EH3c/vY/bf+N/6f/Wb+mQCxApoDdgOTAK38Ofpu+5H/PAMhBIEB0/6i/xADRwVRBKcBsf8WAB0ByQBV/rn6FPnX+NX5G/vH+sL5WfmS+vP8sv4q/m38g/sR/eoAOgQ+BRUDVf+t/MX8IgDpBAwI4ghICJwHQQc/Bj4E6wF3AcUCaQTCBHkE7QOcBIcFuwRmAhz+gvrS+Gb5dPoO+2z62vlk+rL6RPtv+2T9aQL9BkUIMQQC/dL3aPcJ/CoCfwYHCC4GggLH/1X+2f28/Pb6/vjU+HX7Tf88AwIG7wbkBR8DP/9H/MD58fjx+DL66/sg/ST+Bf89AogHaQxBDWoKAwXU/zr8Pfra+hz+LwPbBm4GoQJh/QD6Efo5/pwDCAbVBHEBbv8WAXYE4ASIAVf8BPjW9Tr11fN980v2DPpt/Gf87fvz/asBSgR1BJYCqAGxATgCuQJ/AZD+2/sW/Lr+ggFcAosAe/5J/8cCgASpAin+Vfl9+cr9JgJtBHkE2AOKAzkEGwW4A8X/wfvN+Wf8cQLmBmYHNwX1AhcCgwAn/qL7jPrS/LD/WAKzBFIFlgMY/yn7X/uJ/yMFgAe8BK0AU//lASsG8QfoBn0FLgaUB3EHXAXsAFr8qvnE+X/7sPsa+fD1y/bM+0gAXwBC/E34kPh9/LwA1wDd/OL4vPiI/Z8DHAfABYgBwPw3+sL7f/9yAgcDuAL2ApIE/AfkClkMLgqTA9P7mfcY+nf+zABI/+77ZvsX/n4Axf8+/Qz8r/1RAFYBUv/b+w766/pw/uICFwUwAqf7bPdB+Ob9NQQTBy0HHQczB/gFaAPaAJ7/VAD0ARIDPgM4Ap//lvxw+0r9BgFtArv/VPqI9ZP0rPcD/ScElwn0C7kLfgkQBygD5P4D+5v6Dfzs/D/7QffO9Jz2qP3uA7IE3/+D+jT7GAJgCrgOdgtHA7T7WflP/VoBHf9a+R71y/Z0/BwBewJAAhsEdwdqClUJxwXSApkC1wRCBwMHXQNk/Wf3C/YF+ar9pv/Y/jn+9P1G/l3+n/+kAaADdAXJBnoIvgncCM8D7f1e+nP6o/zO/Ir7qvq1/L0AWgPPA+wBVP/c/Xb/4AJ1BCEDBwDC/Rb9jP3C/Xj+o/+lAcsDgQQCAxQA3v65/5YCcgQ0Bf4D0gDO/Ff5Vfkd/YgC7QUPBSYA8foS+Bb5BvtB/WH/2P8o/wb+Ev4JAIIC4AMMBMAAb/u19kD1QvjE/EIABAJoAtsB+AFzAkwCrwDP/hX/tAFGBOcEKQQOAiH+7fqf+vz7bfzZ+T/3pvYv+S/+QwOdBWkEQQLOAsUGRwleBwEC6P4c/zoC2wULBlECEPzr+ar7p/0Q/V/7gvwOACQEjAX1BH0DJQJ1AUcBIQFy/yL++f4qARACzf86/Lf5dPn7+sD8Cv7RAHEEEwcxBhECMP6M+9r7Jf3u/g8BoQF0AMn9Gfx+/UAB2AUFCV0IPgTK/4X+PgGvBIgFcgId/oD8Sv2m/jX+svsl+DD18PQn9zj7M/93As0FwAnFDGEMuAhwA6P/i/7W/mP/qv/C/78A6AD2AG4A8/6z/aL7mvu6/uQD0gdMCNoGzgWxBnAHtQU7An3+3vzC/fL96fxp+8v8DwLMBwULNAnfBH0A+v3W/W3/gwBD/h/5KfVG9kD7QwB7APH8yPmj+Jb5DPv7/H4AaQRYB9kHsgVOAiP/5/3K/mgB+gOZAqz9Kflx+c3+1QPqAx//LPtY/NgAvwRgBV8D5gHbAjIFQgVVAUf8aPpd/GEAMgKSAJT+AP7IAGYEXgV6AmL9dfpR/KwBDwZAB7wFLgLw/sD9JP70/lX+6Pxh/Nr9ZgFZBJ8FxwRXAQ79E/tJ/QICIwQfAd/7F/i4+Df8FQB+A8oEBQSbAWr+Zf23/pMBegVKCOUHtQSAAXMA6gGrAlMAHvx3+S/57/kO+l/5U/gt98T1uvSN9pr6E/9KAvUEygatBz0H7QTbAsABzgG+AeoAg/9f/AP5Uvi/+S79vQBRAhkCcAFbAe0ChwYzCDQH9QIO/5L+GQGbAjwA7fsr94310fba+Y77G/yv+1b72P1DAuwGaAlzCM8E5QCN/84B/gQ1BpEElAGo/gX9XvxG/Pr83f6XAKYBvAJ/Ax4F4gawB/wGowVcBFgEOARJAe37YvcD98L5If1G/ez69PlZ+979JQCpAbwBBQHp/5v/bgALAbEAZP9v/mD+if7Q/Vj9af4+APIB3APhBI4ENwO9AJT+//yb+zT6M/p+/N//7wAVALz+fP2s/a39LP65/+QBTAPEAucBUALqAnUDEQNRATkBGAIOA9kCEwDJ/OD7lf3H/5D/Mfw2+XH6tf+/BTEKZAtcCkoIHwWaAeH+B/2h+336HvrR+63/YANSBIsC+P9Z/kT+Kv0B+8v6A/0gAeoCUgHk/T38zP0CANoBLgIZAb3/Cf+a/1cB0gIqA2ACDANbBVoHxQjDB0wE6ACX/Qv8Vv2Z/1EASf4I+6v4m/lP/nECHgMHATH+kP7IAaIEOQRiAfr/GgHwAncE/gQlBGsC1v5R+lX2IPXZ9sH6LAFMB7sJ/gZlAgAAWgHoA6YDyQBD/g/+IwDAAcEC0AIkAR7+hfrj+eH8nAGoBBgEBAG2/6QAcQI5A/wB8P/1/Uf9nf33/v0AZwKIAQT/sPuc+Qb5KfrC/JH/mAFhANj9vPs2+9v78PpZ9/XzDvQI95j7n/6e/r78vPqK+lH8c/8rArUCWQGqAEYC8wT/BfcCdv2e+fv5Zv0jAPD/sP75/nUCUAc+Cr4J2QXrAQsBYwOfBogH9ASSACb93fug+if5QPj/+BX7nf0VADsB7wEJAjMB2ADuAU8DrQPvAuYBFAHr/xX+h/tN+tf6mfs0+6D5hflB+9L9J//I/hX/+AFkBg8J8wfAAhH8K/eh9T33OPqs+1b62Pdj9/352v1BARIC6ALrBCUHxwg0COYHsAgMCboG3gJU//D9q/4M/n37xvlT+TX6Y/zU/sYCPwesCboHAAQVAUEAlP9v/Qn7KPrf++j8Rvv2+Fz4NfqJ/ssBnwMoBQgH6Qd+BoIETAOQBH4G4QW5A3IBdQAzAa0A5f3S+gr6DPxC/yYBkAHOAbAC4wSkBlQFAQJS/aH5cPpi/1IEgQTz/2f47fKo9Ar79v9oAqcClQGTAVEDvwSaBKIDqAFo/439K/xb+gv50/jH+TD86f7FAboElwddCooLDAkdBNr/BQCFBMEJxgrMBOT81vjX+PD4iPeH9Wb2NPwRAlIESQM7AzsH0AvZDR4LiQTM/zD9YfsP+3X7YfwY/ZT9afwc+kn5OPtV/98D/AXZA+P/Bf3b/YkBLAX5BakDdP/u+tr3hPZu9kb3wfiv+i79Vf8p/+H+MwC9AtkF8QZABt4EQgToA7MCyv+T/mr/of/u/Qf7Xfl8+if/nASfCAoKUghgBMABHAGAAnoDJALT/Zv4dvam9m74rvn0+FH3hPZZ+Fj9WASSCM0HTARSAHb/wQLBBwAKnwcEAkb8oPmD+vv9jQHVAnICBwKdATUB+wGcA5wFLgZGA8L+9vqq+Vf7xP8CBIEEhAHT/BX50/c3+Wb7Kv43AG0BewOHBXsG+AQEAiL/KP9pAgQFIQNR/vv6q/wmAKwAq/6E/Hb9pACkA6oDrwJjA5wFsQcnCKQGcANx/hv36PHo8ZH1Hvj898n3e/ms/Ev+Vf8hAeQCngPiAvEBnQL0BWYIogWuAIH9u/2IAL4BBwHk/ycA6wAGAuoDGQVXBWYFHQW9BHIGEgrdDCoL4wbUAiMBJAH6AH/+MflZ9F3z6fcy/hABtv/t/TL+xQC/AiwCHwBy/6sCTggQCxwI3wH0/cP+HgOlB+UHUgSgAsMDcgUnBvAEoQPgAuoC4gF6AIr+WPv0+Dr5PfqQ+ab3BvYk9kL2L/Xa9C725Pix/b0BTgKA/7T7PPm9+Kz6ff4EAxMH3AbnAQP+0/77A44JYwujBz8Cyf4F/0kD8gV4A3f+APwY/UEBmgRCAzX/+/p5+c36rv0TAA8BlQFVATgDkwdiCbgGDQGm/Fn9MwFVBKYF+AN1/9X6OPjw9wX5Ovt9/QP/7f96AQoEpQVLBJ//F/uH+TX6Ov04AtYE8wLG/9j+0QDZAyIFQAML/wH8tf3aAmkIHguMCZQFAQHT/X/9D/+0AHcAu/3k+ez1cPTt9gv8PwATAN/94/0JAGkDQwXLA2QB5v8ZANcAKgOeBGsD4AJiAjEBGAAbAEgAjP49+yf5gft6AfwGewegAiL81vfk+loCzAZJBDv9Bfni+s4AtwTYA73/KvzW/RgEMAoRDKMKeQdQA14A//75/jv+Qf2d/WH9ev0qACIE+QVuBFYD3QScBycJOwfbAjX9ufoJ/ocCAQPc/gP7+/mj+5P+xwD1ATUD2AZyCocJHwQgAEkBwQQKBvEAMvjP8R7zBfwNBBgFx/7p92n3tPw8AmMDa/+497jye/Sk+QH/VAN1BekE4gJaATcAR/56/Ob6l/mv+rf+2wLzAm7+Jvp6+mb/RwXaBeb+gPX08Kf0afwGAMb7BvWh9N3+Wg2iE8oPVAgTAtP/dgMaCl8JjgDT+QD5I/o4+7D8Cvx6+af3p/dR+fP8AAAA/dL6pwI9CJsEGQTABPL9p/kYAVIIRwRR/U76x/it+8IF/xB9E7oLiAR0A2YFzAWyA23/GPmA9RX3Tfsg/VP7vfkH+Cjz2vBd9sr8q/0R/Cv81Pon+LX4z/vI/hkB+QMVCPAHEQCn+fz6lP8SBLMHawfPAZn8+Pyn/lUApAP/AzUB+f+UAdYCgQBU/SX84vsG/dj8XvrB9s/0C/iQ/OAA8QNgBOICigLLAx4EbgJQ/4T+ff5A/qH80fpH+p/5kfq//HwB/ARpBJkDLwMRBBwH7ggSB60ExARNBUQDMgC7/qL+lf+S//n8pPq5+UL7Tv7b/Qr7e/nn+0UEGwtzDO4KlAcMBiEEEQB7+jT4Avuv/f7/sv4U+XPzZfQq+rkBpwfqBEb+UPv4Ad4McRKsDRsDPP3o+nb6Qfyu/aT8Jfy2/JD7R/xqAQEIYwsvCb0ErgKmAp4BXgIdBXsEFQRvBQ0F/wCQ+DHzgfbv/8AJlwu4BLn6HfQ09hL/NgvVETUOZgU2//7+dADh/zP9Ov7KAYgEjAU4BEEDdgRdB6EJDgr7B50FWAMoAgsB8wOsCHsAaPTm8DjwK/C3+OsDHAR3/gb5IvgeAcUIVwSR/Or7tP6X/gz94f0dBaAOBA63Ad726/Lj8v/13fpCAOkC3//z+00AoAWDAe35Nvcz+ykBWAPf/X35TP21/o75nfIv7kbwePQS9mr3k/m3/pICxAFS/ej2yPOY9Wz7GgIQBrkD1gDSBh8RNBUhEDAExPhN88byS/WB+cX/SwV3CZsLhgr1BnX+6fU78XPwq/O69v/4r/o6/msCLQLV/5f9vPtb+2r9CwG3AWEDJwZsBvAHZAlaB3IF4AWfBnUICwgdBP79dvp+/XUCgAZuCFUIkAegB40HJgRSASQDdAitCsUGxwB+/Bn+e/+y+nb1pPb2/MEAHQFN/Pv15vhEA/8NWRVYFsEQsQjC/yv8ZQHUB/QFJfxP9VT3DwCJAkH9YvrG+W758fWL8evyyvvhCIERLRDMBXL7oves9wb5MPYv85Xzw/kzBpwMTgvrAWHzFvDg/EwLIg86CRgAFPyfB80VuRT3C8cA+PVR83f4L/93BBIEE/369VTzv/bW+ir9ff3X/GH8/fuB/I78dP0S/nAAb/5W92/yJvSQ/PcF+wyeDOgDFvlV9Bf5kv+c/136q/OD8vX2Z/tq/V/+MP8x/TL5vveA+ZL+8QMaBXwCBAHLBIIKwAsPCBkEEwIbAIv/3/7h/eD/qwJYAir71PQ193oCZhCRF6cTJgyeB3kFAwQlA68DqwN3A2QCXQE3Au0D9gW6Bl8E0v1A91L2Wfr3Aw4L+glFBSQF8wriD10SvBGwE5gWrBPnCTv9qfb2943/zwMTAgEDOgdrC8YL4we9Adf9s/2s//sDtgdrBG77a/Up+d4CtQl8Cm0HfAMt/Hn1nfJl83z41P+zA3/+Jvbe84r3RvtU+k71uPKw9KD6nf8zATEB1f0F99jxhPJu9L30FPbL+Ar5cfj/+sYAdwRp/lHxWePE4PXubQGpChwHigL4/0/8Pftr+vb2OPXG+A/++f6G/UH7jvnz+iP9Dv3X96bzCvSa99IBsg/LGJUbHhndEGcBxvMl9t0FmhAqDTICl/q6/U0KeRiFHEUU7QTm9e/xAv/XErgcBhnNC4f94Pm1AHkI6Qk1BjYEnwMUAGv57fSN98/+bwSyBucH/wclBggBx/cm8jT2zf9NB14NmhOhFvkSnQn7/9j6Wf0jAjEDhf6C+Z/4lf3/ByASdRPuCML6ZPKx8uj4rgDrA2ICSAGqAcP+nPna+Jz5QPaF80/2FP2PA30HHQnkCGAI6gLz9+nwFu8F7zHtTer06xP0hfvM/X796Px1//QDSAX2/oH3iPZT+vL/lQFV+5/wduwS8o35Jf93/7L9Dv4kAGEBo//j/Cn88f2e/Lb2UfOr92v/9wIbAL/4dPLs8j36NAOwB/UHygYFCScRVRmFGRUQpwLj+9f9HgGgBP0FgAPVAF0BEQXZDCkWpxjyE+8LWwVQA8sEIwhRBPL2YOkF5JztDP+ADZ4U8RQSEgALhQBt+G736/p2/F766vrUA2MSMBziG/IRGwN9+Iz0ivZ1+Uz3NO/G6AHts/h9CDwU4hkFHFQUQQf2/Db4w/d+9/3zRfCF8Yf7Swb+B74E2AHN/qz7JQCzC9cSHgqe99Dro+2o9S/5y/gO9tHxwe3X7g31HfuO+pfveOPI3gTiE+xo+akEaAuXDJML7gypEMwSwAqC+vLpbd1o29jky/ZvBjkKzARO/DH3HPr8A4sJugXj/er3ovcI+XP8pgFaBFMEagHJACEDGARpA4UAHfvJ99n6SQMwC2oNxQlLBFsDsgUfCH8KMgwbDKEL6QsrDowSVBd8GQgVyQvRAjX/zwJ5C7YR+xImD+wFyf4g/N37pvzu/V8DzAwEE0cRmQvoBsIC4f6h+835C/un/uz/t/oM8j3uFvMj/ekEqAZOBB8A1Pu7+Mr37Pji+vv2iu7F6KnpLvNX/VACcQXQBQD9rO134xLn/fH8+ED7hv01AasCYQEA/pv5SPYV92EAIApqC7QGVf0b8nnr3eq87mf2JgDiCLsKmgTl+DPuvezD9Jn9SQEzAT4CGgdPCTAIWQawBPwDtwZ/Dc8WUh8wIewdNxdZDssHEAgzD0wYDxrAE4YMUgVl/cz3i/dC+z8AbAWQCo8KrQaoBFoEmQWCCRQL4QZvAdH8w/tq/Yj+5/2/+uz51vzw/03/Ivqe9db4IQLHCMAI0wNbBOwKYQ2dCDUAb/ks9fnwQe6G7t7w9/ao/QoB/P0P903zbvKN9Oz4vfvj+LPyg/IS+ngD/wW6/WDzmvDk9Fz3tvQS8KHt4e8P9PX2jvl3/nYFKQv1CigHqwIy/nP6zva79Q34kP5ZBocJ5wclAVn7VP3DBYIPhg4X/nrr6ucm+ksQ/xYSD8IA2/i7/nINORTXDEf8t+1m6wLyvvqv/Qz/YwG1AskBq/6T/bwCrwqgDO8GoP7l/Cv+9fkP8TzuFfVX/Gz/8AEvB68MRRLAGN8Z/xLmB+78QfaO9H/2bPnv/r4FugwKEJYLCwE5+Nj7lAlWE6oPlAMj9x/xY/L9+UcDbggNB5MEBAT8AZL79fHN7AXvvfwiDCESvg/EC2AL4w3bD08PSwp+BNADtQRuCHANsQ0YAibzKe3G8vH/rgcNBG38k/n5+sr9EgDIAK39ivrm+wQAeQLmABH9svcf80TzpfWP97j6u/wq+xf57/rg/Qr+uvnh8rjxmfg+AWUC/fq08jHtiexM7yHyrPPn9Yv5wfzW/nj+0PzU/DECiwc5B/cB8v5L/iD8KPho86jzc/h0/xoEKwOR/if+PARJDAMRLBHFDLUFLAKHBx4TERXeCyIAXfhu9jb4M/sUAKMLdxoGIXEcXg9fACH8yv/cBBoGsgKhAL4CAQlGD4wRbg7gBBv6yfPV8Tj0Lvd295T0g/PT9pP9SgWFCo0KYgXxADf+ofwL+Qz07PGc84X2T/iq+hf7c/oE+QL1bPO1+I4AXAM4/rL0yu6w9EoEXBHQEnMKgQY7C0AR6RApB+T6g/Z2/tULPhOODmIG7gP6Bf4GhAKf+yf5Ffg/9Y339AGgCxsPIBF5DRMD4Pc47ornkua16u/xVvmN/AsAjgQJBzsH+gbyBvoEfgB4//MFsgySDFIH7AH2/ev+lgCs+8jx0+rD7VX6zApNFUQVYw2+Agf7L/pX/ZAB9AQzBoMERf1j8wzsyOmb5kjkYOhL8o8AhQxPE0YUWxEcDWkJ6gYABJb/R/2g/3AA7vxi+K/znfE38zP1CPT+7/zul+9K85P5bwDYBLQFQQcvDFYVqRiZEsQIkgAC+8z9/AbECTgC2fVu7Knt8vqrC+MVFBUBDqwItwrLB6L73u/q5S/hzOhi+W0GAwvWBdT5WfL19XYApAm7C2kGxwD1A2cK4gxzCDEAzfzN/X3/fQHwAgEF3AhzCn8GYwC0+rbznfLD9ysElBzLLk4ooBfsCeL4t+eO38flovA08sLtS+1h9cMDcQyuB1P4VujK4BfbXtmp6sIEKxfHHHsWJA4UCSkIrgWZ/q76/v4k//X4t/m2Ap8K+QxrEdUXchTwCTIHxQ8NG1oXDQWz9Jry7f2tDG4TAA54CMMFmf4K9kfweumG5orrS/OW/I8IVA5NDOwI4wQU/brwKuzY9M7/fwFf/58B2gJbAWD9NvWm8R35FQO9BRcEsgSUBzYGov/I/ND73/vQAPsCfvpB7OThfuE+7Qr9KgbyBeP/qvr9/DUDEQMY+sztaeRc4Yrkseyj+DsHdRabH5UfQxg0EDIMlgmU/7fwS+xe9DIEPxOhHOofmR1gFpMJNP3a+RsCVA0dDKb9vvLr8D33ngS8EQkTWgvABz0HeweqByoGxgBQ+7H7p//hBEYLVhFBEmkJnPvT763sd/Pz+L33PPIJ7zb00/9LC1wO8QVw+ln0cfN39OT2oPhb9532QvpHADIDpgV+CpALUQXx+37y0+0Z8yj/CAj3CL8FWwTiCdgKaAKa9u7u9fK1/KIBdf0E+FP5NAEABiAIRA5kFOARuQRG9ETsP/IG/zcHoAZQ/0T36fcq/tsCeQMaA//+Cfbf7LvoE+4s+zQJqhFNFU4Tjw2wCIf/4vLg6Mnjt+sv/DAIXAnjBHH/ZP9uBDsG8wPc/9L/pQn4Fi8btBVICfn9qvkP+BL2xPkAABsCt/9H+g71i/ZW/f0DjAr1DCgKGQUPBeII9Q4OEA8I6P6++u3/xAoZE7kQlQjxAMb5evNS7wjv0/YYAYEEsARSAlcFFA5kE3MPCwRy937wQfSK+U/5Mfgm/KcDTQpvDOUQuxRLEKIEhvkN9ND4EQbhCv0Fcvzy9Gnyx/CV69fiQOGP8aIIQRUDE7YMegutC3EMAAeV+TTvoe9y9m73hO4H52vmyetC8vnzSfOj9LX3oPcz84Tr8eSp4izjTuZX7Enzi/UR8Enn4+Ay3MDUBtNw25/tqgsiL/FDAURYNpEliSLaKEcwLjKMMr4s3iK7HXIZ7RXFFO8S/BBCFM0RUweC91LsqerJ9GT/e/7Y923vNu3a9Bv+WP6U+KvtKOIq1DDGC7u1tHO4QcSU1xPujQkSHeUhYyBNGv8T2QuYBXoAmADvCTsT7hrZG0AXbReSISAvfjYDNNQpABoFDRICzP38CoAbtyRwJFAdrha0F9YaphMoAsjwyeKu2M/TStN000HX7uR+8pP1evMC8yD0wfLn5lLXR9at5krz9/Vc9DX0BfimAVMPBxUoEyIMFgQj/5P+dADKBFAGWAPBALUA8QGW/0z2QOxd6yjznvju7GrNxLIUtfzFwdTy3BLbC9LK0DPYQdza3r7m8fQwJPJkU3pbZoxFjBfv6mvsoQ7GNXRPmEp3N1crJSpfMeg2UDAEI8IYxA9eByj3o9FLu0XKrfKlF1Mn7ybuHcQOafsU5vzJAa16mo2eJbD8vTjCKMgq17jwmRR1L+swdR3n+XDZjMpqz7vkqfmxCXQYVipVNt8/T0sAUUNKXEABN3kjZwue+e72egkkIags1DSiNy4ylydNG84PmgN+9Gbi7c2xu2mzI7nxzZ7sLQiBFjMXBw0t/e3sy9qKyXzAkMLf2Bb4OA8dGJMZfiQtM6E4kTO8JRQa0xKCC8sH/AZDCMUOZR2wJeUkPiJqG6kO4QIB/3j8I/Jn4AfPKM733SnytQTzBPP1tuF31JHQlczByLfExcTJzW/Zw9r81E7Sr9D8y5DIDs/23IXiu97P433nk9+73iXkDuzV9hwK7CE4Sbhz/3+4dZZbcCpe72/e/QicQwJX+kL8LQEuBTr+PwY4eyTCF0oVGhJ3+pvDIZx3pwDmCSLvJngdlxxFFioCLeb3x56rlpuQnmCtusCw1P7h6+2WA3AiIDRjMSoaBPQy2SnOldLG6LoS7UKsXhZgjFtOWp9LoTUbJzofVBV+Bi/zVe0u/f4Z8StuJWggFCIoJP8fXAVF4WXJosZN0GvV4tcs2ULio/Z/BnMJbPq34SDN/r/SwbbMvt7V9X0QsS0JQMc9CS9rJj0iRB2TG48bJxLvA0YB3A4bHwcpgjBhKwYc7g8+CboDcP5T/Cz8Df3p/L722fBa+awE6vq24ATQysdLwe/AQsVYxRnGzs/W10fbsuRZ8hDtYtk009/VxtMR0b7aw+k087b45vJz69bucfVc9oX1pvHU9mUOPUI+acdlG1wbS6UiWvBN6FMUKEGtTLE+SioNGhkcHC3gNhotgxUNAsP7avLwwAqSoJ223w4mEDrhKz0MNufV233c1cvLrzic1J+xsQ/KadsH5ln9SyQNQOE3dxL56Z7Pxcgd0sziDghYNjhXkGVoYoRXLke+OpE1gSpgHH4P0gnTBwsR8Cc8NeE0iyh4HQgYmwx77yHNFLNAsU3HleqPEOge1ResCwoHlAdeBP33xeDJyQnApcGByobas/r9Hp06HEREMpIUmgPVAWQKCBgVH9gk3CfCKIwi+BdOFF0U1xEiEW8OJv0g4YLWp+Xw/ZgPmxEWBNvvN+dk6zPtlNlqwAm+INKS3IXZI9nH3x3fUNt54DjekM92wxXHqMptyOPHFtPP5Jb2sPnP77vpVejK4J7ld/Ut+7D9ZyYTYwV4SmbYRUMYT9Egwh3+pEjjXqRK+i83GBsXFiaoMH8lwhDYAVECqgWj5ZqkbZIp0jMn8k0jRC8doOsRw6q/6sz2xX6sjpkynxS21NB63rnswAjBKCM2UR787Y3OnNJi5yn58g43LmJKYFqvYB5aJEYPLYgcDRREFwUhZR+cFmQbNS9BNfEsrCRVIcIZDxC/APruwuGG32HjVetUAt4Z3yGLE5b9guaV15zSdtAEzwrP79Zg46zwufwYCX0YbCQXJsMctg209nTqwQFvI0QrQh2bFCERQQ1FDm4UbhHzCZQK1ggh/uHzQvIs8qT3RQWjCYn/l/eZ9Gjm4NTP0SLYw9tI5DDyovC43QbPftAa0mbRR9KF1PLUKNbX1+nWZdh54yzude/v6n7n8+Ow2rLc0ebe8kQDfS4bYPV2rWoCQ+X/cb9nulnyyTaZWNpfnEpcM3MoYy/NN30x7h6/BrAC/QwjBezQwKRhuOb4ES+dQykxrwJ/1jXBr8VRxyS6DaZlojrInQncLy4U9uEW0sbycx86IvH1kMQGtJTFNOyQFXYu8DVSP6pLRE1TPjwh8wCR78H7cBiAJwgjHBw5GqsdziYIK9QgExIQCjsEdfvs7//jwNuI4LT2HBDdHHgckhIS/2ru1+cU46PYnNZi5IT00f6JAvAA8wDeClEVBxdcDcT8F/BY6UjpZPImAlUS+x/DJiIlZBmvCVoAAfk58kXtRfJ4+Iz9AADm/58CYgOdA/EBof7c82blttpA2zDfTuXN71b6QQC4/U32BvC667PmneLf3S3cvuEm7lH4Iv8EA3kBFvk/9BH1D/gd8o7pV+zZAuwpmUiIUYU/0x6H/ZzvcvYBD5UlUijGHKkVQhwHJ4IuQytKG3YFLwDbDB4Z2xGB9+7andRk7AkLvxiYEmYEQ//HBT8Ntgrn90nf3dND3/n27wQVAcP0wOlA69P4VwcODSsFSfUR67zwwQIWD50LdPsb7jPtgfjwC2oZ/RXKASntB+mE9NoAHAUO/UfwAO5W+NgDGwdrACf1PO9B9CEB9AoxCaj9APOg9Mn/9QhQDJQHUv6G+bz/IgiUB2/+LfTN8E33dQKjB/0FKAKWAegCngNIAVn+Lv3G+1z79fx4/xQC8QXnCVYLAwmoBjUE0wL3AHP8XPcW93L6Pf6y/4T7mPVY72Xsbe2S8sH2kPcR9zT2IvZL+tL/lwC6/h/8sPqj+Jj2t/G97PnstvAG93P+uwLD/kL30fKa9Q7+MQOZAPr6K/rq/OsA9gOYA1cAUf03/nwBjQe5CpAHtQHD/tn9Gf0T/jkAIQXZCaQLewnFB0YHBQfMBbQEpwT7BWcIsgkxDC0PzhE5E1UStA6+CX0FcgUBCckNtA/XDpoLRwhACLkIuwcSA6v+bvy5+2v8V/wT/voCCQdVCHcFCACy+535h/kn+gr46fIC7jLwmfhf/UX9s/or+Rv6PvwZ/RH7yfeu9076HP1e/jv7/vUB8bbuIe5R7gDtFeu87/P4jP/d/sr3MfCv7qn0rP2uAej+A/vY+t3/lAXtBTMBN/uq9jz12PmWA34JTAqECAgGAwX6BWUFQARwBTAEaQENAW8DbwVsBZ0D3AA0ALoDeQksDakN6ws0CZYH7AasBlQHIAjdBZoBEP5l/I/9JP+9/47+mvzr+0X7BPvF+Qr3LPbi9oT47PkA+537lfvV/M7+rQB7Ab7/t/of9EfwovJQ+XD+Cf7Y9/zynPH18Yjzx/Uy+Ij66Pw+/rX/qQELBe0HyQm/CBYFrgK3AjkFxQgRCwEKtwZIBcUIOQ5xEZoPPQuDB9cFJwYBB7EHmgdcB9EH9wmSDFAN+AkQBfwBPwNcCh8SrxV8EqML3wTxAZ4FZAoODSULagaZA8IDiQSCAgT+u/n3+DL7Ov0Q/aj7mvzfAL0FuwYZApr60/R49Gj2Lvf39Nfw4e9I84H3c/gs9nTyLvD+7xXxZ/LL8zb32vsg/y/+lPkn807v4fDc9En6XP98AucEHAY1BtUDxf83/RD9Gf8LAZABGgLMBIEJ1g75EFgO1AkuB+gHMwnFByUEygG9A1II1wpxCUgFkQEPAND/a/8F/tr7mPmj90f3Ufp1APcF4AcDB0gEnwC6/db7Xfu6/DYAUAOzBFUFFwUWBX0EuAFe/Fr3JPW49Jb1D/hA/Kn/PwD5/SH6dfZV8xXyk/OS9lT6jfzT+9D4y/S78o/zu/UD9rn0OPQU9Vb2x/ah+F38Hv/a/+L/5QBmAw4GmQbcBLcDHQXUB44J/QdhBTIGnAvaEZgTaBLZEdISXhPxEUoPgA2jDbYNYgx1CaAGKAYvB0QHsQWSA7gCjQRiBjwGnAXqBOwECgXAAxoBgP4//uYAOwQ0BXkChv2F+HP1F/XU9u34T/qa+x/9lf/SAiwFMQUEAyn/PvvY+U75qPel9crz+vPd9zf+uQPiBMMAffpi9rL28fdm9k3zHPDe7xTzq/ft+uf7+fsd++j5s/eT9qT5GP/DAtMApPlA89Ly3Ph2AVEIawoiCKwEogL/AXoBVgHpAEIAlADtATAEaAhoDOANJAzDCDYHgwhPDI8P8g78ChUH2AaHCS0MNwzxCKoFHgW6BVoG3QVIAsT8Efdf9Lv0Hfby9ir2b/Vf9Tr2/Pf++Bz49vZy+Ij7vP70AMwALv80/Lf4gfaw+KT+MQP4A2oAtPna857xXfJX9IL2Xfly/CL+5v1O/Dn7CvuD+3X83/0N/87+GP2Y+nj5FvrY+4H9QP8KAn4GZguKDH4JCgbVBBYGIgg2CcEITgd7BroHmwurEKYTZxKXDSIHPAKoAL4APQAt/w0B8gYQDhITPxPNEFQNxgnBB+QHvAmYCnQKSwkFBwwEoQBK/0L/jv9YAHAA7P+G//H+1vz8+W/2z/PU88D1C/f79hb40fuM/9L///wa+GX01/Mt9T73nfit92b1wPOi9HH37vhC96LyTe9d8bL3XP4WAFr9T/qA+cn7Nf4a/wT/qP7p/N35pfYa9Xj2cfnU+7P8t/t6+zz+JQLfBTwHwQbgBeoFawe9B5YGWQUeBKIDSwN8AzIEZga4CnANEQ0hCn8FlgESAAYBlAOVByENBBJOFQYVUg9sBr3+r/ms9wP5Cftx/Jf+/AK9Bm8HQgb+Am//BP4W/vP9vfyS+xT6Nvqx/Ir+OP3f+NT1mfWS9r32GvVq8ibyD/b5+4n/aQC7ACAATP6q+hz1DPED8ezzdvgK/VwBCQMyA8IBfv/p/vT+Xf/2/on+D/6h/Jz6CvlI+WP7k/7YANYABACs/73/qQCKAukDkwTxBEYG5wYNB7UIngo0C+4KGgooCA8HiQfiCaELxQpeCR0KBw2SD+kP2g3CCjIIggWQAhYCMAWVCLUJPQdpAsL+3P5CAlUDv/+W+6L60PtD/RP/igH0A88FYgUPAnf7ePQA8bLxj/UL+cz6tvry+Q76Ufuv+yP7Jvl49j/1T/aG+i7/TALoAT7/1Pzw/f4CjwXkAkT95vhK93H3hvfi9h32Z/iF/r0BBwCl+2z3m/ZS+EH7kvyc+4P9RwMiCwMPvQ2ECLgBJ/+jANwCCwPUAjYD9QTuBgMJoQqlChgKDQnAB5wGQAeeCSgKiAZg/wH55fY8+gACcQi7CUQH/QPJAEn/Pf9t/3P/Z/7T/LX7q/wXARAFHASq/0f8d/yW/aD8efmi9yL6IQBwA7L/nvmY9Wr2dvgl9wr18vRe9235wfm1+Hj4Q/rU/Bz/kgD/AacB9v3e+HX2Zvip+9P8OvtZ+e35zfs3+kn1YPCP8PX1/vxNAtQC4QF0A7cHbwviC4YHsAJbAs8HSA4WDgUHuP8v/sAD7Aj2BjwB3fwV/Q//R/8J/6UBpwZUCpcI6APPAW0FMAtIC9YEFv7T/ZECYgh+Cg4HrAKoAAQC3wRCB98GNQNHAPT+dQFvBT0HFwYIAnT8ivg1+dj60/vi+/r5jPcz+Fn6o/sg+SjzXe6M7rTyLvfJ+j/8y/xd/u0CKwaBBb4B8vyN+37+JwN6BAEBXvxe+kb+wAUvCesGGAJy/2MA9ANtCCkLkgqRB7sFlAcHC6cMsgsWCBcESAIYA9YCRP8x+ib4qviJ9xj11/TJ+aIAnwXaBtgDYf77+Uj5TftX/zUEJQYLBmgEAwBL/JL6r/tv/RD9APzD+uL6gvw7/kb/9P68/bH8APt0+Jf3JfmF+wr98/2UANMDFAU0A+7+efpi9nT0evRJ9ej48P+1BZkGhgUzBZoD7v1k90L1Zvdn+iz8Wftt+GD3gPy5A+sFcQI2/+D/fAGVBA8JNQxOC7wIgAbUBZcJnA+BEXkMhAYVBA8DqAHJ/23/2gTADpgT1A9tCfUEdgXyBSEEKwAF/T78TPtg+jX5R/6ZB1wNZAtSBKP+Gf8VBR8LWw4FDB8GtwCI+9z3xvgv/Dr9D/uv+HP3qPWL8qbxEvUp+on9oP0q+/L3Cvf/9xn5Ifp2+9n7XPzh/xIGlQoOCJ0BRPvy9tz0Sfi4AI8GgwsnFOYTmgaU9wLrN+KV34LpJfnRAuQDSP+p/y0ILg7fDnUMngjICOEI+AIe+CvufOlk67n03f5mBzgKuwWjAhL/Xfkn9mT3tPl8+5L7T/nJ90/9ewmMEYAP+wRJ+334aP4MCBUMdwlwBJwBIgESANP8uPXf6x3m7OXi6Tnw5PRL9uD2NfYk9pD40vQJ6VvbsdN+1+zgOemR7HPrwetE6tTqoPN3BVMcCyztMeYxgy6aJ0ohoR/7IYcjpCHiGnYPxATq+jnwxugD6vL0uwT9EOAVvxWrEl4N4wv+C1YFBPer6czlpOsM9QP3MPP17qbt7fAs9Ln0offo/TcHIxGLGDgb2RU7DGQByf+lCc8UyBehEK0DW/u3+uP8RgHzB0UNiAwWDIMPfBWYFjoQPQmFCHkPFRPHDGID0fx5+o36ufmx99L1F/Z+9ufz3/Gb87H15PLN8Cv01vhC/n7/3f+RAQoBzARcCU8Dc/WB6yftovV0+NH4bvzt/0n+sPc076/oNue+5YHkyeWI6FnmHd4p2YnZUNtr2nbVu9EjzzTN9dDH2tDokfQZ+rf2l/fVBp4vZmNKccpiwFJnRRk6hS28IhAZjQ1bAWr4CffM+lD5nuN2y+/LHOvdEi8kph3lC0YGtBCZGIEMw+/X1PPH9cqK1bPZctUWzsPGX8qa3qT4bQXIDtUngEaVXDRib1AyN48oVSKJH98edyLkH6AQrfgT68DwovvmABH9Of05Ce8YrCLnH4wOyPuh8770BPRY6fPWzseVv/m6Wb/kx4fTeOB27Kz91hvoPatUp1viVK5H6Tj4K2ghrhw5GuEShgNe+X3xvORK3DbbJeF56l3zBvlO+cz10/bP/e4FmQmjBeX8u/PO70byuO9H6BblEem27Tj2kAOSDuYLtf1X+YD6afkG+WH71P17+VfsY9oHzmbOv9Bv0UfTLd9m6oXuVvc+/0wAkf24AqUTs0cMc8Nsg1Y2OiImHh0hGYEXoAtQ9xfqZunQ6XzoxdbpqHiXM7Td898uKDEKD5bpF+o2D98lYQzt1/G3E7UVxO/adeJj3iLUn8V7yMflzQi3IcYyMD/8UWVjMWUmVq4++ya6GekeFjAUOu8nUgar51jgEvUT/3Xz/OQd7j8LTSQDJU0JSOZB1/zf5OyP9CrtStujx5m9SsV81vnhEuPJ4OrpjAspPItfxGlyXHpB9zPoNc01DitFGvEJSPz5+FL5ue2g1jHDAsFKzWbe5OUX4bvX7tXd5tT+uQ9fFSoT2g6KE18fGR7KDXL1NOU75F/zMgNzAbr3beyZ7pP/2xGcEPD/9PaX9k/9TP2z8dHgqNX61S/XR9vt5/D4zP9z+rj6AA9MQixxxG/KU68yTCPdKyI0WTFHH94H3e/C5RLvh/Zw3eqj74cfpSflLSSgKVb8XtmE37YC1BvaEGzpVsyKySfZz/JN/Yj27ObV0WfRye8oIolOHFheTy1PnVNpU0BRv0IPKKgTBA3+Ff0hhyG0A6jV0cPk17HwuPbQ7I3bzNl97ib/wvfB4onXwd578GP/i/y86dbReMf81aHsVv5tCIoOhBSmJsZELVZnUUI92SMTFnUdtSwCNeonQwzd+dzyffG26UHTDLgsq/yzocq32ULaZdn53ETwphNxLhI5mjJKGDsJhxXAKWcrSRQm+T/rDOne60329vo97i7kOemO+u4OJxUwCdT0tup87LPrF+Sw2+bUhdD/1rfi8O2k+cgKIDhXcDB43VvMQWUx5y3yKTMiORVbCYn81vEu82H0xt8LrT+Mb5ZzwCL9fiKBFr/wodQb2PbzCwh+/kPjrtUF4pf/Owi49o3nZd0S3l74HSwEVJVUTUb1SCRWplboSJI0QSGUGGMVfRW0GMgWmwcD6KvNxNBC6ID1d+vo0pfD1ch22nHlFOPZ4Wfmk/c5D1UcRhPF/3/u9uWQ7TcEmh8aKlApuyxQN7Y6fjIwKeYoAymCISUbGRJtCGkABvoM6/7Vnc0r0crMQ8KTvwPB2MtP14jfoujT9SoPSyqyPUY9hTCDKeQfsA/sBdUCDPtj7/TgzdZr2kXj8+nF6lzpfu+5+AQH7BD+Bi75pezq35jc29o329PgN+mZ8/T0fvRsD0JICWoTXyBBMCvtKHEpcSJNE4oAau/X6VHtmvAL5XbABZ46mia42+OH/gP0WN+m1TnYHvIODRcKqPAV4dvt3gqfFuX/19x+z9zYUvi0KB5MZ0+yN2QqmzbNRyVI0jIvGr4O/RN3HVAgERh6A+3loMvCzsnh5upl5dzOI7zjwnnWTen8+Qj8+vMe9ZUGlxUJEiEDgvO477EATxxdMGU0wyznJnAv5z1oQr8/9jIgHwsNVgGcAiAMQxO4CY/oO8pPxNHMk9Uu0UbFgsWz3NX2Gwf/EK8WRCH6KbU03jnqNE8mdw5o/bP74gL4A8T7rPDT7ljuH/L9+5AFoQy6ClMHBw6BGacabRLbBFv39+sa5JPd/tPPz/baKPDtFmJEPFnVVPk81iCZEV0SthUhFQcHwe383LHbPehP8+bpncmVtdDETe5OE6gVs/so4Jzd9fmsGmAlNBdb/izwfPmNEuYXdfso15fL9+VWFrQ96UUUOYsnoxoYFlkWahZFFRkStAm4AVD/1v+L9y7lucSosSrBy9eH4X/XkccuxDrUm+jB9f33GPa69p38LgwNGS4TBQAQ7jDrG/05Ei8hiiTbIQMexR4PIwsfnhQbC3wAK/cL+64CUgQb+KLY4qvolrikybfJwoHDzMBcyOnhGwEHFyAaNxMdEGwVXhy7HoEWzQPf8Nflc+Pn4p/eHdY0z1/NstR45FL2rPsA9yfteOiO8p39lvv37Hjcbc17xhPQAt3T4H/qSPZiDy0/62L7YbVMWDreL4EqgSPcGjoUhwmQ8wbdg8vhulCjLZdioF21YM2m3Hvg0d6Q3p7bhOD667nvousw51LmB+p+7l/ujunt5CTmzPDxBxokxDRtMPcpCjM2Sbtb8FnaREEruxbECpcFTfJAzUir2KVDuI7P9txa4lrva/jH/YkEAAWKAAT8l/UD8ev2ywBYAnT9wPr8+5P+CQIxCG8aZjN8RApRGFpjYMVgcFnRSKw0BiW0FuYKVfzh5gjQY8DEwgLQld9F8pL9I//Z/HcB2BDRKxVCoUXzPDk0sDC6MGgvryGnCTLuGed99HIGJw7tBygBYQfnF7QjXSjGJpchGhk3Fg4XgRT9BYju8tzT22Hl3u+c9rL4o/14FVNNxXZjdSZdV0akNqAuKi38Jc0WEwIL8DzhmtRrx3y6Qq4msqzIjuk3B/4IBPf+69/zeAOdEEsR6wPy7tbfRd7m5g/uw+1f7Rbw8PfDDV8x0UrAUrBMAUIoOYE4CjYjKzMjNB3bFzIMq/zo6gLXasSsvD7EvNVe5aHsLupg5f7qJfVNA8IOaA+bBc/7eP4jBhUJqwIY+578OwiZGSArRjh1Ows2cTL4M8Q2wTQqK2cdKhAwCZMB4/Ma4PHSMMbCurW/Xce4zjnS7tJy10Ps0g21KZ44aToMOJEzlyp9IMQZFhGNCGQA9/wo/tcAYAZkCm8KAQUgBhkT9SDvIn0euhbFCy/9pu1R5zrkD+K/3GbSO8kcyKPOitZn4Yj+gCsRSe1H5jZHK3QhERX/COX+e/So6M/hH+P24aTXjcXbsF2p+rVl2qkBIxOvCsn00Oc87sD7gwEe+73oytbI0PrV5Nkj117V1NoE5DD7zyDqQVdQ40liPEAwTCmJHroQ9wWK/gz5lPHE6dzbNMtJumyxvbYYyYfeQOgj6pLnbOZ/7tH/CgqZCOD/G/ei96/6Eft/+A/6Ef/uBvgQtBxiKoAwAS9OK7YoNy5ENOgsQCAGGQ0S7wLP6w3V6cjtwTbA6MFxxirO0dLa2bTiJO8P/OcLgRqbJKot+S4KKmAcOglv+WPyXfNr9Yb0nvRt9r74nf7WBEgIIgmSCqMPVxSoE3wRGgsA/JXr8OGm3gvXW83KySrOTNaK3qrol/iiHVBMtmB1VCg8vCt8JigkGx4CFVcN0gE18PHcrtFizgPIxcQHzIThkgbiJy8tUhsIBgL9qv/VB78NsQTF8r/kquAR4QXfFNeZ0TTYrfP6GnI6bE26TaVHojlYKgYicxo3EWIFtQAm/RvzFuab3Y3Zw9fv1APcTu/uAlUOvAtGBqID6wX2C5wQDw4qBM/zT+WN4gPoTe+C9Az6FwGyD6QlazhnPdM3XzCFKagmgSfpIh0WpgnG/Cju49131OXPJclYxN7ElM0n2P/k6vFW/r4HDg4ZGLofbyJgIL4a9hICC9EE9P4h+VXzI++M89j9tQJt/5/8Nv72++363gPFCqUHcQJY/WjzvOn45Crfo9fZ0TPLOcYbyxzTodwW8BIZc0QEVfZO9jqrIoIU7xIpEuUM2f/27v3e/NRd1JfZiNkT0nPQWd1r/rUenCU2FXP7F+sE7Yj3Qvpl7ILTycKlwjDLtNRK3L7jQu1SAdcgRUDAUVpO5z/3MJwmzCBIGkYUCQ+yBDTypuEU3ZjeJt+h28DYHt9y7Tr+RAxpEm8QnQq6BdADLwBy+NHvfubf3w/g4Ogn9eX+hwceFbkoezvoR0ZJ+0CKNA4pXiHaGrESwArFAprzdt+wzoTD8757whbR8eH36S/tvfQvA+kVkCTLJXchkiAiIaQf0RbYBmPzP+VU45jqtPCv8QTz9vloB0UTCBhYFRkRGQ58C7kH4wJo+9/yGuxn5v3iyd3B1u7Tz9k65hT0Gf9DGKRDHGG4WyM/jijDG88PgAQyBTQOrgvK92nX88RryWXTn9Zr2CjgB/ZUGg0yqyt6Dnb1YPC4+2wHigGV6hbTV8pz0MXgjvIb/XoBFg4KJOA320U6SF48vS5EJvUczRWMEa0O/Aa991Lqd+S45VLpSucn4GThCO3I/JgQrh9VHP4N+AM+AbH+tvXk6FXe59fV2CHl9vX8BeYSQh9ILWg4b0GzRgxCRjGZHzIW0BIUDP0BwfkP7kDfGst3uMmzcLvMyJrTLd3O7G4CiRXJIfMlayJAIbAfqBlVEoQK8P5y8cTqiewC75Lvw/Wa/ZsBTwSnBiUF6AMDBu8CP/hx8/71z/FI7Nbq0uaH4HfYJtIp0hvY7+B550749CRjUslc403TN1gmPhu1DXgGuAkXCPDxwstCtwDHF9/m5Rrg3do/6bELMyvWMmgenALb8k70VPwG9+Xgt8gWwrDNN+CW7kH5rQUxEPYanideOYdBtDu0ND4yazB7JlsZ3wwSBBT4k+gG4kboAvca/8P5N/DN6rjuIf3nDBARdgmF+ZDqNOWy5q7r3+sa5jHk9+rT+JQMCiEBLGktby1XMi84gzVWKUIY8Ak1BAsECwIB+yjwEd4Sy9nGbc4y3dDrEvZN/SMDqwx8GQUlryaJHRoN9QCt/ncAggSGBCT8b/GR7D3wTP2cDswUEQs0/1/+vQSWCKMHigJq+Rr06PIh7xLs/uaz3kLXL9hD3kPeZt2P4o/zBxa7QAhbc1X+PIkoxx3+FssRQw9SDUIFdukNxla9MNI38eL5key45vj0Gg+qHdUURAHD8V/lq+Fm5Pnj79w6zlPFNc084Lf5FhItJ9s3Jj4pPA874TmPNfgseSPFHVIWXwxFAXz4W+4y4yzcPeKO888AJwLa/AP99ATcCG0CJvjz8b/wXuuG4BLUtc7P08Hf+eyb9/YAdgyuHM0p4S57LEwrFi/xLdckqhejC4wCifik6zbiid7N3FfaXNdO2jzjUOvf86r8bwY9D7AS4A//CEYDkP84/Y355/h9+Xz5bfes9HH2F/15CYYTQRPaCn8DuwCU/2v8fPkI9jnycPDX7v/uBvD78dPtaeka6/rr3uRR2uHds/XSHnxG31ciTEw3XSZUGJoMrQqAEWITawOf4UbHXc0C9VwUbhSbANDyUPX2/gcEaf8P917wwOkf4uXev93y2ODQqtA+1eXeduxvAsAgETnSQS03TSlmI10kdiYCJxEjshgDClP+cfol+wr7P/qo/MYCegh4CewK6A2HDXcGTPfc6OPiyuHL4J/cXNZ80LjPK9rb7SsCBRJHHLQiHCZqJ/olWSa8KYAolxyTDCAE4gAeAPz9p/sf+Yf0EPAB8DH3KQAZAPf2dfBQ8mD5E/+3/9v8f/iH87nw7fQlAYwLNw1hBkwAZv3v/ZwCFAYGCQwHHf6C897vxPdEA/0GxgHA+GbxhvOJ/cECVvxb8BHoAOhZ7Lrw2PZGBAwe4TkkQhU4YCkFHOcSVQ7rDVwMEwXF843gd9ce5fz9rAqeDdAOZQ8PClUAJPfI9Xv6zfwp9nTqPOSo4sPjWeuO91/9/PlO9OT18wJoEBUWaBQNE30VHBRcDzcNCg/ED2IKvgDX+kb97wMqCR4N0w48C8z+NfAc6o7vSftMAlQAwfnH9YL41v4YAkwAmfhp8sjykvlBAf8DwgPrAjUDUgObBbcIPArnCFgCf/qi9tL3RvtY/swAiALkAT3/G/4j/nf9F/v79i/14vir/rgCzAKc/3D9Mf1KABAFhgdLBUH/tPoK/E8BAwX5A73+xfgO9BHyBvK99L75tv3l/uP9O/50AIoDGgVkAz4AOP2s+rn4u/fr94P4xvez9NHxO/O5+WcBVwYUB9gEywMKBnILBxLoFWATOAvLAZT8mvvX+iT5V/cm+Ob7RwE8BvQK8w0KDocLsQiYBu0DDQEl/08AoQOeBqEF+wIWAW7/u/3S/J/8Rv2V/Yn8LvyZ/k0DOgaRBqkEmgHr/WT66vZ79GvzI/Qb98v7qgClAxsEhAQPBi4HCQbFAoD/t/2i/0ADUQc4CtYJvwWyAHj93vw0/o7/e/7g+2f5Xvn6/DsD9AggCmMHKALr/cf8iP26/MD6mfnv+gf/TwMfBX0FIgUqBVMEUgK9ArcF/AhsCc0GeAO2Ag4FaAc6Bn4Dg/8U/Ej6Zfpa/Bf9mPxw+737Mf7uAKwBEAFKAIr/9/6n/aP7DPqZ+KT3Afhd+k7+dQJBBaMFhQTVAUoAOgEUA2IDYwEr/43+4f9vAGv/tPzl+R34HPdp9qL2ivhZ+/n+bQG9ArcCkQH1AJMAbgDl/6L/sP+Y/x3/Dv9DAecEIwgeCkAKYAg8BiAFUQXDBTEFoAJd/zT9bvxA+xD5CveJ9b/1z/bD+F37S/5jAc0CLgPpAhYCoAEiAZIAlf6++i/3Z/Xu9Yn4S/xA/8MA2wCJAOP/ev9n/j/9+/zr/ET+2/77/dD7k/pp+iP6mPj/9cjzjPNB9qT6EP/uADkAIP6C/S3/tAFFA74CDgFgAAIBGgP9BBcFQAOU/3v89/pO+xf9K/+3APwAfgB7AD8BMQOEBLcDfwHF/if8Vvp4+rL7F/0M/h7+E/5a/n//cwGxAm8CiAHlAMcBIgONBDEFKATXAp8BfAF8AXwAmf5X/bn8A/2Y/QH+ff6I/lf+ev1z/OL6o/pc+5L8+/wW/Jv7UvyT/88C5gOvAoABEwFNApUEuwVMBaoDXwPVA2MFqwU1BSMFPgWxBaoEzgJJAEr+Uv1+/rX/RAD2AF8CKQW7B3gJwAnaCHEHbQb/BegFqQT9ASD/yfz1++38Iv/lABEBdgAeAJ4AAAOaBZ0GwwQ3AcL+zvwX/Mj7O/rF90T2Nvf5+SP9cv9AAJMA/wBcAhcF2gZgB7sGxgQfAtv/l/63/v/+Gf+P/gP9EvsK+W75q/ow/NX8LPxu+3L7AP5RAL0BUwFC/2v9Wf1R/hP/hv+G/ln+6f6Z/xP/G/4b/mT/SQMtB0EJvQjtBmoHegqODQsNLwdm/jP2qPNU9sP6Sv4s/tP81/1pAsQGzwYZAQf3ze0d7Ljyp/yBA5YChP78+nj8jQK1BgcG//1r9dvx9fTp/LQCpAKI/tP7Cv0aAp0I1wtuB8/+x/bE8t/zmvbi+O74Dfiw9+X5zv6cA1cGQgciCRsLYgubCSMHawWCBeAHrwomCosFkgAB/az8rf/RAiAEAwa1CbMMhQ8FEGQMtAY8AC/7Jvh79YPxUu+Y76TxPvbP+kT/5gKoBoYJsAoiCxsJ6wTyAHb9d/jF9AX0JPcs/tEEXQimCCUHxgbuCLILagt8BT38sPVh9Pz32fvF+6b5M/gC++0A9AblCK4EKf9t/iUCewaLB94Dqv7V+9b9lAH6BdEGRwP/AK8B+gM9BSoFTwQtA8UBGAGeAOX+v/tB+B71BPPr8iD2pfsJAd8EwATtA7wFvQjMCboHtgK3/QP76/rS/E78g/nQ9+j6FADNBGIGZwM8/g75VvYz9gn5Z/qV+VD3ovUh9gn5Of2h/oD9qPqR+3YA8APvAZD5XfKK72HziPsC/yT7zfOM7kjug/Wf/80LbhljJN0oXyL0FkgMJgd1B34HqwLy+cL2sv46Dd8X0RieESwNABPHHCgfvxFY+V7k6tva4evq9+y47DPyvQHTEEkVUwkl92rtZfE6/WD/IfRn4kbZWd9f7Kn1NviA+CMBkxDnHPkdXhPTB20CrAbiDNkL3gURAoUC9Qh4D8YQbQ0ECh4JjApjDcoNWQkOAKX15+yv63rw8/cD/rH/SP9dAcEFLgcgBOb8kvZr9Wr5zvsj+Rz1f/No9//+WwS0BKsDQgWbCr8Pvg7ZB6r/qvk8+BH6bvqE+Xb6Of33/7wCIAPQAHf/yP8FAB7/T/3q+S/2s/Uk9+34QvuS+ob4MvdI9w75d/pR+jr5g/nI+7v+f/+1/Cn3XfLX78LvDfG68QDyP/GU71Dre+f35qnuhwEWHJI2IUPUPf0laAhk9Bbv5fWQ/WoAjQGvCWkcsy9+NTYqNRYiC1YNThN0DJjyGtWlxo7Pq+XT+MD/OQOhDTwa2B22DFfsHM/6wwnLn9a13LzgK+yR/skT9h0fGU0QLw2JEXMTNQwr/bHwau+2+GoEcQzVEh4bOSWQLWws/B9nDmIArPjS9i73l/dd+SD9kwJDBu0IbQiJBYwCoQF8AFz9Z/iL8TfrZumB7or2NP9DBQMHSwaCBfQEWgIk/hv69/YG95n5MP4OA3QGdQa1BFgDmgL1AhMC9wCF/gP8G/xL/q0A/wHOAtMECgfhB4gEE/7A+Yf3m/YG9m70f/O/9TL7PwFLAir+1Pi09er1c/Xs8T/u6+0/8aj1/PeA9kH0P/T59SL32vRM8rb2twQ9GZYsTjQbLhkfQQwg/Vr0FPOE+isESBDHHQso9SxtKYYgXBXWC14HugXRAXP5IPJe79zzN/2IAoMCPgE/AnwEJgIN9r3jC9EsyKHO39267iT8eAeUD7ES9A5cBND2YeuR59jqCPML/XUHLBBoFDYVHxO9ENcOuA02DHIHFAJz/xr/lv88AeIC8QXoCiYQYRLRDyALgQQt/bj2pPIr8efzJPs1A84GXAVFAc37KvYn8sPw4/A69VH7Sf8kARUBOwGxAs0DVwNQAOv8Dvxd/cD+nv6P/V39VgBiBbAJIQu+CXoHHgbXA68A9P0S+/75nfsxAPIDmgTWAjEAev35+Xn4HffX8+nwpPDM8pT2//qQ/TP/ZQHTA68EkAFc+8b0a/Ak8Ozz6Pcl+sn7Xf+ZBKMJLQ7EEXAT8RFrDuAHzgBr/M38iQARBdsJ9A4yE0oVZxQ/Dm4Ev/tB+pH8yv9yAwIHegr6CxQMnQgSAsz7Ifmd+pn8Jv3K/IT7l/ow+of5PPn3+fH8yf7N/sH9EPsR+Nv1LfWA9P3z7PWh+iT/XgEcAS3/ofyE+wj8Zf2F/xoCYwVrB58H9QbcBJwDwALXAA7/cP0j/RX+x/9zAE8BjANgBwkLPwyUCqQGNAEU/JL54/eQ+Jf6Yf1rAEMBSgH9/0v9F/rM93D40vxaA+MHdQliCJIFXANNAtMAwf7u/Nr86/5MALj/k/16+1f7Vv30/zMBvwD6/xAAvgERBEsEYwJcAC3/gf++AGICvwL5AZUAgv9r/6//lgCSAT0CxgGFAHn/LP6v/C78Vfxb/dX+dv+O/VD6hvcw9vz1wPXw9an2Ovgf+7L+VwAhAJ7/xv8fAFEAmv9t/ob9rf3u/Rn+Ef9l/5MAXwIKBCcFlAUyBvkGrgcGCAQHUQXTA14DzQNNBE4EZgKSAMT/6P+3ABYBBAHEAPEAqAGnAjUDkQPsAm4BpP83/cn7rPoK+wr8GP2U/kr/q/6E/cD8Xvyz/Pz8XP0m/N/7WfwC/Sj+jP/rAI4BdgG0/9f9Qfxb+577T/yl/N79iP+aAYECxgHIALj/Jf+2/48AfwArAAL/KP7L/SP+tP5h/g79Q/tw+p76qPsA/fr83fux+0f87fxs/gcA+QC/AVYBegDV/1r/kf91AF4B+wE5ArgCCgMlA3kDDAQ0BGEDyQGI/6X+Kv6r/uj+Ev69/Dr7wfoR/Dv+Wf+b/nv8q/pe+qf8hf9BAUYBFAG3AYED+ATVBPcDMAPoAokDngP+AtgB0AALAVYBVwHDAJX/cv6y/TH9z/xu/Br9s/2X/lT/g//q/tH+zP4h/o/98Pyi/VL/+wCyAZkBwAAHAf0BZAIyAZj/yv4R/50ASgGLAAX/+P0z/kT/XQBXAPL/mf8J/0X/+f9ZAV0DFwVDBVwENQPXAvwCngOiBAMFngVQBrQGnAW9A3UCXQKgA1kFXAZQBjcFTgOaAYUA5P9q/+H+Hf7N/QT+F/8rAM4ASACh/g79iftN+9D7Gv23/t3/OgArADAAa/+L/jf+ZP6q/rb/wQDHAdICHAOUAVH//f2u/ff+GABCAKP+3/0B/kL+sv3/+4b6Avp4+3L8cf2w/Q7+pP4QAHgBWwGqADX/r/7C/l8AIQK+AvgCiwLDAk0DMQMnArj/gP6V/jj/EQBLAIoAKwC2//z+Bf47/eT8X/0Z/hT+2v0Y/ln/5gDbAccB2AAsAEUAGAEJAnMC5wFEAewAdAAMAOf/OAAZAZwBwQHhAHcAygANAeIAhQDP/wL/8v74/kf/tP5g/jT+qf7J/un+P/8W/6j/1gBMAvcBtACw/gP9E/20/jwAzgAPAUIA7f+//7//nf/I/3//h/6j/rP+lv/1/+z/av+d/nH/qAD7AeACygLWAYcAw/9u//3/UgARAA0Afv/s/3UBngKIA/cC5wEGAZn/nP7B/Xj9t/2B/vn/YAETAmQB8P8J/+X+aQAMAs8BtABs/yf/lQCjAuwDdAPDAdUAEwFpArgDMwT3A9cCywGTAdcB7QJFBAMFOgTIAXP/ff4v/2UArgBq//j9Rf7N/wkBIAEsAFn/HP9L/0H/4f72/oH/pf+b/yf/nP4t/zAADABV/1T/OP9G/wL/uv5o/nn+/v69/6v/CP7I/FL7YPq/+gT86P22/94ArAF0AVcB2AEqAakAGQCQ/6v/IgDkAekCrALUAaQAjgCbAaECDwKNAC7/Uf6k/iMAPgG2AHb/vf4A/yMA8QDu/8f9x/sB+478BP/L/4/+J/0I/V7+HwA2AZoAl/8qAGABQQL9AUMBkQBrACEBHwGDANH/5P/HAOcB3wG8AIz/K/8DAFIAQQDW/1D/DACcAAcAgf6J/Iz77/ui/T7/KQDm/2//4P4h/uf9y/1g/pT/DwBOAO8AAAEYAfn/Tv5S/cT88fzL/eL+wv8eAHYAhQCbANQABwG3AVwCYgKMAQcBxACCAAQAPf/c/mX/3wD8AQUCpgFoAM//yAAaAvQCjgLpAIT/I/8m/57/af/v/kb+K/7w/sT/lwALALr+lP0M/UT98f3q/on/IADLAHEB3gECAnwBbgCZ/zf/n/+HAFwBWAE1ARQBHQG8AZMCjgNRBMcEAAWBBCQDcgFzAMEAuwBxABEAMgAGAZ0BcwIqAl0BhgDT/zMAzgDoAAkAbP6F/X3++P9YAXsAZ/7v/F380P34/uX+cv0Q/YP+ZQDEAW4BrwCyAIMAxgCaAE8APwB9/+f/m/8Z/yf/t/+PAEwBAwJNAkICJQIjAjYCIwL+ARMC0QFeAbYA/v+N/2z/gf8lALEAbwGuAaoBSAFBABb/P//xAE8CFwM6AtQA2P8fAFwAAQDz/4H/7/9sANEAMAFLAAYARQCDABgB4wBmAH0AGwF8AZkBVAEVAFL+jf04/hf/ef8m/6T+n/5y/8n/jP8V/5z+CP8qAKYB7AFyAZwA8f/e/yEAIgAY/yL+iP10/XX+qP9YALQAnwBAAB4AGQDP/z3/z/5T/hj+df4P/r79nf0A/kb/AAH0AWwBWQCF/xwAgAEDAmUBBAAh/vr8LPw3/NL8GP1+/Z79D/6Y/8QAWAGeANX+kPxf+0b83v1g//7/wP+K/rz+//6F/zwAmf/b/hP+ev4Q/1X/VP9Q/+n/ZgAzATwC3ALKAoUCgAHU/0j+xv1z/fD83fzC/DX9DP6b/pn+G/5D/eb8Av0R/sL+4v5A/yf/MP83/6n+8/2g/SL+fv5p/iH+f/1A/uL/SgHIAWwB4ACMAXoD2AQPBaUDrQGa/07+j/5Y/3z/xP6j/un+Nf9CAAoATv9D/4AAiwJ7A/8CIAHJ/+L+S/6G/UD9R/2M/rb/cADn/6/+o/6k/4gB2AHcAR4BmwC3AI0BRgHm/5X9OPww/O382v25/Zj9Qv2X/rMA4wL+A98DhALZABAApgBMAcgBrwF4AaABCgJAAssASP9m/m/+V/8uAJgA0gDuAPEBFQI6Afz/Z/4S/Z38s/xh/Wr+bv81AA8BmwEoAi4CIQGHAJv/SgC+AUoDrgQBBb0EPgT9A94DJwPKATsAf//r/on+OP5G/Zb8wPyk/SP+Wv4C/sn9Kf7e/hn/wP42/rf92v1P/mf+lv5S/ib+LP8tAAEA7v81AEIAAgGzAZMBmQCNAKIAxADrAFwAX/9z/ff8Hv2H/aD+HgBtAbYBWAENAYoB0AFMAoQCEQJHAkICigHGALf/9f62/tT/2gDlASIDNANoA7QCDAKHAV0B3wAn/9L9Df3i/KT95P67/08AGAD0/wMA1f/C/xAA7gAaAgQD/QJMAr4BkQEdAmgC8AHEASwBFgHmAeQBzgFTAVMA6f/C/6z/l/+4/zsACgE4AdABAQL7ADf/Ev5y/hj/uf9QADkACwCSAC8BWQIDA8YCmwI3AnwBCgGDAIQAKwCH/4n/XgDAAJAAvwBLAZMCaQN7A9UC9QGSAC3/2v3R/Ff8oPyS/S//zgDFANT/2f1y/KT8+f2//nz9HPw3+6z7hv2K/0IAJQD4/5T/hP+U/vX89Pum+yH8xfxK/Q7+M/5Y/pP+o/7v/pb/nP+J/1EAfQCyAGwAM//8/Tn9Wv35/aT+b/+y//H/egAmAe4B7gHlAD7/x/7M/30ANgAJ/yL9Evxl/Iz9uP4h/8/+sP6H/y4BHAFf//z9PP3Z/bP/ZAEUAo0CagL1AT4BKAEwAe8ATAHaAYoCmgP6A0UEewS/AzEDmwJZArwBwQAh/6L9XP35/ksBdgI0AlQB2QChALcAIgB3/9f+4v66/+v/d/8S/qL8Q/2K/m//KgDa/1//Y/8hABUBrgA//7T9Ff2a/g0BowFhAKf+iP0E/5IBLQPsAy8DNgLiACf/Dv6g/Rv+lv6z/8wAjAG7AqECDgH//1T/BP9d/wYA6v+Y/5kArAFoAv0B3AA6AC4BxgLkArIBm/94/N353flK+639FABBAYIBJwEZAW4B/AESAjQBlQBpAEEAwv8MABUBlAGSAiwDvwJzAd0AbgEhAWMAdv8o/zT/MADRAY8BcQDJ/0P/mP+EAAkB9gDe/3v/LwB0AFwABv+K/Tj9PP4kABQBngEuAXMAqAD9AJwALAEmAlkCyQIqAtwAAABXAGcBQgJ6AXoAzv+S/0AAawCBAPb/xv7I/oT/s//B/z4AlgALAA0ArAAJAUYBagEuAdYAIgDJ/8D+Mv4R/g3/RQCTAFgB+QAdAVUA6f4m/r3+1QDDAnkCJQAf/uz9+f4xAEgAJAAZAGEATQAe/y79Svsh/AH/QgKHAwEEeQOVAhwC/gGbATMBQwEcAZsA4f9t/xb/Gf/h/tT+9f5y/6//i/9T/9P+//5//5H/WADYACcBygCl/8n+YP9JAZ0CMAMQAn4Asf4D/iX/KAAOAYkBDAEPAIn/m/8OAJ4AAAGuANH/6v3E/Pr8EP1L/fz8PP18/5kFXAv0CI/+U/B4593p6flwEEwc+hfvBrvz3eeM6bb0NgFCCzgO8gufAmz2u+4M7yD5rwbeDz0PlAcR/Tf1UPQ8+JgAHQYiBkIDTv+R/Y397/4BAFMBDwOsBKUEpQN0ApgCjQLsATUBZv9d/5//sP95/9kB7QWaBs0CFfrG8LHrt+1L+YEE+QoFCwwEy/wh+XP5OPxt/wsBvwEJADb90/lV+O36QgEfBx8KjQlgBEn/P/0c/5IDBgZ8BP3+FvqH+of+2AIpA70BtQFwAncCeAAy/s/8IP7lAtsFnQRXAZj/HP6O/JT8Iv35/Qn/eQDNAEgA0P+Q/yL+XP0O/v0AHwVFB5kErf219y322Ph//7wH9QklBin+xfRs7VTufvoQCmcRCg7UA/b3RPLn9Yz+VQaRCRAI8QS6/h75Bvhf/XgGIg2sDFsFMvzM9vD4Ev9sBc4HtQWlAu4BVQIZAtsBqQJ9Ao0Anf9m/17/tP+TAtAFFgdhBWgBeP0A+478h/+qAUUCegElAi0DVQL8/gL7Ffw0AhEIxgmdBAr8APVc9AD6qv9xBY4IPQcYBHsA0/yR+ij82QC1BBoF7gH0/Pn3mfd8/P4C5gdRB70DWf5H+v34FPtj/+gDaAd7CP4FKP8792300PkLBIsMbAwjBE/3lu9j8rz9dgrpEUAQJAWs9Rfqvelh9L0ELA+tDkcEN/cH8Djxwva+/OIBFwN3AWj+SPrF9iT4bADQCRsMPgV5+ZvuoOoW8ab+VwuyDtAInf2I8YfszvGA/jQLqQ17Bdv6V/Ms8Vr21gChCMQKOAlzA0b6G/Qb9LT6IwM8B2gF+P+T++/6Tv0RAW0DeQT4BHgCnv1d+q37SwG+CawMuAYB+1PzovXi/TAGuAiPBcP/yfyd/NX9sQCYAwQFQgSeAL375vlr/aYD2AcTBi8Az/v2+uz97AGEBUoHHwZJBFMDlwIqAM/+owHuA70CZ/8x/GT6Fft6/msCVgSlAuwAOwGVAXcARP+q/rv+dAFcBxQLCAcj/WDx4Ooy8r8D1BP6GN0OkvyR7uPpl/JcBEwR/RKjCXH8CvJ07tj0sgAuCycP+gqCAkX5ZvP99U0BjQ2QEocNyAJW+DPz7va/AJkJiAvtBRT/0Pqz+S77z/ziACgEDQQ4ABP8bPm2+X/+zAQgCLUFCAMsAtQB6f9U/k7/sAH8AosCnQEKAW8BWgGgAPz+1vxd/UMBpQZiCWkFM/3V9mz2V/s6A3QKagoxBO39nfmv+UH9+AChA8QDiP/x+9T7DP1Z/v/+ZAGnAxwFjgVoAWv72vhs+3wBzAboBzEFqABa+W/0vvZm/gEGQArnCEQBVPfB8ZP1Lf2BAswDJQNU/5r7xPqB+1v80fxb/68C2wOu/kL2kPUi/xkLMxFVDH4AqvNG7kL1FAEbCYEK5wZ3Ad37fvdW9y/85gExB0oJvwZLANP3EvU9+l8CTAXzATX7yPVe9cz57wD5BtMHwQQuAUD9sfzn/rACUwdrCLMFBgA4+mX44/pBAMwFaQd6BIT/Zvw//RD/8QCnAv4B5f1Z+Yr4W/1WBEAH9AJ1/J358Pr1/nMCJQRaAzYDfAP4AOr89vqS/WMCiwSFA7sAPP63/BT7ovv//h8DWQWEA139Q/gc+ZYAswdfCKYCEPw7+vP9PAN0BL0CtgBAAiwFQwRS/sD6E/4uA08GyAXdAmcBRAJKA7kB8/1U/coAFQUxBCz++Pr1/BsAZ/76+Tj5tfun/zAEmAVoAoD+Hv7lANkCzwPEA74DyQLs/zD83/u1/+MBhQOdA+D+yvdU9dX6wwNJCeMImgLR+yP50/m1/Y8BpwL3AZYAxP5V/D362vui/5ACwgLnACn/sf5qACIBAADu/Tf8i/zC/WL+CP/a/9YAQgDe/Wf8cvws/0sDmQNhANT+ngGQBvMHHwXfALj91vyz/LD9lgFrBVgFpwGR+/b2S/lRA8AMBg3qBcr+S/w//Yj+RP8W/5r9Oftv+k38av2P/Rr+g/+cAPYAyACP/7b+af+IAWwDbgII/tT8DQGnBowI2wQo/3T7fv2aAq0FvQQDAbL+Qv57/2sBQgK0AisD3QPvARn9pvjL9gz47PsxAFoDuAJn/eL3cvZJ+/0BfAVYBED/p/n2+TUAKwbOBcX/r/lf94r5iP4DBeoH1gW/AGD83fpn/bACqQdrCr0HmwEH/Fz6Cvy7/1oDpgQNA5b/rf38/B7+sAFCBSwGLQQ2/wz5Q/eH+igATwTgBKUCqP8A/Zv7Pfvi+0P+vAD2At0DwgHx/SP8Bv0C/xoBzQLEA4wEBgTZAu//Kvw3+wP+WQNxBooF4AH4/tH+DwEGA7QD/AIwAu0BbAG//4X9Zf0//+kAjABU/wz9NPtr+mD6gfxcAHMEtgb9BAUB8/zl+53+IgKqA4kDKQN4AvwAef7b/Xv/aAEMAkwCEgG9//r+7f/sAWQCmgE0Aa4AYf6Z/Oj85QDuAsIB/f6w/AD8iPtB/er/agC8/jH9Ffxr+rb4IPqD/tkAqf8H/UT7aPvA/Br/EgFXAe3+UPw9+yH71/u6/uUDJgfcBecANfsG96T2hfpZACYFNAbgAyP/wfrz+Oz5f/6bAlUEPAPf/1T9z/wT/lgAugLwAi0Bzf1m+qX6m/3wAYgEVQNOALn8efxt/xIDLQWMBGsCLgCD/20AlwJoBIAEywLuADQA1f9+/6T/pgD3Aj8FUAU3Ak7+hv1AAJcFIgkUB7MBVf23/Nb+bAFQA0AEKQSQAoEAeP68/Gb9xf6lAIIBggBNAG0AIABl/q38Pvwh/PT7BPwv/ooBjwT0BYgEMwCN+0L7Ef6QAqQEBwWvBAkDkQFRAGAAHgKTBOUFogUOAsP9AfsI/Dz/SwLzAzcDSwCc+4P4Tvj0+50A9gNQBG//Nvoo9x732/rdAHEFOAd+Ben//fso+mv8LgB+Ak4CfgCw/7b/PgCg/vz8Sf3R/14C8QItAY/93/py+vD7z/3Z/un/VADS/xr92/my+LX6v/1O/6v/oP0W+xr5kfcO+ED5hfpK/g8CdQPrAD383vfi9az2C/rC/rcBTQEn/vT6LfgE91H44vv5/uIAsgLNBsIO8xWTF6gTGwn7/HL5yv8ODBUWghipFnwTnBAyDNcFyQCk/00E7At/EmMSwQvZBa4DpAJk/sf38vT69+/+5AQqBRgAufjl8kjw9e/r7i/xgfkvA7MHggM6+UTu8epx79z4LAHJAp4DAQd7CaoH1wDC+Rf4NvzSAt4IWQy+DDcLHwjbAin7efWY9R/8fwXaCsIJ9gQc/175r/b29eLzwvT4+sQAzwJaAXr8Wfdu9Yb2zvjO9wz2n/an+oMAIwOkAJH5SfPw8K7xqvPi9db3efvJ/vL8lPXi7jjuvPGb9qv37vRN87DzDvTP8gPvgusB79P+IxuvNKs6ZyklC4Hwq+gZ+5sWuStuNDcwOiUkGj8S6QviCAoMBBZCHhUftBU1CDwBywIzCaMJKAFb+Dr2cP3rCHwNEAZk+Djpqt4H3Aber+GT6In23gLxA7713OAo0TrTjuN48Y35x/yM/zMCLAPDAHP6svYw/LIK1xaTGgAXRBBJDNQJVQuTDoEQGBKnFVYZ8RZMEGoItwIDA1kFRgYlBrgFngXFBO0CB/9/+YrzQe8l8G/0kvns+3b69fY28drsQOv+7MvwCvWg9VnzwPN09iX6IPwG/a/+AgLoAaT9T/up/OQBCAXMAe/9If89AUEAK/3E/EX+wvta+NT3c/iZ98r0EvK+76rsVuvo6rPpPuUf4dTi+elp+gsY0DYFQY40YxFB4XbEzMU37C8nRUmqSls5IyVyEmQCDfRQ7xf/yxf4KEsrTSNHFZsM7QiQBK37s/BM75377w1FGg0ZsQcS9Szm1tpM1TnWveKx+HIK6g39ArLtYNmhz5/Ux+SC+HAHWxJLGOgX0A9i/2rxZexB9uIHJxf7Hpwh+CIGH6AYmg/7CIYGpgdKD1ManSA1HkwXmA69Bgj/yfms+Yz9ugHrArUDOgYdA2T3wunM3lzbgt9H6oT3I/3Y+pv2w/Nz8hvwOetF6TbtqfeSA0kIfwfWBc0C3fzV98H0k/WU/BUFxgrFDvkMmgQy+qDycvIf93f7s/9JAoACrf6o9qbxr+0k6Xfn0unB6bzkS9062yHjFv/5JPg9hkIwLSL+4slKtc/FxP1vPGdVF022NNodNw6BAfP0q/DV/6Yc5zUSOuIq0hLr/8IB5AUu+/Plwtkx6lQMlyGCHgAJC+lX0e/NBdM222DpIvtTDT8SjQj78kjb78v4zmbjl/VB/nAFOxKrGKIV0wfY+P/yRPgZCOcUchymI5InzSYbH10Q1QJp/7MGXRNJIGsgLRr8Fq4WBQ4d/SXviugF7dz1/vxI/239Pffl9F7xnOqq5XDk6+gS76n0Hvkv/mD+Mvxx9qPvz+pp7Gv3MQFcBhYItgj6B1YHCgKk+YDzvvZhAGAIZwtCCZ4EhgGYAXoADvzV8ZXt8vAt9vX4wvZA8jXvhedu4JHd1t7E5gL+UiWRQOFCOC2B/dLEzrCRw67vIihDS6JOrj8/JIcOdP7c7Wno6/TrEhAvMznRL9EdJAqXAzsAH/Cx2sDTSOr3FH01ZjeLF8/qS8mhv8TFqcwA2SzrIgHiEJoSNf505ePWm9Zn3r/lifJbBd8c1zH7NhwqABLR/MX5nANgEfwa6R7PHwEfoxlsFBMO/QW4ApIESAsWFB8YnxdJEEQB8PO96OzkZ+l679/yD/at9l72b/mR+uz1a+zB4cTZV94763D5FgUWB94E9wJf/EPzse9e8Pv1aANIE00ZJRBDBPT6kvZa9q75awGjBq0JvwyFCjYCO/qp8n/v8e1J6+znQ+fu6xPvlO3t5w/cEtWg3/P/YDJhWkRdTTFX41WjFJp4xaMUA1teaiNTujmsIFgQYQHp7LbimPBGFzU7fUTZMWoUdQLs/nPzttzxwynA39/8EdswnywiCNjar8HivE7AHsQr0fPqiA0HKTwoigrV5mvNsM6X4Yz1GQRhEsQe8ikKLd0fwQ4SAZoAfQdZEEMSqxTdH3As4DA+KnwXCgSJ/YcDHBCfFagR2Q+LDGgEfvsj8T/rd+kC7gbvLOr95prpZfQZ/2j9DfJO57/i1+VI6xTvLfEu90UB3QxiDz0FZPkv9Gj27PxKApAGrwreC3gNtQlH/jTzFe+w8735RvnD9Ijubeqx7Qf1zfhV9g3s+Nwk0sXOH9bA56cDASkLS8JQFEAhD9XI36WFtCjtoDaTZSpjAElbK4kTOgaP+OPicdZU7OgbGz2zP00tmRH+/XH3FfC82nrCWb8Z4f0SHDAlKewKmuQdy9fBy79cxJ3OteYyDJYmASTBCtXu7uCk4L3sR/gC/UAD6BR7K3k1SzASHpsIoAJBCOgR4RjyGH0aGB8+JbIjhRmDCon/GAGACBcMCQgnAo8AfwNkBlsEifg/6x3nluif7Y3sAeeD6oPzcf1RAof4eeZj24Tequ2J+6L/fwKkBukKeQ1aB0L68+1C7dH3JQMJCasK1Qx6DcQHn/0H9WDv7/HU+3j+BPYO6gHmJ+zt9Ej0eejn2XrSeNs39Wwa/zuNTa9G5yXo6F+zba4o0a8PKEkDXPlN8TVSIVsRpQPz8qbmuPGAEV8nuSl5H2cPNgmKDqQLavJl0rTBkdJ3++oeyCZ8EAnyX90x1YHRlcx8y3jVUO2fC6IZOBEp/5TvhuoD8zf8s/6I/6cDVw/OH84r/iaxGM4N3wtpEFEU9RJCD0YRdxuHJ50mtRglBFH2wPqVB0MRFRBIBBr4J/Q69i35pPY27ubnQ+nO7I3sT+eF5HHoXOxG8f7zg/Dg6snp8O158mf3ov8SBn0G+APMAL796v2k/l3+vv8WAuEF6wlRDB8JPQFS+IfznfN/9bb25POb7xLxX/Pa8DbqUODy3JzphQuyNk9NTkTTIiPq5b7hvPXcSA9uNJVC2j/oM68mmRnJCbf4G/De97UINxQmFisUsRNqFs4Xrw+++WTfPdHy1FjqLQJWEUQT4wTM8zjiStRHz8jVS+Py7ev1WPsdAecE3QMZAfD77feX+jIBywY5BjAJDhTyG2we9BzDGOIU5xOwFUYWRRNdEogVcxm8HUEfNxgyDwMIqgH7/5L8ivpD+z77Ovwh/Tn6ofOK77DsZ+lJ5X7gZd+j4fbilOUc7D/1TvgY+Jj3rPbQ9l74gPwM/DD8uAAxCLEMQAvwB7EE+wK9AoEDTAIb/6r8vfsO+wX92fyO933y1+526mvki9/Y3Yfj1/d7Fngyoz8pNpUWZOnWyqjHoNrD/8UhPDPQOoY6hTOwJQgRpvzH8IH1RACPBnAJEw1uE+IZxR7iGAEEUOne1tbTet6G7t//cA6hEPwIvPjS51LbtNX931nsEvNr9k36KAIEB78HOAPE/Rf8Kv0r/6///gHFBr0P1Bn7HwUg0Bu8F1UToQ3VB9wFEgaKC7ITtBghF7gPKgV/+7r4P/nx+XD58fdp9XzyefHy9S36nPtN+b7xXuoy5kDnA+ol7YP0nf0mBvgJRQab/ff0ZfHD8pb4h/1TAlsITgu0CuAIsQRV/yH7PviA9772Z/UE9jr4F/vS/JT6OvZE8uztUuvo6Y7pyO5w/LYPgCB1KX8lqhfmBELzdOpu62H1JQUiFrolaSzTKnUiMRVyByD9ivhq9Lzzxvbt/fII+hEoF44X0w+3A+/10ule4oXgpubS8Fv8/wTtB9cFSf9V97Pxie1h6rjqAO/p9rH+NgSPB3oIogjvCM8HGgNx/d/6Cv48BEgL6BHWFtIXBBWrEcALOQT4/k4AxgROCRcMrgo/B28Cwf+9/sX8gvlJ9TjxCe+P7/nxu/aH/EYADAF+/iD5KfN+7FfpxutL8qX8rgXxCYYItAKu/Nr5qPrZ/Kn+/P40/yABwgNaBu8H8gepBkIFCAQ0AcD9nvoG+SD6n/z+/kH/u/3W/Ev8R/yJ/bX9/vwW/IH7Xv25/yQBUQIVA2MDlgIhArABYwAZAAABXQMMBVIEpQLAASkDpQXzBxwJ8wY2A0ABwwCkALYAeAAM/z7+b/6Z/yICMgVKB1gGLwL0/Jb58fn6+yP9R/6o/sz/eAKHBBcDe/4V+h74CPn8+X36RPwm/08DgAYnBzAEev9J/Vr9Cv78/df+zQDLAhEEXARVA+8BAQGLAbMAJf19+hH6+frK+2T9K/9xAA0AiP5e/CP6Kfn4+ZH75/ob+a34ZPvd/h0Ajv8b/q/+LQAGAXMAaP6Q/Jn9ngABAsMADv7t/C/+YwAyAXv+yvqG+Vj5v/u9/24DGQXOA1oBwv4o/Gj64Ppy/B3+Rv9nAgYGLAfEBUwCN/91/E36afoZ/I7++AA8A2YFYgZqBR8Dj/9N+xb4rPiU/bQDQgcUBpcDwwFqAf0BhQH8/q78r/y9/g8CJwMSAtIAnQBQAckAdf5y/BL8lv1LALIC7wKZAgkDBwRNBbQE2AL7AMgANQJVA0MDXQIBAgkDVgXVBmEGCAQhAuABKwKvAfv+wPz0/BoAhwSEBv8EDAFR/Xb7hfpU+eX4KfvK/3sFoAhHB2QDTf/P/YD+Pf6w/Jz7Yfy3/uYBkgSuBLYDDgIiABz+B/zs+r77+/3m/xoBEAJRAtYBTAGN/0P91fvi+yb9bf/cAVUDFwSVA7EBy//C/uP+JADzARUD9ALsAQkBbf9h/Ub8vftg/GT+jgEaBOUE1QO3ACv9Mft0+4D95P+ZASICDgIaAj0CvAJpAocB1gAbAFD/OP8DAL8BKwSoBIgD7QBR/jH9Rf4HAHgAQf/J/Sn+GP+CAGwA7/7A/Ib7Jvz3/e3/YgEWArgBOwA2/Xn6EPke+gj9/v9wAaMBPAH9AEsAqf4d/FH5E/nQ+0b/kQFpAcf/Q/+E/4X/Av5D+4D56/p9/+sDVgWXA8IAGf+w/oX+O/70/V7+MgDMAQsC8AFFAgYE5AVdBZsCGf///Jb9CQChATQBqQCMADIC4gM6BBYDPgGyAN4BWgRzBW8EQQKAAPX/WQDEAM0AUwBEAEwANACV//b9NP3p/R//zv8EAM//KQCGAEkAd/9O/l79A/7t/4EBqALeAlICbwEdAJL+9P3b/qUA0AHBAfT/mP2X/CH98/5qAK4Ajv8t/pL91f2i/sP+6P78/rr+Gf76/cr+hP+OAFkBiQDY/vz9kP50AP8BlgFSANj/tP9DACMA//7x/Zj9Xf+qAWoDDgT2A64DywKrAXz/xP1w/bv+DwExAqYC1gG1AGAAbwD4/7n+6/z4+w/9Gf9lAMkAdABr/3b+uv3J/JX7j/vI/Cf/owDZANv/7/60/uP+F//s/rX/2gB7AtUDeQT3A78C3gFcAcQAPgBAAK4AKgGwAfcBVAFQAMD/gf8uAN3/sP5V/rz+UgC/AQgCHQCa/Wb88f1UAMsAFgBI/zL/xf+oAHgBawFPAO//0f95/4z/AABjAbEBawC7/rL+5/8mAd4BTwB1/oT9Q/4AAPUAjP/v/cP93/5/APQA9v9Q/ir+D/8mAAMA0v70/Sr/CgIoBCEEPgJw/1L+9f6L/+z/UP9F/9z/2ABqAbwBMQIRA1wDfwIWASoAeQAwAfcBJwFKAHEACwJZAwQDMwGt/rL9Xv4rAOIB+AL7At8B2gBzALUAfAGJAVwBEgGEAJAAdABbAGoAvACgAXQCCgLgAL7/oP7m/sX/AwGLAisDuwJLAgYCfQK0AyMEHAQrA10CpAGdAGMABgDA/5z/Hv9//k3+jP7n/oH/Xf8N/5P/tQA8ASEAnf7u/Jb8Vv5iALkB5wAG/1H9bvzW/Pz9hP4c/kX98vzy/aT/1QASAUkA5f5//jv+MP5f/b78IP5KAF0CnQLrAAP/Lv7T/oP/Uv/g/Xv8Uvya/S3/5/9PAHYATgGDAlEDxQL1ATAB/gCIAWAC8ALEAjgDuAPXA/MC7wGfAUMCdAP9A1ADjgHNADABggIjBHkEhgMIApwAFACxABwBEgGQANT/Pv+B/3oAHAEgATgAyP5x/SL9dv2k/t//v/8V/wL/D//X/k7/l//8/1wA3/92/kn9Cv03/oz/7/+1/5j/pABIAQwBZP/r/R7+w//XAZcCswFLAPb/2AAAAloC6gHJADsAogA0ABD/3fy5+rf6lPxy/90AlgDU/87/agCPAIgAqf9K/oj9Hf1D/fP9Af/C//b/aP8d/tP8f/wp/Vr+NQBvAc0BvACP/x7/Nf+N/+j/LgAAAOT/6/66/Y39Xv4v/xr/ov5B/jT+0v5g/xz/y/5d/zYAJAGQAEz/i/7l/aH+7v8aAVYBOwAP/oP8CP2m/q3/kf9S/gP9s/37/t3/q//G/rr+IP+5/33/9f5n/pr9Of2c/ar+4v9EAEoAaQDP/8//BgDy/3//O/+W/34AOgGTAWsBxQDVALIARQHcAp0DHQNqAuoBdAEvAY8BZQLHAqcCHAJ9AewAWAHOAXYBEgIOA0IE+AQZBAACAwAw/2z/cAC3AOEAWgGcASsBvv/g/Qn8ffuN/C/+K//8/mr+Y/6h/rb/7v/i/r39dv2m/jkAIAFOAF7/6v7g/pT+Bv2N+gX5I/pz/BP+u/5e/ub+TAC4AEwAjQBdAWQCjgPOAu4AfP8e/wQA7wBjAZgBPAFgATUC8AIlA/8C8QIrA28D2gI/ARsAWQCtAQcDrAKRAV8ARQDKAQEDTAMpAn4AlP9P/6z/RQCpAFwB/gGsAscCowGvAOP/MP92/nn+CP97/ykAjQD//4r/g//9/g/+9vxH/Yv+2P+oAKUAGwCe/6H/QgDpAIgBoQF3AVUCZgNcBPoDoQL9AFEAWQCoAKcAXP98/hH+EP7i/Wz9ofwu/FX8N/39/TP+W/4l/gf+Ov50/wIA8P7u/Yf9v/36/igA+ABYABj/Zv6N/c38APzv+1H8Vv3d/rr/i/9f/jT9ef0V/tL+cf9N/3j/Xf+x/5//Jv+q/0kAgwDn/6j+kf5X//7/GAGbAeEBNgHp/3//O/+8/5MADgGuARMCnQLNAjcCtQFKAPD+kf6g/qD/MQDs/33/V/8RAHwAyf+h/s/9TP5J/17/HP84/6gAYgLLAvQB6wAAAJ3/3P/L/7z/Cv++/v7+nf9iAF0Avv9E/0gAxwGdAhsCHAA6/iX+av/7AJ8B4gAz/wP+Gv/1AAsCCgIiAVwA8wD6AvAEQQWNBE8D9QHOAcoC9wMzBEUDdQHP/0H/af+i//j/o/8Q/zH/n/+GAJ4B+wHXAd0Aff/R/gD/jv+E/0n/UP8UAKYAKgCZ/mr90Pzh/Hv9vv7B/33/3P7Z/c39nP1f/lv+5/wk/A/9DP8DAIQAEQDb/5v/8P6r/Wv9nv7DAG8C5gIDAygCWgEEAVkBkAGHAWgAev/9/lT/LgBtABEAG/+V/p7+R/9H/yj/lf76/V/+bf8xAGsAQgB4/9X++f2y/Q3+u/6i/zAABwAmAI0AVAD6/yv/0f4w//3/oACoAI0AuAC5Ab4CKwNGAnoA9P6t/mMAbALUA8wDVAP5ApQBEwA1/7j/XAERAogAHP4t/eP9Uv9d/4P+vP7O/28BxQGJAD/+h/0I/9EAdAFCAHj/2/9uARMDyAIqAYL/hP4B/yf/O/4l/k//8AGRBCgFcAPEAegAYACZAD8AvP89/7f+aP6Z/gD/Qv/2/4z/4P2n/Pn8jP65/+f/x/5x/Rv86ful/K/9Pf/MACECnQI2AggAZ/36+9/8I/+dAP4Aqv/v/dv9UP/oAUADaQKkAJb/IwB7AYACkwI3AhEC5gE6AfAAxwDu/4z+//3O/mQAFAERAegB4wJLA6MBxv81/5j/gwDeAA8BfwEuArYCOwNHAxYC7/8z/1f/q/7j/Y3+EAFGBFQF0wMGAvsAsgEgA+UD4wJAAfz/DQB2AY4C4gHe/7/+3v63/zMAKQAJAKP/Lv8H/s78efxt/QD/lf9P//b+AP8t/0f/cv4l/or+xP5c/pP8Z/su/MH+LgG7AU4Aof2V+/b7Yf7kAB0C1QEuAVEBIgF1/6D9Vvxt/If9Rv5U/k3+nP4c/0P/bv60/EX79vv8/fX/swDLAJgA7QBuAfQBjgK0AvABEgDU/mP+SP+FAL4BPwKkAer/af45//0AEwLAAeMAUQDPAHkBjgEQASQAJADMADwCGwSuBKgDAQMTA0cDowKrAP/+mP5s/9MAUAKkArUC0QGnACQAef8m/4H9mvyy/ZH/KACQ/lP91P3k/9ABRwIAAssBCAHXAEsAT/9h/10AhAErArYBgwAoAFgAEwGpAOL/1v/X/1f/rv6D/mj+S/5V/gD/5P5o/gn+uP0b/sv+yv/nAGcBngGRAssCvwEgANz+Mv5D/ob+rv1S/Wz99v2c/qb++f2K/dn9W/51/m799vx+/XT/CgGxAQQCwAFCAUUApf/s/ir+H/56/50BAANMAgUBl/9d/2UAVwF1AVIAUgBjARADaQJqAKT+cf66/3MAmwBCADUA+f+k/1P/7v6L/pD/BgH3AIYApP+J/7oA4QGwArIBLv8//MP7E/3B/jn/dv5l/rz+bgCjAfX/j/zn+mr8ff9lAV8CvQH7/vv8N/yM/Dr9RP6z/yEAFQCs//r/ev+l/kv+av7r/r7+4/63/wIBAwEOAGf/xv81AKUBJQLVAGL/Af+qACoC5QLnAeP/o/4j/4AA9wCYANb/uP5s/4cBsgKXAksBQQA5AAEBqwFRAWQAqwA8AvwCoAEz/yP+Vf9JAMf/xf6d/X3+EAGnA7gDXQGb/+3/bQItBCoDrv8Y/F/7Xf0q/7kA3AGOAZoAmQAaASwCjAMfA7wCiwKvAs4C9gEIAqACvQEaAGH/X//P/wsAQv+e/Qf9Cf6w/+3/Jf/y/j7/7v8vAO//q/6w/CL8Uv5FACkB3wDf//j/ggCrAdQB6wBz/qL8mf6lABABHgDe/TD7bfrS+/H+cAD6/6b/3P55/8UAWwEAAPT93/zm/YH/rv/4/lT/jABnAoQDpgK1/0r+zgCFAjYDSALNAAAAIQCRASAD4AO5A98BewDz/1kAuADGAIMAsP5B/a78UP4ZANv/lP5Z/hb/EQBG/5X/sQErAxUDggDc/mr/xgAZAAH+P/5QAIMCEgOEAJT9Tf3A/xACzQJtAtcAP/+Y/78CCwX9Avj+afyS/Xn/WgDq/479g/vP+qv8mP9nAFL/VP62/p//uQEBBJAEJAPz/wL9l/w9/8YCIQSiAssBLgJdAsL/bvxX/M3+1gHuA+cCdQD1/Sr9x/9TA1oE9gHlAH0BUAMYA0gCJwHbAQgEUwMlAY3++P4CAe4Brf8T/W38f/y8+0j6Sfvs/Rb/T/9I/0gAuQGiATUBeAGDAY//1P7RALkDSQX/A9ABTQC/AMUCywM+AogB7wFOAsMDeATeBMMDxwPdCDkLp/8S7avkjOq294wH7BGQC6X6/O9O+csJxw3kBLf5D/hP+5P9P/02/W3+J/7j/wUDBwZtCNYHVQWkAd/81vqw/OX9qPhp9db75wfjDssIXvyK7z3qfO+6+yYEhgSc/qv2nfcE/sQBeACn/KT4E/jZ+jn/AQEeAdwArf+X/839X/sQ+x798/88A1wFbwXJAbH8aPxkAekG8gdnBCYAD/6h/04BzwJ7A+wBHQATALwBEAIUAkACNQHP/Ej5hvytAggDCv8k/qEBsAIA/zv7Vvw///v9r/t3/j0CbAHVAKMDCwaRAUj85/7eBL0D6frD8Q3vZPJp+yEIlw78CW0AJvsn/P//YQE6/mr6L/pT/H39J/9DAoEE+gJW/0/99fx3/QX9uvzB/acBQATrAuX9RPjP95n9eANfA1AArfzl+xoALQaQBXYBBgIqBAsFPwMsAu0CCAU7BtABpPv8+G/+GgceDCQJvQJx/PP2+fg0AR8IcgTX/cL8yv9iAjACmAFTAAkAZv3s+h77rPqE+/D/7QaTB/MDgv89/Sz/oQMXCBcHnwH9+qr7LQI8BW4CfQEiBRcF+P/r+yH+uQJTBMoCJQHTALD/r/9KAAwAWP/D/7r+av00/v/9Pvyq/foC3gOkAt8BdgGX/67+l/7M/UwBTgbtBhcBxfuE/AkBZASZAlIA6/9E/6P+ef84ASYAov/+AB8BPADpABsCGf9W/ND+ugAA/ub8jwJSBr0C1P6y/uMAQgNRBZoESQEKAPz/vQDoAJH/2/wI+z/9GgGjBAgEDwCf/Q392Pyk/AT+z/4K/00BCwJGAoQEsAbJArr8tfzhAMsD6gFo/X38r/+kAg4C4QCn/0X/CAPTBHYCXv7q/dL9eP/UAbX/WPyK/If+/vyv/ET+wf/TAbsDeQH0+8X5Fv1jAnkDjP+a/eT/WgHt/9P+vvzt++n/5AOTAcL+dwBNAkMCPwI5Acn+//0L/rn9dv0L/1IBDgSlAtj+pf4BA3EDfv/K/mYBcgJRAcQBagFrAB4AAQGR/+X+fAC8AQAAJv6g/Cb72v0dA6cDpP+E/6UBGwDG/Ub/9v93/Wv7Wv3n/xoBegAdASID7QFa/Rz8VwDWAtcCcAW+Bp8BoPvQ/E0CDwQHAEz53vlNAAECgfth+Mz7Nf1I/Bv8tPuO+4H+gQLuAncBhf4T/QYA2gIQAt4AsQLOACP9GPxl/vz/bQH0AfoCiwQuAkX8OvzEBUwLWQeeAIv/jv8Z/gD/uwRBCfsFAf/y+xz8K/oG9q/3YQAiB7MFVP+Z+mH3K/n+/0IHQgf8/1/4U/ndAAgD5f0A/XYCnAOzAHT+df31+gj+PgQ/BYH/q/soABUFFASt/v39ywGQBNEDBAF6//P/0v/a/sgAIgXeBJv/MfzF+0L8XPxY/cn/DQQ+BycE5P1E+uz7sf/aAWMBrQB2Ak0D+wC6/zsBxQHKAGMBqgD/+0b6sf3gAIsBAwTQBbUDoQAj/zP/DAGJA64CUP/s/An+WQL4BesEfAILBOoGmQXB/3L3s/GE8yj8RwMqBfECf/29+Gn4+Px4ARMDJwE=\" type=\"audio/wav\" />\n",
       "                    Your browser does not support the audio element.\n",
       "                </audio>\n",
       "              "
      ],
      "text/plain": [
       "<IPython.lib.display.Audio object>"
      ]
     },
     "metadata": {},
     "output_type": "display_data"
    }
   ],
   "source": [
    "print(names[0])\n",
    "IPython.display.display(Audio(data=samples[0][0], rate=sr[0]))"
   ]
  },
  {
   "cell_type": "markdown",
   "id": "4085774a-49c9-4a53-a3a1-5f07602b4d37",
   "metadata": {},
   "source": [
    "### Print waveform of all input recording files"
   ]
  },
  {
   "cell_type": "code",
   "execution_count": 55,
   "id": "d5a2ef5a",
   "metadata": {},
   "outputs": [
    {
     "name": "stdout",
     "output_type": "stream",
     "text": [
      "0\n"
     ]
    },
    {
     "data": {
      "image/png": "[encoded data removed]",
      "text/plain": [
       "<Figure size 640x480 with 1 Axes>"
      ]
     },
     "metadata": {},
     "output_type": "display_data"
    },
    {
     "name": "stdout",
     "output_type": "stream",
     "text": [
      "1\n"
     ]
    },
    {
     "data": {
      "image/png": "[encoded data removed]",
      "text/plain": [
       "<Figure size 640x480 with 1 Axes>"
      ]
     },
     "metadata": {},
     "output_type": "display_data"
    },
    {
     "name": "stdout",
     "output_type": "stream",
     "text": [
      "2\n"
     ]
    },
    {
     "data": {
      "image/png": "[encoded data removed]",
      "text/plain": [
       "<Figure size 640x480 with 1 Axes>"
      ]
     },
     "metadata": {},
     "output_type": "display_data"
    },
    {
     "name": "stdout",
     "output_type": "stream",
     "text": [
      "3\n"
     ]
    },
    {
     "data": {
      "image/png": "[encoded data removed]",
      "text/plain": [
       "<Figure size 640x480 with 1 Axes>"
      ]
     },
     "metadata": {},
     "output_type": "display_data"
    },
    {
     "name": "stdout",
     "output_type": "stream",
     "text": [
      "4\n"
     ]
    },
    {
     "data": {
      "image/png": "[encoded data removed]",
      "text/plain": [
       "<Figure size 640x480 with 1 Axes>"
      ]
     },
     "metadata": {},
     "output_type": "display_data"
    },
    {
     "name": "stdout",
     "output_type": "stream",
     "text": [
      "5\n"
     ]
    },
    {
     "data": {
      "image/png": "[encoded data removed]",
      "text/plain": [
       "<Figure size 640x480 with 1 Axes>"
      ]
     },
     "metadata": {},
     "output_type": "display_data"
    },
    {
     "name": "stdout",
     "output_type": "stream",
     "text": [
      "6\n"
     ]
    },
    {
     "data": {
      "image/png": "[encoded data removed]",
      "text/plain": [
       "<Figure size 640x480 with 1 Axes>"
      ]
     },
     "metadata": {},
     "output_type": "display_data"
    },
    {
     "name": "stdout",
     "output_type": "stream",
     "text": [
      "7\n"
     ]
    },
    {
     "data": {
      "image/png": "[encoded data removed]",
      "text/plain": [
       "<Figure size 640x480 with 1 Axes>"
      ]
     },
     "metadata": {},
     "output_type": "display_data"
    },
    {
     "name": "stdout",
     "output_type": "stream",
     "text": [
      "8\n"
     ]
    },
    {
     "data": {
      "image/png": "[encoded data removed]",
      "text/plain": [
       "<Figure size 640x480 with 1 Axes>"
      ]
     },
     "metadata": {},
     "output_type": "display_data"
    },
    {
     "name": "stdout",
     "output_type": "stream",
     "text": [
      "9\n"
     ]
    },
    {
     "data": {
      "image/png": "[encoded data removed]",
      "text/plain": [
       "<Figure size 640x480 with 1 Axes>"
      ]
     },
     "metadata": {},
     "output_type": "display_data"
    },
    {
     "name": "stdout",
     "output_type": "stream",
     "text": [
      "10\n"
     ]
    },
    {
     "ename": "KeyboardInterrupt",
     "evalue": "",
     "output_type": "error",
     "traceback": [
      "\u001b[1;31m---------------------------------------------------------------------------\u001b[0m",
      "\u001b[1;31mKeyboardInterrupt\u001b[0m                         Traceback (most recent call last)",
      "Cell \u001b[1;32mIn[55], line 5\u001b[0m\n\u001b[0;32m      3\u001b[0m \u001b[38;5;28mprint\u001b[39m(h)\n\u001b[0;32m      4\u001b[0m \u001b[38;5;66;03m#plt.subplot(len(y),1,h)\u001b[39;00m\n\u001b[1;32m----> 5\u001b[0m \u001b[43mlibrosa\u001b[49m\u001b[38;5;241;43m.\u001b[39;49m\u001b[43mdisplay\u001b[49m\u001b[38;5;241;43m.\u001b[39;49m\u001b[43mwaveshow\u001b[49m\u001b[43m(\u001b[49m\u001b[43my\u001b[49m\u001b[38;5;241;43m=\u001b[39;49m\u001b[43mi\u001b[49m\u001b[43m,\u001b[49m\u001b[43m \u001b[49m\u001b[43msr\u001b[49m\u001b[38;5;241;43m=\u001b[39;49m\u001b[43mj\u001b[49m\u001b[43m,\u001b[49m\u001b[43m \u001b[49m\u001b[43mlabel\u001b[49m\u001b[38;5;241;43m=\u001b[39;49m\u001b[43mk\u001b[49m\u001b[43m,\u001b[49m\u001b[43mcolor\u001b[49m\u001b[38;5;241;43m=\u001b[39;49m\u001b[38;5;124;43m'\u001b[39;49m\u001b[38;5;124;43mb\u001b[39;49m\u001b[38;5;124;43m'\u001b[39;49m\u001b[43m)\u001b[49m\n\u001b[0;32m      6\u001b[0m plt\u001b[38;5;241m.\u001b[39mlegend()\n\u001b[0;32m      7\u001b[0m plt\u001b[38;5;241m.\u001b[39mshow()\n",
      "File \u001b[1;32m~\\.conda\\envs\\audio2\\lib\\site-packages\\librosa\\display.py:2019\u001b[0m, in \u001b[0;36mwaveshow\u001b[1;34m(y, sr, max_points, axis, offset, marker, where, label, transpose, ax, x_axis, **kwargs)\u001b[0m\n\u001b[0;32m   1826\u001b[0m \u001b[38;5;28;01mdef\u001b[39;00m \u001b[38;5;21mwaveshow\u001b[39m(\n\u001b[0;32m   1827\u001b[0m     y: np\u001b[38;5;241m.\u001b[39mndarray,\n\u001b[0;32m   1828\u001b[0m     \u001b[38;5;241m*\u001b[39m,\n\u001b[1;32m   (...)\u001b[0m\n\u001b[0;32m   1839\u001b[0m     \u001b[38;5;241m*\u001b[39m\u001b[38;5;241m*\u001b[39mkwargs: Any,\n\u001b[0;32m   1840\u001b[0m ) \u001b[38;5;241m-\u001b[39m\u001b[38;5;241m>\u001b[39m AdaptiveWaveplot:\n\u001b[0;32m   1841\u001b[0m \u001b[38;5;250m    \u001b[39m\u001b[38;5;124;03m\"\"\"Visualize a waveform in the time domain.\u001b[39;00m\n\u001b[0;32m   1842\u001b[0m \n\u001b[0;32m   1843\u001b[0m \u001b[38;5;124;03m    This function constructs a plot which adaptively switches between a raw\u001b[39;00m\n\u001b[1;32m   (...)\u001b[0m\n\u001b[0;32m   2017\u001b[0m \u001b[38;5;124;03m    >>> ax['h'].set(title='transpose=True')\u001b[39;00m\n\u001b[0;32m   2018\u001b[0m \u001b[38;5;124;03m    \"\"\"\u001b[39;00m\n\u001b[1;32m-> 2019\u001b[0m     \u001b[43mutil\u001b[49m\u001b[38;5;241;43m.\u001b[39;49m\u001b[43mvalid_audio\u001b[49m\u001b[43m(\u001b[49m\u001b[43my\u001b[49m\u001b[43m,\u001b[49m\u001b[43m \u001b[49m\u001b[43mmono\u001b[49m\u001b[38;5;241;43m=\u001b[39;49m\u001b[38;5;28;43;01mFalse\u001b[39;49;00m\u001b[43m)\u001b[49m\n\u001b[0;32m   2021\u001b[0m     \u001b[38;5;66;03m# Pad an extra channel dimension, if necessary\u001b[39;00m\n\u001b[0;32m   2022\u001b[0m     \u001b[38;5;28;01mif\u001b[39;00m y\u001b[38;5;241m.\u001b[39mndim \u001b[38;5;241m==\u001b[39m \u001b[38;5;241m1\u001b[39m:\n",
      "File \u001b[1;32m~\\.conda\\envs\\audio2\\lib\\site-packages\\librosa\\util\\utils.py:313\u001b[0m, in \u001b[0;36mvalid_audio\u001b[1;34m(y, mono)\u001b[0m\n\u001b[0;32m    308\u001b[0m \u001b[38;5;28;01mif\u001b[39;00m mono \u001b[38;5;129;01mand\u001b[39;00m y\u001b[38;5;241m.\u001b[39mndim \u001b[38;5;241m!=\u001b[39m \u001b[38;5;241m1\u001b[39m:\n\u001b[0;32m    309\u001b[0m     \u001b[38;5;28;01mraise\u001b[39;00m ParameterError(\n\u001b[0;32m    310\u001b[0m         \u001b[38;5;124mf\u001b[39m\u001b[38;5;124m\"\u001b[39m\u001b[38;5;124mInvalid shape for monophonic audio: ndim=\u001b[39m\u001b[38;5;132;01m{\u001b[39;00my\u001b[38;5;241m.\u001b[39mndim\u001b[38;5;132;01m:\u001b[39;00m\u001b[38;5;124md\u001b[39m\u001b[38;5;132;01m}\u001b[39;00m\u001b[38;5;124m, shape=\u001b[39m\u001b[38;5;132;01m{\u001b[39;00my\u001b[38;5;241m.\u001b[39mshape\u001b[38;5;132;01m}\u001b[39;00m\u001b[38;5;124m\"\u001b[39m\n\u001b[0;32m    311\u001b[0m     )\n\u001b[1;32m--> 313\u001b[0m \u001b[38;5;28;01mif\u001b[39;00m \u001b[38;5;129;01mnot\u001b[39;00m \u001b[43mnp\u001b[49m\u001b[38;5;241;43m.\u001b[39;49m\u001b[43misfinite\u001b[49m\u001b[43m(\u001b[49m\u001b[43my\u001b[49m\u001b[43m)\u001b[49m\u001b[38;5;241m.\u001b[39mall():\n\u001b[0;32m    314\u001b[0m     \u001b[38;5;28;01mraise\u001b[39;00m ParameterError(\u001b[38;5;124m\"\u001b[39m\u001b[38;5;124mAudio buffer is not finite everywhere\u001b[39m\u001b[38;5;124m\"\u001b[39m)\n\u001b[0;32m    316\u001b[0m \u001b[38;5;28;01mreturn\u001b[39;00m \u001b[38;5;28;01mTrue\u001b[39;00m\n",
      "\u001b[1;31mKeyboardInterrupt\u001b[0m: "
     ]
    }
   ],
   "source": [
    "h=0\n",
    "for i,j,k in zip(y,sr,names):\n",
    "    print(h)\n",
    "    #plt.subplot(len(y),1,h)\n",
    "    librosa.display.waveshow(y=i, sr=j, label=k,color='b')\n",
    "    plt.legend()\n",
    "    plt.show()\n",
    "    h+=1"
   ]
  },
  {
   "cell_type": "code",
   "execution_count": null,
   "id": "0aced23b-9f0a-4eee-ab55-edffeeb57118",
   "metadata": {},
   "outputs": [],
   "source": [
    "mfccs = librosa.feature.mfcc(y=samples[0][0], sr=sr[0], n_mfcc=30)\n",
    "print(mfccs.shape)\n",
    "\n",
    "plt.figure(figsize=(10, 5))\n",
    "librosa.display.specshow(mfccs, sr=sr[0], x_axis='time',y_axis=\"mel\")\n",
    "plt.show()"
   ]
  },
  {
   "cell_type": "code",
   "execution_count": null,
   "id": "aa6798ba",
   "metadata": {},
   "outputs": [],
   "source": [
    "Ydb=[]"
   ]
  },
  {
   "cell_type": "code",
   "execution_count": null,
   "id": "cf7608eb",
   "metadata": {},
   "outputs": [],
   "source": [
    "# graph power for every single input file \n",
    "h=0\n",
    "for i,j,k in zip(y,sr,names):\n",
    "    #plt.subplot(len(i),1,h)\n",
    "    Y=librosa.stft(i)\n",
    "    Ydb.append(librosa.amplitude_to_db(abs(Y)))\n",
    "    librosa.display.specshow(Ydb[-1], sr=j, x_axis=\"time\", y_axis=\"mel\")\n",
    "    plt.colorbar()\n",
    "    print(str(h)+\" \"+k)\n",
    "    plt.title(k)\n",
    "    plt.figure(figsize=(7, 2.5))\n",
    "    plt.show()\n",
    "    h+=1"
   ]
  },
  {
   "cell_type": "code",
   "execution_count": null,
   "id": "b8ea70c2",
   "metadata": {},
   "outputs": [],
   "source": [
    "len(Ydb)"
   ]
  },
  {
   "cell_type": "code",
   "execution_count": null,
   "id": "6d6c9a3a",
   "metadata": {},
   "outputs": [],
   "source": [
    "Ydb[0].shape"
   ]
  },
  {
   "cell_type": "code",
   "execution_count": null,
   "id": "77e516c1",
   "metadata": {},
   "outputs": [],
   "source": [
    "\"\"\"\n",
    "Y = librosa.stft(y[0])\n",
    "Ydb = librosa.amplitude_to_db(abs(Y))\n",
    "plt.figure(figsize=(14, 5))\n",
    "librosa.display.specshow(Ydb, sr=sr[0], x_axis=\"time\", y_axis=\"hz\")\n",
    "plt.colorbar()\n",
    "plt.show()    \n",
    "\"\"\" "
   ]
  },
  {
   "cell_type": "markdown",
   "id": "7b3295db-c2bc-4f54-9495-82b3273fef67",
   "metadata": {},
   "source": [
    "## Calculate Features"
   ]
  },
  {
   "cell_type": "code",
   "execution_count": 56,
   "id": "bd3dd5e9",
   "metadata": {},
   "outputs": [],
   "source": [
    "Ydb=[]\n",
    "mfcc=[]\n",
    "mfcc_delta=[]\n",
    "mfcc_delta_2=[]\n",
    "sample_file_names=[]"
   ]
  },
  {
   "cell_type": "code",
   "execution_count": 57,
   "id": "729b7499-768b-4698-b965-55de0ba0ab1c",
   "metadata": {},
   "outputs": [],
   "source": [
    "#Calculate features for each sample by iteration through the samples; add each to a master list\n",
    "h=0\n",
    "for i in samples:\n",
    "    for j in i:\n",
    "        Y=librosa.stft(j)\n",
    "        Ydb.append(librosa.amplitude_to_db(abs(Y)))\n",
    "        mfcc.append(librosa.feature.mfcc(y=j, sr=sr[h]))\n",
    "        mfcc_delta.append(librosa.feature.delta(mfcc[-1]))\n",
    "        mfcc_delta_2.append(librosa.feature.delta(mfcc[-1], order=2))\n",
    "\n",
    "    h+=1        "
   ]
  },
  {
   "cell_type": "code",
   "execution_count": 58,
   "id": "1afd4bb1-c0b8-45de-9ecd-4b5479d66dbf",
   "metadata": {},
   "outputs": [
    {
     "name": "stdout",
     "output_type": "stream",
     "text": [
      "15100\n",
      "(1025, 44)\n"
     ]
    }
   ],
   "source": [
    "print(len(Ydb))\n",
    "print(Ydb[0].shape)"
   ]
  },
  {
   "cell_type": "markdown",
   "id": "d5740f1c-7e4e-44e4-be72-db09e91fe687",
   "metadata": {},
   "source": [
    "### Iterate through the recordings and save the samples"
   ]
  },
  {
   "cell_type": "code",
   "execution_count": 59,
   "id": "6deb66fb-beb5-485d-b231-30ee4c3497cc",
   "metadata": {},
   "outputs": [],
   "source": [
    "# iterate through the recordings and save them \n",
    "\n",
    "h=0\n",
    "for i in range(0,len(samples)):\n",
    "    for j in range(0,len(samples[i])):\n",
    "        sample_file_names.append(names[i]+\"_Rec_\"+str(i)+\"_Sample_\"+str(j)+\".wav\")\n",
    "        #print(sample_file_names[h])\n",
    "        sf.write(SAMPLE_OUTPUT_DIRECTORY+sample_file_names[h], samples[i][j], sr[i], subtype='PCM_24')\n",
    "        h+=1\n"
   ]
  },
  {
   "cell_type": "code",
   "execution_count": 60,
   "id": "4a1083b0-6657-403f-b2fa-f038826cd089",
   "metadata": {},
   "outputs": [
    {
     "data": {
      "text/plain": [
       "'\\n# Calculate the features by recording, iterating through the recordings\\nfor i,j in zip(samples,sr):\\n    mfcc.append(librosa.feature.mfcc(y=i, sr=j))\\n    mfcc_delta.append(librosa.feature.delta(mfcc[-1]))\\n    mfcc_delta_2.append(librosa.feature.delta(mfcc[-1], order=2))\\n'"
      ]
     },
     "execution_count": 60,
     "metadata": {},
     "output_type": "execute_result"
    }
   ],
   "source": [
    "'''\n",
    "# Calculate the features by recording, iterating through the recordings\n",
    "for i,j in zip(samples,sr):\n",
    "    mfcc.append(librosa.feature.mfcc(y=i, sr=j))\n",
    "    mfcc_delta.append(librosa.feature.delta(mfcc[-1]))\n",
    "    mfcc_delta_2.append(librosa.feature.delta(mfcc[-1], order=2))\n",
    "'''"
   ]
  },
  {
   "cell_type": "code",
   "execution_count": 61,
   "id": "2e30a138",
   "metadata": {},
   "outputs": [
    {
     "name": "stdout",
     "output_type": "stream",
     "text": [
      "15100\n",
      "15100\n",
      "15100\n",
      "15100\n",
      "15100\n"
     ]
    }
   ],
   "source": [
    "print(len(Ydb))\n",
    "print(len(mfcc))\n",
    "print(len(mfcc_delta))\n",
    "print(len(mfcc_delta_2))\n",
    "print(len(Ydb))"
   ]
  },
  {
   "cell_type": "markdown",
   "id": "a5508564-f5f5-4eb8-9f35-0126dfdc77ae",
   "metadata": {},
   "source": [
    "## Graph features by recording"
   ]
  },
  {
   "cell_type": "code",
   "execution_count": null,
   "id": "26b2abdc",
   "metadata": {},
   "outputs": [],
   "source": [
    "# Graph the feature for each recording\n",
    "h=1\n",
    "for i,j,k in zip(y,sr,names):\n",
    "    #plt.subplot(len(i),1,h)\n",
    "    #Y=librosa.stft(i)\n",
    "    #Ydb.append(librosa.amplitude_to_db(abs(Y)))\n",
    "    print(str(h)+\": \"+k)\n",
    "    librosa.display.specshow(mfcc[h-1], sr=j, x_axis=\"time\", y_axis=\"mel\")\n",
    "    plt.colorbar()\n",
    "    plt.title(k+\" \"+r'MFCC')\n",
    "    plt.figure(figsize=(14, 5))\n",
    "    plt.show()\n",
    "    h+=1"
   ]
  },
  {
   "cell_type": "code",
   "execution_count": null,
   "id": "115dfb90",
   "metadata": {
    "scrolled": true
   },
   "outputs": [],
   "source": [
    "# Graph the feature for each recording\n",
    "h=1\n",
    "for i,j,k in zip(y,sr,names):\n",
    "    #plt.subplot(len(i),1,h)\n",
    "    #Y=librosa.stft(i)\n",
    "    #Ydb.append(librosa.amplitude_to_db(abs(Y)))\n",
    "    librosa.display.specshow(mfcc_delta[h-1], sr=j, x_axis=\"time\", y_axis=\"mel\")\n",
    "    plt.colorbar()\n",
    "    print(str(h)+\": \"+k)\n",
    "    plt.title(k+\" \"+r'MFCC-$\\Delta$')\n",
    "    plt.figure(figsize=(14, 5))\n",
    "    plt.show()\n",
    "    h+=1"
   ]
  },
  {
   "cell_type": "code",
   "execution_count": null,
   "id": "645ef07c",
   "metadata": {
    "scrolled": true
   },
   "outputs": [],
   "source": [
    "# Graph the feature for each recording\n",
    "h=1\n",
    "for i,j,k in zip(y,sr,names):\n",
    "    #plt.subplot(len(i),1,h)\n",
    "    Y=librosa.stft(i)\n",
    "    #Ydb.append(librosa.amplitude_to_db(abs(Y)))\n",
    "    librosa.display.specshow(mfcc_delta_2[h-1], sr=j, x_axis=\"time\", y_axis=\"mel\")\n",
    "    plt.colorbar()\n",
    "    print(str(h)+\": \"+k)\n",
    "    plt.title(k+\" \"+r'MFCC-$\\Delta^2$')\n",
    "    plt.figure(figsize=(14, 5))\n",
    "    plt.show()\n",
    "    h+=1"
   ]
  },
  {
   "cell_type": "markdown",
   "id": "ddefb611-dcc8-47bf-b642-0593a8d218d6",
   "metadata": {},
   "source": [
    "## Define and export the DataFrame of Samples and their Characteristics"
   ]
  },
  {
   "cell_type": "code",
   "execution_count": 62,
   "id": "6c675fc2",
   "metadata": {},
   "outputs": [
    {
     "name": "stdout",
     "output_type": "stream",
     "text": [
      "167\n",
      "167\n",
      "167\n",
      "167\n",
      "167\n",
      "15100\n",
      "15100\n",
      "15100\n",
      "15100\n"
     ]
    }
   ],
   "source": [
    "print(len(filenames))\n",
    "print(len(names))\n",
    "print(len(dur))\n",
    "print(len(y))\n",
    "print(len(sr))\n",
    "print(len(Ydb))\n",
    "print(len(mfcc))\n",
    "print(len(mfcc_delta))\n",
    "print(len(mfcc_delta_2))"
   ]
  },
  {
   "cell_type": "code",
   "execution_count": 63,
   "id": "0826e43e",
   "metadata": {},
   "outputs": [
    {
     "ename": "NameError",
     "evalue": "name 'df' is not defined",
     "output_type": "error",
     "traceback": [
      "\u001b[1;31m---------------------------------------------------------------------------\u001b[0m",
      "\u001b[1;31mNameError\u001b[0m                                 Traceback (most recent call last)",
      "Cell \u001b[1;32mIn[63], line 1\u001b[0m\n\u001b[1;32m----> 1\u001b[0m \u001b[38;5;28;01mdel\u001b[39;00m(df)\n",
      "\u001b[1;31mNameError\u001b[0m: name 'df' is not defined"
     ]
    }
   ],
   "source": [
    "del(df)"
   ]
  },
  {
   "cell_type": "code",
   "execution_count": 64,
   "id": "1e36636a-4647-41f6-8141-c30d180151a2",
   "metadata": {},
   "outputs": [],
   "source": [
    "df_columns=[\n",
    "    \"filenames\",\"names\",\"counties\",\"towns\",\"urbanrural\",\"size\",\"genders\",\"ages\",\"dur\",\"recording num\",\"sample num\",\"sample file name\",\"sample\",\"Ydb\",\"sr\",\"mfcc\",\"mfcc_delta\",\"mfcc_delta_2\"\n",
    "]"
   ]
  },
  {
   "cell_type": "code",
   "execution_count": 65,
   "id": "76fdef11-7bf4-4fae-ad17-9d6126d9019f",
   "metadata": {},
   "outputs": [],
   "source": [
    "df=pd.DataFrame(columns=df_columns)"
   ]
  },
  {
   "cell_type": "code",
   "execution_count": 66,
   "id": "aa525e77-6a2c-401d-ad0b-317d3003ff63",
   "metadata": {},
   "outputs": [
    {
     "data": {
      "text/html": [
       "<div>\n",
       "<style scoped>\n",
       "    .dataframe tbody tr th:only-of-type {\n",
       "        vertical-align: middle;\n",
       "    }\n",
       "\n",
       "    .dataframe tbody tr th {\n",
       "        vertical-align: top;\n",
       "    }\n",
       "\n",
       "    .dataframe thead th {\n",
       "        text-align: right;\n",
       "    }\n",
       "</style>\n",
       "<table border=\"1\" class=\"dataframe\">\n",
       "  <thead>\n",
       "    <tr style=\"text-align: right;\">\n",
       "      <th></th>\n",
       "      <th>filenames</th>\n",
       "      <th>names</th>\n",
       "      <th>counties</th>\n",
       "      <th>towns</th>\n",
       "      <th>urbanrural</th>\n",
       "      <th>size</th>\n",
       "      <th>genders</th>\n",
       "      <th>ages</th>\n",
       "      <th>dur</th>\n",
       "      <th>recording num</th>\n",
       "      <th>sample num</th>\n",
       "      <th>sample file name</th>\n",
       "      <th>sample</th>\n",
       "      <th>Ydb</th>\n",
       "      <th>sr</th>\n",
       "      <th>mfcc</th>\n",
       "      <th>mfcc_delta</th>\n",
       "      <th>mfcc_delta_2</th>\n",
       "    </tr>\n",
       "  </thead>\n",
       "  <tbody>\n",
       "  </tbody>\n",
       "</table>\n",
       "</div>"
      ],
      "text/plain": [
       "Empty DataFrame\n",
       "Columns: [filenames, names, counties, towns, urbanrural, size, genders, ages, dur, recording num, sample num, sample file name, sample, Ydb, sr, mfcc, mfcc_delta, mfcc_delta_2]\n",
       "Index: []"
      ]
     },
     "execution_count": 66,
     "metadata": {},
     "output_type": "execute_result"
    }
   ],
   "source": [
    "df[80:84]"
   ]
  },
  {
   "cell_type": "code",
   "execution_count": 67,
   "id": "de3c0677-6552-4ac1-8a53-dbe38fd449a9",
   "metadata": {},
   "outputs": [
    {
     "name": "stderr",
     "output_type": "stream",
     "text": [
      "C:\\Users\\peter\\AppData\\Local\\Temp\\ipykernel_16212\\4282055374.py:23: FutureWarning: The behavior of DataFrame concatenation with empty or all-NA entries is deprecated. In a future version, this will no longer exclude empty or all-NA columns when determining the result dtypes. To retain the old behavior, exclude the relevant entries before the concat operation.\n",
      "  df = pd.concat([df,insert_row],ignore_index=True)\n"
     ]
    }
   ],
   "source": [
    "h=0\n",
    "for i in range(0,len(samples)):\n",
    "    for j in range(0,len(samples[i])):\n",
    "        #insert_row=pd.DataFrame([{\"filenames\":i,\"names\":j}])\n",
    "        insert_row= pd.DataFrame([{\"filenames\":filenames[i], \n",
    "                      \"names\":names[i],\n",
    "                      \"counties\":counties[i],\n",
    "                      \"towns\":towns[i],\n",
    "                      \"urbanrural\":urbanrurals[i],\n",
    "                      'size':sizes[i],\n",
    "                      'genders':genders[i],\n",
    "                      'ages':ages[i],\n",
    "                      'dur':dur[i],\n",
    "                      'recording num':i,\n",
    "                      'sample num':j,\n",
    "                      'sample file name':sample_file_names[h],\n",
    "                      'sample': samples[i][j],\n",
    "                      'Ydb': Ydb[h],\n",
    "                      'sr': sr[i],\n",
    "                      'mfcc': mfcc[h],\n",
    "                      'mfcc_delta': mfcc_delta[h],\n",
    "                      'mfcc_delta_2': mfcc_delta_2[h]}])\n",
    "        df = pd.concat([df,insert_row],ignore_index=True)\n",
    "        h+=1"
   ]
  },
  {
   "cell_type": "code",
   "execution_count": 68,
   "id": "aa4f9a53-d148-4cfb-bcc4-9b913d91b39a",
   "metadata": {},
   "outputs": [
    {
     "data": {
      "text/plain": [
       "271800"
      ]
     },
     "execution_count": 68,
     "metadata": {},
     "output_type": "execute_result"
    }
   ],
   "source": [
    "df.size"
   ]
  },
  {
   "cell_type": "code",
   "execution_count": 69,
   "id": "d75950e7-6d0d-4094-bbd9-38c7f0e6bc45",
   "metadata": {},
   "outputs": [
    {
     "data": {
      "text/html": [
       "<div>\n",
       "<style scoped>\n",
       "    .dataframe tbody tr th:only-of-type {\n",
       "        vertical-align: middle;\n",
       "    }\n",
       "\n",
       "    .dataframe tbody tr th {\n",
       "        vertical-align: top;\n",
       "    }\n",
       "\n",
       "    .dataframe thead th {\n",
       "        text-align: right;\n",
       "    }\n",
       "</style>\n",
       "<table border=\"1\" class=\"dataframe\">\n",
       "  <thead>\n",
       "    <tr style=\"text-align: right;\">\n",
       "      <th></th>\n",
       "      <th>filenames</th>\n",
       "      <th>names</th>\n",
       "      <th>counties</th>\n",
       "      <th>towns</th>\n",
       "      <th>urbanrural</th>\n",
       "      <th>size</th>\n",
       "      <th>genders</th>\n",
       "      <th>ages</th>\n",
       "      <th>dur</th>\n",
       "      <th>recording num</th>\n",
       "      <th>sample num</th>\n",
       "      <th>sample file name</th>\n",
       "      <th>sample</th>\n",
       "      <th>Ydb</th>\n",
       "      <th>sr</th>\n",
       "      <th>mfcc</th>\n",
       "      <th>mfcc_delta</th>\n",
       "      <th>mfcc_delta_2</th>\n",
       "    </tr>\n",
       "  </thead>\n",
       "  <tbody>\n",
       "    <tr>\n",
       "      <th>80</th>\n",
       "      <td>C:\\Users\\peter\\VoxPop\\DUB\\DUB_Artane_M_20.wav</td>\n",
       "      <td>DUB_Artane_M_20</td>\n",
       "      <td>DUB</td>\n",
       "      <td>Artane</td>\n",
       "      <td>None</td>\n",
       "      <td>None</td>\n",
       "      <td>M</td>\n",
       "      <td>20</td>\n",
       "      <td>81.63</td>\n",
       "      <td>0</td>\n",
       "      <td>80</td>\n",
       "      <td>DUB_Artane_M_20_Rec_0_Sample_80.wav</td>\n",
       "      <td>[0.016045244, -0.008315919, -0.02204391, -0.03...</td>\n",
       "      <td>[[-12.405441, -23.336725, -18.446842, -29.9625...</td>\n",
       "      <td>22050</td>\n",
       "      <td>[[-172.02167, -152.49522, -210.45895, -236.481...</td>\n",
       "      <td>[[4.7096677, 4.7096677, 4.7096677, 4.7096677, ...</td>\n",
       "      <td>[[7.1288533, 7.1288533, 7.1288533, 7.1288533, ...</td>\n",
       "    </tr>\n",
       "    <tr>\n",
       "      <th>81</th>\n",
       "      <td>C:\\Users\\peter\\VoxPop\\DUB\\DUB_Artane_M_20_(2).wav</td>\n",
       "      <td>DUB_Artane_M_20_(2)</td>\n",
       "      <td>DUB</td>\n",
       "      <td>Artane</td>\n",
       "      <td>None</td>\n",
       "      <td>None</td>\n",
       "      <td>M</td>\n",
       "      <td>20</td>\n",
       "      <td>94.28</td>\n",
       "      <td>1</td>\n",
       "      <td>0</td>\n",
       "      <td>DUB_Artane_M_20_(2)_Rec_1_Sample_0.wav</td>\n",
       "      <td>[-1.1641532e-10, -9.313226e-10, -4.656613e-09,...</td>\n",
       "      <td>[[-34.74787, -25.812857, -34.74787, -1.5363762...</td>\n",
       "      <td>22050</td>\n",
       "      <td>[[-465.85907, -291.69635, -234.51353, -209.333...</td>\n",
       "      <td>[[41.190304, 41.190304, 41.190304, 41.190304, ...</td>\n",
       "      <td>[[-20.55139, -20.55139, -20.55139, -20.55139, ...</td>\n",
       "    </tr>\n",
       "  </tbody>\n",
       "</table>\n",
       "</div>"
      ],
      "text/plain": [
       "                                            filenames                names  \\\n",
       "80      C:\\Users\\peter\\VoxPop\\DUB\\DUB_Artane_M_20.wav      DUB_Artane_M_20   \n",
       "81  C:\\Users\\peter\\VoxPop\\DUB\\DUB_Artane_M_20_(2).wav  DUB_Artane_M_20_(2)   \n",
       "\n",
       "   counties   towns urbanrural  size genders ages    dur recording num  \\\n",
       "80      DUB  Artane       None  None       M   20  81.63             0   \n",
       "81      DUB  Artane       None  None       M   20  94.28             1   \n",
       "\n",
       "   sample num                        sample file name  \\\n",
       "80         80     DUB_Artane_M_20_Rec_0_Sample_80.wav   \n",
       "81          0  DUB_Artane_M_20_(2)_Rec_1_Sample_0.wav   \n",
       "\n",
       "                                               sample  \\\n",
       "80  [0.016045244, -0.008315919, -0.02204391, -0.03...   \n",
       "81  [-1.1641532e-10, -9.313226e-10, -4.656613e-09,...   \n",
       "\n",
       "                                                  Ydb     sr  \\\n",
       "80  [[-12.405441, -23.336725, -18.446842, -29.9625...  22050   \n",
       "81  [[-34.74787, -25.812857, -34.74787, -1.5363762...  22050   \n",
       "\n",
       "                                                 mfcc  \\\n",
       "80  [[-172.02167, -152.49522, -210.45895, -236.481...   \n",
       "81  [[-465.85907, -291.69635, -234.51353, -209.333...   \n",
       "\n",
       "                                           mfcc_delta  \\\n",
       "80  [[4.7096677, 4.7096677, 4.7096677, 4.7096677, ...   \n",
       "81  [[41.190304, 41.190304, 41.190304, 41.190304, ...   \n",
       "\n",
       "                                         mfcc_delta_2  \n",
       "80  [[7.1288533, 7.1288533, 7.1288533, 7.1288533, ...  \n",
       "81  [[-20.55139, -20.55139, -20.55139, -20.55139, ...  "
      ]
     },
     "execution_count": 69,
     "metadata": {},
     "output_type": "execute_result"
    }
   ],
   "source": [
    "df[80:82]"
   ]
  },
  {
   "cell_type": "code",
   "execution_count": null,
   "id": "284678d4-b9cc-4ed4-b1ca-91237b80ab9d",
   "metadata": {},
   "outputs": [],
   "source": [
    "'''\n",
    "# DataFrame defintion by recording\n",
    "\n",
    "df=pd.DataFrame(\n",
    "    \"filenames\": filenames,\n",
    "    \"names\": names,\n",
    "    \"counties\": counties,\n",
    "    \"towns\": towns,\n",
    "    \"urbanrural\": urbanrurals,\n",
    "    \"size\": sizes,\n",
    "    \"genders\": genders,\n",
    "    \"ages\": ages,\n",
    "    \"dur\":dur,\n",
    "    \"y\":y,\n",
    "    \"Ydb\":Ydb,\n",
    "    \"sr\":RESAMPLE_RATE,\n",
    "    \"mfcc\":mfcc,\n",
    "    \"mfcc_delta\":mfcc_delta,\n",
    "    \"mfcc_delta_2\":mfcc_delta_2\n",
    "'''"
   ]
  },
  {
   "cell_type": "code",
   "execution_count": 70,
   "id": "cad8c501",
   "metadata": {},
   "outputs": [
    {
     "data": {
      "text/plain": [
       "(15100, 18)"
      ]
     },
     "execution_count": 70,
     "metadata": {},
     "output_type": "execute_result"
    }
   ],
   "source": [
    "df.shape"
   ]
  },
  {
   "cell_type": "code",
   "execution_count": 71,
   "id": "7d77664f",
   "metadata": {},
   "outputs": [
    {
     "name": "stdout",
     "output_type": "stream",
     "text": [
      "[1.5543122e-15 3.3306691e-15 3.5527137e-15 ... 5.3641959e-03 1.1229521e-02\n",
      " 4.2106798e-03]\n"
     ]
    }
   ],
   "source": [
    "print(df['sample'].iloc[0])"
   ]
  },
  {
   "cell_type": "code",
   "execution_count": 72,
   "id": "69cbc373",
   "metadata": {},
   "outputs": [
    {
     "data": {
      "text/plain": [
       "(22050,)"
      ]
     },
     "execution_count": 72,
     "metadata": {},
     "output_type": "execute_result"
    }
   ],
   "source": [
    "df['sample'].iloc[0].shape"
   ]
  },
  {
   "cell_type": "code",
   "execution_count": 73,
   "id": "b5a468e9",
   "metadata": {},
   "outputs": [
    {
     "data": {
      "text/plain": [
       "(20, 44)"
      ]
     },
     "execution_count": 73,
     "metadata": {},
     "output_type": "execute_result"
    }
   ],
   "source": [
    "df['mfcc'].iloc[0].shape"
   ]
  },
  {
   "cell_type": "code",
   "execution_count": 74,
   "id": "a51d111d",
   "metadata": {},
   "outputs": [],
   "source": [
    "df.to_csv(date_time_variable+\"_\"+DATASET_NAME+'_features.csv')"
   ]
  },
  {
   "cell_type": "code",
   "execution_count": null,
   "id": "9853b5d2",
   "metadata": {},
   "outputs": [],
   "source": []
  },
  {
   "cell_type": "code",
   "execution_count": null,
   "id": "8330e158",
   "metadata": {},
   "outputs": [],
   "source": []
  }
 ],
 "metadata": {
  "kernelspec": {
   "display_name": "Python 3 (ipykernel)",
   "language": "python",
   "name": "python3"
  },
  "language_info": {
   "codemirror_mode": {
    "name": "ipython",
    "version": 3
   },
   "file_extension": ".py",
   "mimetype": "text/x-python",
   "name": "python",
   "nbconvert_exporter": "python",
   "pygments_lexer": "ipython3",
   "version": "3.10.13"
  }
 },
 "nbformat": 4,
 "nbformat_minor": 5
}
