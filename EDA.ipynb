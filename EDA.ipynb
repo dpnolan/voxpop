{
 "cells": [
  {
   "cell_type": "markdown",
   "id": "930f89f9-3993-44fa-be0b-c33d38ab9f01",
   "metadata": {},
   "source": [
    "## 2. Exploratory Data Analysis"
   ]
  },
  {
   "cell_type": "markdown",
   "id": "b42b10f2-345f-4ef6-8cf7-3bef06ee8ff7",
   "metadata": {},
   "source": [
    "Kernel used audio8_2_tf \\\n",
    "see audio8_2_tf_requirements.txt for the requirements"
   ]
  },
  {
   "cell_type": "code",
   "execution_count": null,
   "id": "713e78c6-7dce-4c35-8111-16586d3e650b",
   "metadata": {},
   "outputs": [],
   "source": []
  },
  {
   "cell_type": "markdown",
   "id": "3646608b-6b15-4025-a9a6-7f4130c2fd90",
   "metadata": {},
   "source": [
    "## To Run \n",
    "\n",
    "Requires the preprocessing files\n",
    "* the one second samples in \\sample_output_directory\\\n",
    "* the DataFrame pickle file with file data and metadata"
   ]
  },
  {
   "cell_type": "markdown",
   "id": "c501616d-901a-4aee-9e56-776ac8f3e614",
   "metadata": {},
   "source": [
    "## Imports\n"
   ]
  },
  {
   "cell_type": "code",
   "execution_count": 86,
   "id": "f989cbc8-bd3e-45c1-a77e-eacc995e4b16",
   "metadata": {},
   "outputs": [],
   "source": [
    "import librosa\n",
    "from pydub import AudioSegment\n",
    "import soundfile as sf\n",
    "import ffmpeg\n",
    "from IPython.display import Audio"
   ]
  },
  {
   "cell_type": "code",
   "execution_count": 87,
   "id": "38a98d5d-01c6-4264-9ae3-5c46f4380ad9",
   "metadata": {},
   "outputs": [],
   "source": [
    "import pandas as pd\n",
    "import numpy as np\n",
    "import os"
   ]
  },
  {
   "cell_type": "code",
   "execution_count": 88,
   "id": "f5cdd42a-417d-464c-b764-5851ac1cbbfd",
   "metadata": {},
   "outputs": [],
   "source": [
    "from sklearn.preprocessing import StandardScaler\n",
    "from sklearn.model_selection import train_test_split\n",
    "from sklearn.utils.class_weight import compute_class_weight\n",
    "from sklearn.metrics import confusion_matrix, roc_auc_score, roc_curve, auc\n",
    "from sklearn.metrics import accuracy_score, precision_score, recall_score, f1_score"
   ]
  },
  {
   "cell_type": "code",
   "execution_count": 89,
   "id": "17d95129-96a1-449d-abc1-419802691aec",
   "metadata": {},
   "outputs": [],
   "source": [
    "import matplotlib.pyplot as plt\n",
    "import seaborn as sns"
   ]
  },
  {
   "cell_type": "code",
   "execution_count": 90,
   "id": "98e50224-9770-4458-9418-adef41ea77ff",
   "metadata": {},
   "outputs": [
    {
     "data": {
      "text/plain": [
       "'0.10.2.post1'"
      ]
     },
     "execution_count": 90,
     "metadata": {},
     "output_type": "execute_result"
    }
   ],
   "source": [
    "librosa.__version__"
   ]
  },
  {
   "cell_type": "markdown",
   "id": "78a701ec-a6e2-4b31-b945-f4f46f7ecabb",
   "metadata": {},
   "source": [
    "## File inputs and GLOBAL VARIABLES"
   ]
  },
  {
   "cell_type": "code",
   "execution_count": 11,
   "id": "baa29e2f-06c9-4b8b-a4da-03342b0bb8ff",
   "metadata": {},
   "outputs": [],
   "source": [
    "#file_class=pd.read_csv('file_class.csv',index_col=0) #\"C:\\Users\\GGMachines_Gaming\\Documents\\voxpop\\file_class.df\""
   ]
  },
  {
   "cell_type": "code",
   "execution_count": 9,
   "id": "37893c2a-fa20-4322-850f-8b4c76cc4971",
   "metadata": {},
   "outputs": [
    {
     "name": "stdout",
     "output_type": "stream",
     "text": [
      "C:\\Users\\GGMachines_Gaming\\Documents\\voxpop\n"
     ]
    }
   ],
   "source": [
    "CWD=os.getcwd()\n",
    "print(CWD)"
   ]
  },
  {
   "cell_type": "code",
   "execution_count": 17,
   "id": "da2bfee7-dc0c-41b0-83fe-721dac2c0844",
   "metadata": {},
   "outputs": [],
   "source": [
    "INPUT_DIRECTORY=CWD+\"\\\\sample_output_directory\\\\\""
   ]
  },
  {
   "cell_type": "code",
   "execution_count": 10,
   "id": "d692c556-f4b0-457d-907d-3cc45af046fa",
   "metadata": {},
   "outputs": [],
   "source": [
    "#INPUT_DIRECTORY='C:\\\\Users\\\\GGMachines_Gaming\\\\Documents\\\\voxpop\\\\' #i9 machine"
   ]
  },
  {
   "cell_type": "code",
   "execution_count": 18,
   "id": "3cf9ea87-bf26-4ce7-bb05-207e87e1d733",
   "metadata": {},
   "outputs": [
    {
     "data": {
      "text/plain": [
       "'C:\\\\Users\\\\GGMachines_Gaming\\\\Documents\\\\voxpop\\\\sample_output_directory\\\\'"
      ]
     },
     "execution_count": 18,
     "metadata": {},
     "output_type": "execute_result"
    }
   ],
   "source": [
    "INPUT_DIRECTORY"
   ]
  },
  {
   "cell_type": "code",
   "execution_count": 12,
   "id": "77c41766-b8c5-4a4b-a7dd-a8df9f9c5502",
   "metadata": {},
   "outputs": [],
   "source": [
    "TRAIN_TEST_SPLIT = 0.80"
   ]
  },
  {
   "cell_type": "code",
   "execution_count": 13,
   "id": "2cd01da5-6246-4446-9b14-2fa95cadf210",
   "metadata": {},
   "outputs": [],
   "source": [
    "EPOCHS=30\n",
    "BATCH_SIZE=32"
   ]
  },
  {
   "cell_type": "code",
   "execution_count": 42,
   "id": "87c26717-ba5c-4ec9-b891-a71d8855abed",
   "metadata": {},
   "outputs": [],
   "source": [
    "#dub_df = pd.read_pickle('C:\\\\Users\\\\GGMachines_Gaming\\\\Documents\\\\voxpop\\\\sample_output_directory\\\\20240721_0000_DUB_features.pkl') \n",
    "#i9 directory absolute location"
   ]
  },
  {
   "cell_type": "code",
   "execution_count": 91,
   "id": "e3b4921b-fbec-4b57-b90a-3d936f2252e2",
   "metadata": {},
   "outputs": [],
   "source": [
    "#antbel_df = pd.read_pickle('C:\\\\Users\\\\GGMachines_Gaming\\\\Documents\\\\voxpop\\\\sample_output_directory\\\\20240721_0013_ANT_features.pkl') \n",
    "#i9 directory absolute location"
   ]
  },
  {
   "cell_type": "code",
   "execution_count": 92,
   "id": "71160126-20af-4bc5-9574-d08e97240070",
   "metadata": {},
   "outputs": [],
   "source": [
    "dub_df = pd.read_pickle(INPUT_DIRECTORY+'20240721_0000_DUB_features.pkl')"
   ]
  },
  {
   "cell_type": "code",
   "execution_count": 93,
   "id": "bca8632d-8ce4-4aa3-90a3-4a0aab8bc079",
   "metadata": {},
   "outputs": [],
   "source": [
    "antbel_df = pd.read_pickle(INPUT_DIRECTORY+'20240721_0013_ANT_features.pkl') #i9 directory"
   ]
  },
  {
   "cell_type": "markdown",
   "id": "149f4296-8e53-4c53-94bd-7f8279ebec3f",
   "metadata": {},
   "source": [
    "## Recording counts "
   ]
  },
  {
   "cell_type": "code",
   "execution_count": 22,
   "id": "0bf7ee44-5aa0-4bbe-81d3-74f2791e0720",
   "metadata": {},
   "outputs": [
    {
     "data": {
      "text/plain": [
       "166"
      ]
     },
     "execution_count": 22,
     "metadata": {},
     "output_type": "execute_result"
    }
   ],
   "source": [
    "recordings_dub=dub_df['recording num'].max()\n",
    "recordings_dub"
   ]
  },
  {
   "cell_type": "code",
   "execution_count": 23,
   "id": "a9589094-52ff-478d-8a74-d46481a2d4ad",
   "metadata": {},
   "outputs": [
    {
     "name": "stdout",
     "output_type": "stream",
     "text": [
      "65\n"
     ]
    }
   ],
   "source": [
    "recordings_antbel=antbel_df['recording num'].max()\n",
    "print(recordings_antbel)"
   ]
  },
  {
   "cell_type": "code",
   "execution_count": 27,
   "id": "92dc3d3e-a74e-4f24-b2fb-c8ecd949e0b3",
   "metadata": {},
   "outputs": [
    {
     "name": "stdout",
     "output_type": "stream",
     "text": [
      "Recordings\n",
      "Dublin = 166\n",
      "Antrim and Belfast = 65.000000\n",
      "total = 231\n"
     ]
    }
   ],
   "source": [
    "print(\"Recordings\")\n",
    "print(\"Dublin = {:.0f}\".format(recordings_dub))\n",
    "print(\"Antrim and Belfast = {:0f}\".format(recordings_antbel) )\n",
    "print(\"total = {:.0f}\".format(recordings_dub+recordings_antbel) )"
   ]
  },
  {
   "cell_type": "code",
   "execution_count": 25,
   "id": "ac763ca5-5b06-4613-af4a-b2b6661020c0",
   "metadata": {},
   "outputs": [
    {
     "data": {
      "text/plain": [
       "0       166\n",
       "1       166\n",
       "2       166\n",
       "3       166\n",
       "4       166\n",
       "       ... \n",
       "6489    237\n",
       "6490    237\n",
       "6491    237\n",
       "6492    237\n",
       "6493    237\n",
       "Name: recording num, Length: 6494, dtype: object"
      ]
     },
     "execution_count": 25,
     "metadata": {},
     "output_type": "execute_result"
    }
   ],
   "source": [
    "#Increase the recording number in the 2nd dataframe so that there are no duplicates\n",
    "antbel_df['recording num']=dub_df['recording num']+recordings_dub\n",
    "antbel_df['recording num']"
   ]
  },
  {
   "cell_type": "code",
   "execution_count": null,
   "id": "20a29578-0620-48ec-aa61-fbd506355c4e",
   "metadata": {},
   "outputs": [],
   "source": []
  },
  {
   "cell_type": "markdown",
   "id": "ae7ed263-e72c-4478-942b-faf86b9b3863",
   "metadata": {},
   "source": [
    "## Merge the DataFrames"
   ]
  },
  {
   "cell_type": "code",
   "execution_count": 28,
   "id": "ecd28926-8595-41c0-8f33-3abdbdbded06",
   "metadata": {},
   "outputs": [],
   "source": [
    "# Concatenate the DataFrames\n",
    "all_df= pd.concat([antbel_df, dub_df], ignore_index=True)"
   ]
  },
  {
   "cell_type": "code",
   "execution_count": 29,
   "id": "8bc029e6-fce0-4248-a1da-ae7db6381be9",
   "metadata": {},
   "outputs": [
    {
     "data": {
      "text/plain": [
       "(21594, 18)"
      ]
     },
     "execution_count": 29,
     "metadata": {},
     "output_type": "execute_result"
    }
   ],
   "source": [
    "all_df.shape"
   ]
  },
  {
   "cell_type": "code",
   "execution_count": 30,
   "id": "77167d2d-953e-4e09-a55e-d994bfe2e1bb",
   "metadata": {},
   "outputs": [
    {
     "data": {
      "text/html": [
       "<div>\n",
       "<style scoped>\n",
       "    .dataframe tbody tr th:only-of-type {\n",
       "        vertical-align: middle;\n",
       "    }\n",
       "\n",
       "    .dataframe tbody tr th {\n",
       "        vertical-align: top;\n",
       "    }\n",
       "\n",
       "    .dataframe thead th {\n",
       "        text-align: right;\n",
       "    }\n",
       "</style>\n",
       "<table border=\"1\" class=\"dataframe\">\n",
       "  <thead>\n",
       "    <tr style=\"text-align: right;\">\n",
       "      <th></th>\n",
       "      <th>filenames</th>\n",
       "      <th>names</th>\n",
       "      <th>counties</th>\n",
       "      <th>towns</th>\n",
       "      <th>urbanrural</th>\n",
       "      <th>size</th>\n",
       "      <th>genders</th>\n",
       "      <th>ages</th>\n",
       "      <th>dur</th>\n",
       "      <th>recording num</th>\n",
       "      <th>sample num</th>\n",
       "      <th>sample file name</th>\n",
       "      <th>sample</th>\n",
       "      <th>Ydb</th>\n",
       "      <th>sr</th>\n",
       "      <th>mfcc</th>\n",
       "      <th>mfcc_delta</th>\n",
       "      <th>mfcc_delta_2</th>\n",
       "    </tr>\n",
       "  </thead>\n",
       "  <tbody>\n",
       "    <tr>\n",
       "      <th>0</th>\n",
       "      <td>C:\\Users\\GGMachines_Gaming\\Documents\\ANT\\ANT_A...</td>\n",
       "      <td>ANT_Antrim_R1_F_20</td>\n",
       "      <td>ANT</td>\n",
       "      <td>Antrim</td>\n",
       "      <td>R</td>\n",
       "      <td>1</td>\n",
       "      <td>F</td>\n",
       "      <td>20</td>\n",
       "      <td>95.95</td>\n",
       "      <td>166</td>\n",
       "      <td>0</td>\n",
       "      <td>ANT_Antrim_R1_F_20_Rec_0_Sample_0.wav</td>\n",
       "      <td>[-3.259629e-09, -1.9790605e-09, -1.8626451e-09...</td>\n",
       "      <td>[[-35.601192, -23.076942, -25.175114, -30.8771...</td>\n",
       "      <td>22050</td>\n",
       "      <td>[[-494.3632, -314.76587, -256.5209, -248.23921...</td>\n",
       "      <td>[[22.54509, 22.54509, 22.54509, 22.54509, 22.5...</td>\n",
       "      <td>[[-13.363751, -13.363751, -13.363751, -13.3637...</td>\n",
       "    </tr>\n",
       "    <tr>\n",
       "      <th>1</th>\n",
       "      <td>C:\\Users\\GGMachines_Gaming\\Documents\\ANT\\ANT_A...</td>\n",
       "      <td>ANT_Antrim_R1_F_20</td>\n",
       "      <td>ANT</td>\n",
       "      <td>Antrim</td>\n",
       "      <td>R</td>\n",
       "      <td>1</td>\n",
       "      <td>F</td>\n",
       "      <td>20</td>\n",
       "      <td>95.95</td>\n",
       "      <td>166</td>\n",
       "      <td>1</td>\n",
       "      <td>ANT_Antrim_R1_F_20_Rec_0_Sample_1.wav</td>\n",
       "      <td>[-0.063719966, 0.018594107, 0.042440787, 0.011...</td>\n",
       "      <td>[[-24.939114, -19.037073, -35.540073, -40.6882...</td>\n",
       "      <td>22050</td>\n",
       "      <td>[[-200.87267, -189.22813, -205.93425, -217.350...</td>\n",
       "      <td>[[1.7263998, 1.7263998, 1.7263998, 1.7263998, ...</td>\n",
       "      <td>[[8.442614, 8.442614, 8.442614, 8.442614, 8.44...</td>\n",
       "    </tr>\n",
       "    <tr>\n",
       "      <th>2</th>\n",
       "      <td>C:\\Users\\GGMachines_Gaming\\Documents\\ANT\\ANT_A...</td>\n",
       "      <td>ANT_Antrim_R1_F_20</td>\n",
       "      <td>ANT</td>\n",
       "      <td>Antrim</td>\n",
       "      <td>R</td>\n",
       "      <td>1</td>\n",
       "      <td>F</td>\n",
       "      <td>20</td>\n",
       "      <td>95.95</td>\n",
       "      <td>166</td>\n",
       "      <td>2</td>\n",
       "      <td>ANT_Antrim_R1_F_20_Rec_0_Sample_2.wav</td>\n",
       "      <td>[-0.009588398, -0.029184137, -0.023096263, -0....</td>\n",
       "      <td>[[-12.003866, -22.771717, -25.912066, -27.5487...</td>\n",
       "      <td>22050</td>\n",
       "      <td>[[-269.9958, -209.71855, -199.9971, -192.51334...</td>\n",
       "      <td>[[7.1880474, 7.1880474, 7.1880474, 7.1880474, ...</td>\n",
       "      <td>[[-7.412616, -7.412616, -7.412616, -7.412616, ...</td>\n",
       "    </tr>\n",
       "  </tbody>\n",
       "</table>\n",
       "</div>"
      ],
      "text/plain": [
       "                                           filenames               names  \\\n",
       "0  C:\\Users\\GGMachines_Gaming\\Documents\\ANT\\ANT_A...  ANT_Antrim_R1_F_20   \n",
       "1  C:\\Users\\GGMachines_Gaming\\Documents\\ANT\\ANT_A...  ANT_Antrim_R1_F_20   \n",
       "2  C:\\Users\\GGMachines_Gaming\\Documents\\ANT\\ANT_A...  ANT_Antrim_R1_F_20   \n",
       "\n",
       "  counties   towns urbanrural size genders ages    dur recording num  \\\n",
       "0      ANT  Antrim          R    1       F   20  95.95           166   \n",
       "1      ANT  Antrim          R    1       F   20  95.95           166   \n",
       "2      ANT  Antrim          R    1       F   20  95.95           166   \n",
       "\n",
       "  sample num                       sample file name  \\\n",
       "0          0  ANT_Antrim_R1_F_20_Rec_0_Sample_0.wav   \n",
       "1          1  ANT_Antrim_R1_F_20_Rec_0_Sample_1.wav   \n",
       "2          2  ANT_Antrim_R1_F_20_Rec_0_Sample_2.wav   \n",
       "\n",
       "                                              sample  \\\n",
       "0  [-3.259629e-09, -1.9790605e-09, -1.8626451e-09...   \n",
       "1  [-0.063719966, 0.018594107, 0.042440787, 0.011...   \n",
       "2  [-0.009588398, -0.029184137, -0.023096263, -0....   \n",
       "\n",
       "                                                 Ydb     sr  \\\n",
       "0  [[-35.601192, -23.076942, -25.175114, -30.8771...  22050   \n",
       "1  [[-24.939114, -19.037073, -35.540073, -40.6882...  22050   \n",
       "2  [[-12.003866, -22.771717, -25.912066, -27.5487...  22050   \n",
       "\n",
       "                                                mfcc  \\\n",
       "0  [[-494.3632, -314.76587, -256.5209, -248.23921...   \n",
       "1  [[-200.87267, -189.22813, -205.93425, -217.350...   \n",
       "2  [[-269.9958, -209.71855, -199.9971, -192.51334...   \n",
       "\n",
       "                                          mfcc_delta  \\\n",
       "0  [[22.54509, 22.54509, 22.54509, 22.54509, 22.5...   \n",
       "1  [[1.7263998, 1.7263998, 1.7263998, 1.7263998, ...   \n",
       "2  [[7.1880474, 7.1880474, 7.1880474, 7.1880474, ...   \n",
       "\n",
       "                                        mfcc_delta_2  \n",
       "0  [[-13.363751, -13.363751, -13.363751, -13.3637...  \n",
       "1  [[8.442614, 8.442614, 8.442614, 8.442614, 8.44...  \n",
       "2  [[-7.412616, -7.412616, -7.412616, -7.412616, ...  "
      ]
     },
     "execution_count": 30,
     "metadata": {},
     "output_type": "execute_result"
    }
   ],
   "source": [
    "all_df[0:3]"
   ]
  },
  {
   "cell_type": "code",
   "execution_count": 31,
   "id": "0bbb004b-1cb0-4574-ae3c-85e006e86926",
   "metadata": {},
   "outputs": [],
   "source": [
    "#take one value, the first, from every set of samples\n",
    "recordings_df = all_df[all_df['sample num'] == 0]\n",
    "\n",
    "# Drop duplicates to ensure each recording appears only once\n",
    "recordings_df = recordings_df.drop_duplicates(subset=['recording num'])\n",
    "\n",
    "# Reset the index for the new DataFrame\n",
    "recordings_df.reset_index(drop=True, inplace=True)"
   ]
  },
  {
   "cell_type": "code",
   "execution_count": 32,
   "id": "44694eaa-4819-4e83-90e2-ae5ccaa88dab",
   "metadata": {},
   "outputs": [
    {
     "data": {
      "text/plain": [
       "(230, 18)"
      ]
     },
     "execution_count": 32,
     "metadata": {},
     "output_type": "execute_result"
    }
   ],
   "source": [
    "recordings_df.shape"
   ]
  },
  {
   "cell_type": "code",
   "execution_count": 34,
   "id": "07bdc4d3-fd42-4a80-98a3-20a44149f9e2",
   "metadata": {},
   "outputs": [
    {
     "data": {
      "text/html": [
       "<div>\n",
       "<style scoped>\n",
       "    .dataframe tbody tr th:only-of-type {\n",
       "        vertical-align: middle;\n",
       "    }\n",
       "\n",
       "    .dataframe tbody tr th {\n",
       "        vertical-align: top;\n",
       "    }\n",
       "\n",
       "    .dataframe thead th {\n",
       "        text-align: right;\n",
       "    }\n",
       "</style>\n",
       "<table border=\"1\" class=\"dataframe\">\n",
       "  <thead>\n",
       "    <tr style=\"text-align: right;\">\n",
       "      <th></th>\n",
       "      <th>filenames</th>\n",
       "      <th>names</th>\n",
       "      <th>counties</th>\n",
       "      <th>towns</th>\n",
       "      <th>urbanrural</th>\n",
       "      <th>size</th>\n",
       "      <th>genders</th>\n",
       "      <th>ages</th>\n",
       "      <th>dur</th>\n",
       "      <th>recording num</th>\n",
       "      <th>sample num</th>\n",
       "      <th>sample file name</th>\n",
       "      <th>sample</th>\n",
       "      <th>Ydb</th>\n",
       "      <th>sr</th>\n",
       "      <th>mfcc</th>\n",
       "      <th>mfcc_delta</th>\n",
       "      <th>mfcc_delta_2</th>\n",
       "    </tr>\n",
       "  </thead>\n",
       "  <tbody>\n",
       "    <tr>\n",
       "      <th>0</th>\n",
       "      <td>C:\\Users\\GGMachines_Gaming\\Documents\\ANT\\ANT_A...</td>\n",
       "      <td>ANT_Antrim_R1_F_20</td>\n",
       "      <td>ANT</td>\n",
       "      <td>Antrim</td>\n",
       "      <td>R</td>\n",
       "      <td>1</td>\n",
       "      <td>F</td>\n",
       "      <td>20</td>\n",
       "      <td>95.95</td>\n",
       "      <td>166</td>\n",
       "      <td>0</td>\n",
       "      <td>ANT_Antrim_R1_F_20_Rec_0_Sample_0.wav</td>\n",
       "      <td>[-3.259629e-09, -1.9790605e-09, -1.8626451e-09...</td>\n",
       "      <td>[[-35.601192, -23.076942, -25.175114, -30.8771...</td>\n",
       "      <td>22050</td>\n",
       "      <td>[[-494.3632, -314.76587, -256.5209, -248.23921...</td>\n",
       "      <td>[[22.54509, 22.54509, 22.54509, 22.54509, 22.5...</td>\n",
       "      <td>[[-13.363751, -13.363751, -13.363751, -13.3637...</td>\n",
       "    </tr>\n",
       "    <tr>\n",
       "      <th>1</th>\n",
       "      <td>C:\\Users\\GGMachines_Gaming\\Documents\\ANT\\ANT_A...</td>\n",
       "      <td>ANT_Antrim_R1_M_25</td>\n",
       "      <td>ANT</td>\n",
       "      <td>Antrim</td>\n",
       "      <td>R</td>\n",
       "      <td>1</td>\n",
       "      <td>M</td>\n",
       "      <td>25</td>\n",
       "      <td>116.04</td>\n",
       "      <td>167</td>\n",
       "      <td>0</td>\n",
       "      <td>ANT_Antrim_R1_M_25_Rec_1_Sample_0.wav</td>\n",
       "      <td>[-3.2014214e-10, -5.820766e-11, -1.4551915e-10...</td>\n",
       "      <td>[[-33.160713, -16.867645, -14.588329, -21.9429...</td>\n",
       "      <td>22050</td>\n",
       "      <td>[[-567.5135, -404.5886, -353.5435, -344.66907,...</td>\n",
       "      <td>[[51.188786, 51.188786, 51.188786, 51.188786, ...</td>\n",
       "      <td>[[-0.2170428, -0.2170428, -0.2170428, -0.21704...</td>\n",
       "    </tr>\n",
       "    <tr>\n",
       "      <th>2</th>\n",
       "      <td>C:\\Users\\GGMachines_Gaming\\Documents\\ANT\\ANT_A...</td>\n",
       "      <td>ANT_Antrim_R1_M_40</td>\n",
       "      <td>ANT</td>\n",
       "      <td>Antrim</td>\n",
       "      <td>R</td>\n",
       "      <td>1</td>\n",
       "      <td>M</td>\n",
       "      <td>40</td>\n",
       "      <td>133.02</td>\n",
       "      <td>168</td>\n",
       "      <td>0</td>\n",
       "      <td>ANT_Antrim_R1_M_40_Rec_2_Sample_0.wav</td>\n",
       "      <td>[-5.820766e-10, -9.895302e-10, -9.313226e-10, ...</td>\n",
       "      <td>[[-45.422356, -37.79415, -29.457226, -19.70018...</td>\n",
       "      <td>22050</td>\n",
       "      <td>[[-548.9338, -374.04187, -307.50232, -262.8846...</td>\n",
       "      <td>[[41.07573, 41.07573, 41.07573, 41.07573, 41.0...</td>\n",
       "      <td>[[-26.089209, -26.089209, -26.089209, -26.0892...</td>\n",
       "    </tr>\n",
       "    <tr>\n",
       "      <th>3</th>\n",
       "      <td>C:\\Users\\GGMachines_Gaming\\Documents\\ANT\\ANT_B...</td>\n",
       "      <td>ANT_Ballycastle_R1_F_70</td>\n",
       "      <td>ANT</td>\n",
       "      <td>Ballycastle</td>\n",
       "      <td>R</td>\n",
       "      <td>1</td>\n",
       "      <td>F</td>\n",
       "      <td>70</td>\n",
       "      <td>117.86</td>\n",
       "      <td>170</td>\n",
       "      <td>0</td>\n",
       "      <td>ANT_Ballycastle_R1_F_70_Rec_3_Sample_0.wav</td>\n",
       "      <td>[1.1641532e-10, -2.910383e-11, -1.1641532e-10,...</td>\n",
       "      <td>[[-42.212063, -36.867523, -47.102856, -47.1028...</td>\n",
       "      <td>22050</td>\n",
       "      <td>[[-642.2097, -505.1154, -389.91708, -297.05542...</td>\n",
       "      <td>[[38.775097, 38.775097, 38.775097, 38.775097, ...</td>\n",
       "      <td>[[-16.443972, -16.443972, -16.443972, -16.4439...</td>\n",
       "    </tr>\n",
       "    <tr>\n",
       "      <th>4</th>\n",
       "      <td>C:\\Users\\GGMachines_Gaming\\Documents\\ANT\\ANT_B...</td>\n",
       "      <td>ANT_Ballycastle_R1_M_25</td>\n",
       "      <td>ANT</td>\n",
       "      <td>Ballycastle</td>\n",
       "      <td>R</td>\n",
       "      <td>1</td>\n",
       "      <td>M</td>\n",
       "      <td>25</td>\n",
       "      <td>126.07</td>\n",
       "      <td>171</td>\n",
       "      <td>0</td>\n",
       "      <td>ANT_Ballycastle_R1_M_25_Rec_4_Sample_0.wav</td>\n",
       "      <td>[0.0, 3.4924597e-10, -1.7462298e-10, -6.693881...</td>\n",
       "      <td>[[-34.074398, -19.373589, -21.229664, -26.9904...</td>\n",
       "      <td>22050</td>\n",
       "      <td>[[-578.94977, -416.94687, -356.12296, -347.986...</td>\n",
       "      <td>[[58.174633, 58.174633, 58.174633, 58.174633, ...</td>\n",
       "      <td>[[-14.451537, -14.451537, -14.451537, -14.4515...</td>\n",
       "    </tr>\n",
       "    <tr>\n",
       "      <th>...</th>\n",
       "      <td>...</td>\n",
       "      <td>...</td>\n",
       "      <td>...</td>\n",
       "      <td>...</td>\n",
       "      <td>...</td>\n",
       "      <td>...</td>\n",
       "      <td>...</td>\n",
       "      <td>...</td>\n",
       "      <td>...</td>\n",
       "      <td>...</td>\n",
       "      <td>...</td>\n",
       "      <td>...</td>\n",
       "      <td>...</td>\n",
       "      <td>...</td>\n",
       "      <td>...</td>\n",
       "      <td>...</td>\n",
       "      <td>...</td>\n",
       "      <td>...</td>\n",
       "    </tr>\n",
       "    <tr>\n",
       "      <th>225</th>\n",
       "      <td>C:\\Users\\GGMachines_Gaming\\Documents\\DUB\\DUB_T...</td>\n",
       "      <td>DUB_Terenure_M_20</td>\n",
       "      <td>DUB</td>\n",
       "      <td>Terenure</td>\n",
       "      <td>None</td>\n",
       "      <td>None</td>\n",
       "      <td>M</td>\n",
       "      <td>20</td>\n",
       "      <td>103.31</td>\n",
       "      <td>161</td>\n",
       "      <td>0</td>\n",
       "      <td>DUB_Terenure_M_20_Rec_161_Sample_0.wav</td>\n",
       "      <td>[0.0, -9.313226e-10, -2.3283064e-10, -1.164153...</td>\n",
       "      <td>[[-27.474337, -15.680954, -21.35504, -37.55080...</td>\n",
       "      <td>22050</td>\n",
       "      <td>[[-481.27567, -314.43658, -239.3003, -169.3499...</td>\n",
       "      <td>[[29.3374, 29.3374, 29.3374, 29.3374, 29.3374,...</td>\n",
       "      <td>[[-33.328503, -33.328503, -33.328503, -33.3285...</td>\n",
       "    </tr>\n",
       "    <tr>\n",
       "      <th>226</th>\n",
       "      <td>C:\\Users\\GGMachines_Gaming\\Documents\\DUB\\DUB_T...</td>\n",
       "      <td>DUB_Terenure_M_20_(2)</td>\n",
       "      <td>DUB</td>\n",
       "      <td>Terenure</td>\n",
       "      <td>None</td>\n",
       "      <td>None</td>\n",
       "      <td>M</td>\n",
       "      <td>20</td>\n",
       "      <td>113.89</td>\n",
       "      <td>162</td>\n",
       "      <td>0</td>\n",
       "      <td>DUB_Terenure_M_20_(2)_Rec_162_Sample_0.wav</td>\n",
       "      <td>[1.8626451e-09, 5.820766e-10, 1.0477379e-09, -...</td>\n",
       "      <td>[[-24.561527, -18.126556, -20.174446, -24.9668...</td>\n",
       "      <td>22050</td>\n",
       "      <td>[[-494.13116, -344.05396, -286.59027, -222.733...</td>\n",
       "      <td>[[41.57098, 41.57098, 41.57098, 41.57098, 41.5...</td>\n",
       "      <td>[[-25.27901, -25.27901, -25.27901, -25.27901, ...</td>\n",
       "    </tr>\n",
       "    <tr>\n",
       "      <th>227</th>\n",
       "      <td>C:\\Users\\GGMachines_Gaming\\Documents\\DUB\\DUB_T...</td>\n",
       "      <td>DUB_Terenure_M_30</td>\n",
       "      <td>DUB</td>\n",
       "      <td>Terenure</td>\n",
       "      <td>None</td>\n",
       "      <td>None</td>\n",
       "      <td>M</td>\n",
       "      <td>30</td>\n",
       "      <td>94.82</td>\n",
       "      <td>163</td>\n",
       "      <td>0</td>\n",
       "      <td>DUB_Terenure_M_30_Rec_163_Sample_0.wav</td>\n",
       "      <td>[1.7462298e-09, 1.1641532e-09, 0.0, -4.656613e...</td>\n",
       "      <td>[[-37.952183, -23.579098, -21.54805, -24.83200...</td>\n",
       "      <td>22050</td>\n",
       "      <td>[[-524.10876, -382.91833, -324.70975, -232.242...</td>\n",
       "      <td>[[33.439034, 33.439034, 33.439034, 33.439034, ...</td>\n",
       "      <td>[[-29.519438, -29.519438, -29.519438, -29.5194...</td>\n",
       "    </tr>\n",
       "    <tr>\n",
       "      <th>228</th>\n",
       "      <td>C:\\Users\\GGMachines_Gaming\\Documents\\DUB\\DUB_W...</td>\n",
       "      <td>DUB_Walkinstown_F_30</td>\n",
       "      <td>DUB</td>\n",
       "      <td>Walkinstown</td>\n",
       "      <td>None</td>\n",
       "      <td>None</td>\n",
       "      <td>F</td>\n",
       "      <td>30</td>\n",
       "      <td>94.82</td>\n",
       "      <td>164</td>\n",
       "      <td>0</td>\n",
       "      <td>DUB_Walkinstown_F_30_Rec_164_Sample_0.wav</td>\n",
       "      <td>[-2.3283064e-10, 2.3283064e-10, -9.313226e-10,...</td>\n",
       "      <td>[[-28.146809, -18.667927, -25.974913, -16.8746...</td>\n",
       "      <td>22050</td>\n",
       "      <td>[[-520.7522, -328.3403, -273.99213, -244.34686...</td>\n",
       "      <td>[[17.582151, 17.582151, 17.582151, 17.582151, ...</td>\n",
       "      <td>[[-33.120426, -33.120426, -33.120426, -33.1204...</td>\n",
       "    </tr>\n",
       "    <tr>\n",
       "      <th>229</th>\n",
       "      <td>C:\\Users\\GGMachines_Gaming\\Documents\\DUB\\DUB_W...</td>\n",
       "      <td>DUB_Walkinstown_M_20</td>\n",
       "      <td>DUB</td>\n",
       "      <td>Walkinstown</td>\n",
       "      <td>None</td>\n",
       "      <td>None</td>\n",
       "      <td>M</td>\n",
       "      <td>20</td>\n",
       "      <td>98.27</td>\n",
       "      <td>165</td>\n",
       "      <td>0</td>\n",
       "      <td>DUB_Walkinstown_M_20_Rec_165_Sample_0.wav</td>\n",
       "      <td>[-3.4924597e-10, -2.910383e-10, -8.731149e-11,...</td>\n",
       "      <td>[[-35.08483, -39.139725, -25.828861, -25.07347...</td>\n",
       "      <td>22050</td>\n",
       "      <td>[[-539.6282, -391.6363, -329.6581, -283.9766, ...</td>\n",
       "      <td>[[37.420948, 37.420948, 37.420948, 37.420948, ...</td>\n",
       "      <td>[[-27.481888, -27.481888, -27.481888, -27.4818...</td>\n",
       "    </tr>\n",
       "  </tbody>\n",
       "</table>\n",
       "<p>230 rows × 18 columns</p>\n",
       "</div>"
      ],
      "text/plain": [
       "                                             filenames  \\\n",
       "0    C:\\Users\\GGMachines_Gaming\\Documents\\ANT\\ANT_A...   \n",
       "1    C:\\Users\\GGMachines_Gaming\\Documents\\ANT\\ANT_A...   \n",
       "2    C:\\Users\\GGMachines_Gaming\\Documents\\ANT\\ANT_A...   \n",
       "3    C:\\Users\\GGMachines_Gaming\\Documents\\ANT\\ANT_B...   \n",
       "4    C:\\Users\\GGMachines_Gaming\\Documents\\ANT\\ANT_B...   \n",
       "..                                                 ...   \n",
       "225  C:\\Users\\GGMachines_Gaming\\Documents\\DUB\\DUB_T...   \n",
       "226  C:\\Users\\GGMachines_Gaming\\Documents\\DUB\\DUB_T...   \n",
       "227  C:\\Users\\GGMachines_Gaming\\Documents\\DUB\\DUB_T...   \n",
       "228  C:\\Users\\GGMachines_Gaming\\Documents\\DUB\\DUB_W...   \n",
       "229  C:\\Users\\GGMachines_Gaming\\Documents\\DUB\\DUB_W...   \n",
       "\n",
       "                       names counties        towns urbanrural  size genders  \\\n",
       "0         ANT_Antrim_R1_F_20      ANT       Antrim          R     1       F   \n",
       "1         ANT_Antrim_R1_M_25      ANT       Antrim          R     1       M   \n",
       "2         ANT_Antrim_R1_M_40      ANT       Antrim          R     1       M   \n",
       "3    ANT_Ballycastle_R1_F_70      ANT  Ballycastle          R     1       F   \n",
       "4    ANT_Ballycastle_R1_M_25      ANT  Ballycastle          R     1       M   \n",
       "..                       ...      ...          ...        ...   ...     ...   \n",
       "225        DUB_Terenure_M_20      DUB     Terenure       None  None       M   \n",
       "226    DUB_Terenure_M_20_(2)      DUB     Terenure       None  None       M   \n",
       "227        DUB_Terenure_M_30      DUB     Terenure       None  None       M   \n",
       "228     DUB_Walkinstown_F_30      DUB  Walkinstown       None  None       F   \n",
       "229     DUB_Walkinstown_M_20      DUB  Walkinstown       None  None       M   \n",
       "\n",
       "    ages     dur recording num sample num  \\\n",
       "0     20   95.95           166          0   \n",
       "1     25  116.04           167          0   \n",
       "2     40  133.02           168          0   \n",
       "3     70  117.86           170          0   \n",
       "4     25  126.07           171          0   \n",
       "..   ...     ...           ...        ...   \n",
       "225   20  103.31           161          0   \n",
       "226   20  113.89           162          0   \n",
       "227   30   94.82           163          0   \n",
       "228   30   94.82           164          0   \n",
       "229   20   98.27           165          0   \n",
       "\n",
       "                               sample file name  \\\n",
       "0         ANT_Antrim_R1_F_20_Rec_0_Sample_0.wav   \n",
       "1         ANT_Antrim_R1_M_25_Rec_1_Sample_0.wav   \n",
       "2         ANT_Antrim_R1_M_40_Rec_2_Sample_0.wav   \n",
       "3    ANT_Ballycastle_R1_F_70_Rec_3_Sample_0.wav   \n",
       "4    ANT_Ballycastle_R1_M_25_Rec_4_Sample_0.wav   \n",
       "..                                          ...   \n",
       "225      DUB_Terenure_M_20_Rec_161_Sample_0.wav   \n",
       "226  DUB_Terenure_M_20_(2)_Rec_162_Sample_0.wav   \n",
       "227      DUB_Terenure_M_30_Rec_163_Sample_0.wav   \n",
       "228   DUB_Walkinstown_F_30_Rec_164_Sample_0.wav   \n",
       "229   DUB_Walkinstown_M_20_Rec_165_Sample_0.wav   \n",
       "\n",
       "                                                sample  \\\n",
       "0    [-3.259629e-09, -1.9790605e-09, -1.8626451e-09...   \n",
       "1    [-3.2014214e-10, -5.820766e-11, -1.4551915e-10...   \n",
       "2    [-5.820766e-10, -9.895302e-10, -9.313226e-10, ...   \n",
       "3    [1.1641532e-10, -2.910383e-11, -1.1641532e-10,...   \n",
       "4    [0.0, 3.4924597e-10, -1.7462298e-10, -6.693881...   \n",
       "..                                                 ...   \n",
       "225  [0.0, -9.313226e-10, -2.3283064e-10, -1.164153...   \n",
       "226  [1.8626451e-09, 5.820766e-10, 1.0477379e-09, -...   \n",
       "227  [1.7462298e-09, 1.1641532e-09, 0.0, -4.656613e...   \n",
       "228  [-2.3283064e-10, 2.3283064e-10, -9.313226e-10,...   \n",
       "229  [-3.4924597e-10, -2.910383e-10, -8.731149e-11,...   \n",
       "\n",
       "                                                   Ydb     sr  \\\n",
       "0    [[-35.601192, -23.076942, -25.175114, -30.8771...  22050   \n",
       "1    [[-33.160713, -16.867645, -14.588329, -21.9429...  22050   \n",
       "2    [[-45.422356, -37.79415, -29.457226, -19.70018...  22050   \n",
       "3    [[-42.212063, -36.867523, -47.102856, -47.1028...  22050   \n",
       "4    [[-34.074398, -19.373589, -21.229664, -26.9904...  22050   \n",
       "..                                                 ...    ...   \n",
       "225  [[-27.474337, -15.680954, -21.35504, -37.55080...  22050   \n",
       "226  [[-24.561527, -18.126556, -20.174446, -24.9668...  22050   \n",
       "227  [[-37.952183, -23.579098, -21.54805, -24.83200...  22050   \n",
       "228  [[-28.146809, -18.667927, -25.974913, -16.8746...  22050   \n",
       "229  [[-35.08483, -39.139725, -25.828861, -25.07347...  22050   \n",
       "\n",
       "                                                  mfcc  \\\n",
       "0    [[-494.3632, -314.76587, -256.5209, -248.23921...   \n",
       "1    [[-567.5135, -404.5886, -353.5435, -344.66907,...   \n",
       "2    [[-548.9338, -374.04187, -307.50232, -262.8846...   \n",
       "3    [[-642.2097, -505.1154, -389.91708, -297.05542...   \n",
       "4    [[-578.94977, -416.94687, -356.12296, -347.986...   \n",
       "..                                                 ...   \n",
       "225  [[-481.27567, -314.43658, -239.3003, -169.3499...   \n",
       "226  [[-494.13116, -344.05396, -286.59027, -222.733...   \n",
       "227  [[-524.10876, -382.91833, -324.70975, -232.242...   \n",
       "228  [[-520.7522, -328.3403, -273.99213, -244.34686...   \n",
       "229  [[-539.6282, -391.6363, -329.6581, -283.9766, ...   \n",
       "\n",
       "                                            mfcc_delta  \\\n",
       "0    [[22.54509, 22.54509, 22.54509, 22.54509, 22.5...   \n",
       "1    [[51.188786, 51.188786, 51.188786, 51.188786, ...   \n",
       "2    [[41.07573, 41.07573, 41.07573, 41.07573, 41.0...   \n",
       "3    [[38.775097, 38.775097, 38.775097, 38.775097, ...   \n",
       "4    [[58.174633, 58.174633, 58.174633, 58.174633, ...   \n",
       "..                                                 ...   \n",
       "225  [[29.3374, 29.3374, 29.3374, 29.3374, 29.3374,...   \n",
       "226  [[41.57098, 41.57098, 41.57098, 41.57098, 41.5...   \n",
       "227  [[33.439034, 33.439034, 33.439034, 33.439034, ...   \n",
       "228  [[17.582151, 17.582151, 17.582151, 17.582151, ...   \n",
       "229  [[37.420948, 37.420948, 37.420948, 37.420948, ...   \n",
       "\n",
       "                                          mfcc_delta_2  \n",
       "0    [[-13.363751, -13.363751, -13.363751, -13.3637...  \n",
       "1    [[-0.2170428, -0.2170428, -0.2170428, -0.21704...  \n",
       "2    [[-26.089209, -26.089209, -26.089209, -26.0892...  \n",
       "3    [[-16.443972, -16.443972, -16.443972, -16.4439...  \n",
       "4    [[-14.451537, -14.451537, -14.451537, -14.4515...  \n",
       "..                                                 ...  \n",
       "225  [[-33.328503, -33.328503, -33.328503, -33.3285...  \n",
       "226  [[-25.27901, -25.27901, -25.27901, -25.27901, ...  \n",
       "227  [[-29.519438, -29.519438, -29.519438, -29.5194...  \n",
       "228  [[-33.120426, -33.120426, -33.120426, -33.1204...  \n",
       "229  [[-27.481888, -27.481888, -27.481888, -27.4818...  \n",
       "\n",
       "[230 rows x 18 columns]"
      ]
     },
     "execution_count": 34,
     "metadata": {},
     "output_type": "execute_result"
    }
   ],
   "source": [
    "recordings_df"
   ]
  },
  {
   "cell_type": "markdown",
   "id": "331a179a-8f82-4a43-9fec-da9e64479e1c",
   "metadata": {},
   "source": [
    "# Summary Data Analysis "
   ]
  },
  {
   "cell_type": "markdown",
   "id": "a560308c-db78-466e-912f-04c2023ef7ad",
   "metadata": {},
   "source": [
    "### Irish-English accents by location, from Hickey, Sound Atlas of Irish English (2004)"
   ]
  },
  {
   "cell_type": "markdown",
   "id": "88dc2bab-76b4-4dd8-a7f3-5f6e253ecf48",
   "metadata": {},
   "source": [
    "![Irish-English accents by location, from Hickey, Sound Atlas of Irish-English (2004)](accentmap.png)\n"
   ]
  },
  {
   "cell_type": "markdown",
   "id": "8721c2e1-a81d-4e81-b505-47120c5f60a7",
   "metadata": {},
   "source": [
    "## Recordings by County"
   ]
  },
  {
   "cell_type": "code",
   "execution_count": 35,
   "id": "7c2d9b1a-0a9f-4fdc-b50c-026814479c3a",
   "metadata": {},
   "outputs": [
    {
     "data": {
      "text/plain": [
       "counties\n",
       "DUB    166\n",
       "ANT     38\n",
       "BEL     26\n",
       "Name: count, dtype: int64"
      ]
     },
     "execution_count": 35,
     "metadata": {},
     "output_type": "execute_result"
    }
   ],
   "source": [
    "recordings_df['counties'].value_counts()"
   ]
  },
  {
   "cell_type": "markdown",
   "id": "854a71cc-5223-4974-a1fe-b6812dd21e44",
   "metadata": {},
   "source": [
    "## As we might expect, Dublin has more speech samples than the Belfast and Antrim region, so the classes are imbalanced"
   ]
  },
  {
   "cell_type": "code",
   "execution_count": 76,
   "id": "c7239c9e-efdc-4369-ab4e-7e7bb7d1d3ce",
   "metadata": {},
   "outputs": [],
   "source": [
    "# Calculate the value counts for the counties \n",
    "counties_counts = recordings_df['counties'].value_counts()\n",
    "counties_counts_df = counties_counts.reset_index()\n",
    "counties_counts_df.columns = ['county', 'count']"
   ]
  },
  {
   "cell_type": "code",
   "execution_count": 77,
   "id": "589ab87b-3ab2-4b53-acba-3b0aba6b407d",
   "metadata": {},
   "outputs": [
    {
     "data": {
      "image/png": "[encoded data removed]",
      "text/plain": [
       "<Figure size 600x600 with 1 Axes>"
      ]
     },
     "metadata": {},
     "output_type": "display_data"
    }
   ],
   "source": [
    "# Create the pie chart\n",
    "plt.figure(figsize=(6, 6))\n",
    "plt.pie(counties_counts, labels=counties_counts.index, autopct='%1.1f%%', startangle=140) \n",
    "plt.title('Distribution of Recordings by Counties')\n",
    "plt.show()"
   ]
  },
  {
   "cell_type": "markdown",
   "id": "7e69a246-239d-4c07-9736-87df1c43a3f4",
   "metadata": {},
   "source": [
    "## Speaker age distribution"
   ]
  },
  {
   "cell_type": "code",
   "execution_count": 38,
   "id": "932de4a9-5add-440b-9104-a68620dfa119",
   "metadata": {},
   "outputs": [
    {
     "name": "stdout",
     "output_type": "stream",
     "text": [
      "    ages  counts\n",
      "0     15       5\n",
      "1     16       1\n",
      "2     20     184\n",
      "3     25       7\n",
      "4     30      10\n",
      "5     35       5\n",
      "6     40       5\n",
      "7     45       1\n",
      "8     50       4\n",
      "9     55       2\n",
      "10    60       2\n",
      "11    65       1\n",
      "12    70       2\n",
      "13    80       1\n"
     ]
    }
   ],
   "source": [
    "ages_counts = recordings_df['ages'].value_counts()\n",
    "ages_counts_df = ages_counts.reset_index()\n",
    "ages_counts_df.columns = ['ages', 'counts']\n",
    "sorted_ages_counts_df = ages_counts_df.sort_values(by='ages')\n",
    "sorted_ages_counts_df.reset_index(drop=True, inplace=True)\n",
    "\n",
    "print(sorted_ages_counts_df)"
   ]
  },
  {
   "cell_type": "code",
   "execution_count": 44,
   "id": "4ea6c560-9285-4a72-8ac0-f7ed42f3028c",
   "metadata": {},
   "outputs": [
    {
     "data": {
      "image/png": "[encoded data removed]",
      "text/plain": [
       "<Figure size 1000x600 with 1 Axes>"
      ]
     },
     "metadata": {},
     "output_type": "display_data"
    }
   ],
   "source": [
    "ages = sorted_ages_counts_df['ages']\n",
    "counts = sorted_ages_counts_df['counts']\n",
    "\n",
    "plt.figure(figsize=(10, 6))\n",
    "plt.bar(ages, counts, color='blue')\n",
    "\n",
    "plt.xlabel('Ages')\n",
    "plt.ylabel('Number of Speakers')\n",
    "plt.title('Speaker Ages')\n",
    "\n",
    "plt.xticks(ticks=ages, labels=ages)\n",
    "\n",
    "# Display the chart\n",
    "plt.show()"
   ]
  },
  {
   "cell_type": "markdown",
   "id": "3baab720-e266-4f03-aa8a-a6be22e69f5e",
   "metadata": {},
   "source": [
    "## Speaker ages by county"
   ]
  },
  {
   "cell_type": "code",
   "execution_count": 42,
   "id": "8213ffcb-34b7-46b2-bef8-3f422533fc2f",
   "metadata": {},
   "outputs": [
    {
     "data": {
      "text/plain": [
       "counties  ages\n",
       "ANT       20       18\n",
       "          25        4\n",
       "          30        4\n",
       "          50        2\n",
       "          55        2\n",
       "          60        2\n",
       "          70        2\n",
       "          16        1\n",
       "          40        1\n",
       "          65        1\n",
       "          80        1\n",
       "BEL       20       22\n",
       "          40        2\n",
       "          30        1\n",
       "          35        1\n",
       "DUB       20      144\n",
       "          15        5\n",
       "          30        5\n",
       "          35        4\n",
       "          25        3\n",
       "          40        2\n",
       "          50        2\n",
       "          45        1\n",
       "Name: count, dtype: int64"
      ]
     },
     "execution_count": 42,
     "metadata": {},
     "output_type": "execute_result"
    }
   ],
   "source": [
    "recordings_df.groupby('counties')['ages'].value_counts()"
   ]
  },
  {
   "cell_type": "markdown",
   "id": "edd30870-9fe5-4485-888f-6b13522f6953",
   "metadata": {},
   "source": [
    "## Speakers estimated at 20 years of age are a majority in every geographic area"
   ]
  },
  {
   "cell_type": "markdown",
   "id": "16f4a444-2fb7-4564-83c7-1a946cd33959",
   "metadata": {},
   "source": [
    "## Gender distribution by County"
   ]
  },
  {
   "cell_type": "code",
   "execution_count": 81,
   "id": "1b5ffd5b-ba78-416a-acd9-999dbe6a31ba",
   "metadata": {},
   "outputs": [
    {
     "name": "stdout",
     "output_type": "stream",
     "text": [
      "  counties genders  counts\n",
      "0      ANT       F      15\n",
      "1      ANT       M      23\n",
      "2      BEL       F       7\n",
      "3      BEL       M      19\n",
      "4      DUB       F      86\n",
      "5      DUB       M      80\n"
     ]
    }
   ],
   "source": [
    "grouped = recordings_df.groupby(['counties', 'genders']).size().reset_index(name='counts')\n",
    "print(grouped)"
   ]
  },
  {
   "cell_type": "code",
   "execution_count": 46,
   "id": "ba79cdb0-1d3c-4840-96f9-45aa3d0b80b4",
   "metadata": {},
   "outputs": [
    {
     "data": {
      "image/png": "[encoded data removed]",
      "text/plain": [
       "<Figure size 600x400 with 1 Axes>"
      ]
     },
     "metadata": {},
     "output_type": "display_data"
    }
   ],
   "source": [
    "# Create the bar plot\n",
    "plt.figure(figsize=(6, 4))\n",
    "sns.barplot(data=grouped, x='counties', y='counts', hue='genders')\n",
    "\n",
    "# Add title and labels\n",
    "plt.title('Gender Distribution by County')\n",
    "plt.xlabel('County')\n",
    "plt.ylabel('Count')\n",
    "\n",
    "# Show the plot\n",
    "plt.show()"
   ]
  },
  {
   "cell_type": "markdown",
   "id": "7dc81808-fde6-4f8c-8a9a-a76eed4158a6",
   "metadata": {},
   "source": [
    "## Male speakers outnumber females in total and in Belfast and Antrim, but not  in Dublin,"
   ]
  },
  {
   "cell_type": "code",
   "execution_count": 57,
   "id": "05be639b-99a0-4a54-9f7a-4f2eca5764f7",
   "metadata": {},
   "outputs": [
    {
     "data": {
      "text/plain": [
       "genders\n",
       "M    122\n",
       "F    108\n",
       "Name: count, dtype: int64"
      ]
     },
     "execution_count": 57,
     "metadata": {},
     "output_type": "execute_result"
    }
   ],
   "source": [
    "genders_counts=recordings_df['genders'].value_counts()\n",
    "genders_counts"
   ]
  },
  {
   "cell_type": "markdown",
   "id": "dd89b4d8-458f-4255-9876-303b38afda30",
   "metadata": {},
   "source": [
    "## Speakers by county and gender"
   ]
  },
  {
   "cell_type": "code",
   "execution_count": 53,
   "id": "56f9349d-9a76-45ae-a3b8-e8cd99af48c0",
   "metadata": {},
   "outputs": [
    {
     "data": {
      "text/plain": [
       "counties  genders\n",
       "ANT       M          23\n",
       "          F          15\n",
       "BEL       M          19\n",
       "          F           7\n",
       "DUB       F          86\n",
       "          M          80\n",
       "Name: count, dtype: int64"
      ]
     },
     "execution_count": 53,
     "metadata": {},
     "output_type": "execute_result"
    }
   ],
   "source": [
    "recordings_df.groupby('counties')['genders'].value_counts()"
   ]
  },
  {
   "cell_type": "code",
   "execution_count": null,
   "id": "8e2f8d89-a04d-4bbe-b900-cc38735a7da3",
   "metadata": {},
   "outputs": [],
   "source": []
  },
  {
   "cell_type": "code",
   "execution_count": 56,
   "id": "4768ae14-32e4-427e-8a03-650b8249f841",
   "metadata": {},
   "outputs": [],
   "source": [
    "# Calculate the value counts for the counties \n",
    "ages_counts = recordings_df.groupby('counties')['genders'].value_counts()\n",
    "ages_counts_df = ages_counts.reset_index()\n"
   ]
  },
  {
   "cell_type": "code",
   "execution_count": null,
   "id": "84e6db1d-abce-440d-bc42-0564fce78119",
   "metadata": {},
   "outputs": [],
   "source": []
  },
  {
   "cell_type": "markdown",
   "id": "afe23192-5a00-41bd-bb55-67a9799227af",
   "metadata": {},
   "source": [
    "## Recordings by town"
   ]
  },
  {
   "cell_type": "code",
   "execution_count": 82,
   "id": "168fb6ba-07de-494b-9083-e18c5372fd0a",
   "metadata": {},
   "outputs": [
    {
     "data": {
      "text/plain": [
       "towns\n",
       "City            11\n",
       "Tallaght        10\n",
       "Blanchard        9\n",
       "Terenure         7\n",
       "Dunleary         7\n",
       "Bray             7\n",
       "North            6\n",
       "Templeogue       6\n",
       "Clontarf         6\n",
       "Ballymena        5\n",
       "Swords           5\n",
       "Clonskea         5\n",
       "Sandyford        5\n",
       "Rathfarnham      5\n",
       "Ballinteer       4\n",
       "Malahide         4\n",
       "East             4\n",
       "Lucan            4\n",
       "Cabinteely       4\n",
       "Ballycastle      4\n",
       "Castleknock      4\n",
       "Dundrum          4\n",
       "Ranelagh         4\n",
       "Rathgar          4\n",
       "Shankhill        4\n",
       "Antrim           3\n",
       "Monkstown        3\n",
       "Artane           3\n",
       "Newtownabbey     3\n",
       "Lisburn          3\n",
       "Knocklyon        3\n",
       "Rathmines        3\n",
       "Ballymoney       3\n",
       "Churchtown       3\n",
       "Crumlin          3\n",
       "Sutton           2\n",
       "Finglas          2\n",
       "Foxrock          2\n",
       "Portmarnock      2\n",
       "Goatstown        2\n",
       "Name: count, dtype: int64"
      ]
     },
     "execution_count": 82,
     "metadata": {},
     "output_type": "execute_result"
    }
   ],
   "source": [
    "recordings_df['towns'].value_counts()[0:40]"
   ]
  },
  {
   "cell_type": "code",
   "execution_count": 84,
   "id": "e16ee92f-b3c9-4981-84f9-664d1fb2829a",
   "metadata": {},
   "outputs": [
    {
     "data": {
      "text/plain": [
       "counties  towns        \n",
       "ANT       Ballymena         5\n",
       "          Ballycastle       4\n",
       "          Antrim            3\n",
       "          Ballymoney        3\n",
       "          Lisburn           3\n",
       "          Newtownabbey      3\n",
       "          Ballyclare        2\n",
       "          Crumlin           2\n",
       "          Larne             2\n",
       "          Randalstown       2\n",
       "          Ballynure         1\n",
       "          Bushmills         1\n",
       "          Carnlough         1\n",
       "          Carrickfergus     1\n",
       "          Cullybackey       1\n",
       "          Dervock           1\n",
       "          Dunloy            1\n",
       "          Glenarm           1\n",
       "          Templepatrick     1\n",
       "BEL       City             11\n",
       "          North             6\n",
       "          East              4\n",
       "          South             2\n",
       "          Drumbeg           1\n",
       "          OrmeauRoad        1\n",
       "          Whitehouse        1\n",
       "DUB       Tallaght         10\n",
       "          Blanchard         9\n",
       "          Bray              7\n",
       "          Dunleary          7\n",
       "          Terenure          7\n",
       "          Clontarf          6\n",
       "          Templeogue        6\n",
       "          Clonskea          5\n",
       "          Rathfarnham       5\n",
       "          Sandyford         5\n",
       "          Swords            5\n",
       "          Ballinteer        4\n",
       "          Cabinteely        4\n",
       "          Castleknock       4\n",
       "          Dundrum           4\n",
       "          Lucan             4\n",
       "          Malahide          4\n",
       "          Ranelagh          4\n",
       "          Rathgar           4\n",
       "          Shankhill         4\n",
       "          Artane            3\n",
       "          Churchtown        3\n",
       "          Knocklyon         3\n",
       "          Monkstown         3\n",
       "          Rathmines         3\n",
       "          Cabra             2\n",
       "          Dalkey            2\n",
       "          DeansGrange       2\n",
       "          Donnybrook        2\n",
       "          Finglas           2\n",
       "          Foxrock           2\n",
       "          Goatstown         2\n",
       "          Killiney          2\n",
       "          MountMerrion      2\n",
       "Name: count, dtype: int64"
      ]
     },
     "execution_count": 84,
     "metadata": {},
     "output_type": "execute_result"
    }
   ],
   "source": [
    "recordings_df.groupby('counties')['towns'].value_counts()[0:60]"
   ]
  },
  {
   "cell_type": "markdown",
   "id": "022ac19e-82d0-4403-a7d5-dbbb3a25a49f",
   "metadata": {},
   "source": [
    "## Speakers are not very concentrated in particular districts of Dublin\n",
    "## Biggest category in Belfast dataset is 'city', while no category for the west, the traditional centre for Irish Catholic / Nationalist / Republican communities "
   ]
  },
  {
   "cell_type": "code",
   "execution_count": null,
   "id": "58fe9f6f-4f06-4f4d-bc8f-aa74412aeb91",
   "metadata": {},
   "outputs": [],
   "source": []
  }
 ],
 "metadata": {
  "kernelspec": {
   "display_name": "audio8_2_tf",
   "language": "python",
   "name": "audio8_2_tf"
  },
  "language_info": {
   "codemirror_mode": {
    "name": "ipython",
    "version": 3
   },
   "file_extension": ".py",
   "mimetype": "text/x-python",
   "name": "python",
   "nbconvert_exporter": "python",
   "pygments_lexer": "ipython3",
   "version": "3.9.19"
  }
 },
 "nbformat": 4,
 "nbformat_minor": 5
}
