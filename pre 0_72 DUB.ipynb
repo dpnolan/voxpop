{
 "cells": [
  {
   "cell_type": "markdown",
   "id": "bfca3d69-3199-4215-95f3-43d0c716cf0f",
   "metadata": {},
   "source": [
    "# Preprocessing Functions"
   ]
  },
  {
   "cell_type": "markdown",
   "id": "743b2460",
   "metadata": {},
   "source": [
    "## This workbook\n",
    "* Imports sound files from the SAIE dataset\n",
    "* Graphs and calculates the features\n",
    "* Adds the features to a Dataframe, then saves down the sample data for input in the classification model "
   ]
  },
  {
   "cell_type": "markdown",
   "id": "e1d71c36",
   "metadata": {},
   "source": [
    "## To do\n"
   ]
  },
  {
   "cell_type": "markdown",
   "id": "616f9cde",
   "metadata": {},
   "source": [
    "## Updates\n",
    "\n",
    "* 0_71 Output data in HDF format to preserve data structures\n",
    "* 0_70 Store sample number and sample file names and add them to the dataframe\n",
    "* 0_69 Clean up and check code and data; add exports of samples to WAV files\n",
    "* 0_68 Sample recordings every SAMPLE_LENGTH seconds.  Add these samples to the dataframe exported along with statistics for the sample alone.  \n",
    "* 0_67 Added DER Derry data,  Added regex for Windows file formats on Core i5\n",
    "* 0_66 Added DOW Down data, later removed it\n",
    "* 0_65 Added ANT Antrim and BEL Belfast sound data, added rational expression to deal with the urban/rural and size codes in the SAIE filenames\n",
    "* 0_63,4 add conversion of MP3 to WAV, add extraction of county, town, gender and age codes\n",
    "* 0_6 add code for dataframe definition and export\n",
    "* 0_5 added graphing of spectrogram\n",
    "* 0_4 loaded Dublin full-text data"
   ]
  },
  {
   "cell_type": "code",
   "execution_count": 1,
   "id": "9b37be14",
   "metadata": {},
   "outputs": [
    {
     "name": "stdout",
     "output_type": "stream",
     "text": [
      "20240807_1841\n"
     ]
    }
   ],
   "source": [
    "from datetime import datetime\n",
    "\n",
    "# Get the current system date and time\n",
    "now = datetime.now()\n",
    "\n",
    "# Format the date and time as yyyymmdd_hhmm\n",
    "formatted_date_time = now.strftime(\"%Y%m%d_%H%M\")\n",
    "\n",
    "# Save it to a variable\n",
    "date_time_variable = formatted_date_time\n",
    "\n",
    "# Print the variable to verify\n",
    "print(date_time_variable)"
   ]
  },
  {
   "cell_type": "code",
   "execution_count": 2,
   "id": "76127bd1-e651-46d0-9aff-3092dad79c19",
   "metadata": {},
   "outputs": [],
   "source": [
    "import os"
   ]
  },
  {
   "cell_type": "code",
   "execution_count": 3,
   "id": "a0029def-c166-4f5b-a076-070682a78bdc",
   "metadata": {},
   "outputs": [
    {
     "data": {
      "text/plain": [
       "'/Users/peternolan/Documents/voxpop/Clustering'"
      ]
     },
     "execution_count": 3,
     "metadata": {},
     "output_type": "execute_result"
    }
   ],
   "source": [
    "os.getcwd()"
   ]
  },
  {
   "cell_type": "code",
   "execution_count": 26,
   "id": "f48b2a4e",
   "metadata": {},
   "outputs": [],
   "source": [
    "DIR_PATH=r'/Users/peternolan/Documents/voxpop/notebooks/DUB/*.wav'\n",
    "\n",
    "#DIR_PATH=r'/Users/peternolan/Documents/voxpop/notebooks/NI/DER/*.wav'\n",
    "#DIR_PATH=r\"C:\\Users\\peter\\VoxPop\\DER\\*.wav\" # Derry input files\n",
    "#DIR_PATH=r\"C:\\Users\\peter\\VoxPop\\ANT\\*.wav\" # Antrim input files\n",
    "#DIR_PATH=r\"C:\\Users\\peter\\VoxPop\\DUB\\*.wav\" # Dublin input files\n",
    "\n",
    "#DIR_PATH='C:\\\\Users\\\\GGMachines_Gaming\\\\Documents\\\\DUB\\\\*.wav'\n",
    "\n",
    "#DIR_PATH='C:\\\\Users\\\\GGMachines_Gaming\\\\Documents\\\\DUB\\\\*.wav'"
   ]
  },
  {
   "cell_type": "code",
   "execution_count": 5,
   "id": "286b5be8-69f2-4924-a050-330d4dce502f",
   "metadata": {},
   "outputs": [],
   "source": [
    "# !pip install librosa"
   ]
  },
  {
   "cell_type": "code",
   "execution_count": 6,
   "id": "7c909746",
   "metadata": {},
   "outputs": [
    {
     "data": {
      "text/plain": [
       "'0.10.1'"
      ]
     },
     "execution_count": 6,
     "metadata": {},
     "output_type": "execute_result"
    }
   ],
   "source": [
    "import librosa\n",
    "librosa.__version__ "
   ]
  },
  {
   "cell_type": "code",
   "execution_count": 7,
   "id": "521a96bf-1cb5-4ecc-9641-e5f936996bd2",
   "metadata": {},
   "outputs": [],
   "source": [
    "import matplotlib\n",
    "import librosa.display"
   ]
  },
  {
   "cell_type": "code",
   "execution_count": 8,
   "id": "6c91b3b7",
   "metadata": {},
   "outputs": [
    {
     "data": {
      "text/plain": [
       "'1.25.0'"
      ]
     },
     "execution_count": 8,
     "metadata": {},
     "output_type": "execute_result"
    }
   ],
   "source": [
    "import numpy as np \n",
    "np.__version__"
   ]
  },
  {
   "cell_type": "code",
   "execution_count": 9,
   "id": "d16fe3a8",
   "metadata": {},
   "outputs": [
    {
     "data": {
      "text/plain": [
       "'2.1.4'"
      ]
     },
     "execution_count": 9,
     "metadata": {},
     "output_type": "execute_result"
    }
   ],
   "source": [
    "import pandas as pd\n",
    "pd.__version__"
   ]
  },
  {
   "cell_type": "code",
   "execution_count": 10,
   "id": "7a0d5f61-4592-4af4-ac3f-948c45c10072",
   "metadata": {},
   "outputs": [],
   "source": [
    "import soundfile as sf"
   ]
  },
  {
   "cell_type": "code",
   "execution_count": 11,
   "id": "b635a787-6abb-4c24-8ddc-d189aacb7973",
   "metadata": {},
   "outputs": [],
   "source": [
    "import math"
   ]
  },
  {
   "cell_type": "code",
   "execution_count": 12,
   "id": "c3beb420",
   "metadata": {},
   "outputs": [],
   "source": [
    "import matplotlib.pyplot as plt\n",
    "%matplotlib inline\n",
    "#plt.style.use(\"seaborn\")\n",
    "import glob\n",
    "import IPython\n",
    "from IPython.display import Audio\n",
    "import re\n",
    "import csv"
   ]
  },
  {
   "cell_type": "code",
   "execution_count": 13,
   "id": "8965461d",
   "metadata": {},
   "outputs": [],
   "source": [
    "from pydub import AudioSegment\n",
    "import soundfile as sf\n",
    "import os"
   ]
  },
  {
   "cell_type": "code",
   "execution_count": 14,
   "id": "10f18839-a95d-4930-8611-2b83e2c6e145",
   "metadata": {},
   "outputs": [
    {
     "ename": "ModuleNotFoundError",
     "evalue": "No module named 'tables'",
     "output_type": "error",
     "traceback": [
      "\u001b[0;31m---------------------------------------------------------------------------\u001b[0m",
      "\u001b[0;31mModuleNotFoundError\u001b[0m                       Traceback (most recent call last)",
      "Cell \u001b[0;32mIn[14], line 1\u001b[0m\n\u001b[0;32m----> 1\u001b[0m \u001b[38;5;28;01mimport\u001b[39;00m \u001b[38;5;21;01mtables\u001b[39;00m\n",
      "\u001b[0;31mModuleNotFoundError\u001b[0m: No module named 'tables'"
     ]
    }
   ],
   "source": [
    "import tables"
   ]
  },
  {
   "cell_type": "code",
   "execution_count": 27,
   "id": "923bfb14",
   "metadata": {},
   "outputs": [],
   "source": [
    "filenames=[]\n",
    "sr=[]\n",
    "dur=[]\n",
    "y=[]\n",
    "names=[]"
   ]
  },
  {
   "cell_type": "markdown",
   "id": "7dc4f617-5f94-4b51-b4aa-ac6570f60c87",
   "metadata": {},
   "source": [
    "## Global Variables"
   ]
  },
  {
   "cell_type": "code",
   "execution_count": 28,
   "id": "d6cfe86a-4b41-4511-9eba-ba976f76de33",
   "metadata": {},
   "outputs": [],
   "source": [
    "#DATASET_NAME = \"ANT\" # Antrim (ANT) and Belfast (BEL)voice recordings datasets\n",
    "\n",
    "DATASET_NAME = \"DUB\" # Dublin (DUB) voice recordings datasets"
   ]
  },
  {
   "cell_type": "code",
   "execution_count": 29,
   "id": "8085eb10-d5ea-49a4-a3fa-1c8d5b35802a",
   "metadata": {},
   "outputs": [
    {
     "data": {
      "text/plain": [
       "'/Users/peternolan/Documents/voxpop/Clustering'"
      ]
     },
     "execution_count": 29,
     "metadata": {},
     "output_type": "execute_result"
    }
   ],
   "source": [
    "os.getcwd()"
   ]
  },
  {
   "cell_type": "code",
   "execution_count": 30,
   "id": "c34bb296-937f-49a7-949c-b359165a8947",
   "metadata": {},
   "outputs": [],
   "source": [
    "SAMPLE_OUTPUT_DIRECTORY=\"C:\\\\Users\\\\GGMachines_Gaming\\\\Documents\\\\sample_output_directory\\\\\""
   ]
  },
  {
   "cell_type": "code",
   "execution_count": 31,
   "id": "4ec9c08f-5f9d-4728-a38f-148ec6582c98",
   "metadata": {},
   "outputs": [
    {
     "ename": "FileNotFoundError",
     "evalue": "[Errno 2] No such file or directory: 'C:\\\\Users\\\\GGMachines_Gaming\\\\Documents\\\\sample_output_directory\\\\'",
     "output_type": "error",
     "traceback": [
      "\u001b[0;31m---------------------------------------------------------------------------\u001b[0m",
      "\u001b[0;31mFileNotFoundError\u001b[0m                         Traceback (most recent call last)",
      "Cell \u001b[0;32mIn[31], line 1\u001b[0m\n\u001b[0;32m----> 1\u001b[0m \u001b[43mos\u001b[49m\u001b[38;5;241;43m.\u001b[39;49m\u001b[43mchdir\u001b[49m\u001b[43m(\u001b[49m\u001b[43mSAMPLE_OUTPUT_DIRECTORY\u001b[49m\u001b[43m)\u001b[49m\n\u001b[1;32m      2\u001b[0m os\u001b[38;5;241m.\u001b[39mgetcwd()\n",
      "\u001b[0;31mFileNotFoundError\u001b[0m: [Errno 2] No such file or directory: 'C:\\\\Users\\\\GGMachines_Gaming\\\\Documents\\\\sample_output_directory\\\\'"
     ]
    }
   ],
   "source": [
    "os.chdir(SAMPLE_OUTPUT_DIRECTORY)\n",
    "os.getcwd()"
   ]
  },
  {
   "cell_type": "code",
   "execution_count": 32,
   "id": "3419e4ee-d792-4e44-aaa0-7dba2cae234a",
   "metadata": {},
   "outputs": [],
   "source": [
    "SAMPLE_LENGTH=1 # seconds"
   ]
  },
  {
   "cell_type": "code",
   "execution_count": 33,
   "id": "1ddadbbf",
   "metadata": {},
   "outputs": [],
   "source": [
    "#RESAMPLE_RATE=8000\n",
    "RESAMPLE_RATE=22050"
   ]
  },
  {
   "cell_type": "code",
   "execution_count": 34,
   "id": "08418191",
   "metadata": {},
   "outputs": [
    {
     "data": {
      "text/plain": [
       "'/Users/peternolan/Documents/voxpop/Clustering'"
      ]
     },
     "execution_count": 34,
     "metadata": {},
     "output_type": "execute_result"
    }
   ],
   "source": [
    "os.getcwd()"
   ]
  },
  {
   "cell_type": "code",
   "execution_count": 35,
   "id": "dcf8ee6c-3b1d-41eb-9a02-8b0f0729a77d",
   "metadata": {},
   "outputs": [
    {
     "data": {
      "text/plain": [
       "'/Users/peternolan/Documents/voxpop/notebooks/DUB/*.wav'"
      ]
     },
     "execution_count": 35,
     "metadata": {},
     "output_type": "execute_result"
    }
   ],
   "source": [
    "DIR_PATH"
   ]
  },
  {
   "cell_type": "code",
   "execution_count": 36,
   "id": "f67fb15f",
   "metadata": {},
   "outputs": [],
   "source": [
    "res = glob.glob(DIR_PATH)\n",
    "for filename in res:\n",
    "    filenames.append(filename)"
   ]
  },
  {
   "cell_type": "code",
   "execution_count": 37,
   "id": "5980a35c",
   "metadata": {},
   "outputs": [
    {
     "data": {
      "text/plain": [
       "167"
      ]
     },
     "execution_count": 37,
     "metadata": {},
     "output_type": "execute_result"
    }
   ],
   "source": [
    "len(filenames)"
   ]
  },
  {
   "cell_type": "code",
   "execution_count": 38,
   "id": "f9ecfe32",
   "metadata": {},
   "outputs": [],
   "source": [
    "def sample_duration(filename):\n",
    "    d=(librosa.get_duration(path=filename))\n",
    "    d=int(d*100)/100\n",
    "    return d"
   ]
  },
  {
   "cell_type": "code",
   "execution_count": 39,
   "id": "e764dcfa",
   "metadata": {},
   "outputs": [],
   "source": [
    "def convert_MP3_to_WAV(convertfile):\n",
    "    print(convertfile)\n",
    "    convertaudio = AudioSegment.from_mp3(convertfile)\n",
    "    convertaudio.export(\"convertfile.wav\", format=\"wav\")\n",
    "    dur=sample_duration(\"convertfile.wav\")\n",
    "    y, sr = librosa.load(\"convertfile.wav\",duration=dur)\n",
    "    return y,sr"
   ]
  },
  {
   "cell_type": "code",
   "execution_count": 40,
   "id": "e70cb6d4",
   "metadata": {},
   "outputs": [
    {
     "data": {
      "text/plain": [
       "['/Users/peternolan/Documents/voxpop/notebooks/DUB/DUB_Tallaght_M_40.wav',\n",
       " '/Users/peternolan/Documents/voxpop/notebooks/DUB/DUB_Finglas_F_35.wav',\n",
       " '/Users/peternolan/Documents/voxpop/notebooks/DUB/DUB_MountMerrion_M_20.wav',\n",
       " '/Users/peternolan/Documents/voxpop/notebooks/DUB/DUB_Dunleary_M_30.wav',\n",
       " '/Users/peternolan/Documents/voxpop/notebooks/DUB/DUB_Terenure_F_20_(3).wav',\n",
       " '/Users/peternolan/Documents/voxpop/notebooks/DUB/DUB_Malahide_F_20.wav',\n",
       " '/Users/peternolan/Documents/voxpop/notebooks/DUB/DUB_Dalkey_F_20.wav',\n",
       " '/Users/peternolan/Documents/voxpop/notebooks/DUB/DUB_Rathfarnham_M_20_(2).wav',\n",
       " '/Users/peternolan/Documents/voxpop/notebooks/DUB/DUB_Blanchard_M_20_(4).wav',\n",
       " '/Users/peternolan/Documents/voxpop/notebooks/DUB/DUB_Tallaght_M_20_(3).wav',\n",
       " '/Users/peternolan/Documents/voxpop/notebooks/DUB/DUB_Dunleary_M_20_(2).wav',\n",
       " '/Users/peternolan/Documents/voxpop/notebooks/DUB/DUB_Clontarf_M_20_(3).wav',\n",
       " '/Users/peternolan/Documents/voxpop/notebooks/DUB/DUB_Monkstown_M_20.wav',\n",
       " '/Users/peternolan/Documents/voxpop/notebooks/DUB/DUB_Sutton_F_20.wav',\n",
       " '/Users/peternolan/Documents/voxpop/notebooks/DUB/DUB_Blackrock_F_20.wav',\n",
       " '/Users/peternolan/Documents/voxpop/notebooks/DUB/DUB_Dundrum_F_20.wav',\n",
       " '/Users/peternolan/Documents/voxpop/notebooks/DUB/DUB_Clontarf_M_20_(2).wav',\n",
       " '/Users/peternolan/Documents/voxpop/notebooks/DUB/DUB_Tallaght_M_20_(2).wav',\n",
       " '/Users/peternolan/Documents/voxpop/notebooks/DUB/DUB_Swords_F_35.wav',\n",
       " '/Users/peternolan/Documents/voxpop/notebooks/DUB/DUB_DeansGrange_F_20.wav',\n",
       " '/Users/peternolan/Documents/voxpop/notebooks/DUB/DUB_Rathmines_M_20.wav',\n",
       " '/Users/peternolan/Documents/voxpop/notebooks/DUB/DUB_Swords_M_15.wav',\n",
       " '/Users/peternolan/Documents/voxpop/notebooks/DUB/DUB_Killiney_M_20_(2).wav',\n",
       " '/Users/peternolan/Documents/voxpop/notebooks/DUB/DUB_Ballinteer_M_25.wav',\n",
       " '/Users/peternolan/Documents/voxpop/notebooks/DUB/DUB_Terenure_F_20_(2).wav',\n",
       " '/Users/peternolan/Documents/voxpop/notebooks/DUB/DUB_Dunleary_M_20.wav',\n",
       " '/Users/peternolan/Documents/voxpop/notebooks/DUB/DUB_Rathgar_F_20.wav',\n",
       " '/Users/peternolan/Documents/voxpop/notebooks/DUB/DUB_Rathfarnham_M_20.wav',\n",
       " '/Users/peternolan/Documents/voxpop/notebooks/DUB/DUB_Ranelagh_M_20.wav',\n",
       " '/Users/peternolan/Documents/voxpop/notebooks/DUB/DUB_Templeogue_F_20_(4).wav',\n",
       " '/Users/peternolan/Documents/voxpop/notebooks/DUB/DUB_Clonskea_M_20.wav',\n",
       " '/Users/peternolan/Documents/voxpop/notebooks/DUB/DUB_Goatstown_M_20.wav',\n",
       " '/Users/peternolan/Documents/voxpop/notebooks/DUB/DUB_Clonskea_F_20_(4).wav',\n",
       " '/Users/peternolan/Documents/voxpop/notebooks/DUB/DUB_Bray_F_20_(2).wav',\n",
       " '/Users/peternolan/Documents/voxpop/notebooks/DUB/DUB_Rush_M_20.wav',\n",
       " '/Users/peternolan/Documents/voxpop/notebooks/DUB/DUB_Castleknock_M_20.wav',\n",
       " '/Users/peternolan/Documents/voxpop/notebooks/DUB/DUB_Bray_F_35.wav',\n",
       " '/Users/peternolan/Documents/voxpop/notebooks/DUB/DUB_Swords_M_15_(2).wav',\n",
       " '/Users/peternolan/Documents/voxpop/notebooks/DUB/DUB_Sandymount_M_20.wav',\n",
       " '/Users/peternolan/Documents/voxpop/notebooks/DUB/DUB_Blanchard_M_20_(2).wav',\n",
       " '/Users/peternolan/Documents/voxpop/notebooks/DUB/DUB_Tallaght_M_20_(5).wav',\n",
       " '/Users/peternolan/Documents/voxpop/notebooks/DUB/DUB_Bray_F_20.wav',\n",
       " '/Users/peternolan/Documents/voxpop/notebooks/DUB/DUB_Clontarf_M_20.wav',\n",
       " '/Users/peternolan/Documents/voxpop/notebooks/DUB/DUB_Walkinstown_F_30.wav',\n",
       " '/Users/peternolan/Documents/voxpop/notebooks/DUB/DUB_Clonskea_F_20_(3).wav',\n",
       " '/Users/peternolan/Documents/voxpop/notebooks/DUB/DUB_Blanchard_F_20.wav',\n",
       " '/Users/peternolan/Documents/voxpop/notebooks/DUB/DUB_Shankhill_F_20_(2).wav',\n",
       " '/Users/peternolan/Documents/voxpop/notebooks/DUB/DUB_Artane_M_20.wav',\n",
       " '/Users/peternolan/Documents/voxpop/notebooks/DUB/DUB_Clondalkin_M_20.wav',\n",
       " '/Users/peternolan/Documents/voxpop/notebooks/DUB/DUB_Tallaght_M_20.wav',\n",
       " '/Users/peternolan/Documents/voxpop/notebooks/DUB/DUB_Ranelagh_M_20_(3).wav',\n",
       " '/Users/peternolan/Documents/voxpop/notebooks/DUB/DUB_Shankhill_M_20.wav',\n",
       " '/Users/peternolan/Documents/voxpop/notebooks/DUB/DUB_Malahide_F_20_(3).wav',\n",
       " '/Users/peternolan/Documents/voxpop/notebooks/DUB/DUB_Templeogue_F_20_(3).wav',\n",
       " '/Users/peternolan/Documents/voxpop/notebooks/DUB/DUB_Knocklyon_F_20.wav',\n",
       " '/Users/peternolan/Documents/voxpop/notebooks/DUB/DUB_Templeogue_F_20_(2).wav',\n",
       " '/Users/peternolan/Documents/voxpop/notebooks/DUB/DUB_Cabinteely_F_20.wav',\n",
       " '/Users/peternolan/Documents/voxpop/notebooks/DUB/DUB_Malahide_F_20_(2).wav',\n",
       " '/Users/peternolan/Documents/voxpop/notebooks/DUB/DUB_Ranelagh_M_20_(2).wav',\n",
       " '/Users/peternolan/Documents/voxpop/notebooks/DUB/DUB_Kimmage_F_20.wav',\n",
       " '/Users/peternolan/Documents/voxpop/notebooks/DUB/DUB_Sandyford_M_20_(2).wav',\n",
       " '/Users/peternolan/Documents/voxpop/notebooks/DUB/DUB_Shankhill_F_20_(3).wav',\n",
       " '/Users/peternolan/Documents/voxpop/notebooks/DUB/DUB_Templeogue_M_20.wav',\n",
       " '/Users/peternolan/Documents/voxpop/notebooks/DUB/DUB_Clonskea_F_20_(2).wav',\n",
       " '/Users/peternolan/Documents/voxpop/notebooks/DUB/DUB_Lucan_F_20.wav',\n",
       " '/Users/peternolan/Documents/voxpop/notebooks/DUB/DUB_Cabra_F_20.wav',\n",
       " '/Users/peternolan/Documents/voxpop/notebooks/DUB/DUB_Dundrum_F_40.wav',\n",
       " '/Users/peternolan/Documents/voxpop/notebooks/DUB/DUB_Tallaght_M_20_(4).wav',\n",
       " '/Users/peternolan/Documents/voxpop/notebooks/DUB/DUB_Blanchard_M_20_(3).wav',\n",
       " '/Users/peternolan/Documents/voxpop/notebooks/DUB/DUB_Raheny_F_20.wav',\n",
       " '/Users/peternolan/Documents/voxpop/notebooks/DUB/DUB_Portmarnock_M_20.wav',\n",
       " '/Users/peternolan/Documents/voxpop/notebooks/DUB/DUB_Sandyford_F_20.wav',\n",
       " '/Users/peternolan/Documents/voxpop/notebooks/DUB/DUB_Terenure_F_20.wav',\n",
       " '/Users/peternolan/Documents/voxpop/notebooks/DUB/DUB_Inchicore_F_20.wav',\n",
       " '/Users/peternolan/Documents/voxpop/notebooks/DUB/DUB_Terenure_F_20_(4).wav',\n",
       " '/Users/peternolan/Documents/voxpop/notebooks/DUB/DUB_HaroldsCross_M_20.wav',\n",
       " '/Users/peternolan/Documents/voxpop/notebooks/DUB/DUB_Dunleary_F_20_(4).wav',\n",
       " '/Users/peternolan/Documents/voxpop/notebooks/DUB/DUB_Tallaght_M_20_(7).wav',\n",
       " '/Users/peternolan/Documents/voxpop/notebooks/DUB/DUB_Blanchard_F_20_(2).wav',\n",
       " '/Users/peternolan/Documents/voxpop/notebooks/DUB/DUB_Terenure_M_30.wav',\n",
       " '/Users/peternolan/Documents/voxpop/notebooks/DUB/DUB_Rathmines_F_50.wav',\n",
       " '/Users/peternolan/Documents/voxpop/notebooks/DUB/DUB_EastWall_M_20.wav',\n",
       " '/Users/peternolan/Documents/voxpop/notebooks/DUB/DUB_Clontarf_F_20.wav',\n",
       " '/Users/peternolan/Documents/voxpop/notebooks/DUB/DUB_Swords_F_15_(2).wav',\n",
       " '/Users/peternolan/Documents/voxpop/notebooks/DUB/DUB_Lucan_M_20_(3).wav',\n",
       " '/Users/peternolan/Documents/voxpop/notebooks/DUB/DUB_Bray_M_20.wav',\n",
       " '/Users/peternolan/Documents/voxpop/notebooks/DUB/DUB_Howth_F_20.wav',\n",
       " '/Users/peternolan/Documents/voxpop/notebooks/DUB/DUB_Tallaght_F_20.wav',\n",
       " '/Users/peternolan/Documents/voxpop/notebooks/DUB/DUB_Blanchard_M_20.wav',\n",
       " '/Users/peternolan/Documents/voxpop/notebooks/DUB/DUB_Churchtown_F_20.wav',\n",
       " '/Users/peternolan/Documents/voxpop/notebooks/DUB/DUB_Kilmainham_M_20_(2).wav',\n",
       " '/Users/peternolan/Documents/voxpop/notebooks/DUB/DUB_Knocklyon_M_20.wav',\n",
       " '/Users/peternolan/Documents/voxpop/notebooks/DUB/DUB_Sandyford_F_20_(3).wav',\n",
       " '/Users/peternolan/Documents/voxpop/notebooks/DUB/DUB_Shankhill_F_20.wav',\n",
       " '/Users/peternolan/Documents/voxpop/notebooks/DUB/DUB_Bray_M_20_(4).wav',\n",
       " '/Users/peternolan/Documents/voxpop/notebooks/DUB/DUB_Cabinteely_M_20.wav',\n",
       " '/Users/peternolan/Documents/voxpop/notebooks/DUB/DUB_Sallynoggin_F_20.wav',\n",
       " '/Users/peternolan/Documents/voxpop/notebooks/DUB/DUB_Dundrum_M_20_(2).wav',\n",
       " '/Users/peternolan/Documents/voxpop/notebooks/DUB/DUB_Sandyford_F_20_(2).wav',\n",
       " '/Users/peternolan/Documents/voxpop/notebooks/DUB/DUB_Templeogue_F_20.wav',\n",
       " '/Users/peternolan/Documents/voxpop/notebooks/DUB/DUB_Templeogue_M_20_(2).wav',\n",
       " '/Users/peternolan/Documents/voxpop/notebooks/DUB/DUB_Donnybrook_F_50.wav',\n",
       " '/Users/peternolan/Documents/voxpop/notebooks/DUB/DUB_Knocklyon_F_30_(2).wav',\n",
       " '/Users/peternolan/Documents/voxpop/notebooks/DUB/DUB_Rathgar_F_20_(4).wav',\n",
       " '/Users/peternolan/Documents/voxpop/notebooks/DUB/DUB_Foxrock_M_20_(2).wav',\n",
       " '/Users/peternolan/Documents/voxpop/notebooks/DUB/DUB_Cabra_M_20.wav',\n",
       " '/Users/peternolan/Documents/voxpop/notebooks/DUB/DUB_Rathmines_M_20_(2).wav',\n",
       " '/Users/peternolan/Documents/voxpop/notebooks/DUB/DUB_Lucan_M_20.wav',\n",
       " '/Users/peternolan/Documents/voxpop/notebooks/DUB/DUB_Walkinstown_M_20.wav',\n",
       " '/Users/peternolan/Documents/voxpop/notebooks/DUB/DUB_Lucan_M_20_(2).wav',\n",
       " '/Users/peternolan/Documents/voxpop/notebooks/DUB/DUB_Blanchard_F_20_(3).wav',\n",
       " '/Users/peternolan/Documents/voxpop/notebooks/DUB/DUB_Terenure_M_20.wav',\n",
       " '/Users/peternolan/Documents/voxpop/notebooks/DUB/DUB_Tallaght_M_20_(6).wav',\n",
       " '/Users/peternolan/Documents/voxpop/notebooks/DUB/DUB_Whitehall_F_20.wav',\n",
       " '/Users/peternolan/Documents/voxpop/notebooks/DUB/DUB_Sandyford_M_20.wav',\n",
       " '/Users/peternolan/Documents/voxpop/notebooks/DUB/DUB_Portmarnock_F_20.wav',\n",
       " '/Users/peternolan/Documents/voxpop/notebooks/DUB/DUB_Crumlin_F_20.wav',\n",
       " '/Users/peternolan/Documents/voxpop/notebooks/DUB/DUB_MountMerrion_F_20.wav',\n",
       " '/Users/peternolan/Documents/voxpop/notebooks/DUB/DUB_Bray_M_20_(3).wav',\n",
       " '/Users/peternolan/Documents/voxpop/notebooks/DUB/DUB_Stillorgan_M_20.wav',\n",
       " '/Users/peternolan/Documents/voxpop/notebooks/DUB/DUB_Clontarf_F_20_(3).wav',\n",
       " '/Users/peternolan/Documents/voxpop/notebooks/DUB/DUB_Dalkey_M_20.wav',\n",
       " '/Users/peternolan/Documents/voxpop/notebooks/DUB/DUB_Dunleary_F_20_(2).wav',\n",
       " '/Users/peternolan/Documents/voxpop/notebooks/DUB/DUB_Blanchard_F_20_(4).wav',\n",
       " '/Users/peternolan/Documents/voxpop/notebooks/DUB/DUB_Castleknock_M_20_(2).wav',\n",
       " '/Users/peternolan/Documents/voxpop/notebooks/DUB/DUB_Ballinteer_F_20_(2).wav',\n",
       " '/Users/peternolan/Documents/voxpop/notebooks/DUB/DUB_Rathfarnham_F_20_(2).wav',\n",
       " '/Users/peternolan/Documents/voxpop/notebooks/DUB/DUB_Churchtown_F_20_(3).wav',\n",
       " '/Users/peternolan/Documents/voxpop/notebooks/DUB/DUB_Malahide_M_20.wav',\n",
       " '/Users/peternolan/Documents/voxpop/notebooks/DUB/DUB_Artane_M_20_(2).wav',\n",
       " '/Users/peternolan/Documents/voxpop/notebooks/DUB/DUB_Monkstown_F_20.wav',\n",
       " '/Users/peternolan/Documents/voxpop/notebooks/DUB/DUB_Ballinteer_F_20.wav',\n",
       " '/Users/peternolan/Documents/voxpop/notebooks/DUB/DUB_Landsdowne_F_20.wav',\n",
       " '/Users/peternolan/Documents/voxpop/notebooks/DUB/DUB_Rathgar_F_20_(3).wav',\n",
       " '/Users/peternolan/Documents/voxpop/notebooks/DUB/DUB_Cabinteely_F_20_(2).wav',\n",
       " '/Users/peternolan/Documents/voxpop/notebooks/DUB/DUB_Donnybrook_F_20.wav',\n",
       " '/Users/peternolan/Documents/voxpop/notebooks/DUB/DUB_Terenure_M_20_(2).wav',\n",
       " '/Users/peternolan/Documents/voxpop/notebooks/DUB/DUB_Cabinteely_F_20_(3).wav',\n",
       " '/Users/peternolan/Documents/voxpop/notebooks/DUB/DUB_Rathgar_F_20_(2).wav',\n",
       " '/Users/peternolan/Documents/voxpop/notebooks/DUB/DUB_Dundrum_M_20.wav',\n",
       " '/Users/peternolan/Documents/voxpop/notebooks/DUB/DUB_Monkstown_F_30.wav',\n",
       " '/Users/peternolan/Documents/voxpop/notebooks/DUB/DUB_Ringsend_M_45.wav',\n",
       " '/Users/peternolan/Documents/voxpop/notebooks/DUB/DUB_Sutton_M_20.wav',\n",
       " '/Users/peternolan/Documents/voxpop/notebooks/DUB/DUB_Artane_M_20_(3).wav',\n",
       " '/Users/peternolan/Documents/voxpop/notebooks/DUB/DUB_Swords_F_15.wav',\n",
       " '/Users/peternolan/Documents/voxpop/notebooks/DUB/DUB_Castleknock_M_20_(3).wav',\n",
       " '/Users/peternolan/Documents/voxpop/notebooks/DUB/DUB_Ballinteer_F_20_(3).wav',\n",
       " '/Users/peternolan/Documents/voxpop/notebooks/DUB/DUB_Churchtown_F_20_(2).wav',\n",
       " '/Users/peternolan/Documents/voxpop/notebooks/DUB/DUB_Rathfarnham_F_20_(3).wav',\n",
       " '/Users/peternolan/Documents/voxpop/notebooks/DUB/DUB_Blanchard_F_20_(5).wav',\n",
       " '/Users/peternolan/Documents/voxpop/notebooks/DUB/DUB_Foxrock_M_20.wav',\n",
       " '/Users/peternolan/Documents/voxpop/notebooks/DUB/DUB_Tallaght_F_20_(2).wav',\n",
       " '/Users/peternolan/Documents/voxpop/notebooks/DUB/DUB_Dunleary_F_20_(3).wav',\n",
       " '/Users/peternolan/Documents/voxpop/notebooks/DUB/DUB_Kilbarrack_M_25.wav',\n",
       " '/Users/peternolan/Documents/voxpop/notebooks/DUB/DUB_Clontarf_F_20_(2).wav',\n",
       " '/Users/peternolan/Documents/voxpop/notebooks/DUB/DUB_DeansGrange_M_20.wav',\n",
       " '/Users/peternolan/Documents/voxpop/notebooks/DUB/DUB_Bray_M_20_(2).wav',\n",
       " '/Users/peternolan/Documents/voxpop/notebooks/DUB/DUB_Killiney_M_20.wav',\n",
       " '/Users/peternolan/Documents/voxpop/notebooks/DUB/DUB_Clonskea_F_20.wav',\n",
       " '/Users/peternolan/Documents/voxpop/notebooks/DUB/DUB_Beaumont_M_35.wav',\n",
       " '/Users/peternolan/Documents/voxpop/notebooks/DUB/DUB_Finglas_M_25.wav',\n",
       " '/Users/peternolan/Documents/voxpop/notebooks/DUB/DUB_Dunleary_F_20.wav',\n",
       " '/Users/peternolan/Documents/voxpop/notebooks/DUB/DUB_Rathfarnham_F_20.wav',\n",
       " '/Users/peternolan/Documents/voxpop/notebooks/DUB/DUB_Ranelagh_F_20.wav',\n",
       " '/Users/peternolan/Documents/voxpop/notebooks/DUB/DUB_Castleknock_F_20.wav',\n",
       " '/Users/peternolan/Documents/voxpop/notebooks/DUB/DUB_Goatstown_F_20.wav',\n",
       " '/Users/peternolan/Documents/voxpop/notebooks/DUB/DUB_Rush_M_15.wav']"
      ]
     },
     "execution_count": 40,
     "metadata": {},
     "output_type": "execute_result"
    }
   ],
   "source": [
    "filenames"
   ]
  },
  {
   "cell_type": "code",
   "execution_count": 41,
   "id": "af1bfcc5",
   "metadata": {},
   "outputs": [],
   "source": [
    "for i in filenames: \n",
    "#    names.append(re.search(r'/([^/]+)\\.wav$',i).group(1)) MacOs version\n",
    "    names.append(re.search(r'([^\\\\]+).wav$',i).group(1)) #Windows version\n"
   ]
  },
  {
   "cell_type": "code",
   "execution_count": 42,
   "id": "3b8c27c6",
   "metadata": {},
   "outputs": [
    {
     "data": {
      "text/plain": [
       "167"
      ]
     },
     "execution_count": 42,
     "metadata": {},
     "output_type": "execute_result"
    }
   ],
   "source": [
    "len(names)"
   ]
  },
  {
   "cell_type": "code",
   "execution_count": 43,
   "id": "57be6f53",
   "metadata": {},
   "outputs": [
    {
     "data": {
      "text/plain": [
       "['/Users/peternolan/Documents/voxpop/notebooks/DUB/DUB_Tallaght_M_40',\n",
       " '/Users/peternolan/Documents/voxpop/notebooks/DUB/DUB_Finglas_F_35',\n",
       " '/Users/peternolan/Documents/voxpop/notebooks/DUB/DUB_MountMerrion_M_20',\n",
       " '/Users/peternolan/Documents/voxpop/notebooks/DUB/DUB_Dunleary_M_30',\n",
       " '/Users/peternolan/Documents/voxpop/notebooks/DUB/DUB_Terenure_F_20_(3)',\n",
       " '/Users/peternolan/Documents/voxpop/notebooks/DUB/DUB_Malahide_F_20',\n",
       " '/Users/peternolan/Documents/voxpop/notebooks/DUB/DUB_Dalkey_F_20',\n",
       " '/Users/peternolan/Documents/voxpop/notebooks/DUB/DUB_Rathfarnham_M_20_(2)',\n",
       " '/Users/peternolan/Documents/voxpop/notebooks/DUB/DUB_Blanchard_M_20_(4)',\n",
       " '/Users/peternolan/Documents/voxpop/notebooks/DUB/DUB_Tallaght_M_20_(3)',\n",
       " '/Users/peternolan/Documents/voxpop/notebooks/DUB/DUB_Dunleary_M_20_(2)',\n",
       " '/Users/peternolan/Documents/voxpop/notebooks/DUB/DUB_Clontarf_M_20_(3)',\n",
       " '/Users/peternolan/Documents/voxpop/notebooks/DUB/DUB_Monkstown_M_20',\n",
       " '/Users/peternolan/Documents/voxpop/notebooks/DUB/DUB_Sutton_F_20',\n",
       " '/Users/peternolan/Documents/voxpop/notebooks/DUB/DUB_Blackrock_F_20',\n",
       " '/Users/peternolan/Documents/voxpop/notebooks/DUB/DUB_Dundrum_F_20',\n",
       " '/Users/peternolan/Documents/voxpop/notebooks/DUB/DUB_Clontarf_M_20_(2)',\n",
       " '/Users/peternolan/Documents/voxpop/notebooks/DUB/DUB_Tallaght_M_20_(2)',\n",
       " '/Users/peternolan/Documents/voxpop/notebooks/DUB/DUB_Swords_F_35',\n",
       " '/Users/peternolan/Documents/voxpop/notebooks/DUB/DUB_DeansGrange_F_20',\n",
       " '/Users/peternolan/Documents/voxpop/notebooks/DUB/DUB_Rathmines_M_20',\n",
       " '/Users/peternolan/Documents/voxpop/notebooks/DUB/DUB_Swords_M_15',\n",
       " '/Users/peternolan/Documents/voxpop/notebooks/DUB/DUB_Killiney_M_20_(2)',\n",
       " '/Users/peternolan/Documents/voxpop/notebooks/DUB/DUB_Ballinteer_M_25',\n",
       " '/Users/peternolan/Documents/voxpop/notebooks/DUB/DUB_Terenure_F_20_(2)',\n",
       " '/Users/peternolan/Documents/voxpop/notebooks/DUB/DUB_Dunleary_M_20',\n",
       " '/Users/peternolan/Documents/voxpop/notebooks/DUB/DUB_Rathgar_F_20',\n",
       " '/Users/peternolan/Documents/voxpop/notebooks/DUB/DUB_Rathfarnham_M_20',\n",
       " '/Users/peternolan/Documents/voxpop/notebooks/DUB/DUB_Ranelagh_M_20',\n",
       " '/Users/peternolan/Documents/voxpop/notebooks/DUB/DUB_Templeogue_F_20_(4)',\n",
       " '/Users/peternolan/Documents/voxpop/notebooks/DUB/DUB_Clonskea_M_20',\n",
       " '/Users/peternolan/Documents/voxpop/notebooks/DUB/DUB_Goatstown_M_20',\n",
       " '/Users/peternolan/Documents/voxpop/notebooks/DUB/DUB_Clonskea_F_20_(4)',\n",
       " '/Users/peternolan/Documents/voxpop/notebooks/DUB/DUB_Bray_F_20_(2)',\n",
       " '/Users/peternolan/Documents/voxpop/notebooks/DUB/DUB_Rush_M_20',\n",
       " '/Users/peternolan/Documents/voxpop/notebooks/DUB/DUB_Castleknock_M_20',\n",
       " '/Users/peternolan/Documents/voxpop/notebooks/DUB/DUB_Bray_F_35',\n",
       " '/Users/peternolan/Documents/voxpop/notebooks/DUB/DUB_Swords_M_15_(2)',\n",
       " '/Users/peternolan/Documents/voxpop/notebooks/DUB/DUB_Sandymount_M_20',\n",
       " '/Users/peternolan/Documents/voxpop/notebooks/DUB/DUB_Blanchard_M_20_(2)',\n",
       " '/Users/peternolan/Documents/voxpop/notebooks/DUB/DUB_Tallaght_M_20_(5)',\n",
       " '/Users/peternolan/Documents/voxpop/notebooks/DUB/DUB_Bray_F_20',\n",
       " '/Users/peternolan/Documents/voxpop/notebooks/DUB/DUB_Clontarf_M_20',\n",
       " '/Users/peternolan/Documents/voxpop/notebooks/DUB/DUB_Walkinstown_F_30',\n",
       " '/Users/peternolan/Documents/voxpop/notebooks/DUB/DUB_Clonskea_F_20_(3)',\n",
       " '/Users/peternolan/Documents/voxpop/notebooks/DUB/DUB_Blanchard_F_20',\n",
       " '/Users/peternolan/Documents/voxpop/notebooks/DUB/DUB_Shankhill_F_20_(2)',\n",
       " '/Users/peternolan/Documents/voxpop/notebooks/DUB/DUB_Artane_M_20',\n",
       " '/Users/peternolan/Documents/voxpop/notebooks/DUB/DUB_Clondalkin_M_20',\n",
       " '/Users/peternolan/Documents/voxpop/notebooks/DUB/DUB_Tallaght_M_20',\n",
       " '/Users/peternolan/Documents/voxpop/notebooks/DUB/DUB_Ranelagh_M_20_(3)',\n",
       " '/Users/peternolan/Documents/voxpop/notebooks/DUB/DUB_Shankhill_M_20',\n",
       " '/Users/peternolan/Documents/voxpop/notebooks/DUB/DUB_Malahide_F_20_(3)',\n",
       " '/Users/peternolan/Documents/voxpop/notebooks/DUB/DUB_Templeogue_F_20_(3)',\n",
       " '/Users/peternolan/Documents/voxpop/notebooks/DUB/DUB_Knocklyon_F_20',\n",
       " '/Users/peternolan/Documents/voxpop/notebooks/DUB/DUB_Templeogue_F_20_(2)',\n",
       " '/Users/peternolan/Documents/voxpop/notebooks/DUB/DUB_Cabinteely_F_20',\n",
       " '/Users/peternolan/Documents/voxpop/notebooks/DUB/DUB_Malahide_F_20_(2)',\n",
       " '/Users/peternolan/Documents/voxpop/notebooks/DUB/DUB_Ranelagh_M_20_(2)',\n",
       " '/Users/peternolan/Documents/voxpop/notebooks/DUB/DUB_Kimmage_F_20',\n",
       " '/Users/peternolan/Documents/voxpop/notebooks/DUB/DUB_Sandyford_M_20_(2)',\n",
       " '/Users/peternolan/Documents/voxpop/notebooks/DUB/DUB_Shankhill_F_20_(3)',\n",
       " '/Users/peternolan/Documents/voxpop/notebooks/DUB/DUB_Templeogue_M_20',\n",
       " '/Users/peternolan/Documents/voxpop/notebooks/DUB/DUB_Clonskea_F_20_(2)',\n",
       " '/Users/peternolan/Documents/voxpop/notebooks/DUB/DUB_Lucan_F_20',\n",
       " '/Users/peternolan/Documents/voxpop/notebooks/DUB/DUB_Cabra_F_20',\n",
       " '/Users/peternolan/Documents/voxpop/notebooks/DUB/DUB_Dundrum_F_40',\n",
       " '/Users/peternolan/Documents/voxpop/notebooks/DUB/DUB_Tallaght_M_20_(4)',\n",
       " '/Users/peternolan/Documents/voxpop/notebooks/DUB/DUB_Blanchard_M_20_(3)',\n",
       " '/Users/peternolan/Documents/voxpop/notebooks/DUB/DUB_Raheny_F_20',\n",
       " '/Users/peternolan/Documents/voxpop/notebooks/DUB/DUB_Portmarnock_M_20',\n",
       " '/Users/peternolan/Documents/voxpop/notebooks/DUB/DUB_Sandyford_F_20',\n",
       " '/Users/peternolan/Documents/voxpop/notebooks/DUB/DUB_Terenure_F_20',\n",
       " '/Users/peternolan/Documents/voxpop/notebooks/DUB/DUB_Inchicore_F_20',\n",
       " '/Users/peternolan/Documents/voxpop/notebooks/DUB/DUB_Terenure_F_20_(4)',\n",
       " '/Users/peternolan/Documents/voxpop/notebooks/DUB/DUB_HaroldsCross_M_20',\n",
       " '/Users/peternolan/Documents/voxpop/notebooks/DUB/DUB_Dunleary_F_20_(4)',\n",
       " '/Users/peternolan/Documents/voxpop/notebooks/DUB/DUB_Tallaght_M_20_(7)',\n",
       " '/Users/peternolan/Documents/voxpop/notebooks/DUB/DUB_Blanchard_F_20_(2)',\n",
       " '/Users/peternolan/Documents/voxpop/notebooks/DUB/DUB_Terenure_M_30',\n",
       " '/Users/peternolan/Documents/voxpop/notebooks/DUB/DUB_Rathmines_F_50',\n",
       " '/Users/peternolan/Documents/voxpop/notebooks/DUB/DUB_EastWall_M_20',\n",
       " '/Users/peternolan/Documents/voxpop/notebooks/DUB/DUB_Clontarf_F_20',\n",
       " '/Users/peternolan/Documents/voxpop/notebooks/DUB/DUB_Swords_F_15_(2)',\n",
       " '/Users/peternolan/Documents/voxpop/notebooks/DUB/DUB_Lucan_M_20_(3)',\n",
       " '/Users/peternolan/Documents/voxpop/notebooks/DUB/DUB_Bray_M_20',\n",
       " '/Users/peternolan/Documents/voxpop/notebooks/DUB/DUB_Howth_F_20',\n",
       " '/Users/peternolan/Documents/voxpop/notebooks/DUB/DUB_Tallaght_F_20',\n",
       " '/Users/peternolan/Documents/voxpop/notebooks/DUB/DUB_Blanchard_M_20',\n",
       " '/Users/peternolan/Documents/voxpop/notebooks/DUB/DUB_Churchtown_F_20',\n",
       " '/Users/peternolan/Documents/voxpop/notebooks/DUB/DUB_Kilmainham_M_20_(2)',\n",
       " '/Users/peternolan/Documents/voxpop/notebooks/DUB/DUB_Knocklyon_M_20',\n",
       " '/Users/peternolan/Documents/voxpop/notebooks/DUB/DUB_Sandyford_F_20_(3)',\n",
       " '/Users/peternolan/Documents/voxpop/notebooks/DUB/DUB_Shankhill_F_20',\n",
       " '/Users/peternolan/Documents/voxpop/notebooks/DUB/DUB_Bray_M_20_(4)',\n",
       " '/Users/peternolan/Documents/voxpop/notebooks/DUB/DUB_Cabinteely_M_20',\n",
       " '/Users/peternolan/Documents/voxpop/notebooks/DUB/DUB_Sallynoggin_F_20',\n",
       " '/Users/peternolan/Documents/voxpop/notebooks/DUB/DUB_Dundrum_M_20_(2)',\n",
       " '/Users/peternolan/Documents/voxpop/notebooks/DUB/DUB_Sandyford_F_20_(2)',\n",
       " '/Users/peternolan/Documents/voxpop/notebooks/DUB/DUB_Templeogue_F_20',\n",
       " '/Users/peternolan/Documents/voxpop/notebooks/DUB/DUB_Templeogue_M_20_(2)',\n",
       " '/Users/peternolan/Documents/voxpop/notebooks/DUB/DUB_Donnybrook_F_50',\n",
       " '/Users/peternolan/Documents/voxpop/notebooks/DUB/DUB_Knocklyon_F_30_(2)',\n",
       " '/Users/peternolan/Documents/voxpop/notebooks/DUB/DUB_Rathgar_F_20_(4)',\n",
       " '/Users/peternolan/Documents/voxpop/notebooks/DUB/DUB_Foxrock_M_20_(2)',\n",
       " '/Users/peternolan/Documents/voxpop/notebooks/DUB/DUB_Cabra_M_20',\n",
       " '/Users/peternolan/Documents/voxpop/notebooks/DUB/DUB_Rathmines_M_20_(2)',\n",
       " '/Users/peternolan/Documents/voxpop/notebooks/DUB/DUB_Lucan_M_20',\n",
       " '/Users/peternolan/Documents/voxpop/notebooks/DUB/DUB_Walkinstown_M_20',\n",
       " '/Users/peternolan/Documents/voxpop/notebooks/DUB/DUB_Lucan_M_20_(2)',\n",
       " '/Users/peternolan/Documents/voxpop/notebooks/DUB/DUB_Blanchard_F_20_(3)',\n",
       " '/Users/peternolan/Documents/voxpop/notebooks/DUB/DUB_Terenure_M_20',\n",
       " '/Users/peternolan/Documents/voxpop/notebooks/DUB/DUB_Tallaght_M_20_(6)',\n",
       " '/Users/peternolan/Documents/voxpop/notebooks/DUB/DUB_Whitehall_F_20',\n",
       " '/Users/peternolan/Documents/voxpop/notebooks/DUB/DUB_Sandyford_M_20',\n",
       " '/Users/peternolan/Documents/voxpop/notebooks/DUB/DUB_Portmarnock_F_20',\n",
       " '/Users/peternolan/Documents/voxpop/notebooks/DUB/DUB_Crumlin_F_20',\n",
       " '/Users/peternolan/Documents/voxpop/notebooks/DUB/DUB_MountMerrion_F_20',\n",
       " '/Users/peternolan/Documents/voxpop/notebooks/DUB/DUB_Bray_M_20_(3)',\n",
       " '/Users/peternolan/Documents/voxpop/notebooks/DUB/DUB_Stillorgan_M_20',\n",
       " '/Users/peternolan/Documents/voxpop/notebooks/DUB/DUB_Clontarf_F_20_(3)',\n",
       " '/Users/peternolan/Documents/voxpop/notebooks/DUB/DUB_Dalkey_M_20',\n",
       " '/Users/peternolan/Documents/voxpop/notebooks/DUB/DUB_Dunleary_F_20_(2)',\n",
       " '/Users/peternolan/Documents/voxpop/notebooks/DUB/DUB_Blanchard_F_20_(4)',\n",
       " '/Users/peternolan/Documents/voxpop/notebooks/DUB/DUB_Castleknock_M_20_(2)',\n",
       " '/Users/peternolan/Documents/voxpop/notebooks/DUB/DUB_Ballinteer_F_20_(2)',\n",
       " '/Users/peternolan/Documents/voxpop/notebooks/DUB/DUB_Rathfarnham_F_20_(2)',\n",
       " '/Users/peternolan/Documents/voxpop/notebooks/DUB/DUB_Churchtown_F_20_(3)',\n",
       " '/Users/peternolan/Documents/voxpop/notebooks/DUB/DUB_Malahide_M_20',\n",
       " '/Users/peternolan/Documents/voxpop/notebooks/DUB/DUB_Artane_M_20_(2)',\n",
       " '/Users/peternolan/Documents/voxpop/notebooks/DUB/DUB_Monkstown_F_20',\n",
       " '/Users/peternolan/Documents/voxpop/notebooks/DUB/DUB_Ballinteer_F_20',\n",
       " '/Users/peternolan/Documents/voxpop/notebooks/DUB/DUB_Landsdowne_F_20',\n",
       " '/Users/peternolan/Documents/voxpop/notebooks/DUB/DUB_Rathgar_F_20_(3)',\n",
       " '/Users/peternolan/Documents/voxpop/notebooks/DUB/DUB_Cabinteely_F_20_(2)',\n",
       " '/Users/peternolan/Documents/voxpop/notebooks/DUB/DUB_Donnybrook_F_20',\n",
       " '/Users/peternolan/Documents/voxpop/notebooks/DUB/DUB_Terenure_M_20_(2)',\n",
       " '/Users/peternolan/Documents/voxpop/notebooks/DUB/DUB_Cabinteely_F_20_(3)',\n",
       " '/Users/peternolan/Documents/voxpop/notebooks/DUB/DUB_Rathgar_F_20_(2)',\n",
       " '/Users/peternolan/Documents/voxpop/notebooks/DUB/DUB_Dundrum_M_20',\n",
       " '/Users/peternolan/Documents/voxpop/notebooks/DUB/DUB_Monkstown_F_30',\n",
       " '/Users/peternolan/Documents/voxpop/notebooks/DUB/DUB_Ringsend_M_45',\n",
       " '/Users/peternolan/Documents/voxpop/notebooks/DUB/DUB_Sutton_M_20',\n",
       " '/Users/peternolan/Documents/voxpop/notebooks/DUB/DUB_Artane_M_20_(3)',\n",
       " '/Users/peternolan/Documents/voxpop/notebooks/DUB/DUB_Swords_F_15',\n",
       " '/Users/peternolan/Documents/voxpop/notebooks/DUB/DUB_Castleknock_M_20_(3)',\n",
       " '/Users/peternolan/Documents/voxpop/notebooks/DUB/DUB_Ballinteer_F_20_(3)',\n",
       " '/Users/peternolan/Documents/voxpop/notebooks/DUB/DUB_Churchtown_F_20_(2)',\n",
       " '/Users/peternolan/Documents/voxpop/notebooks/DUB/DUB_Rathfarnham_F_20_(3)',\n",
       " '/Users/peternolan/Documents/voxpop/notebooks/DUB/DUB_Blanchard_F_20_(5)',\n",
       " '/Users/peternolan/Documents/voxpop/notebooks/DUB/DUB_Foxrock_M_20',\n",
       " '/Users/peternolan/Documents/voxpop/notebooks/DUB/DUB_Tallaght_F_20_(2)',\n",
       " '/Users/peternolan/Documents/voxpop/notebooks/DUB/DUB_Dunleary_F_20_(3)',\n",
       " '/Users/peternolan/Documents/voxpop/notebooks/DUB/DUB_Kilbarrack_M_25',\n",
       " '/Users/peternolan/Documents/voxpop/notebooks/DUB/DUB_Clontarf_F_20_(2)',\n",
       " '/Users/peternolan/Documents/voxpop/notebooks/DUB/DUB_DeansGrange_M_20',\n",
       " '/Users/peternolan/Documents/voxpop/notebooks/DUB/DUB_Bray_M_20_(2)',\n",
       " '/Users/peternolan/Documents/voxpop/notebooks/DUB/DUB_Killiney_M_20',\n",
       " '/Users/peternolan/Documents/voxpop/notebooks/DUB/DUB_Clonskea_F_20',\n",
       " '/Users/peternolan/Documents/voxpop/notebooks/DUB/DUB_Beaumont_M_35',\n",
       " '/Users/peternolan/Documents/voxpop/notebooks/DUB/DUB_Finglas_M_25',\n",
       " '/Users/peternolan/Documents/voxpop/notebooks/DUB/DUB_Dunleary_F_20',\n",
       " '/Users/peternolan/Documents/voxpop/notebooks/DUB/DUB_Rathfarnham_F_20',\n",
       " '/Users/peternolan/Documents/voxpop/notebooks/DUB/DUB_Ranelagh_F_20',\n",
       " '/Users/peternolan/Documents/voxpop/notebooks/DUB/DUB_Castleknock_F_20',\n",
       " '/Users/peternolan/Documents/voxpop/notebooks/DUB/DUB_Goatstown_F_20',\n",
       " '/Users/peternolan/Documents/voxpop/notebooks/DUB/DUB_Rush_M_15']"
      ]
     },
     "execution_count": 43,
     "metadata": {},
     "output_type": "execute_result"
    }
   ],
   "source": [
    "names"
   ]
  },
  {
   "cell_type": "code",
   "execution_count": 45,
   "id": "aa33ffdb",
   "metadata": {},
   "outputs": [],
   "source": [
    "counties=[]\n",
    "towns=[]\n",
    "genders=[]\n",
    "urbanrurals=[]\n",
    "sizes=[]\n",
    "ages=[]  "
   ]
  },
  {
   "cell_type": "code",
   "execution_count": 46,
   "id": "c3d6035a",
   "metadata": {},
   "outputs": [
    {
     "name": "stdout",
     "output_type": "stream",
     "text": [
      "0 /Users/peternolan/Documents/voxpop/notebooks/DUB/DUB_Tallaght_M_40\n",
      "1 /Users/peternolan/Documents/voxpop/notebooks/DUB/DUB_Finglas_F_35\n",
      "2 /Users/peternolan/Documents/voxpop/notebooks/DUB/DUB_MountMerrion_M_20\n",
      "3 /Users/peternolan/Documents/voxpop/notebooks/DUB/DUB_Dunleary_M_30\n",
      "4 /Users/peternolan/Documents/voxpop/notebooks/DUB/DUB_Terenure_F_20_(3)\n",
      "5 /Users/peternolan/Documents/voxpop/notebooks/DUB/DUB_Malahide_F_20\n",
      "6 /Users/peternolan/Documents/voxpop/notebooks/DUB/DUB_Dalkey_F_20\n",
      "7 /Users/peternolan/Documents/voxpop/notebooks/DUB/DUB_Rathfarnham_M_20_(2)\n",
      "8 /Users/peternolan/Documents/voxpop/notebooks/DUB/DUB_Blanchard_M_20_(4)\n",
      "9 /Users/peternolan/Documents/voxpop/notebooks/DUB/DUB_Tallaght_M_20_(3)\n",
      "10 /Users/peternolan/Documents/voxpop/notebooks/DUB/DUB_Dunleary_M_20_(2)\n",
      "11 /Users/peternolan/Documents/voxpop/notebooks/DUB/DUB_Clontarf_M_20_(3)\n",
      "12 /Users/peternolan/Documents/voxpop/notebooks/DUB/DUB_Monkstown_M_20\n",
      "13 /Users/peternolan/Documents/voxpop/notebooks/DUB/DUB_Sutton_F_20\n",
      "14 /Users/peternolan/Documents/voxpop/notebooks/DUB/DUB_Blackrock_F_20\n",
      "15 /Users/peternolan/Documents/voxpop/notebooks/DUB/DUB_Dundrum_F_20\n",
      "16 /Users/peternolan/Documents/voxpop/notebooks/DUB/DUB_Clontarf_M_20_(2)\n",
      "17 /Users/peternolan/Documents/voxpop/notebooks/DUB/DUB_Tallaght_M_20_(2)\n",
      "18 /Users/peternolan/Documents/voxpop/notebooks/DUB/DUB_Swords_F_35\n",
      "19 /Users/peternolan/Documents/voxpop/notebooks/DUB/DUB_DeansGrange_F_20\n",
      "20 /Users/peternolan/Documents/voxpop/notebooks/DUB/DUB_Rathmines_M_20\n",
      "21 /Users/peternolan/Documents/voxpop/notebooks/DUB/DUB_Swords_M_15\n",
      "22 /Users/peternolan/Documents/voxpop/notebooks/DUB/DUB_Killiney_M_20_(2)\n",
      "23 /Users/peternolan/Documents/voxpop/notebooks/DUB/DUB_Ballinteer_M_25\n",
      "24 /Users/peternolan/Documents/voxpop/notebooks/DUB/DUB_Terenure_F_20_(2)\n",
      "25 /Users/peternolan/Documents/voxpop/notebooks/DUB/DUB_Dunleary_M_20\n",
      "26 /Users/peternolan/Documents/voxpop/notebooks/DUB/DUB_Rathgar_F_20\n",
      "27 /Users/peternolan/Documents/voxpop/notebooks/DUB/DUB_Rathfarnham_M_20\n",
      "28 /Users/peternolan/Documents/voxpop/notebooks/DUB/DUB_Ranelagh_M_20\n",
      "29 /Users/peternolan/Documents/voxpop/notebooks/DUB/DUB_Templeogue_F_20_(4)\n",
      "30 /Users/peternolan/Documents/voxpop/notebooks/DUB/DUB_Clonskea_M_20\n",
      "31 /Users/peternolan/Documents/voxpop/notebooks/DUB/DUB_Goatstown_M_20\n",
      "32 /Users/peternolan/Documents/voxpop/notebooks/DUB/DUB_Clonskea_F_20_(4)\n",
      "33 /Users/peternolan/Documents/voxpop/notebooks/DUB/DUB_Bray_F_20_(2)\n",
      "34 /Users/peternolan/Documents/voxpop/notebooks/DUB/DUB_Rush_M_20\n",
      "35 /Users/peternolan/Documents/voxpop/notebooks/DUB/DUB_Castleknock_M_20\n",
      "36 /Users/peternolan/Documents/voxpop/notebooks/DUB/DUB_Bray_F_35\n",
      "37 /Users/peternolan/Documents/voxpop/notebooks/DUB/DUB_Swords_M_15_(2)\n",
      "38 /Users/peternolan/Documents/voxpop/notebooks/DUB/DUB_Sandymount_M_20\n",
      "39 /Users/peternolan/Documents/voxpop/notebooks/DUB/DUB_Blanchard_M_20_(2)\n",
      "40 /Users/peternolan/Documents/voxpop/notebooks/DUB/DUB_Tallaght_M_20_(5)\n",
      "41 /Users/peternolan/Documents/voxpop/notebooks/DUB/DUB_Bray_F_20\n",
      "42 /Users/peternolan/Documents/voxpop/notebooks/DUB/DUB_Clontarf_M_20\n",
      "43 /Users/peternolan/Documents/voxpop/notebooks/DUB/DUB_Walkinstown_F_30\n",
      "44 /Users/peternolan/Documents/voxpop/notebooks/DUB/DUB_Clonskea_F_20_(3)\n",
      "45 /Users/peternolan/Documents/voxpop/notebooks/DUB/DUB_Blanchard_F_20\n",
      "46 /Users/peternolan/Documents/voxpop/notebooks/DUB/DUB_Shankhill_F_20_(2)\n",
      "47 /Users/peternolan/Documents/voxpop/notebooks/DUB/DUB_Artane_M_20\n",
      "48 /Users/peternolan/Documents/voxpop/notebooks/DUB/DUB_Clondalkin_M_20\n",
      "49 /Users/peternolan/Documents/voxpop/notebooks/DUB/DUB_Tallaght_M_20\n",
      "50 /Users/peternolan/Documents/voxpop/notebooks/DUB/DUB_Ranelagh_M_20_(3)\n",
      "51 /Users/peternolan/Documents/voxpop/notebooks/DUB/DUB_Shankhill_M_20\n",
      "52 /Users/peternolan/Documents/voxpop/notebooks/DUB/DUB_Malahide_F_20_(3)\n",
      "53 /Users/peternolan/Documents/voxpop/notebooks/DUB/DUB_Templeogue_F_20_(3)\n",
      "54 /Users/peternolan/Documents/voxpop/notebooks/DUB/DUB_Knocklyon_F_20\n",
      "55 /Users/peternolan/Documents/voxpop/notebooks/DUB/DUB_Templeogue_F_20_(2)\n",
      "56 /Users/peternolan/Documents/voxpop/notebooks/DUB/DUB_Cabinteely_F_20\n",
      "57 /Users/peternolan/Documents/voxpop/notebooks/DUB/DUB_Malahide_F_20_(2)\n",
      "58 /Users/peternolan/Documents/voxpop/notebooks/DUB/DUB_Ranelagh_M_20_(2)\n",
      "59 /Users/peternolan/Documents/voxpop/notebooks/DUB/DUB_Kimmage_F_20\n",
      "60 /Users/peternolan/Documents/voxpop/notebooks/DUB/DUB_Sandyford_M_20_(2)\n",
      "61 /Users/peternolan/Documents/voxpop/notebooks/DUB/DUB_Shankhill_F_20_(3)\n",
      "62 /Users/peternolan/Documents/voxpop/notebooks/DUB/DUB_Templeogue_M_20\n",
      "63 /Users/peternolan/Documents/voxpop/notebooks/DUB/DUB_Clonskea_F_20_(2)\n",
      "64 /Users/peternolan/Documents/voxpop/notebooks/DUB/DUB_Lucan_F_20\n",
      "65 /Users/peternolan/Documents/voxpop/notebooks/DUB/DUB_Cabra_F_20\n",
      "66 /Users/peternolan/Documents/voxpop/notebooks/DUB/DUB_Dundrum_F_40\n",
      "67 /Users/peternolan/Documents/voxpop/notebooks/DUB/DUB_Tallaght_M_20_(4)\n",
      "68 /Users/peternolan/Documents/voxpop/notebooks/DUB/DUB_Blanchard_M_20_(3)\n",
      "69 /Users/peternolan/Documents/voxpop/notebooks/DUB/DUB_Raheny_F_20\n",
      "70 /Users/peternolan/Documents/voxpop/notebooks/DUB/DUB_Portmarnock_M_20\n",
      "71 /Users/peternolan/Documents/voxpop/notebooks/DUB/DUB_Sandyford_F_20\n",
      "72 /Users/peternolan/Documents/voxpop/notebooks/DUB/DUB_Terenure_F_20\n",
      "73 /Users/peternolan/Documents/voxpop/notebooks/DUB/DUB_Inchicore_F_20\n",
      "74 /Users/peternolan/Documents/voxpop/notebooks/DUB/DUB_Terenure_F_20_(4)\n",
      "75 /Users/peternolan/Documents/voxpop/notebooks/DUB/DUB_HaroldsCross_M_20\n",
      "76 /Users/peternolan/Documents/voxpop/notebooks/DUB/DUB_Dunleary_F_20_(4)\n",
      "77 /Users/peternolan/Documents/voxpop/notebooks/DUB/DUB_Tallaght_M_20_(7)\n",
      "78 /Users/peternolan/Documents/voxpop/notebooks/DUB/DUB_Blanchard_F_20_(2)\n",
      "79 /Users/peternolan/Documents/voxpop/notebooks/DUB/DUB_Terenure_M_30\n",
      "80 /Users/peternolan/Documents/voxpop/notebooks/DUB/DUB_Rathmines_F_50\n",
      "81 /Users/peternolan/Documents/voxpop/notebooks/DUB/DUB_EastWall_M_20\n",
      "82 /Users/peternolan/Documents/voxpop/notebooks/DUB/DUB_Clontarf_F_20\n",
      "83 /Users/peternolan/Documents/voxpop/notebooks/DUB/DUB_Swords_F_15_(2)\n",
      "84 /Users/peternolan/Documents/voxpop/notebooks/DUB/DUB_Lucan_M_20_(3)\n",
      "85 /Users/peternolan/Documents/voxpop/notebooks/DUB/DUB_Bray_M_20\n",
      "86 /Users/peternolan/Documents/voxpop/notebooks/DUB/DUB_Howth_F_20\n",
      "87 /Users/peternolan/Documents/voxpop/notebooks/DUB/DUB_Tallaght_F_20\n",
      "88 /Users/peternolan/Documents/voxpop/notebooks/DUB/DUB_Blanchard_M_20\n",
      "89 /Users/peternolan/Documents/voxpop/notebooks/DUB/DUB_Churchtown_F_20\n",
      "90 /Users/peternolan/Documents/voxpop/notebooks/DUB/DUB_Kilmainham_M_20_(2)\n",
      "91 /Users/peternolan/Documents/voxpop/notebooks/DUB/DUB_Knocklyon_M_20\n",
      "92 /Users/peternolan/Documents/voxpop/notebooks/DUB/DUB_Sandyford_F_20_(3)\n",
      "93 /Users/peternolan/Documents/voxpop/notebooks/DUB/DUB_Shankhill_F_20\n",
      "94 /Users/peternolan/Documents/voxpop/notebooks/DUB/DUB_Bray_M_20_(4)\n",
      "95 /Users/peternolan/Documents/voxpop/notebooks/DUB/DUB_Cabinteely_M_20\n",
      "96 /Users/peternolan/Documents/voxpop/notebooks/DUB/DUB_Sallynoggin_F_20\n",
      "97 /Users/peternolan/Documents/voxpop/notebooks/DUB/DUB_Dundrum_M_20_(2)\n",
      "98 /Users/peternolan/Documents/voxpop/notebooks/DUB/DUB_Sandyford_F_20_(2)\n",
      "99 /Users/peternolan/Documents/voxpop/notebooks/DUB/DUB_Templeogue_F_20\n",
      "100 /Users/peternolan/Documents/voxpop/notebooks/DUB/DUB_Templeogue_M_20_(2)\n",
      "101 /Users/peternolan/Documents/voxpop/notebooks/DUB/DUB_Donnybrook_F_50\n",
      "102 /Users/peternolan/Documents/voxpop/notebooks/DUB/DUB_Knocklyon_F_30_(2)\n",
      "103 /Users/peternolan/Documents/voxpop/notebooks/DUB/DUB_Rathgar_F_20_(4)\n",
      "104 /Users/peternolan/Documents/voxpop/notebooks/DUB/DUB_Foxrock_M_20_(2)\n",
      "105 /Users/peternolan/Documents/voxpop/notebooks/DUB/DUB_Cabra_M_20\n",
      "106 /Users/peternolan/Documents/voxpop/notebooks/DUB/DUB_Rathmines_M_20_(2)\n",
      "107 /Users/peternolan/Documents/voxpop/notebooks/DUB/DUB_Lucan_M_20\n",
      "108 /Users/peternolan/Documents/voxpop/notebooks/DUB/DUB_Walkinstown_M_20\n",
      "109 /Users/peternolan/Documents/voxpop/notebooks/DUB/DUB_Lucan_M_20_(2)\n",
      "110 /Users/peternolan/Documents/voxpop/notebooks/DUB/DUB_Blanchard_F_20_(3)\n",
      "111 /Users/peternolan/Documents/voxpop/notebooks/DUB/DUB_Terenure_M_20\n",
      "112 /Users/peternolan/Documents/voxpop/notebooks/DUB/DUB_Tallaght_M_20_(6)\n",
      "113 /Users/peternolan/Documents/voxpop/notebooks/DUB/DUB_Whitehall_F_20\n",
      "114 /Users/peternolan/Documents/voxpop/notebooks/DUB/DUB_Sandyford_M_20\n",
      "115 /Users/peternolan/Documents/voxpop/notebooks/DUB/DUB_Portmarnock_F_20\n",
      "116 /Users/peternolan/Documents/voxpop/notebooks/DUB/DUB_Crumlin_F_20\n",
      "117 /Users/peternolan/Documents/voxpop/notebooks/DUB/DUB_MountMerrion_F_20\n",
      "118 /Users/peternolan/Documents/voxpop/notebooks/DUB/DUB_Bray_M_20_(3)\n",
      "119 /Users/peternolan/Documents/voxpop/notebooks/DUB/DUB_Stillorgan_M_20\n",
      "120 /Users/peternolan/Documents/voxpop/notebooks/DUB/DUB_Clontarf_F_20_(3)\n",
      "121 /Users/peternolan/Documents/voxpop/notebooks/DUB/DUB_Dalkey_M_20\n",
      "122 /Users/peternolan/Documents/voxpop/notebooks/DUB/DUB_Dunleary_F_20_(2)\n",
      "123 /Users/peternolan/Documents/voxpop/notebooks/DUB/DUB_Blanchard_F_20_(4)\n",
      "124 /Users/peternolan/Documents/voxpop/notebooks/DUB/DUB_Castleknock_M_20_(2)\n",
      "125 /Users/peternolan/Documents/voxpop/notebooks/DUB/DUB_Ballinteer_F_20_(2)\n",
      "126 /Users/peternolan/Documents/voxpop/notebooks/DUB/DUB_Rathfarnham_F_20_(2)\n",
      "127 /Users/peternolan/Documents/voxpop/notebooks/DUB/DUB_Churchtown_F_20_(3)\n",
      "128 /Users/peternolan/Documents/voxpop/notebooks/DUB/DUB_Malahide_M_20\n",
      "129 /Users/peternolan/Documents/voxpop/notebooks/DUB/DUB_Artane_M_20_(2)\n",
      "130 /Users/peternolan/Documents/voxpop/notebooks/DUB/DUB_Monkstown_F_20\n",
      "131 /Users/peternolan/Documents/voxpop/notebooks/DUB/DUB_Ballinteer_F_20\n",
      "132 /Users/peternolan/Documents/voxpop/notebooks/DUB/DUB_Landsdowne_F_20\n",
      "133 /Users/peternolan/Documents/voxpop/notebooks/DUB/DUB_Rathgar_F_20_(3)\n",
      "134 /Users/peternolan/Documents/voxpop/notebooks/DUB/DUB_Cabinteely_F_20_(2)\n",
      "135 /Users/peternolan/Documents/voxpop/notebooks/DUB/DUB_Donnybrook_F_20\n",
      "136 /Users/peternolan/Documents/voxpop/notebooks/DUB/DUB_Terenure_M_20_(2)\n",
      "137 /Users/peternolan/Documents/voxpop/notebooks/DUB/DUB_Cabinteely_F_20_(3)\n",
      "138 /Users/peternolan/Documents/voxpop/notebooks/DUB/DUB_Rathgar_F_20_(2)\n",
      "139 /Users/peternolan/Documents/voxpop/notebooks/DUB/DUB_Dundrum_M_20\n",
      "140 /Users/peternolan/Documents/voxpop/notebooks/DUB/DUB_Monkstown_F_30\n",
      "141 /Users/peternolan/Documents/voxpop/notebooks/DUB/DUB_Ringsend_M_45\n",
      "142 /Users/peternolan/Documents/voxpop/notebooks/DUB/DUB_Sutton_M_20\n",
      "143 /Users/peternolan/Documents/voxpop/notebooks/DUB/DUB_Artane_M_20_(3)\n",
      "144 /Users/peternolan/Documents/voxpop/notebooks/DUB/DUB_Swords_F_15\n",
      "145 /Users/peternolan/Documents/voxpop/notebooks/DUB/DUB_Castleknock_M_20_(3)\n",
      "146 /Users/peternolan/Documents/voxpop/notebooks/DUB/DUB_Ballinteer_F_20_(3)\n",
      "147 /Users/peternolan/Documents/voxpop/notebooks/DUB/DUB_Churchtown_F_20_(2)\n",
      "148 /Users/peternolan/Documents/voxpop/notebooks/DUB/DUB_Rathfarnham_F_20_(3)\n",
      "149 /Users/peternolan/Documents/voxpop/notebooks/DUB/DUB_Blanchard_F_20_(5)\n",
      "150 /Users/peternolan/Documents/voxpop/notebooks/DUB/DUB_Foxrock_M_20\n",
      "151 /Users/peternolan/Documents/voxpop/notebooks/DUB/DUB_Tallaght_F_20_(2)\n",
      "152 /Users/peternolan/Documents/voxpop/notebooks/DUB/DUB_Dunleary_F_20_(3)\n",
      "153 /Users/peternolan/Documents/voxpop/notebooks/DUB/DUB_Kilbarrack_M_25\n",
      "154 /Users/peternolan/Documents/voxpop/notebooks/DUB/DUB_Clontarf_F_20_(2)\n",
      "155 /Users/peternolan/Documents/voxpop/notebooks/DUB/DUB_DeansGrange_M_20\n",
      "156 /Users/peternolan/Documents/voxpop/notebooks/DUB/DUB_Bray_M_20_(2)\n",
      "157 /Users/peternolan/Documents/voxpop/notebooks/DUB/DUB_Killiney_M_20\n",
      "158 /Users/peternolan/Documents/voxpop/notebooks/DUB/DUB_Clonskea_F_20\n",
      "159 /Users/peternolan/Documents/voxpop/notebooks/DUB/DUB_Beaumont_M_35\n",
      "160 /Users/peternolan/Documents/voxpop/notebooks/DUB/DUB_Finglas_M_25\n",
      "161 /Users/peternolan/Documents/voxpop/notebooks/DUB/DUB_Dunleary_F_20\n",
      "162 /Users/peternolan/Documents/voxpop/notebooks/DUB/DUB_Rathfarnham_F_20\n",
      "163 /Users/peternolan/Documents/voxpop/notebooks/DUB/DUB_Ranelagh_F_20\n",
      "164 /Users/peternolan/Documents/voxpop/notebooks/DUB/DUB_Castleknock_F_20\n",
      "165 /Users/peternolan/Documents/voxpop/notebooks/DUB/DUB_Goatstown_F_20\n",
      "166 /Users/peternolan/Documents/voxpop/notebooks/DUB/DUB_Rush_M_15\n"
     ]
    }
   ],
   "source": [
    "pattern1 = r'(?P<county>[a-zA-Z]+)_(?P<town>[a-zA-Z-]+)_(?P<gender>[MF])_(?P<age>\\d+)'\n",
    "pattern2 = r'(?P<county>[a-zA-Z]+)_(?P<town>[a-zA-Z-]+)_(?P<urbanrural>[UR])(?P<size>[12])_(?P<gender>[MF])_(?P<age>\\d+)'\n",
    "\n",
    "h=0\n",
    "\n",
    "# Loop through the strings and extract the variables\n",
    "for string in names:\n",
    "    match1 = re.match(pattern1, string)\n",
    "    match2 = re.match(pattern2, string)\n",
    "\n",
    "    print(str(h)+\" \"+string)\n",
    "\n",
    "    if match1:\n",
    "        county = match1.group('county')\n",
    "        counties.append(county)\n",
    "        \n",
    "        town = match1.group('town')\n",
    "        towns.append(town)\n",
    "        \n",
    "        urbanrurals.append(None)\n",
    "        sizes.append(None)\n",
    "        \n",
    "        gender = match1.group('gender') \n",
    "        genders.append(gender)\n",
    "        \n",
    "        age = int(match1.group('age'))\n",
    "        ages.append(age)\n",
    "        \n",
    "    elif match2:\n",
    "        county = match2.group('county')\n",
    "        counties.append(county)\n",
    "        \n",
    "        town = match2.group('town')\n",
    "        towns.append(town)\n",
    "        \n",
    "        urbanrural = match2.group('urbanrural')  # 'U' or 'R'\n",
    "        urbanrurals.append(urbanrural)\n",
    "        \n",
    "        size=match2.group('size')\n",
    "        sizes.append(size)\n",
    "        \n",
    "        gender = match2.group('gender')  # '1' or '2'\n",
    "        genders.append(gender)\n",
    "        \n",
    "        age = int(match2.group('age'))\n",
    "        ages.append(age)\n",
    "        \n",
    "   #     print(county,town,gender,age)\n",
    "   #     print(\"\\n\")\n",
    "    h+=1\n"
   ]
  },
  {
   "cell_type": "code",
   "execution_count": 47,
   "id": "d2e4e474",
   "metadata": {
    "scrolled": true
   },
   "outputs": [
    {
     "data": {
      "text/plain": [
       "[]"
      ]
     },
     "execution_count": 47,
     "metadata": {},
     "output_type": "execute_result"
    }
   ],
   "source": [
    "counties"
   ]
  },
  {
   "cell_type": "code",
   "execution_count": 48,
   "id": "2bc6bfd3",
   "metadata": {
    "scrolled": true
   },
   "outputs": [
    {
     "data": {
      "text/plain": [
       "['/Users/peternolan/Documents/voxpop/notebooks/DUB/DUB_Tallaght_M_40',\n",
       " '/Users/peternolan/Documents/voxpop/notebooks/DUB/DUB_Finglas_F_35',\n",
       " '/Users/peternolan/Documents/voxpop/notebooks/DUB/DUB_MountMerrion_M_20',\n",
       " '/Users/peternolan/Documents/voxpop/notebooks/DUB/DUB_Dunleary_M_30',\n",
       " '/Users/peternolan/Documents/voxpop/notebooks/DUB/DUB_Terenure_F_20_(3)',\n",
       " '/Users/peternolan/Documents/voxpop/notebooks/DUB/DUB_Malahide_F_20',\n",
       " '/Users/peternolan/Documents/voxpop/notebooks/DUB/DUB_Dalkey_F_20',\n",
       " '/Users/peternolan/Documents/voxpop/notebooks/DUB/DUB_Rathfarnham_M_20_(2)',\n",
       " '/Users/peternolan/Documents/voxpop/notebooks/DUB/DUB_Blanchard_M_20_(4)',\n",
       " '/Users/peternolan/Documents/voxpop/notebooks/DUB/DUB_Tallaght_M_20_(3)',\n",
       " '/Users/peternolan/Documents/voxpop/notebooks/DUB/DUB_Dunleary_M_20_(2)',\n",
       " '/Users/peternolan/Documents/voxpop/notebooks/DUB/DUB_Clontarf_M_20_(3)',\n",
       " '/Users/peternolan/Documents/voxpop/notebooks/DUB/DUB_Monkstown_M_20',\n",
       " '/Users/peternolan/Documents/voxpop/notebooks/DUB/DUB_Sutton_F_20',\n",
       " '/Users/peternolan/Documents/voxpop/notebooks/DUB/DUB_Blackrock_F_20',\n",
       " '/Users/peternolan/Documents/voxpop/notebooks/DUB/DUB_Dundrum_F_20',\n",
       " '/Users/peternolan/Documents/voxpop/notebooks/DUB/DUB_Clontarf_M_20_(2)',\n",
       " '/Users/peternolan/Documents/voxpop/notebooks/DUB/DUB_Tallaght_M_20_(2)',\n",
       " '/Users/peternolan/Documents/voxpop/notebooks/DUB/DUB_Swords_F_35',\n",
       " '/Users/peternolan/Documents/voxpop/notebooks/DUB/DUB_DeansGrange_F_20',\n",
       " '/Users/peternolan/Documents/voxpop/notebooks/DUB/DUB_Rathmines_M_20',\n",
       " '/Users/peternolan/Documents/voxpop/notebooks/DUB/DUB_Swords_M_15',\n",
       " '/Users/peternolan/Documents/voxpop/notebooks/DUB/DUB_Killiney_M_20_(2)',\n",
       " '/Users/peternolan/Documents/voxpop/notebooks/DUB/DUB_Ballinteer_M_25',\n",
       " '/Users/peternolan/Documents/voxpop/notebooks/DUB/DUB_Terenure_F_20_(2)',\n",
       " '/Users/peternolan/Documents/voxpop/notebooks/DUB/DUB_Dunleary_M_20',\n",
       " '/Users/peternolan/Documents/voxpop/notebooks/DUB/DUB_Rathgar_F_20',\n",
       " '/Users/peternolan/Documents/voxpop/notebooks/DUB/DUB_Rathfarnham_M_20',\n",
       " '/Users/peternolan/Documents/voxpop/notebooks/DUB/DUB_Ranelagh_M_20',\n",
       " '/Users/peternolan/Documents/voxpop/notebooks/DUB/DUB_Templeogue_F_20_(4)',\n",
       " '/Users/peternolan/Documents/voxpop/notebooks/DUB/DUB_Clonskea_M_20',\n",
       " '/Users/peternolan/Documents/voxpop/notebooks/DUB/DUB_Goatstown_M_20',\n",
       " '/Users/peternolan/Documents/voxpop/notebooks/DUB/DUB_Clonskea_F_20_(4)',\n",
       " '/Users/peternolan/Documents/voxpop/notebooks/DUB/DUB_Bray_F_20_(2)',\n",
       " '/Users/peternolan/Documents/voxpop/notebooks/DUB/DUB_Rush_M_20',\n",
       " '/Users/peternolan/Documents/voxpop/notebooks/DUB/DUB_Castleknock_M_20',\n",
       " '/Users/peternolan/Documents/voxpop/notebooks/DUB/DUB_Bray_F_35',\n",
       " '/Users/peternolan/Documents/voxpop/notebooks/DUB/DUB_Swords_M_15_(2)',\n",
       " '/Users/peternolan/Documents/voxpop/notebooks/DUB/DUB_Sandymount_M_20',\n",
       " '/Users/peternolan/Documents/voxpop/notebooks/DUB/DUB_Blanchard_M_20_(2)',\n",
       " '/Users/peternolan/Documents/voxpop/notebooks/DUB/DUB_Tallaght_M_20_(5)',\n",
       " '/Users/peternolan/Documents/voxpop/notebooks/DUB/DUB_Bray_F_20',\n",
       " '/Users/peternolan/Documents/voxpop/notebooks/DUB/DUB_Clontarf_M_20',\n",
       " '/Users/peternolan/Documents/voxpop/notebooks/DUB/DUB_Walkinstown_F_30',\n",
       " '/Users/peternolan/Documents/voxpop/notebooks/DUB/DUB_Clonskea_F_20_(3)',\n",
       " '/Users/peternolan/Documents/voxpop/notebooks/DUB/DUB_Blanchard_F_20',\n",
       " '/Users/peternolan/Documents/voxpop/notebooks/DUB/DUB_Shankhill_F_20_(2)',\n",
       " '/Users/peternolan/Documents/voxpop/notebooks/DUB/DUB_Artane_M_20',\n",
       " '/Users/peternolan/Documents/voxpop/notebooks/DUB/DUB_Clondalkin_M_20',\n",
       " '/Users/peternolan/Documents/voxpop/notebooks/DUB/DUB_Tallaght_M_20',\n",
       " '/Users/peternolan/Documents/voxpop/notebooks/DUB/DUB_Ranelagh_M_20_(3)',\n",
       " '/Users/peternolan/Documents/voxpop/notebooks/DUB/DUB_Shankhill_M_20',\n",
       " '/Users/peternolan/Documents/voxpop/notebooks/DUB/DUB_Malahide_F_20_(3)',\n",
       " '/Users/peternolan/Documents/voxpop/notebooks/DUB/DUB_Templeogue_F_20_(3)',\n",
       " '/Users/peternolan/Documents/voxpop/notebooks/DUB/DUB_Knocklyon_F_20',\n",
       " '/Users/peternolan/Documents/voxpop/notebooks/DUB/DUB_Templeogue_F_20_(2)',\n",
       " '/Users/peternolan/Documents/voxpop/notebooks/DUB/DUB_Cabinteely_F_20',\n",
       " '/Users/peternolan/Documents/voxpop/notebooks/DUB/DUB_Malahide_F_20_(2)',\n",
       " '/Users/peternolan/Documents/voxpop/notebooks/DUB/DUB_Ranelagh_M_20_(2)',\n",
       " '/Users/peternolan/Documents/voxpop/notebooks/DUB/DUB_Kimmage_F_20',\n",
       " '/Users/peternolan/Documents/voxpop/notebooks/DUB/DUB_Sandyford_M_20_(2)',\n",
       " '/Users/peternolan/Documents/voxpop/notebooks/DUB/DUB_Shankhill_F_20_(3)',\n",
       " '/Users/peternolan/Documents/voxpop/notebooks/DUB/DUB_Templeogue_M_20',\n",
       " '/Users/peternolan/Documents/voxpop/notebooks/DUB/DUB_Clonskea_F_20_(2)',\n",
       " '/Users/peternolan/Documents/voxpop/notebooks/DUB/DUB_Lucan_F_20',\n",
       " '/Users/peternolan/Documents/voxpop/notebooks/DUB/DUB_Cabra_F_20',\n",
       " '/Users/peternolan/Documents/voxpop/notebooks/DUB/DUB_Dundrum_F_40',\n",
       " '/Users/peternolan/Documents/voxpop/notebooks/DUB/DUB_Tallaght_M_20_(4)',\n",
       " '/Users/peternolan/Documents/voxpop/notebooks/DUB/DUB_Blanchard_M_20_(3)',\n",
       " '/Users/peternolan/Documents/voxpop/notebooks/DUB/DUB_Raheny_F_20',\n",
       " '/Users/peternolan/Documents/voxpop/notebooks/DUB/DUB_Portmarnock_M_20',\n",
       " '/Users/peternolan/Documents/voxpop/notebooks/DUB/DUB_Sandyford_F_20',\n",
       " '/Users/peternolan/Documents/voxpop/notebooks/DUB/DUB_Terenure_F_20',\n",
       " '/Users/peternolan/Documents/voxpop/notebooks/DUB/DUB_Inchicore_F_20',\n",
       " '/Users/peternolan/Documents/voxpop/notebooks/DUB/DUB_Terenure_F_20_(4)',\n",
       " '/Users/peternolan/Documents/voxpop/notebooks/DUB/DUB_HaroldsCross_M_20',\n",
       " '/Users/peternolan/Documents/voxpop/notebooks/DUB/DUB_Dunleary_F_20_(4)',\n",
       " '/Users/peternolan/Documents/voxpop/notebooks/DUB/DUB_Tallaght_M_20_(7)',\n",
       " '/Users/peternolan/Documents/voxpop/notebooks/DUB/DUB_Blanchard_F_20_(2)',\n",
       " '/Users/peternolan/Documents/voxpop/notebooks/DUB/DUB_Terenure_M_30',\n",
       " '/Users/peternolan/Documents/voxpop/notebooks/DUB/DUB_Rathmines_F_50',\n",
       " '/Users/peternolan/Documents/voxpop/notebooks/DUB/DUB_EastWall_M_20',\n",
       " '/Users/peternolan/Documents/voxpop/notebooks/DUB/DUB_Clontarf_F_20',\n",
       " '/Users/peternolan/Documents/voxpop/notebooks/DUB/DUB_Swords_F_15_(2)',\n",
       " '/Users/peternolan/Documents/voxpop/notebooks/DUB/DUB_Lucan_M_20_(3)',\n",
       " '/Users/peternolan/Documents/voxpop/notebooks/DUB/DUB_Bray_M_20',\n",
       " '/Users/peternolan/Documents/voxpop/notebooks/DUB/DUB_Howth_F_20',\n",
       " '/Users/peternolan/Documents/voxpop/notebooks/DUB/DUB_Tallaght_F_20',\n",
       " '/Users/peternolan/Documents/voxpop/notebooks/DUB/DUB_Blanchard_M_20',\n",
       " '/Users/peternolan/Documents/voxpop/notebooks/DUB/DUB_Churchtown_F_20',\n",
       " '/Users/peternolan/Documents/voxpop/notebooks/DUB/DUB_Kilmainham_M_20_(2)',\n",
       " '/Users/peternolan/Documents/voxpop/notebooks/DUB/DUB_Knocklyon_M_20',\n",
       " '/Users/peternolan/Documents/voxpop/notebooks/DUB/DUB_Sandyford_F_20_(3)',\n",
       " '/Users/peternolan/Documents/voxpop/notebooks/DUB/DUB_Shankhill_F_20',\n",
       " '/Users/peternolan/Documents/voxpop/notebooks/DUB/DUB_Bray_M_20_(4)',\n",
       " '/Users/peternolan/Documents/voxpop/notebooks/DUB/DUB_Cabinteely_M_20',\n",
       " '/Users/peternolan/Documents/voxpop/notebooks/DUB/DUB_Sallynoggin_F_20',\n",
       " '/Users/peternolan/Documents/voxpop/notebooks/DUB/DUB_Dundrum_M_20_(2)',\n",
       " '/Users/peternolan/Documents/voxpop/notebooks/DUB/DUB_Sandyford_F_20_(2)',\n",
       " '/Users/peternolan/Documents/voxpop/notebooks/DUB/DUB_Templeogue_F_20',\n",
       " '/Users/peternolan/Documents/voxpop/notebooks/DUB/DUB_Templeogue_M_20_(2)',\n",
       " '/Users/peternolan/Documents/voxpop/notebooks/DUB/DUB_Donnybrook_F_50',\n",
       " '/Users/peternolan/Documents/voxpop/notebooks/DUB/DUB_Knocklyon_F_30_(2)',\n",
       " '/Users/peternolan/Documents/voxpop/notebooks/DUB/DUB_Rathgar_F_20_(4)',\n",
       " '/Users/peternolan/Documents/voxpop/notebooks/DUB/DUB_Foxrock_M_20_(2)',\n",
       " '/Users/peternolan/Documents/voxpop/notebooks/DUB/DUB_Cabra_M_20',\n",
       " '/Users/peternolan/Documents/voxpop/notebooks/DUB/DUB_Rathmines_M_20_(2)',\n",
       " '/Users/peternolan/Documents/voxpop/notebooks/DUB/DUB_Lucan_M_20',\n",
       " '/Users/peternolan/Documents/voxpop/notebooks/DUB/DUB_Walkinstown_M_20',\n",
       " '/Users/peternolan/Documents/voxpop/notebooks/DUB/DUB_Lucan_M_20_(2)',\n",
       " '/Users/peternolan/Documents/voxpop/notebooks/DUB/DUB_Blanchard_F_20_(3)',\n",
       " '/Users/peternolan/Documents/voxpop/notebooks/DUB/DUB_Terenure_M_20',\n",
       " '/Users/peternolan/Documents/voxpop/notebooks/DUB/DUB_Tallaght_M_20_(6)',\n",
       " '/Users/peternolan/Documents/voxpop/notebooks/DUB/DUB_Whitehall_F_20',\n",
       " '/Users/peternolan/Documents/voxpop/notebooks/DUB/DUB_Sandyford_M_20',\n",
       " '/Users/peternolan/Documents/voxpop/notebooks/DUB/DUB_Portmarnock_F_20',\n",
       " '/Users/peternolan/Documents/voxpop/notebooks/DUB/DUB_Crumlin_F_20',\n",
       " '/Users/peternolan/Documents/voxpop/notebooks/DUB/DUB_MountMerrion_F_20',\n",
       " '/Users/peternolan/Documents/voxpop/notebooks/DUB/DUB_Bray_M_20_(3)',\n",
       " '/Users/peternolan/Documents/voxpop/notebooks/DUB/DUB_Stillorgan_M_20',\n",
       " '/Users/peternolan/Documents/voxpop/notebooks/DUB/DUB_Clontarf_F_20_(3)',\n",
       " '/Users/peternolan/Documents/voxpop/notebooks/DUB/DUB_Dalkey_M_20',\n",
       " '/Users/peternolan/Documents/voxpop/notebooks/DUB/DUB_Dunleary_F_20_(2)',\n",
       " '/Users/peternolan/Documents/voxpop/notebooks/DUB/DUB_Blanchard_F_20_(4)',\n",
       " '/Users/peternolan/Documents/voxpop/notebooks/DUB/DUB_Castleknock_M_20_(2)',\n",
       " '/Users/peternolan/Documents/voxpop/notebooks/DUB/DUB_Ballinteer_F_20_(2)',\n",
       " '/Users/peternolan/Documents/voxpop/notebooks/DUB/DUB_Rathfarnham_F_20_(2)',\n",
       " '/Users/peternolan/Documents/voxpop/notebooks/DUB/DUB_Churchtown_F_20_(3)',\n",
       " '/Users/peternolan/Documents/voxpop/notebooks/DUB/DUB_Malahide_M_20',\n",
       " '/Users/peternolan/Documents/voxpop/notebooks/DUB/DUB_Artane_M_20_(2)',\n",
       " '/Users/peternolan/Documents/voxpop/notebooks/DUB/DUB_Monkstown_F_20',\n",
       " '/Users/peternolan/Documents/voxpop/notebooks/DUB/DUB_Ballinteer_F_20',\n",
       " '/Users/peternolan/Documents/voxpop/notebooks/DUB/DUB_Landsdowne_F_20',\n",
       " '/Users/peternolan/Documents/voxpop/notebooks/DUB/DUB_Rathgar_F_20_(3)',\n",
       " '/Users/peternolan/Documents/voxpop/notebooks/DUB/DUB_Cabinteely_F_20_(2)',\n",
       " '/Users/peternolan/Documents/voxpop/notebooks/DUB/DUB_Donnybrook_F_20',\n",
       " '/Users/peternolan/Documents/voxpop/notebooks/DUB/DUB_Terenure_M_20_(2)',\n",
       " '/Users/peternolan/Documents/voxpop/notebooks/DUB/DUB_Cabinteely_F_20_(3)',\n",
       " '/Users/peternolan/Documents/voxpop/notebooks/DUB/DUB_Rathgar_F_20_(2)',\n",
       " '/Users/peternolan/Documents/voxpop/notebooks/DUB/DUB_Dundrum_M_20',\n",
       " '/Users/peternolan/Documents/voxpop/notebooks/DUB/DUB_Monkstown_F_30',\n",
       " '/Users/peternolan/Documents/voxpop/notebooks/DUB/DUB_Ringsend_M_45',\n",
       " '/Users/peternolan/Documents/voxpop/notebooks/DUB/DUB_Sutton_M_20',\n",
       " '/Users/peternolan/Documents/voxpop/notebooks/DUB/DUB_Artane_M_20_(3)',\n",
       " '/Users/peternolan/Documents/voxpop/notebooks/DUB/DUB_Swords_F_15',\n",
       " '/Users/peternolan/Documents/voxpop/notebooks/DUB/DUB_Castleknock_M_20_(3)',\n",
       " '/Users/peternolan/Documents/voxpop/notebooks/DUB/DUB_Ballinteer_F_20_(3)',\n",
       " '/Users/peternolan/Documents/voxpop/notebooks/DUB/DUB_Churchtown_F_20_(2)',\n",
       " '/Users/peternolan/Documents/voxpop/notebooks/DUB/DUB_Rathfarnham_F_20_(3)',\n",
       " '/Users/peternolan/Documents/voxpop/notebooks/DUB/DUB_Blanchard_F_20_(5)',\n",
       " '/Users/peternolan/Documents/voxpop/notebooks/DUB/DUB_Foxrock_M_20',\n",
       " '/Users/peternolan/Documents/voxpop/notebooks/DUB/DUB_Tallaght_F_20_(2)',\n",
       " '/Users/peternolan/Documents/voxpop/notebooks/DUB/DUB_Dunleary_F_20_(3)',\n",
       " '/Users/peternolan/Documents/voxpop/notebooks/DUB/DUB_Kilbarrack_M_25',\n",
       " '/Users/peternolan/Documents/voxpop/notebooks/DUB/DUB_Clontarf_F_20_(2)',\n",
       " '/Users/peternolan/Documents/voxpop/notebooks/DUB/DUB_DeansGrange_M_20',\n",
       " '/Users/peternolan/Documents/voxpop/notebooks/DUB/DUB_Bray_M_20_(2)',\n",
       " '/Users/peternolan/Documents/voxpop/notebooks/DUB/DUB_Killiney_M_20',\n",
       " '/Users/peternolan/Documents/voxpop/notebooks/DUB/DUB_Clonskea_F_20',\n",
       " '/Users/peternolan/Documents/voxpop/notebooks/DUB/DUB_Beaumont_M_35',\n",
       " '/Users/peternolan/Documents/voxpop/notebooks/DUB/DUB_Finglas_M_25',\n",
       " '/Users/peternolan/Documents/voxpop/notebooks/DUB/DUB_Dunleary_F_20',\n",
       " '/Users/peternolan/Documents/voxpop/notebooks/DUB/DUB_Rathfarnham_F_20',\n",
       " '/Users/peternolan/Documents/voxpop/notebooks/DUB/DUB_Ranelagh_F_20',\n",
       " '/Users/peternolan/Documents/voxpop/notebooks/DUB/DUB_Castleknock_F_20',\n",
       " '/Users/peternolan/Documents/voxpop/notebooks/DUB/DUB_Goatstown_F_20',\n",
       " '/Users/peternolan/Documents/voxpop/notebooks/DUB/DUB_Rush_M_15']"
      ]
     },
     "execution_count": 48,
     "metadata": {},
     "output_type": "execute_result"
    }
   ],
   "source": [
    "names"
   ]
  },
  {
   "cell_type": "code",
   "execution_count": 49,
   "id": "509acaa3",
   "metadata": {
    "scrolled": true
   },
   "outputs": [
    {
     "data": {
      "text/plain": [
       "[]"
      ]
     },
     "execution_count": 49,
     "metadata": {},
     "output_type": "execute_result"
    }
   ],
   "source": [
    "towns"
   ]
  },
  {
   "cell_type": "code",
   "execution_count": 50,
   "id": "d9f4c8d9",
   "metadata": {
    "scrolled": true
   },
   "outputs": [
    {
     "data": {
      "text/plain": [
       "[]"
      ]
     },
     "execution_count": 50,
     "metadata": {},
     "output_type": "execute_result"
    }
   ],
   "source": [
    "urbanrurals"
   ]
  },
  {
   "cell_type": "code",
   "execution_count": 51,
   "id": "a6ed748c",
   "metadata": {
    "scrolled": true
   },
   "outputs": [
    {
     "data": {
      "text/plain": [
       "[]"
      ]
     },
     "execution_count": 51,
     "metadata": {},
     "output_type": "execute_result"
    }
   ],
   "source": [
    "genders"
   ]
  },
  {
   "cell_type": "code",
   "execution_count": 52,
   "id": "9d593128",
   "metadata": {
    "scrolled": true
   },
   "outputs": [
    {
     "data": {
      "text/plain": [
       "[]"
      ]
     },
     "execution_count": 52,
     "metadata": {},
     "output_type": "execute_result"
    }
   ],
   "source": [
    "sizes"
   ]
  },
  {
   "cell_type": "code",
   "execution_count": 53,
   "id": "3782811a",
   "metadata": {
    "scrolled": true
   },
   "outputs": [
    {
     "data": {
      "text/plain": [
       "[]"
      ]
     },
     "execution_count": 53,
     "metadata": {},
     "output_type": "execute_result"
    }
   ],
   "source": [
    "ages"
   ]
  },
  {
   "cell_type": "code",
   "execution_count": 54,
   "id": "dc161154",
   "metadata": {},
   "outputs": [
    {
     "name": "stdout",
     "output_type": "stream",
     "text": [
      "0\n",
      "0\n",
      "0\n",
      "0\n",
      "0\n",
      "0\n"
     ]
    }
   ],
   "source": [
    "print(len(counties))\n",
    "print(len(towns))\n",
    "print(len(urbanrurals))\n",
    "print(len(sizes))\n",
    "print(len(genders))\n",
    "print(len(ages))"
   ]
  },
  {
   "cell_type": "code",
   "execution_count": 55,
   "id": "0381206c",
   "metadata": {},
   "outputs": [
    {
     "name": "stdout",
     "output_type": "stream",
     "text": [
      "MP3 converted to WAV\n",
      "\n",
      "0\n",
      "/Users/peternolan/Documents/voxpop/notebooks/DUB/DUB_Tallaght_M_40.wav\n",
      "MP3 converted to WAV\n",
      "\n",
      "3\n",
      "/Users/peternolan/Documents/voxpop/notebooks/DUB/DUB_Dunleary_M_30.wav\n",
      "MP3 converted to WAV\n",
      "\n",
      "9\n",
      "/Users/peternolan/Documents/voxpop/notebooks/DUB/DUB_Tallaght_M_20_(3).wav\n",
      "MP3 converted to WAV\n",
      "\n",
      "10\n",
      "/Users/peternolan/Documents/voxpop/notebooks/DUB/DUB_Dunleary_M_20_(2).wav\n",
      "MP3 converted to WAV\n",
      "\n",
      "11\n",
      "/Users/peternolan/Documents/voxpop/notebooks/DUB/DUB_Clontarf_M_20_(3).wav\n",
      "MP3 converted to WAV\n",
      "\n",
      "12\n",
      "/Users/peternolan/Documents/voxpop/notebooks/DUB/DUB_Monkstown_M_20.wav\n",
      "MP3 converted to WAV\n",
      "\n",
      "15\n",
      "/Users/peternolan/Documents/voxpop/notebooks/DUB/DUB_Dundrum_F_20.wav\n",
      "MP3 converted to WAV\n",
      "\n",
      "18\n",
      "/Users/peternolan/Documents/voxpop/notebooks/DUB/DUB_Swords_F_35.wav\n",
      "MP3 converted to WAV\n",
      "\n",
      "20\n",
      "/Users/peternolan/Documents/voxpop/notebooks/DUB/DUB_Rathmines_M_20.wav\n",
      "MP3 converted to WAV\n",
      "\n",
      "22\n",
      "/Users/peternolan/Documents/voxpop/notebooks/DUB/DUB_Killiney_M_20_(2).wav\n",
      "MP3 converted to WAV\n",
      "\n",
      "24\n",
      "/Users/peternolan/Documents/voxpop/notebooks/DUB/DUB_Terenure_F_20_(2).wav\n",
      "MP3 converted to WAV\n",
      "\n",
      "25\n",
      "/Users/peternolan/Documents/voxpop/notebooks/DUB/DUB_Dunleary_M_20.wav\n",
      "MP3 converted to WAV\n",
      "\n",
      "27\n",
      "/Users/peternolan/Documents/voxpop/notebooks/DUB/DUB_Rathfarnham_M_20.wav\n",
      "MP3 converted to WAV\n",
      "\n",
      "29\n",
      "/Users/peternolan/Documents/voxpop/notebooks/DUB/DUB_Templeogue_F_20_(4).wav\n",
      "MP3 converted to WAV\n",
      "\n",
      "31\n",
      "/Users/peternolan/Documents/voxpop/notebooks/DUB/DUB_Goatstown_M_20.wav\n",
      "MP3 converted to WAV\n",
      "\n",
      "32\n",
      "/Users/peternolan/Documents/voxpop/notebooks/DUB/DUB_Clonskea_F_20_(4).wav\n",
      "MP3 converted to WAV\n",
      "\n",
      "35\n",
      "/Users/peternolan/Documents/voxpop/notebooks/DUB/DUB_Castleknock_M_20.wav\n",
      "MP3 converted to WAV\n",
      "\n",
      "36\n",
      "/Users/peternolan/Documents/voxpop/notebooks/DUB/DUB_Bray_F_35.wav\n",
      "MP3 converted to WAV\n",
      "\n",
      "37\n",
      "/Users/peternolan/Documents/voxpop/notebooks/DUB/DUB_Swords_M_15_(2).wav\n",
      "MP3 converted to WAV\n",
      "\n",
      "38\n",
      "/Users/peternolan/Documents/voxpop/notebooks/DUB/DUB_Sandymount_M_20.wav\n",
      "MP3 converted to WAV\n",
      "\n",
      "41\n",
      "/Users/peternolan/Documents/voxpop/notebooks/DUB/DUB_Bray_F_20.wav\n",
      "MP3 converted to WAV\n",
      "\n",
      "42\n",
      "/Users/peternolan/Documents/voxpop/notebooks/DUB/DUB_Clontarf_M_20.wav\n",
      "MP3 converted to WAV\n",
      "\n",
      "45\n",
      "/Users/peternolan/Documents/voxpop/notebooks/DUB/DUB_Blanchard_F_20.wav\n",
      "MP3 converted to WAV\n",
      "\n",
      "48\n",
      "/Users/peternolan/Documents/voxpop/notebooks/DUB/DUB_Clondalkin_M_20.wav\n",
      "MP3 converted to WAV\n",
      "\n",
      "49\n",
      "/Users/peternolan/Documents/voxpop/notebooks/DUB/DUB_Tallaght_M_20.wav\n",
      "MP3 converted to WAV\n",
      "\n",
      "50\n",
      "/Users/peternolan/Documents/voxpop/notebooks/DUB/DUB_Ranelagh_M_20_(3).wav\n",
      "MP3 converted to WAV\n",
      "\n",
      "53\n",
      "/Users/peternolan/Documents/voxpop/notebooks/DUB/DUB_Templeogue_F_20_(3).wav\n",
      "MP3 converted to WAV\n",
      "\n",
      "54\n",
      "/Users/peternolan/Documents/voxpop/notebooks/DUB/DUB_Knocklyon_F_20.wav\n",
      "MP3 converted to WAV\n",
      "\n",
      "58\n",
      "/Users/peternolan/Documents/voxpop/notebooks/DUB/DUB_Ranelagh_M_20_(2).wav\n",
      "MP3 converted to WAV\n",
      "\n",
      "62\n",
      "/Users/peternolan/Documents/voxpop/notebooks/DUB/DUB_Templeogue_M_20.wav\n",
      "MP3 converted to WAV\n",
      "\n",
      "64\n",
      "/Users/peternolan/Documents/voxpop/notebooks/DUB/DUB_Lucan_F_20.wav\n",
      "MP3 converted to WAV\n",
      "\n",
      "65\n",
      "/Users/peternolan/Documents/voxpop/notebooks/DUB/DUB_Cabra_F_20.wav\n",
      "MP3 converted to WAV\n",
      "\n",
      "67\n",
      "/Users/peternolan/Documents/voxpop/notebooks/DUB/DUB_Tallaght_M_20_(4).wav\n",
      "MP3 converted to WAV\n",
      "\n",
      "70\n",
      "/Users/peternolan/Documents/voxpop/notebooks/DUB/DUB_Portmarnock_M_20.wav\n",
      "MP3 converted to WAV\n",
      "\n",
      "71\n",
      "/Users/peternolan/Documents/voxpop/notebooks/DUB/DUB_Sandyford_F_20.wav\n",
      "MP3 converted to WAV\n",
      "\n",
      "73\n",
      "/Users/peternolan/Documents/voxpop/notebooks/DUB/DUB_Inchicore_F_20.wav\n",
      "MP3 converted to WAV\n",
      "\n",
      "76\n",
      "/Users/peternolan/Documents/voxpop/notebooks/DUB/DUB_Dunleary_F_20_(4).wav\n",
      "MP3 converted to WAV\n",
      "\n",
      "77\n",
      "/Users/peternolan/Documents/voxpop/notebooks/DUB/DUB_Tallaght_M_20_(7).wav\n",
      "MP3 converted to WAV\n",
      "\n",
      "83\n",
      "/Users/peternolan/Documents/voxpop/notebooks/DUB/DUB_Swords_F_15_(2).wav\n",
      "MP3 converted to WAV\n",
      "\n",
      "84\n",
      "/Users/peternolan/Documents/voxpop/notebooks/DUB/DUB_Lucan_M_20_(3).wav\n",
      "MP3 converted to WAV\n",
      "\n",
      "86\n",
      "/Users/peternolan/Documents/voxpop/notebooks/DUB/DUB_Howth_F_20.wav\n",
      "MP3 converted to WAV\n",
      "\n",
      "93\n",
      "/Users/peternolan/Documents/voxpop/notebooks/DUB/DUB_Shankhill_F_20.wav\n",
      "MP3 converted to WAV\n",
      "\n",
      "96\n",
      "/Users/peternolan/Documents/voxpop/notebooks/DUB/DUB_Sallynoggin_F_20.wav\n",
      "MP3 converted to WAV\n",
      "\n",
      "97\n",
      "/Users/peternolan/Documents/voxpop/notebooks/DUB/DUB_Dundrum_M_20_(2).wav\n",
      "MP3 converted to WAV\n",
      "\n",
      "99\n",
      "/Users/peternolan/Documents/voxpop/notebooks/DUB/DUB_Templeogue_F_20.wav\n",
      "MP3 converted to WAV\n",
      "\n",
      "102\n",
      "/Users/peternolan/Documents/voxpop/notebooks/DUB/DUB_Knocklyon_F_30_(2).wav\n",
      "MP3 converted to WAV\n",
      "\n",
      "104\n",
      "/Users/peternolan/Documents/voxpop/notebooks/DUB/DUB_Foxrock_M_20_(2).wav\n",
      "MP3 converted to WAV\n",
      "\n",
      "106\n",
      "/Users/peternolan/Documents/voxpop/notebooks/DUB/DUB_Rathmines_M_20_(2).wav\n",
      "MP3 converted to WAV\n",
      "\n",
      "110\n",
      "/Users/peternolan/Documents/voxpop/notebooks/DUB/DUB_Blanchard_F_20_(3).wav\n",
      "MP3 converted to WAV\n",
      "\n",
      "118\n",
      "/Users/peternolan/Documents/voxpop/notebooks/DUB/DUB_Bray_M_20_(3).wav\n",
      "MP3 converted to WAV\n",
      "\n",
      "119\n",
      "/Users/peternolan/Documents/voxpop/notebooks/DUB/DUB_Stillorgan_M_20.wav\n",
      "MP3 converted to WAV\n",
      "\n",
      "120\n",
      "/Users/peternolan/Documents/voxpop/notebooks/DUB/DUB_Clontarf_F_20_(3).wav\n",
      "MP3 converted to WAV\n",
      "\n",
      "122\n",
      "/Users/peternolan/Documents/voxpop/notebooks/DUB/DUB_Dunleary_F_20_(2).wav\n",
      "MP3 converted to WAV\n",
      "\n",
      "123\n",
      "/Users/peternolan/Documents/voxpop/notebooks/DUB/DUB_Blanchard_F_20_(4).wav\n",
      "MP3 converted to WAV\n",
      "\n",
      "124\n",
      "/Users/peternolan/Documents/voxpop/notebooks/DUB/DUB_Castleknock_M_20_(2).wav\n",
      "MP3 converted to WAV\n",
      "\n",
      "126\n",
      "/Users/peternolan/Documents/voxpop/notebooks/DUB/DUB_Rathfarnham_F_20_(2).wav\n",
      "MP3 converted to WAV\n",
      "\n",
      "127\n",
      "/Users/peternolan/Documents/voxpop/notebooks/DUB/DUB_Churchtown_F_20_(3).wav\n",
      "MP3 converted to WAV\n",
      "\n",
      "129\n",
      "/Users/peternolan/Documents/voxpop/notebooks/DUB/DUB_Artane_M_20_(2).wav\n",
      "MP3 converted to WAV\n",
      "\n",
      "135\n",
      "/Users/peternolan/Documents/voxpop/notebooks/DUB/DUB_Donnybrook_F_20.wav\n",
      "MP3 converted to WAV\n",
      "\n",
      "139\n",
      "/Users/peternolan/Documents/voxpop/notebooks/DUB/DUB_Dundrum_M_20.wav\n",
      "MP3 converted to WAV\n",
      "\n",
      "141\n",
      "/Users/peternolan/Documents/voxpop/notebooks/DUB/DUB_Ringsend_M_45.wav\n",
      "MP3 converted to WAV\n",
      "\n",
      "142\n",
      "/Users/peternolan/Documents/voxpop/notebooks/DUB/DUB_Sutton_M_20.wav\n",
      "MP3 converted to WAV\n",
      "\n",
      "145\n",
      "/Users/peternolan/Documents/voxpop/notebooks/DUB/DUB_Castleknock_M_20_(3).wav\n",
      "MP3 converted to WAV\n",
      "\n",
      "146\n",
      "/Users/peternolan/Documents/voxpop/notebooks/DUB/DUB_Ballinteer_F_20_(3).wav\n",
      "MP3 converted to WAV\n",
      "\n",
      "148\n",
      "/Users/peternolan/Documents/voxpop/notebooks/DUB/DUB_Rathfarnham_F_20_(3).wav\n",
      "MP3 converted to WAV\n",
      "\n",
      "150\n",
      "/Users/peternolan/Documents/voxpop/notebooks/DUB/DUB_Foxrock_M_20.wav\n",
      "MP3 converted to WAV\n",
      "\n",
      "152\n",
      "/Users/peternolan/Documents/voxpop/notebooks/DUB/DUB_Dunleary_F_20_(3).wav\n",
      "MP3 converted to WAV\n",
      "\n",
      "154\n",
      "/Users/peternolan/Documents/voxpop/notebooks/DUB/DUB_Clontarf_F_20_(2).wav\n",
      "MP3 converted to WAV\n",
      "\n",
      "157\n",
      "/Users/peternolan/Documents/voxpop/notebooks/DUB/DUB_Killiney_M_20.wav\n",
      "MP3 converted to WAV\n",
      "\n",
      "158\n",
      "/Users/peternolan/Documents/voxpop/notebooks/DUB/DUB_Clonskea_F_20.wav\n",
      "MP3 converted to WAV\n",
      "\n",
      "159\n",
      "/Users/peternolan/Documents/voxpop/notebooks/DUB/DUB_Beaumont_M_35.wav\n",
      "MP3 converted to WAV\n",
      "\n",
      "160\n",
      "/Users/peternolan/Documents/voxpop/notebooks/DUB/DUB_Finglas_M_25.wav\n",
      "MP3 converted to WAV\n",
      "\n",
      "161\n",
      "/Users/peternolan/Documents/voxpop/notebooks/DUB/DUB_Dunleary_F_20.wav\n",
      "MP3 converted to WAV\n",
      "\n",
      "163\n",
      "/Users/peternolan/Documents/voxpop/notebooks/DUB/DUB_Ranelagh_F_20.wav\n",
      "MP3 converted to WAV\n",
      "\n",
      "166\n",
      "/Users/peternolan/Documents/voxpop/notebooks/DUB/DUB_Rush_M_15.wav\n"
     ]
    }
   ],
   "source": [
    "h=0\n",
    "for filename in filenames:\n",
    "    file_duration=sample_duration(filename)\n",
    "    file_y, file_sr= librosa.load(filename,duration=sample_duration(filename))\n",
    "    \n",
    "    if len(file_y)==0:\n",
    "        print(\"MP3 converted to WAV\\n\")\n",
    "        print(str(h))\n",
    "        file_y, file_sr=convert_MP3_to_WAV(filename)\n",
    "         \n",
    "    resample_y=librosa.resample(file_y, orig_sr=file_sr, target_sr=RESAMPLE_RATE)\n",
    "    \n",
    "    y.append(resample_y)\n",
    "    sr.append(RESAMPLE_RATE)\n",
    "    dur.append(file_duration)\n",
    "    h+=1"
   ]
  },
  {
   "cell_type": "code",
   "execution_count": 56,
   "id": "3f431a1f",
   "metadata": {},
   "outputs": [
    {
     "data": {
      "text/plain": [
       "167"
      ]
     },
     "execution_count": 56,
     "metadata": {},
     "output_type": "execute_result"
    }
   ],
   "source": [
    "len(y)"
   ]
  },
  {
   "cell_type": "code",
   "execution_count": 69,
   "id": "63aaf453",
   "metadata": {},
   "outputs": [
    {
     "data": {
      "text/plain": [
       "167"
      ]
     },
     "execution_count": 69,
     "metadata": {},
     "output_type": "execute_result"
    }
   ],
   "source": [
    "len(filenames)"
   ]
  },
  {
   "cell_type": "code",
   "execution_count": 70,
   "id": "2c5341c1",
   "metadata": {},
   "outputs": [
    {
     "data": {
      "text/plain": [
       "(2944337,)"
      ]
     },
     "execution_count": 70,
     "metadata": {},
     "output_type": "execute_result"
    }
   ],
   "source": [
    "y[0].shape"
   ]
  },
  {
   "cell_type": "code",
   "execution_count": 71,
   "id": "55f59437",
   "metadata": {
    "scrolled": true
   },
   "outputs": [
    {
     "name": "stdout",
     "output_type": "stream",
     "text": [
      "0 /Users/peternolan/Documents/voxpop/notebooks/DUB/DUB_Tallaght_M_40.wav\n",
      "1 /Users/peternolan/Documents/voxpop/notebooks/DUB/DUB_Finglas_F_35.wav\n",
      "2 /Users/peternolan/Documents/voxpop/notebooks/DUB/DUB_MountMerrion_M_20.wav\n",
      "3 /Users/peternolan/Documents/voxpop/notebooks/DUB/DUB_Dunleary_M_30.wav\n",
      "4 /Users/peternolan/Documents/voxpop/notebooks/DUB/DUB_Terenure_F_20_(3).wav\n",
      "5 /Users/peternolan/Documents/voxpop/notebooks/DUB/DUB_Malahide_F_20.wav\n",
      "6 /Users/peternolan/Documents/voxpop/notebooks/DUB/DUB_Dalkey_F_20.wav\n",
      "7 /Users/peternolan/Documents/voxpop/notebooks/DUB/DUB_Rathfarnham_M_20_(2).wav\n",
      "8 /Users/peternolan/Documents/voxpop/notebooks/DUB/DUB_Blanchard_M_20_(4).wav\n",
      "9 /Users/peternolan/Documents/voxpop/notebooks/DUB/DUB_Tallaght_M_20_(3).wav\n",
      "10 /Users/peternolan/Documents/voxpop/notebooks/DUB/DUB_Dunleary_M_20_(2).wav\n",
      "11 /Users/peternolan/Documents/voxpop/notebooks/DUB/DUB_Clontarf_M_20_(3).wav\n",
      "12 /Users/peternolan/Documents/voxpop/notebooks/DUB/DUB_Monkstown_M_20.wav\n",
      "13 /Users/peternolan/Documents/voxpop/notebooks/DUB/DUB_Sutton_F_20.wav\n",
      "14 /Users/peternolan/Documents/voxpop/notebooks/DUB/DUB_Blackrock_F_20.wav\n",
      "15 /Users/peternolan/Documents/voxpop/notebooks/DUB/DUB_Dundrum_F_20.wav\n",
      "16 /Users/peternolan/Documents/voxpop/notebooks/DUB/DUB_Clontarf_M_20_(2).wav\n",
      "17 /Users/peternolan/Documents/voxpop/notebooks/DUB/DUB_Tallaght_M_20_(2).wav\n",
      "18 /Users/peternolan/Documents/voxpop/notebooks/DUB/DUB_Swords_F_35.wav\n",
      "19 /Users/peternolan/Documents/voxpop/notebooks/DUB/DUB_DeansGrange_F_20.wav\n",
      "20 /Users/peternolan/Documents/voxpop/notebooks/DUB/DUB_Rathmines_M_20.wav\n",
      "21 /Users/peternolan/Documents/voxpop/notebooks/DUB/DUB_Swords_M_15.wav\n",
      "22 /Users/peternolan/Documents/voxpop/notebooks/DUB/DUB_Killiney_M_20_(2).wav\n",
      "23 /Users/peternolan/Documents/voxpop/notebooks/DUB/DUB_Ballinteer_M_25.wav\n",
      "24 /Users/peternolan/Documents/voxpop/notebooks/DUB/DUB_Terenure_F_20_(2).wav\n",
      "25 /Users/peternolan/Documents/voxpop/notebooks/DUB/DUB_Dunleary_M_20.wav\n",
      "26 /Users/peternolan/Documents/voxpop/notebooks/DUB/DUB_Rathgar_F_20.wav\n",
      "27 /Users/peternolan/Documents/voxpop/notebooks/DUB/DUB_Rathfarnham_M_20.wav\n",
      "28 /Users/peternolan/Documents/voxpop/notebooks/DUB/DUB_Ranelagh_M_20.wav\n",
      "29 /Users/peternolan/Documents/voxpop/notebooks/DUB/DUB_Templeogue_F_20_(4).wav\n",
      "30 /Users/peternolan/Documents/voxpop/notebooks/DUB/DUB_Clonskea_M_20.wav\n",
      "31 /Users/peternolan/Documents/voxpop/notebooks/DUB/DUB_Goatstown_M_20.wav\n",
      "32 /Users/peternolan/Documents/voxpop/notebooks/DUB/DUB_Clonskea_F_20_(4).wav\n",
      "33 /Users/peternolan/Documents/voxpop/notebooks/DUB/DUB_Bray_F_20_(2).wav\n",
      "34 /Users/peternolan/Documents/voxpop/notebooks/DUB/DUB_Rush_M_20.wav\n",
      "35 /Users/peternolan/Documents/voxpop/notebooks/DUB/DUB_Castleknock_M_20.wav\n",
      "36 /Users/peternolan/Documents/voxpop/notebooks/DUB/DUB_Bray_F_35.wav\n",
      "37 /Users/peternolan/Documents/voxpop/notebooks/DUB/DUB_Swords_M_15_(2).wav\n",
      "38 /Users/peternolan/Documents/voxpop/notebooks/DUB/DUB_Sandymount_M_20.wav\n",
      "39 /Users/peternolan/Documents/voxpop/notebooks/DUB/DUB_Blanchard_M_20_(2).wav\n",
      "40 /Users/peternolan/Documents/voxpop/notebooks/DUB/DUB_Tallaght_M_20_(5).wav\n",
      "41 /Users/peternolan/Documents/voxpop/notebooks/DUB/DUB_Bray_F_20.wav\n",
      "42 /Users/peternolan/Documents/voxpop/notebooks/DUB/DUB_Clontarf_M_20.wav\n",
      "43 /Users/peternolan/Documents/voxpop/notebooks/DUB/DUB_Walkinstown_F_30.wav\n",
      "44 /Users/peternolan/Documents/voxpop/notebooks/DUB/DUB_Clonskea_F_20_(3).wav\n",
      "45 /Users/peternolan/Documents/voxpop/notebooks/DUB/DUB_Blanchard_F_20.wav\n",
      "46 /Users/peternolan/Documents/voxpop/notebooks/DUB/DUB_Shankhill_F_20_(2).wav\n",
      "47 /Users/peternolan/Documents/voxpop/notebooks/DUB/DUB_Artane_M_20.wav\n",
      "48 /Users/peternolan/Documents/voxpop/notebooks/DUB/DUB_Clondalkin_M_20.wav\n",
      "49 /Users/peternolan/Documents/voxpop/notebooks/DUB/DUB_Tallaght_M_20.wav\n",
      "50 /Users/peternolan/Documents/voxpop/notebooks/DUB/DUB_Ranelagh_M_20_(3).wav\n",
      "51 /Users/peternolan/Documents/voxpop/notebooks/DUB/DUB_Shankhill_M_20.wav\n",
      "52 /Users/peternolan/Documents/voxpop/notebooks/DUB/DUB_Malahide_F_20_(3).wav\n",
      "53 /Users/peternolan/Documents/voxpop/notebooks/DUB/DUB_Templeogue_F_20_(3).wav\n",
      "54 /Users/peternolan/Documents/voxpop/notebooks/DUB/DUB_Knocklyon_F_20.wav\n",
      "55 /Users/peternolan/Documents/voxpop/notebooks/DUB/DUB_Templeogue_F_20_(2).wav\n",
      "56 /Users/peternolan/Documents/voxpop/notebooks/DUB/DUB_Cabinteely_F_20.wav\n",
      "57 /Users/peternolan/Documents/voxpop/notebooks/DUB/DUB_Malahide_F_20_(2).wav\n",
      "58 /Users/peternolan/Documents/voxpop/notebooks/DUB/DUB_Ranelagh_M_20_(2).wav\n",
      "59 /Users/peternolan/Documents/voxpop/notebooks/DUB/DUB_Kimmage_F_20.wav\n",
      "60 /Users/peternolan/Documents/voxpop/notebooks/DUB/DUB_Sandyford_M_20_(2).wav\n",
      "61 /Users/peternolan/Documents/voxpop/notebooks/DUB/DUB_Shankhill_F_20_(3).wav\n",
      "62 /Users/peternolan/Documents/voxpop/notebooks/DUB/DUB_Templeogue_M_20.wav\n",
      "63 /Users/peternolan/Documents/voxpop/notebooks/DUB/DUB_Clonskea_F_20_(2).wav\n",
      "64 /Users/peternolan/Documents/voxpop/notebooks/DUB/DUB_Lucan_F_20.wav\n",
      "65 /Users/peternolan/Documents/voxpop/notebooks/DUB/DUB_Cabra_F_20.wav\n",
      "66 /Users/peternolan/Documents/voxpop/notebooks/DUB/DUB_Dundrum_F_40.wav\n",
      "67 /Users/peternolan/Documents/voxpop/notebooks/DUB/DUB_Tallaght_M_20_(4).wav\n",
      "68 /Users/peternolan/Documents/voxpop/notebooks/DUB/DUB_Blanchard_M_20_(3).wav\n",
      "69 /Users/peternolan/Documents/voxpop/notebooks/DUB/DUB_Raheny_F_20.wav\n",
      "70 /Users/peternolan/Documents/voxpop/notebooks/DUB/DUB_Portmarnock_M_20.wav\n",
      "71 /Users/peternolan/Documents/voxpop/notebooks/DUB/DUB_Sandyford_F_20.wav\n",
      "72 /Users/peternolan/Documents/voxpop/notebooks/DUB/DUB_Terenure_F_20.wav\n",
      "73 /Users/peternolan/Documents/voxpop/notebooks/DUB/DUB_Inchicore_F_20.wav\n",
      "74 /Users/peternolan/Documents/voxpop/notebooks/DUB/DUB_Terenure_F_20_(4).wav\n",
      "75 /Users/peternolan/Documents/voxpop/notebooks/DUB/DUB_HaroldsCross_M_20.wav\n",
      "76 /Users/peternolan/Documents/voxpop/notebooks/DUB/DUB_Dunleary_F_20_(4).wav\n",
      "77 /Users/peternolan/Documents/voxpop/notebooks/DUB/DUB_Tallaght_M_20_(7).wav\n",
      "78 /Users/peternolan/Documents/voxpop/notebooks/DUB/DUB_Blanchard_F_20_(2).wav\n",
      "79 /Users/peternolan/Documents/voxpop/notebooks/DUB/DUB_Terenure_M_30.wav\n",
      "80 /Users/peternolan/Documents/voxpop/notebooks/DUB/DUB_Rathmines_F_50.wav\n",
      "81 /Users/peternolan/Documents/voxpop/notebooks/DUB/DUB_EastWall_M_20.wav\n",
      "82 /Users/peternolan/Documents/voxpop/notebooks/DUB/DUB_Clontarf_F_20.wav\n",
      "83 /Users/peternolan/Documents/voxpop/notebooks/DUB/DUB_Swords_F_15_(2).wav\n",
      "84 /Users/peternolan/Documents/voxpop/notebooks/DUB/DUB_Lucan_M_20_(3).wav\n",
      "85 /Users/peternolan/Documents/voxpop/notebooks/DUB/DUB_Bray_M_20.wav\n",
      "86 /Users/peternolan/Documents/voxpop/notebooks/DUB/DUB_Howth_F_20.wav\n",
      "87 /Users/peternolan/Documents/voxpop/notebooks/DUB/DUB_Tallaght_F_20.wav\n",
      "88 /Users/peternolan/Documents/voxpop/notebooks/DUB/DUB_Blanchard_M_20.wav\n",
      "89 /Users/peternolan/Documents/voxpop/notebooks/DUB/DUB_Churchtown_F_20.wav\n",
      "90 /Users/peternolan/Documents/voxpop/notebooks/DUB/DUB_Kilmainham_M_20_(2).wav\n",
      "91 /Users/peternolan/Documents/voxpop/notebooks/DUB/DUB_Knocklyon_M_20.wav\n",
      "92 /Users/peternolan/Documents/voxpop/notebooks/DUB/DUB_Sandyford_F_20_(3).wav\n",
      "93 /Users/peternolan/Documents/voxpop/notebooks/DUB/DUB_Shankhill_F_20.wav\n",
      "94 /Users/peternolan/Documents/voxpop/notebooks/DUB/DUB_Bray_M_20_(4).wav\n",
      "95 /Users/peternolan/Documents/voxpop/notebooks/DUB/DUB_Cabinteely_M_20.wav\n",
      "96 /Users/peternolan/Documents/voxpop/notebooks/DUB/DUB_Sallynoggin_F_20.wav\n",
      "97 /Users/peternolan/Documents/voxpop/notebooks/DUB/DUB_Dundrum_M_20_(2).wav\n",
      "98 /Users/peternolan/Documents/voxpop/notebooks/DUB/DUB_Sandyford_F_20_(2).wav\n",
      "99 /Users/peternolan/Documents/voxpop/notebooks/DUB/DUB_Templeogue_F_20.wav\n",
      "100 /Users/peternolan/Documents/voxpop/notebooks/DUB/DUB_Templeogue_M_20_(2).wav\n",
      "101 /Users/peternolan/Documents/voxpop/notebooks/DUB/DUB_Donnybrook_F_50.wav\n",
      "102 /Users/peternolan/Documents/voxpop/notebooks/DUB/DUB_Knocklyon_F_30_(2).wav\n",
      "103 /Users/peternolan/Documents/voxpop/notebooks/DUB/DUB_Rathgar_F_20_(4).wav\n",
      "104 /Users/peternolan/Documents/voxpop/notebooks/DUB/DUB_Foxrock_M_20_(2).wav\n",
      "105 /Users/peternolan/Documents/voxpop/notebooks/DUB/DUB_Cabra_M_20.wav\n",
      "106 /Users/peternolan/Documents/voxpop/notebooks/DUB/DUB_Rathmines_M_20_(2).wav\n",
      "107 /Users/peternolan/Documents/voxpop/notebooks/DUB/DUB_Lucan_M_20.wav\n",
      "108 /Users/peternolan/Documents/voxpop/notebooks/DUB/DUB_Walkinstown_M_20.wav\n",
      "109 /Users/peternolan/Documents/voxpop/notebooks/DUB/DUB_Lucan_M_20_(2).wav\n",
      "110 /Users/peternolan/Documents/voxpop/notebooks/DUB/DUB_Blanchard_F_20_(3).wav\n",
      "111 /Users/peternolan/Documents/voxpop/notebooks/DUB/DUB_Terenure_M_20.wav\n",
      "112 /Users/peternolan/Documents/voxpop/notebooks/DUB/DUB_Tallaght_M_20_(6).wav\n",
      "113 /Users/peternolan/Documents/voxpop/notebooks/DUB/DUB_Whitehall_F_20.wav\n",
      "114 /Users/peternolan/Documents/voxpop/notebooks/DUB/DUB_Sandyford_M_20.wav\n",
      "115 /Users/peternolan/Documents/voxpop/notebooks/DUB/DUB_Portmarnock_F_20.wav\n",
      "116 /Users/peternolan/Documents/voxpop/notebooks/DUB/DUB_Crumlin_F_20.wav\n",
      "117 /Users/peternolan/Documents/voxpop/notebooks/DUB/DUB_MountMerrion_F_20.wav\n",
      "118 /Users/peternolan/Documents/voxpop/notebooks/DUB/DUB_Bray_M_20_(3).wav\n",
      "119 /Users/peternolan/Documents/voxpop/notebooks/DUB/DUB_Stillorgan_M_20.wav\n",
      "120 /Users/peternolan/Documents/voxpop/notebooks/DUB/DUB_Clontarf_F_20_(3).wav\n",
      "121 /Users/peternolan/Documents/voxpop/notebooks/DUB/DUB_Dalkey_M_20.wav\n",
      "122 /Users/peternolan/Documents/voxpop/notebooks/DUB/DUB_Dunleary_F_20_(2).wav\n",
      "123 /Users/peternolan/Documents/voxpop/notebooks/DUB/DUB_Blanchard_F_20_(4).wav\n",
      "124 /Users/peternolan/Documents/voxpop/notebooks/DUB/DUB_Castleknock_M_20_(2).wav\n",
      "125 /Users/peternolan/Documents/voxpop/notebooks/DUB/DUB_Ballinteer_F_20_(2).wav\n",
      "126 /Users/peternolan/Documents/voxpop/notebooks/DUB/DUB_Rathfarnham_F_20_(2).wav\n",
      "127 /Users/peternolan/Documents/voxpop/notebooks/DUB/DUB_Churchtown_F_20_(3).wav\n",
      "128 /Users/peternolan/Documents/voxpop/notebooks/DUB/DUB_Malahide_M_20.wav\n",
      "129 /Users/peternolan/Documents/voxpop/notebooks/DUB/DUB_Artane_M_20_(2).wav\n",
      "130 /Users/peternolan/Documents/voxpop/notebooks/DUB/DUB_Monkstown_F_20.wav\n",
      "131 /Users/peternolan/Documents/voxpop/notebooks/DUB/DUB_Ballinteer_F_20.wav\n",
      "132 /Users/peternolan/Documents/voxpop/notebooks/DUB/DUB_Landsdowne_F_20.wav\n",
      "133 /Users/peternolan/Documents/voxpop/notebooks/DUB/DUB_Rathgar_F_20_(3).wav\n",
      "134 /Users/peternolan/Documents/voxpop/notebooks/DUB/DUB_Cabinteely_F_20_(2).wav\n",
      "135 /Users/peternolan/Documents/voxpop/notebooks/DUB/DUB_Donnybrook_F_20.wav\n",
      "136 /Users/peternolan/Documents/voxpop/notebooks/DUB/DUB_Terenure_M_20_(2).wav\n",
      "137 /Users/peternolan/Documents/voxpop/notebooks/DUB/DUB_Cabinteely_F_20_(3).wav\n",
      "138 /Users/peternolan/Documents/voxpop/notebooks/DUB/DUB_Rathgar_F_20_(2).wav\n",
      "139 /Users/peternolan/Documents/voxpop/notebooks/DUB/DUB_Dundrum_M_20.wav\n",
      "140 /Users/peternolan/Documents/voxpop/notebooks/DUB/DUB_Monkstown_F_30.wav\n",
      "141 /Users/peternolan/Documents/voxpop/notebooks/DUB/DUB_Ringsend_M_45.wav\n",
      "142 /Users/peternolan/Documents/voxpop/notebooks/DUB/DUB_Sutton_M_20.wav\n",
      "143 /Users/peternolan/Documents/voxpop/notebooks/DUB/DUB_Artane_M_20_(3).wav\n",
      "144 /Users/peternolan/Documents/voxpop/notebooks/DUB/DUB_Swords_F_15.wav\n",
      "145 /Users/peternolan/Documents/voxpop/notebooks/DUB/DUB_Castleknock_M_20_(3).wav\n",
      "146 /Users/peternolan/Documents/voxpop/notebooks/DUB/DUB_Ballinteer_F_20_(3).wav\n",
      "147 /Users/peternolan/Documents/voxpop/notebooks/DUB/DUB_Churchtown_F_20_(2).wav\n",
      "148 /Users/peternolan/Documents/voxpop/notebooks/DUB/DUB_Rathfarnham_F_20_(3).wav\n",
      "149 /Users/peternolan/Documents/voxpop/notebooks/DUB/DUB_Blanchard_F_20_(5).wav\n",
      "150 /Users/peternolan/Documents/voxpop/notebooks/DUB/DUB_Foxrock_M_20.wav\n",
      "151 /Users/peternolan/Documents/voxpop/notebooks/DUB/DUB_Tallaght_F_20_(2).wav\n",
      "152 /Users/peternolan/Documents/voxpop/notebooks/DUB/DUB_Dunleary_F_20_(3).wav\n",
      "153 /Users/peternolan/Documents/voxpop/notebooks/DUB/DUB_Kilbarrack_M_25.wav\n",
      "154 /Users/peternolan/Documents/voxpop/notebooks/DUB/DUB_Clontarf_F_20_(2).wav\n",
      "155 /Users/peternolan/Documents/voxpop/notebooks/DUB/DUB_DeansGrange_M_20.wav\n",
      "156 /Users/peternolan/Documents/voxpop/notebooks/DUB/DUB_Bray_M_20_(2).wav\n",
      "157 /Users/peternolan/Documents/voxpop/notebooks/DUB/DUB_Killiney_M_20.wav\n",
      "158 /Users/peternolan/Documents/voxpop/notebooks/DUB/DUB_Clonskea_F_20.wav\n",
      "159 /Users/peternolan/Documents/voxpop/notebooks/DUB/DUB_Beaumont_M_35.wav\n",
      "160 /Users/peternolan/Documents/voxpop/notebooks/DUB/DUB_Finglas_M_25.wav\n",
      "161 /Users/peternolan/Documents/voxpop/notebooks/DUB/DUB_Dunleary_F_20.wav\n",
      "162 /Users/peternolan/Documents/voxpop/notebooks/DUB/DUB_Rathfarnham_F_20.wav\n",
      "163 /Users/peternolan/Documents/voxpop/notebooks/DUB/DUB_Ranelagh_F_20.wav\n",
      "164 /Users/peternolan/Documents/voxpop/notebooks/DUB/DUB_Castleknock_F_20.wav\n",
      "165 /Users/peternolan/Documents/voxpop/notebooks/DUB/DUB_Goatstown_F_20.wav\n",
      "166 /Users/peternolan/Documents/voxpop/notebooks/DUB/DUB_Rush_M_15.wav\n"
     ]
    }
   ],
   "source": [
    "for i in range(0,len(filenames)):\n",
    "    print(str(i)+\" \"+filenames[i])\n",
    "    #print(y[i][0])\n",
    "   #IPython.display.display(Audio(data=y[i], rate=sr[i]))"
   ]
  },
  {
   "cell_type": "code",
   "execution_count": 72,
   "id": "5e2e6141",
   "metadata": {},
   "outputs": [
    {
     "data": {
      "text/plain": [
       "'h=0\\nfor i,j,k in zip(filenames,y,sr):\\n    print(str(h)+i)\\n    IPython.display.display(Audio(data=i, rate=j))\\n    h+=1\\n'"
      ]
     },
     "execution_count": 72,
     "metadata": {},
     "output_type": "execute_result"
    }
   ],
   "source": [
    "'''h=0\n",
    "for i,j,k in zip(filenames,y,sr):\n",
    "    print(str(h)+i)\n",
    "    IPython.display.display(Audio(data=i, rate=j))\n",
    "    h+=1\n",
    "'''"
   ]
  },
  {
   "cell_type": "code",
   "execution_count": 73,
   "id": "871fdfb1",
   "metadata": {
    "scrolled": true
   },
   "outputs": [
    {
     "name": "stdout",
     "output_type": "stream",
     "text": [
      "0 OK: /Users/peternolan/Documents/voxpop/notebooks/DUB/DUB_Tallaght_M_40\n",
      "1 OK: /Users/peternolan/Documents/voxpop/notebooks/DUB/DUB_Finglas_F_35\n",
      "2 OK: /Users/peternolan/Documents/voxpop/notebooks/DUB/DUB_MountMerrion_M_20\n",
      "3 OK: /Users/peternolan/Documents/voxpop/notebooks/DUB/DUB_Dunleary_M_30\n",
      "4 OK: /Users/peternolan/Documents/voxpop/notebooks/DUB/DUB_Terenure_F_20_(3)\n",
      "5 OK: /Users/peternolan/Documents/voxpop/notebooks/DUB/DUB_Malahide_F_20\n",
      "6 OK: /Users/peternolan/Documents/voxpop/notebooks/DUB/DUB_Dalkey_F_20\n",
      "7 OK: /Users/peternolan/Documents/voxpop/notebooks/DUB/DUB_Rathfarnham_M_20_(2)\n",
      "8 OK: /Users/peternolan/Documents/voxpop/notebooks/DUB/DUB_Blanchard_M_20_(4)\n",
      "9 OK: /Users/peternolan/Documents/voxpop/notebooks/DUB/DUB_Tallaght_M_20_(3)\n",
      "10 OK: /Users/peternolan/Documents/voxpop/notebooks/DUB/DUB_Dunleary_M_20_(2)\n",
      "11 OK: /Users/peternolan/Documents/voxpop/notebooks/DUB/DUB_Clontarf_M_20_(3)\n",
      "12 OK: /Users/peternolan/Documents/voxpop/notebooks/DUB/DUB_Monkstown_M_20\n",
      "13 OK: /Users/peternolan/Documents/voxpop/notebooks/DUB/DUB_Sutton_F_20\n",
      "14 OK: /Users/peternolan/Documents/voxpop/notebooks/DUB/DUB_Blackrock_F_20\n",
      "15 OK: /Users/peternolan/Documents/voxpop/notebooks/DUB/DUB_Dundrum_F_20\n",
      "16 OK: /Users/peternolan/Documents/voxpop/notebooks/DUB/DUB_Clontarf_M_20_(2)\n",
      "17 OK: /Users/peternolan/Documents/voxpop/notebooks/DUB/DUB_Tallaght_M_20_(2)\n",
      "18 OK: /Users/peternolan/Documents/voxpop/notebooks/DUB/DUB_Swords_F_35\n",
      "19 OK: /Users/peternolan/Documents/voxpop/notebooks/DUB/DUB_DeansGrange_F_20\n",
      "20 OK: /Users/peternolan/Documents/voxpop/notebooks/DUB/DUB_Rathmines_M_20\n",
      "21 OK: /Users/peternolan/Documents/voxpop/notebooks/DUB/DUB_Swords_M_15\n",
      "22 OK: /Users/peternolan/Documents/voxpop/notebooks/DUB/DUB_Killiney_M_20_(2)\n",
      "23 OK: /Users/peternolan/Documents/voxpop/notebooks/DUB/DUB_Ballinteer_M_25\n",
      "24 OK: /Users/peternolan/Documents/voxpop/notebooks/DUB/DUB_Terenure_F_20_(2)\n",
      "25 OK: /Users/peternolan/Documents/voxpop/notebooks/DUB/DUB_Dunleary_M_20\n",
      "26 OK: /Users/peternolan/Documents/voxpop/notebooks/DUB/DUB_Rathgar_F_20\n",
      "27 OK: /Users/peternolan/Documents/voxpop/notebooks/DUB/DUB_Rathfarnham_M_20\n",
      "28 OK: /Users/peternolan/Documents/voxpop/notebooks/DUB/DUB_Ranelagh_M_20\n",
      "29 OK: /Users/peternolan/Documents/voxpop/notebooks/DUB/DUB_Templeogue_F_20_(4)\n",
      "30 OK: /Users/peternolan/Documents/voxpop/notebooks/DUB/DUB_Clonskea_M_20\n",
      "31 OK: /Users/peternolan/Documents/voxpop/notebooks/DUB/DUB_Goatstown_M_20\n",
      "32 OK: /Users/peternolan/Documents/voxpop/notebooks/DUB/DUB_Clonskea_F_20_(4)\n",
      "33 OK: /Users/peternolan/Documents/voxpop/notebooks/DUB/DUB_Bray_F_20_(2)\n",
      "34 OK: /Users/peternolan/Documents/voxpop/notebooks/DUB/DUB_Rush_M_20\n",
      "35 OK: /Users/peternolan/Documents/voxpop/notebooks/DUB/DUB_Castleknock_M_20\n",
      "36 OK: /Users/peternolan/Documents/voxpop/notebooks/DUB/DUB_Bray_F_35\n",
      "37 OK: /Users/peternolan/Documents/voxpop/notebooks/DUB/DUB_Swords_M_15_(2)\n",
      "38 OK: /Users/peternolan/Documents/voxpop/notebooks/DUB/DUB_Sandymount_M_20\n",
      "39 OK: /Users/peternolan/Documents/voxpop/notebooks/DUB/DUB_Blanchard_M_20_(2)\n",
      "40 OK: /Users/peternolan/Documents/voxpop/notebooks/DUB/DUB_Tallaght_M_20_(5)\n",
      "41 OK: /Users/peternolan/Documents/voxpop/notebooks/DUB/DUB_Bray_F_20\n",
      "42 OK: /Users/peternolan/Documents/voxpop/notebooks/DUB/DUB_Clontarf_M_20\n",
      "43 OK: /Users/peternolan/Documents/voxpop/notebooks/DUB/DUB_Walkinstown_F_30\n",
      "44 OK: /Users/peternolan/Documents/voxpop/notebooks/DUB/DUB_Clonskea_F_20_(3)\n",
      "45 OK: /Users/peternolan/Documents/voxpop/notebooks/DUB/DUB_Blanchard_F_20\n",
      "46 OK: /Users/peternolan/Documents/voxpop/notebooks/DUB/DUB_Shankhill_F_20_(2)\n",
      "47 OK: /Users/peternolan/Documents/voxpop/notebooks/DUB/DUB_Artane_M_20\n",
      "48 OK: /Users/peternolan/Documents/voxpop/notebooks/DUB/DUB_Clondalkin_M_20\n",
      "49 OK: /Users/peternolan/Documents/voxpop/notebooks/DUB/DUB_Tallaght_M_20\n",
      "50 OK: /Users/peternolan/Documents/voxpop/notebooks/DUB/DUB_Ranelagh_M_20_(3)\n",
      "51 OK: /Users/peternolan/Documents/voxpop/notebooks/DUB/DUB_Shankhill_M_20\n",
      "52 OK: /Users/peternolan/Documents/voxpop/notebooks/DUB/DUB_Malahide_F_20_(3)\n",
      "53 OK: /Users/peternolan/Documents/voxpop/notebooks/DUB/DUB_Templeogue_F_20_(3)\n",
      "54 OK: /Users/peternolan/Documents/voxpop/notebooks/DUB/DUB_Knocklyon_F_20\n",
      "55 OK: /Users/peternolan/Documents/voxpop/notebooks/DUB/DUB_Templeogue_F_20_(2)\n",
      "56 OK: /Users/peternolan/Documents/voxpop/notebooks/DUB/DUB_Cabinteely_F_20\n",
      "57 OK: /Users/peternolan/Documents/voxpop/notebooks/DUB/DUB_Malahide_F_20_(2)\n",
      "58 OK: /Users/peternolan/Documents/voxpop/notebooks/DUB/DUB_Ranelagh_M_20_(2)\n",
      "59 OK: /Users/peternolan/Documents/voxpop/notebooks/DUB/DUB_Kimmage_F_20\n",
      "60 OK: /Users/peternolan/Documents/voxpop/notebooks/DUB/DUB_Sandyford_M_20_(2)\n",
      "61 OK: /Users/peternolan/Documents/voxpop/notebooks/DUB/DUB_Shankhill_F_20_(3)\n",
      "62 OK: /Users/peternolan/Documents/voxpop/notebooks/DUB/DUB_Templeogue_M_20\n",
      "63 OK: /Users/peternolan/Documents/voxpop/notebooks/DUB/DUB_Clonskea_F_20_(2)\n",
      "64 OK: /Users/peternolan/Documents/voxpop/notebooks/DUB/DUB_Lucan_F_20\n",
      "65 OK: /Users/peternolan/Documents/voxpop/notebooks/DUB/DUB_Cabra_F_20\n",
      "66 OK: /Users/peternolan/Documents/voxpop/notebooks/DUB/DUB_Dundrum_F_40\n",
      "67 OK: /Users/peternolan/Documents/voxpop/notebooks/DUB/DUB_Tallaght_M_20_(4)\n",
      "68 OK: /Users/peternolan/Documents/voxpop/notebooks/DUB/DUB_Blanchard_M_20_(3)\n",
      "69 OK: /Users/peternolan/Documents/voxpop/notebooks/DUB/DUB_Raheny_F_20\n",
      "70 OK: /Users/peternolan/Documents/voxpop/notebooks/DUB/DUB_Portmarnock_M_20\n",
      "71 OK: /Users/peternolan/Documents/voxpop/notebooks/DUB/DUB_Sandyford_F_20\n",
      "72 OK: /Users/peternolan/Documents/voxpop/notebooks/DUB/DUB_Terenure_F_20\n",
      "73 OK: /Users/peternolan/Documents/voxpop/notebooks/DUB/DUB_Inchicore_F_20\n",
      "74 OK: /Users/peternolan/Documents/voxpop/notebooks/DUB/DUB_Terenure_F_20_(4)\n",
      "75 OK: /Users/peternolan/Documents/voxpop/notebooks/DUB/DUB_HaroldsCross_M_20\n",
      "76 OK: /Users/peternolan/Documents/voxpop/notebooks/DUB/DUB_Dunleary_F_20_(4)\n",
      "77 OK: /Users/peternolan/Documents/voxpop/notebooks/DUB/DUB_Tallaght_M_20_(7)\n",
      "78 OK: /Users/peternolan/Documents/voxpop/notebooks/DUB/DUB_Blanchard_F_20_(2)\n",
      "79 OK: /Users/peternolan/Documents/voxpop/notebooks/DUB/DUB_Terenure_M_30\n",
      "80 OK: /Users/peternolan/Documents/voxpop/notebooks/DUB/DUB_Rathmines_F_50\n",
      "81 OK: /Users/peternolan/Documents/voxpop/notebooks/DUB/DUB_EastWall_M_20\n",
      "82 OK: /Users/peternolan/Documents/voxpop/notebooks/DUB/DUB_Clontarf_F_20\n",
      "83 OK: /Users/peternolan/Documents/voxpop/notebooks/DUB/DUB_Swords_F_15_(2)\n",
      "84 OK: /Users/peternolan/Documents/voxpop/notebooks/DUB/DUB_Lucan_M_20_(3)\n",
      "85 OK: /Users/peternolan/Documents/voxpop/notebooks/DUB/DUB_Bray_M_20\n",
      "86 OK: /Users/peternolan/Documents/voxpop/notebooks/DUB/DUB_Howth_F_20\n",
      "87 OK: /Users/peternolan/Documents/voxpop/notebooks/DUB/DUB_Tallaght_F_20\n",
      "88 OK: /Users/peternolan/Documents/voxpop/notebooks/DUB/DUB_Blanchard_M_20\n",
      "89 OK: /Users/peternolan/Documents/voxpop/notebooks/DUB/DUB_Churchtown_F_20\n",
      "90 OK: /Users/peternolan/Documents/voxpop/notebooks/DUB/DUB_Kilmainham_M_20_(2)\n",
      "91 OK: /Users/peternolan/Documents/voxpop/notebooks/DUB/DUB_Knocklyon_M_20\n",
      "92 OK: /Users/peternolan/Documents/voxpop/notebooks/DUB/DUB_Sandyford_F_20_(3)\n",
      "93 OK: /Users/peternolan/Documents/voxpop/notebooks/DUB/DUB_Shankhill_F_20\n",
      "94 OK: /Users/peternolan/Documents/voxpop/notebooks/DUB/DUB_Bray_M_20_(4)\n",
      "95 OK: /Users/peternolan/Documents/voxpop/notebooks/DUB/DUB_Cabinteely_M_20\n",
      "96 OK: /Users/peternolan/Documents/voxpop/notebooks/DUB/DUB_Sallynoggin_F_20\n",
      "97 OK: /Users/peternolan/Documents/voxpop/notebooks/DUB/DUB_Dundrum_M_20_(2)\n",
      "98 OK: /Users/peternolan/Documents/voxpop/notebooks/DUB/DUB_Sandyford_F_20_(2)\n",
      "99 OK: /Users/peternolan/Documents/voxpop/notebooks/DUB/DUB_Templeogue_F_20\n",
      "100 OK: /Users/peternolan/Documents/voxpop/notebooks/DUB/DUB_Templeogue_M_20_(2)\n",
      "101 OK: /Users/peternolan/Documents/voxpop/notebooks/DUB/DUB_Donnybrook_F_50\n",
      "102 OK: /Users/peternolan/Documents/voxpop/notebooks/DUB/DUB_Knocklyon_F_30_(2)\n",
      "103 OK: /Users/peternolan/Documents/voxpop/notebooks/DUB/DUB_Rathgar_F_20_(4)\n",
      "104 OK: /Users/peternolan/Documents/voxpop/notebooks/DUB/DUB_Foxrock_M_20_(2)\n",
      "105 OK: /Users/peternolan/Documents/voxpop/notebooks/DUB/DUB_Cabra_M_20\n",
      "106 OK: /Users/peternolan/Documents/voxpop/notebooks/DUB/DUB_Rathmines_M_20_(2)\n",
      "107 OK: /Users/peternolan/Documents/voxpop/notebooks/DUB/DUB_Lucan_M_20\n",
      "108 OK: /Users/peternolan/Documents/voxpop/notebooks/DUB/DUB_Walkinstown_M_20\n",
      "109 OK: /Users/peternolan/Documents/voxpop/notebooks/DUB/DUB_Lucan_M_20_(2)\n",
      "110 OK: /Users/peternolan/Documents/voxpop/notebooks/DUB/DUB_Blanchard_F_20_(3)\n",
      "111 OK: /Users/peternolan/Documents/voxpop/notebooks/DUB/DUB_Terenure_M_20\n",
      "112 OK: /Users/peternolan/Documents/voxpop/notebooks/DUB/DUB_Tallaght_M_20_(6)\n",
      "113 OK: /Users/peternolan/Documents/voxpop/notebooks/DUB/DUB_Whitehall_F_20\n",
      "114 OK: /Users/peternolan/Documents/voxpop/notebooks/DUB/DUB_Sandyford_M_20\n",
      "115 OK: /Users/peternolan/Documents/voxpop/notebooks/DUB/DUB_Portmarnock_F_20\n",
      "116 OK: /Users/peternolan/Documents/voxpop/notebooks/DUB/DUB_Crumlin_F_20\n",
      "117 OK: /Users/peternolan/Documents/voxpop/notebooks/DUB/DUB_MountMerrion_F_20\n",
      "118 OK: /Users/peternolan/Documents/voxpop/notebooks/DUB/DUB_Bray_M_20_(3)\n",
      "119 OK: /Users/peternolan/Documents/voxpop/notebooks/DUB/DUB_Stillorgan_M_20\n",
      "120 OK: /Users/peternolan/Documents/voxpop/notebooks/DUB/DUB_Clontarf_F_20_(3)\n",
      "121 OK: /Users/peternolan/Documents/voxpop/notebooks/DUB/DUB_Dalkey_M_20\n",
      "122 OK: /Users/peternolan/Documents/voxpop/notebooks/DUB/DUB_Dunleary_F_20_(2)\n",
      "123 OK: /Users/peternolan/Documents/voxpop/notebooks/DUB/DUB_Blanchard_F_20_(4)\n",
      "124 OK: /Users/peternolan/Documents/voxpop/notebooks/DUB/DUB_Castleknock_M_20_(2)\n",
      "125 OK: /Users/peternolan/Documents/voxpop/notebooks/DUB/DUB_Ballinteer_F_20_(2)\n",
      "126 OK: /Users/peternolan/Documents/voxpop/notebooks/DUB/DUB_Rathfarnham_F_20_(2)\n",
      "127 OK: /Users/peternolan/Documents/voxpop/notebooks/DUB/DUB_Churchtown_F_20_(3)\n",
      "128 OK: /Users/peternolan/Documents/voxpop/notebooks/DUB/DUB_Malahide_M_20\n",
      "129 OK: /Users/peternolan/Documents/voxpop/notebooks/DUB/DUB_Artane_M_20_(2)\n",
      "130 OK: /Users/peternolan/Documents/voxpop/notebooks/DUB/DUB_Monkstown_F_20\n",
      "131 OK: /Users/peternolan/Documents/voxpop/notebooks/DUB/DUB_Ballinteer_F_20\n",
      "132 OK: /Users/peternolan/Documents/voxpop/notebooks/DUB/DUB_Landsdowne_F_20\n",
      "133 OK: /Users/peternolan/Documents/voxpop/notebooks/DUB/DUB_Rathgar_F_20_(3)\n",
      "134 OK: /Users/peternolan/Documents/voxpop/notebooks/DUB/DUB_Cabinteely_F_20_(2)\n",
      "135 OK: /Users/peternolan/Documents/voxpop/notebooks/DUB/DUB_Donnybrook_F_20\n",
      "136 OK: /Users/peternolan/Documents/voxpop/notebooks/DUB/DUB_Terenure_M_20_(2)\n",
      "137 OK: /Users/peternolan/Documents/voxpop/notebooks/DUB/DUB_Cabinteely_F_20_(3)\n",
      "138 OK: /Users/peternolan/Documents/voxpop/notebooks/DUB/DUB_Rathgar_F_20_(2)\n",
      "139 OK: /Users/peternolan/Documents/voxpop/notebooks/DUB/DUB_Dundrum_M_20\n",
      "140 OK: /Users/peternolan/Documents/voxpop/notebooks/DUB/DUB_Monkstown_F_30\n",
      "141 OK: /Users/peternolan/Documents/voxpop/notebooks/DUB/DUB_Ringsend_M_45\n",
      "142 OK: /Users/peternolan/Documents/voxpop/notebooks/DUB/DUB_Sutton_M_20\n",
      "143 OK: /Users/peternolan/Documents/voxpop/notebooks/DUB/DUB_Artane_M_20_(3)\n",
      "144 OK: /Users/peternolan/Documents/voxpop/notebooks/DUB/DUB_Swords_F_15\n",
      "145 OK: /Users/peternolan/Documents/voxpop/notebooks/DUB/DUB_Castleknock_M_20_(3)\n",
      "146 OK: /Users/peternolan/Documents/voxpop/notebooks/DUB/DUB_Ballinteer_F_20_(3)\n",
      "147 OK: /Users/peternolan/Documents/voxpop/notebooks/DUB/DUB_Churchtown_F_20_(2)\n",
      "148 OK: /Users/peternolan/Documents/voxpop/notebooks/DUB/DUB_Rathfarnham_F_20_(3)\n",
      "149 OK: /Users/peternolan/Documents/voxpop/notebooks/DUB/DUB_Blanchard_F_20_(5)\n",
      "150 OK: /Users/peternolan/Documents/voxpop/notebooks/DUB/DUB_Foxrock_M_20\n",
      "151 OK: /Users/peternolan/Documents/voxpop/notebooks/DUB/DUB_Tallaght_F_20_(2)\n",
      "152 OK: /Users/peternolan/Documents/voxpop/notebooks/DUB/DUB_Dunleary_F_20_(3)\n",
      "153 OK: /Users/peternolan/Documents/voxpop/notebooks/DUB/DUB_Kilbarrack_M_25\n",
      "154 OK: /Users/peternolan/Documents/voxpop/notebooks/DUB/DUB_Clontarf_F_20_(2)\n",
      "155 OK: /Users/peternolan/Documents/voxpop/notebooks/DUB/DUB_DeansGrange_M_20\n",
      "156 OK: /Users/peternolan/Documents/voxpop/notebooks/DUB/DUB_Bray_M_20_(2)\n",
      "157 OK: /Users/peternolan/Documents/voxpop/notebooks/DUB/DUB_Killiney_M_20\n",
      "158 OK: /Users/peternolan/Documents/voxpop/notebooks/DUB/DUB_Clonskea_F_20\n",
      "159 OK: /Users/peternolan/Documents/voxpop/notebooks/DUB/DUB_Beaumont_M_35\n",
      "160 OK: /Users/peternolan/Documents/voxpop/notebooks/DUB/DUB_Finglas_M_25\n",
      "161 OK: /Users/peternolan/Documents/voxpop/notebooks/DUB/DUB_Dunleary_F_20\n",
      "162 OK: /Users/peternolan/Documents/voxpop/notebooks/DUB/DUB_Rathfarnham_F_20\n",
      "163 OK: /Users/peternolan/Documents/voxpop/notebooks/DUB/DUB_Ranelagh_F_20\n",
      "164 OK: /Users/peternolan/Documents/voxpop/notebooks/DUB/DUB_Castleknock_F_20\n",
      "165 OK: /Users/peternolan/Documents/voxpop/notebooks/DUB/DUB_Goatstown_F_20\n",
      "166 OK: /Users/peternolan/Documents/voxpop/notebooks/DUB/DUB_Rush_M_15\n"
     ]
    }
   ],
   "source": [
    "#Check filens are all successfully converted to WAV\n",
    "h=-1\n",
    "for i,j,k in zip(y,sr,names):\n",
    "    h+=1\n",
    "    if len(i)==0: \n",
    "        print(\"Broken: \"+str(k))\n",
    "    else:\n",
    "        print(str(h)+\" OK: \"+str(k))\n",
    "        continue"
   ]
  },
  {
   "cell_type": "code",
   "execution_count": 74,
   "id": "40333001-e9a3-4c93-b653-d127bca55b2c",
   "metadata": {},
   "outputs": [],
   "source": [
    "samples=[]"
   ]
  },
  {
   "cell_type": "code",
   "execution_count": 75,
   "id": "fd4050ae-bde7-4b4b-a6b9-5c27005ca235",
   "metadata": {},
   "outputs": [
    {
     "data": {
      "text/plain": [
       "167"
      ]
     },
     "execution_count": 75,
     "metadata": {},
     "output_type": "execute_result"
    }
   ],
   "source": [
    "len(y)"
   ]
  },
  {
   "cell_type": "code",
   "execution_count": 76,
   "id": "dbb2019b-5612-45c4-bd0d-c3f2c4cf9848",
   "metadata": {},
   "outputs": [],
   "source": [
    "# Create samples from each recording file\n",
    "h=0\n",
    "for j in y:\n",
    "  \n",
    "    num_samples=math.floor(len(j)/(sr[h]*SAMPLE_LENGTH))\n",
    "    #print(h,names[h])\n",
    "    sample=[]\n",
    "    \n",
    "    for i in range(0,num_samples):\n",
    "        sample_start=i*sr[0]*SAMPLE_LENGTH\n",
    "        sample_end=(i+1)*sr[0]*SAMPLE_LENGTH \n",
    "        sample.append(j[sample_start:sample_end])\n",
    "        \n",
    "        #if len(sample.size==0: \n",
    "        #    sample=new_sample\n",
    "        #else: \n",
    "        #    sample=np.append(sample,[new_sample],axis=0)\n",
    "        #print(i,sample_start/sr[h],sample_end/sr[h])\n",
    "    h+=1\n",
    "    samples.append(sample)\n"
   ]
  },
  {
   "cell_type": "code",
   "execution_count": 77,
   "id": "0eb30e83-83b7-40ad-8f93-10269d48d530",
   "metadata": {},
   "outputs": [
    {
     "data": {
      "text/plain": [
       "167"
      ]
     },
     "execution_count": 77,
     "metadata": {},
     "output_type": "execute_result"
    }
   ],
   "source": [
    "len(samples)"
   ]
  },
  {
   "cell_type": "code",
   "execution_count": 78,
   "id": "93f5635f-8f17-4e3f-96fd-7168dcb8eaee",
   "metadata": {},
   "outputs": [
    {
     "data": {
      "text/plain": [
       "(22050,)"
      ]
     },
     "execution_count": 78,
     "metadata": {},
     "output_type": "execute_result"
    }
   ],
   "source": [
    "samples[0][0].shape"
   ]
  },
  {
   "cell_type": "code",
   "execution_count": 79,
   "id": "fe0ab7b3-d8a9-4d0f-b925-19f647f48229",
   "metadata": {},
   "outputs": [
    {
     "data": {
      "text/plain": [
       "<librosa.display.AdaptiveWaveplot at 0x7fccec6d7430>"
      ]
     },
     "execution_count": 79,
     "metadata": {},
     "output_type": "execute_result"
    },
    {
     "data": {
      "image/png": "[encoded data removed]",
      "text/plain": [
       "<Figure size 1500x500 with 1 Axes>"
      ]
     },
     "metadata": {},
     "output_type": "display_data"
    }
   ],
   "source": [
    "plt.figure(figsize=(15, 5))\n",
    "librosa.display.waveshow(y=samples[0][0], sr=sr[0], label=names[0],color='b')"
   ]
  },
  {
   "cell_type": "code",
   "execution_count": 80,
   "id": "185d5c34-aa4e-4af9-a984-d1211bfaafc7",
   "metadata": {},
   "outputs": [
    {
     "data": {
      "text/plain": [
       "<librosa.display.AdaptiveWaveplot at 0x7fcc5102ec70>"
      ]
     },
     "execution_count": 80,
     "metadata": {},
     "output_type": "execute_result"
    },
    {
     "data": {
      "image/png": "[encoded data removed]",
      "text/plain": [
       "<Figure size 1500x500 with 1 Axes>"
      ]
     },
     "metadata": {},
     "output_type": "display_data"
    }
   ],
   "source": [
    "plt.figure(figsize=(15, 5))\n",
    "librosa.display.waveshow(y=y[0][0:22050], sr=sr[0], label=names[0],color='b')"
   ]
  },
  {
   "cell_type": "code",
   "execution_count": 81,
   "id": "ac37eb94-ad56-4c0b-9429-1a1f6c1e2b7a",
   "metadata": {},
   "outputs": [
    {
     "name": "stdout",
     "output_type": "stream",
     "text": [
      "/Users/peternolan/Documents/voxpop/notebooks/DUB/DUB_Tallaght_M_40\n"
     ]
    },
    {
     "data": {
      "text/html": [
       "\n",
       "                <audio  controls=\"controls\" >\n",
       "                    <source src=\"data:audio/wav;base64,UklGRmisAABXQVZFZm10IBAAAAABAAEAIlYAAESsAAACABAAZGF0YUSsAAAAAAAAAAAAAAAAAAAAAAAAAAAAAAAAAAAAAAAAAAAAAAAAAAAAAAAAAAAAAAAAAAAAAAAAAAAAAAAAAAAAAAAAAAAAAAAAAAAAAAAAAAAAAAAAAAAAAAAAAAAAAAAAAAAAAAAAAAAAAAAAAAAAAAAAAAAAAAAAAAAAAAAAAAAAAAAAAAAAAAAAAAAAAAAAAAAAAAAAAAAAAAAAAAAAAAAAAAAAAAAAAAAAAAAAAAAAAAAAAAAAAAAAAAAAAAAAAAAAAAAAAAAAAAAAAAAAAAAAAAAAAAAAAAAAAAAAAAAAAAAAAAAAAAAAAAAAAAAAAAAAAAAAAAAAAAAAAAAAAAAAAAAAAAAAAAAAAAAAAAAAAAAAAAAAAAAAAAAAAAAAAAAAAAAAAAAAAAAAAAAAAAAAAAAAAAAAAAAAAAAAAAAAAAAAAAAAAAAAAAAAAAAAAAAAAAAAAAAAAAAAAAAAAAAAAAAAAAAAAAAAAAAAAAAAAAAAAAAAAAAAAAAAAAAAAAAAAAAAAAAAAAAAAAAAAAAAAAAAAAAAAAAAAAAAAAAAAAAAAAAAAAAAAAAAAAAAAAAAAAAAAAAAAAAAAAAAAAAAAAAAAAAAAAAAAAAAAAAAAAAAAAAAAAAAAAAAAAAAAAAAAAAAAAAAAAAAAAAAAAAAAAAAAAAAAAAAAAAAAAAAAAAAAAAAAAAAAAAAAAAAAAAAAAAAAAAAAAAAAAAAAAAAAAAAAAAAAAAAAAAAAAAAAAAAAAAAAAAAAAAAAAAAAAAAAAAAAAAAAAAAAAAAAAAAAAAAAAAAAAAAAAAAAAAAAAAAAAAAAAAAAAAAAAAAAAAAAAAAAAAAAAAAAAAAAAAAAAAAAAAAAAAAAAAAAAAAAAAAAAAAAAAAAAAAAAAAAAAAAAAAAAAAAAAAAAAAAAAAAAAAAAAAAAAAAAAAAAAAAAAAAAAAAAAAAAAAAAAAAAAAAAAAAAAAAAAAAAAAAAAAAAAAAAAAAAAAAAAAAAAAAAAAAAAAAAAAAAAAAAAAAAAAAAAAAAAAAAAAAAAAAAAAAAAAAAAAAAAAAAAAAAAAAAAAAAAAAAAAAAAAAAAAAAAAAAAAAAAAAAAAAAAAAAAAAAAAAAAAAAAAAAAAAAAAAAAAAAAAAAAAAAAAAAAAAAAAAAAAAAAAAAAAAAAAAAAAAAAAAAAAAAAAAAAAAAAAAAAAAAAAAAAAAAAAAAAAAAAAAAAAAAAAAAAAAAAAAAAAAAAAAAAAAAAAAAAAAAAAAAAAAAAAAAAAAAAAAAAAAAAAAAAAAAAAAAAAAAAAAAAAAAAAAAAAAAAAAP////////7//////wAAAAABAAIAAwAEAAQABAADAAIAAQAAAAAA/v/9//3//f/9//7//v////7////+//7//v///wAAAAACAAQABgAHAAcABwAFAAMAAwD+//v/+v/5//n/+f/7//z//v8AAAAAAgADAAIAAwADAAQABAAGAAYACAAIAAkACQAHAAUAAgD+//n/7v/w/wEA7v/r//f//f8CAAYACgAOABAADgAPAA0ADgALAA4ADAAHAAMACAAGAAIA+f/+//z//P/4/wMAAAADANL//f+MABkA+v8+AEMASgA5AC0AJQAPAOz/6//y//D/3//s/xEAFAAIAAEA/P/3//7/CAAHAPz/AgDy/+b/9//1/woAFQDb/87/BwAVACIAGQAVAAEACgAcABUAGwAEAAgA6/8MAPX/AAAIAAkAGwApADcA+f/q/+H/7v/3////4v8IALH/t//9/x8ADwDX/9f/2//b/w4AHAAnACoAFQDg/6z/+P8ZAC8ADQD+/+3/IgDf/wwA2P/6/7j/AQC3/2MAU/8gApYGZAI7Ak8DmgOCAzAD5QOUBIYDkAGzAcICcgE2/Rr6W/tx//QBygH//gb9PPwS+wX62/ux/+QB4QF/AMj+xPwS+sL4/Prw/4AEQgUCA54A6/3l+yX7e/sS/XT+cf+uAEcB0ADn/139IfpC+Oz4efpM/A7/XwHcAT8Agv2E+2X8tv4DAc4CYwT6BLcDFwMeA8kBdv++/Vv+dAE+BKIEMAMnAd7+avxl+mD6kvu0/EL+1v/HAj0FTwPz/mj9QP8xAY4CewTHBqkIFwjyBGwDsgMCA6gBFQIxBC4FjQPOAKL/lwDuAC/9B/g++EL8Df96AFcAm//S/r38u/qA+4r+EAK0BFUE5wHJ/xn+w/w4/TgAagNYBWwEoADe/f77cvo1+gv7UP1D//f/zwBXAV0Aqf6U/Bj6VPnl+ob+ewPyBZkExwHz/m78J/w5/1ICKASlBTYFEwOTARwBFQFfAOj9XPyg/ogC5gQuBJEBXP9W/Gz5YPnx+jv9sv+YASID7gKlACr+WP1Q/dP8rf2b/+EBQARABAQCKQC2/47/fv6S/Un/2QLVA5oBLv+a/or/e/5c/N78HP9BARoBNf82/m3+uv3a+yL8Kv9xAsQE8gRrA6UCQQEL/s38Vf8GBJcH8QbzAyoA//tx+E/3j/jH+jH+YwAtAAYAAAA4/0/8z/hv+Vv+CASQBhMGIgXuBJkDdAAi/sv/8QPuBr0HWgVeAkwBwgGFAgsBJv7x/ZsABgNyA3MCaQDv/fv6dfhb+Vz83/4t/47+BQCyAuMDaAKJAJn/0v56/loAgQN+BCQEcAP5AkkC9v+q/Rj/DAOtBSYF0AGA/yj/Xv4O/SH9Bf4e/oz8kfwY/c3+gQG+/xH8Qvs0/VD/8QAOAGz/OQGfAIT87Pp1/TkCdAXkArb+v/1J/nD9ZPuN+rT9gwEwA1IDiAK3AHb+gvwR+yj8mf9nAuoDYgQNA+wA3v9+/xv+jf0y/0ACjwRBA1j/D/0y/Vb9VfxT+139QwJyBdoESAItAEr+p/tU+kz8hP/UAb4CygGJARMDKgSLBIUEswILACn/FAGFBIIGXga+BbwEmQKQ/079SP6sAeoDZAPqANf+Tv8jARsBLv9W/YH8R/wi/bP+3/86AVMBmv4t/Jz9CAAFAVQA6v6l/n7+ufwf+wz8fv4GAeoAVv6W/NP7l/qP+i/9FwBiAeQAu/8V/zT/n/7G/B38Cf77APYC+QJLAfj/TABfAbsBzgCy/+r/MgE0AlYCLwI2Ap8BqP+M/Uz9fP+LAjYEFQQ/A7IBxP5v+yn6W/w7AAgCbAA6/sD+9wHZBOEEQwL5/sT8nfzE/mcCpwX0Bn0GdwUxBCcC3v8//yQBcQMhA1AAX/6D/+4BVQImAMT9/PxA/dD9f/+mAtQE/gIO/gD7MP0ZAm8EkALM/0D/yv+J/sL73/qV/RQBMQFH/a74wPbN9/j5vvvD/PT8Jfy3+sn5KPpu+6L8pP1D/9ABFwRMBDACyv9x/zsBAQPxApYBAwEIAkADAwN5Aev/6v4m/qz9Vv5IABQCKwINAUQA3v9e/sD7jfqx/FkAlAGB/+v9ngAbBm4JQwh0BBwBRv9c/uH+/wHBBqYJKgmmBncEEwO9AdIAKQHGAkkD3gGBAHUBSwMDAwAAuPwE/Gn9q/5a/3QAUQFFABv9EfsH/TQBEwPZABn9XPv4+4P8Ifza/IT/6wFmAQL+6vp5+v/83v9zAUcCcgLWAQcB0QASAWYC/QMaBKADUQNyAwsEWARTA0YBVwCQADoBjwE4AVcAbf/k/r/9F/3Q/dL+Uf9J/4T+vf33/XD+v/4k/ib8hvlr+Ez58/qi+0L7jPyi/wMDBwTTApABbwFlAWgAhQDAA7IIvAoLCB8D3/9oACYDXwSzBFQEbwIcAGX/TwCbAbcBnP5Q+976tfww/g7/a/8v/zH+B/0Y/P387f8JAfH/k/4A/jf9rfyI+9X6iPx1/oL+FP1l+8n61PvS/dX/NgFVAq8CXgIGAeT/mf/nAPUCmQKb/6T7kfo3/bgADwJOAfT/pP/s/yr+5fvi+8T9xf9QAegAHABnAJL/t/26/GP+uQBoAigCq//O/YT9of0Y/XD+CwGvAoIDwgFU/zYAKAMMBMgB0v6P/b0ATgV/Bn4EEgLJAYoCAAN3An4BVwGSAcsALQC2AGkBoABp/rn7BfuI/GT+HABwAIf/A/5K/Gr7Tv3v/hX/Xv4v/vX+jgADAfn+Tv6h/mz/eP57/Q79qf27/6f/yP0O/d3+WQAsAagA8P4oAK8D7wSoA28BJwA6AW0DbQM8AScAZQCLADz/T/3++838YP9vABkAzv8q/8v9JfxS+v75Efxt/hAAkAAPAAH/WP1j+xz83f81BMgGOwW0ATUAogFLA+cDKwQKBZoG1wcTB2EErgIWAysDnwNGBEUDSQLBAfn/KP45/gD+NP54/uv9Xv1P/l8A2QFXAkUB1P8y/zoAAwH9/wj+EfwP/Gj+kP+W/oP8P/sp/CP+2v5d/mr+Mf+IAKMA6v5t/Sb+cQFyBSAG0wNsAYcBIQMHAy8AjP1m/n8BYQMiAqkAlwAVAUIA1v75/Zv+j//y/sX+FgA2AYT/qfvf+Mb5Mf4TAu8CewKjAbAA1P5++2P5dPsBAcwEdQRSAYH+2v8NA3sEYgPOAgUDbwPKBP4EvwQzBEYCmf8//woAEAFzAXz/Q/3g+xn7QvuK/Lb8efzd/fP+zP4q/kz9w/1wACYEFwQ2Al0C0QEdAlQDvALiAK4ABQGb/0P/mf7H/Sn/3ADsAFL+4fxx/AP8+f0eAMEAKwF5APr+v/9gASf/1vuD+1P9SQBzAHz+V/4dAX8CLv92+zr7a/2d/4wAzABSAv8CnwDQ/Wv9Rv8wAc8AkwBxAoQDKQKGAE7/UABJBI8FEwRQAlgBJwGrATADTgJSAZ0BOgEZAcQBywKeAQoAbf4F/Rn+Dv+x/vz8bvux+077FftY+//6YPuH/BX+L/4x/aL79/t+/4kCpgJbABP/3QCeAtsB0/9U/rf+xf6V/v/+5P+rAdIBkABPAOYA+ACqAMQA2ADJAlYFXgZ3Bh4F0wP+A6EDbgFA/w8AaAQhB88FnQGD/iP/jQCQ/3X9Lf1J/a/8kP01ADACJQGL/NL3yvaF+1H/Pv+R/1b+nfts+tL6DvwO/9sBWAH//3H/I/7t/Xv/fgEeAk4BkgDz/5QBAARwBFUEGgMjA8gEmgX1BDEDMgKxAdIBgQCD/mL+VP+tAHsBzAHsATIAB/8OAM0BcwO9Am8AeP++AGgBigDB/3j/Z/5l/If6dPrR+6b8gPyA/IH+fv9//uH81fsB/q0AnQHLAXoBtAGjAgEDGQHe/vr96P5kAUMCSgGFAdcCBwOAAHn8ZPoN+439rP6G//8B8QJQAQX/gP3V/WX/LgDv/3MA1wDa/3n/sP9TAbACrQJvAkEB8v8b/47/XgGwAtECtAFvAJ0A3AG/AosCOgLBAbABTQMtBCADdwHt/6b+2/z0/Eb+Lf8pAKv/X/5//gv/LP11+1L9jQAXAj0B//74/RL+WP4Z/u/9Mv4o/Pz46PiY/Lj/7/6//Cr9LABaA6wDCgL9AWwDUgNfAv4DcAagBysHAAXKA+gDTAOaAdUAGgJKAyQDYQHZ/l39df3x/SH+PP48/lH+8f4d/2f+f/0E/BX71Pvd/Xj/Jv/Q/Qj9zv26/30AfQBvAYoCVgJeAfYAswAaAXUBOgHkAa0CBwLjAN8B1gMiAx4AE/3s+6X9cQCTAQEBOwCN/tr78fpQ/Jb9HP7F/uL+nP3B/Mv8Rf3n/iwA4/6B/GL7x/q0+vz8cv9d/iT7h/lW+rn77Puc+pH6JP7bAakB+v/EAJoCfgIlAQQBlAL6AyQD5wCUAAkD5wQABOsCLgQqBm4GNAW/A70CgwLnAhMDFgNdA1oD2wK5Ar8CYAFv//7+k//b/8n/gv8J/x7/Yf+F/gT96vyy/nEA8wBrAN3//P8HAeIBvQFQAVoA3P1Z+yz82//GAmkCLwDM/q3+8P5S/s/9N//DAGr/dvyD+9P8jv7M/4ABJwO6AhQAEv1C/S0BlwTtA1UAh/3O/HP9fv/RAdwBdf+g/Iz6dvpK/H/+agAXAeL/bv2n/SACHgaNBekBZQB5AzkHcQYjAjD/z//sAT0CUgHQAcUDrwQ9Au/+Uv2T/Kz8f/2L/Yv9FP7t/In6+vnL+rX7Lv1b/tr9y/y6/AL9zP0S/0r/h/0Y/Ar9Hf9BAW0D5QN4AnwAuf6P/oYAOQIUAen+Hf+nAjcG9wXqAqUAMQDbAMUBeAIGBEAGVAb+BPIDrwIsAYb/xP+6AqEFewZ4BRUEfAPVAi4BQv+0/fD8Mv1U/UP+wf5W/Y77+PmG+M32s/br+AP7nPvp+mz69PwvAc4BcP+//qAA9wJkAor/jf0g/qIAngEnAuwDGwUkBPUAv/1C/Z3+DP97//j/PgClAG7/rf2J/IT8D/3G/YT/LwHAANL+Mv4p/p/+sP7+/e39p/8OAXkA3AC3AocEewTHArgBUwPhBJkDvwEnAQYDzwSBA/YAYwCfAVIB5P/F/sL/2AH5ArgCxAG0AV0BXP8p/d/9VAASA6AFxwXABFQEGgNjAW//lf0g/er9VP7q/cL82ftA/Gv8ePt++aH4vvgC+Kj3efjE+h/+awDEAK8BOAS8BdwDqv8Y/Wj8A/57AMoBJwOEA9gBMf/B/cX92/46/8X/DAHJATACagHWAIAAnf91/4UAiAJpBVcG6wRnBIcEdgOqASwAagCzAgsFFgXvAmMBjABc/5z+W/62/sz+uP3r/F39Nf+nAAYAMv6R/ZP9Gf70/u7/0AFeAnEBjgGCAhkD2gKdAGT+Cv8QAVoC6gMMBeEEYQOUAaIArwDtAKAA/f+p/4D/Y/4O/WL8m/tD+m35sPna+pv6ivn1+V/88f6B/zD/HABuAiEEpwOAAjEDrAOnASAAAwFdAyoFigOnAMX/zwBnAXoA7/94APUA6ADcAMkAjQD+/vr8H/3l/g0BwQFDADb/Pv9Z/+r+Pf6H/h0A6AG8AjICYAEpAs8CoAG5/2f+HP6s/kv/vv/nAKsCQALy//z9gPwZ/C/8pPxb/pIAMwGMARoBTP/s/Fn6Ufpq/a0AUwIgA1wEBgYxBRsCJQCfAFMCtgOKA18D1wNjA28BAf8W/tL99f0y/gL+HP7p/nD/bP4G/Pr4N/mh/Fr/ov+F/cP8tv5FAGX/IP9OAf8Eywa+BDEC9wD2/0T+Dfxj+6b9sf9PANP/OP+//pn+m/7o/o3/sv9LAL0AegE2Adj/kv6U/RD+Nv8BAJkAmgG0A6UGUwiBBtEDEALMASUCTAGSAaID2wXABbUDjQG5AMv/9P02/Vn+i/+b/77+xP6h/yn/w/2W/bX/CQH5AJIAMwJ0BMID1gCs/4ABGwPVAWP/vf9/AvUCkf+g+4j6afxa/Z78x/uN/PX9//2G/F36WfnJ+TT7k/yU/U3+M/+HAMgA+wCHAWoCDgM+At0AMgHvAlgEpgTSAuIAS//s/b/8lvs1+n364vwNAAECiQBt/ln+WAD6ASYBLf9I/rP+tv/WAB4CVAMCBOoDpwRoBFkCNv/L/K/9bP+i/6X+3v7g//gAo/83/fz7Bvu/+p77HP5HAUIDFAIbAPf9Dfws+2n7Of2j//wBHAQvBrgFUAJb/gf92f4oAHX/qf7nAIsEowUuA+P/nf6X/pb9NfwK/TYANwOQA7IBFQC6/zH/5/1L/LX7YPwu/a/9kP6ZAP0C1AOGAv7/gf6A/gX/1f8JAY8CQwNtAi0Akv5F/ST8CvwK/bf+x/5C/Dj6M/sQ/hcAm/9E/m7+Q/+s/30A3QHhA8gELwSyA0IDPAJFAQgC1gT7Bi0FdAHJ/1QBjgMZA0kB4QCvAYoB//+//hAAYwIzA98CNwJaAjACKwG1AMIBLAPyAokAkv26/DP+uwCmAnUCHQHa/jr97vyi/Zf/XwG3AvUCHwIiAIf+Z/1f/U3+N/46/gf+Ff6X/mv+bf2w/LP7tfpa+hf6EPuh/Lf9M//UAMYB7wGPAPH+5/5M/43/Nf9g/v/+cAGzBFUHUgcgBG4AaP6n/tr/rP/h/gr/MQBoAekBMQIIA+kDmANqAnwBuAAXAJT/FAAoAsYDEgOnANb+fP7r/gj+Q/xD/Jf9Wv/Y/wX/Cv/z/z8Amf+Y/g7+LP99AKEBLAOoAwsDbwE9/4z+CP9I/z//kf7T/R7+4P6T/+L/Mv6k+yf6Zfrl/IX/6QDGAYkCGwMZA9IBGQCh/yEAIwFtAZAAoP9d/3L/Pf+g/sH9ov1l/e38pvzJ/VQApAKPA2QCfgHQAMAA7QB7AZsCFANJAhYADP/X/tb/zAA6Af8B3QGQAED+V/yS+3P8aP36/W7+R/7d/uL/zQAJAQ8A4P5I/xQBwAKTA/ECdQLyAWUAKv5c/Gr8Hv6//+3/ov82/zX/JP/2/sr/UQEtAv4Aef5U/a3/VgRFCP4IdwahAif/8Pxk/OX87v2z/lz/mgD4AY8C9QEYAUwBHwIHAsYAy/9iAB8CNgP7AokCqwEOAOL8uPni+HX6mPwo/ZL8Tvxf/TP+dv1B+yz56vhV+qf8wv+QA6IH0Am1CGwFggLhAWIChAIkAsoCiATEBbgE+gHa/zX/T/8N//D9D/30/OT9LAB/AoUDTQKi/6v9rP31/mwAXAGHAUoBBgHMAEQB9gDE/wj+gfwB/Iv7evsy/Kr+OgGdAqgBff/4/dL9Gf+lABsB9f9N/lj9Sv6x/84AoQCa/2n92vp1+Rb6f/zu/RD+qf0//jn/xv9zACECFQTsA3MBnv+WAIYDZgVFBbgETQThAp7/fPxv+338RP3U/PX7Lvsw+iP5Pvk0+5b9ef5y/g3/+QCuAi8DBgP4Ao0CWAFzAAUBfAK0AicBzf8hAEkBNwGf/5D+b//RAdgDdwR7A4oBtf/V/lf/bACgAZ4CZgMPAxIBWf6z/DH9sP5uACgCNgRaBSkE/QBp/nf+4P/1AC8BOgKxBGcGoQXHAo0AHAA5ABr/Jf2s/Ff90f6m/00AkAFWAnIBkv69+1L6gfqT+4b99v9OAoQC7ADi/kT+dv+GAL0AWQCWADYBlgIqA0ICPQGMAFMA5wD8/x/9uvo6+kj8+/7v/7H/ef+5/9IALAAL/9L+hf9fAcECNANXAoIA0f4d/mD+//4c/1H/EQAYAYIBYABt/y7/C/+K/c374fsr/QcAQQJVA+oDPQOSAAT+Zv0D/tH+jP/pAB0DlwVkBVIFnAbPBjMFxgE2AMQBUAPZAbv+GP53AAwCTwFh/3f+mf4F/uv9X//QATkDzQJgAUEAA/92/XX96f6WAE4A4f0R/Pb6T/ou+jL7Hv23/df9Fv+NABsClAAP/eD8T/7z/qb9hPwi/kUCNgU3BIwBQv+x/NT7M/xM/Lz8lvzU/OX9x/9xABMAgQCkAc4CHwOZAnQCqgJ5BJcGZgZMBNoABAArAQoBS/9W/Hn7mP6aABQAKv9I/n3/R/+R/Tb9uvw9/i0BHwIeAyYEcgM9AhQAAf3p+wb/YwRoCHUIdAVIAub/hP3o+6n82/8LA+ECXQElAPoATgGp/wH+a/xC/Tb+/f3P/goAHAHTAooD0QI+AB395foi+339MQCbAtcDSwSsA0kBEv8O/tD9m/9IAlsEZgNpAYcAgAG2BPoFAgOV/y3+RAAVA/ID1QF0/lT9rvw7/X794f0l/oT+nQD3AcMB5gCg/uP+lQGtABz+BPzM+539AP/K/2D/Hv5p/f39sf5m/1f/tv05/TD/cwE7AooBAABj/4f+Gv2I/Bn+d/8yADoCxwPWBIMETgKi/6798f6CAnAGbwa3As0AugAJAQwBhP82/7sAAgHHAAoA1gBgAQgBYgDd/7f/Wf98/lv+ov9jAKH/yPxo+mn6z/tr/Bv8c/0VAgYDbAAB/6UABwSqBdUErQJ8AccAJAKKAswBGwNWA3EBt/9HAEgBVQFwAbYEBA3jELENsAWU+Z7uaOo17OXwFfdC/ID/tf7m+n337fc5+9n9HP2p+h/5Mvm0/IMC6QQRBN8Aa/sF+r37YP1n/6AB0AEVBPAKkRAADYABc/QF7pPxgvkAAYYFqwhqCqgJ+QjCDyATBww4/e3z1/TH+QYDAwc7DSAXNBcIDg0FsQDK/gL3zOwE5ZvheeVd6hDs9+lY517n/egq7Xj2HfzX+Pfzg/IC+UoCUwg/Df4X2iJGMKM6KD4CPdErURp3BMn3GACCE4wd8hOV/2/wmess6iXqHuT83i3X59Gxz8TUZuDg6ZLubf34FG8lch47Aifsd+TV6bbqvu/QBNEUiRUpBzD05O+k9A36fP+IAYv9tPXG+DoTtikzLEQgWxH7EvEX8hazFIoMiQhPCB8EMPl86mDrwPKt+t0CyQAk8qjpFu0E9lvzL+ru65nqoPVFAIf7zvaO9g34cQA7BXT/Afss/Mz5FPB181sEOh4FLN4f5BPqEOQFt/uB9aP+sBrmJ/8hCBG7CagQSxTqEaQLKQ02InA0xSjJDQ74Tu2r8NH5O/m78efvT/Ts8+vm0tXVzWjXW+46/f3wAttV17/l2/bvBH4HqgKlAQoDfQZ2AmQEUApxBZr/7v/vA1r7ZfVdAHcKkxDXCqD+P/tH/qoEHgdqAXz7aQAzC/EVbhaoC1YCxgA1CLwJPwU1/0ADphB7FM0QXghxAJMI7xjQG48LEvPk53LrBfVJ/Xn8QfUY9Nnw/Oik5NXnJfL193L2rPDY7PzqRu1q84D5WAGRBOUACv9WABkBQwY2D+AQgQ97EKcN/AcWBEMBSQUsCVkKWglcBW0B1P+pAycBef5t/3b+2wLkAuf8l/lB9Ln1S/wvAZEE1AaKCr4NqAsSB7QAHgFgBCf/+fe37mzupvEq8vH0SPj9/sgC3P6X+EXzRvSx+Jv5MPfe9OP3EP/EBKMJJggwA2YEtgQEBvQAGfqN/YoDrAUfACX8X/9qCA0OsAo1CQQMUgxaDB0MLA4UD0QKgwP0/rcDFgdBBywD4/0e/Jn7Wvhn81X1Vvyx/3T9VvRC7s70CPnO+tj4Jfbq+Lj6TAC3B5AHbwZ4BuYKXg15DGsLdwzyDQMKjwW4/ln4UviCArEHqwtCC3IDJ/v8+Mv/pv3M9vDz4/SK9r/3T/DD8F36VAOZCYwI9AZOAvj95PwL/ygA5f13+XH/UwVEBGEBx/5ZBEgKgQ24DZEGlf2f+1P/xALGAQUAGP8KBK8HyAOdALsDMQlBDcoKKwO+ACv+JvoH+9f/ygCF/ysB7wMaCbMNuAfg/+r+/v7P/lH97PrJ++f/mQO/A/wAZ/1e/GH7cPjV+d/8cfyS+KP47vsc/egAeAHkAN0Bk/4g/J787/4XCEYN0wVZA/cBXQABAnMCtAKa/sz5G/wV/X/6d/7DAXX/RPk69az3CP4HBFIGhgV3A98BYAA0++/2EvVh9UH5//4mBSIFLwXsA9X8fvSc7nXs9+sq8IDz2u4t7GbvnvTR9uX2IfyIAI0AtAAJ+0Xxs/HD86r0oPoXAtwGuwpPDTENZAypCqwJkwPy+NHz4vMz9BP0E/an/EoCRwgkDBQJxgLj/4j+wvtZ+1j5rPfa+zr/m/v++SL/dAZrBO3/LQEV/4r6F/aV8/DxvvU6/0EQ7B8WKfwxijV4L0sr8SxJKzwqNiuxLSIr7CbJKvU0kzVHNNo0tDAoKRMg9xlpEhILPwm/CU8HqAdFCdEEj/1N+Tr24e5y5Z/iyN/A2JDSvsxnycHPNNO+1Z7W0NQM2C3ZINkL2hfbW9pq3azgNuTY5ZTo0e2R8IzyqPWG9kvyp+5K8Qj0ufHd8D/xX/Vo9YP1+fdT9u7zYfKp7nrqQOoi6jLpdOss8O7wavPr9V72FPIB9MDzcPKo9lH5vfn7+c75q/ab8w3yzPoL+Z70i/NU9Xvz+e5I6qDmN+RE6YzyzvFr8QLs2e8l8mfvufPMAJcQniv7VHNz/38We0tsvl/tWMxTsFHTT0JMWEofR6VGDUXgP0A4IDVLNGAvTywPJLcQm/ny4nDTFdzy40DkCt6q2bXVcc68zD/HNsckw7S7hrcut+K7lcVTzxLdyusp+O39ufqh+Hr2s/rFBGMNUBPxHW4q4C59NdI/Z0aFSfpGSz9GN8otIybpICgahhsyHpwcmhaIDcsD2Pfk7LblJt/u2P3PJMjxw2XAccIsxl/PnNV+1q3YlNuk3mPhXOY67arw5Pfu/jj9r/xO/1YDkwe7ChEOYxANDDgFKPp97hXqN+1c8Dz0+vS570XvL+oK5zTnkOLx3/vd5tgp11LV+9GO1h3g4+Wc587mveOQ4drgvuOa5bXjn+MT53npMe0K7rzv2fbi+5j9Own6JHNARVtNcU161HPMY/dc117zXklcZVe6UeNMsEc5Q41AhT/8PGY4aTMwK8sfugz37m/PDMCjwA3Kg9gU4uPgldSSxx3AK7ibtXC/x8h7ybPHKMpg1LLd7uhgAIISCxwvHqUa/RUGDx0OVhWRIQAxbjwrQrBCjkCJPx88CjbjKzwi1hjEDGEBDfv/+7EA1gVVBZz5EOxw33vQ6sK0u9W8n8Drw8vK9c3oyxzUjeBJ7Ff3SP78/oz5t/UR9Nb1L/4mCusS1xaCGZgaiBoBG60XphPrEOgI3/z67xvmC9+M4OvrEPRg9gX1A+4z5ovhdtyY1w3aAOCh4cvi+OSD4RTeIOmM9mr3O/W197r0H+2E7CzuYu1Q9MH/zf/L93v22Ph0+Nz61/3b+bDwSe819IT9chVcNcdRX2YzcQpvOGRkXFRb6FmIU4lLGEXoP7I79zlPObw5KDqYOGEyRCihF6P+xOB7x4m6dLppxRHXQ+J83wLYCtI1znXIxsU1x6XKL8zbzOjPD9dl6E4BvRuEL2Y0ESyCHlAPQAUXALEFYxb9I3YtyTOZNEkw0yuRJ24iWBh6DWMFBPlC8tLvv+3v8rH7rQEK/e3yIOrm3CbSJ88x0e7TddRP15jcc+Oe63jz5v0oBVkDa/3h9DDunuzH88UAXwuxFXUd+RxmF7oRFwx8BrEDs/2k9FzuwOog6ObjxePB5qXnzuYW43Lb1NZQ1HzToNUk2jTiEOfk6jPtAexw7K3v2/EY9v70N/My9Jj1Iv1tA2oJQAxKDGwJVQC49cjxPPL99mL95gJPArX8FfkX8qDvgwGPIsRAOls9cGR4amzTW+VVRVRGU8tQiEytRuhAlDydOfU3Cjb/LxIqNSO1EUj2/9bIwQe5tLu6xiTU2N5e4WzZfdBBzj3MfMo5yPfKetCm0RHWAOJm9HcO6CIWL5YtIiHsEp8FL//d/cIHtRePI2opTyy0L1UtYyDjF1UTbQmQ/fr0AfHW7RrwmvZM+XL3xvh5963oKtmx0srPSs2HzhnVjNtd4Ojmmu279Gr+cAc1CXEE+/59+Tj2+/VW/M4IXRTjHVMj2yFPGqkPQQhLASX4Mfaj9nT1afKw73zuGuu56kLrC+ej4BHbCddx0gDTFtpC4A/nYu3X8Yvy4vCz8eHz2fTo9Tn3ZvmK+VP8QgCUBVAMrxH+FGcUyQxCBC77Lu0261rrz+5K9Xn6Ev87/UTzP/GL9bUDiiMoQVxcCWy0bulnyl1oVu5RzE2FSvpHmkM0QJ49XDo/NYIxgy3SJoId3Q1n9pfeNs2txCrFicfVzbHUldQRzyXIEMVwxejCir9+wV/FF8yi1E7kU/dtC5cZ7hyqGLcN8wX4/Z74eP7PDTQgqy55NVM4bjJ1KaofcBGJBuoAjv91/SL5Efli/Wz/lP5H90bq1N9a2VDQZ8gNxk3MhNi84azrXfWm+m/+Vf1799byvPF98833ufz5/1YFQw6AF88aXxiwFxAVUghh/SD3rvPc8zD3Pf00/vP7dvnM813vbOyq5+7jtdzc2FbYSNuG5DTq1O9G96P46vU38gPt2eoy6k/oCev+75n4HgGBBGcLzw2BCZMCNfyy9hfzAvVS+eX5jPweAocEpQIi/yH/C/0A94LueexL9gcQ/Cz2RMRffnNldFNl71SPTGpHcj6JOec3GzhcPFs93Dl7NVUwVSoKIOANuPiU4A/M2sGywR3JNtKv3EHmBuLB1jzLXcJKv5G8U8EvycLQCtzX56L0XQaiEs8ZqxpMFIwLswRMAsEB+gcFFsEliSwuLlguVSkFIBEXqguX/rjy7evU6jTsy/Cr95j/CQE4/BL17+oM32XW+tRO1kXaQuRn7wP2tPlE/kv/pvwq+lz1d/Bn7pvuhPIJ+6EGzg6uE/gVPBHrCawDPv0t91DyW/N+9hj5Gv2K/I/6Zfpb95nxOOyc5mrhZdw22jbbgOGL6ub03PwjAKwAv/wT+Lrxsu5H7371bvn5/C4DoQb1D8AWZBP/EBYO5QjKAF/2JfcQ9wL2gPg69lnyj/Te9oX5JP3z+GLyg+1U9MgGFh0JOrJUlGLdbMpuR2NBVMdJ9UCbNaYvKTZePH83tzL7LxEupizYJ9AadwUq7PDbu9GGyQTNodTr3ZXlE+Me2zXQUcXTwV28F7yjxGTNf9gn5XvwQf27CLsMKQxtBrsA4vmg8yz1df7nC34fGS+sNHYxtyeaHf8QHgdo/p/4BPq7+zD+9gIJBssHBwbfA9r8qu9o5LfcVNWx0rPZ4eSJ8fT5avz4+UvzOPCO7VHoK+d16EHvD/iuAGMIiw0eEjIUaRAbCBYA7PgO9Xr1jvrf/9sERgkqCXcDgvuv86brLOZf5Bzk1ePg5Zzq9+/X9H/3uPft9DjwSev85RjmTOov7iv3MAF8BikLggwoDR0JFwQpBvcCCvwx+mL7W/yk/m4CzQXaBAoCx/0R9NvtDu3v6mjua/v2CVoYUCg2OnhI2FLNYQJmCVqBTelB7DTrLdwzK0AWQqI8RDZrLfEnoiLhFjUBAus43VvYKdmo28reI+Dp4Z3hPNzM07DGlL0zu8W7wL/AyYzXGuWs8Pj4mP90AeYB4QBu/SX6B/sE//YGixKiHQ0nIS3xLRIomBwPELkGxP96/i8BswYWDb4RNxPWD+MI5gBo+EXvf+fX4d/fsOG55crrYvNE+oL+dfzO9Pvre+UA4RPi2eic83X/IgjNDMUMUgtRCVkFw/6A+4P7qvx2/oYB5AUQCWwMSA2ACC8AFPhw8OXqgOmt6xHwL/Uj+Wb6bPhj9N3yd/D37L/qceoC7u3vce8T8r73w/rm+kz7VvrZ+LD5J/mV+eP7GQBQA9kCaQLaAeX/Iv+YAAr9mveL91H3yPTp91D8QwG6CBYVcyVKLhE1ez40R3dS1VumW1hQGUIHNwYvPC8XNo87PTpLNU0u1CPnF98LJPxo7OniyeF541ji5eBZ3r3b6Nna1YXO9cb/wfHCRMbQy77TutwT5tHsBvKp9Uj4cPvF/X//fgOdCJkMUA9vE0oY6xs6H1MhnB5+FqkNJQfuAYQAoQRGClgNHA0lCV4BSvnK8s/sEOjc5JzkX+gu6+DscO5G8YD0n/VK8rDt8Okm6f3sxPGb9qv9zAZ0CqkLNgpQBZ4BMwCJAO8BDQLJAyQGhwXsBGoFgQTXA2YClPx69kXxU+647EDuQPFS8zP0lfMy8vPwhe9y7qPt4u2j8RP0JvIj8X/1Cvnh+qP7fftO+yP5+Pen+QT4DvmM/fgAJQB7/i0EhQWZBmcE8f/z+eDyoe/Y8Rry/PWoA2kOwhpVJAMt6zFwM0w37kWzUdFP30fiQFM60DKJMo44ij5DOMwwKCyhITYWTwsl/xXyUulx6abngOO84RLg2Nrs047Pd8yUxf3AAsYAzWnTxduY47nmnucg5+nr1/By8uv2uPzQAKAFcAvmEfoXChteHhYhviDqG2EWRhA+DN0N0xGJErMRNhFEET0NKQQ//Fr29vDl6rzov+cH5/zpmuzs7ULvRu777ATpEOSv5FnoGepP7KjwOPeH/Xb/dAC2Aa8CyQD6/Ir6xPpz/68EIwZhB5AIqgeoA6z7+feb98718vbl+Kv5NPmd9xX42viY9SX0i/TU8d7wsfCF8t71Hvg6+V76A/un+5/7VfnJ/QMA8v+JARMB4wIcAuH/4gSXBbUEnAgQBKX9YPpO+br59fok/YEAiP6I/vsIfRceJSAzwDuHP2lE4UYfQnkzYShIJe4m6y0VPCJEnUHCOZsuUB/uDMb/LPcC8EDv5fNv9ob08+7v5yDeX9S8zbXI+cI1wxHK99AE133dGeAZ4QjiYON95oLqpu6M8jz2k/oEAqMGLgv6Ei8ZZxzTHScaOhW8D88OlxC6Dz4UDRvCHBoYthBHCy8GYQAj/lz63/a79mL2Y/Pg8MTvg/AI8mLwSe6967vod+dF5zXosO4q9Qr59/sr/Gn4vvQB9gn5Yftu/YMAagM/Bu0IkgkRCCQG8QIXANf9ffu8+1/9w//SAG3+lfy8/Gn6dvfy8xPx+e6t7dTvdvB/7zTyxvcL+QX4jvV+8rHvD/BY8gD2pvqI/psDgQSy/jL+qP+r+i77Hf8ZAcX8gPop+p37J/2KAewHzwnRB1YLXREXEqob6yqeOptJIFkGWsNOUT4QK20dmxtGJ5k7GkUzQNU4US2MHqoQNQLq9AvwNe9A8KvuD+3Q6ezk8t5H2F3Q7Mb0vdO9yMMgy1fYzOHC5dbmF+Py4SvnyevH8nf5u/zz/rEAxgHJB4kRZhp9IUQjdh06EsQJiwUOBZQJKRPOHuokkiFsGAUNaALD+qr3TPi2+lj8uvka9ZLwbeyU6y7taO4J7e3nluQq4vXf7eHG59Xu+PTm+J/36/R289jxqfSj+Vf8jADTBSEKwwt0C5QKdAdkBNsCOAEZAPX+ZwFqBGsEuwO6AoD/Qvsg+C3z/fBV9NT5s/rP+6H8KPom9Sn0L/SC8Ufzx/U7+GT2HfYP+kD68vRh9Uj6v/uR/Pj7rfr+9wH4jvg9+Ef6Df5+AnQDVwHZBJkO5BUJIfks5TXnPphHu0sWROA1VSrQJHwlciq8NcZALT+ANIAoXx6BEEMENfz89173I/i4+S/44/Bq6X/hN9ZLzO7Ff8XrxyXMvtOs23ndh93B3NPaPNpE3PPhyudH7b70hfmZ+zsCGArJDXQQbhXzF44VnBP2E1gUexRPGSwgySLwIe0g1R07FkUPuwgBBtkDuQJGAkYBjf8g/Nf27O3p5z3mVOUq5IDk1ePv4x/moOeG5n7lI+j76SjpkOrl7FPwLfX/+QP9M/4v/w4CyAEu/0wA0wGkA/oDIgeTB7cFcgfcCCgF2AF0Akv/XvrL+F353vhE+hL7pfy1/Db5CvaU8ifuzu0N8mH0cPUR+UT6L/rc+Vn3I/Xe9A75J/uq+7r69/kA+Mn4kvhX+pH+OAH4BJEFkgbaDcEYrSDIKS4w/jT5OKpBLUUyPmE1zS/YK/Iq4C5nNFU4MjUCLwMoJx7vEIkIKwMK/4T6ifvE+qvzmesw5N/azdLhz73MvctLzPbOs9EB1qbY5tkh2cbXGNjw3M7ix+aJ7Tf0IPbo93z7ufwHAdwGQQ58FYwX7xbhFt4VjhhhHaAi+SRjIw4hDBzPFkUTphFfEIUONgqIBTEAv/vo98XyR+9T7NXqm+pv6LblOuTQ5Izjp+H/3+3ggOJJ5HvmD+ja60Tv+vJX9fv1M/YD+73+uf/hAP8CRgX0BtQIrAgICSoKbApwCf4H0ga3BigF6gMkBdkE9wMpA+j/Sfyr+Bn35vbG9bH2Y/e99yr4avX68cfxw/Fx8sf0SPPm9oj5C/pK/RP8hPZ99NHyCvCl8sv16/5ABVMJngtVC/oJIQ+8GiEn3zHRO2JK7UoCP74ztCt2JzUwPDvOQtdEhz1bNvMtByLQF1USeA8BDV0H/gTcANn5a/OK6VPea9Zg0G3N0MtJyWnLBM+h0hXUMdICz0DMVMxE0h7aRN5W5ILsZPKL85D0BPhp/KgCegdcC+gOERJZFQAaARxQHosjECjgJ+oj7yAZIMofLx1iGagVwRPoEAsOmAipAfr7cPji9LXvyuuT6njosuR94ozgTt5u3GHcQ9z73NnewOI35Ubn8+mI6xbtOu+C8vP22/gO+Wr8zQA9BEIFrgU7BtEHYQldC8YMtw1gDdMK5AlPCdgHJAj7CFgHgwXaBG4EUAHf/Tv8VvsE+0/7J/kN9Q7zzvF88enwKvNu9jv1NPHg7YTqren76ATqsfGO97/8eP/2/ej74wDhBwUQKxuTJFspLC76OUw+1zkVNioyMy7RMT041kCYRLE9dzVsL+AkUBlOFDYQjwxqCwoMFwd+/qn0QumA3SrXL9M00BfPj85Q0GzR1NGD0HzP0s3MzV/OXNHi1m/ZF98f5kjpy+0t8tfzPfjI/CEAOAbNC38Q9RWmG18gYCNjJxcqOScAJk0l6iFaJDInEycIJ4siDx3QF6IPqgm7BFz/3vzA+0r4G/TF7pbpe+Qe37TcrNm61xHXvteU2fnaK91+3+bfXuCx4XniXuWG6pfvs/J09Wv4UPrL+vf7fP8zBLAGKAjQCq0KIgq1C2gNHQ0YDEIMHgsgCIEIuAoBCxkL5QocBwECGwDn/in7Rvq1+4H7mPtA9yH1WvhL9WfuPu1P6ajpQu1R8Kz0efYZ+WP8Vvus+Sf+zAC4CQYR/RhcI2wpLDIMPOs4PTLPLkkofyoEM7Q94ERPRak/kzhzK/0f3Bd2FCQYoBgJF3oUOAwyAY/4VOzL5OvhFN9v3OvZ8dWO1D3T09CC0K3McMt9y8vJqsql0HvVENmc3QfhX+M749zlF+mJ7Bf1MP9bBWkK9A7REREUzhQCGFIcFx9CIXAkeyX5JAomGCexJEEgXR05GcgUPhAQDvQLNggXBTgDlv709zLyausU5yvkeeML5L3keOTJ4xnhCd6u3E3cPN034DjlrugL61Hsk+x97PvulPG39CP4ifsQ//oBhwN/BO0FGAdKB6AGpghvC/INpw6TD1MOuQzaCqIIlQbkBIoGDgg7CRoFEQFL/TT7EPzf/O38JPoy9cfvL+7N6ijrYPAh8v7zWvgA+ML10PRr8w/1MPyqA44NOBn1HMAeFiV6KlYnjiZLJUAi7SQpL/c6u0EyQpY8wDSYJ0kdFxv5HeYflSCTH/4a5hJeCen+S/Ww7qLsQO677DfnT+Mx4PzZe9cI1ZbQys7gz0PQDNHn0lTVxtcz2prbBtti3KDfgOSC65TzmPjf/EQAYgQpBlcGJgwdE1MX/RquHZIfwiNAJdUk4iIHH84d/R8wHy0ckhnRFlMT/A4/DDcIcwSc/9L5M/W58CLtcuzK6bzmjOb94ffcHtzK21bcpN3S3cngHuOW4xvj8eBm4qnmu+vE8H7z9/Xx+QD7IPuA/VsAmgU4Cq0KNwp7CxwN5w1VD/kR2BHxECsQAw40DpcOUA6hDMoKxgbwA7cCBAERASkBlQEu/m37vPV4787s4Ozm7+v0wPkd+PH0we6W7LbwwfgJATgKkBFWEWcUixzrIiYg5RxFFyIVPx4qLJM5MEPbQqM3+Cz3IIcZdB3MJbwn8iWlI4oe4RYmD7QFXvwS+X/4Cfdf9Cjwcuvo6Cnkht/929PWS9L2zmPLgcyw0U3V6dgT29XYcNXq0xXS99Ji2kzk8u2692X62/bz9Mnzo/S2/AQHZBAiGSke5h3ZGsoYQxfGGMAcHyCAIi4lJySnIfoeaRpVGNkWXxPODTgIXgPuAVsBn/70+zv4bvM67ozpyOMO4Xfhg+PP5crkFOSz4nzgpd6l3rff/+Pf6HHtnfAg8CLx5vK29HH1DPfU+aH9mAEnBtEIHAjAB2gJRAyuDCQNcA2UDIcMKQ6/Dy0RFhPjEbIMYQeuAxcCSAa7CMIHuwUQ/AH17vMD8Efx1vgT+BX3pvak8GjudO2S7e/y2fsLAAYF7AumDmASRxuEHMYTVhGwDgwPTBtVK4A4y0FsPmsvTSKrGK4XVCLsLGwuUC3pKdIhDxo2EqoKcQbABUwGhQevBUn//fYG7/nnhePL4EndJdtY2GTWdtdx2HjXS9fk1ObP+M2wz4HTutjl3Y/g0uN15kDoJerh6fLpoe/z9sz9YAWPCgMOBw/rDS4NFA7SEEYVmRqmHlohxiOtIzsfpBokF4ET3BLvEWgRMRGPEAgPTQsEBcX9BfnE9Orxre+Y7+LvjfB18AfujOs86JXlA+SV5KnmSOpG7/fxU/Ee7yftk+vZ7IfxLfVe+RL+LwGEAc0BzgAIAIQDDQXzB9wLUw1cDWYQLRIqD8QNogq1BwoH6gdkB1sKqQ2lCqsJjwJM+mb3sfeN+FH88v1t+N/1VPCV7a7uJvX2+gAAdAIr/mT9h/z6/ZoDKhIBHnwhJR6bFK8K8ghqFEsjuTJXOR02VS1OIJAW1BaWHOIhMyUPJi8mvCHrGUcRwwau/UL8uwHHBQwE/QA7+wrwR+dg46Lfkd383KbbItpt2VrXqtZn2afYztbo173We9Rf1yPbk95L5F7qnu+N8ejw2vBj8fHzAfkuAMEGhQvmDwsSAxIfEgMTLBSDFxga2Rw/IW4heB6BG1UZERYqFZUV0RLtD4oNTQojCC8H+gFf/Rn5KPMq8Gnvxe5z7jvuPeyq6cbmGeXo45Tkj+UQ5jroiusm7nDuju217XHvBPD48h/2Nvd9+Y38SP3b/Xv/GQFbA6kFTAeHB4wIZwrqCaMIFAtUC1ELfQxyCu4IYQrzCPUFEgb3BK4DcQA2/tH+9/2T/Hv6Gfag8nP0o/cm+3/+If9E/oX+dADNAG8FrhHYHiEjYh9fFqoJhwVGDYscey5SPEY9dDUXJwIW3gxSDwYa2CIIKYgs6ydYHLkSgQe2/HT6sv8JB/AHcASf/d/ygeoo5zvjjOH34U3gJuBh3yfbgNkL3S7cY9h+2BbYWdU41zrbXdxc4aPpJfCv81Tzke7x64btrPKm/F8HFg5fECcR9w52DD8LYQ7aE1gXahpXHIocUxsYGskWTxP7EmUTwhHCD2AMxwdEB7sHWQSv/3/70fYl9P3zAvNw8nry8e+U6zXos+V55LDl7Oc+6RXqUetr7A7tXO3E7Uztx+yn7qvyAfbg+Dn8Tv4a/1n/k/9aAPcBvQRGB0kHfQcvByoGAwh2CZAJRwpVC1AKpQhwB3sDJwJ7BYEFTgGu/5r+U/u1+7b+/AGqA9MDLADh+Tn1+vPL+EIBeQmbDOUMjAoiCdYM/RTxG9Ad8BzCF6USjxPXG4AmVS5JMX0vXShZINAbZRlrGm4b7xv8HNgdUR1bGLAOHwRL+/L21Pfp+nb+7v7z+qTzdetj5AHhxd5R3erdOd5c3wfgDd903Xnc+9vy26rfz+Jh4wjkDeMM4inlfusb8kb3w/gX+Rn4fvdN+Yr9HQPUB5AKqAx4DiEPqA+SDzcPEQ+9D84R/hSzFScVPxJwDH4IfAcJCAQJEgroB/QEdQF2/WP7LfrX+Zb5L/m/9lz0afIP8RXwS++58LvxdPOs86/yRvC47MzrVO2W8Wb1efmH+1P7RPp09730v/Oa9m37MgBUA7cFHQYiBUQD+AAfAMoAKgN4BYkG1QTqBGEFZQS4AxUDjAHOAdQCi//g/Bz8n/yI/v4CUgNAAv0CbAHTAbMDKgWLBXQIxwlKDMwUXh+DJ9EnjCGIFM4HOgWUD/8eViwcM/MwGSksHRMUSBBTEToUkBVxFZsVVBRyEpgPRwdm/gv6gfmr+j796fsb9QXsdeVK46nksOll7dLszeew35zXadSL1lLbBOEi5pTpw+sQ7a3r5+d242Di7ORs6sTz//tlAKEBBwAy/aX8m/8sBMAIhQvBCxwKEApMDD8OXxHYEwATHxKVETMPQg1rC/sIRwh2CFoJZwopCpYHWwNv/kr6DfiH9474/vjx96b1O/ON8eHwYvCn74HuGu4U7qHtb+7f7zXxRvKu8+rzL/Tz9Zj3jvjY+FX4UfdP99z4vPy7ASsFpgZ9BRcDAwI5ApwChQMyBdAEkQSxBGQEGQX1BQEFOwTJBIQD2AJ0AnEBLgAC/yMAYgKWAxEFKwZpBYoGxwjFCUsMWQ6mEdIWlxm4Gr8a/RbJEWwQDxE4Ff4bvyAAI7ghCh1DGLcWBRfPFowWiRS7EC8N7woWCY8H8gbOBF8C7QAF/wf9gPoE9nTwcuse56Dllue26Cvp1ueg5HbijuHX4WPjaOX/5e/lYeV25F/kG+a86N3q5+0o8XzzVfaD+Dn5FPpC+tL5c/rk+w/+egHyBIkG+gbxBjYH9wdJCNYIuglFCnUJUAghB3IGCwYhBWwE+gPlA9EDvANdA/0Bav86/Sr8zvo5+lz63vq1+1b7P/rl+Av4B/gK+T76bvvC+/v61voL+zH8W/3z/Tv+mv08/dX97P5DACsBHQF+AN3/0f/CALEB9gGvAV0Adv8+/4L/IwE6AvYBigFTAQ0BOgEGAlMCMwIIAgUCiQJeAxkEIAQ+A9YBSgFbAYACOATrBGwEIgOwAjsDXwTfBc0HBAqUDDAOTA8XEBAQgQ8zDkcNGg10DXcNqQ2NDHwKoQlYCb4JeQqgChUKnwjrBqAFYQSCA70CmgF0AIj/Wf6u/cn8EPuw+bz4mvg7+SD69fpc+1z63/fa9QX1dfXs9lr4yviX+Lr4gvjQ+MD5gfrg+hz7Svuu+0H8jvyv/EH8bPti+vf5o/m5+Wb6UPr6+db5aPkO+Uv5RPqk+1H8Sfwd/Aj8xfyw/WD+fP9OAMEA2ADQAO4AAgFiAaUB7QFKAhwCMwIzApsCCANWA7kDuAOaAysDAQPNAugCsAKTAqUCVwJdAtECzAJWApIBmgDn/5//T//o/q/+QP4j/gD+2f1o/Tv9If1Q/Rz9lfxO/EL8vvwc/WH9t/1b/rD+hf5H/lr+Y/6+/tv+U/8sAH8A9AATAc8AnQB9AHUAtABoATsChwIqAjcCWQKaAs8C7QKIA9cDsQP0A54EfASVBNMEdQWSBRUFBAWwBWoGKgaIBTsFQAUlBYMF8wUyBuAFiQUMBU0EsQMkAwwDDgNZA5IDcgNeAzEDrwKTAUAAgP9E/03/1//y/3f/Jf8b/+3+ZP6n/Uz99Pyp/EP8vPvH+4H7N/tK+4D7OPvy+tz6Dvva+tn5I/nz+Oj4hfhV+GX4I/ja9+/3c/jb+LP4wfgy+Tr6JPuI+9f7Q/wF/Tz9av3l/QH+5P3E/Qj+VP6B/iX/DgCMAMIAfwANAAYADgBsAPMAOgG6ASsCPQJYAkMC0QFIAQEBygAGATsBQAExAQMBdgHeAfoBogHqAIMA4gClAWUCswKdAoYCyAL+AnUC1gExAfQA7wDKAGAANwBtAJoArABYAAsAvf9o/4z/HwBBAIwAOgGwAS8CugL8Av8C4wKIAtgBKgHXAK4A1AAlAW4BRwGvAAYAj/8H//L+Uf+1/zoAfAD2AAQBRgH2AaECKwMpAzIDZgOOA44DVQM1A0IDSANlA4YDjgPPA2ME+wQ7BbUENQQ3BMEENwVOBd4EXwRcBCAEtgNSA/QCoAJNAqwBygD3/1z/nP79/Xz9Ev0T/XT9s/04/XX8cfu2+nb6Ffro+aj5Wfkn+TT5lfmo+ZT5TPnn+Mr4BflH+W75xfmp+r/7cvz9/CT90vy9/BD9Lv0T/Qv9YP32/Wn+k/5i/in+RP5i/lb+Nv5S/jn+Uv6L/qP+jf4S/pX+Tf+H/5f/w/9z/wf/6f64/qr+qf6s/t7+TP/m/wwABABUAMAAFgEOAQ0B/gAXAYgBRAKIApMCfwKJAqYCgwJNAksCtgLkAvYCvgJyAmwCqwLcAqECcAIYAnAB3wBrACIAOACXAHoA4v9H/yP/b//t/zMASwBJADYASABKAMf/VP+a/zIA3wABAfgA6gApAZEBiQHEAHQApgDpAIUBtQG1AZAB4gGFAu8CPgOMAz8DAQMKAw4DAQPQAjYDaANuA+4CLwLHAb8BBwKqATIBNwFlARsChgJPAggCeAE9AVABRAHMAA0A4/9ZAMkAmwDj/2r/Uv8N/8b+p/5y/qX+Bv91/8b/mf/4/ob+TP7R/Y792P2E/t3+mf4y/mH+Tf7e/aT9K/2s/GD8G/yv+3X7kPtv+6f7vvuj+//7dvzl/Bn9aP2c/YX9rf2e/Xz9j/0//Wf9Y/0m/bH8a/zp/Iv9If4D/iT+cf7S/l3/rf9f/4X/RgCQAFIB7gEUArUBUQF4AXIBHgGuAGsA2AAAAkYC3AGHAbQBYAKHAngC3wEaAfIAKgGaAaYBHQHEAMEAuwBfANP/gP/n/1wAIwC2/wD/qf5R/pX+6f6//rr+/P7K/yEARABTAJAAiwBrAAgA3P+x/9D/0v++/xoAp/+M/0D/AP/E/jL/BgBNAIgAHgFrAUwBBwG3AMMAwwCLAFMAYQBuAD4Asv/Y/wwAPQBrACkA6f+F/yP/KP9G/4P/1v/Q//b/gQASAWIBcAE9AVsBVgH/AAoBdgEMAoQCvgLSAi0DlwO/A5gDVAMKA5cCkQKAAh4D2wP+A7AD9wJ8AgUCwAFbARMBlADu/4T/U//x/pf+tf7W/uv+wv51/ob+tP5Z/gT+FP4C/oH9QP0g/eb8rfx6/GX8r/y3/KL8//xD/aD9of3x/Y/+XP/N/57/Z/8s/5r/OwB7AEMAGQA8AHEAJADv/w0AjADtAMAAjwCdAN0AvQClAJAAVgDc/1P/T//A/7f/V//C/sP+vf6Y/qX+mf6Y/oL+5v5J/+3/SgCGAKwAigAKANn/RwAUAdIBDQIIAgUCxAGfAbQBFgHYAO4ARwFWAQYBwwB3AKYA1gDRAG4A+f/m/xQAWQBGAOv/5v86ACIAdv8E//n+E/9Z/5//m/9Z/wP/tf7L/gT/Lv9I/0n/iv/q/y8AfwCEAOkAwQEiAk0C+wEIAjwCUQJtAo4CwgKuAo0CUAJEAgoCXQGAADcA9P/G/9//uv/D/6v/if+E/2H/Z/9X/z3/Uf9w/4L/0/95AIQALADY/5X/nP+V/5v/AQBlAJgAVwDX/9X/DAAGAML/Q/8+/3H/KACKADsA6P+Z/6j/2P90AL0A5wD0AC0BNwFcARoB+AAyAWsBawG6AEkAyv+e/1H/PP8F/+X+HP9l/5v/of9L/+z+5f4G/yn/6v6x/tH+8f43/27/Jf81/zT/if/1/1wAogBhAEkAJQBDABkA6P/B/3j/pf+q/8//p/+P/1T/H/9c/4b/6v+BAEIBqwGjARUB3QDsAFABegELAdAAwACoAFAAEgBFAKAAyQBWAKj/c/+e/8n/v/+r/8z/+f/j/47/Df+h/qD+Ff9d//f/FQATAFUAkQDaAAYBDwE6ATQB9ADVAD0AEgAbAFMAQgAQAOj/6/9CAGcAAACM/1r/Wf+A/0j/TP+R/w4AlQCRAFcAMAAIANT/rf+c/4n/ov9J/9z+f/44/kz+C/7G/eD9rf2w/eb9Av5s/ob+2f4D/+D+Df81/3H/mP+F/5n/2/8QAB8AEgAbABoAOACmAKQALAABAGAA+gAcAX8A7/+y/6v/kv8h/yP/gP/A/5T/If/S/rv+q/6k/uf+Jf9A/z3/N/+o//z/EQD1/9D///8WADwAfQBgACgAvf81/6P/igB4AaYBjQFRAfkAzQCWAKUAwgAUAU0BjgHGAfIBxwGCASYBagDR/4D/6P+gANgAUgDu//f/BACh/1X/QP/0/oz+HP6T/hT/EP/W/rz+xf6x/qb+gv6W/v7+oP9yAN0AAQH5APwATgFqASoBswCAALsAhgELAuQBwQGdAW0BYwFZASYBuABNAAgAQwCVAHIAPwA4ALAA8ABwAKz/NP/9/uj+uf7X/mr/v//T/9P/m/9J/yn/EP8H/9L+V/5M/qX+Tv+i/6D/eP9C/0//EP/n/uX+c//X/wUANAAoAAcA7P/W/47/Pv/6/gr/EP/9/iH/ff+e/3j/X//I/8D/JP/s/j3/g/9V/yD/Tv/1/yoACAAOAP//5v/F/x0AcQCrAK4AnQDxAAIBBQHGAMoAzQChAIQAtwD+AA8BLwE8AUQBOQETATIBagERAZgAdgC+AAkBFQGbACkA4/8VAFEAXgBlAC4A9f/G/5L/Qv/T/kb+G/48/mv+q/4V/wL/r/4z/jX+l/7Q/kP/Of87/2f/kv/T/9b/zv8iAMoA+QDQAOMAWgGBAS0BQQFvAdsB5wG+AcoBjgFOAfQA8ABUAYIBrAGbAWIBewGlAekBGwIVAsABJQHTACQBcwGOAXcBWAEJATsAkP8+/+7+hf4s/g7++/0c/kz+O/6q/uX+Ff8n/x3/6v5n/nv+MP/s/xcAOQA/AJcA3ABPAcEB9gGkATEBbAFyAa4BqAHCAcoBrgFoARUB3ACRAGIA7P+H/zX/Jv9L/47/9P9XAC8Ao/9l/3X/i/+O/4P/Zf9u/8f/FQAFAH7/Kf8v/yD/9/61/p/+yv4b/zT/Ef/C/rP+vv70/kb/Kf9T/w4AtADXAMAA2QDtANEAJgFxAT4B/gDjACcBYgFlARgBpQA/AMb/gv9c/xv/hv45/jT+lf6x/nL+X/5X/nf+Fv4J/kr+/P5k/7//bACNAMwA+gAVATIBGQFDAaoBngG/Aa8BhwGmAZwBIQFiAPv/3f/2/wcASgBbAB8AHAAOABAADgAXAB8A5P+e/5L/DwCkACgBWwFsAWcBCAGXAAUAev9y/6z/yv/c/5L/hf+Z/5T/XP/U/kH+E/55/vz+bP+U/7n/9v8DACAAtAAPAVsBYAExAesAqQCSAHQAiwBbABgAsf+6/8P/UP8y/1b/Iv+e/oT+tv6F/kL+f/7L/sH+t/7K/tj+4P7P/qf+bP40/lj+yv5Y/8H/bf80/2j/ff+j/7D/8/8qABMAOQBlAIwAkwCUAHoAKgD6/zoAzwDnAGwACQBpANwAOAFKAdEAIwC1/9f/0P+s/4r/fP+N/5j/WP9J/23/QACGACYA2v/0/oj+MP5C/mX+mf7N/hP/MP/F/kP+6v0V/iz+Gf4c/j7+tP56/14A+QDsAHsA5f/I/9z/5v8LAJYASgGnAdoBgAHNAEwADAAtACIAvP9Z/2z/5P9DAFcAUwA5APP//f/1//3/i/95/xMAbgAqAcABBwLrAXEBfgHZAdoB7gGpATUB/wATARsB6QDJAHUARwCKAKMAYgBLAFkAYwDS/2z/iP/V/5AARwGSAU4BzQCKAKYA4AD7ADkBgAGfAW8B6wA8AGz/RP9P/5H/OwCYAIEAMACR/0T/2P63/tv+yP7//vD+Pv+S/8H/t/9o/1P/RP8t/2v/h//v/0wAVQCcAKgALwCq/5//AABAAD8AVAA4AEEAdgDRAAEBQwEPAdoALQFIAWsBYAF+AZMBFQHtACwBagGrAQ8BSwCw/zv/Qv94/83/nv9r/2b/6v93AEAA5v+N/4j/lv+l/yEAegBnAGkAiwB9AB4Anv9G/13/Ov/i/sD+yf7o/jP/IP9f/1n/Dv8Q/yT/cP8x/xr/ZP/8/+z/LgCeAPgAWgGtAXwBFgHuAKwA6wBRAWABBAGWAMwA4QBIAAMAEv+b/mn+nv7f/vb+0P59/pT+1P5B/2f/xP8hAEcAKADw/5r/8/9qAKgAGQFDAdAAbADS/5v/ff9L/5X/cv+C/7j/o/+B/0n/7v5q/k7+zf55/wAAxf+H/xj/F/+i/ygAuACbAOf/5P6G/gj/eP9d/xT/5P7C/tX+1P7S/o3+hf41/vr94v1v/dT9b/5K/2z/Vv95/43/iv/J/8r/4f9IABYAMQAcALD/X/86/2v/pP/x/y4Azv+P/yr/W//V//oA+QAGADEA5f+w/2n/N/9F/2D/Mf+K//P/fwDEAFkAQgAiABUAAgD1/z0APgBcALkA5wAmAQMBHAGvABkAtP+m/5//Wv96/woAmQBtADsA7f+U//j+3f6O////aACKAG8AXwAvACwAaQDuADUBAAGgAMsApwHWAWUBLQGWAJAAZgBA/xL/T//0/1kA6wBOARwAVv9G/uP9o/7Q/ob+KP6s/jz/hf/F/+n/0f8sANMAzQCAAMsAOgFlAXQB1AAbAcYBeAIiA94CYQJ1At8CFwPiAnQCLwKbAgoD0QI9AtEAVgC8AHIBPQF4ADEAEQDE/6D/mf/F/vb9zP3X/5ICtgSZA/7/M/0H/JX8svw7/Xv9rv2V/hL/xP+r/+/+xf5o/tX+Jf9x/kr+oP6b/wgAPQCgAAQBBAFxADIB9gKyBBIF0gRVBCMDBgJ+AZIBagFUAQgBvADNAEgA9v/X/7b/5P4X/sD9Gf3v/ef+d//o/5v/Vf4O/vv+BQCaAHoA0ADtAMAB+AHjAbUBmgCF/9D+Iv+R/5v/ZP/e/0UBIwEa/5X9P/0u/FX7SPwP/jMA/gCkAEUAnf9I/gn9Ff1C/oP+gf5K/7P/tv+s/pr9O/1I/bn9Tv6b/3QBxwHrAN3/h/5i/d/8af3R/a38L/vu+uP7AP1T/df8fvvU+tT6KfsY/Fz8MPt2+dz4OPhA9xr3zvdB+Pz3jPj2+dH71Pwd/Nj61/mi+Uf6A/v3+jb6Evqu+j78rv3j/Z/+hv7T/p7/RQBlAWcBZwEQAYv/z/7e/wUBXQImA8IDxwR2BeMF6gWgBnEHAwi9CC4JwAlHChgK0wlSCj0LDAxHDfYNxw2MDqoPqA8dD+oOJg+2DhYOdw3oDOoNpg6aDlkPJg90DpUPXBBAEOwP5w6yDl8P0g+hD88OtQ7RDkQOZw3pC+0KhwmvBiUF/QNdAkACOAIEAR7/Sf3j+xH7A/tk+xv6P/gx99P1UvXr9CH08/MP9C70W/Q5873yXfNd8pTxk/Eu8d3wG/EY8TXwf/B38ZfxJfJA8UDwgfG/8QnxHPEM8oLzqPQp9Tr1HPZu97H3O/gh+R35xvmQ+l76Dfql+bH5+frO/X0A4AKXBpwImwjMCVgLtg0CEBkQMBAfEPwO0w3VC4MJqAfQBdMDbgF1/6f97Pu1+s35CPpI+378Uf3M/Zz+WP9u/8b/FwA7AEUALgD8/zL/f/6P/bX8/Pys/Nj7Ufvq+jr7tfo6+Sf55fkE+kX6TPuJ+3T63vnr+An4t/h4+EX4WvkS+ZT4ovg/+MT4gPrV+4L7GPtC+w/6kvhA+Fb3PvaZ9c7zWPEV8GzvTe4T7q/tYOyd7P3sjew57djsKuyD7YTute/J8WnyC/Nd9Gn1J/qTBQ4Ujx97KQA0ZjpvPyhJFVNoWsNfj1x/UWZIf0LEOwo0nSspIfwWnw1GAgn4PPC66NHlnOgs7JXwh/ZT+wf8Qfzf/iICLgiREEQUnBF3DaYIFwZmBeoDHQRHBYQFRAbzBrgIVw1xEkcYACAcKXMwBzNAMVQt2CmkJ5wk5iDEHIUVewseArL3/u0T6bjl7uGF3WLaCdle2ePaMtyT3krjaugz7p7zP/bh9/v36PfU+T396wBpA/UDgwJQAXcC/QR4B4wJEwqrCMUGewViA1EAi/0I+pL3EvYb86TvEex258jj8OB23s/eRN9E3vPbOdlp1xbY8Nnf2X7YGtg31sLSadI60mDUFtxs54X1gAaCFc0e4ibjLdsx7zXvNvM0BzM5LoooGSOHHOkT4whI+0/qd9e5xyO6Va81qC+l9KSqpgOujLY9vdTAlcLlxXrMptO/2JnbyNvZ2jLZkNhQ29/fVeO25UvnX+pH7171SP0ABbsM+BQ6HREkLSg6KC0l4iHWHSkaHxXRDdcE3/mw747ny+FL3wXeXNzY26fbkt0q4Qjlsend7AXv0fJB9wz7E/7MAMQCuARhB0UKkg7ZECARVRE6EmEUtRY4GF4ZMhgiFfMSGBFqEPAOVgvvB1QFiQLM/w7/9/34+2L5nfcC+bv6Wf3l/fr8Hf0i/yEDAAbfCPYKlAmFCDkHPQVmCMcKhQnCCOIGgwgHD3kZ5ij2NxpGQ1CHV+tge2anaRVpIl8lVUJPEUvtRVY9XzAFIrETbgKb7ivfedOfyMrCy78YwNvDW8oc0nTaKuDj4gfoG/Hh+qAC0wf8CbAJkQnwCZgKUQ1CD9cQ1BMDF58Z+RwCIZAkJyhfLvEznzZBN/QyISy/JgAhihruEzcKLf1p8AnlINwS2H7Wsdam1/PYpNtg4AXm8uoE8dz3aP6lA4IHmwsIDtsNzwy7DBcOAhBeEKYOyAsICY4IKgl4C/ULWArFCKIGqQQGA48AHf35+d31jvH57PLonOVU46XgTd+a4NvhcORT5y3ojums7EHvcfJN9pf5//jt+Mb5E/mZ+1T9TPtx+tH7Ef49CGEWDSXPNDRAsEZBSS1JEUXoPxs6MjQuMGAs3Si3JT0iBBzrEJoCYvLV3/vO7sDlto2yUbKbt+K+EchYz3/Vrd1X5U/x9vulBBgMKg9HD2QNWQtBCusIzwZnBgwGfQVIBogHIgvPDscTZxqAHp4fIR39FnYPjwiSAEr65PJA6uPejNKHyXbDCMETwIDBD8Qax4rKjM+a1cPcQ+TS61/zzfnq/oYBGAMQBI4CaAH3AQsCqQHv/3j8R/rs+Lz3O/ng+mb77vrw+V348fYp9r/1n/Rm8kjvuerm5+7lRuN64pfgI+D+4STk8+YV6Ibqau4l8yH3Lvt6/nYBegG4AOYBYAGQAewDmAfrD8AdUSuIOdZCDEhgTs9SDFbPV81TaEz1RKE/0ztCNNMpMBxgC0/6uOZx2OfNf8M1wNe+Q8BAxdzLFNR32/TgOuYP7Zv3agNGDX4TaRTuEwUU4hNjFcMW6hYTFzsVvBKoEkQUbBczGoocSB8vIGsggB01GD4QNgdx/1H4NvH+6YviNNoc0z7Pis+Z0XrVSthp3EThDud072z3d//dBEoJrw1GEaoU3RXbFHATrRCjDs8MSQmABdEAoPy4+or8D/91/6b/Sv1V+2b6WPn/+pT7x/kl9+nzBvFR7/Pufe1l6tDqsur86pzt9+1977rwmfIJ9oL55f5GArIDtgOxAEIB3AKRBDsK6BAmGtYkEjAQOtpAH0czTAlQNFKeT+hIr0ALOqozsSvxH44U7Qfk9ynoZ9dCyoi/2roau4S8jcCwxU3MKNQY3LTkuO27960CTg4AF5MZ+hnsF6AWyxccGa8ZeBnZFuQS4RDPEAwSuRRFFdMTRhPrEBMNqgiJAzX8GvVV7gjmb9+q2BXTiM9KzcLO4NHp1fXae9985fTrLPT//bwEjgq+DicRVhNvFaAWfRZxFIQQ9Aw2CdgEtv+7+tX3nPYd9ln11PQB9CLydvDo7tPuvPAM8jTxvu8V7djpsehp6HDnBefe5xPorOhm6jftgvFo9IL2jflN/VwAegINAykCrwPtByMQERpbJekwOjjtPHFB40XPSZJLl0hhQ6A8ATeSMMAnERzdDmwBGvIp5S7ZPM8TyLPC6cDzwRrGIM5o1pne1OXm7FH0VfvUBKUNeBQyGMgXmxagFSUUwBM1FBcUvBNeEvYQtBFsE7kVcxeRFpIU3RGZDaQHdgDH+VDz7evf46HchtZ50TrO1cv5zMPRs9ez3v3kVevF8ir7JgPXCTkQGRXyFx0ZgBiRFtcTJxAyDDoIiQTuAOb81/jd9DjyDPFd8Zvy9fOc85HyJfHc8GjyWfKH8rHxw+8c77HupO3r7AjugPDQ8WDzSfWl9rH4yfml+4D+7AA/A9wDmgSmCP0NpRT+HXUpyzQiPJZAwUTnRzlJTEgfRXo/cjngMfQnRRxxDof/g/DP4yHZbM97x4vBHr44vh3B5sf9z/PYlOAO6Xryy/qJBMMMXRS5GawcSB02HBobehrDGY8Y2xauFfYTGhKWERIRnBBLD8wMLAmDBQoAh/mJ8hrsDOf54ELcmtd208zRbtGh003Yht645YDsuvHo9lX9ZAQDC98PrBIrFBoUThJkD/sLwAj2BMsAGf1a+k34V/X+8rjw7u8i8IPwnfKW88nzdPS39Iz1N/dR9jz1L/Mm8BbvzO1J7XzuBO4w7yvxB/Je9W72KfcC+uj7G/4BAHICrQiWEDEbXiX/L3U8j0H3Q21IikpHS0NK9kXyPxM3zCzVIKMTcwde+bHsDuDK04fKpMKHvue+YMKixqrOGtcI3znovu9L+P8ANArTExIaqB7OH9cckRogGSQZsRgoF5UWhBSNEQAQDg8+D/AOfQyzCWIFo/9n+dTx0ep35dbgn9yY2LzX89ZG1g/Ymtv34Y3pZvGC90r+nQMJCXUPOhT5F7MYghcnFRIRBAwfB9wCyP5L+mX31vVk82bxB/Hi8FfyNPSD9U72CfcM90H2kPZd9zr4rPdW9aby5PDA7l7uYu8v75DwgvGS8f3zcPR89eL4R/ok/Sz/oQLpC8wVmyAaLSU6e0O5RjxJLkrDSAJHqUPHPVE3gS4CIrUTIAOd8//kDdmVzlzFEr9nu6W7Fr9cxaHNmNfr36XpBvNe+2wDOwtXFEkbBCDJIeQfyxyEGqMY2hjhGHMXshW3E0MSRRFjEHEPkQ2RCNsCUv1/9l3uuebX4HzbsNfY1JfSoNLD0/HVE9tS4srqHfN2+vYBawiSDb8SYRjBGyccpRotF/sSPw3yBysDYv4A+0P4MPX48jfxu+8o8N7w4PF583X0+/Q79eT0FvUE9ZP0XvMH8XLuX+zE6tvpQOpR6srqtuu9603tzfBF9LP3HPuX/TIDQw5uGE0kMTKaPctFc0qbTRxPxE7qTLlHLECINzks5h5xD1T/qPGX40jWx8vwwTK8GLoPvC3A0sYB0fraHeSp7Df1ff5PBwcP6xcWHlwiNyQAI0Ahzx+LHnAeRB6mHNEbgxlzFuAU1BK0D3oMYAfUAJz43PCd6IfgKdu21ifTqtEx0RDSZtR91yzeOefB8Sb7WgT3CyQRIxaGGnAeNiB8Hroa/xXDDyoJrwJ8/A73xfM/8Gfu/+3b7R3vLPBe8qr1P/mm/Fn+B/5X/Yf7c/lB99/0TfLz72DuZuu+6o7rGOqb6hXr8uqa7Vbvc/Hw9WP7lQSdESYfoCxmOQVDaUmHTHBOCE6FSlBGa0DvOPcugiJ4EwQEiPZ96k/fQNTNyo/Dbb6qvK2/QcYgzszXLuFl6abxivmeAOMHVA/GFWka/RtmHCYbgBqjGoAb2xyIHFMcFBvWGWIYzRbNFGoRJAwJBX789fKm6Yzg9dhi07bPac7PzpHQBNQ62BXeo+Z28BD6WQMVC30R/hW6GZIblxuDGjsWDxEuCw8FuP4j+V718PIY8QjwIfAv8R7z5PWg+Mf6p/w5/qL+F/3W+oL4GvbE8/Pxa+/36x7qregq5+vmbedN6FPotOku63Ls7u/39P/7lAY0E48hqzCLPAhFnEmTTDFNEEwSSkZFej0cNKEo0xvLDW7+sfG35cTZAs+Yx5vCz7/wwDzFxst01K/dveZJ75T2vfxSA/gKnxH8FtYZ3RkMGA0XVBZEF2cZ6hnxGQUaFRk/GJ8XtRTqEdoNGQgbApj6ifLz6SDjOd2p19HVvdU11lXXCtpv3jHlGO4R96b/3QV2CxIQGxM2FsAWQxVLEg8OkAnjA3X+kfnl9EDxv+/l7/jwqfIq9KH2s/ng/UkBdwNEBP4CAwHH/lP8NPkr94T0B/Gz7ovsjenP6LzogOf250/pYOvS7oHxGfYK/qwImBTCIVQxKT1XRB9HDkk2SbRH+kVTQEg4fC25H2sRhwLD9GDqT+FF2HvQBMxPydTIKMtcz7LV9N0J5iTuA/a/+28ArQRyCvkQ6RXfGMUZNxlxGEAYkhnwGkUayhmYGP4VbxNxEG0MrAezAiP9b/cD8Yjq0OOY3ELYUdeR13LZXNwr4EHknunT8I75LwLsCGMPthO1F6wZahmxGBYWnBFTDBoH3AHG/GT3sfIP8ILv5+/K8bPz2PRN9rz4ZfvG/QoAFQDb/lv9pvp4+MD2M/WD8pzv4+wG6gXpmOil6Efp++nx65ju9PDz9rAA/QwHG1EqTjiIP21F2EhJSDhJcEjIRNQ9XDLVIyUTXQPV9fPrGePB2DzSpsu3xU7Fm8iXzXfUCN0f5nTvNfa9+ycAgAQ/Cu8P7hR1F08XZxb8FKwU3xZcGd4aFxtZGvgY4xbuE9EP3gsmBuz+Lvg38ZvpRuFd2qrUs9K10+nVTNrJ3iTki+qz8fL69gTzDfgU1Rn6HJMeSh4WG2UW3hA0Cv8D5f2O9+jxlOwo6WzoFurI7f3wHPTi9oT4N/tn/u4AXAKfAnsB6f56+wL4s/SQ8T7vSexo6v/piekP6rTpjeid68rwaPU+/X4H/hJSIEAvBjlrPlhE0kUXRd5EuUMePzk2DSqaG2MNYgAY8xfoXOAt2NvQi8p5xxjJNs0Q0rfXReCR6aryMPrk/q8C8QaLDPYRYRbiF/IWrBWKFEoV8xedGuQb9RtqG7gZqhe9FE4QfQr1AsD7lvSm7TXmBt5L1l/RINCy0k3Xwdv54CrmBu2O9t4A8ApxE0UYkhsHHWwc5xpFF2kRgQpVBDb+rPcr8izuT+ul6grss+6T8UX0QvZw9xD6Dv1R/ysBkgEKAF79+/of+Fz13/Je75Tsheqe6W3pfOgL6J/nUeni7Ofw1vlTBS8RdCA5Lsc31T5lQmRETUXlRG5DUj+BNpspOBojCh/8QvCo51vfztdV0QzLSsnqykDPdNWo3I/lKu6J9aL7c/8CA9AG8wv7EMwTQxXVFA8U6hNNFSgX/xjiGgQcFxzzGjgYhRPdDc8G6f5893rviOeV4AfaA9Td0e/Tatca3GXh/eZW7v/2tf+xCHgQIBV1F38Y+RdUFqsThw8BCgEEO/6e+Tb1avHp7knuOe848Qf1JPiZ+kb8VP2u/q3/SgDz/2X+wvs6+BD1n/Is8K7t/Ora6Wrpwuhh6UnpTOqt7CrvVvaPAeQNLBxXK7o25zzfQcZEAEbDRtNDrj6GNtEp8hrNC8j9p/De57TgZNl81E/PjsxVztrSeNiS39LnCPDA9jD7GP4RAWAESgizDKQPeRCsEGYR7BEWFE8XoRltHOkdix3FHPQZqhWCD40HDP8x9/HvYOhs4J7Zl9RY0sLTtten3UXkiOrz8CH46v9TCDEQmRUVGFAZqBhVFi0S8gxTBysCkP0D+d318fHp7r7tE+0f78nyTvYN+jH8eP0g/3YA2wF0Au8BaQBa/cT5JPbg8qHvNu3u7PXsa+y/65Hr0us37cbvy/Tx/rELZRnYKEI0HjlmPeE+Mj+rQf1B8T+8OEEsYRwXC778CPCS57rhetq31ELPssu0zNPQ9taW3mXnB/CN9kL7sv0y/wsCsQbqCw4QSBLrErISMBL6EpEUzhYWGjIcIBzzGYQVfhCLCWkBw/ro9DzvWuls4knbidbQ1cnX3txw5NHqrPBr9l/7IgIOCmcQWxUcF/gVlhP9DwcLvAW+AJ/8jvma9hL0a/Fd77XuEPC288D3WvsV/uj+tv6G/zIAEQGGAhcBpv2t+Q31IfIl8G7u6O7f7yrwku8s70DvlO4o8IT0IPufBlETPiDVK6gxhDTkNoc4EDrSO0c8kTdRLD8f1w+RArr3Ge7F6FrjbN3r1+fS1dA+0inWY9yZ5LHt9/Q2+ib9Av5iADkFugksDjMR4BGXEn0S4hKCFXUZ0hxEHWYcfBqPFiUQqAcAAFD5k/Pq7TrnpODn2g/XvdZx2bDfr+fq7pP1bfq1/8EGLQ6GExgWnRd/Fm0S9Qw/B6gD7f+9+974rfW2867xVu/b73/yVPbW+nb9aP8RADUA6v+Y/vb+3P5F/aD6J/dL82Px4vAv75LuCPE68xXzQvL48UXyG/RR+Gf+fwlSGB4lqi1cMUY0LDWANfs30zhRONYygCZfGCwJ5vzG9CjtPugs4obdXdif003UhNbU29Liv+kf8Rb3//rz/NL9cgDOBHEKbA5HEAcRJxFcEbcSBRXdGN0bNht/GMgTLA4LCJYBS/q1893twOgR43ndMNqF2Tbbi9+s5mXuz/Vi+6P/SwRQCQkPmRO8FGUUcxLhDZgILASyABH+Svuz+GH20vTJ853y+/II9Tn4+fuS/vD/bADA/1X/af5I/aP8T/sr+Wj2d/Ou8bjwm/AJ8Cbv2/AU8VfvovA68mP1RPx2BoYUXSKqLJIyNzarNiA26zchOfY2BjHGJSwXnAjd+5fyK+xp5yji9NyF2KzWj9cr2dTcw+Ok60bzqviz/Mj+Lf8LAToElAkjDtAQ5xGFEmoS+BM0FzMYlxnRGa8XMxPADBkGk/1R9mDwUupo5jfiCt3u2W/Zbdv+3zjmYe2Y84H5Df4NArEGlwqVDbUOFw4DDO8I7gQUAaj9hPpy+ET4ffg5+Jj4Sfmj+W37Ev7u/7YBaALRAZIAmv9v/hf9qPuC+Rn3UfVV84/y1/Iz8rfxcfFR8hXyqvHR8mP0Wvcm/jgIthYyJOUq0TF8NSQ1gDbQONc58ziCMsAmSBnkC6z/tPRh7y3q0OM130DaddjR17PYed015IvsdPNm+Nz71f1S/4YBbgZ8DHMQSxJwEksR5BH9EsMT7hWTFsAUPRL2DW8HNQCl+dvzJO+h7Pbpiubr44Thj+Gf5Njqz/Fj91z8GQB1A7wGzQn/C2cN9wzICi8H1gK//kH7M/g99jb1JPXm9a/2Hfex9+b5PPyq/8QCpARdBYgErwLmAHIA9f/v/eP7xPmf9xv16fIL8w/zl/N19C30Q/QQ9JnyBPOS9Vj7BQbYEyIeyiVaLVcwUjBeMb007TZlNvIxxyZOGsENJQAV97/xMe686C3jLN5N28/alNoR3iPl9+yY86T4UPt8/mMBUgR9CI0OhhMiFcMUtRKCESYRyxD7ELAQ5A3kCCsCPfu89d7wSez76VPpcOhj54DmdOb356LrZvHO+FIA7wV1CLYJtQo9DJ0N2g3VDE8KRAbdAFL87PgV97v1gfRP9NT0M/U89T/2l/ha+6D+kAFDA64DDwP2AIP++P22/Zv8xft++rj3SPUo88fxyvKW9D71c/V09Rz1cfTh9Ov3tv1hCIoVnR9cKHcuHC/0LikwDTOuNQI07yyDIbMUQAZn+ePxLuwc6JHjzt5424XZCNt43YLinurK8R355f5dAq4FUgfhCDUMRRBYFF0VTBNhEDkMNwmJCOQIawm2B6UCk/yh9kPxZu3f6u7p7+nn6R7pfejg6Ezqru288vD4uf+SBDUHvwjXCKkIMQnKCdIJYAjEBDMAGPsM93z1avSm9Bf2lfaI9i33Z/dJ+Av7Df6uAAYDxQQQBOACKAHF/rP+BwBxAF4Aof5d/Hf58vWk9kX3T/hQ+c/1H/Nf8ijxPvID96f/aAkHErobnCIlJmcqFizXLAIwli88LO4lnRxGEjgF1fsJ9j3xjO776gbofuUu5Hrl0uZN7AfysvX++ib9mv5QAH0BpQSdBw4Lig7+D2oQbQ64C9wKrwnvCJAHngTsAc78gvdi82nvRe7t7OzrOOxE7FXtyO4L8br0Q/hy/JAA1wJuBDgFOgU0BEIDLgJYAKT+Lf0r+4T5MvhZ9034sfnO+zX9rv0I/7j/AwAPAYEAfABqAEn/Zv4E/Qn8bfug+3f7vPt8+/779fzP+yj7Xfr0+Pb3Zvb09H30cPPZ85X1W/ncAC4I7A5sGPkfUyM3KAIrYSszLOgp+CQNHzgY2Q8BBvf+b/ri9JvvnOyb6izoYehM6fTpuu3g8IDy8PUD+UL7Jv4UAcMEeAg+C+8MXQ5yD/cOZA49DdoLwQn7BaEC9v7q+nn3cPPp76LuPe0d7Q3use7U8Krzv/bG+Wv9DAB5AYMCCQNCAycD2gGt/zf+wvzw+7T6hPnL+KD4UPn0+eP6KPyK/Qf/S/8J//X/FADAALEAWABiAVEBzAC6AD8Agv8i/1v/Sf+g/nz/Sv1A+9r6/Pb/9P/zlfJE8sLwi/Bn8n70CfsiAssHFxGwGY4eoSJPJ0YpCCncKP0kSB8DG8wTaQxIBuP/r/xi+Hr06fON8W7w4fAg8avyNPPx9Hr2Ffdm+dv6Yf2TAGcDXwZdB88JFQycC4wMRQ0qDFEKUAdKBOoAx/3v+ub24fRt83rxN/GO8ZHy1/SV9ir4D/vV/PP+fwDIACUBnQDX/6v+L/2J/BL8TfsS+1X6xvnS+Vb6Dfs7/Jj9gf4x/x//6f6t/qb+av/U/8n/xQBZAf0AAQG3AAUA8wA2AV8AkwDP/x7+P/2M+1j58/jn91r2dPWR9OfzFPRP9Gj2mfrC/ykGewsxETwWERpEHUoflSB5HywdcRqCFdUQ5g2SCX4FygN7Afn9Efv8+dv4WPiZ+Z341feU95v2PPah9eH3ffrb++X/UwLUA30GqgeUCPQIWwkHCUsH5gSgAcP+Jv3M+oP4G/gP+M/32vbx9Qr2UvbW9oD3U/h8+rj7yPuY+4/7Cfy++1z7jPsD/B/8wfvR+mT6rfqz+nz6t/rt+jP7ufvC++r7cfyR/NX8Df4b/+7/jwCTAAUBlwGOAGEArwDx/3IA3P95/tD9dvxW/Oz6LPpp+z/61/kx+Qf3Z/X59MH01fW9+FD9kAJuBXoJlw6MEVsUGBclGNsZDhp3F80UDBG9DVULNAfgBGYFMwQgAncA5/3P+zT78vnG+JL4q/k1+0D7DfsD/b3/WQGOA7YFQQboBt4HkwY2BcYEDgN5AMr+Xf3z+wD6Xfiu98b2L/cS+Lz4Rvkp+rP6X/qx+uL77PuH/LX9Z/2T/QP9Dfyc+wT7N/tq+776Gfv7+iD6vflX+aL5ePp++3f8TP0K/iT/4f8MANsAjALyApsCogI/AtkBRQLXAbcAWAHHAcQBjwCs/5AAh//A/t3+F/0j/aj+uv1/+4b6jvrV+ej5SPx7/rwAgASGB+cJoQvbDU8Q/RCGEjIUyRIzEWEQKg1RCsQIOQfkBdgFnQV+AwMB0v5L/XL7p/qf+6D84Pwl/kz/C/9mAKcBLwK2AzcFogV9BUYEjwIUAfT+Ov4j/nn9jP2E/R/9Dfw4+jX5E/lr+Yz6M/t8+8X7J/vl+rz6Dft6/JL9gv7+/tr+Pv5G/V38yPt3+4T79fu8+wf7V/pb+uj63vpO+//7QP0M/5X/df9i/3v/rf+Q/0z/X//Z/60A0gCiAGUA5P/q/6D/iv90/03/Zv/D/+D/+f6o/o7+Dv2v+7/7Nfvz+vf6CPsu/RX/HwF6AzkEWAZZCYIJUwnxCX0KWwtCC04K0wn5CQoJuQipCDYH7AZwBx0G1QQYBDQCbgHx/9L+Sv/G/lD/pgCHAEoApABdAFQAxgA/AWYB4QArAJz/n/4u/Zr8p/yN/CD9Nv1Q/HX8CP0T/On69vo4++L7ifza/N78Bv1q/Z39lv2C/eL9F/6//XX9eP3c/BH8CvwC/OH7Lvwo/Bv84Put+6b7WvtP+5b75/s2/In9df4t/97/JgDEACcBDwH1AN8AYQBtAIIA9v/k/3sAegC4APgA9gBQAYcBOQFIAPD+T/5W/t/9S/3P/Ff+FQBeAE0AZQBbAUcCDAOHA+gDVQT5BMAEtgRgBVAFhAXRBfcF4gUQBhEGBQauBc0E7AQlBHoDXAMTAjAB4gCVAd0BtgG3Ab0B9gGJAjQDWQIYAbwAnQBB/439cfxJ/BT8O/xK/GH7HPvh+7v8YPw3/Cr8Vfy7/Cf95fx0/E39cf6+/rn+HP/k/qn+wv4G/3//c/9u/sP9Mf2Z/Zv+Hv57/VD9zv2i/YX97v1u/sv+B/8aADIA2P+o//3+4f69/14AKABwAKIAUgA//xP/pP8I/8f+6P7r/0MAygBnAaIA/f/z/z8AJgD7/yMAhgB2AR0DnQPZAvkA4v8wAKABPgPKAysDoAJtA7ADlgPkAYgAAwCRAHEC4gIkA7sCdwInAyoDUgJnAOn/iAGaAtwBXQDj/8T/1//V/43/M//P/vP+DwCNAPT/Lv+r/tP+kf71/u7+tP5R/5z/kP9V/w0A6wDqAP0AoQCg/xn/eP8gANT/u/+I/8/+Yf6Q/sT+2P50/rT9EP1D/Rr++v0E/uX9Nf5v/vf+c/+i/gz+4v59/07/H/+b/jf+I/7+/nH/kv5U/nr/3f+n/x3/xP6u/vf+0/9g/7f+uf7X/un+OP+r/7j/av9G/7X+0/0R/lr/LwA6AE4AIQCdAEYBmwC2/vL98v7m/zAAcQCUADsAtQCYAdsB2wAFAG8A3QBiAeoBQwJzAgYCzgFxAQABhgDh/73+Gv47/xQAi/+t/rL+2v4F/zL/9v4Z/lf+sf9fABEBPgHeAEIAdgCFAekB2gFlAgkDfgI7AacAOAGLAXoBdQGnAWEB/ABAAegBEQJWAbkANwArAOwAAwH5/2//vADDATQBXgBOAPcANgFVAeoASABaACYBpwElAZ8AxgDuAAoB/ADNAHYA6ABcAQ4BjQAXAEAAxQCyAIb/Tv9q//7/BQBH/93+I/9AAPMAxADA/+7+ov7r/nL/xf90/yD/Xv/S/04AVgAYAPX/+v85AK8A4AADAQoBbAAXAEoAUAB7/3T+0P7L/yYAxv9A/zv/Rf8C/63+v/6Z/rr+7/7f/jf/0P86AE8AiwBKAFn/zP6u/4gAuAB6AFUA+P/S/xgALgCXAKQAQQC4////TgA+AKf/FP84/5P/5P93/y3/Z/+j/w4AVQB+ABoAjv+m/xYAngDeACMBQQHmAUMCTAJoAv4B6AHoAfYB8wFTASoBfQGcAZoByABLAA4Anv+y/+7/TwBRAM3/Xf+r/qL+5/4x/g/+j/6A/o/9A/30/Jr9oP7l/sn+yf4k/+r/ZgDh/3L/tv+GAAEBgwGXAWwBCgEMAOj+1P20/R7+b/4X/uP9Jf6A/lH+7P1O/rL++v6l/mz+9v5W/4//Rf/0/i3/sv8PAGoA6gBOAYsB3AH6AeAB1wGHAXQB3QEzAmkCbAIjAtMBpwHFATACPgLzAeUB6AF8AogCrwEPAUMBSgG+AAQANf9R/9D/fgCRAAsAbwAHAZ8A6v9S/xb/iP8KANH/MP/W/hj/mP9c/yT/kP9AAGkAlQCwABsApv+4/8b/ov/y/+z/DADr/8X/7P8TAEEARQByAD4AKQAHACoAPABPAKoAOwE4AdoAqgC2AMAAngCwAIEAPAD8/9//QP9N/+b/6f+L/6r/s/+W/xv/0f4J/7v+v/6T/pz+kv7U/lD/Yf+j/zMAdgBCAAYAAQA+AMgA1wDF/xr/wv9lAAMASP8G/0z/af9F/z3/ZP9G/wn/wv6G/gn+E/5S/rL9gv3l/S3+Nf6U/n3/hf+7/pL+yv4R/1b/Yv/K/3kA5wBrAGb/o/8VAEIAFADc/yEACQCN/+r+if93AGsADQAIABEAPgA6AKr/iv9G/wL/9f63/qv+yP7J/iH/5f8nAEMAjgA/AE4APAAxANgAAQFOAcABTgGKAGAA5QAJAcsAOgFgAY0BbgE1AfkAbADi/6P/CQAgAAQAuf+c/2j/Hv+P/nr++f5Y/5b/j//Q/1oAvgD2AOIAUQAiAC8AKgDH/5L/ev/E/1kAhgDNAHQBhwHzAGUALgDkACEBBQGXAOwAqgGSAdsABADI/9T/fP+0/gT/f/8AAAEA9/4A/vz9jv6N/pD+3P4q/xr/zf7E/gD/Af+X/on+FP+w//X/MwCxANEAgQAPAFkAHwHyAPT/4f9cAJMAyACEANQAvAH0AToBcwC8AB8B/gCUAEoA1QA2AYQBLAFCACMAcACGAIcATwBCAGgAtAAdAd8AJwFUAXsAYf8M//n+Ef/u/g7+t/0x/mj+4v2n/e79fv5I/xMAXwCm/3v+2/5T/07/Qf/s/gL/D/8a/xf/Ef9T/9P/gwDlAKQANgCN/4X/QAAwAeUAyP/k/rX+YP9P/z//h/90/2j/9//+/wYAhQDBAGgA9P8rAJAAnQBgADAAvP9xAO8ASAC2/ycAHgHJAB8AQgCqAHwAXwBrAIoACwCA/4T/UP/z/r/+lf6j/q7+KP+V/07/Pv9F/1T/QP+H/2//e//K/2gAvACrAB8BxgHbAZkAmP99/20AcQGnAYMBywEJAkkBngCiAIoAfwBfAB0A4P++/zsApADvAGwBlAGUAToB0wCRAKkAKAE4AVgB+wBTAHv/2P7z/qX/uQDzABwAzf/G/17/xf+rAEcB/ABDAJf/HP/e/1MAZwCpADUAlf+w/gj/of+U/8T/uf+X/1L/+P7V/jH/iv/3/5j/r/5+/hX/LADe/+z+1v5p/7YAuwF8Ad4AkQDXAI0A5/+N/3f/QQBxADQAjP/x/kr/vf9BAPj/Bv/X/qn/dAAgAAMAegDfAU8C0wBW/93+uf+bAVkD2ALm/wn9Bv1w/vX/ygBWAGwAewHWAlYCNP8F/VL9yv6y/w7/gP0O/q//kQCb//r94v5TAAgBWwDu/sn+JQBiASkBAwCp/+r/hQCXAQsCKAFvANkAWgEaASAAjP9w/8//aQDc/7r+i/5p/24AzwClAOP/1/+yAFMB4ABBACMARAD8AF8BdgFmAQUB4gCgAGYACgAF/4v+kv91AKoAtgAIAPL/twBqAUsB/wA5AOz/bwBcASkCcAF3AI0AAAHPANcAcgCFAMQAIgEVAuoBXwDM/sr+Nv9J/27/0/5O/gf/o/+s/53/awAKAS8CwAOqA6gB0/9v/9v/jgDb/w7/Cv9Y/5v/5/+C/1//Yv/U/zr/Vv0X/Ev8IP7e/ir/q/7H/Uf+KP+0/sb+If8X/5//rf8h/2b+5P3R/un/rgAAAXAAYgCTAMQAnf+A/o7+/P6I/5H/w/7a/oD/WgCrAeIB8QEfAcUAKAJVA3sDeQKKAcYAuQA4AYQAr/+z/k//2wD1AB0AEv96/zcAP/+f/UP9lP1a/tj+pv7U/lX/bQB3ARECgwJHAk0CqAHyAMwAYgEGAs0BNwLsAnMDMwOZAs4BjQGcAScBcQDF/yMAogDR/9b+uP4+/2j/u/+e/1r/if+D/3T/pv7m/UT+oP4k/hL+RP50/iH+Jf68/jb/Lv9P/rL9Z/1f/QX9evzJ/OL8Rf3v/dv9lf2U/aP9T/09/QD90fwW/Vb9WP3b/aT+s/7G/RP9Iv1X/Zr9yv3f/g0AMAGXAhEDOgNFBP8EGQXOBWAFqATuBNsEDgXgBMUETQRPBDsFBQUMBekEsARpBKkDLQNEAqkAq/+a/7L/gf9O//H+zv7a/qr+kP4t/pT9EP0E/cL8sPsT+2T7SvxS/UD9Uv3j/aP+lP+K/yj/Df+2/qv+eP7H/RH9Ov2e/cH9/P3z/f79mv2q/Sr+c/5X/of+xv7i/m3/1P9nALwA6ACJAQACWQJFAiICaAJzAlUC6QGDATwB9ADYAIcATQDJACoBQQEUAbUAfgBTABAAzP/S/8X/DwBzAEoA2v/e/2kAuwDaAKcAngDQAJYAOwDY/7P/tP/u/xoAqf8G/8T+fv4I/uL96/0E/iL+NP4q/pL+Cf+r/ykAwwB8Ac0BdQKTApcCwgKfAtECugKlAhYDOQMqA0gDawOoA+kDmQMjA7ACWwKEAe8AjgDl/6L/gf+d/9n/JACS/4H/FQCZ/8H+af4e/sr9tv1A/SP91vxz/Gn8Wfyx/A/9of1l/V79+P3G/Z/9lv1x/ab99f0w/nL+kv4T/3v/sP/B/5D/of+N/4j/n/+X/47/Yf+F/+7/8/9v/3H/ov9m/zcAzQAYAZoB8wGIAmoCiwK+ArsC3gLwAiMD+gLHAtICUQPwA2QEIgR9AyYDvQKFAtIBIwHOALIAqwCAADIA7v+q/1f/Xv9C/z3/o/4E/qz9bP3a/dP90f0d/hr+Lv4u/t39pf2V/UH9xfyQ/H78Xvxp/E38dfx4/Sr+df7U/gv/gv/j/wsATAC2APoACQHyAOIAbQHaAWUCKwODA/oDDQTSA+8D2gMABAwEOQR0BNMEUAVkBXQFJwXABDYEsgMoA2oCYAGNAOT/bP92/63/kf+2/qf+w/4k/rX9XP3i/ID8+Pud+4D7nPsP/FH8q/z1/AD94fws/QT97fxa/U/9Pf1M/TX9/fzm/Pf8LP0y/Tf9L/19/Yv9p/0Y/oz+/P4G//T+Ev+e/9D/7f9VAO0AFAEsAS4B/AA8AasBRwJvAh8DwwPmAy4EoQQDBdwExQSrBL0EwQSpBLwE0wTLBP0E/ATyBKoEKATcA/ACRQLfAXgBrQBU/9f+gv4y/iv+Wv0c/QT9Svy/+577pfuk+9T7i/tS+0f7Vvtu+5H7u/vK+/j74fv3+2D8evyj/Ar9a/0G/kj+rf41/8P/4v/o/3QAdQCVAI0AIgCwAHMCogP3BHQGcgc1CBEIwwcJCNMHBwfZBq8GGAYYBYgETQQRBPADxgMhAwMCigD1/lz9GfwO/Nf7qPts+yX7d/tu+zD7UvvF+7D7kPuI+wj72/p7+yH8Yvwh/aD9pv2a/QD9p/xh/OX7wPuw+1f7//rM+tn6DPtt+yz8+PzK/RH+gP7E/iz/vf9AAAEBRwFCAvwCMwOzAxUEkASpBLIELQUCBUYEGwSJBAYFvgXbBRMGlwb9BRkFaARLA78CPwI+ARIBEwF5AAoApf9J/7z/a/8s/6z+4/1B/YP86/s4/Pz8Vv3O/bb9H/6A/nj+Wv4d/4IASQDE/+H/mP+x/7X/0v/IAPMBHgO1A6cDDgQuBEkE/QPVA/ADMQPAArsB9AELAuoBMwK/AVYBDgCn/tj97vyO/NX86PyE/dr9tP3F/RT+a/5w/oj+gv4X/t39rP0G/qH+AP+J/9X/wf96//H+LP6o/TX9Bf3X/JP8MPyq+1f7BfsY+4L7jPsj++H6iPoP+g/62fk2+h37zvuh/Of9nP/XAH8BrAHQAYcBpgDFALoArf+3AHcBowJzBrUKDxD+E60UrRNGEXYONgs4CHQHPgc5B9UGggZ0BuUGPwdiBgEFAAOg/5f6D/Z784vyAvNt9eb3GPpL+zH7hPr0+SP6N/oy+hT6GPqA+Yf5jfvt/b8AUwOvBNwFZQU5BI0DfAKmATUBPAHDAb0BQAJnA7cDQgSvBJYENwNKATn/m/yL+zz7mfuv/Nj9BP/f/+j/i/8l/+L+tf5y/gz+hv1B/n3/GgH6ApwEXwadBykHjQYKBakD+gINAqcBOwEhAQoBowBy/8j+1P3k/HP7JPpb+IX2kfVY9Fz0k/Rk9bb2e/cS+Hb4e/jm+On4c/kf+n76VPvB+0D8rvxZ/cX+j/+3/3n/+f7t/o3+ZP69/of/JQBuAFMBJwKmAlMD8gNKBA0EdANBAsAB0QFbAuACNAPMBHIGmAd0BwkHwgeWCBAJ/wmlCkwLNApiCewIXwdiCAcJmAiICMkHhQabBI4C1QCN/5r/f/5O/Yr89vqa+rz6GPtG+1b7/fuO+376nvrh+hf7dfwH/jj+qP7T//7/0f8iAGkAgQFGApIBpwEpAnoBWgFDAQsBRgHhAFsA7/4V/kP+o/0J/T39IP2T/O37sPvX+zb8d/y9/D39Vv1r/d/8qPzH/DP9v/0V/sH+Ev///gf/qf+AANgA9wAjAYMAnv/8/nv+sP5T/7v/YgBDAZ8Ae/8H/1T+NP5q/sz+K/9r/8j/uv/u/20A6gCKANv/XP+r/d38Uv1v/Rr+xP4N/+z/Gf+f/Z39mvzk+xD96f2Q/en8M/2z/a/9/f51/4X+7gDHCk4Rlg7mDlgQoA3qCwQHZwX2C5AMtwsXClUJBwwqDJIKywbiBXEHWwFb+Jj22PYw9z/3gfq0/cn9eP08+zP5/fcN+Xf4Cvi3+pf8iPz7/Mn+8QDFAWAC6QIwAu8Ayf1J/dv+yf5D/5MAagHjAMr/9v6f/jj+8P2C/XL8Avy8+wr7PPuY/Bz+yf57/tf+qP30+/36Ffra+sn7IP2U/VT92f2S/ZH8ZPxz/Rj+/v1s/or+cP4v/gL+mP84AGkALQFhAMf/Yf9m/xUArQBzAuECoAGCAMf/f//J/vv+LABuAY4B0f/r/nL/Z//a/pL+eP8AANH+Hf3s+1r9DgCnAJgB6wGi/2394vo7+hD9JwH/BikLqAsWDZAM/AmoCAUIgAmtCmMK1QnOCSsKEwqPCjELQQtaC9AIbQON/3D9Ivwu+4f8Lv/QAJcBmgBk/m78mfus+hj6Tvq2+hL7t/qF+q/7x/zr/f7+FP9Q/v37l/q4+f/42frY/E3+Sv/4/j3+Iv1C/Uv+Kf4Z/gf+g/0m/fn8Jf0d/kgAzAHMAfUAZP8z/jv9nPzz/H39+f0u/kz+OP6u/Zj96f2e/lv/P//Z/vv9mf2d/c39C/9xAFYB/AGxAQEB9wBKAHkAKgEyAT4B5ADQAJ4B3gGOASoCugMpBPcB1wAHAX4CTQJN/yIAVgI9ApUBZAGHAf0Aev+V/nj9v/11/pT9wfxC/GP+bv+c/4kC4wNfAyEDOQJjAaMA1AF8BZ8HKAjRCbcLEwt4CQEIywaQB58HrgVcBBYFbQezBmcFmgZoBxQG4gLDALr/mf7f/AL8o/wk/qH+BP77/Bz9d/2o++L6tPro+hD6/PiK+e36pvtW+/r7b/x0/J370/rE+gr7lvpu+uL6tvvf/PP8Ov3R/Wv+Nv4l/j7+tP0+/Tb9iv0H/gb+R/7//vL+lf5K/jb+8v3L/Zn9H/0A/Tv9tv2B/t3+U/5S/uH+R/+1/sf9rv32/Yb+6v4c/5L/of9i/77/BwBsALf/bv8xAJUABwEXAbgAtgC3AT0CcgIcAu0B7QFIAaoBcwKaAd8AEgFvAVcBAwCh/xz/3f69/6f/Bv+x/xwCUgOiAeEACgJBAoACgAEvAcsCDAMdAyAC+AEnBaIGVAaoBtEGXQYDBe0DCgRlBJ0EGwX0BVgG1AXiBNMDCgRQBNkC+wBCADUAPQAL/yr+zP5G/8H+P/0n/FD8lfy2+7j6Ofqe+iP7F/uN+tr6gvtH+wP79fpf+5f7JPt/+xj8Q/yO/Gz8Df14/hf/kv7m/Rb+H/8A/3D+vP3B/Xj+kv6u/ib+l/57/zP/Dv8t///+Df+4/r/+HP9b/2z/cf80/4v/oQBUAKD/L/8N/6X/PADkAJoBjAGyAB3/C/6D/s4AZAKGAqEC6ALKA1wD1wGMAMv/9/8RAaMCWwNlA08DLQMKAxYCQQHCAJIAFAG1AMf/XP+n/1YAJAENAtUCFQJAAPn+KP4N/lb+0P5m/34AqQEyAtgBsAApAAwALQATALT/nv+RAIIBcAHbAXoCgQNhA/kBbQAgAIwA2AD3AEgBlAL2AjUC6ACFAA4AYP8p/zb/Wf/K/8//Zv8Y//T+aP+Y/6D/Gf+W/jf+2P0s/U/8r/wC/tX+oP66/XX9Fv6x/sv+Zv4K/hb+8P6i/6n/s/+w/+D/IQDE/9v+Uv5x/h7/3v9OAJsA0wBqAYMBfQAP/zv+Dv48/hr/iwCuAagBnwCX/4j/y//B/4X/RP+l/4sArgACAY0BEwEkAWgBkwHRAHX/Fv8pAGEBjwHYAb0BhAIZA7oBBgBh/ycAwQEIAv0AGwAOAE8BIAGL/9P+AwC5AdEBeACk/mz+8P8SAccAMACJAIABNwHb/1f+lf0a/yYBowH/AAIBywGMAgMCAAA//uD9BP/nABUBXwCwAAsBiwFfARwB3QDoAEgBMgAT/xz/QwB7AaQB0ACP/1L/WgB9AKn/Fv9y/wIAf//H/sL9rv2a/of/KQBbADUAdf+U/ub9KP3V/DT9hP4ZAM8AxgAPABT/r/7q/iD/3P7K/r//1/8eAHX/8P5P/6X/AQA1/+v+hv6i/r7+xv6w/jD+yv6j//7/wf/3/in/eP+i/5f/Rf/b/2MAbACb/xD/Kf89/7r/kf8g/0P/af+P/1r/yf7h/kj/sf+a/yn/7v7H/j//Zv/o/yMANQBLAMj/av9H/3n/u/86ACAA0P8TAPD/t/++/9H/2P9k/+3+6v51/zcAmACAANcA3wCJAE4AvP+4/z0AjwC0ALkAhADGAP0ACQHJAOX/1P/E/0kAuAAyAMH/eP8NAGkAXgA4AIIAxgB9AOL/Mf86/+T/SABpAFwAkQDrAMwAPwB//17/C/8o/7D/0f/p/xUAVQBHAEAAAADj/0gAVwAOALX/5//w/zgAjwBrAJoAiAB3ALIA6ACYAFMATQDtAOAAdQBLAEkApACHAEMA+v/8/3gA4QDUAPYAHwFBAeMArgBiAAsAFwAyAGcAaADGAMgAxwCDAB0ANgA8ADcAJgAxAPP/1v/a/xIATQAuACoANgBnAGAAGADr/+z/6P/C/9n/EAAeAEgAMAD7/w4A3v+5/4f/Kf+K/9//9P/U/9r/BAD3/ysA7P+k/5j/tP/y/yMAOwAnAP///v/U/+D/DgDs/57/Xv97/3n/Yv9V/2P/qv/A/4X/av9x/67/jP+L/63/xP+s/43//P/l////EgD0/9r/wv/9//H/JABKADgAJAATAEwATwAcAAcAFAAxADAABgDo/9j/uv+t/8H/y//o/7j/zf+s/3f/kP9d/17/Nv8O/1j/uP8CAB4A3v/d/wYALwBCAIgAtADKAN8AxADqAL0AkAC0AKcAsQCaAL0A7ACVAIAAjACLAFEAQQA7AEAATgA0AB0AEwD///T/AADX/43/e/+S/63/6f+h/5r/pv9//5v/xv8FABYAAgDz/+T/0P/V/8f/5P/o/6v/wv/N/7b/0v/t//b/1f/e/wIA4P/6/xYAQAAqAO7/JQAnACgAOAA0AAUAFgD3/9X/2/+y/8D/8//7//D/6f/r/wcABgAmAEEAlgCVAJQAwQDgANMA2wACAS8BFQEYASIB4gAOAfAABwHYAMoA+QDrAN4A0ADSAPkA2wDtAOkAxwDHAK8A6wACAfoA8QDLAIQAigCTAIsAYQCbAIAAVwBZADQALAAZADwAXwBLABUAEADz/xYAEgAGANz/2f8CADwAPwAVAB8ACwABACwAUAANAFQAdgAjAO//9P///ysAKgAQAB8A7P/X/+f/BgDi/9r//f/k/7j/mv+F/5v/xv+s/9n/2P/j/9P/wv/g/wIAQgALAPz/zv/C/7z/wf/B/4j/YP8l/1f/bv8//xb/Dv9Q/0b/hv+b/1P/m/+J/1r/V/9w/0f/H/86/xj/Iv85/wb/DP82/0D/K/8f/zT/JP8W/x7/X/97/3v/Zf91/37/nv/K/63/c/9F/3T/lP+t/5T/qv+3/6r/sf98/3T/a/+U/5X/ef+h/4r/ff90/4n/qf+u/73/q//J/+P/rP/C/+r/zf+l/3X/jv+p/3P/cP+L/7r/z//M/8b/wP/g/6n/j/9t/2r/h/+S/5L/nv/Y/+f/BwD2/+b/BwD9/wQAKAAaACEAHwAvAE0AWgBjAC4AHQAkACAAKgAXAC0AKgAuAGkAeQB6AG0AigCMAIgAnQCeAK8AjwBzAJYAmwCZALoA1gC8AJ0AuwDMAO4A1ACXAJAAhQCCAIMAigCIAIQAbgBSAF0AYQBHAB8A7P/L/9T/7//n/5X/wv+4/5D/s/+f/8r/x//O/7f/yf/U/8b/AgARACMAEwALAAgAGwAPAN7/CAA7AHEAhQBTADcAOAD5/+X/LABAAA8A5//a/+b/OwAzAA4AAQAEAAEA3//c/8L/zv/B/8P/yP+h/7n/pv+S/3f/WP9e/3r/kv9v/6D/7f/z//3/MgBRAHsAeQCJAHMAmQDDAMUAzgC/APIADgE9ARMBOQE/ATkBFwHUAAEBFwEPASkBEgEcARYB0ADVANMAvwCvAM8ArQCiAJEAlgCsAKYAjwCPAHwAXABhAHUAbQBVAGkAQQA4ADUAIQAgAAQA+v/2/8X/zf/O//H/HABDAFgAYAA2APL/EwAoAA4Az//i//T/8v/d/9T/2//n/9L/vv+c/47/lP+A/5T/sf+l/4r/t/+h/3z/VP9t/3f/g//D/9L/4P+w/6///v/O/9b/d/85/4v/fv+R/0L/Rv+D/67/kf+N/5D/ov+Z/6r/5f+0/7j/t/+b/5r/yv/N/6f/dv+E/6j/wf+u/7n/2P///+n/FwAcAOb/DwABABAAHQAhAPv/VwCHAHgAWwBFAGsAYwBTAFAAfgBJADMAUgBaACUAAQAwAAgARAAvAPD/WwBdAE4ASQAsADkAOgDr/93/0P+h/8L/2//k/6f/nP+0/7n/7v/R/9X/BwDU/9P/zf+q/8X/uf/h/9n/lP+D/4v/e/+g/8H/sP+1/53/jv+D/6n/uf+//6L/iP+G/5b/lP8k/xD/O/8r/wb//P4U/wP/Jv8H/zD/hf9P/17/RP8q/y//L/9K/y3/G/8g/zz/rP/T/87/lP+a/6H/O/97/5D/rP/M/5v/nv+i/9b/3f/A/6D/xv/k/7v/sP/C/9D/2P+6/5T/e/9w/7T/uP+L/3H/Q/84/07/GP8f/x7/Pv+k/8H/y/+//wMA4v/7/zoA+P/h/+D/0P+e/9X/MwBtAEkAFgAWACcALgDu/83/GQDd/7v/BQD6/+7/5v8FAPL/AADV/9j/CABoAGkAzf8GADgALwBuAKEAeQBWAJsAgwBIAIUApQC6ALsAyQCmAJQAiQB5AHcAaAByAEgAOgAhABoAJQBCAH8AUAA0ADQAHgBsAHUAjwCKAF8AWAAzAHAAmgCVAFwALgA8AGEAVAAqABIA3v+m/6j/+v8OACIAGADv/9n/8v8ZAEgAeABaAEMA7f/z/0YAQwBxALUAXAAnAFEAMgBdAIcAdwAfAPP/AgBGAHkAGQBiAK8AsQCzAHUAIQAsAGsAhAA3AAwAUgAUAAIAAADx/xkAUAA+ADQAHwCCAJIANgBnACgAJwA6AFEAVQA2AEAAcwCIAJIAaAAeADYAMAB2ALAAhgBzAEMAXACIAGQAeACeAIEAbwBGABIAIwAXAEIAHQAIAB8A2//Z/97/5P+4/6j/tv/g/xEA5f+j/4//5v8CANL/1/+p/2X/aP9Z/2z/V/9N/z3/jP+O/zL/PP8w/0j/JP8L/wX/L//z/iv/k/9b/zj/D/82/3H/mf+h/8j//P8nACwAKQBFAFIAVgBJAHsAqgC5AKIAZgBfAIwAmACBAHIAWgBsAHYASABbAIAAZQBUAD8AgQDxANYA6ADKAJoArAClAKAAggDGAOQAogBuAGoAjACKADcANQBQAEkAQgAgAPH/8f8HAA0AXQBhAEMAPAA7AGQAcgB4AJsAywDiAJ4AowDVAOIAtACDADwAQQBBADEAdwBPAEMANQBkAGAANAD6/6v/n/+H/2X/gv+J/4v/i/9s/47/i/9x/1r/bf+R/8j/2f/f/4//t//w/77/yP+T/7P/x//p//D/6//2/7v/of+Y/8X/nv9X/2z/pf+O/4v/lf9Q/1//Sf9G/2z/Xv9g/0D/MP/d/qr+5/6+/tz+pP6n/sv+mv5+/nf+gv6R/r3+0P7p/u/+A/8P/0L/G/8P/xL/JP83/4L/of/H/xMAHQASAPD/IwAAABAAHwAQAOr/3v/6//7/FwApAE8AaAB7AJkAqQCtAJsAiABgADUAQgBXAEIAQgBoAI4ApQBzAGYAOgBGAGgAlQDnAOMA9gDlAKkAkQBPADAAYwB9AFwAUQBYAEoAaQBiAF4AagCEAI0AcwBhAGwAWgB+AKwAngCJAHYAlQCDAGUAFAAUACEAOACCAG8ATgAWACoAOQAiADcANAAtAE4AQgAsACkAAAAbADYAMgAXADEANAAbAEIATwA7ADYANABgALIAqACqALsAxwC/ANkAywCbAI8AVABeAIcAdwBeAEMAUABlAF4AlACkAIQASwDw/wIADwD6/wYABgDy//v/9P8AAAEA2P/A/6H/yP+j/3P/cf9U/1b/av+k/6v/g/9c/1b/W/9O/4j/jv+U/8v/vP/H/9D/pv+Q/2H/of/P/9b/9P/q/ywAJgArAOb/HABYABAA+P+//63/q//m/8H/oP+7/8j/uv+s/6b/3P/q/9//3v+o/7P/m//E/xkAFwDc//H/PgBiAEIADAD4/w0AKQA8ADIAAwBXAIQAPAD2/ysAPwA3AFUASQA5AAkAGQD1/w4A6v/K/9T/5f/9/83/bf8g/zX/Pf91/3H/Yv9i/4P/bf9t/0P/WP+D/3D/eP94/5n/pP+1/7b/yP+3/5f/sf/W/83/m/+N/3//av+P/6X/yf+v/9n/4f/W/7v/wP+h/5z/r/+n/wkAEQBWACoATgBSAEMAcABeAHsAZABkAG8AZgA6ACkALgAqACkAHwDt/+7/KgBGAE8ASQBVAFgAbwB+AHcAlQB8AF0AdwDnANIATgBQAGYAWwB7AGcAUQBRAHcAjABBAG8AjADKALIAawB5AH0AbwBnAFYAPQBTAE0AnACdAI0AoQC6AMYAjABwAIkAXwA+AFEAJgALACIAGwDh/+v/2P/k/7n/0f/9/9T/of9w/13/W/+C/27/j/+D/3v/bv9t/3z/uv+9/7D/xf8KACcA1v+4/7X/5v/z/yEALQBDAD4AVwArAPj/GQAmACUA5v+r/5H/nv+s/9D/EADa/5v/kf9F/2T/df9k/1b/UP9R/2n/Xv9P/2P/aP9b//H+u/7P/vT+E/8c/wz/Ev8L//7+IP86/2X/Y/9o/zv/Qv+D/0z/Y/92/5H/g/+U/5D/ef/C/8L/5v8zAAsA6f/y/wAA5/96/77/uP/v/wwA4//n/7H/xf/k/wwAzP/R/7P/lP+S/8X/PAAwADMAHwA1AD4A/v86AHUAfwCFAHUAcgBLAE0AWABkAKkAvACbAFcAZACaAHUAKwAGABkAJwBQAE0AUgBaAEsAcQCbAIkAhQCKAIEAcQB+AJoAhAChAF4ATABiAKQAmQB+AJgAYABRAN3/4//s/9//5f/l/wUA2f/f//b/DQAXADgAeQBkADIAMwBxAH0AcABzAEcAPwBGAFsAdQBNAD8AVgAvABsAIAAhAG4AhgBCAB4A+P/V/8D/rP+4//v//f/v/7z/Y/+u/+P/9//y/+j/3//g/zAASgBpALIAtABtADEAGwAcAEAAUACGAJYASwBSAHEAWgA6AHIAMgASADkA/f/x/9f/FACPAJMAbwCVAHMAQgBLABAAEgASAAgAFADN/9n/2//D/9X/2P8vAEoA7v/Y/yUA9P+S/7n/7P8tADYA4v/S/9f/hf9k/8L/x//O/+v/p//F/8L/Xv8b/+j+1f4S/5f/6f/c/67/lf+e/6n/vf/M//H/3//h/xsA6f/C/3L/gv/H/+f/CADi/zQAyQDGAR0DygRdB2wHewFo+JjxqfGa+aYDrQlUCm0Fx/7x+Wb2/PWn+QAAuQXbB5gFegDw+7z5/Pks/EX/jAI7BcQFvANFAFn9s/sd/Jj+dgG3A1UEjwO+AS7/Sf3X/IL9Gv8TAaICgAPjAiYAK/1s+038M/+fAfcCCwMaBJYDtADQ/SX74PtF/xUCIgNjAkwA1/4s/mj95f0m/7MAZgKQAlYBJP+H/cj8+fwy/zUBNQKxAc0AuP9x/gz+2f1J/vX/mQH0AR4BMv9c/i/+tf4FAAcBoQFpATAB0/9w/hT+a/5p/xEAAwGpAJ7/O/63/ucEMQn0CDMEgwHbBLQDNQGz/qz9mQDAAlEDmQGm/vP8P/5T/w7/rP5v/uj/CwEsAGX+X/2A/qD/kf/9/77/G/55/lQA0gD3/2X+K/4y/2oAYQCZAOf/+/3q/VT/pwDA/9X//v///2L/tP5L/7X/NAEQAJX/lwCaASACSP+m/pL/1ADMAXMBegHH/gj/HQLaAmgBCf+D/n/+GQA3AaEAjQA2BdwIkwOt+zr2Lvh6/h0DQQSFAeP9fPzM/OT7XPzI/uYArwHoAEwAhf72/AT+aP7u/kMADAHlAeMBDQBU/5D//P9rAHT/Qv/7/nEA/QHmAagB4AA3AbQAdf9p/+AAkQJ3An0Azv5M/mP+3v6r/xYAPgCOANQAcgEXAR8AFv98/un+eP9x/5j/v/8BAHgA9v+c/wr/iv52/1UAVQAOAA//gP6g/uH/SQG9AZ0B4/+0/tv8//tW/a//TQOQBJcCFv9i/F77+/sU/hEBjwKtAuwBC/8M/S/9L/5bADoCFAPcAs4AFf7D/Bj+BwB3AjcDuwJQASz/Gf65/QAAEwIjAzwDmgEG/8f8Dvy1/fAANQSNBLUByP4w/LL7kf1HAJIDZQUeBM4BIv65+9P7x/0nAtQFBwgJC7kNBAvSAyT8VPcU+I38FAGwBKMEGAMTARX9SPmr9u759f/GBBYGxwIh/vn66/kA+3L9jP+nAYsDCgPD///8nvsi/Hn+mAHFApEBnf5//aD9cP64/xj/2/2l/CT+hgAGAS7//vz1+2L9igEKBFoBffwK+wr+nAGaAu8Arf8LBBcNjBE1CoL8MvRW9lb/NAi0CIQC7/2S/Z3/Qv38+OD4Ov7DBiUKRgU2+lrw1u/29Z/7Pv3y+tH5FvxT/U/8ufnl+If+2gUCCeUFFQD6/SUBCQb5CIEI0wWcBNgE8QQcBV8FWQXWBN0D1QSTBnIGowOtANr/wQBhAhYDDQLaASECJAFo/wv8hvs+/m4AGwHQACD/mv6M/aX7efui+6L+4QHyAff/2f2L/fX+nf4n/Vn90f5PAQkDaQJxAB3+nPu7+g39YwCKAhsDQQKWASP/Sfxl+/j8/AHDBOIErAMcAQP/0/1y/QIA7QPRBNwCnf9//s3/VgFxAvICtACX/an9IQABApoB8v85AMUBZAGQ/or6b/nY/OYAOQMWArv/wv8j/zj+ov5R/9cACwFS/9P97Pzg/f7+Sf/B/wYAAABZ/6f+KP93/xMA5wBkAHD/YP9NAZUCAAAQ/e78J//yAmUDywAg/mb+8ACvAZ4A8P0z/pIB1AL2AYP/Sfxi/FQBzgTrAz8BOf8J/9L+VP+f/9j/RwFWAogBBgAK/sv7Avxv/nsCbgRMAgwAHgBcAFT+pf3D/oIA5QFUAIH/pgCuAFj/qP2n/EH+NABNAS4Bjv5Y/fr98f9UATcASgD0/9D+OPzO+w0AWQRgBWQAaPn19jn9iAWPCEUEu/0L+Ur6jAAdBD4CHPxi+gwAFgWgAhb+l/vl/Mf/agIfAwYCu//z/GP8Mv4KApICywBD/s3+GwFBAbL/1Pyt+3L+4gKMBTMEmf+E/W7+BAD+ARQC9QBoARgCywK+AcH/5/7d/ywB4gC8/+P+Vf5Y/Cf78fxAAIMB5v1R+ub6bP1d//3+Xv4/AewCUf81/IH8EQAWBN8FmwR4AswBegJoAzwCGf8t/y8DIAZpBSQBJP2A/SAB6QKTAiEAu/0q/oEAswKAAn7/Ivy7++H/VQPtAHL83/lp/TQDBQQAAnb+ZvuM/WwAGf8L/BH6/v0PBOcFTQMg/fL5xfxQAX0DAwJEAh4GqAX+/1X78/wpAi8EUAIiAIj/QABdANP91PvF/ab/3P94/zL/4gA5/139pP28/dEAAwTLBfQErQGaABwASf6r/nADqAfZBlwC+v6s/6EBZQHS/mH9VQBSBNYDx//q+3L79v6eAdUATv6F++j9uAAQ/0X8ZvqF/L3/Ev5t+Rf5S/6NBJ0Ej/8y+h776f+b/yH9+f14A6QFjALN/H76B/yh/qUBTgKvAUP+8Pxm/d0AygSmBEsCOf5l/Cv96/9kBIoGjATRASb+zfwy/9YBRQKgANf+Wv4s/0gA+f6V/jj/fv6W/XD7d/wCAGoErwSNAv8BAAG9AGgABwBvAAf/Uv+eAtsESwOl/fL8tv4fAq8GFgQP/xb9UP3sAEoC+wDpACgArv///vj+0P6h/h7/HgDbARMCtf+b/UT91/xT/hQBzgE+AiMCkgCY/o39+/w4/cL/aQEIAW8BYQBY/9f/zAACA84BHf3o/CIChAcRCWIESAViC4cNXwgn+xnzq/jxBDYOZAzBAQf49vSq9z76Gf+nBMIJZQmkANL18u6+8O35LgUlCkEJ5QO/+x/0Xu8z9OYB6ArCCFH/P/fO9qH5Av0e/iH+QQE+Ba0DUP309Uf1jf7JCHsLgQYuATv99/mj+Av+eAarClUINwIC/S38hP2I/4YCswPTA1YD8QJSAB/5lvS4+j0FYwyLCRD/nPcz9r761v7l/qIBpgcxCJkADvjo9EH4U/7iA1gFewJoABr+//rg+P36ygHGBpoGkwGV/BP7QPtK/KH9yQDmBkoKwAhaAnj7fvujAXoK5gysBRv/5v0RAooGgAEW/MD8XwOHCiYJHgIm/soADQLF/1L6kfhp/VwEIAhKBQEAKPo2+eT6WPvz+4T9jgJFA7L9wPjU+GUAPQUeAlf+9fkh+ysAeQGaAdv/a/6m/Q79vv0pAc0CVgHn/UP6xPpg/7gD7AOEAR7/tP/M/xv/9/+HAWcCrAPdArYAxf9q/TT8GP2p/tYBxwLD/zL9FfyE/BH9/v7jAbIBVP56/OT8JP7TABMDjQR2BMUA6PxE+9T90wJ1A4ABN/+T/0gDAwRUAEX7Uvnp/CwBQQPEAcr89fp7/eYBQwMWABr/0gCPAvkC3AHGAHkBsAQsBjEEEgA1/3sBvQJqAob/+f5O/74Apf4i+ZH4Rf3aAm4Bw/rA9sn5I/8ZAXX/aPvF+b/9kQMgBPn93/hd+RcA4gUAB58DgwBiABz/fv66ANgGEgpFB80APP26/uAAswNtA2sC6wRzBx0HiAFW+5X3+PcK/bABTAPyAJT+pP6A/80BYQOLASD/uf8FAlMD7gGQ/p//nQW+CKYEtv3P+fP7w/+CAGIAiv9u/WX7B/mw+e//jAQqBcMAhfnl9on5kf5eAKP+7/91AykFTgK//f3+MwX5CgsL6QVoADAA2QIaBDcD/wG4AwsF7gK4/vz6qfjF+s3+uAGeAhf/dfpL+Qb7rgDTA6kBz//O/eH83v5gAAP/Kv1M+3P85/9pAtsCVf79+Gz6+P16AAn/p/rp+f/+KwXQBBQAuf4KBhQMXgmNACD6Qv3FA/wGhQUABIEFBAUdBOIAPfuM+cv69/4AAQP9k/kh+rf7hf3L+1P6Av1Q/xcAvP3l+i38y/8VAuECSQERAegAGABUAOD+s/60Aa0GYgh5A4L81/hd/egEJgbNAjT+4v11AHABTwNPBncG+wKj/E/5svyeAWEFugW2A/wASf6q/Tr9t/sh/joDOgbhA3z9GvlR+s7+GQC1/bL7Nf1XARsDyQFvAWoAJf5l+8H5Pf3QAWMDyQMJBCICNP1g+fr5pPxQ/3wCTARqAw0AL/3Z/iYBOQKVAvEAtv93/+H/aAB7Al0ETwPYAFX/Nf9q/r78lf4MBb0HWwdJAhv4nvL79Oz9Uwd5CPcEXQLS/VL6W/cr90X9mQIZBJAEewLQAFL/6Prz+K/5R/wlACsCVwLJATYA8AKXBbwBbfrz9Z758v8wA8YBmAEtBMMFTALd+ZD1R/fj+88AzgP0BOMESgMyANz5I/WG9q7+OQenBxkEbf6w++L8bPxn+Tn6hQDjBucHiQF//fb81P3tAOP/5vwW/ksAGQOgArr+0P3VAB8GHwbz/xz7cPxhAGoDxQO2AUwAJACb/x/8y/mC+vX9OwQVB3oDI/0/+y8AwANhAhz+0fxlAMEDVQP2/6r+2f/0/+P+df81ATgDbQPn/+L8PP6H/6wAoQETAM7+evyO/LwAzgNpBgsHNQNg/+b7tvkf/OgBAQnuCp8Ef/wC++cAVgSBALT6f/qs/0gCYQGv/pz8Ev6aAOUB2gHvAOgAmgDSAIwBnAKoAxUDHANRABP9yv3NAEEDoQIqAL39b/sI+yb9Pf/N/1UBogPdAZP+I/2c/rQCwQHo/eP98AC5BcAG9gQABGsB2Pxi+lf7fgHuB8UGiQDI+7b73/3M/YP8P/4qA+YIagcYAEX6vPu8/xsAPv+6/noCWAZxBagA1/p++X78ugEpBiQFQgH5/Vn/SwDK/4wANgELAncA2/0m/Z7+ewByAID+aP0k/Zb7nvi4+Dr8VgDgAb8B3v8k/Vv6gfiR+2oAPQTlBCQCNQGsACX9+vut/QQCfwXBBV0EUAHF/Tr94ADcAsUCIQKqAiQDswBn/gH+bwACA9MEEQZrA1r/+/xR/eL+t/+xAOcBoAJ9AiwCQAEu/nz8+Pty/MT+7f8BASwCZAHk/qv9Vv02/S/8Kv1DApcGAwcxAtj9xPxw/qsAy/+8AMECtwTnBUICAf3F+YL6lf8tBREFTgGd/+z/wv9j/RP8uf6LAY0C2wEf//H9ev68/tv+hv/HALcB6QInAjUAi/+t/6gAlwAM/3H+Tv9jAKIBAQDj/mEBgwPwAlL/rPus+b/6YP0+AfMDsQM+AxoAH/wN+jT6W/0BAJwB3gNxBM8E7gKZ/qr91P0T/+YAXQKABPYD3QEcACD+lf6I/zL/ZP86AAkBwgAg/57+IQF5A+oCAwAt/ET7pv2uABME1QQzBBACIQCb/10ANAA2/jb+gf+eAAQAUAFGAxgDNgEk/8D96vxR/XT/3ABRAN8AMwI7Atb/7Pyy/NT+kQDBAD8A8f7+/Xr/AAAb/4H9Yvzk/dr+K/4b/0UBfQP7A98A8fwt+gb7fP5SAYgCWgJVAjsCLgDK/MX6ePtC/gsA8v6U/QD+XQDrAqIC3v9q/Cr8AP7U/u//ZwDxAAcCHgHV/5MAfQEYAdz9d/pY+gz+VwJnBMUCJ/+j/T38mPsz/D3+EwOZBsoFdgIZ/hT9Z/0s/ocBbAPfAoYA5/5bAD0DbQSRAhQA2v2h/Fn85fw+/1UB9gKfA9AD+AG7/S/5avgK/YUCmQVfBBkAYP48/jL+8/8TAQgCEAJ0Ac3/6/x++1r+QwNKBFUB6/0M/Zf9JP7L/hgABQJZA7YDsgJXABf+zP2E/9sAaQFyARgB8gBD/+f9Rf2W/o4AJgEyAcD/pv+M/rT87PzA/0cC+wGD/zT9wv/VAqkC7v/V/E/81f6jAVgCAgHV/rv9HP5w/8H/HgABAKoAIwI6Ao4CMAKiAE3/gv8eAIUA1/9G/hD+gQBOA3oC/v70/DL+VQDmAGcAOwGPAowDmQIB//78xP6cAWQCbQFgAJgAZAHUAVABhv9T/rj+tP9LAOL/Tf/9/k/+Jv5D/i39uPzv/HP98P1K/bH9LP/7AIgAkP7R/VP+S/8N/wv/CQFBAzsDxQG3/wf/RwDbANv/x/5A/6gADgLXAoAB+/6p/KP8xP+kA3UEtQJPAZP/qP5f/uj/AgNXBcAFZwT0AVX/tP5SABICKgNZA+oBiABb/x/+TP3e/TwAKgI1AvAAav32+5b+sgB2AUYBPAETAr0Buf81/p7+bgAhAvgCjgO3AlkA3P55/gj/JP+I/5AB5wPdA6UB6/4p/Q3+xv+ZAS8DpAPJAVf+2/si/JH/SAN/BIsCuf/k/az8H/2u/9kA7/+1/zr/RP+uAJgBeADI/v7+mACkAbkAwP5d/YD9MP5gAEQDSwM=\" type=\"audio/wav\" />\n",
       "                    Your browser does not support the audio element.\n",
       "                </audio>\n",
       "              "
      ],
      "text/plain": [
       "<IPython.lib.display.Audio object>"
      ]
     },
     "metadata": {},
     "output_type": "display_data"
    }
   ],
   "source": [
    "print(names[0])\n",
    "IPython.display.display(Audio(data=samples[0][0], rate=sr[0]))"
   ]
  },
  {
   "cell_type": "markdown",
   "id": "4085774a-49c9-4a53-a3a1-5f07602b4d37",
   "metadata": {},
   "source": [
    "### Print waveform of all input sound files"
   ]
  },
  {
   "cell_type": "code",
   "execution_count": null,
   "id": "d5a2ef5a",
   "metadata": {},
   "outputs": [],
   "source": [
    "h=0\n",
    "for i,j,k in zip(y,sr,names):\n",
    "    print(h)\n",
    "    #plt.subplot(len(y),1,h)\n",
    "    librosa.display.waveshow(y=i, sr=j, label=k,color='b')\n",
    "    plt.legend()\n",
    "    plt.show()\n",
    "    h+=1"
   ]
  },
  {
   "cell_type": "code",
   "execution_count": null,
   "id": "0aced23b-9f0a-4eee-ab55-edffeeb57118",
   "metadata": {},
   "outputs": [],
   "source": [
    "mfccs = librosa.feature.mfcc(y=samples[0][0], sr=sr[0], n_mfcc=30)\n",
    "print(mfccs.shape)\n",
    "\n",
    "plt.figure(figsize=(10, 5))\n",
    "librosa.display.specshow(mfccs, sr=sr[0], x_axis='time',y_axis=\"mel\")\n",
    "plt.show()"
   ]
  },
  {
   "cell_type": "code",
   "execution_count": null,
   "id": "aa6798ba",
   "metadata": {},
   "outputs": [],
   "source": [
    "Ydb=[]"
   ]
  },
  {
   "cell_type": "code",
   "execution_count": null,
   "id": "cf7608eb",
   "metadata": {},
   "outputs": [],
   "source": [
    "# graph power for every single input file \n",
    "h=0\n",
    "for i,j,k in zip(y,sr,names):\n",
    "    #plt.subplot(len(i),1,h)\n",
    "    Y=librosa.stft(i)\n",
    "    Ydb.append(librosa.amplitude_to_db(abs(Y)))\n",
    "    librosa.display.specshow(Ydb[-1], sr=j, x_axis=\"time\", y_axis=\"mel\")\n",
    "    plt.colorbar()\n",
    "    print(str(h)+\" \"+k)\n",
    "    plt.title(k)\n",
    "    plt.figure(figsize=(7, 2.5))\n",
    "    plt.show()\n",
    "    h+=1"
   ]
  },
  {
   "cell_type": "code",
   "execution_count": null,
   "id": "b8ea70c2",
   "metadata": {},
   "outputs": [],
   "source": [
    "len(Ydb)"
   ]
  },
  {
   "cell_type": "code",
   "execution_count": null,
   "id": "6d6c9a3a",
   "metadata": {},
   "outputs": [],
   "source": [
    "Ydb[0].shape"
   ]
  },
  {
   "cell_type": "code",
   "execution_count": null,
   "id": "77e516c1",
   "metadata": {},
   "outputs": [],
   "source": [
    "\"\"\"\n",
    "Y = librosa.stft(y[0])\n",
    "Ydb = librosa.amplitude_to_db(abs(Y))\n",
    "plt.figure(figsize=(14, 5))\n",
    "librosa.display.specshow(Ydb, sr=sr[0], x_axis=\"time\", y_axis=\"hz\")\n",
    "plt.colorbar()\n",
    "plt.show()    \n",
    "\"\"\" "
   ]
  },
  {
   "cell_type": "markdown",
   "id": "7b3295db-c2bc-4f54-9495-82b3273fef67",
   "metadata": {},
   "source": [
    "## Calculate Features by Sample"
   ]
  },
  {
   "cell_type": "code",
   "execution_count": 82,
   "id": "bd3dd5e9",
   "metadata": {},
   "outputs": [],
   "source": [
    "Ydb=[]\n",
    "mfcc=[]\n",
    "mfcc_delta=[]\n",
    "mfcc_delta_2=[]\n",
    "sample_file_names=[]"
   ]
  },
  {
   "cell_type": "code",
   "execution_count": 83,
   "id": "729b7499-768b-4698-b965-55de0ba0ab1c",
   "metadata": {},
   "outputs": [],
   "source": [
    "#Calculate features for each sample by iteration through the samples; add each to a master list\n",
    "h=0\n",
    "for i in samples:\n",
    "    for j in i:\n",
    "        Y=librosa.stft(j)\n",
    "        Ydb.append(librosa.amplitude_to_db(abs(Y)))\n",
    "        mfcc.append(librosa.feature.mfcc(y=j, sr=sr[h]))\n",
    "        mfcc_delta.append(librosa.feature.delta(mfcc[-1]))\n",
    "        mfcc_delta_2.append(librosa.feature.delta(mfcc[-1], order=2))\n",
    "\n",
    "    h+=1        "
   ]
  },
  {
   "cell_type": "code",
   "execution_count": 84,
   "id": "1afd4bb1-c0b8-45de-9ecd-4b5479d66dbf",
   "metadata": {},
   "outputs": [
    {
     "name": "stdout",
     "output_type": "stream",
     "text": [
      "15100\n",
      "(1025, 44)\n"
     ]
    }
   ],
   "source": [
    "print(len(Ydb))\n",
    "print(Ydb[0].shape)"
   ]
  },
  {
   "cell_type": "code",
   "execution_count": 88,
   "id": "eef552b6",
   "metadata": {},
   "outputs": [
    {
     "data": {
      "text/plain": [
       "(20, 44)"
      ]
     },
     "execution_count": 88,
     "metadata": {},
     "output_type": "execute_result"
    }
   ],
   "source": [
    "mfcc[0].shape"
   ]
  },
  {
   "cell_type": "markdown",
   "id": "d5740f1c-7e4e-44e4-be72-db09e91fe687",
   "metadata": {},
   "source": [
    "### Iterate through the recordings and save the samples"
   ]
  },
  {
   "cell_type": "code",
   "execution_count": 62,
   "id": "6deb66fb-beb5-485d-b231-30ee4c3497cc",
   "metadata": {},
   "outputs": [],
   "source": [
    "# iterate through the recordings and save them \n",
    "\n",
    "h=0\n",
    "for i in range(0,len(samples)):\n",
    "    for j in range(0,len(samples[i])):\n",
    "        sample_file_names.append(names[i]+\"_Rec_\"+str(i)+\"_Sample_\"+str(j)+\".wav\")\n",
    "        #print(sample_file_names[h])\n",
    "        sf.write(SAMPLE_OUTPUT_DIRECTORY+sample_file_names[h], samples[i][j], sr[i], subtype='PCM_24')\n",
    "        h+=1\n"
   ]
  },
  {
   "cell_type": "code",
   "execution_count": 63,
   "id": "4a1083b0-6657-403f-b2fa-f038826cd089",
   "metadata": {},
   "outputs": [
    {
     "data": {
      "text/plain": [
       "'\\n# Calculate the features by recording, iterating through the recordings\\nfor i,j in zip(samples,sr):\\n    mfcc.append(librosa.feature.mfcc(y=i, sr=j))\\n    mfcc_delta.append(librosa.feature.delta(mfcc[-1]))\\n    mfcc_delta_2.append(librosa.feature.delta(mfcc[-1], order=2))\\n'"
      ]
     },
     "execution_count": 63,
     "metadata": {},
     "output_type": "execute_result"
    }
   ],
   "source": [
    "'''\n",
    "# Calculate the features by recording, iterating through the recordings\n",
    "for i,j in zip(samples,sr):\n",
    "    mfcc.append(librosa.feature.mfcc(y=i, sr=j))\n",
    "    mfcc_delta.append(librosa.feature.delta(mfcc[-1]))\n",
    "    mfcc_delta_2.append(librosa.feature.delta(mfcc[-1], order=2))\n",
    "'''"
   ]
  },
  {
   "cell_type": "code",
   "execution_count": 64,
   "id": "2e30a138",
   "metadata": {},
   "outputs": [
    {
     "name": "stdout",
     "output_type": "stream",
     "text": [
      "15100\n",
      "15100\n",
      "15100\n",
      "15100\n",
      "15100\n",
      "15100\n"
     ]
    }
   ],
   "source": [
    "print(len(Ydb))\n",
    "print(len(mfcc))\n",
    "print(len(mfcc_delta))\n",
    "print(len(mfcc_delta_2))\n",
    "print(len(Ydb))\n",
    "print(len(sample_file_names))"
   ]
  },
  {
   "cell_type": "markdown",
   "id": "a5508564-f5f5-4eb8-9f35-0126dfdc77ae",
   "metadata": {},
   "source": [
    "## Graph features by recording"
   ]
  },
  {
   "cell_type": "code",
   "execution_count": null,
   "id": "26b2abdc",
   "metadata": {},
   "outputs": [],
   "source": [
    "# Graph the feature for each recording\n",
    "h=1\n",
    "for i,j,k in zip(y,sr,names):\n",
    "    #plt.subplot(len(i),1,h)\n",
    "    #Y=librosa.stft(i)\n",
    "    #Ydb.append(librosa.amplitude_to_db(abs(Y)))\n",
    "    print(str(h)+\": \"+k)\n",
    "    librosa.display.specshow(mfcc[h-1], sr=j, x_axis=\"time\", y_axis=\"mel\")\n",
    "    plt.colorbar()\n",
    "    plt.title(k+\" \"+r'MFCC')\n",
    "    plt.figure(figsize=(14, 5))\n",
    "    plt.show()\n",
    "    h+=1"
   ]
  },
  {
   "cell_type": "code",
   "execution_count": null,
   "id": "115dfb90",
   "metadata": {
    "scrolled": true
   },
   "outputs": [],
   "source": [
    "# Graph the feature for each recording\n",
    "h=1\n",
    "for i,j,k in zip(y,sr,names):\n",
    "    #plt.subplot(len(i),1,h)\n",
    "    #Y=librosa.stft(i)\n",
    "    #Ydb.append(librosa.amplitude_to_db(abs(Y)))\n",
    "    librosa.display.specshow(mfcc_delta[h-1], sr=j, x_axis=\"time\", y_axis=\"mel\")\n",
    "    plt.colorbar()\n",
    "    print(str(h)+\": \"+k)\n",
    "    plt.title(k+\" \"+r'MFCC-$\\Delta$')\n",
    "    plt.figure(figsize=(14, 5))\n",
    "    plt.show()\n",
    "    h+=1"
   ]
  },
  {
   "cell_type": "code",
   "execution_count": null,
   "id": "645ef07c",
   "metadata": {
    "scrolled": true
   },
   "outputs": [],
   "source": [
    "# Graph the feature for each recording\n",
    "h=1\n",
    "for i,j,k in zip(y,sr,names):\n",
    "    #plt.subplot(len(i),1,h)\n",
    "    Y=librosa.stft(i)\n",
    "    #Ydb.append(librosa.amplitude_to_db(abs(Y)))\n",
    "    librosa.display.specshow(mfcc_delta_2[h-1], sr=j, x_axis=\"time\", y_axis=\"mel\")\n",
    "    plt.colorbar()\n",
    "    print(str(h)+\": \"+k)\n",
    "    plt.title(k+\" \"+r'MFCC-$\\Delta^2$')\n",
    "    plt.figure(figsize=(14, 5))\n",
    "    plt.show()\n",
    "    h+=1"
   ]
  },
  {
   "cell_type": "markdown",
   "id": "ddefb611-dcc8-47bf-b642-0593a8d218d6",
   "metadata": {},
   "source": [
    "## Define and export the DataFrame of Samples and their Characteristics"
   ]
  },
  {
   "cell_type": "code",
   "execution_count": 65,
   "id": "6c675fc2",
   "metadata": {},
   "outputs": [
    {
     "name": "stdout",
     "output_type": "stream",
     "text": [
      "167\n",
      "167\n",
      "167\n",
      "167\n",
      "167\n",
      "15100\n",
      "15100\n",
      "15100\n",
      "15100\n"
     ]
    }
   ],
   "source": [
    "print(len(filenames))\n",
    "print(len(names))\n",
    "print(len(dur))\n",
    "print(len(y))\n",
    "print(len(sr))\n",
    "print(len(Ydb))\n",
    "print(len(mfcc))\n",
    "print(len(mfcc_delta))\n",
    "print(len(mfcc_delta_2))"
   ]
  },
  {
   "cell_type": "code",
   "execution_count": 66,
   "id": "0826e43e",
   "metadata": {},
   "outputs": [
    {
     "ename": "NameError",
     "evalue": "name 'df' is not defined",
     "output_type": "error",
     "traceback": [
      "\u001b[1;31m---------------------------------------------------------------------------\u001b[0m",
      "\u001b[1;31mNameError\u001b[0m                                 Traceback (most recent call last)",
      "Cell \u001b[1;32mIn[66], line 1\u001b[0m\n\u001b[1;32m----> 1\u001b[0m \u001b[38;5;28;01mdel\u001b[39;00m(df)\n",
      "\u001b[1;31mNameError\u001b[0m: name 'df' is not defined"
     ]
    }
   ],
   "source": [
    "del(df)"
   ]
  },
  {
   "cell_type": "code",
   "execution_count": 67,
   "id": "1e36636a-4647-41f6-8141-c30d180151a2",
   "metadata": {},
   "outputs": [],
   "source": [
    "df_columns=[\n",
    "    \"filenames\",\"names\",\"counties\",\"towns\",\"urbanrural\",\"size\",\"genders\",\"ages\",\"dur\",\"recording num\",\"sample num\",\"sample file name\",\"sample\",\"Ydb\",\"sr\",\"mfcc\",\"mfcc_delta\",\"mfcc_delta_2\"\n",
    "]"
   ]
  },
  {
   "cell_type": "code",
   "execution_count": 68,
   "id": "76fdef11-7bf4-4fae-ad17-9d6126d9019f",
   "metadata": {},
   "outputs": [],
   "source": [
    "df=pd.DataFrame(columns=df_columns)"
   ]
  },
  {
   "cell_type": "code",
   "execution_count": 69,
   "id": "aa525e77-6a2c-401d-ad0b-317d3003ff63",
   "metadata": {},
   "outputs": [
    {
     "data": {
      "text/html": [
       "<div>\n",
       "<style scoped>\n",
       "    .dataframe tbody tr th:only-of-type {\n",
       "        vertical-align: middle;\n",
       "    }\n",
       "\n",
       "    .dataframe tbody tr th {\n",
       "        vertical-align: top;\n",
       "    }\n",
       "\n",
       "    .dataframe thead th {\n",
       "        text-align: right;\n",
       "    }\n",
       "</style>\n",
       "<table border=\"1\" class=\"dataframe\">\n",
       "  <thead>\n",
       "    <tr style=\"text-align: right;\">\n",
       "      <th></th>\n",
       "      <th>filenames</th>\n",
       "      <th>names</th>\n",
       "      <th>counties</th>\n",
       "      <th>towns</th>\n",
       "      <th>urbanrural</th>\n",
       "      <th>size</th>\n",
       "      <th>genders</th>\n",
       "      <th>ages</th>\n",
       "      <th>dur</th>\n",
       "      <th>recording num</th>\n",
       "      <th>sample num</th>\n",
       "      <th>sample file name</th>\n",
       "      <th>sample</th>\n",
       "      <th>Ydb</th>\n",
       "      <th>sr</th>\n",
       "      <th>mfcc</th>\n",
       "      <th>mfcc_delta</th>\n",
       "      <th>mfcc_delta_2</th>\n",
       "    </tr>\n",
       "  </thead>\n",
       "  <tbody>\n",
       "  </tbody>\n",
       "</table>\n",
       "</div>"
      ],
      "text/plain": [
       "Empty DataFrame\n",
       "Columns: [filenames, names, counties, towns, urbanrural, size, genders, ages, dur, recording num, sample num, sample file name, sample, Ydb, sr, mfcc, mfcc_delta, mfcc_delta_2]\n",
       "Index: []"
      ]
     },
     "execution_count": 69,
     "metadata": {},
     "output_type": "execute_result"
    }
   ],
   "source": [
    "df[80:84]"
   ]
  },
  {
   "cell_type": "code",
   "execution_count": 70,
   "id": "de3c0677-6552-4ac1-8a53-dbe38fd449a9",
   "metadata": {},
   "outputs": [
    {
     "name": "stderr",
     "output_type": "stream",
     "text": [
      "C:\\Users\\GGMachines_Gaming\\AppData\\Local\\Temp\\ipykernel_20120\\4282055374.py:23: FutureWarning: The behavior of DataFrame concatenation with empty or all-NA entries is deprecated. In a future version, this will no longer exclude empty or all-NA columns when determining the result dtypes. To retain the old behavior, exclude the relevant entries before the concat operation.\n",
      "  df = pd.concat([df,insert_row],ignore_index=True)\n"
     ]
    }
   ],
   "source": [
    "h=0\n",
    "for i in range(0,len(samples)):\n",
    "    for j in range(0,len(samples[i])):\n",
    "        #insert_row=pd.DataFrame([{\"filenames\":i,\"names\":j}])\n",
    "        insert_row= pd.DataFrame([{\"filenames\":filenames[i], \n",
    "                      \"names\":names[i],\n",
    "                      \"counties\":counties[i],\n",
    "                      \"towns\":towns[i],\n",
    "                      \"urbanrural\":urbanrurals[i],\n",
    "                      'size':sizes[i],\n",
    "                      'genders':genders[i],\n",
    "                      'ages':ages[i],\n",
    "                      'dur':dur[i],\n",
    "                      'recording num':i,\n",
    "                      'sample num':j,\n",
    "                      'sample file name':sample_file_names[h],\n",
    "                      'sample': samples[i][j],\n",
    "                      'Ydb': Ydb[h],\n",
    "                      'sr': sr[i],\n",
    "                      'mfcc': mfcc[h],\n",
    "                      'mfcc_delta': mfcc_delta[h],\n",
    "                      'mfcc_delta_2': mfcc_delta_2[h]}])\n",
    "        df = pd.concat([df,insert_row],ignore_index=True)\n",
    "        h+=1"
   ]
  },
  {
   "cell_type": "code",
   "execution_count": null,
   "id": "e4710b77-ef89-481e-98e7-565aa8457c0e",
   "metadata": {},
   "outputs": [],
   "source": [
    "#df['sample'] = df['sample'].apply(lambda x: ','.join(map(str, x)))"
   ]
  },
  {
   "cell_type": "code",
   "execution_count": 71,
   "id": "aa4f9a53-d148-4cfb-bcc4-9b913d91b39a",
   "metadata": {},
   "outputs": [
    {
     "data": {
      "text/plain": [
       "(15100, 18)"
      ]
     },
     "execution_count": 71,
     "metadata": {},
     "output_type": "execute_result"
    }
   ],
   "source": [
    "df.shape"
   ]
  },
  {
   "cell_type": "code",
   "execution_count": 73,
   "id": "d75950e7-6d0d-4094-bbd9-38c7f0e6bc45",
   "metadata": {},
   "outputs": [
    {
     "data": {
      "text/html": [
       "<div>\n",
       "<style scoped>\n",
       "    .dataframe tbody tr th:only-of-type {\n",
       "        vertical-align: middle;\n",
       "    }\n",
       "\n",
       "    .dataframe tbody tr th {\n",
       "        vertical-align: top;\n",
       "    }\n",
       "\n",
       "    .dataframe thead th {\n",
       "        text-align: right;\n",
       "    }\n",
       "</style>\n",
       "<table border=\"1\" class=\"dataframe\">\n",
       "  <thead>\n",
       "    <tr style=\"text-align: right;\">\n",
       "      <th></th>\n",
       "      <th>filenames</th>\n",
       "      <th>names</th>\n",
       "      <th>counties</th>\n",
       "      <th>towns</th>\n",
       "      <th>urbanrural</th>\n",
       "      <th>size</th>\n",
       "      <th>genders</th>\n",
       "      <th>ages</th>\n",
       "      <th>dur</th>\n",
       "      <th>recording num</th>\n",
       "      <th>sample num</th>\n",
       "      <th>sample file name</th>\n",
       "      <th>sample</th>\n",
       "      <th>Ydb</th>\n",
       "      <th>sr</th>\n",
       "      <th>mfcc</th>\n",
       "      <th>mfcc_delta</th>\n",
       "      <th>mfcc_delta_2</th>\n",
       "    </tr>\n",
       "  </thead>\n",
       "  <tbody>\n",
       "    <tr>\n",
       "      <th>80</th>\n",
       "      <td>C:\\Users\\GGMachines_Gaming\\Documents\\DUB\\DUB_A...</td>\n",
       "      <td>DUB_Artane_M_20</td>\n",
       "      <td>DUB</td>\n",
       "      <td>Artane</td>\n",
       "      <td>None</td>\n",
       "      <td>None</td>\n",
       "      <td>M</td>\n",
       "      <td>20</td>\n",
       "      <td>81.63</td>\n",
       "      <td>0</td>\n",
       "      <td>80</td>\n",
       "      <td>DUB_Artane_M_20_Rec_0_Sample_80.wav</td>\n",
       "      <td>[0.016045244, -0.008315919, -0.02204391, -0.03...</td>\n",
       "      <td>[[-12.405441, -23.336725, -18.446842, -29.9625...</td>\n",
       "      <td>22050</td>\n",
       "      <td>[[-172.02167, -152.49522, -210.45895, -236.481...</td>\n",
       "      <td>[[4.7096677, 4.7096677, 4.7096677, 4.7096677, ...</td>\n",
       "      <td>[[7.1288533, 7.1288533, 7.1288533, 7.1288533, ...</td>\n",
       "    </tr>\n",
       "    <tr>\n",
       "      <th>81</th>\n",
       "      <td>C:\\Users\\GGMachines_Gaming\\Documents\\DUB\\DUB_A...</td>\n",
       "      <td>DUB_Artane_M_20_(2)</td>\n",
       "      <td>DUB</td>\n",
       "      <td>Artane</td>\n",
       "      <td>None</td>\n",
       "      <td>None</td>\n",
       "      <td>M</td>\n",
       "      <td>20</td>\n",
       "      <td>94.28</td>\n",
       "      <td>1</td>\n",
       "      <td>0</td>\n",
       "      <td>DUB_Artane_M_20_(2)_Rec_1_Sample_0.wav</td>\n",
       "      <td>[-1.1641532e-10, -9.313226e-10, -4.656613e-09,...</td>\n",
       "      <td>[[-34.74787, -25.812857, -34.74787, -1.5363762...</td>\n",
       "      <td>22050</td>\n",
       "      <td>[[-465.85907, -291.69635, -234.51353, -209.333...</td>\n",
       "      <td>[[41.190304, 41.190304, 41.190304, 41.190304, ...</td>\n",
       "      <td>[[-20.55139, -20.55139, -20.55139, -20.55139, ...</td>\n",
       "    </tr>\n",
       "    <tr>\n",
       "      <th>82</th>\n",
       "      <td>C:\\Users\\GGMachines_Gaming\\Documents\\DUB\\DUB_A...</td>\n",
       "      <td>DUB_Artane_M_20_(2)</td>\n",
       "      <td>DUB</td>\n",
       "      <td>Artane</td>\n",
       "      <td>None</td>\n",
       "      <td>None</td>\n",
       "      <td>M</td>\n",
       "      <td>20</td>\n",
       "      <td>94.28</td>\n",
       "      <td>1</td>\n",
       "      <td>1</td>\n",
       "      <td>DUB_Artane_M_20_(2)_Rec_1_Sample_1.wav</td>\n",
       "      <td>[0.005559768, -0.0043689166, -0.015258972, -0....</td>\n",
       "      <td>[[-27.40541, -27.653982, -38.927185, -23.75767...</td>\n",
       "      <td>22050</td>\n",
       "      <td>[[-304.5896, -256.64023, -226.20067, -233.5788...</td>\n",
       "      <td>[[14.722461, 14.722461, 14.722461, 14.722461, ...</td>\n",
       "      <td>[[-0.2057181, -0.2057181, -0.2057181, -0.20571...</td>\n",
       "    </tr>\n",
       "    <tr>\n",
       "      <th>83</th>\n",
       "      <td>C:\\Users\\GGMachines_Gaming\\Documents\\DUB\\DUB_A...</td>\n",
       "      <td>DUB_Artane_M_20_(2)</td>\n",
       "      <td>DUB</td>\n",
       "      <td>Artane</td>\n",
       "      <td>None</td>\n",
       "      <td>None</td>\n",
       "      <td>M</td>\n",
       "      <td>20</td>\n",
       "      <td>94.28</td>\n",
       "      <td>1</td>\n",
       "      <td>2</td>\n",
       "      <td>DUB_Artane_M_20_(2)_Rec_1_Sample_2.wav</td>\n",
       "      <td>[0.015664967, 0.00853162, 0.0015324727, -0.005...</td>\n",
       "      <td>[[-17.89692, -20.57634, -35.879272, -35.879272...</td>\n",
       "      <td>22050</td>\n",
       "      <td>[[-310.7319, -284.62164, -269.91156, -262.5582...</td>\n",
       "      <td>[[2.846156, 2.846156, 2.846156, 2.846156, 2.84...</td>\n",
       "      <td>[[-3.5868106, -3.5868106, -3.5868106, -3.58681...</td>\n",
       "    </tr>\n",
       "  </tbody>\n",
       "</table>\n",
       "</div>"
      ],
      "text/plain": [
       "                                            filenames                names  \\\n",
       "80  C:\\Users\\GGMachines_Gaming\\Documents\\DUB\\DUB_A...      DUB_Artane_M_20   \n",
       "81  C:\\Users\\GGMachines_Gaming\\Documents\\DUB\\DUB_A...  DUB_Artane_M_20_(2)   \n",
       "82  C:\\Users\\GGMachines_Gaming\\Documents\\DUB\\DUB_A...  DUB_Artane_M_20_(2)   \n",
       "83  C:\\Users\\GGMachines_Gaming\\Documents\\DUB\\DUB_A...  DUB_Artane_M_20_(2)   \n",
       "\n",
       "   counties   towns urbanrural  size genders ages    dur recording num  \\\n",
       "80      DUB  Artane       None  None       M   20  81.63             0   \n",
       "81      DUB  Artane       None  None       M   20  94.28             1   \n",
       "82      DUB  Artane       None  None       M   20  94.28             1   \n",
       "83      DUB  Artane       None  None       M   20  94.28             1   \n",
       "\n",
       "   sample num                        sample file name  \\\n",
       "80         80     DUB_Artane_M_20_Rec_0_Sample_80.wav   \n",
       "81          0  DUB_Artane_M_20_(2)_Rec_1_Sample_0.wav   \n",
       "82          1  DUB_Artane_M_20_(2)_Rec_1_Sample_1.wav   \n",
       "83          2  DUB_Artane_M_20_(2)_Rec_1_Sample_2.wav   \n",
       "\n",
       "                                               sample  \\\n",
       "80  [0.016045244, -0.008315919, -0.02204391, -0.03...   \n",
       "81  [-1.1641532e-10, -9.313226e-10, -4.656613e-09,...   \n",
       "82  [0.005559768, -0.0043689166, -0.015258972, -0....   \n",
       "83  [0.015664967, 0.00853162, 0.0015324727, -0.005...   \n",
       "\n",
       "                                                  Ydb     sr  \\\n",
       "80  [[-12.405441, -23.336725, -18.446842, -29.9625...  22050   \n",
       "81  [[-34.74787, -25.812857, -34.74787, -1.5363762...  22050   \n",
       "82  [[-27.40541, -27.653982, -38.927185, -23.75767...  22050   \n",
       "83  [[-17.89692, -20.57634, -35.879272, -35.879272...  22050   \n",
       "\n",
       "                                                 mfcc  \\\n",
       "80  [[-172.02167, -152.49522, -210.45895, -236.481...   \n",
       "81  [[-465.85907, -291.69635, -234.51353, -209.333...   \n",
       "82  [[-304.5896, -256.64023, -226.20067, -233.5788...   \n",
       "83  [[-310.7319, -284.62164, -269.91156, -262.5582...   \n",
       "\n",
       "                                           mfcc_delta  \\\n",
       "80  [[4.7096677, 4.7096677, 4.7096677, 4.7096677, ...   \n",
       "81  [[41.190304, 41.190304, 41.190304, 41.190304, ...   \n",
       "82  [[14.722461, 14.722461, 14.722461, 14.722461, ...   \n",
       "83  [[2.846156, 2.846156, 2.846156, 2.846156, 2.84...   \n",
       "\n",
       "                                         mfcc_delta_2  \n",
       "80  [[7.1288533, 7.1288533, 7.1288533, 7.1288533, ...  \n",
       "81  [[-20.55139, -20.55139, -20.55139, -20.55139, ...  \n",
       "82  [[-0.2057181, -0.2057181, -0.2057181, -0.20571...  \n",
       "83  [[-3.5868106, -3.5868106, -3.5868106, -3.58681...  "
      ]
     },
     "execution_count": 73,
     "metadata": {},
     "output_type": "execute_result"
    }
   ],
   "source": [
    "df[80:84]"
   ]
  },
  {
   "cell_type": "code",
   "execution_count": null,
   "id": "284678d4-b9cc-4ed4-b1ca-91237b80ab9d",
   "metadata": {},
   "outputs": [],
   "source": [
    "'''\n",
    "# DataFrame defintion by recording\n",
    "\n",
    "df=pd.DataFrame(\n",
    "    \"filenames\": filenames,\n",
    "    \"names\": names,\n",
    "    \"counties\": counties,\n",
    "    \"towns\": towns,\n",
    "    \"urbanrural\": urbanrurals,\n",
    "    \"size\": sizes,\n",
    "    \"genders\": genders,\n",
    "    \"ages\": ages,\n",
    "    \"dur\":dur,\n",
    "    \"y\":y,\n",
    "    \"Ydb\":Ydb,\n",
    "    \"sr\":RESAMPLE_RATE,\n",
    "    \"mfcc\":mfcc,\n",
    "    \"mfcc_delta\":mfcc_delta,\n",
    "    \"mfcc_delta_2\":mfcc_delta_2\n",
    "'''"
   ]
  },
  {
   "cell_type": "code",
   "execution_count": 74,
   "id": "cad8c501",
   "metadata": {},
   "outputs": [
    {
     "name": "stdout",
     "output_type": "stream",
     "text": [
      "0: filenames\n",
      "1: names\n",
      "2: counties\n",
      "3: towns\n",
      "4: urbanrural\n",
      "5: size\n",
      "6: genders\n",
      "7: ages\n",
      "8: dur\n",
      "9: recording num\n",
      "10: sample num\n",
      "11: sample file name\n",
      "12: sample\n",
      "13: Ydb\n",
      "14: sr\n",
      "15: mfcc\n",
      "16: mfcc_delta\n",
      "17: mfcc_delta_2\n"
     ]
    }
   ],
   "source": [
    "for i,j in enumerate(df.columns):\n",
    "    print(str(i)+\": \"+j)"
   ]
  },
  {
   "cell_type": "code",
   "execution_count": 75,
   "id": "7d77664f",
   "metadata": {},
   "outputs": [
    {
     "name": "stdout",
     "output_type": "stream",
     "text": [
      "sample\n",
      "[1.5543122e-15 3.3306691e-15 3.5527137e-15 ... 5.3641959e-03 1.1229521e-02\n",
      " 4.2106798e-03]\n",
      "<class 'numpy.ndarray'>\n",
      "22050\n"
     ]
    }
   ],
   "source": [
    "print(df.columns[12])\n",
    "print(df.iloc[0,12])\n",
    "print(type(df.iloc[0,12]))\n",
    "print(len(df.iloc[0,12]))"
   ]
  },
  {
   "cell_type": "code",
   "execution_count": 76,
   "id": "353adad9-b70b-4da4-b719-09e122e9cd24",
   "metadata": {
    "scrolled": true
   },
   "outputs": [
    {
     "name": "stdout",
     "output_type": "stream",
     "text": [
      "mfcc\n",
      "[[-6.55948975e+02 -6.15149475e+02 -3.28689148e+02 -2.42041382e+02\n",
      "  -2.29819016e+02 -2.30740952e+02 -2.31494736e+02 -2.37771729e+02\n",
      "  -2.43383575e+02 -2.44239014e+02 -2.46925751e+02 -2.44045013e+02\n",
      "  -2.47751648e+02 -2.46066315e+02 -2.13540024e+02 -1.73564804e+02\n",
      "  -1.58268784e+02 -1.35393005e+02 -8.36834335e+01 -6.17032051e+01\n",
      "  -1.02409706e+02 -1.88199066e+02 -1.56439285e+02 -8.28446732e+01\n",
      "  -7.13829651e+01 -8.93608780e+01 -1.06577187e+02 -1.34484665e+02\n",
      "  -1.81219910e+02 -1.96185959e+02 -2.36586304e+02 -3.15856262e+02\n",
      "  -2.96403931e+02 -2.59500793e+02 -2.45449478e+02 -1.78884460e+02\n",
      "  -1.26896660e+02 -1.37021210e+02 -1.94928162e+02 -2.90242859e+02\n",
      "  -3.20228729e+02 -2.86150604e+02 -2.46273132e+02 -2.74499146e+02]\n",
      " [ 0.00000000e+00  2.86086273e+01  1.02580528e+02  1.09890656e+02\n",
      "   1.07779488e+02  1.10245888e+02  1.21057861e+02  1.27328232e+02\n",
      "   1.28122559e+02  1.35064682e+02  1.31488373e+02  1.22285980e+02\n",
      "   1.18880005e+02  1.12423599e+02  9.89670258e+01  9.64290237e+01\n",
      "   1.04651909e+02  1.12068726e+02  1.10473602e+02  9.87713623e+01\n",
      "   9.39527740e+01  1.18915237e+02  1.33498306e+02  1.20140884e+02\n",
      "   1.11188080e+02  1.14287735e+02  1.11339005e+02  1.14264595e+02\n",
      "   1.28742477e+02  1.36145050e+02  1.39191345e+02  1.17239525e+02\n",
      "   9.56601257e+01  7.65452423e+01  8.45461426e+01  9.89892807e+01\n",
      "   8.83378906e+01  8.20986099e+01  1.02841080e+02  1.15722946e+02\n",
      "   1.05792633e+02  8.20079193e+01  6.12836227e+01  5.77184677e+01]\n",
      " [ 0.00000000e+00  4.02978659e-01 -6.64934540e+01 -8.01518555e+01\n",
      "  -8.31336975e+01 -8.67934570e+01 -8.92680359e+01 -8.64642563e+01\n",
      "  -8.79479065e+01 -8.55043030e+01 -8.85241852e+01 -8.90975494e+01\n",
      "  -8.87485657e+01 -7.89478607e+01 -6.98128967e+01 -7.73946991e+01\n",
      "  -8.62855530e+01 -8.22470779e+01 -7.44997406e+01 -7.17707291e+01\n",
      "  -7.65104599e+01 -7.47339172e+01 -6.40532532e+01 -6.17933655e+01\n",
      "  -6.46320801e+01 -6.03970566e+01 -7.49517288e+01 -8.92380219e+01\n",
      "  -8.90860825e+01 -9.12074509e+01 -7.96571960e+01 -5.03337517e+01\n",
      "  -7.09976654e+01 -8.33434753e+01 -7.16712646e+01 -7.60578690e+01\n",
      "  -8.85022049e+01 -9.35137711e+01 -8.09410248e+01 -6.41852875e+01\n",
      "  -5.12173538e+01 -6.10750351e+01 -6.60856323e+01 -6.90896301e+01]\n",
      " [ 0.00000000e+00  1.05540161e+01  6.05175972e+01  5.82145081e+01\n",
      "   5.29945488e+01  4.56249847e+01  4.42785873e+01  4.29623985e+01\n",
      "   3.19274082e+01  2.36223183e+01  2.03043480e+01  2.86319733e+01\n",
      "   2.93132801e+01  3.55692978e+01  4.13047829e+01  4.20694656e+01\n",
      "   4.11859055e+01  3.84436874e+01  3.63854561e+01  4.52576637e+01\n",
      "   5.62154846e+01  4.98027382e+01  3.29361534e+01  2.76123428e+01\n",
      "   3.02435799e+01  3.84917870e+01  3.51903038e+01  2.87487984e+01\n",
      "   2.61379051e+01  1.90958157e+01  2.19118538e+01  2.83138485e+01\n",
      "   3.92641220e+01  5.28556671e+01  6.39319763e+01  5.93994064e+01\n",
      "   4.90053787e+01  4.50365334e+01  4.46128044e+01  4.17150917e+01\n",
      "   4.03542252e+01  4.73444901e+01  5.14762802e+01  5.22434044e+01]\n",
      " [ 0.00000000e+00  5.66766357e+00  3.07023001e+00 -4.99324989e+00\n",
      "  -6.17929649e+00  1.60792780e+00  5.54235220e+00  1.10923376e+01\n",
      "   1.29705486e+01  1.04569302e+01  1.61918902e+00 -9.37478828e+00\n",
      "  -1.41773109e+01 -1.79463425e+01 -2.46745834e+01 -1.83956337e+01\n",
      "  -1.15407877e+01 -1.47507467e+01 -1.50387573e+01 -1.27135410e+01\n",
      "  -2.32987332e+00 -3.54290700e+00 -2.49754715e+01 -3.76579781e+01\n",
      "  -3.12941341e+01 -2.00484962e+01 -2.70074921e+01 -3.30677834e+01\n",
      "  -1.71311188e+01  1.63380432e+01  2.39577255e+01  1.47124186e+01\n",
      "   1.63519497e+01  1.36385221e+01  7.28886032e+00  1.40645523e+01\n",
      "   1.82232399e+01  2.41869545e+01  3.29581070e+01  2.28044224e+01\n",
      "   2.83326125e+00 -1.08235569e+01 -1.97418423e+01 -2.74455147e+01]\n",
      " [ 0.00000000e+00 -1.94914970e+01 -1.77908096e+01 -1.27430725e+01\n",
      "  -2.15811539e+01 -2.54541168e+01 -2.45599995e+01 -3.04793930e+01\n",
      "  -3.07961121e+01 -3.71525345e+01 -4.10705414e+01 -2.66221008e+01\n",
      "  -2.16449165e+01 -1.44484015e+01 -1.36568534e+00  7.08417034e+00\n",
      "   7.17540121e+00  2.96375775e+00 -1.90893248e-01  2.20207405e+00\n",
      "   8.72592163e+00  1.97562313e+00 -7.56776905e+00 -1.24150124e+01\n",
      "  -2.74874282e+00  4.20018673e+00  1.19205415e+00 -7.95383739e+00\n",
      "  -5.06161261e+00 -7.69760990e+00 -4.63820887e+00 -8.10256100e+00\n",
      "  -1.44535427e+01 -1.99752483e+01 -2.27368202e+01 -2.29747429e+01\n",
      "  -2.58885040e+01 -2.73415070e+01 -2.50223274e+01 -1.17908192e+01\n",
      "  -6.11859035e+00 -3.09381664e-01  6.28203440e+00  5.89271927e+00]\n",
      " [ 0.00000000e+00 -2.85374203e+01 -1.86923370e+01 -1.26598005e+01\n",
      "  -8.09431458e+00  3.37621570e+00  9.89815712e+00  1.67661972e+01\n",
      "   1.82379131e+01  1.22672825e+01  9.63298798e+00  1.13293991e+01\n",
      "   1.40406151e+01  6.69332981e+00 -4.83167696e+00 -1.30134034e+00\n",
      "   1.84679151e+00 -1.09456615e+01 -2.29474602e+01 -1.68601303e+01\n",
      "  -7.29896450e+00 -3.28495312e+00 -3.65899277e+00 -4.86197376e+00\n",
      "  -4.32317793e-01 -1.37147999e+00  4.05414915e+00  6.69921303e+00\n",
      "   1.07685966e+01  3.78079009e+00 -1.32476139e+00  3.05150700e+00\n",
      "   8.28219604e+00  6.41939926e+00 -1.20828235e+00 -2.63146439e+01\n",
      "  -2.86403923e+01 -2.87902679e+01 -2.89380608e+01 -9.23858833e+00\n",
      "   7.48684120e+00  1.80189037e+00 -6.22589827e-01 -4.60433102e+00]\n",
      " [ 0.00000000e+00 -1.89738159e+01 -1.42132053e+01 -1.00008507e+01\n",
      "  -1.56932163e+01 -2.05299778e+01 -2.20446587e+01 -2.25648556e+01\n",
      "  -2.11091576e+01 -1.44503365e+01 -1.13404331e+01 -1.56977806e+01\n",
      "  -1.27507954e+01 -4.33973169e+00  3.77213764e+00  2.60748792e+00\n",
      "  -9.56027210e-01 -9.41361713e+00 -1.99083843e+01 -2.14966888e+01\n",
      "  -1.67645168e+01 -1.31313066e+01 -5.94817352e+00 -5.29065371e+00\n",
      "  -2.02575803e+00 -1.35460663e+00  1.09585130e+00 -1.42091122e+01\n",
      "  -2.60283546e+01 -2.57687817e+01 -2.51530838e+01 -1.49383230e+01\n",
      "   6.69753647e+00  1.30970554e+01  1.56414759e+00 -1.30116882e+01\n",
      "  -1.09128342e+01 -9.81859493e+00 -1.16488171e+01 -1.32164583e+01\n",
      "  -3.58753538e+00 -8.61984444e+00 -7.78921223e+00 -4.85064030e+00]\n",
      " [ 0.00000000e+00 -4.73478270e+00 -2.59958506e+00 -3.88174272e+00\n",
      "  -2.86337709e+00 -4.36610794e+00 -5.78067970e+00 -1.13135109e+01\n",
      "  -1.95734444e+01 -2.28347263e+01 -1.88643188e+01 -9.44759750e+00\n",
      "  -1.89737606e+00 -4.63330698e+00 -9.80957890e+00 -8.94915581e+00\n",
      "  -7.82163572e+00 -1.61990929e+01 -2.40286751e+01 -1.96807671e+01\n",
      "  -9.90712738e+00 -6.89750576e+00 -1.22760496e+01 -1.53149614e+01\n",
      "  -9.21700191e+00 -1.09306841e+01 -5.26559734e+00 -9.46555519e+00\n",
      "  -2.04635029e+01 -3.47787323e+01 -2.89365845e+01 -1.69729652e+01\n",
      "  -1.78685913e+01 -1.90925465e+01 -2.52541733e+01 -2.00823689e+01\n",
      "  -2.29923134e+01 -2.62312584e+01 -2.63243561e+01 -8.25060940e+00\n",
      "   1.81854272e+00 -1.69646847e+00 -3.39936614e+00  1.53968620e+00]\n",
      " [ 0.00000000e+00 -3.65279245e+00  2.88286757e+00  9.59606171e+00\n",
      "   1.50637083e+01  1.45466232e+01  1.49040833e+01  2.29144840e+01\n",
      "   2.43267021e+01  2.72813034e+01  2.31867371e+01  1.02742987e+01\n",
      "   1.96544099e+00  1.97631788e+00  7.43678570e+00  9.50950718e+00\n",
      "   3.83283281e+00 -1.85088503e+00 -6.39096832e+00 -8.42885685e+00\n",
      "  -5.77016354e+00  5.01473284e+00 -5.38132763e+00 -4.24861288e+00\n",
      "   6.52483463e+00  2.93685174e+00 -1.28868914e+00 -4.75708771e+00\n",
      "   3.03756595e+00  1.37929354e+01  1.08042097e+01  9.44546890e+00\n",
      "  -1.87970251e-01  1.70329928e+00 -4.12701035e+00 -1.04563713e+01\n",
      "  -3.02728081e+00  7.38171387e+00  1.77444458e+01  1.23860483e+01\n",
      "   8.95547199e+00  3.16364455e+00  2.23085904e+00 -5.86839724e+00]\n",
      " [ 0.00000000e+00 -1.12279453e+01 -2.27203407e+01 -1.99453487e+01\n",
      "  -1.37658577e+01 -1.55780420e+01 -2.33938751e+01 -2.79218292e+01\n",
      "  -2.55186081e+01 -2.59742451e+01 -3.01276665e+01 -2.10956192e+01\n",
      "  -1.74588432e+01 -1.77780266e+01 -7.04102135e+00 -8.90736580e+00\n",
      "  -1.10163183e+01 -1.93749123e+01 -1.67727585e+01 -7.73590565e+00\n",
      "  -3.17031765e+00 -9.82208729e+00 -2.19588623e+01 -2.12847786e+01\n",
      "  -1.14224262e+01 -2.63920546e+00 -5.45989871e-01  2.91979694e+00\n",
      "   2.26952374e-01 -1.49220181e+01 -2.07295113e+01 -1.20691338e+01\n",
      "  -1.82786584e-03  2.56734371e+00 -3.40861535e+00 -2.49528160e+01\n",
      "  -2.84248047e+01 -2.47450714e+01 -2.14183769e+01 -1.92143517e+01\n",
      "  -1.45510645e+01 -2.10919619e+00  7.41000414e+00  6.44339371e+00]\n",
      " [ 0.00000000e+00 -4.00778198e+00 -7.85041142e+00 -4.68213558e+00\n",
      "  -1.45877075e+00  6.84149694e+00  5.51217651e+00  1.26460972e+01\n",
      "   1.56122856e+01  8.37626934e+00  4.48593140e+00  6.13630295e+00\n",
      "   2.21868253e+00 -3.33748078e+00 -5.27679062e+00 -3.68823576e+00\n",
      "  -5.46619511e+00 -1.14525299e+01 -1.53700752e+01 -1.86786308e+01\n",
      "  -2.24618359e+01 -1.34639072e+01  2.59733582e+00  1.41596279e+01\n",
      "   2.40208759e+01  2.36410789e+01  2.10659142e+01  1.58180218e+01\n",
      "   1.35229836e+01 -4.48575211e+00 -7.95052242e+00  2.80565888e-01\n",
      "   5.50514460e+00  1.26140332e+00  1.58304989e+00 -3.63132048e+00\n",
      "  -3.88516498e+00 -1.97212732e+00 -8.42945862e+00 -8.27070332e+00\n",
      "  -6.11820412e+00 -4.59624147e+00 -4.85744667e+00 -1.38960447e+01]\n",
      " [ 0.00000000e+00  4.51440191e+00  5.15186119e+00  3.33942461e+00\n",
      "   4.26931977e-01  4.91273046e-01 -1.75333941e+00 -1.12084770e+00\n",
      "   4.60340738e+00  1.18331013e+01  5.74126625e+00 -1.32796860e+00\n",
      "  -2.80088997e+00  4.46824121e+00  1.20139637e+01  4.23125792e+00\n",
      "  -5.33934975e+00 -5.78081989e+00 -1.46433792e+01 -1.41555500e+01\n",
      "  -8.34005737e+00 -1.82510114e+00  5.73099613e+00  1.49877605e+01\n",
      "   2.46079941e+01  2.66022911e+01  2.08049660e+01  1.00582142e+01\n",
      "   3.44513392e+00  8.82247353e+00  1.00438366e+01  1.37385654e+01\n",
      "   2.70221186e+00  1.86093855e+00 -1.36579454e-01 -7.91631413e+00\n",
      "   4.44610596e-01  8.95797157e+00  1.37003021e+01  9.24801445e+00\n",
      "  -3.36440182e+00  1.36665392e+00  7.42671013e+00  8.44982338e+00]\n",
      " [ 0.00000000e+00 -3.66701692e-01 -3.06665063e-01 -2.88473582e+00\n",
      "  -1.04972572e+01 -8.60392189e+00 -1.00573206e+00 -2.45778489e+00\n",
      "  -7.76144981e+00 -6.31779099e+00 -6.91224337e+00  3.81548357e+00\n",
      "   1.08912096e+01  9.06733608e+00  8.15578842e+00  8.18446827e+00\n",
      "   2.64770889e+00  5.99146664e-01  2.73590684e-02 -6.79020643e-01\n",
      "  -8.38315773e+00 -8.78192139e+00  5.25083351e+00  6.27720547e+00\n",
      "   1.26834641e+01  1.26091995e+01  1.10274220e+01  1.26093569e+01\n",
      "   4.90896797e+00 -1.89179420e+01 -1.75719604e+01 -4.09431219e+00\n",
      "  -1.19167316e+00 -3.78976560e+00 -6.80464649e+00 -1.20592308e+01\n",
      "  -1.48365307e+01 -1.39272556e+01 -9.65531731e+00 -4.29181755e-02\n",
      "  -3.98224592e+00 -9.76297855e-02 -4.33208823e-01 -1.23313296e+00]\n",
      " [ 0.00000000e+00 -2.05929017e+00  1.75805461e+00  2.70698881e+00\n",
      "  -3.27574193e-01 -3.47086287e+00  8.48064780e-01  1.04810848e+01\n",
      "   1.13195925e+01  1.13559656e+01  1.19504623e+01  4.62122726e+00\n",
      "  -3.04419541e+00  2.24488258e+00  2.01320601e+00 -3.00612879e+00\n",
      "  -7.39351368e+00 -6.58962131e-02  1.55196171e+01  2.02343235e+01\n",
      "   1.10842037e+01 -8.78114462e-01 -4.12366724e+00 -3.98231363e+00\n",
      "   7.88508654e-02 -5.46951962e+00 -7.36137104e+00 -6.08667946e+00\n",
      "   3.38915801e+00  9.19403553e+00  1.23134480e+01 -2.31200397e-01\n",
      "   5.46749115e+00  6.57419014e+00  6.49807334e-01 -4.08021069e+00\n",
      "  -3.03262281e+00 -2.62390232e+00  2.24061179e+00  1.68429375e+00\n",
      "  -4.21715736e+00 -8.24851894e+00 -1.06728089e+00  1.05165901e+01]\n",
      " [ 0.00000000e+00 -1.16493022e+00  7.48483241e-02  5.93599439e-01\n",
      "  -5.19636822e+00 -2.32622504e+00 -1.50403416e+00 -1.80528793e+01\n",
      "  -1.93780937e+01 -1.05194416e+01 -1.09558792e+01 -1.05425797e+01\n",
      "  -6.52712059e+00 -5.62924337e+00 -2.38156605e+00 -6.64276218e+00\n",
      "  -7.38118744e+00 -3.90306473e+00  4.42367935e+00  8.84114838e+00\n",
      "   7.92586803e+00 -3.16027045e-01 -6.68727398e+00 -1.80575371e-01\n",
      "   4.42231178e+00  2.17456341e-01 -1.91440034e+00 -6.18075991e+00\n",
      "  -2.29496050e+00  2.15854797e+01  1.61645985e+01  1.12404823e+00\n",
      "  -3.22843027e+00 -1.24238014e+00 -1.75067234e+00  5.55558729e+00\n",
      "   6.97571468e+00  7.47121048e+00  6.58290577e+00 -5.96459270e-01\n",
      "  -2.15295100e+00  8.74793649e-01 -9.21674728e-01 -4.63745642e+00]\n",
      " [ 0.00000000e+00 -4.61548775e-01 -7.59251118e+00 -2.79367757e+00\n",
      "  -7.10054278e-01  1.28713858e+00  5.10286903e+00  1.00444579e+00\n",
      "   1.64522958e+00 -8.38885689e+00 -1.15902777e+01 -8.18489552e+00\n",
      "  -3.99235535e+00 -7.00745153e+00 -1.24102097e+01 -1.09075317e+01\n",
      "  -1.51618204e+01 -1.36938591e+01 -1.68301048e+01 -1.94316483e+01\n",
      "  -1.67707634e+01 -1.23506546e+01 -1.87076015e+01 -1.58761635e+01\n",
      "  -9.23972130e+00 -7.39428520e+00 -9.76016045e+00 -4.69483519e+00\n",
      "  -3.99250937e+00 -2.29211731e+01 -2.64521046e+01 -1.38832264e+01\n",
      "  -1.46339340e+01 -1.55496941e+01 -9.40864563e+00 -1.50010121e+00\n",
      "  -2.33264494e+00 -7.11270285e+00 -1.46441154e+01 -1.02062855e+01\n",
      "  -7.64985847e+00 -1.04391098e+01 -6.58779478e+00 -9.28198576e-01]\n",
      " [ 0.00000000e+00  6.44671059e+00  7.22034752e-01  2.12217045e+00\n",
      "   4.82504034e+00  5.75694704e+00 -2.50488472e+00 -6.00912857e+00\n",
      "   6.46426105e+00  9.10787773e+00 -3.14419031e+00 -1.03718557e+01\n",
      "  -3.90560460e+00 -3.46199965e+00 -3.46143341e+00 -6.96457005e+00\n",
      "  -1.31228781e+01 -1.06951904e+01 -5.09100246e+00  1.44590473e+00\n",
      "   4.46306372e+00 -2.36217952e+00 -7.94673252e+00 -8.39487934e+00\n",
      "  -1.55521274e+00  3.78441334e+00  2.29489160e+00  2.20595503e+00\n",
      "  -2.84918928e+00  7.27698445e-01  3.65724826e+00  2.96413922e+00\n",
      "   7.18329525e+00  1.49098492e+01  1.74325256e+01  4.09987688e+00\n",
      "   4.19364500e+00  7.53341627e+00  2.11246204e+01  1.34413033e+01\n",
      "   1.75211817e-01 -1.30665421e+00 -1.94564915e+00  2.18550801e+00]\n",
      " [ 0.00000000e+00  4.95986891e+00  3.30675066e-01 -3.30756402e+00\n",
      "  -6.50969219e+00 -2.96083999e+00  6.85454309e-01 -1.08239031e+00\n",
      "   3.33128071e+00  1.64850938e+00 -5.22005367e+00 -5.30142069e+00\n",
      "   2.87483907e+00 -2.47603804e-01 -5.78127003e+00 -1.36991062e+01\n",
      "  -1.14035883e+01 -6.02712536e+00  3.41760230e+00  4.92209768e+00\n",
      "   6.45073986e+00  2.04550219e+00 -3.49316740e+00  4.64656830e+00\n",
      "   1.53384590e+01  1.62930069e+01  1.00277290e+01 -5.99571884e-01\n",
      "   2.49543142e+00  9.97951329e-01 -5.37398458e-01  2.00602770e+00\n",
      "  -3.67630959e-01 -8.57882309e+00 -8.32941818e+00 -6.89947987e+00\n",
      "  -6.29772663e+00 -1.00133591e+01 -1.12309389e+01 -8.33244896e+00\n",
      "  -5.93958092e+00 -3.22972775e+00 -4.97342491e+00 -4.78487730e+00]\n",
      " [ 0.00000000e+00 -2.26495838e+00 -1.37662005e+00 -2.48397064e+00\n",
      "  -3.74221039e+00 -5.31362343e+00  1.36816251e+00  1.48575754e+01\n",
      "   1.41908064e+01  2.67332125e+00 -2.13344246e-01 -3.37385178e+00\n",
      "  -3.74589252e+00  7.72032881e+00  5.18244743e+00  7.34824687e-02\n",
      "   3.73805285e-01  3.11559176e+00  5.90961552e+00 -2.95187521e+00\n",
      "  -9.13369370e+00 -2.44550681e+00  3.25225663e+00  8.52965069e+00\n",
      "   1.04210815e+01  5.16202116e+00  8.59984016e+00  7.57867432e+00\n",
      "   8.71456146e+00 -2.86781168e+00  4.14635944e+00  9.85387802e+00\n",
      "   5.33931637e+00  2.98610985e-01 -2.61669350e+00 -8.19895554e+00\n",
      "  -9.51530647e+00 -1.13295612e+01 -1.00518169e+01 -1.04661665e+01\n",
      "   3.70301962e-01 -2.99879360e+00 -2.14885020e+00 -6.08338654e-01]]\n",
      "<class 'numpy.ndarray'>\n",
      "20\n"
     ]
    }
   ],
   "source": [
    "print(df.columns[15])\n",
    "print(df.iloc[0,15])\n",
    "print(type(df.iloc[0,15]))\n",
    "print(len(df.iloc[0,15]))"
   ]
  },
  {
   "cell_type": "code",
   "execution_count": 77,
   "id": "69cbc373",
   "metadata": {},
   "outputs": [
    {
     "data": {
      "text/plain": [
       "(22050,)"
      ]
     },
     "execution_count": 77,
     "metadata": {},
     "output_type": "execute_result"
    }
   ],
   "source": [
    "df['sample'].iloc[0].shape"
   ]
  },
  {
   "cell_type": "code",
   "execution_count": 78,
   "id": "b5a468e9",
   "metadata": {},
   "outputs": [
    {
     "data": {
      "text/plain": [
       "(20, 44)"
      ]
     },
     "execution_count": 78,
     "metadata": {},
     "output_type": "execute_result"
    }
   ],
   "source": [
    "df['mfcc'].iloc[0].shape "
   ]
  },
  {
   "cell_type": "code",
   "execution_count": null,
   "id": "8330e158",
   "metadata": {},
   "outputs": [],
   "source": [
    "#df['sample'] = df['sample'].apply(lambda x: ','.join(map(str, x)))"
   ]
  },
  {
   "cell_type": "code",
   "execution_count": null,
   "id": "8e3265f2-c9a4-4667-818d-3423364c9e3e",
   "metadata": {},
   "outputs": [],
   "source": [
    "#df['mfcc'] = df['mfcc'].apply(lambda x: ','.join(map(str, x)))"
   ]
  },
  {
   "cell_type": "code",
   "execution_count": 79,
   "id": "9853b5d2",
   "metadata": {},
   "outputs": [],
   "source": [
    "# Get the current system date and time\n",
    "start=datetime.now()"
   ]
  },
  {
   "cell_type": "code",
   "execution_count": 80,
   "id": "59eda4b9-a8aa-4b0d-8f4e-610505e5e596",
   "metadata": {},
   "outputs": [],
   "source": [
    "#df.to_csv(date_time_variable+\"_\"+DATASET_NAME+'_features.csv',mode='w')"
   ]
  },
  {
   "cell_type": "code",
   "execution_count": 81,
   "id": "10981aa0-90dd-4590-87f5-1f2efebf5c7c",
   "metadata": {},
   "outputs": [],
   "source": [
    "#df.to_hdf(date_time_variable+\"_\"+DATASET_NAME+'_features_3.h5',key='df',mode='w',format='fixed')"
   ]
  },
  {
   "cell_type": "code",
   "execution_count": 82,
   "id": "22db7d93-525e-46db-8641-b8fcc88fa4d6",
   "metadata": {},
   "outputs": [],
   "source": [
    "df.to_pickle(date_time_variable+\"_\"+DATASET_NAME+'_features.pkl')"
   ]
  },
  {
   "cell_type": "code",
   "execution_count": 83,
   "id": "e8b4e64f-aef0-4838-b572-7a8b138ecc84",
   "metadata": {},
   "outputs": [],
   "source": [
    "#df2=pd.read_pickle(date_time_variable+\"_\"+DATASET_NAME+'_features.pkl')"
   ]
  },
  {
   "cell_type": "code",
   "execution_count": null,
   "id": "e08c6109-56b4-4194-b65e-4dd913528789",
   "metadata": {},
   "outputs": [],
   "source": []
  }
 ],
 "metadata": {
  "kernelspec": {
   "display_name": "Python 3",
   "language": "python",
   "name": "python3"
  },
  "language_info": {
   "codemirror_mode": {
    "name": "ipython",
    "version": 3
   },
   "file_extension": ".py",
   "mimetype": "text/x-python",
   "name": "python",
   "nbconvert_exporter": "python",
   "pygments_lexer": "ipython3",
   "version": "3.9.19"
  }
 },
 "nbformat": 4,
 "nbformat_minor": 5
}
