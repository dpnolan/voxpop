{
 "cells": [
  {
   "cell_type": "code",
   "execution_count": null,
   "id": "c0cc52e1-a324-4f17-95a7-bc7be803532a",
   "metadata": {},
   "outputs": [],
   "source": []
  },
  {
   "cell_type": "markdown",
   "id": "b42b10f2-345f-4ef6-8cf7-3bef06ee8ff7",
   "metadata": {},
   "source": [
    "Structure largely follows Keras examples \n",
    "* https://github.com/tensorflow/docs/blob/master/site/en/tutorials/keras/classification.ipynb\n",
    "* "
   ]
  },
  {
   "cell_type": "markdown",
   "id": "3646608b-6b15-4025-a9a6-7f4130c2fd90",
   "metadata": {},
   "source": [
    "## To Do \n",
    "added the gender and age categorical variables as inputs\n",
    "automated hyperparameter estimation"
   ]
  },
  {
   "cell_type": "markdown",
   "id": "c501616d-901a-4aee-9e56-776ac8f3e614",
   "metadata": {},
   "source": [
    "## Changes\n",
    "\n",
    "* 4 Added other MFCC metrics as numerical features from my preprocess script, added the gender and age categorical variables as inputs\n",
    "* 3 added MFCC from my preprocessing scripts, added classification and class-imbalance metrics and performance improved to 80%+ accuracy\n",
    "* 2 used MFCC calculated from the SAIE dataset from the method given in the script\n"
   ]
  },
  {
   "cell_type": "code",
   "execution_count": 1,
   "id": "f0361c0f-638f-41b5-9b03-282fe4d52c80",
   "metadata": {},
   "outputs": [],
   "source": [
    "import tensorflow as tf"
   ]
  },
  {
   "cell_type": "code",
   "execution_count": 2,
   "id": "614857c5-82e1-4d77-a2b2-f1a9da28365e",
   "metadata": {},
   "outputs": [
    {
     "data": {
      "text/plain": [
       "'2.17.0'"
      ]
     },
     "execution_count": 2,
     "metadata": {},
     "output_type": "execute_result"
    }
   ],
   "source": [
    "tf.__version__"
   ]
  },
  {
   "cell_type": "code",
   "execution_count": 3,
   "id": "f989cbc8-bd3e-45c1-a77e-eacc995e4b16",
   "metadata": {},
   "outputs": [
    {
     "name": "stderr",
     "output_type": "stream",
     "text": [
      "C:\\Users\\GGMachines_Gaming\\.conda\\envs\\audio8_2_tf\\lib\\site-packages\\pydub\\utils.py:170: RuntimeWarning: Couldn't find ffmpeg or avconv - defaulting to ffmpeg, but may not work\n",
      "  warn(\"Couldn't find ffmpeg or avconv - defaulting to ffmpeg, but may not work\", RuntimeWarning)\n"
     ]
    }
   ],
   "source": [
    "import librosa\n",
    "from pydub import AudioSegment\n",
    "import soundfile as sf\n",
    "import ffmpeg\n",
    "from IPython.display import Audio"
   ]
  },
  {
   "cell_type": "code",
   "execution_count": 4,
   "id": "38a98d5d-01c6-4264-9ae3-5c46f4380ad9",
   "metadata": {},
   "outputs": [],
   "source": [
    "import pandas as pd\n",
    "import numpy as np\n",
    "import os"
   ]
  },
  {
   "cell_type": "code",
   "execution_count": 153,
   "id": "f5cdd42a-417d-464c-b764-5851ac1cbbfd",
   "metadata": {},
   "outputs": [],
   "source": [
    "from sklearn.preprocessing import StandardScaler\n",
    "from sklearn.model_selection import train_test_split\n",
    "from sklearn.utils.class_weight import compute_class_weight\n",
    "from sklearn.metrics import confusion_matrix, roc_auc_score, roc_curve, auc\n",
    "from sklearn.metrics import accuracy_score, precision_score, recall_score, f1_score"
   ]
  },
  {
   "cell_type": "code",
   "execution_count": 6,
   "id": "17d95129-96a1-449d-abc1-419802691aec",
   "metadata": {},
   "outputs": [],
   "source": [
    "import matplotlib.pyplot as plt\n",
    "import seaborn as sns"
   ]
  },
  {
   "cell_type": "code",
   "execution_count": 7,
   "id": "98e50224-9770-4458-9418-adef41ea77ff",
   "metadata": {},
   "outputs": [
    {
     "data": {
      "text/plain": [
       "'0.10.2.post1'"
      ]
     },
     "execution_count": 7,
     "metadata": {},
     "output_type": "execute_result"
    }
   ],
   "source": [
    "librosa.__version__"
   ]
  },
  {
   "cell_type": "markdown",
   "id": "78a701ec-a6e2-4b31-b945-f4f46f7ecabb",
   "metadata": {},
   "source": [
    "## File inputs and GLOBAL VARIABLES"
   ]
  },
  {
   "cell_type": "code",
   "execution_count": null,
   "id": "baa29e2f-06c9-4b8b-a4da-03342b0bb8ff",
   "metadata": {},
   "outputs": [],
   "source": [
    "file_class=pd.read_csv('file_class.csv',index_col=0) #\"C:\\Users\\GGMachines_Gaming\\Documents\\voxpop\\file_class.df\""
   ]
  },
  {
   "cell_type": "code",
   "execution_count": null,
   "id": "37893c2a-fa20-4322-850f-8b4c76cc4971",
   "metadata": {},
   "outputs": [],
   "source": [
    "os.getcwd()"
   ]
  },
  {
   "cell_type": "code",
   "execution_count": 8,
   "id": "d692c556-f4b0-457d-907d-3cc45af046fa",
   "metadata": {},
   "outputs": [],
   "source": [
    "INPUT_DIRECTORY='C:\\\\Users\\\\GGMachines_Gaming\\\\Documents\\\\voxpop\\\\' #i9 machine"
   ]
  },
  {
   "cell_type": "code",
   "execution_count": 31,
   "id": "77c41766-b8c5-4a4b-a7dd-a8df9f9c5502",
   "metadata": {},
   "outputs": [],
   "source": [
    "TRAIN_TEST_SPLIT = 0.80"
   ]
  },
  {
   "cell_type": "code",
   "execution_count": 16,
   "id": "8b4e91fb-fd3c-46bc-95cb-a7ccf9a3456d",
   "metadata": {},
   "outputs": [],
   "source": [
    "## Used in versions 1,2 instead of my preprocessing output\n",
    "\n",
    "# file_class=pd.read_csv('file_class.csv',index_col=0) #\"C:\\Users\\GGMachines_Gaming\\Documents\\voxpop\\file_class.df\"\n",
    "# file_class.shape"
   ]
  },
  {
   "cell_type": "code",
   "execution_count": 14,
   "id": "87c26717-ba5c-4ec9-b891-a71d8855abed",
   "metadata": {},
   "outputs": [],
   "source": [
    "dub_df = pd.read_pickle('C:\\\\Users\\\\GGMachines_Gaming\\\\Documents\\\\voxpop\\\\sample_output_directory\\\\20240721_0000_DUB_features.pkl') #i9 directory"
   ]
  },
  {
   "cell_type": "code",
   "execution_count": 15,
   "id": "e3b4921b-fbec-4b57-b90a-3d936f2252e2",
   "metadata": {},
   "outputs": [],
   "source": [
    "antbel_df = pd.read_pickle('C:\\\\Users\\\\GGMachines_Gaming\\\\Documents\\\\voxpop\\\\sample_output_directory\\\\20240721_0013_ANT_features.pkl') #i9 directory"
   ]
  },
  {
   "cell_type": "markdown",
   "id": "149f4296-8e53-4c53-94bd-7f8279ebec3f",
   "metadata": {},
   "source": [
    "## Reset recording numbers"
   ]
  },
  {
   "cell_type": "code",
   "execution_count": 17,
   "id": "0bf7ee44-5aa0-4bbe-81d3-74f2791e0720",
   "metadata": {},
   "outputs": [
    {
     "data": {
      "text/plain": [
       "166"
      ]
     },
     "execution_count": 17,
     "metadata": {},
     "output_type": "execute_result"
    }
   ],
   "source": [
    "recordings_count=dub_df['recording num'].max()\n",
    "recordings_count"
   ]
  },
  {
   "cell_type": "code",
   "execution_count": 18,
   "id": "ac763ca5-5b06-4613-af4a-b2b6661020c0",
   "metadata": {},
   "outputs": [
    {
     "data": {
      "text/plain": [
       "0       166\n",
       "1       166\n",
       "2       166\n",
       "3       166\n",
       "4       166\n",
       "       ... \n",
       "6489    237\n",
       "6490    237\n",
       "6491    237\n",
       "6492    237\n",
       "6493    237\n",
       "Name: recording num, Length: 6494, dtype: object"
      ]
     },
     "execution_count": 18,
     "metadata": {},
     "output_type": "execute_result"
    }
   ],
   "source": [
    "#Increase the recording number in the 2nd dataframe so that there are no duplicates\n",
    "antbel_df['recording num']=dub_df['recording num']+recordings_count\n",
    "antbel_df['recording num']"
   ]
  },
  {
   "cell_type": "markdown",
   "id": "ae7ed263-e72c-4478-942b-faf86b9b3863",
   "metadata": {},
   "source": [
    "# Merge the DataFrames"
   ]
  },
  {
   "cell_type": "code",
   "execution_count": 321,
   "id": "ecd28926-8595-41c0-8f33-3abdbdbded06",
   "metadata": {},
   "outputs": [],
   "source": [
    "# Concatenate the DataFrames\n",
    "all_df= pd.concat([antbel_df, dub_df], ignore_index=True)\n"
   ]
  },
  {
   "cell_type": "code",
   "execution_count": 322,
   "id": "8bc029e6-fce0-4248-a1da-ae7db6381be9",
   "metadata": {},
   "outputs": [
    {
     "data": {
      "text/plain": [
       "(21594, 18)"
      ]
     },
     "execution_count": 322,
     "metadata": {},
     "output_type": "execute_result"
    }
   ],
   "source": [
    "all_df.shape"
   ]
  },
  {
   "cell_type": "code",
   "execution_count": 323,
   "id": "864d85cb-b9be-44de-9d11-3079b29f6b9b",
   "metadata": {},
   "outputs": [
    {
     "data": {
      "text/html": [
       "<div>\n",
       "<style scoped>\n",
       "    .dataframe tbody tr th:only-of-type {\n",
       "        vertical-align: middle;\n",
       "    }\n",
       "\n",
       "    .dataframe tbody tr th {\n",
       "        vertical-align: top;\n",
       "    }\n",
       "\n",
       "    .dataframe thead th {\n",
       "        text-align: right;\n",
       "    }\n",
       "</style>\n",
       "<table border=\"1\" class=\"dataframe\">\n",
       "  <thead>\n",
       "    <tr style=\"text-align: right;\">\n",
       "      <th></th>\n",
       "      <th>filenames</th>\n",
       "      <th>names</th>\n",
       "      <th>counties</th>\n",
       "      <th>towns</th>\n",
       "      <th>urbanrural</th>\n",
       "      <th>size</th>\n",
       "      <th>genders</th>\n",
       "      <th>ages</th>\n",
       "      <th>dur</th>\n",
       "      <th>recording num</th>\n",
       "      <th>sample num</th>\n",
       "      <th>sample file name</th>\n",
       "      <th>sample</th>\n",
       "      <th>Ydb</th>\n",
       "      <th>sr</th>\n",
       "      <th>mfcc</th>\n",
       "      <th>mfcc_delta</th>\n",
       "      <th>mfcc_delta_2</th>\n",
       "    </tr>\n",
       "  </thead>\n",
       "  <tbody>\n",
       "    <tr>\n",
       "      <th>0</th>\n",
       "      <td>C:\\Users\\GGMachines_Gaming\\Documents\\ANT\\ANT_A...</td>\n",
       "      <td>ANT_Antrim_R1_F_20</td>\n",
       "      <td>ANT</td>\n",
       "      <td>Antrim</td>\n",
       "      <td>R</td>\n",
       "      <td>1</td>\n",
       "      <td>F</td>\n",
       "      <td>20</td>\n",
       "      <td>95.95</td>\n",
       "      <td>166</td>\n",
       "      <td>0</td>\n",
       "      <td>ANT_Antrim_R1_F_20_Rec_0_Sample_0.wav</td>\n",
       "      <td>[-3.259629e-09, -1.9790605e-09, -1.8626451e-09...</td>\n",
       "      <td>[[-35.601192, -23.076942, -25.175114, -30.8771...</td>\n",
       "      <td>22050</td>\n",
       "      <td>[[-494.3632, -314.76587, -256.5209, -248.23921...</td>\n",
       "      <td>[[22.54509, 22.54509, 22.54509, 22.54509, 22.5...</td>\n",
       "      <td>[[-13.363751, -13.363751, -13.363751, -13.3637...</td>\n",
       "    </tr>\n",
       "    <tr>\n",
       "      <th>1</th>\n",
       "      <td>C:\\Users\\GGMachines_Gaming\\Documents\\ANT\\ANT_A...</td>\n",
       "      <td>ANT_Antrim_R1_F_20</td>\n",
       "      <td>ANT</td>\n",
       "      <td>Antrim</td>\n",
       "      <td>R</td>\n",
       "      <td>1</td>\n",
       "      <td>F</td>\n",
       "      <td>20</td>\n",
       "      <td>95.95</td>\n",
       "      <td>166</td>\n",
       "      <td>1</td>\n",
       "      <td>ANT_Antrim_R1_F_20_Rec_0_Sample_1.wav</td>\n",
       "      <td>[-0.063719966, 0.018594107, 0.042440787, 0.011...</td>\n",
       "      <td>[[-24.939114, -19.037073, -35.540073, -40.6882...</td>\n",
       "      <td>22050</td>\n",
       "      <td>[[-200.87267, -189.22813, -205.93425, -217.350...</td>\n",
       "      <td>[[1.7263998, 1.7263998, 1.7263998, 1.7263998, ...</td>\n",
       "      <td>[[8.442614, 8.442614, 8.442614, 8.442614, 8.44...</td>\n",
       "    </tr>\n",
       "    <tr>\n",
       "      <th>2</th>\n",
       "      <td>C:\\Users\\GGMachines_Gaming\\Documents\\ANT\\ANT_A...</td>\n",
       "      <td>ANT_Antrim_R1_F_20</td>\n",
       "      <td>ANT</td>\n",
       "      <td>Antrim</td>\n",
       "      <td>R</td>\n",
       "      <td>1</td>\n",
       "      <td>F</td>\n",
       "      <td>20</td>\n",
       "      <td>95.95</td>\n",
       "      <td>166</td>\n",
       "      <td>2</td>\n",
       "      <td>ANT_Antrim_R1_F_20_Rec_0_Sample_2.wav</td>\n",
       "      <td>[-0.009588398, -0.029184137, -0.023096263, -0....</td>\n",
       "      <td>[[-12.003866, -22.771717, -25.912066, -27.5487...</td>\n",
       "      <td>22050</td>\n",
       "      <td>[[-269.9958, -209.71855, -199.9971, -192.51334...</td>\n",
       "      <td>[[7.1880474, 7.1880474, 7.1880474, 7.1880474, ...</td>\n",
       "      <td>[[-7.412616, -7.412616, -7.412616, -7.412616, ...</td>\n",
       "    </tr>\n",
       "    <tr>\n",
       "      <th>3</th>\n",
       "      <td>C:\\Users\\GGMachines_Gaming\\Documents\\ANT\\ANT_A...</td>\n",
       "      <td>ANT_Antrim_R1_F_20</td>\n",
       "      <td>ANT</td>\n",
       "      <td>Antrim</td>\n",
       "      <td>R</td>\n",
       "      <td>1</td>\n",
       "      <td>F</td>\n",
       "      <td>20</td>\n",
       "      <td>95.95</td>\n",
       "      <td>166</td>\n",
       "      <td>3</td>\n",
       "      <td>ANT_Antrim_R1_F_20_Rec_0_Sample_3.wav</td>\n",
       "      <td>[-0.02926175, -0.03246651, -0.03447114, -0.032...</td>\n",
       "      <td>[[-33.829704, -37.727036, -24.553106, -31.8029...</td>\n",
       "      <td>22050</td>\n",
       "      <td>[[-319.19656, -307.64944, -314.54547, -295.997...</td>\n",
       "      <td>[[9.711183, 9.711183, 9.711183, 9.711183, 9.71...</td>\n",
       "      <td>[[-0.45292982, -0.45292982, -0.45292982, -0.45...</td>\n",
       "    </tr>\n",
       "  </tbody>\n",
       "</table>\n",
       "</div>"
      ],
      "text/plain": [
       "                                           filenames               names  \\\n",
       "0  C:\\Users\\GGMachines_Gaming\\Documents\\ANT\\ANT_A...  ANT_Antrim_R1_F_20   \n",
       "1  C:\\Users\\GGMachines_Gaming\\Documents\\ANT\\ANT_A...  ANT_Antrim_R1_F_20   \n",
       "2  C:\\Users\\GGMachines_Gaming\\Documents\\ANT\\ANT_A...  ANT_Antrim_R1_F_20   \n",
       "3  C:\\Users\\GGMachines_Gaming\\Documents\\ANT\\ANT_A...  ANT_Antrim_R1_F_20   \n",
       "\n",
       "  counties   towns urbanrural size genders ages    dur recording num  \\\n",
       "0      ANT  Antrim          R    1       F   20  95.95           166   \n",
       "1      ANT  Antrim          R    1       F   20  95.95           166   \n",
       "2      ANT  Antrim          R    1       F   20  95.95           166   \n",
       "3      ANT  Antrim          R    1       F   20  95.95           166   \n",
       "\n",
       "  sample num                       sample file name  \\\n",
       "0          0  ANT_Antrim_R1_F_20_Rec_0_Sample_0.wav   \n",
       "1          1  ANT_Antrim_R1_F_20_Rec_0_Sample_1.wav   \n",
       "2          2  ANT_Antrim_R1_F_20_Rec_0_Sample_2.wav   \n",
       "3          3  ANT_Antrim_R1_F_20_Rec_0_Sample_3.wav   \n",
       "\n",
       "                                              sample  \\\n",
       "0  [-3.259629e-09, -1.9790605e-09, -1.8626451e-09...   \n",
       "1  [-0.063719966, 0.018594107, 0.042440787, 0.011...   \n",
       "2  [-0.009588398, -0.029184137, -0.023096263, -0....   \n",
       "3  [-0.02926175, -0.03246651, -0.03447114, -0.032...   \n",
       "\n",
       "                                                 Ydb     sr  \\\n",
       "0  [[-35.601192, -23.076942, -25.175114, -30.8771...  22050   \n",
       "1  [[-24.939114, -19.037073, -35.540073, -40.6882...  22050   \n",
       "2  [[-12.003866, -22.771717, -25.912066, -27.5487...  22050   \n",
       "3  [[-33.829704, -37.727036, -24.553106, -31.8029...  22050   \n",
       "\n",
       "                                                mfcc  \\\n",
       "0  [[-494.3632, -314.76587, -256.5209, -248.23921...   \n",
       "1  [[-200.87267, -189.22813, -205.93425, -217.350...   \n",
       "2  [[-269.9958, -209.71855, -199.9971, -192.51334...   \n",
       "3  [[-319.19656, -307.64944, -314.54547, -295.997...   \n",
       "\n",
       "                                          mfcc_delta  \\\n",
       "0  [[22.54509, 22.54509, 22.54509, 22.54509, 22.5...   \n",
       "1  [[1.7263998, 1.7263998, 1.7263998, 1.7263998, ...   \n",
       "2  [[7.1880474, 7.1880474, 7.1880474, 7.1880474, ...   \n",
       "3  [[9.711183, 9.711183, 9.711183, 9.711183, 9.71...   \n",
       "\n",
       "                                        mfcc_delta_2  \n",
       "0  [[-13.363751, -13.363751, -13.363751, -13.3637...  \n",
       "1  [[8.442614, 8.442614, 8.442614, 8.442614, 8.44...  \n",
       "2  [[-7.412616, -7.412616, -7.412616, -7.412616, ...  \n",
       "3  [[-0.45292982, -0.45292982, -0.45292982, -0.45...  "
      ]
     },
     "execution_count": 323,
     "metadata": {},
     "output_type": "execute_result"
    }
   ],
   "source": [
    "all_df.iloc[0:4]"
   ]
  },
  {
   "cell_type": "code",
   "execution_count": 258,
   "id": "9dfd3bb8-59fb-477c-a359-1d22930d3be5",
   "metadata": {},
   "outputs": [],
   "source": [
    "# One-hot encoding: Put one column in for every value of the categorical variables\n",
    "\n",
    "all_df = pd.get_dummies(all_df, columns=['genders','ages'],prefix=[None,None])"
   ]
  },
  {
   "cell_type": "code",
   "execution_count": 318,
   "id": "bcddc458-eece-4b40-a073-52a4f0936688",
   "metadata": {},
   "outputs": [
    {
     "data": {
      "text/html": [
       "<div>\n",
       "<style scoped>\n",
       "    .dataframe tbody tr th:only-of-type {\n",
       "        vertical-align: middle;\n",
       "    }\n",
       "\n",
       "    .dataframe tbody tr th {\n",
       "        vertical-align: top;\n",
       "    }\n",
       "\n",
       "    .dataframe thead th {\n",
       "        text-align: right;\n",
       "    }\n",
       "</style>\n",
       "<table border=\"1\" class=\"dataframe\">\n",
       "  <thead>\n",
       "    <tr style=\"text-align: right;\">\n",
       "      <th></th>\n",
       "      <th>mfcc_delta_2</th>\n",
       "      <th>F</th>\n",
       "      <th>M</th>\n",
       "      <th>15</th>\n",
       "      <th>16</th>\n",
       "      <th>20</th>\n",
       "      <th>25</th>\n",
       "      <th>30</th>\n",
       "      <th>35</th>\n",
       "      <th>40</th>\n",
       "      <th>45</th>\n",
       "      <th>50</th>\n",
       "      <th>55</th>\n",
       "      <th>60</th>\n",
       "      <th>65</th>\n",
       "      <th>70</th>\n",
       "      <th>80</th>\n",
       "    </tr>\n",
       "  </thead>\n",
       "  <tbody>\n",
       "    <tr>\n",
       "      <th>0</th>\n",
       "      <td>[[-13.363751, -13.363751, -13.363751, -13.3637...</td>\n",
       "      <td>True</td>\n",
       "      <td>False</td>\n",
       "      <td>False</td>\n",
       "      <td>False</td>\n",
       "      <td>True</td>\n",
       "      <td>False</td>\n",
       "      <td>False</td>\n",
       "      <td>False</td>\n",
       "      <td>False</td>\n",
       "      <td>False</td>\n",
       "      <td>False</td>\n",
       "      <td>False</td>\n",
       "      <td>False</td>\n",
       "      <td>False</td>\n",
       "      <td>False</td>\n",
       "      <td>False</td>\n",
       "    </tr>\n",
       "    <tr>\n",
       "      <th>1</th>\n",
       "      <td>[[8.442614, 8.442614, 8.442614, 8.442614, 8.44...</td>\n",
       "      <td>True</td>\n",
       "      <td>False</td>\n",
       "      <td>False</td>\n",
       "      <td>False</td>\n",
       "      <td>True</td>\n",
       "      <td>False</td>\n",
       "      <td>False</td>\n",
       "      <td>False</td>\n",
       "      <td>False</td>\n",
       "      <td>False</td>\n",
       "      <td>False</td>\n",
       "      <td>False</td>\n",
       "      <td>False</td>\n",
       "      <td>False</td>\n",
       "      <td>False</td>\n",
       "      <td>False</td>\n",
       "    </tr>\n",
       "    <tr>\n",
       "      <th>2</th>\n",
       "      <td>[[-7.412616, -7.412616, -7.412616, -7.412616, ...</td>\n",
       "      <td>True</td>\n",
       "      <td>False</td>\n",
       "      <td>False</td>\n",
       "      <td>False</td>\n",
       "      <td>True</td>\n",
       "      <td>False</td>\n",
       "      <td>False</td>\n",
       "      <td>False</td>\n",
       "      <td>False</td>\n",
       "      <td>False</td>\n",
       "      <td>False</td>\n",
       "      <td>False</td>\n",
       "      <td>False</td>\n",
       "      <td>False</td>\n",
       "      <td>False</td>\n",
       "      <td>False</td>\n",
       "    </tr>\n",
       "    <tr>\n",
       "      <th>3</th>\n",
       "      <td>[[-0.45292982, -0.45292982, -0.45292982, -0.45...</td>\n",
       "      <td>True</td>\n",
       "      <td>False</td>\n",
       "      <td>False</td>\n",
       "      <td>False</td>\n",
       "      <td>True</td>\n",
       "      <td>False</td>\n",
       "      <td>False</td>\n",
       "      <td>False</td>\n",
       "      <td>False</td>\n",
       "      <td>False</td>\n",
       "      <td>False</td>\n",
       "      <td>False</td>\n",
       "      <td>False</td>\n",
       "      <td>False</td>\n",
       "      <td>False</td>\n",
       "      <td>False</td>\n",
       "    </tr>\n",
       "  </tbody>\n",
       "</table>\n",
       "</div>"
      ],
      "text/plain": [
       "                                        mfcc_delta_2     F      M     15  \\\n",
       "0  [[-13.363751, -13.363751, -13.363751, -13.3637...  True  False  False   \n",
       "1  [[8.442614, 8.442614, 8.442614, 8.442614, 8.44...  True  False  False   \n",
       "2  [[-7.412616, -7.412616, -7.412616, -7.412616, ...  True  False  False   \n",
       "3  [[-0.45292982, -0.45292982, -0.45292982, -0.45...  True  False  False   \n",
       "\n",
       "      16    20     25     30     35     40     45     50     55     60     65  \\\n",
       "0  False  True  False  False  False  False  False  False  False  False  False   \n",
       "1  False  True  False  False  False  False  False  False  False  False  False   \n",
       "2  False  True  False  False  False  False  False  False  False  False  False   \n",
       "3  False  True  False  False  False  False  False  False  False  False  False   \n",
       "\n",
       "      70     80  \n",
       "0  False  False  \n",
       "1  False  False  \n",
       "2  False  False  \n",
       "3  False  False  "
      ]
     },
     "execution_count": 318,
     "metadata": {},
     "output_type": "execute_result"
    }
   ],
   "source": [
    "all_df.iloc[0:4,-18:-1]"
   ]
  },
  {
   "cell_type": "code",
   "execution_count": 264,
   "id": "b4830b54-e9df-482e-b392-bce723a43620",
   "metadata": {},
   "outputs": [],
   "source": [
    "counties=all_df['counties']"
   ]
  },
  {
   "cell_type": "code",
   "execution_count": 265,
   "id": "43143d36-abd8-4fc0-a85d-e6bc75fa39ba",
   "metadata": {},
   "outputs": [],
   "source": [
    "all_df['counties'] = all_df['counties'].replace({'ANT': 'ANTBEL', 'BEL': 'ANTBEL'})"
   ]
  },
  {
   "cell_type": "code",
   "execution_count": 266,
   "id": "527f9ca4-feb8-49e3-8024-0104576e370e",
   "metadata": {},
   "outputs": [
    {
     "data": {
      "text/plain": [
       "counties\n",
       "DUB       15100\n",
       "ANTBEL     6494\n",
       "Name: count, dtype: int64"
      ]
     },
     "execution_count": 266,
     "metadata": {},
     "output_type": "execute_result"
    }
   ],
   "source": [
    "all_df['counties'].value_counts()"
   ]
  },
  {
   "cell_type": "code",
   "execution_count": 267,
   "id": "161a5225-4f5c-4ebf-bf8f-9fe998efd1ea",
   "metadata": {},
   "outputs": [
    {
     "name": "stdout",
     "output_type": "stream",
     "text": [
      "(21594,)\n"
     ]
    }
   ],
   "source": [
    "print(all_df['counties'].shape)"
   ]
  },
  {
   "cell_type": "code",
   "execution_count": 268,
   "id": "58929736-56d9-40a7-af92-391539be82d4",
   "metadata": {},
   "outputs": [
    {
     "name": "stderr",
     "output_type": "stream",
     "text": [
      "C:\\Users\\GGMachines_Gaming\\AppData\\Local\\Temp\\ipykernel_31928\\3374583436.py:1: FutureWarning: Downcasting behavior in `replace` is deprecated and will be removed in a future version. To retain the old behavior, explicitly call `result.infer_objects(copy=False)`. To opt-in to the future behavior, set `pd.set_option('future.no_silent_downcasting', True)`\n",
      "  all_df['y'] = all_df['counties'].replace({'ANTBEL':1, 'DUB': 0})\n"
     ]
    }
   ],
   "source": [
    "all_df['y'] = all_df['counties'].replace({'ANTBEL':1, 'DUB': 0})"
   ]
  },
  {
   "cell_type": "code",
   "execution_count": 269,
   "id": "740abec7-2ee5-4eef-9584-649c6366ee2d",
   "metadata": {},
   "outputs": [
    {
     "data": {
      "text/plain": [
       "0        1\n",
       "1        1\n",
       "2        1\n",
       "3        1\n",
       "4        1\n",
       "        ..\n",
       "21589    0\n",
       "21590    0\n",
       "21591    0\n",
       "21592    0\n",
       "21593    0\n",
       "Name: y, Length: 21594, dtype: int64"
      ]
     },
     "execution_count": 269,
     "metadata": {},
     "output_type": "execute_result"
    }
   ],
   "source": [
    "all_df['y']"
   ]
  },
  {
   "cell_type": "code",
   "execution_count": 270,
   "id": "aaa28264-48cb-4cc0-b8c3-ed42dcd5df33",
   "metadata": {},
   "outputs": [
    {
     "data": {
      "text/plain": [
       "y\n",
       "0    15100\n",
       "1     6494\n",
       "Name: count, dtype: int64"
      ]
     },
     "execution_count": 270,
     "metadata": {},
     "output_type": "execute_result"
    }
   ],
   "source": [
    "all_df['y'].value_counts()"
   ]
  },
  {
   "cell_type": "code",
   "execution_count": null,
   "id": "7ade8ae5-808a-49f5-9948-0d5de853e529",
   "metadata": {},
   "outputs": [],
   "source": []
  },
  {
   "cell_type": "code",
   "execution_count": 271,
   "id": "d2f1f41a-0c8f-49df-a89f-7393bab074c3",
   "metadata": {},
   "outputs": [
    {
     "name": "stdout",
     "output_type": "stream",
     "text": [
      "190\n"
     ]
    }
   ],
   "source": [
    "## Split into train and test datasets - make sure speakers are not split between them\n",
    "\n",
    "# Count the unique recording values, then shuffle the unique values\n",
    "unique_recordings = all_df['recording num'].unique()\n",
    "np.random.shuffle(unique_recordings)  \n",
    "\n",
    "# Determine the split index\n",
    "split_index = int(len(unique_recordings) * TRAIN_TEST_SPLIT)\n",
    "print(split_index)"
   ]
  },
  {
   "cell_type": "code",
   "execution_count": 272,
   "id": "6376bde1-2d3a-47bd-b55c-1e06c6d1e96e",
   "metadata": {},
   "outputs": [
    {
     "data": {
      "text/plain": [
       "array([130, 202, 78, 174, 98, 158, 185, 48, 8, 1, 147, 177, 146, 74, 32,\n",
       "       140, 7, 83, 141, 237, 231, 27, 190, 45, 15, 0, 179, 129, 175, 105,\n",
       "       152, 178, 20, 216, 90, 221, 138, 201, 66, 11, 121, 164, 166, 86,\n",
       "       235, 116, 167, 104, 131, 218, 136, 9, 23, 145, 172, 188, 133, 173,\n",
       "       72, 117, 206, 60, 132, 151, 222, 189, 46, 168, 194, 155, 70, 186,\n",
       "       180, 31, 89, 123, 219, 103, 169, 212, 82, 229, 181, 125, 67, 161,\n",
       "       41, 207, 225, 55, 85, 75, 139, 29, 134, 40, 42, 22, 12, 26, 203,\n",
       "       118, 76, 156, 30, 204, 205, 114, 80, 165, 62, 64, 39, 10, 69, 232,\n",
       "       198, 59, 3, 210, 58, 88, 149, 73, 220, 228, 50, 61, 195, 43, 84,\n",
       "       226, 79, 36, 97, 191, 120, 215, 144, 153, 49, 171, 5, 47, 217, 197,\n",
       "       162, 170, 24, 14, 157, 143, 56, 208, 2, 21, 102, 44, 227, 106, 111,\n",
       "       92, 81, 87, 223, 100, 196, 209, 135, 37, 183, 16, 77, 148, 38, 128,\n",
       "       65, 93, 13, 53, 126, 214, 17, 154, 91, 184, 213, 159, 94, 234, 57,\n",
       "       96, 4, 230, 113, 101, 187, 71, 35, 110, 150, 182, 233, 112, 193,\n",
       "       107, 115, 236, 163, 124, 51, 109, 224, 33, 108, 68, 160, 63, 137,\n",
       "       95, 142, 211, 18, 176, 34, 6, 192, 19, 54, 122, 200, 28, 127, 52,\n",
       "       99, 119, 25, 199], dtype=object)"
      ]
     },
     "execution_count": 272,
     "metadata": {},
     "output_type": "execute_result"
    }
   ],
   "source": [
    "unique_recordings"
   ]
  },
  {
   "cell_type": "code",
   "execution_count": 273,
   "id": "5ccf9c21-226f-4cd5-923f-9d405c7f4e37",
   "metadata": {},
   "outputs": [],
   "source": [
    "# Split the unique values into two sets for train and test datasets WITH DIFFERENT SPEAKERS IN EACH\n",
    "recording_train = unique_recordings[:split_index]\n",
    "recording_test = unique_recordings[split_index:]"
   ]
  },
  {
   "cell_type": "code",
   "execution_count": 274,
   "id": "5adb60f0-98f0-41bf-b6bc-00103b4f35f7",
   "metadata": {},
   "outputs": [
    {
     "name": "stdout",
     "output_type": "stream",
     "text": [
      "[130 202 78 174 98 158 185 48 8 1 147 177 146 74 32 140 7 83 141 237 231\n",
      " 27 190 45 15 0 179 129 175 105 152 178 20 216 90 221 138 201 66 11 121\n",
      " 164 166 86 235 116 167 104 131 218 136 9 23 145 172 188 133 173 72 117\n",
      " 206 60 132 151 222 189 46 168 194 155 70 186 180 31 89 123 219 103 169\n",
      " 212 82 229 181 125 67 161 41 207 225 55 85 75 139 29 134 40 42 22 12 26\n",
      " 203 118 76 156 30 204 205 114 80 165 62 64 39 10 69 232 198 59 3 210 58\n",
      " 88 149 73 220 228 50 61 195 43 84 226 79 36 97 191 120 215 144 153 49 171\n",
      " 5 47 217 197 162 170 24 14 157 143 56 208 2 21 102 44 227 106 111 92 81\n",
      " 87 223 100 196 209 135 37 183 16 77 148 38 128 65 93 13 53 126 214 17 154\n",
      " 91 184 213 159 94 234]\n"
     ]
    }
   ],
   "source": [
    "print(recording_train) # TRAIN portion of the randomly shuffled dataset"
   ]
  },
  {
   "cell_type": "code",
   "execution_count": 275,
   "id": "d9030d4b-72ce-4d97-87ee-26174e874295",
   "metadata": {},
   "outputs": [
    {
     "name": "stdout",
     "output_type": "stream",
     "text": [
      "[57 96 4 230 113 101 187 71 35 110 150 182 233 112 193 107 115 236 163 124\n",
      " 51 109 224 33 108 68 160 63 137 95 142 211 18 176 34 6 192 19 54 122 200\n",
      " 28 127 52 99 119 25 199]\n"
     ]
    }
   ],
   "source": [
    "print(recording_test) # TEST portion of the randomly shuffled dataset"
   ]
  },
  {
   "cell_type": "code",
   "execution_count": 276,
   "id": "2d20026e-e291-45ad-9285-0c8de87ee3fe",
   "metadata": {},
   "outputs": [],
   "source": [
    "# Create two new DataFrames based on the split unique values\n",
    "train_df = all_df[all_df['recording num'].isin(recording_train)].reset_index(drop=True)\n",
    "test_df = all_df[all_df['recording num'].isin(recording_test)].reset_index(drop=True)"
   ]
  },
  {
   "cell_type": "code",
   "execution_count": 277,
   "id": "5f603b30-c90b-4c7f-8603-48e905decd1a",
   "metadata": {},
   "outputs": [
    {
     "data": {
      "text/plain": [
       "(17122, 33)"
      ]
     },
     "execution_count": 277,
     "metadata": {},
     "output_type": "execute_result"
    }
   ],
   "source": [
    "train_df.shape"
   ]
  },
  {
   "cell_type": "code",
   "execution_count": 278,
   "id": "514c2991-a9b1-43f5-8680-b7a9a0f21e74",
   "metadata": {},
   "outputs": [
    {
     "data": {
      "text/plain": [
       "(4472, 33)"
      ]
     },
     "execution_count": 278,
     "metadata": {},
     "output_type": "execute_result"
    }
   ],
   "source": [
    "test_df.shape"
   ]
  },
  {
   "cell_type": "code",
   "execution_count": 279,
   "id": "5b6dbc06-967d-41e6-ada1-fd145fbb793e",
   "metadata": {},
   "outputs": [
    {
     "data": {
      "text/plain": [
       "21594"
      ]
     },
     "execution_count": 279,
     "metadata": {},
     "output_type": "execute_result"
    }
   ],
   "source": [
    "17145+4449"
   ]
  },
  {
   "cell_type": "code",
   "execution_count": null,
   "id": "d1db0b99-647e-4e01-a39e-9059e05b9671",
   "metadata": {},
   "outputs": [],
   "source": []
  },
  {
   "cell_type": "markdown",
   "id": "316c253c-df19-47ec-9978-9da530a8335f",
   "metadata": {},
   "source": [
    "## Preprocess numerical features"
   ]
  },
  {
   "cell_type": "code",
   "execution_count": 280,
   "id": "dc50c58d-d8a0-40ca-bca7-23c69fde3745",
   "metadata": {},
   "outputs": [],
   "source": [
    "def preprocess_features(feature: str ='mfcc', input: pd.DataFrame =train_df, output: pd.DataFrame ='X', ): \n",
    "    flattened=[]\n",
    "    flattened_index=input.index\n",
    "    for j in input[feature]:\n",
    "        flattened.append(np.array(j.flatten()))\n",
    "    #print(len(flattened))\n",
    "    output = pd.Series(flattened, index=flattened_index)\n",
    "    output = np.stack(output.values)\n",
    "    return output"
   ]
  },
  {
   "cell_type": "code",
   "execution_count": 309,
   "id": "c44f3902-531a-4cb4-ae5b-f2770442d6c3",
   "metadata": {},
   "outputs": [
    {
     "name": "stdout",
     "output_type": "stream",
     "text": [
      "obs=15,087,600\n"
     ]
    }
   ],
   "source": [
    "print('obs={:,.0f}'.format(17145*880))"
   ]
  },
  {
   "cell_type": "code",
   "execution_count": 281,
   "id": "79c787f2-5cb7-458a-acd3-0dc7922e1e32",
   "metadata": {},
   "outputs": [
    {
     "name": "stdout",
     "output_type": "stream",
     "text": [
      "[[-4.94363190e+02 -3.14765869e+02 -2.56520905e+02 ... -1.60376263e+00\n",
      "  -3.11242390e+00 -1.56794906e+00]\n",
      " [-2.00872665e+02 -1.89228134e+02 -2.05934250e+02 ...  9.28223610e+00\n",
      "   8.04540825e+00  1.06966095e+01]\n",
      " [-2.69995789e+02 -2.09718552e+02 -1.99997101e+02 ... -3.92313886e+00\n",
      "  -7.42311621e+00 -5.33314514e+00]\n",
      " ...\n",
      " [-2.39093582e+02 -1.60472809e+02 -1.44849182e+02 ... -3.65712166e-01\n",
      "  -8.62231541e+00 -7.36551952e+00]\n",
      " [-8.74514160e+01 -1.08450211e+02 -1.48853470e+02 ... -3.99238062e+00\n",
      "  -2.72970438e+00 -2.40183997e+00]\n",
      " [-1.70164291e+02 -1.78886017e+02 -2.22116241e+02 ... -1.29232941e+01\n",
      "  -1.03022346e+01 -5.41623688e+00]]\n",
      "(17122, 880)\n",
      "<class 'numpy.ndarray'>\n"
     ]
    }
   ],
   "source": [
    "mfcc_train=preprocess_features('mfcc')\n",
    "print(mfcc_train)\n",
    "print(mfcc_train.shape)\n",
    "print(type(mfcc_train))"
   ]
  },
  {
   "cell_type": "code",
   "execution_count": 282,
   "id": "31030dd6-7e7c-41cd-9ba6-a3aeed8c3205",
   "metadata": {},
   "outputs": [
    {
     "name": "stdout",
     "output_type": "stream",
     "text": [
      "[[-2.0123714e+02 -1.9903105e+02 -2.1856699e+02 ... -3.9881203e-01\n",
      "   5.9003439e+00  6.9335060e+00]\n",
      " [-2.5064661e+02 -2.2457675e+02 -2.2143648e+02 ... -1.9039010e+00\n",
      "   1.6950186e-01  1.0058889e+00]\n",
      " [-4.6903061e+02 -4.4592966e+02 -4.5026129e+02 ... -3.9499235e+00\n",
      "  -9.5561314e-01  2.6441643e+00]\n",
      " ...\n",
      " [-2.0580074e+02 -1.7936061e+02 -1.7378090e+02 ... -6.2692089e+00\n",
      "  -1.0727834e+01 -1.1598557e+01]\n",
      " [-1.3163190e+02 -1.3834291e+02 -1.7219740e+02 ...  6.2241900e-01\n",
      "   3.2733750e-01  2.9015124e-01]\n",
      " [-1.4321387e+02 -1.6863420e+02 -1.8279729e+02 ... -1.2312283e+01\n",
      "  -8.9789696e+00 -6.5485969e+00]]\n",
      "(4472, 880)\n",
      "<class 'numpy.ndarray'>\n"
     ]
    }
   ],
   "source": [
    "mfcc_test=preprocess_features(feature='mfcc',input=test_df)\n",
    "print(mfcc_test)\n",
    "print(mfcc_test.shape)\n",
    "print(type(mfcc_test))"
   ]
  },
  {
   "cell_type": "code",
   "execution_count": 283,
   "id": "e6773e9a-b1b5-4d13-ae4e-fbf39da7106f",
   "metadata": {},
   "outputs": [
    {
     "data": {
      "text/plain": [
       "array([[22.54509   , 22.54509   , 22.54509   , ..., -0.12745161,\n",
       "        -0.12745161, -0.12745161],\n",
       "       [ 1.7263998 ,  1.7263998 ,  1.7263998 , ...,  1.8224183 ,\n",
       "         1.8224183 ,  1.8224183 ],\n",
       "       [ 7.1880474 ,  7.1880474 ,  7.1880474 , ..., -0.73991925,\n",
       "        -0.73991925, -0.73991925]], dtype=float32)"
      ]
     },
     "execution_count": 283,
     "metadata": {},
     "output_type": "execute_result"
    }
   ],
   "source": [
    "mfcc_delta_train=preprocess_features('mfcc_delta')\n",
    "mfcc_delta_train[0:3]"
   ]
  },
  {
   "cell_type": "code",
   "execution_count": 284,
   "id": "1a478dd8-dc1f-4df8-8dbe-6c582d14836d",
   "metadata": {},
   "outputs": [
    {
     "data": {
      "text/plain": [
       "array([[-27.385029  , -27.385029  , -27.385029  , ...,   0.10753883,\n",
       "          0.10753883,   0.10753883],\n",
       "       [-14.525551  , -14.525551  , -14.525551  , ...,  -2.0135567 ,\n",
       "         -2.0135567 ,  -2.0135567 ],\n",
       "       [  2.3364522 ,   2.3364522 ,   2.3364522 , ...,   1.9694726 ,\n",
       "          1.9694726 ,   1.9694726 ]], dtype=float32)"
      ]
     },
     "execution_count": 284,
     "metadata": {},
     "output_type": "execute_result"
    }
   ],
   "source": [
    "mfcc_delta_test=preprocess_features(feature='mfcc_delta',input=test_df)\n",
    "mfcc_delta_test[0:3]"
   ]
  },
  {
   "cell_type": "code",
   "execution_count": 286,
   "id": "ac378901-1619-4702-b76a-12e11296e5f3",
   "metadata": {},
   "outputs": [
    {
     "data": {
      "text/plain": [
       "array([[-1.3363751e+01, -1.3363751e+01, -1.3363751e+01, ...,\n",
       "        -1.3258730e-04, -1.3258730e-04, -1.3258730e-04],\n",
       "       [ 8.4426136e+00,  8.4426136e+00,  8.4426136e+00, ...,\n",
       "        -4.2466238e-01, -4.2466238e-01, -4.2466238e-01],\n",
       "       [-7.4126158e+00, -7.4126158e+00, -7.4126158e+00, ...,\n",
       "        -1.4199364e+00, -1.4199364e+00, -1.4199364e+00]], dtype=float32)"
      ]
     },
     "execution_count": 286,
     "metadata": {},
     "output_type": "execute_result"
    }
   ],
   "source": [
    "mfcc_delta_2_train=preprocess_features('mfcc_delta_2')\n",
    "mfcc_delta_2_train[0:3]"
   ]
  },
  {
   "cell_type": "code",
   "execution_count": 287,
   "id": "07c23abe-59cf-4100-af1f-f51816e2a762",
   "metadata": {},
   "outputs": [
    {
     "data": {
      "text/plain": [
       "array([[-0.6570771 , -0.6570771 , -0.6570771 , ...,  1.4648261 ,\n",
       "         1.4648261 ,  1.4648261 ],\n",
       "       [ 1.3042772 ,  1.3042772 ,  1.3042772 , ..., -0.62040997,\n",
       "        -0.62040997, -0.62040997],\n",
       "       [-2.1384418 , -2.1384418 , -2.1384418 , ...,  0.82935   ,\n",
       "         0.82935   ,  0.82935   ]], dtype=float32)"
      ]
     },
     "execution_count": 287,
     "metadata": {},
     "output_type": "execute_result"
    }
   ],
   "source": [
    "mfcc_delta_2_test=preprocess_features(feature='mfcc_delta_2',input=test_df)\n",
    "mfcc_delta_2_test[0:3]"
   ]
  },
  {
   "cell_type": "code",
   "execution_count": null,
   "id": "574b1019-9baa-42d4-83b4-ee38a154966d",
   "metadata": {},
   "outputs": [],
   "source": []
  },
  {
   "cell_type": "code",
   "execution_count": 288,
   "id": "7dc9fe1f-2ad4-44ab-b6ab-dcd0b031efa1",
   "metadata": {},
   "outputs": [],
   "source": [
    "#X_train, X_test = mfcc_train, mfcc_test"
   ]
  },
  {
   "cell_type": "code",
   "execution_count": 289,
   "id": "1464bcc7-c102-4121-83a1-4e50dd4b8207",
   "metadata": {},
   "outputs": [],
   "source": [
    "X_train=np.stack((mfcc_train, mfcc_delta_train, mfcc_delta_2_train), axis=-1)"
   ]
  },
  {
   "cell_type": "code",
   "execution_count": 290,
   "id": "7581cc84-0080-4f9d-ba3e-53fc88c64f56",
   "metadata": {},
   "outputs": [],
   "source": [
    "X_test=np.stack((mfcc_test, mfcc_delta_2_test, mfcc_delta_2_test), axis=-1)"
   ]
  },
  {
   "cell_type": "code",
   "execution_count": 291,
   "id": "6f1fb93e-5432-46c4-93b5-22964de23eb1",
   "metadata": {},
   "outputs": [
    {
     "data": {
      "text/plain": [
       "(17122, 880, 3)"
      ]
     },
     "execution_count": 291,
     "metadata": {},
     "output_type": "execute_result"
    }
   ],
   "source": [
    "X_train.shape"
   ]
  },
  {
   "cell_type": "code",
   "execution_count": 292,
   "id": "3023d165-256d-4934-b984-62c3e7264bd8",
   "metadata": {},
   "outputs": [
    {
     "data": {
      "text/plain": [
       "array([[[-4.94363190e+02,  2.25450897e+01, -1.33637514e+01],\n",
       "        [-3.14765869e+02,  2.25450897e+01, -1.33637514e+01],\n",
       "        [-2.56520905e+02,  2.25450897e+01, -1.33637514e+01],\n",
       "        ...,\n",
       "        [-1.60376263e+00, -1.27451614e-01, -1.32587302e-04],\n",
       "        [-3.11242390e+00, -1.27451614e-01, -1.32587302e-04],\n",
       "        [-1.56794906e+00, -1.27451614e-01, -1.32587302e-04]],\n",
       "\n",
       "       [[-2.00872665e+02,  1.72639978e+00,  8.44261360e+00],\n",
       "        [-1.89228134e+02,  1.72639978e+00,  8.44261360e+00],\n",
       "        [-2.05934250e+02,  1.72639978e+00,  8.44261360e+00],\n",
       "        ...,\n",
       "        [ 9.28223610e+00,  1.82241833e+00, -4.24662381e-01],\n",
       "        [ 8.04540825e+00,  1.82241833e+00, -4.24662381e-01],\n",
       "        [ 1.06966095e+01,  1.82241833e+00, -4.24662381e-01]],\n",
       "\n",
       "       [[-2.69995789e+02,  7.18804741e+00, -7.41261578e+00],\n",
       "        [-2.09718552e+02,  7.18804741e+00, -7.41261578e+00],\n",
       "        [-1.99997101e+02,  7.18804741e+00, -7.41261578e+00],\n",
       "        ...,\n",
       "        [-3.92313886e+00, -7.39919245e-01, -1.41993642e+00],\n",
       "        [-7.42311621e+00, -7.39919245e-01, -1.41993642e+00],\n",
       "        [-5.33314514e+00, -7.39919245e-01, -1.41993642e+00]]],\n",
       "      dtype=float32)"
      ]
     },
     "execution_count": 292,
     "metadata": {},
     "output_type": "execute_result"
    }
   ],
   "source": [
    "X_train[0:3]"
   ]
  },
  {
   "cell_type": "code",
   "execution_count": 293,
   "id": "4fd51d92-03eb-4539-8831-5c88ff4c9809",
   "metadata": {},
   "outputs": [],
   "source": [
    "y_train, y_test = train_df['y'], test_df['y'], "
   ]
  },
  {
   "cell_type": "code",
   "execution_count": 294,
   "id": "4063bfa1-ed96-442e-8444-d4094711569a",
   "metadata": {},
   "outputs": [
    {
     "name": "stdout",
     "output_type": "stream",
     "text": [
      "(17122,)\n"
     ]
    },
    {
     "data": {
      "text/plain": [
       "array([1, 1, 1, ..., 0, 0, 0], dtype=int64)"
      ]
     },
     "execution_count": 294,
     "metadata": {},
     "output_type": "execute_result"
    }
   ],
   "source": [
    "print(y_train.shape)\n",
    "y_train=np.array(y_train)\n",
    "y_train"
   ]
  },
  {
   "cell_type": "code",
   "execution_count": 295,
   "id": "3f2851ac-efb5-4870-af68-12754a721c3f",
   "metadata": {},
   "outputs": [
    {
     "name": "stdout",
     "output_type": "stream",
     "text": [
      "(4472,)\n"
     ]
    }
   ],
   "source": [
    "print(y_test.shape)\n",
    "y_test=np.array(y_test)"
   ]
  },
  {
   "cell_type": "code",
   "execution_count": 296,
   "id": "1da36a3a-7422-4d15-a5cf-a6edd47d0a6a",
   "metadata": {},
   "outputs": [
    {
     "name": "stdout",
     "output_type": "stream",
     "text": [
      "(17122, 880, 3)\n"
     ]
    }
   ],
   "source": [
    "X_train\n",
    "print(X_train.shape)"
   ]
  },
  {
   "cell_type": "code",
   "execution_count": 206,
   "id": "d03e3b40-8f21-46d3-9056-4130ff2df415",
   "metadata": {},
   "outputs": [
    {
     "name": "stdout",
     "output_type": "stream",
     "text": [
      "(4395, 880, 3)\n"
     ]
    }
   ],
   "source": [
    "X_test\n",
    "print(X_test.shape)"
   ]
  },
  {
   "cell_type": "code",
   "execution_count": 207,
   "id": "8fb950c5-491c-45c0-a537-efc61917bec9",
   "metadata": {},
   "outputs": [
    {
     "name": "stdout",
     "output_type": "stream",
     "text": [
      "Class Weights: {0: 0.685164528722811, 1: 1.8501506024096386}\n"
     ]
    }
   ],
   "source": [
    "# Compute class weights\n",
    "class_weights = compute_class_weight('balanced', classes=np.unique(y_train), y=y_train)\n",
    "class_weights = {i : class_weights[i] for i in range(len(class_weights))}\n",
    "print(\"Class Weights:\", class_weights)"
   ]
  },
  {
   "cell_type": "code",
   "execution_count": 244,
   "id": "15f52bd1-7f16-49bf-94ba-41d2243f06ef",
   "metadata": {},
   "outputs": [],
   "source": [
    "#scaler = StandardScaler()\n",
    "#X_train_scaled  = scaler.fit_transform(X_train)\n",
    "#X_test_scaled = scaler.transform(X_test)"
   ]
  },
  {
   "cell_type": "code",
   "execution_count": 209,
   "id": "440f2d65-0c38-4a8c-83d1-692f296bb5b6",
   "metadata": {},
   "outputs": [
    {
     "name": "stdout",
     "output_type": "stream",
     "text": [
      "ANTBEL share = 27.02%\n",
      "DUB share = 72.98%\n"
     ]
    }
   ],
   "source": [
    "ANTBEL_share=(y_train.sum()/y_train.shape[0])\n",
    "DUB_share=1-ANTBEL_share\n",
    "print(\"ANTBEL share = {:.2%}\".format(ANTBEL_share))\n",
    "print(\"DUB share = {:.2%}\".format(DUB_share))"
   ]
  },
  {
   "cell_type": "code",
   "execution_count": 211,
   "id": "3cb5c155-bbc0-4154-ace1-a21682e84628",
   "metadata": {},
   "outputs": [],
   "source": [
    "input_shape=(880,3)"
   ]
  },
  {
   "cell_type": "code",
   "execution_count": 212,
   "id": "78cd9606-4186-4cf6-859f-2b3cfbce4e96",
   "metadata": {
    "scrolled": true
   },
   "outputs": [
    {
     "name": "stderr",
     "output_type": "stream",
     "text": [
      "C:\\Users\\GGMachines_Gaming\\.conda\\envs\\audio8_2_tf\\lib\\site-packages\\keras\\src\\layers\\reshaping\\flatten.py:37: UserWarning: Do not pass an `input_shape`/`input_dim` argument to a layer. When using Sequential models, prefer using an `Input(shape)` object as the first layer in the model instead.\n",
      "  super().__init__(**kwargs)\n"
     ]
    }
   ],
   "source": [
    "model = tf.keras.models.Sequential([\n",
    "        tf.keras.layers.Flatten(input_shape=input_shape),\n",
    "        \n",
    "    tf.keras.layers.Dense(512, activation='relu'),\n",
    "        tf.keras.layers.Dense(256, activation='relu'),\n",
    "        tf.keras.layers.Dense(128, activation='relu'),\n",
    "        tf.keras.layers.Dense(1, activation='sigmoid')  # Assuming binary classification\n",
    "    ])"
   ]
  },
  {
   "cell_type": "code",
   "execution_count": 213,
   "id": "f44732fc-35c3-4f56-9b9c-6262b65cfc81",
   "metadata": {},
   "outputs": [],
   "source": [
    "model.compile(optimizer='adam', loss='binary_crossentropy', metrics=['accuracy'])"
   ]
  },
  {
   "cell_type": "code",
   "execution_count": 224,
   "id": "0192a3ac-a622-490e-932e-61c80bdf45b1",
   "metadata": {},
   "outputs": [],
   "source": [
    "EPOCHS=30\n",
    "BATCH_SIZE=32"
   ]
  },
  {
   "cell_type": "code",
   "execution_count": 226,
   "id": "757fd8d7-1313-4268-a93f-0e7904499528",
   "metadata": {},
   "outputs": [
    {
     "name": "stdout",
     "output_type": "stream",
     "text": [
      "Epoch 1/30\n",
      "538/538 - 2s - 5ms/step - accuracy: 0.9793 - loss: 0.0529 - val_accuracy: 0.9830 - val_loss: 0.0498\n",
      "Epoch 2/30\n",
      "538/538 - 2s - 5ms/step - accuracy: 0.9829 - loss: 0.0425 - val_accuracy: 0.9841 - val_loss: 0.0391\n",
      "Epoch 3/30\n",
      "538/538 - 2s - 5ms/step - accuracy: 0.9801 - loss: 0.0485 - val_accuracy: 0.9901 - val_loss: 0.0285\n",
      "Epoch 4/30\n",
      "538/538 - 2s - 5ms/step - accuracy: 0.9778 - loss: 0.0573 - val_accuracy: 0.9864 - val_loss: 0.0377\n",
      "Epoch 5/30\n",
      "538/538 - 2s - 5ms/step - accuracy: 0.9808 - loss: 0.0494 - val_accuracy: 0.9632 - val_loss: 0.1160\n",
      "Epoch 6/30\n",
      "538/538 - 2s - 5ms/step - accuracy: 0.9820 - loss: 0.0448 - val_accuracy: 0.9927 - val_loss: 0.0212\n",
      "Epoch 7/30\n",
      "538/538 - 2s - 5ms/step - accuracy: 0.9823 - loss: 0.0444 - val_accuracy: 0.9852 - val_loss: 0.0388\n",
      "Epoch 8/30\n",
      "538/538 - 2s - 5ms/step - accuracy: 0.9828 - loss: 0.0440 - val_accuracy: 0.9466 - val_loss: 0.1802\n",
      "Epoch 9/30\n",
      "538/538 - 2s - 5ms/step - accuracy: 0.9840 - loss: 0.0410 - val_accuracy: 0.9540 - val_loss: 0.1340\n",
      "Epoch 10/30\n",
      "538/538 - 2s - 5ms/step - accuracy: 0.9818 - loss: 0.0468 - val_accuracy: 0.9928 - val_loss: 0.0205\n",
      "Epoch 11/30\n",
      "538/538 - 2s - 5ms/step - accuracy: 0.9864 - loss: 0.0346 - val_accuracy: 0.9940 - val_loss: 0.0165\n",
      "Epoch 12/30\n",
      "538/538 - 2s - 5ms/step - accuracy: 0.9840 - loss: 0.0412 - val_accuracy: 0.9805 - val_loss: 0.0543\n",
      "Epoch 13/30\n",
      "538/538 - 2s - 5ms/step - accuracy: 0.9870 - loss: 0.0329 - val_accuracy: 0.9861 - val_loss: 0.0357\n",
      "Epoch 14/30\n",
      "538/538 - 2s - 4ms/step - accuracy: 0.9867 - loss: 0.0342 - val_accuracy: 0.9940 - val_loss: 0.0193\n",
      "Epoch 15/30\n",
      "538/538 - 2s - 5ms/step - accuracy: 0.9856 - loss: 0.0433 - val_accuracy: 0.9173 - val_loss: 0.2236\n",
      "Epoch 16/30\n",
      "538/538 - 2s - 4ms/step - accuracy: 0.9840 - loss: 0.0407 - val_accuracy: 0.9952 - val_loss: 0.0149\n",
      "Epoch 17/30\n",
      "538/538 - 3s - 5ms/step - accuracy: 0.9877 - loss: 0.0328 - val_accuracy: 0.9915 - val_loss: 0.0237\n",
      "Epoch 18/30\n",
      "538/538 - 2s - 5ms/step - accuracy: 0.9873 - loss: 0.0346 - val_accuracy: 0.9901 - val_loss: 0.0251\n",
      "Epoch 19/30\n",
      "538/538 - 2s - 5ms/step - accuracy: 0.9876 - loss: 0.0336 - val_accuracy: 0.9912 - val_loss: 0.0247\n",
      "Epoch 20/30\n",
      "538/538 - 2s - 5ms/step - accuracy: 0.9851 - loss: 0.0372 - val_accuracy: 0.9933 - val_loss: 0.0184\n",
      "Epoch 21/30\n",
      "538/538 - 2s - 5ms/step - accuracy: 0.9876 - loss: 0.0316 - val_accuracy: 0.9947 - val_loss: 0.0175\n",
      "Epoch 22/30\n",
      "538/538 - 2s - 5ms/step - accuracy: 0.9880 - loss: 0.0322 - val_accuracy: 0.9866 - val_loss: 0.0389\n",
      "Epoch 23/30\n",
      "538/538 - 2s - 5ms/step - accuracy: 0.9870 - loss: 0.0350 - val_accuracy: 0.9761 - val_loss: 0.0771\n",
      "Epoch 24/30\n",
      "538/538 - 2s - 5ms/step - accuracy: 0.9863 - loss: 0.0387 - val_accuracy: 0.9903 - val_loss: 0.0253\n",
      "Epoch 25/30\n",
      "538/538 - 2s - 5ms/step - accuracy: 0.9878 - loss: 0.0300 - val_accuracy: 0.9878 - val_loss: 0.0286\n",
      "Epoch 26/30\n",
      "538/538 - 2s - 5ms/step - accuracy: 0.9946 - loss: 0.0174 - val_accuracy: 0.9620 - val_loss: 0.1037\n",
      "Epoch 27/30\n",
      "538/538 - 3s - 5ms/step - accuracy: 0.9815 - loss: 0.0536 - val_accuracy: 0.9846 - val_loss: 0.0480\n",
      "Epoch 28/30\n",
      "538/538 - 2s - 5ms/step - accuracy: 0.9846 - loss: 0.0386 - val_accuracy: 0.9899 - val_loss: 0.0257\n",
      "Epoch 29/30\n",
      "538/538 - 2s - 5ms/step - accuracy: 0.9936 - loss: 0.0172 - val_accuracy: 0.9821 - val_loss: 0.0492\n",
      "Epoch 30/30\n",
      "538/538 - 2s - 5ms/step - accuracy: 0.9853 - loss: 0.0385 - val_accuracy: 0.9640 - val_loss: 0.1042\n"
     ]
    }
   ],
   "source": [
    "#model.fit(X_train, y_train, epochs=20, validation_data=(X_val, y_val))\n",
    "#model.fit(X_train, y_train, epochs=20, batch_size=32, class_weight=class_weights, validation_data=(X_val, y_val))\n",
    "\n",
    "history=model.fit(X_train, y_train, epochs=EPOCHS, batch_size=BATCH_SIZE, class_weight=class_weights, verbose=2, validation_data=(X_train, y_train))"
   ]
  },
  {
   "cell_type": "code",
   "execution_count": 297,
   "id": "e15e96eb-983e-491c-9269-bfb744cfb365",
   "metadata": {},
   "outputs": [
    {
     "data": {
      "text/html": [
       "<pre style=\"white-space:pre;overflow-x:auto;line-height:normal;font-family:Menlo,'DejaVu Sans Mono',consolas,'Courier New',monospace\"><span style=\"font-weight: bold\">Model: \"sequential_5\"</span>\n",
       "</pre>\n"
      ],
      "text/plain": [
       "\u001b[1mModel: \"sequential_5\"\u001b[0m\n"
      ]
     },
     "metadata": {},
     "output_type": "display_data"
    },
    {
     "data": {
      "text/html": [
       "<pre style=\"white-space:pre;overflow-x:auto;line-height:normal;font-family:Menlo,'DejaVu Sans Mono',consolas,'Courier New',monospace\">┏━━━━━━━━━━━━━━━━━━━━━━━━━━━━━━━━━┳━━━━━━━━━━━━━━━━━━━━━━━━┳━━━━━━━━━━━━━━━┓\n",
       "┃<span style=\"font-weight: bold\"> Layer (type)                    </span>┃<span style=\"font-weight: bold\"> Output Shape           </span>┃<span style=\"font-weight: bold\">       Param # </span>┃\n",
       "┡━━━━━━━━━━━━━━━━━━━━━━━━━━━━━━━━━╇━━━━━━━━━━━━━━━━━━━━━━━━╇━━━━━━━━━━━━━━━┩\n",
       "│ flatten_5 (<span style=\"color: #0087ff; text-decoration-color: #0087ff\">Flatten</span>)             │ (<span style=\"color: #00d7ff; text-decoration-color: #00d7ff\">None</span>, <span style=\"color: #00af00; text-decoration-color: #00af00\">2640</span>)           │             <span style=\"color: #00af00; text-decoration-color: #00af00\">0</span> │\n",
       "├─────────────────────────────────┼────────────────────────┼───────────────┤\n",
       "│ dense_20 (<span style=\"color: #0087ff; text-decoration-color: #0087ff\">Dense</span>)                │ (<span style=\"color: #00d7ff; text-decoration-color: #00d7ff\">None</span>, <span style=\"color: #00af00; text-decoration-color: #00af00\">512</span>)            │     <span style=\"color: #00af00; text-decoration-color: #00af00\">1,352,192</span> │\n",
       "├─────────────────────────────────┼────────────────────────┼───────────────┤\n",
       "│ dense_21 (<span style=\"color: #0087ff; text-decoration-color: #0087ff\">Dense</span>)                │ (<span style=\"color: #00d7ff; text-decoration-color: #00d7ff\">None</span>, <span style=\"color: #00af00; text-decoration-color: #00af00\">256</span>)            │       <span style=\"color: #00af00; text-decoration-color: #00af00\">131,328</span> │\n",
       "├─────────────────────────────────┼────────────────────────┼───────────────┤\n",
       "│ dense_22 (<span style=\"color: #0087ff; text-decoration-color: #0087ff\">Dense</span>)                │ (<span style=\"color: #00d7ff; text-decoration-color: #00d7ff\">None</span>, <span style=\"color: #00af00; text-decoration-color: #00af00\">128</span>)            │        <span style=\"color: #00af00; text-decoration-color: #00af00\">32,896</span> │\n",
       "├─────────────────────────────────┼────────────────────────┼───────────────┤\n",
       "│ dense_23 (<span style=\"color: #0087ff; text-decoration-color: #0087ff\">Dense</span>)                │ (<span style=\"color: #00d7ff; text-decoration-color: #00d7ff\">None</span>, <span style=\"color: #00af00; text-decoration-color: #00af00\">1</span>)              │           <span style=\"color: #00af00; text-decoration-color: #00af00\">129</span> │\n",
       "└─────────────────────────────────┴────────────────────────┴───────────────┘\n",
       "</pre>\n"
      ],
      "text/plain": [
       "┏━━━━━━━━━━━━━━━━━━━━━━━━━━━━━━━━━┳━━━━━━━━━━━━━━━━━━━━━━━━┳━━━━━━━━━━━━━━━┓\n",
       "┃\u001b[1m \u001b[0m\u001b[1mLayer (type)                   \u001b[0m\u001b[1m \u001b[0m┃\u001b[1m \u001b[0m\u001b[1mOutput Shape          \u001b[0m\u001b[1m \u001b[0m┃\u001b[1m \u001b[0m\u001b[1m      Param #\u001b[0m\u001b[1m \u001b[0m┃\n",
       "┡━━━━━━━━━━━━━━━━━━━━━━━━━━━━━━━━━╇━━━━━━━━━━━━━━━━━━━━━━━━╇━━━━━━━━━━━━━━━┩\n",
       "│ flatten_5 (\u001b[38;5;33mFlatten\u001b[0m)             │ (\u001b[38;5;45mNone\u001b[0m, \u001b[38;5;34m2640\u001b[0m)           │             \u001b[38;5;34m0\u001b[0m │\n",
       "├─────────────────────────────────┼────────────────────────┼───────────────┤\n",
       "│ dense_20 (\u001b[38;5;33mDense\u001b[0m)                │ (\u001b[38;5;45mNone\u001b[0m, \u001b[38;5;34m512\u001b[0m)            │     \u001b[38;5;34m1,352,192\u001b[0m │\n",
       "├─────────────────────────────────┼────────────────────────┼───────────────┤\n",
       "│ dense_21 (\u001b[38;5;33mDense\u001b[0m)                │ (\u001b[38;5;45mNone\u001b[0m, \u001b[38;5;34m256\u001b[0m)            │       \u001b[38;5;34m131,328\u001b[0m │\n",
       "├─────────────────────────────────┼────────────────────────┼───────────────┤\n",
       "│ dense_22 (\u001b[38;5;33mDense\u001b[0m)                │ (\u001b[38;5;45mNone\u001b[0m, \u001b[38;5;34m128\u001b[0m)            │        \u001b[38;5;34m32,896\u001b[0m │\n",
       "├─────────────────────────────────┼────────────────────────┼───────────────┤\n",
       "│ dense_23 (\u001b[38;5;33mDense\u001b[0m)                │ (\u001b[38;5;45mNone\u001b[0m, \u001b[38;5;34m1\u001b[0m)              │           \u001b[38;5;34m129\u001b[0m │\n",
       "└─────────────────────────────────┴────────────────────────┴───────────────┘\n"
      ]
     },
     "metadata": {},
     "output_type": "display_data"
    },
    {
     "data": {
      "text/html": [
       "<pre style=\"white-space:pre;overflow-x:auto;line-height:normal;font-family:Menlo,'DejaVu Sans Mono',consolas,'Courier New',monospace\"><span style=\"font-weight: bold\"> Total params: </span><span style=\"color: #00af00; text-decoration-color: #00af00\">4,549,637</span> (17.36 MB)\n",
       "</pre>\n"
      ],
      "text/plain": [
       "\u001b[1m Total params: \u001b[0m\u001b[38;5;34m4,549,637\u001b[0m (17.36 MB)\n"
      ]
     },
     "metadata": {},
     "output_type": "display_data"
    },
    {
     "data": {
      "text/html": [
       "<pre style=\"white-space:pre;overflow-x:auto;line-height:normal;font-family:Menlo,'DejaVu Sans Mono',consolas,'Courier New',monospace\"><span style=\"font-weight: bold\"> Trainable params: </span><span style=\"color: #00af00; text-decoration-color: #00af00\">1,516,545</span> (5.79 MB)\n",
       "</pre>\n"
      ],
      "text/plain": [
       "\u001b[1m Trainable params: \u001b[0m\u001b[38;5;34m1,516,545\u001b[0m (5.79 MB)\n"
      ]
     },
     "metadata": {},
     "output_type": "display_data"
    },
    {
     "data": {
      "text/html": [
       "<pre style=\"white-space:pre;overflow-x:auto;line-height:normal;font-family:Menlo,'DejaVu Sans Mono',consolas,'Courier New',monospace\"><span style=\"font-weight: bold\"> Non-trainable params: </span><span style=\"color: #00af00; text-decoration-color: #00af00\">0</span> (0.00 B)\n",
       "</pre>\n"
      ],
      "text/plain": [
       "\u001b[1m Non-trainable params: \u001b[0m\u001b[38;5;34m0\u001b[0m (0.00 B)\n"
      ]
     },
     "metadata": {},
     "output_type": "display_data"
    },
    {
     "data": {
      "text/html": [
       "<pre style=\"white-space:pre;overflow-x:auto;line-height:normal;font-family:Menlo,'DejaVu Sans Mono',consolas,'Courier New',monospace\"><span style=\"font-weight: bold\"> Optimizer params: </span><span style=\"color: #00af00; text-decoration-color: #00af00\">3,033,092</span> (11.57 MB)\n",
       "</pre>\n"
      ],
      "text/plain": [
       "\u001b[1m Optimizer params: \u001b[0m\u001b[38;5;34m3,033,092\u001b[0m (11.57 MB)\n"
      ]
     },
     "metadata": {},
     "output_type": "display_data"
    }
   ],
   "source": [
    "model.summary()"
   ]
  },
  {
   "cell_type": "code",
   "execution_count": 235,
   "id": "4c99da5b-2472-4324-9348-48c6cf3184bb",
   "metadata": {},
   "outputs": [
    {
     "name": "stdout",
     "output_type": "stream",
     "text": [
      "138/138 - 0s - 1ms/step - accuracy: 0.8184 - loss: 0.9587\n",
      "Test  Accuracy: 81.8%\n"
     ]
    }
   ],
   "source": [
    "loss, accuracy = model.evaluate(X_test, y_test,verbose=2)\n",
    "print(f'Test  Accuracy: {accuracy:.1%}')"
   ]
  },
  {
   "cell_type": "code",
   "execution_count": 236,
   "id": "46c62789-566c-4ae6-8335-75ce38d5ceb2",
   "metadata": {},
   "outputs": [],
   "source": [
    "from matplotlib.ticker import MaxNLocator"
   ]
  },
  {
   "cell_type": "code",
   "execution_count": 237,
   "id": "5e350d13-eb30-44a1-8d58-aa6a3d17e852",
   "metadata": {},
   "outputs": [
    {
     "data": {
      "image/png": "[encoded data removed]",
      "text/plain": [
       "<Figure size 640x480 with 1 Axes>"
      ]
     },
     "metadata": {},
     "output_type": "display_data"
    }
   ],
   "source": [
    "plt.figure()\n",
    "plt.plot([acc * 100 for acc in history.history['accuracy']], label='Training Accuracy')\n",
    "plt.plot([val_acc * 100 for val_acc in history.history['val_accuracy']], label='Test Accuracy')\n",
    "plt.xlabel('Epochs')\n",
    "plt.ylabel('Accuracy %')\n",
    "plt.title('Accuracy Curve')\n",
    "plt.legend()\n",
    "plt.gca().xaxis.set_major_locator(MaxNLocator(integer=True))\n",
    "plt.show()"
   ]
  },
  {
   "cell_type": "code",
   "execution_count": 238,
   "id": "4e9b44bd-e7b2-4121-a8e5-06f2ab919cf8",
   "metadata": {},
   "outputs": [
    {
     "name": "stdout",
     "output_type": "stream",
     "text": [
      "\u001b[1m138/138\u001b[0m \u001b[32m━━━━━━━━━━━━━━━━━━━━\u001b[0m\u001b[37m\u001b[0m \u001b[1m0s\u001b[0m 1ms/step\n"
     ]
    }
   ],
   "source": [
    " # Generate predictions\n",
    "y_pred_prob = model.predict(X_test)\n",
    "y_pred = (y_pred_prob > DUB_share).astype(int)"
   ]
  },
  {
   "cell_type": "code",
   "execution_count": 239,
   "id": "a2d00853-9ad0-4b42-9662-08a959d61870",
   "metadata": {},
   "outputs": [
    {
     "name": "stdout",
     "output_type": "stream",
     "text": [
      "Confusion Matrix:\n",
      "[[2222  327]\n",
      " [ 504 1342]]\n"
     ]
    }
   ],
   "source": [
    "cm = confusion_matrix(y_test,y_pred)\n",
    "print(\"Confusion Matrix:\")\n",
    "print(cm)"
   ]
  },
  {
   "cell_type": "code",
   "execution_count": 240,
   "id": "3fbe84d7-3972-42e8-b691-a312ce5aa374",
   "metadata": {},
   "outputs": [
    {
     "data": {
      "image/png": "[encoded data removed]",
      "text/plain": [
       "<Figure size 500x300 with 2 Axes>"
      ]
     },
     "metadata": {},
     "output_type": "display_data"
    }
   ],
   "source": [
    "# Plot Confusion Matrix\n",
    "plt.figure(figsize=(5, 3))\n",
    "sns.heatmap(cm, annot=True, fmt='d', cmap='Reds')\n",
    "plt.xlabel('Predicted')\n",
    "plt.ylabel('Actual')\n",
    "plt.title('Confusion Matrix')\n",
    "plt.show()"
   ]
  },
  {
   "cell_type": "code",
   "execution_count": null,
   "id": "4efb68e9-3b5f-4ec2-91ab-00e0e2bf83b8",
   "metadata": {},
   "outputs": [],
   "source": []
  },
  {
   "cell_type": "code",
   "execution_count": 241,
   "id": "1ed9495c-1d87-4f36-8a1b-b36ecc197894",
   "metadata": {},
   "outputs": [
    {
     "name": "stdout",
     "output_type": "stream",
     "text": [
      "Accuracy: 81.1%\n",
      "Precision: 80.4%\n",
      "Recall: 72.7%\n",
      "F1 Score: 76.4%\n"
     ]
    }
   ],
   "source": [
    "accuracy = accuracy_score(y_test, y_pred)\n",
    "precision = precision_score(y_test, y_pred)\n",
    "recall = recall_score(y_test, y_pred)\n",
    "f1 = f1_score(y_test, y_pred)\n",
    "\n",
    "print(f'Accuracy: {accuracy:.1%}')\n",
    "print(f'Precision: {precision:.1%}')\n",
    "print(f'Recall: {recall:.1%}')\n",
    "print(f'F1 Score: {f1:.1%}')\n"
   ]
  },
  {
   "cell_type": "code",
   "execution_count": 242,
   "id": "cf1707e9-a26e-41d4-a30e-c55847432b61",
   "metadata": {},
   "outputs": [
    {
     "name": "stdout",
     "output_type": "stream",
     "text": [
      "AUC Score: 89.60%\n"
     ]
    },
    {
     "data": {
      "image/png": "[encoded data removed]",
      "text/plain": [
       "<Figure size 640x480 with 1 Axes>"
      ]
     },
     "metadata": {},
     "output_type": "display_data"
    }
   ],
   "source": [
    "# AUC Score and Curve\n",
    "auc_score = roc_auc_score(y_test, y_pred_prob)\n",
    "fpr, tpr, thresholds = roc_curve(y_test, y_pred_prob)\n",
    "roc_auc = auc(fpr, tpr)\n",
    "\n",
    "print(f'AUC Score: {auc_score:.2%}')\n",
    "#\n",
    "plt.figure()\n",
    "plt.plot(fpr*100, tpr*100, color='darkorange', lw=2, label=f'ROC curve (area = {roc_auc:.1%})')\n",
    "plt.plot([0, 100], [0, 100], color='navy', lw=2, linestyle='--')\n",
    "plt.xlim([0.0, 100])\n",
    "plt.ylim([0.0, 105])\n",
    "plt.xlabel('False Positive Rate %')\n",
    "plt.ylabel('True Positive Rate %')\n",
    "plt.title('Receiver Operating Characteristic')\n",
    "plt.legend(loc=\"lower right\")\n",
    "plt.show()"
   ]
  },
  {
   "cell_type": "code",
   "execution_count": null,
   "id": "384bcfcb-6606-46cf-9e48-9bc2e1f08eac",
   "metadata": {},
   "outputs": [],
   "source": []
  },
  {
   "cell_type": "code",
   "execution_count": null,
   "id": "2a09b1ed-a03c-463c-8248-2783b2c35e8a",
   "metadata": {},
   "outputs": [],
   "source": []
  }
 ],
 "metadata": {
  "kernelspec": {
   "display_name": "audio8_2_tf",
   "language": "python",
   "name": "audio8_2_tf"
  },
  "language_info": {
   "codemirror_mode": {
    "name": "ipython",
    "version": 3
   },
   "file_extension": ".py",
   "mimetype": "text/x-python",
   "name": "python",
   "nbconvert_exporter": "python",
   "pygments_lexer": "ipython3",
   "version": "3.9.19"
  }
 },
 "nbformat": 4,
 "nbformat_minor": 5
}
