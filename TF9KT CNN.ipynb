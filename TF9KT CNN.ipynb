{
 "cells": [
  {
   "cell_type": "markdown",
   "id": "97e89b04-88cc-410a-8fae-d638826a0ae8",
   "metadata": {},
   "source": [
    "# 3.4 Convolutional Neural Network (CNN) models "
   ]
  },
  {
   "cell_type": "markdown",
   "id": "ef05d7f2-e475-4aff-b0be-600c400cf58e",
   "metadata": {},
   "source": [
    "kernel = audio 8_2_tf \\\n",
    "use audio_8_2_tf_requirements.txt as the requirements.txt file "
   ]
  },
  {
   "cell_type": "markdown",
   "id": "b42b10f2-345f-4ef6-8cf7-3bef06ee8ff7",
   "metadata": {},
   "source": []
  },
  {
   "cell_type": "markdown",
   "id": "3646608b-6b15-4025-a9a6-7f4130c2fd90",
   "metadata": {},
   "source": [
    "## To Do \n"
   ]
  },
  {
   "cell_type": "code",
   "execution_count": 90,
   "id": "f0361c0f-638f-41b5-9b03-282fe4d52c80",
   "metadata": {},
   "outputs": [],
   "source": [
    "import tensorflow as tf\n",
    "from tensorflow import keras\n",
    "from keras import layers\n",
    "\n",
    "# from tensorflow.keras.models import Sequential\n",
    "# from tensorflow.keras.layers import Conv2D, MaxPooling2D, Flatten, Dense"
   ]
  },
  {
   "cell_type": "code",
   "execution_count": 91,
   "id": "614857c5-82e1-4d77-a2b2-f1a9da28365e",
   "metadata": {},
   "outputs": [
    {
     "data": {
      "text/plain": [
       "'2.17.0'"
      ]
     },
     "execution_count": 91,
     "metadata": {},
     "output_type": "execute_result"
    }
   ],
   "source": [
    "tf.__version__"
   ]
  },
  {
   "cell_type": "markdown",
   "id": "c501616d-901a-4aee-9e56-776ac8f3e614",
   "metadata": {},
   "source": [
    "## Changes\n",
    "* 9 Added gender and age categorical varaibles to CNN\n",
    "* 8 Fixed hyperparameter tuning on MLP \n",
    "* 7 Add the CNN model, refactored,from PyTorch to TensorFlow\n",
    "* 6 Automated hyperparameter estimation on MLP\n",
    "* 5 Added the gender and age categorical variables as inputs\n",
    "* 4 Added other MFCC metrics as numerical features from my preprocess script\n",
    "* 3 added MFCC from my preprocessing scripts, added classification and class-imbalance metrics and performance improved to 80%+ accuracy\n",
    "* 2 used MFCC calculated from the SAIE dataset from the method given in the script\n"
   ]
  },
  {
   "cell_type": "code",
   "execution_count": 92,
   "id": "f989cbc8-bd3e-45c1-a77e-eacc995e4b16",
   "metadata": {},
   "outputs": [],
   "source": [
    "import librosa\n",
    "from pydub import AudioSegment\n",
    "import soundfile as sf\n",
    "import ffmpeg\n",
    "from IPython.display import Audio"
   ]
  },
  {
   "cell_type": "code",
   "execution_count": 93,
   "id": "38a98d5d-01c6-4264-9ae3-5c46f4380ad9",
   "metadata": {},
   "outputs": [],
   "source": [
    "import pandas as pd\n",
    "import numpy as np\n",
    "import os\n",
    "import random"
   ]
  },
  {
   "cell_type": "code",
   "execution_count": 94,
   "id": "f5cdd42a-417d-464c-b764-5851ac1cbbfd",
   "metadata": {},
   "outputs": [],
   "source": [
    "from sklearn.preprocessing import StandardScaler\n",
    "from sklearn.model_selection import train_test_split\n",
    "from sklearn.utils.class_weight import compute_class_weight\n",
    "from sklearn.metrics import confusion_matrix, roc_auc_score, roc_curve, auc\n",
    "from sklearn.metrics import accuracy_score, precision_score, recall_score, f1_score"
   ]
  },
  {
   "cell_type": "code",
   "execution_count": 95,
   "id": "17d95129-96a1-449d-abc1-419802691aec",
   "metadata": {},
   "outputs": [],
   "source": [
    "import matplotlib.pyplot as plt\n",
    "import seaborn as sns"
   ]
  },
  {
   "cell_type": "code",
   "execution_count": 96,
   "id": "98e50224-9770-4458-9418-adef41ea77ff",
   "metadata": {},
   "outputs": [
    {
     "data": {
      "text/plain": [
       "'0.10.2.post1'"
      ]
     },
     "execution_count": 96,
     "metadata": {},
     "output_type": "execute_result"
    }
   ],
   "source": [
    "librosa.__version__"
   ]
  },
  {
   "cell_type": "code",
   "execution_count": 97,
   "id": "ad2efd76-a70f-48d0-a75f-a3cf67180b3d",
   "metadata": {},
   "outputs": [],
   "source": [
    "import keras_tuner as kt"
   ]
  },
  {
   "cell_type": "markdown",
   "id": "78a701ec-a6e2-4b31-b945-f4f46f7ecabb",
   "metadata": {},
   "source": [
    "## File inputs and GLOBAL VARIABLES"
   ]
  },
  {
   "cell_type": "code",
   "execution_count": 98,
   "id": "baa29e2f-06c9-4b8b-a4da-03342b0bb8ff",
   "metadata": {},
   "outputs": [],
   "source": [
    "#file_class=pd.read_csv('file_class.csv',index_col=0) #\"C:\\Users\\GGMachines_Gaming\\Documents\\voxpop\\file_class.df\""
   ]
  },
  {
   "cell_type": "code",
   "execution_count": 99,
   "id": "37893c2a-fa20-4322-850f-8b4c76cc4971",
   "metadata": {},
   "outputs": [
    {
     "name": "stdout",
     "output_type": "stream",
     "text": [
      "C:\\Users\\GGMachines_Gaming\\Documents\\voxpop\n"
     ]
    }
   ],
   "source": [
    "cwd=os.getcwd()\n",
    "print(cwd)"
   ]
  },
  {
   "cell_type": "code",
   "execution_count": 100,
   "id": "f4428562-bad0-4c5f-8907-77a7cadc8a07",
   "metadata": {},
   "outputs": [],
   "source": [
    "INPUT_DIRECTORY=cwd"
   ]
  },
  {
   "cell_type": "code",
   "execution_count": 101,
   "id": "17ce2453-5a59-43bc-b1a2-d04c79a0992f",
   "metadata": {},
   "outputs": [
    {
     "data": {
      "text/plain": [
       "'C:\\\\Users\\\\GGMachines_Gaming\\\\Documents\\\\voxpop'"
      ]
     },
     "execution_count": 101,
     "metadata": {},
     "output_type": "execute_result"
    }
   ],
   "source": [
    "INPUT_DIRECTORY"
   ]
  },
  {
   "cell_type": "code",
   "execution_count": 102,
   "id": "d692c556-f4b0-457d-907d-3cc45af046fa",
   "metadata": {},
   "outputs": [],
   "source": [
    "#INPUT_DIRECTORY='C:\\\\Users\\\\GGMachines_Gaming\\\\Documents\\\\voxpop\\\\' #i9 machine"
   ]
  },
  {
   "cell_type": "code",
   "execution_count": 103,
   "id": "77c41766-b8c5-4a4b-a7dd-a8df9f9c5502",
   "metadata": {},
   "outputs": [],
   "source": [
    "TRAIN_TEST_SPLIT = 0.80"
   ]
  },
  {
   "cell_type": "code",
   "execution_count": 2,
   "id": "ece5bf26-5200-4528-89f1-32d247dbd087",
   "metadata": {},
   "outputs": [],
   "source": [
    "# Keras tuner RandomSearch parameters \n",
    "MAX_TRIALS=10\n",
    "EXECUTIONS_PER_TRIAL=3"
   ]
  },
  {
   "cell_type": "code",
   "execution_count": 104,
   "id": "2cd01da5-6246-4446-9b14-2fa95cadf210",
   "metadata": {},
   "outputs": [],
   "source": [
    "# Neural network training run parameters\n",
    "EPOCHS=20\n",
    "BATCH_SIZE=32"
   ]
  },
  {
   "cell_type": "code",
   "execution_count": 105,
   "id": "8b4e91fb-fd3c-46bc-95cb-a7ccf9a3456d",
   "metadata": {},
   "outputs": [],
   "source": [
    "## Used in versions 1,2 instead of the pickle preprocessing output\n",
    "\n",
    "# file_class=pd.read_csv('file_class.csv',index_col=0) #\"C:\\Users\\GGMachines_Gaming\\Documents\\voxpop\\file_class.df\"\n",
    "# file_class.shape"
   ]
  },
  {
   "cell_type": "code",
   "execution_count": null,
   "id": "7a40b8b9-8c48-46b8-9451-9e872b013365",
   "metadata": {},
   "outputs": [],
   "source": []
  },
  {
   "cell_type": "code",
   "execution_count": 106,
   "id": "963a643d-0abd-4a95-8e41-1c7322107dc0",
   "metadata": {},
   "outputs": [
    {
     "name": "stdout",
     "output_type": "stream",
     "text": [
      "nt\n"
     ]
    }
   ],
   "source": [
    "platform=os.name\n",
    "print(platform)"
   ]
  },
  {
   "cell_type": "code",
   "execution_count": 107,
   "id": "7942bfcb-4463-4116-91cb-6327ef97a85c",
   "metadata": {},
   "outputs": [
    {
     "name": "stdout",
     "output_type": "stream",
     "text": [
      "\\sample_output_directory\\\n"
     ]
    }
   ],
   "source": [
    "if (platform=='nt'):\n",
    "    SUBDIR=\"\\\\sample_output_directory\\\\\"\n",
    "print(SUBDIR)"
   ]
  },
  {
   "cell_type": "code",
   "execution_count": null,
   "id": "20f3c9eb-7a71-451b-bcd0-41fb102b9c7c",
   "metadata": {},
   "outputs": [],
   "source": []
  },
  {
   "cell_type": "code",
   "execution_count": 108,
   "id": "61ad285c-7fbb-4ecc-b5ff-f854ed5443c8",
   "metadata": {},
   "outputs": [],
   "source": [
    "def retrieve_file(county):\n",
    "    all_files=os.listdir(INPUT_DIRECTORY+SUBDIR)\n",
    "    pkl_files = [f for f in all_files if f.endswith('.pkl')]\n",
    "    #print(pkl_files)\n",
    "    filtered_files = [file for file in pkl_files if county in file]\n",
    "    #print(filtered_files)\n",
    "    most_recent_file=filtered_files[-1]\n",
    "    #print(most_recent_file)\n",
    "    return most_recent_file"
   ]
  },
  {
   "cell_type": "code",
   "execution_count": 109,
   "id": "b6b00c43-4752-4fe8-bd2a-7a81639de864",
   "metadata": {},
   "outputs": [
    {
     "data": {
      "text/plain": [
       "'20240721_0000_DUB_features.pkl'"
      ]
     },
     "execution_count": 109,
     "metadata": {},
     "output_type": "execute_result"
    }
   ],
   "source": [
    "retrieve_file('DUB')"
   ]
  },
  {
   "cell_type": "code",
   "execution_count": 110,
   "id": "d4ca9b73-1b01-46de-b762-55c6a0df6518",
   "metadata": {},
   "outputs": [
    {
     "data": {
      "text/plain": [
       "'20240721_0013_ANT_features.pkl'"
      ]
     },
     "execution_count": 110,
     "metadata": {},
     "output_type": "execute_result"
    }
   ],
   "source": [
    "retrieve_file('ANT')"
   ]
  },
  {
   "cell_type": "code",
   "execution_count": 111,
   "id": "a8051d15-08df-455e-b372-4f4d98f46b60",
   "metadata": {},
   "outputs": [
    {
     "data": {
      "text/plain": [
       "\"\\nall_files=os.listdir(cwd+subdir)\\npkl_files = [f for f in all_files if f.endswith('.pkl')]\\nprint(pkl_files)\\nfiltered_files = [file for file in pkl_files if 'DUB' in file]\\nprint(filtered_files)\\nmost_recent_file=filtered_files[-1]\\nprint(most_recent_file)\\n\""
      ]
     },
     "execution_count": 111,
     "metadata": {},
     "output_type": "execute_result"
    }
   ],
   "source": [
    "'''\n",
    "all_files=os.listdir(cwd+subdir)\n",
    "pkl_files = [f for f in all_files if f.endswith('.pkl')]\n",
    "print(pkl_files)\n",
    "filtered_files = [file for file in pkl_files if 'DUB' in file]\n",
    "print(filtered_files)\n",
    "most_recent_file=filtered_files[-1]\n",
    "print(most_recent_file)\n",
    "'''"
   ]
  },
  {
   "cell_type": "code",
   "execution_count": 112,
   "id": "e2e991bc-822d-4b2c-b790-e0b794d7494d",
   "metadata": {},
   "outputs": [],
   "source": [
    "dub_df=pd.read_pickle(INPUT_DIRECTORY+SUBDIR+retrieve_file('DUB'))"
   ]
  },
  {
   "cell_type": "code",
   "execution_count": 113,
   "id": "87c26717-ba5c-4ec9-b891-a71d8855abed",
   "metadata": {},
   "outputs": [],
   "source": [
    "#dub_df = pd.read_pickle('C:\\\\Users\\\\GGMachines_Gaming\\\\Documents\\\\voxpop\\\\sample_output_directory\\\\20240721_0000_DUB_features.pkl') #i9 directory"
   ]
  },
  {
   "cell_type": "code",
   "execution_count": 114,
   "id": "4fc6ba85-5ee4-4c43-8889-f15e13af6905",
   "metadata": {},
   "outputs": [
    {
     "data": {
      "text/html": [
       "<div>\n",
       "<style scoped>\n",
       "    .dataframe tbody tr th:only-of-type {\n",
       "        vertical-align: middle;\n",
       "    }\n",
       "\n",
       "    .dataframe tbody tr th {\n",
       "        vertical-align: top;\n",
       "    }\n",
       "\n",
       "    .dataframe thead th {\n",
       "        text-align: right;\n",
       "    }\n",
       "</style>\n",
       "<table border=\"1\" class=\"dataframe\">\n",
       "  <thead>\n",
       "    <tr style=\"text-align: right;\">\n",
       "      <th></th>\n",
       "      <th>filenames</th>\n",
       "      <th>names</th>\n",
       "      <th>counties</th>\n",
       "      <th>towns</th>\n",
       "      <th>urbanrural</th>\n",
       "      <th>size</th>\n",
       "      <th>genders</th>\n",
       "      <th>ages</th>\n",
       "      <th>dur</th>\n",
       "      <th>recording num</th>\n",
       "      <th>sample num</th>\n",
       "      <th>sample file name</th>\n",
       "      <th>sample</th>\n",
       "      <th>Ydb</th>\n",
       "      <th>sr</th>\n",
       "      <th>mfcc</th>\n",
       "      <th>mfcc_delta</th>\n",
       "      <th>mfcc_delta_2</th>\n",
       "    </tr>\n",
       "  </thead>\n",
       "  <tbody>\n",
       "    <tr>\n",
       "      <th>0</th>\n",
       "      <td>C:\\Users\\GGMachines_Gaming\\Documents\\DUB\\DUB_A...</td>\n",
       "      <td>DUB_Artane_M_20</td>\n",
       "      <td>DUB</td>\n",
       "      <td>Artane</td>\n",
       "      <td>None</td>\n",
       "      <td>None</td>\n",
       "      <td>M</td>\n",
       "      <td>20</td>\n",
       "      <td>81.63</td>\n",
       "      <td>0</td>\n",
       "      <td>0</td>\n",
       "      <td>DUB_Artane_M_20_Rec_0_Sample_0.wav</td>\n",
       "      <td>[1.5543122e-15, 3.330669e-15, 3.5527137e-15, 3...</td>\n",
       "      <td>[[-45.312862, -45.312862, -20.940594, -15.0561...</td>\n",
       "      <td>22050</td>\n",
       "      <td>[[-655.949, -615.1495, -328.68915, -242.04138,...</td>\n",
       "      <td>[[49.801403, 49.801403, 49.801403, 49.801403, ...</td>\n",
       "      <td>[[-30.38227, -30.38227, -30.38227, -30.38227, ...</td>\n",
       "    </tr>\n",
       "    <tr>\n",
       "      <th>1</th>\n",
       "      <td>C:\\Users\\GGMachines_Gaming\\Documents\\DUB\\DUB_A...</td>\n",
       "      <td>DUB_Artane_M_20</td>\n",
       "      <td>DUB</td>\n",
       "      <td>Artane</td>\n",
       "      <td>None</td>\n",
       "      <td>None</td>\n",
       "      <td>M</td>\n",
       "      <td>20</td>\n",
       "      <td>81.63</td>\n",
       "      <td>0</td>\n",
       "      <td>1</td>\n",
       "      <td>DUB_Artane_M_20_Rec_0_Sample_1.wav</td>\n",
       "      <td>[-0.008644444, -0.01465759, -0.012110229, 0.00...</td>\n",
       "      <td>[[-34.0381, -32.152866, -36.18184, -49.078957,...</td>\n",
       "      <td>22050</td>\n",
       "      <td>[[-280.54608, -219.32281, -217.8543, -227.0891...</td>\n",
       "      <td>[[16.633562, 16.633562, 16.633562, 16.633562, ...</td>\n",
       "      <td>[[-3.0967958, -3.0967958, -3.0967958, -3.09679...</td>\n",
       "    </tr>\n",
       "    <tr>\n",
       "      <th>2</th>\n",
       "      <td>C:\\Users\\GGMachines_Gaming\\Documents\\DUB\\DUB_A...</td>\n",
       "      <td>DUB_Artane_M_20</td>\n",
       "      <td>DUB</td>\n",
       "      <td>Artane</td>\n",
       "      <td>None</td>\n",
       "      <td>None</td>\n",
       "      <td>M</td>\n",
       "      <td>20</td>\n",
       "      <td>81.63</td>\n",
       "      <td>0</td>\n",
       "      <td>2</td>\n",
       "      <td>DUB_Artane_M_20_Rec_0_Sample_2.wav</td>\n",
       "      <td>[-0.013591497, -0.009562584, -0.0034573623, 0....</td>\n",
       "      <td>[[-26.495678, -26.199865, -34.241257, -27.4409...</td>\n",
       "      <td>22050</td>\n",
       "      <td>[[-334.6902, -300.3063, -289.8084, -286.79123,...</td>\n",
       "      <td>[[5.437888, 5.437888, 5.437888, 5.437888, 5.43...</td>\n",
       "      <td>[[-1.3182307, -1.3182307, -1.3182307, -1.31823...</td>\n",
       "    </tr>\n",
       "  </tbody>\n",
       "</table>\n",
       "</div>"
      ],
      "text/plain": [
       "                                           filenames            names  \\\n",
       "0  C:\\Users\\GGMachines_Gaming\\Documents\\DUB\\DUB_A...  DUB_Artane_M_20   \n",
       "1  C:\\Users\\GGMachines_Gaming\\Documents\\DUB\\DUB_A...  DUB_Artane_M_20   \n",
       "2  C:\\Users\\GGMachines_Gaming\\Documents\\DUB\\DUB_A...  DUB_Artane_M_20   \n",
       "\n",
       "  counties   towns urbanrural  size genders ages    dur recording num  \\\n",
       "0      DUB  Artane       None  None       M   20  81.63             0   \n",
       "1      DUB  Artane       None  None       M   20  81.63             0   \n",
       "2      DUB  Artane       None  None       M   20  81.63             0   \n",
       "\n",
       "  sample num                    sample file name  \\\n",
       "0          0  DUB_Artane_M_20_Rec_0_Sample_0.wav   \n",
       "1          1  DUB_Artane_M_20_Rec_0_Sample_1.wav   \n",
       "2          2  DUB_Artane_M_20_Rec_0_Sample_2.wav   \n",
       "\n",
       "                                              sample  \\\n",
       "0  [1.5543122e-15, 3.330669e-15, 3.5527137e-15, 3...   \n",
       "1  [-0.008644444, -0.01465759, -0.012110229, 0.00...   \n",
       "2  [-0.013591497, -0.009562584, -0.0034573623, 0....   \n",
       "\n",
       "                                                 Ydb     sr  \\\n",
       "0  [[-45.312862, -45.312862, -20.940594, -15.0561...  22050   \n",
       "1  [[-34.0381, -32.152866, -36.18184, -49.078957,...  22050   \n",
       "2  [[-26.495678, -26.199865, -34.241257, -27.4409...  22050   \n",
       "\n",
       "                                                mfcc  \\\n",
       "0  [[-655.949, -615.1495, -328.68915, -242.04138,...   \n",
       "1  [[-280.54608, -219.32281, -217.8543, -227.0891...   \n",
       "2  [[-334.6902, -300.3063, -289.8084, -286.79123,...   \n",
       "\n",
       "                                          mfcc_delta  \\\n",
       "0  [[49.801403, 49.801403, 49.801403, 49.801403, ...   \n",
       "1  [[16.633562, 16.633562, 16.633562, 16.633562, ...   \n",
       "2  [[5.437888, 5.437888, 5.437888, 5.437888, 5.43...   \n",
       "\n",
       "                                        mfcc_delta_2  \n",
       "0  [[-30.38227, -30.38227, -30.38227, -30.38227, ...  \n",
       "1  [[-3.0967958, -3.0967958, -3.0967958, -3.09679...  \n",
       "2  [[-1.3182307, -1.3182307, -1.3182307, -1.31823...  "
      ]
     },
     "execution_count": 114,
     "metadata": {},
     "output_type": "execute_result"
    }
   ],
   "source": [
    "dub_df[0:3]"
   ]
  },
  {
   "cell_type": "code",
   "execution_count": 115,
   "id": "a8632f14-0732-4f39-af05-d4003f5be831",
   "metadata": {},
   "outputs": [],
   "source": [
    "antbel_df = pd.read_pickle(INPUT_DIRECTORY+SUBDIR+retrieve_file('ANT'))"
   ]
  },
  {
   "cell_type": "code",
   "execution_count": 116,
   "id": "e3b4921b-fbec-4b57-b90a-3d936f2252e2",
   "metadata": {},
   "outputs": [],
   "source": [
    "#antbel_df = pd.read_pickle('C:\\\\Users\\\\GGMachines_Gaming\\\\Documents\\\\voxpop\\\\sample_output_directory\\\\20240721_0013_ANT_features.pkl') #i9 directory"
   ]
  },
  {
   "cell_type": "code",
   "execution_count": 117,
   "id": "d1981eb0-ce32-4e7c-acd0-bc534c0777e9",
   "metadata": {},
   "outputs": [
    {
     "data": {
      "text/html": [
       "<div>\n",
       "<style scoped>\n",
       "    .dataframe tbody tr th:only-of-type {\n",
       "        vertical-align: middle;\n",
       "    }\n",
       "\n",
       "    .dataframe tbody tr th {\n",
       "        vertical-align: top;\n",
       "    }\n",
       "\n",
       "    .dataframe thead th {\n",
       "        text-align: right;\n",
       "    }\n",
       "</style>\n",
       "<table border=\"1\" class=\"dataframe\">\n",
       "  <thead>\n",
       "    <tr style=\"text-align: right;\">\n",
       "      <th></th>\n",
       "      <th>filenames</th>\n",
       "      <th>names</th>\n",
       "      <th>counties</th>\n",
       "      <th>towns</th>\n",
       "      <th>urbanrural</th>\n",
       "      <th>size</th>\n",
       "      <th>genders</th>\n",
       "      <th>ages</th>\n",
       "      <th>dur</th>\n",
       "      <th>recording num</th>\n",
       "      <th>sample num</th>\n",
       "      <th>sample file name</th>\n",
       "      <th>sample</th>\n",
       "      <th>Ydb</th>\n",
       "      <th>sr</th>\n",
       "      <th>mfcc</th>\n",
       "      <th>mfcc_delta</th>\n",
       "      <th>mfcc_delta_2</th>\n",
       "    </tr>\n",
       "  </thead>\n",
       "  <tbody>\n",
       "    <tr>\n",
       "      <th>0</th>\n",
       "      <td>C:\\Users\\GGMachines_Gaming\\Documents\\ANT\\ANT_A...</td>\n",
       "      <td>ANT_Antrim_R1_F_20</td>\n",
       "      <td>ANT</td>\n",
       "      <td>Antrim</td>\n",
       "      <td>R</td>\n",
       "      <td>1</td>\n",
       "      <td>F</td>\n",
       "      <td>20</td>\n",
       "      <td>95.95</td>\n",
       "      <td>0</td>\n",
       "      <td>0</td>\n",
       "      <td>ANT_Antrim_R1_F_20_Rec_0_Sample_0.wav</td>\n",
       "      <td>[-3.259629e-09, -1.9790605e-09, -1.8626451e-09...</td>\n",
       "      <td>[[-35.601192, -23.076942, -25.175114, -30.8771...</td>\n",
       "      <td>22050</td>\n",
       "      <td>[[-494.3632, -314.76587, -256.5209, -248.23921...</td>\n",
       "      <td>[[22.54509, 22.54509, 22.54509, 22.54509, 22.5...</td>\n",
       "      <td>[[-13.363751, -13.363751, -13.363751, -13.3637...</td>\n",
       "    </tr>\n",
       "    <tr>\n",
       "      <th>1</th>\n",
       "      <td>C:\\Users\\GGMachines_Gaming\\Documents\\ANT\\ANT_A...</td>\n",
       "      <td>ANT_Antrim_R1_F_20</td>\n",
       "      <td>ANT</td>\n",
       "      <td>Antrim</td>\n",
       "      <td>R</td>\n",
       "      <td>1</td>\n",
       "      <td>F</td>\n",
       "      <td>20</td>\n",
       "      <td>95.95</td>\n",
       "      <td>0</td>\n",
       "      <td>1</td>\n",
       "      <td>ANT_Antrim_R1_F_20_Rec_0_Sample_1.wav</td>\n",
       "      <td>[-0.063719966, 0.018594107, 0.042440787, 0.011...</td>\n",
       "      <td>[[-24.939114, -19.037073, -35.540073, -40.6882...</td>\n",
       "      <td>22050</td>\n",
       "      <td>[[-200.87267, -189.22813, -205.93425, -217.350...</td>\n",
       "      <td>[[1.7263998, 1.7263998, 1.7263998, 1.7263998, ...</td>\n",
       "      <td>[[8.442614, 8.442614, 8.442614, 8.442614, 8.44...</td>\n",
       "    </tr>\n",
       "    <tr>\n",
       "      <th>2</th>\n",
       "      <td>C:\\Users\\GGMachines_Gaming\\Documents\\ANT\\ANT_A...</td>\n",
       "      <td>ANT_Antrim_R1_F_20</td>\n",
       "      <td>ANT</td>\n",
       "      <td>Antrim</td>\n",
       "      <td>R</td>\n",
       "      <td>1</td>\n",
       "      <td>F</td>\n",
       "      <td>20</td>\n",
       "      <td>95.95</td>\n",
       "      <td>0</td>\n",
       "      <td>2</td>\n",
       "      <td>ANT_Antrim_R1_F_20_Rec_0_Sample_2.wav</td>\n",
       "      <td>[-0.009588398, -0.029184137, -0.023096263, -0....</td>\n",
       "      <td>[[-12.003866, -22.771717, -25.912066, -27.5487...</td>\n",
       "      <td>22050</td>\n",
       "      <td>[[-269.9958, -209.71855, -199.9971, -192.51334...</td>\n",
       "      <td>[[7.1880474, 7.1880474, 7.1880474, 7.1880474, ...</td>\n",
       "      <td>[[-7.412616, -7.412616, -7.412616, -7.412616, ...</td>\n",
       "    </tr>\n",
       "  </tbody>\n",
       "</table>\n",
       "</div>"
      ],
      "text/plain": [
       "                                           filenames               names  \\\n",
       "0  C:\\Users\\GGMachines_Gaming\\Documents\\ANT\\ANT_A...  ANT_Antrim_R1_F_20   \n",
       "1  C:\\Users\\GGMachines_Gaming\\Documents\\ANT\\ANT_A...  ANT_Antrim_R1_F_20   \n",
       "2  C:\\Users\\GGMachines_Gaming\\Documents\\ANT\\ANT_A...  ANT_Antrim_R1_F_20   \n",
       "\n",
       "  counties   towns urbanrural size genders ages    dur recording num  \\\n",
       "0      ANT  Antrim          R    1       F   20  95.95             0   \n",
       "1      ANT  Antrim          R    1       F   20  95.95             0   \n",
       "2      ANT  Antrim          R    1       F   20  95.95             0   \n",
       "\n",
       "  sample num                       sample file name  \\\n",
       "0          0  ANT_Antrim_R1_F_20_Rec_0_Sample_0.wav   \n",
       "1          1  ANT_Antrim_R1_F_20_Rec_0_Sample_1.wav   \n",
       "2          2  ANT_Antrim_R1_F_20_Rec_0_Sample_2.wav   \n",
       "\n",
       "                                              sample  \\\n",
       "0  [-3.259629e-09, -1.9790605e-09, -1.8626451e-09...   \n",
       "1  [-0.063719966, 0.018594107, 0.042440787, 0.011...   \n",
       "2  [-0.009588398, -0.029184137, -0.023096263, -0....   \n",
       "\n",
       "                                                 Ydb     sr  \\\n",
       "0  [[-35.601192, -23.076942, -25.175114, -30.8771...  22050   \n",
       "1  [[-24.939114, -19.037073, -35.540073, -40.6882...  22050   \n",
       "2  [[-12.003866, -22.771717, -25.912066, -27.5487...  22050   \n",
       "\n",
       "                                                mfcc  \\\n",
       "0  [[-494.3632, -314.76587, -256.5209, -248.23921...   \n",
       "1  [[-200.87267, -189.22813, -205.93425, -217.350...   \n",
       "2  [[-269.9958, -209.71855, -199.9971, -192.51334...   \n",
       "\n",
       "                                          mfcc_delta  \\\n",
       "0  [[22.54509, 22.54509, 22.54509, 22.54509, 22.5...   \n",
       "1  [[1.7263998, 1.7263998, 1.7263998, 1.7263998, ...   \n",
       "2  [[7.1880474, 7.1880474, 7.1880474, 7.1880474, ...   \n",
       "\n",
       "                                        mfcc_delta_2  \n",
       "0  [[-13.363751, -13.363751, -13.363751, -13.3637...  \n",
       "1  [[8.442614, 8.442614, 8.442614, 8.442614, 8.44...  \n",
       "2  [[-7.412616, -7.412616, -7.412616, -7.412616, ...  "
      ]
     },
     "execution_count": 117,
     "metadata": {},
     "output_type": "execute_result"
    }
   ],
   "source": [
    "antbel_df[0:3]"
   ]
  },
  {
   "cell_type": "markdown",
   "id": "149f4296-8e53-4c53-94bd-7f8279ebec3f",
   "metadata": {},
   "source": [
    "## Reset recording numbers to avoid duplicates"
   ]
  },
  {
   "cell_type": "code",
   "execution_count": 118,
   "id": "0bf7ee44-5aa0-4bbe-81d3-74f2791e0720",
   "metadata": {},
   "outputs": [
    {
     "data": {
      "text/plain": [
       "166"
      ]
     },
     "execution_count": 118,
     "metadata": {},
     "output_type": "execute_result"
    }
   ],
   "source": [
    "recordings_count=dub_df['recording num'].max()\n",
    "recordings_count"
   ]
  },
  {
   "cell_type": "code",
   "execution_count": 119,
   "id": "ac763ca5-5b06-4613-af4a-b2b6661020c0",
   "metadata": {},
   "outputs": [
    {
     "data": {
      "text/plain": [
       "0       166\n",
       "1       166\n",
       "2       166\n",
       "3       166\n",
       "4       166\n",
       "       ... \n",
       "6489    237\n",
       "6490    237\n",
       "6491    237\n",
       "6492    237\n",
       "6493    237\n",
       "Name: recording num, Length: 6494, dtype: object"
      ]
     },
     "execution_count": 119,
     "metadata": {},
     "output_type": "execute_result"
    }
   ],
   "source": [
    "#Increase the recording number in the 2nd dataframe so that there are no duplicates\n",
    "antbel_df['recording num']=dub_df['recording num']+recordings_count\n",
    "antbel_df['recording num']"
   ]
  },
  {
   "cell_type": "code",
   "execution_count": null,
   "id": "c9fa18d1-e153-4b91-be04-33591d620578",
   "metadata": {},
   "outputs": [],
   "source": []
  },
  {
   "cell_type": "markdown",
   "id": "ae7ed263-e72c-4478-942b-faf86b9b3863",
   "metadata": {},
   "source": [
    "## Merge the DataFrames"
   ]
  },
  {
   "cell_type": "code",
   "execution_count": 120,
   "id": "ecd28926-8595-41c0-8f33-3abdbdbded06",
   "metadata": {},
   "outputs": [],
   "source": [
    "# Concatenate the DataFrames\n",
    "all_df= pd.concat([antbel_df, dub_df], ignore_index=True)"
   ]
  },
  {
   "cell_type": "code",
   "execution_count": 121,
   "id": "e768f9fa-e418-4c3f-845f-7bda13b5b946",
   "metadata": {},
   "outputs": [
    {
     "data": {
      "text/plain": [
       "Index(['filenames', 'names', 'counties', 'towns', 'urbanrural', 'size',\n",
       "       'genders', 'ages', 'dur', 'recording num', 'sample num',\n",
       "       'sample file name', 'sample', 'Ydb', 'sr', 'mfcc', 'mfcc_delta',\n",
       "       'mfcc_delta_2'],\n",
       "      dtype='object')"
      ]
     },
     "execution_count": 121,
     "metadata": {},
     "output_type": "execute_result"
    }
   ],
   "source": [
    "all_df.columns"
   ]
  },
  {
   "cell_type": "code",
   "execution_count": 122,
   "id": "8bc029e6-fce0-4248-a1da-ae7db6381be9",
   "metadata": {},
   "outputs": [
    {
     "data": {
      "text/plain": [
       "(21594, 18)"
      ]
     },
     "execution_count": 122,
     "metadata": {},
     "output_type": "execute_result"
    }
   ],
   "source": [
    "all_df.shape"
   ]
  },
  {
   "cell_type": "code",
   "execution_count": 123,
   "id": "864d85cb-b9be-44de-9d11-3079b29f6b9b",
   "metadata": {},
   "outputs": [
    {
     "data": {
      "text/html": [
       "<div>\n",
       "<style scoped>\n",
       "    .dataframe tbody tr th:only-of-type {\n",
       "        vertical-align: middle;\n",
       "    }\n",
       "\n",
       "    .dataframe tbody tr th {\n",
       "        vertical-align: top;\n",
       "    }\n",
       "\n",
       "    .dataframe thead th {\n",
       "        text-align: right;\n",
       "    }\n",
       "</style>\n",
       "<table border=\"1\" class=\"dataframe\">\n",
       "  <thead>\n",
       "    <tr style=\"text-align: right;\">\n",
       "      <th></th>\n",
       "      <th>filenames</th>\n",
       "      <th>names</th>\n",
       "      <th>counties</th>\n",
       "      <th>towns</th>\n",
       "      <th>urbanrural</th>\n",
       "      <th>size</th>\n",
       "      <th>genders</th>\n",
       "      <th>ages</th>\n",
       "      <th>dur</th>\n",
       "      <th>recording num</th>\n",
       "      <th>sample num</th>\n",
       "      <th>sample file name</th>\n",
       "      <th>sample</th>\n",
       "      <th>Ydb</th>\n",
       "      <th>sr</th>\n",
       "      <th>mfcc</th>\n",
       "      <th>mfcc_delta</th>\n",
       "      <th>mfcc_delta_2</th>\n",
       "    </tr>\n",
       "  </thead>\n",
       "  <tbody>\n",
       "    <tr>\n",
       "      <th>0</th>\n",
       "      <td>C:\\Users\\GGMachines_Gaming\\Documents\\ANT\\ANT_A...</td>\n",
       "      <td>ANT_Antrim_R1_F_20</td>\n",
       "      <td>ANT</td>\n",
       "      <td>Antrim</td>\n",
       "      <td>R</td>\n",
       "      <td>1</td>\n",
       "      <td>F</td>\n",
       "      <td>20</td>\n",
       "      <td>95.95</td>\n",
       "      <td>166</td>\n",
       "      <td>0</td>\n",
       "      <td>ANT_Antrim_R1_F_20_Rec_0_Sample_0.wav</td>\n",
       "      <td>[-3.259629e-09, -1.9790605e-09, -1.8626451e-09...</td>\n",
       "      <td>[[-35.601192, -23.076942, -25.175114, -30.8771...</td>\n",
       "      <td>22050</td>\n",
       "      <td>[[-494.3632, -314.76587, -256.5209, -248.23921...</td>\n",
       "      <td>[[22.54509, 22.54509, 22.54509, 22.54509, 22.5...</td>\n",
       "      <td>[[-13.363751, -13.363751, -13.363751, -13.3637...</td>\n",
       "    </tr>\n",
       "    <tr>\n",
       "      <th>1</th>\n",
       "      <td>C:\\Users\\GGMachines_Gaming\\Documents\\ANT\\ANT_A...</td>\n",
       "      <td>ANT_Antrim_R1_F_20</td>\n",
       "      <td>ANT</td>\n",
       "      <td>Antrim</td>\n",
       "      <td>R</td>\n",
       "      <td>1</td>\n",
       "      <td>F</td>\n",
       "      <td>20</td>\n",
       "      <td>95.95</td>\n",
       "      <td>166</td>\n",
       "      <td>1</td>\n",
       "      <td>ANT_Antrim_R1_F_20_Rec_0_Sample_1.wav</td>\n",
       "      <td>[-0.063719966, 0.018594107, 0.042440787, 0.011...</td>\n",
       "      <td>[[-24.939114, -19.037073, -35.540073, -40.6882...</td>\n",
       "      <td>22050</td>\n",
       "      <td>[[-200.87267, -189.22813, -205.93425, -217.350...</td>\n",
       "      <td>[[1.7263998, 1.7263998, 1.7263998, 1.7263998, ...</td>\n",
       "      <td>[[8.442614, 8.442614, 8.442614, 8.442614, 8.44...</td>\n",
       "    </tr>\n",
       "    <tr>\n",
       "      <th>2</th>\n",
       "      <td>C:\\Users\\GGMachines_Gaming\\Documents\\ANT\\ANT_A...</td>\n",
       "      <td>ANT_Antrim_R1_F_20</td>\n",
       "      <td>ANT</td>\n",
       "      <td>Antrim</td>\n",
       "      <td>R</td>\n",
       "      <td>1</td>\n",
       "      <td>F</td>\n",
       "      <td>20</td>\n",
       "      <td>95.95</td>\n",
       "      <td>166</td>\n",
       "      <td>2</td>\n",
       "      <td>ANT_Antrim_R1_F_20_Rec_0_Sample_2.wav</td>\n",
       "      <td>[-0.009588398, -0.029184137, -0.023096263, -0....</td>\n",
       "      <td>[[-12.003866, -22.771717, -25.912066, -27.5487...</td>\n",
       "      <td>22050</td>\n",
       "      <td>[[-269.9958, -209.71855, -199.9971, -192.51334...</td>\n",
       "      <td>[[7.1880474, 7.1880474, 7.1880474, 7.1880474, ...</td>\n",
       "      <td>[[-7.412616, -7.412616, -7.412616, -7.412616, ...</td>\n",
       "    </tr>\n",
       "    <tr>\n",
       "      <th>3</th>\n",
       "      <td>C:\\Users\\GGMachines_Gaming\\Documents\\ANT\\ANT_A...</td>\n",
       "      <td>ANT_Antrim_R1_F_20</td>\n",
       "      <td>ANT</td>\n",
       "      <td>Antrim</td>\n",
       "      <td>R</td>\n",
       "      <td>1</td>\n",
       "      <td>F</td>\n",
       "      <td>20</td>\n",
       "      <td>95.95</td>\n",
       "      <td>166</td>\n",
       "      <td>3</td>\n",
       "      <td>ANT_Antrim_R1_F_20_Rec_0_Sample_3.wav</td>\n",
       "      <td>[-0.02926175, -0.03246651, -0.03447114, -0.032...</td>\n",
       "      <td>[[-33.829704, -37.727036, -24.553106, -31.8029...</td>\n",
       "      <td>22050</td>\n",
       "      <td>[[-319.19656, -307.64944, -314.54547, -295.997...</td>\n",
       "      <td>[[9.711183, 9.711183, 9.711183, 9.711183, 9.71...</td>\n",
       "      <td>[[-0.45292982, -0.45292982, -0.45292982, -0.45...</td>\n",
       "    </tr>\n",
       "  </tbody>\n",
       "</table>\n",
       "</div>"
      ],
      "text/plain": [
       "                                           filenames               names  \\\n",
       "0  C:\\Users\\GGMachines_Gaming\\Documents\\ANT\\ANT_A...  ANT_Antrim_R1_F_20   \n",
       "1  C:\\Users\\GGMachines_Gaming\\Documents\\ANT\\ANT_A...  ANT_Antrim_R1_F_20   \n",
       "2  C:\\Users\\GGMachines_Gaming\\Documents\\ANT\\ANT_A...  ANT_Antrim_R1_F_20   \n",
       "3  C:\\Users\\GGMachines_Gaming\\Documents\\ANT\\ANT_A...  ANT_Antrim_R1_F_20   \n",
       "\n",
       "  counties   towns urbanrural size genders ages    dur recording num  \\\n",
       "0      ANT  Antrim          R    1       F   20  95.95           166   \n",
       "1      ANT  Antrim          R    1       F   20  95.95           166   \n",
       "2      ANT  Antrim          R    1       F   20  95.95           166   \n",
       "3      ANT  Antrim          R    1       F   20  95.95           166   \n",
       "\n",
       "  sample num                       sample file name  \\\n",
       "0          0  ANT_Antrim_R1_F_20_Rec_0_Sample_0.wav   \n",
       "1          1  ANT_Antrim_R1_F_20_Rec_0_Sample_1.wav   \n",
       "2          2  ANT_Antrim_R1_F_20_Rec_0_Sample_2.wav   \n",
       "3          3  ANT_Antrim_R1_F_20_Rec_0_Sample_3.wav   \n",
       "\n",
       "                                              sample  \\\n",
       "0  [-3.259629e-09, -1.9790605e-09, -1.8626451e-09...   \n",
       "1  [-0.063719966, 0.018594107, 0.042440787, 0.011...   \n",
       "2  [-0.009588398, -0.029184137, -0.023096263, -0....   \n",
       "3  [-0.02926175, -0.03246651, -0.03447114, -0.032...   \n",
       "\n",
       "                                                 Ydb     sr  \\\n",
       "0  [[-35.601192, -23.076942, -25.175114, -30.8771...  22050   \n",
       "1  [[-24.939114, -19.037073, -35.540073, -40.6882...  22050   \n",
       "2  [[-12.003866, -22.771717, -25.912066, -27.5487...  22050   \n",
       "3  [[-33.829704, -37.727036, -24.553106, -31.8029...  22050   \n",
       "\n",
       "                                                mfcc  \\\n",
       "0  [[-494.3632, -314.76587, -256.5209, -248.23921...   \n",
       "1  [[-200.87267, -189.22813, -205.93425, -217.350...   \n",
       "2  [[-269.9958, -209.71855, -199.9971, -192.51334...   \n",
       "3  [[-319.19656, -307.64944, -314.54547, -295.997...   \n",
       "\n",
       "                                          mfcc_delta  \\\n",
       "0  [[22.54509, 22.54509, 22.54509, 22.54509, 22.5...   \n",
       "1  [[1.7263998, 1.7263998, 1.7263998, 1.7263998, ...   \n",
       "2  [[7.1880474, 7.1880474, 7.1880474, 7.1880474, ...   \n",
       "3  [[9.711183, 9.711183, 9.711183, 9.711183, 9.71...   \n",
       "\n",
       "                                        mfcc_delta_2  \n",
       "0  [[-13.363751, -13.363751, -13.363751, -13.3637...  \n",
       "1  [[8.442614, 8.442614, 8.442614, 8.442614, 8.44...  \n",
       "2  [[-7.412616, -7.412616, -7.412616, -7.412616, ...  \n",
       "3  [[-0.45292982, -0.45292982, -0.45292982, -0.45...  "
      ]
     },
     "execution_count": 123,
     "metadata": {},
     "output_type": "execute_result"
    }
   ],
   "source": [
    "all_df.iloc[0:4]"
   ]
  },
  {
   "cell_type": "code",
   "execution_count": 124,
   "id": "58ba8da1-af74-4b10-b3cd-f69e3cca4a77",
   "metadata": {},
   "outputs": [
    {
     "data": {
      "text/plain": [
       "ages\n",
       "20    3784\n",
       "30     599\n",
       "25     458\n",
       "40     334\n",
       "55     235\n",
       "70     224\n",
       "50     203\n",
       "60     185\n",
       "16     154\n",
       "65     127\n",
       "35      97\n",
       "80      94\n",
       "Name: count, dtype: int64"
      ]
     },
     "execution_count": 124,
     "metadata": {},
     "output_type": "execute_result"
    }
   ],
   "source": [
    "antbel_df['ages'].value_counts()"
   ]
  },
  {
   "cell_type": "code",
   "execution_count": 125,
   "id": "ab5c7217-7288-4631-9d65-c8f1b93b9ea2",
   "metadata": {},
   "outputs": [
    {
     "data": {
      "text/plain": [
       "ages\n",
       "20    12914\n",
       "15      536\n",
       "30      465\n",
       "35      371\n",
       "25      268\n",
       "40      220\n",
       "50      186\n",
       "45      140\n",
       "Name: count, dtype: int64"
      ]
     },
     "execution_count": 125,
     "metadata": {},
     "output_type": "execute_result"
    }
   ],
   "source": [
    "dub_df['ages'].value_counts()"
   ]
  },
  {
   "cell_type": "code",
   "execution_count": 126,
   "id": "6c58b8b7-6d4c-4694-acbe-4cc5f1aaada2",
   "metadata": {},
   "outputs": [
    {
     "data": {
      "text/plain": [
       "ages\n",
       "20    16698\n",
       "30     1064\n",
       "25      726\n",
       "40      554\n",
       "15      536\n",
       "35      468\n",
       "50      389\n",
       "55      235\n",
       "70      224\n",
       "60      185\n",
       "16      154\n",
       "45      140\n",
       "65      127\n",
       "80       94\n",
       "Name: count, dtype: int64"
      ]
     },
     "execution_count": 126,
     "metadata": {},
     "output_type": "execute_result"
    }
   ],
   "source": [
    "all_df['ages'].value_counts()"
   ]
  },
  {
   "cell_type": "code",
   "execution_count": 127,
   "id": "8f60d0da-dbad-4e2e-bbb4-f6e1ddd23323",
   "metadata": {},
   "outputs": [
    {
     "data": {
      "text/plain": [
       "21594"
      ]
     },
     "execution_count": 127,
     "metadata": {},
     "output_type": "execute_result"
    }
   ],
   "source": [
    "16698+1064+726+554+536+468+389+235+224+185+154+140+127+94"
   ]
  },
  {
   "cell_type": "code",
   "execution_count": 128,
   "id": "9dfd3bb8-59fb-477c-a359-1d22930d3be5",
   "metadata": {},
   "outputs": [
    {
     "data": {
      "text/plain": [
       "\"\\n# One-hot encoding: Put one column in for every value of the categorical variables\\n\\nall_df = pd.get_dummies(all_df, columns=['genders','ages'],prefix=[None,None])\\n\\n\""
      ]
     },
     "execution_count": 128,
     "metadata": {},
     "output_type": "execute_result"
    }
   ],
   "source": [
    "\"\"\"\n",
    "# One-hot encoding: Put one column in for every value of the categorical variables\n",
    "\n",
    "all_df = pd.get_dummies(all_df, columns=['genders','ages'],prefix=[None,None])\n",
    "\n",
    "\"\"\""
   ]
  },
  {
   "cell_type": "code",
   "execution_count": 129,
   "id": "e8f74281-b3eb-4696-98c1-39d43c3e2338",
   "metadata": {},
   "outputs": [],
   "source": [
    "#all_df.loc[:,80].value_counts()"
   ]
  },
  {
   "cell_type": "code",
   "execution_count": 130,
   "id": "bcddc458-eece-4b40-a073-52a4f0936688",
   "metadata": {},
   "outputs": [],
   "source": [
    "#all_df.iloc[0:4,-16:]"
   ]
  },
  {
   "cell_type": "code",
   "execution_count": null,
   "id": "4c6c80b0-865d-4d35-924b-eecb547a4ef6",
   "metadata": {},
   "outputs": [],
   "source": []
  },
  {
   "cell_type": "markdown",
   "id": "15cdbfb2-2404-42af-804a-53ccbae664f4",
   "metadata": {},
   "source": [
    "## Merge the samples with counties=ANT and BEL to give a common Antrim and Belfast dataset"
   ]
  },
  {
   "cell_type": "code",
   "execution_count": 131,
   "id": "b4830b54-e9df-482e-b392-bce723a43620",
   "metadata": {},
   "outputs": [],
   "source": [
    "counties=all_df['counties']"
   ]
  },
  {
   "cell_type": "code",
   "execution_count": 132,
   "id": "43143d36-abd8-4fc0-a85d-e6bc75fa39ba",
   "metadata": {},
   "outputs": [],
   "source": [
    "all_df['counties'] = all_df['counties'].replace({'ANT': 'ANTBEL', 'BEL': 'ANTBEL'})"
   ]
  },
  {
   "cell_type": "code",
   "execution_count": 133,
   "id": "527f9ca4-feb8-49e3-8024-0104576e370e",
   "metadata": {},
   "outputs": [
    {
     "data": {
      "text/plain": [
       "counties\n",
       "DUB       15100\n",
       "ANTBEL     6494\n",
       "Name: count, dtype: int64"
      ]
     },
     "execution_count": 133,
     "metadata": {},
     "output_type": "execute_result"
    }
   ],
   "source": [
    "all_df['counties'].value_counts()"
   ]
  },
  {
   "cell_type": "code",
   "execution_count": 134,
   "id": "161a5225-4f5c-4ebf-bf8f-9fe998efd1ea",
   "metadata": {},
   "outputs": [
    {
     "name": "stdout",
     "output_type": "stream",
     "text": [
      "(21594,)\n"
     ]
    }
   ],
   "source": [
    "print(all_df['counties'].shape)"
   ]
  },
  {
   "cell_type": "markdown",
   "id": "6a270fcc-eff8-495f-a76f-a349835cf430",
   "metadata": {},
   "source": [
    "## Replace counties with a binary value"
   ]
  },
  {
   "cell_type": "code",
   "execution_count": 135,
   "id": "58929736-56d9-40a7-af92-391539be82d4",
   "metadata": {},
   "outputs": [
    {
     "name": "stderr",
     "output_type": "stream",
     "text": [
      "C:\\Users\\GGMachines_Gaming\\AppData\\Local\\Temp\\ipykernel_4580\\3374583436.py:1: FutureWarning: Downcasting behavior in `replace` is deprecated and will be removed in a future version. To retain the old behavior, explicitly call `result.infer_objects(copy=False)`. To opt-in to the future behavior, set `pd.set_option('future.no_silent_downcasting', True)`\n",
      "  all_df['y'] = all_df['counties'].replace({'ANTBEL':1, 'DUB': 0})\n"
     ]
    }
   ],
   "source": [
    "all_df['y'] = all_df['counties'].replace({'ANTBEL':1, 'DUB': 0})"
   ]
  },
  {
   "cell_type": "code",
   "execution_count": 136,
   "id": "740abec7-2ee5-4eef-9584-649c6366ee2d",
   "metadata": {},
   "outputs": [
    {
     "data": {
      "text/plain": [
       "0        1\n",
       "1        1\n",
       "2        1\n",
       "3        1\n",
       "4        1\n",
       "        ..\n",
       "21589    0\n",
       "21590    0\n",
       "21591    0\n",
       "21592    0\n",
       "21593    0\n",
       "Name: y, Length: 21594, dtype: int64"
      ]
     },
     "execution_count": 136,
     "metadata": {},
     "output_type": "execute_result"
    }
   ],
   "source": [
    "all_df['y']"
   ]
  },
  {
   "cell_type": "code",
   "execution_count": 137,
   "id": "aaa28264-48cb-4cc0-b8c3-ed42dcd5df33",
   "metadata": {},
   "outputs": [
    {
     "data": {
      "text/plain": [
       "y\n",
       "0    15100\n",
       "1     6494\n",
       "Name: count, dtype: int64"
      ]
     },
     "execution_count": 137,
     "metadata": {},
     "output_type": "execute_result"
    }
   ],
   "source": [
    "all_df['y'].value_counts()"
   ]
  },
  {
   "cell_type": "markdown",
   "id": "42d0df3a-5270-49fc-9c65-58d427d4a178",
   "metadata": {},
   "source": [
    "## Split into train and test datasets - make sure speakers are not split between them"
   ]
  },
  {
   "cell_type": "code",
   "execution_count": 138,
   "id": "d2f1f41a-0c8f-49df-a89f-7393bab074c3",
   "metadata": {},
   "outputs": [
    {
     "name": "stdout",
     "output_type": "stream",
     "text": [
      "190\n"
     ]
    }
   ],
   "source": [
    "# Count the unique recording values, then shuffle the unique values\n",
    "unique_recordings = all_df['recording num'].unique()\n",
    "random.seed(1)\n",
    "np.random.shuffle(unique_recordings)  \n",
    "\n",
    "# Determine the split index\n",
    "split_index = int(len(unique_recordings) * TRAIN_TEST_SPLIT)\n",
    "print(split_index)"
   ]
  },
  {
   "cell_type": "code",
   "execution_count": 139,
   "id": "6376bde1-2d3a-47bd-b55c-1e06c6d1e96e",
   "metadata": {},
   "outputs": [
    {
     "data": {
      "text/plain": [
       "array([199, 44, 156, 165, 230, 64, 72, 29, 176, 58, 80, 185, 47, 122, 169,\n",
       "       146, 179, 195, 202, 211, 166, 188, 94, 95, 168, 184, 63, 160, 194,\n",
       "       142, 62, 14, 121, 136, 49, 189, 103, 10, 227, 139, 26, 16, 107, 6,\n",
       "       46, 201, 43, 234, 218, 205, 28, 39, 93, 3, 209, 206, 117, 137, 50,\n",
       "       32, 69, 119, 187, 33, 197, 219, 42, 27, 81, 163, 124, 22, 213, 123,\n",
       "       180, 36, 141, 85, 70, 170, 21, 34, 144, 109, 97, 83, 131, 235, 24,\n",
       "       183, 196, 60, 193, 53, 86, 88, 78, 112, 220, 87, 224, 216, 231,\n",
       "       192, 82, 67, 74, 149, 191, 76, 30, 5, 167, 90, 91, 140, 232, 48,\n",
       "       51, 99, 154, 222, 118, 178, 75, 223, 159, 113, 133, 8, 116, 134,\n",
       "       108, 135, 236, 200, 77, 143, 164, 228, 98, 55, 203, 171, 12, 162,\n",
       "       181, 210, 125, 214, 204, 65, 212, 114, 11, 13, 57, 37, 190, 106,\n",
       "       151, 73, 145, 110, 127, 15, 115, 174, 233, 40, 61, 129, 175, 172,\n",
       "       25, 161, 229, 68, 237, 31, 148, 157, 92, 66, 101, 147, 126, 186,\n",
       "       52, 56, 2, 182, 207, 105, 173, 155, 84, 132, 35, 89, 215, 153, 59,\n",
       "       1, 158, 79, 226, 20, 18, 71, 102, 198, 128, 38, 17, 54, 150, 221,\n",
       "       19, 100, 177, 4, 41, 130, 120, 9, 208, 138, 104, 152, 96, 217, 23,\n",
       "       225, 0, 45, 7, 111], dtype=object)"
      ]
     },
     "execution_count": 139,
     "metadata": {},
     "output_type": "execute_result"
    }
   ],
   "source": [
    "unique_recordings"
   ]
  },
  {
   "cell_type": "code",
   "execution_count": null,
   "id": "ce04e5c0-bb65-4274-8bd6-593f6de0e104",
   "metadata": {},
   "outputs": [],
   "source": [
    "'''\n",
    "unique _recordings=\n",
    "array([199, 44, 156, 165, 230, 64, 72, 29, 176, 58, 80, 185, 47, 122, 169,\n",
    "       146, 179, 195, 202, 211, 166, 188, 94, 95, 168, 184, 63, 160, 194,\n",
    "       142, 62, 14, 121, 136, 49, 189, 103, 10, 227, 139, 26, 16, 107, 6,\n",
    "       46, 201, 43, 234, 218, 205, 28, 39, 93, 3, 209, 206, 117, 137, 50,\n",
    "       32, 69, 119, 187, 33, 197, 219, 42, 27, 81, 163, 124, 22, 213, 123,\n",
    "       180, 36, 141, 85, 70, 170, 21, 34, 144, 109, 97, 83, 131, 235, 24,\n",
    "       183, 196, 60, 193, 53, 86, 88, 78, 112, 220, 87, 224, 216, 231,\n",
    "       192, 82, 67, 74, 149, 191, 76, 30, 5, 167, 90, 91, 140, 232, 48,\n",
    "       51, 99, 154, 222, 118, 178, 75, 223, 159, 113, 133, 8, 116, 134,\n",
    "       108, 135, 236, 200, 77, 143, 164, 228, 98, 55, 203, 171, 12, 162,\n",
    "       181, 210, 125, 214, 204, 65, 212, 114, 11, 13, 57, 37, 190, 106,\n",
    "       151, 73, 145, 110, 127, 15, 115, 174, 233, 40, 61, 129, 175, 172,\n",
    "       25, 161, 229, 68, 237, 31, 148, 157, 92, 66, 101, 147, 126, 186,\n",
    "       52, 56, 2, 182, 207, 105, 173, 155, 84, 132, 35, 89, 215, 153, 59,\n",
    "       1, 158, 79, 226, 20, 18, 71, 102, 198, 128, 38, 17, 54, 150, 221,\n",
    "       19, 100, 177, 4, 41, 130, 120, 9, 208, 138, 104, 152, 96, 217, 23,\n",
    "       225, 0, 45, 7, 111], \n",
    "       dtype=object)"
   ]
  },
  {
   "cell_type": "code",
   "execution_count": 140,
   "id": "5ccf9c21-226f-4cd5-923f-9d405c7f4e37",
   "metadata": {},
   "outputs": [],
   "source": [
    "# Split the unique values into two sets for train and test datasets WITH DIFFERENT SPEAKERS IN EACH\n",
    "recording_train = unique_recordings[:split_index]\n",
    "recording_test = unique_recordings[split_index:]"
   ]
  },
  {
   "cell_type": "code",
   "execution_count": 141,
   "id": "5adb60f0-98f0-41bf-b6bc-00103b4f35f7",
   "metadata": {},
   "outputs": [
    {
     "name": "stdout",
     "output_type": "stream",
     "text": [
      "[199 44 156 165 230 64 72 29 176 58 80 185 47 122 169 146 179 195 202 211\n",
      " 166 188 94 95 168 184 63 160 194 142 62 14 121 136 49 189 103 10 227 139\n",
      " 26 16 107 6 46 201 43 234 218 205 28 39 93 3 209 206 117 137 50 32 69 119\n",
      " 187 33 197 219 42 27 81 163 124 22 213 123 180 36 141 85 70 170 21 34 144\n",
      " 109 97 83 131 235 24 183 196 60 193 53 86 88 78 112 220 87 224 216 231\n",
      " 192 82 67 74 149 191 76 30 5 167 90 91 140 232 48 51 99 154 222 118 178\n",
      " 75 223 159 113 133 8 116 134 108 135 236 200 77 143 164 228 98 55 203 171\n",
      " 12 162 181 210 125 214 204 65 212 114 11 13 57 37 190 106 151 73 145 110\n",
      " 127 15 115 174 233 40 61 129 175 172 25 161 229 68 237 31 148 157 92 66\n",
      " 101 147 126 186 52 56]\n"
     ]
    }
   ],
   "source": [
    "print(recording_train) # TRAIN portion of the randomly shuffled dataset"
   ]
  },
  {
   "cell_type": "code",
   "execution_count": 142,
   "id": "d9030d4b-72ce-4d97-87ee-26174e874295",
   "metadata": {},
   "outputs": [
    {
     "name": "stdout",
     "output_type": "stream",
     "text": [
      "[2 182 207 105 173 155 84 132 35 89 215 153 59 1 158 79 226 20 18 71 102\n",
      " 198 128 38 17 54 150 221 19 100 177 4 41 130 120 9 208 138 104 152 96 217\n",
      " 23 225 0 45 7 111]\n"
     ]
    }
   ],
   "source": [
    "print(recording_test) # TEST portion of the randomly shuffled dataset"
   ]
  },
  {
   "cell_type": "code",
   "execution_count": 143,
   "id": "2d20026e-e291-45ad-9285-0c8de87ee3fe",
   "metadata": {},
   "outputs": [],
   "source": [
    "# Create two new DataFrames based on the split unique values\n",
    "train_df = all_df[all_df['recording num'].isin(recording_train)].reset_index(drop=True)\n"
   ]
  },
  {
   "cell_type": "code",
   "execution_count": 282,
   "id": "ce8c7043-9117-4ce2-b9cf-61ae58010c3a",
   "metadata": {},
   "outputs": [],
   "source": [
    "test_df = all_df[all_df['recording num'].isin(recording_test)].reset_index(drop=True)"
   ]
  },
  {
   "cell_type": "code",
   "execution_count": 144,
   "id": "5f603b30-c90b-4c7f-8603-48e905decd1a",
   "metadata": {},
   "outputs": [
    {
     "data": {
      "text/plain": [
       "(17211, 19)"
      ]
     },
     "execution_count": 144,
     "metadata": {},
     "output_type": "execute_result"
    }
   ],
   "source": [
    "train_df.shape"
   ]
  },
  {
   "cell_type": "code",
   "execution_count": 145,
   "id": "514c2991-a9b1-43f5-8680-b7a9a0f21e74",
   "metadata": {},
   "outputs": [
    {
     "data": {
      "text/plain": [
       "(4383, 19)"
      ]
     },
     "execution_count": 145,
     "metadata": {},
     "output_type": "execute_result"
    }
   ],
   "source": [
    "test_df.shape"
   ]
  },
  {
   "cell_type": "code",
   "execution_count": 146,
   "id": "d1db0b99-647e-4e01-a39e-9059e05b9671",
   "metadata": {},
   "outputs": [
    {
     "data": {
      "text/plain": [
       "Index(['filenames', 'names', 'counties', 'towns', 'urbanrural', 'size',\n",
       "       'genders', 'ages', 'dur', 'recording num', 'sample num',\n",
       "       'sample file name', 'sample', 'Ydb', 'sr', 'mfcc', 'mfcc_delta',\n",
       "       'mfcc_delta_2', 'y'],\n",
       "      dtype='object')"
      ]
     },
     "execution_count": 146,
     "metadata": {},
     "output_type": "execute_result"
    }
   ],
   "source": [
    "train_df.columns"
   ]
  },
  {
   "cell_type": "code",
   "execution_count": 147,
   "id": "505929cc-86f1-4d0c-92b8-7804a8450191",
   "metadata": {},
   "outputs": [
    {
     "data": {
      "text/plain": [
       "Index(['filenames', 'names', 'counties', 'towns', 'urbanrural', 'size',\n",
       "       'genders', 'ages', 'dur', 'recording num', 'sample num',\n",
       "       'sample file name', 'sample', 'Ydb', 'sr', 'mfcc', 'mfcc_delta',\n",
       "       'mfcc_delta_2', 'y'],\n",
       "      dtype='object')"
      ]
     },
     "execution_count": 147,
     "metadata": {},
     "output_type": "execute_result"
    }
   ],
   "source": [
    "test_df.columns"
   ]
  },
  {
   "cell_type": "markdown",
   "id": "316c253c-df19-47ec-9978-9da530a8335f",
   "metadata": {},
   "source": [
    "## Inspect MFCCx features"
   ]
  },
  {
   "cell_type": "code",
   "execution_count": 148,
   "id": "32ab21d2-9ee0-4e77-bf37-0fc22590f880",
   "metadata": {},
   "outputs": [
    {
     "data": {
      "text/plain": [
       "(20, 44)"
      ]
     },
     "execution_count": 148,
     "metadata": {},
     "output_type": "execute_result"
    }
   ],
   "source": [
    "# Each individual MFCC shape\n",
    "train_df['mfcc'][0].shape"
   ]
  },
  {
   "cell_type": "code",
   "execution_count": 149,
   "id": "1ef72c0f-0c15-4ee9-9acc-50d47156637c",
   "metadata": {},
   "outputs": [
    {
     "data": {
      "text/plain": [
       "(17211,)"
      ]
     },
     "execution_count": 149,
     "metadata": {},
     "output_type": "execute_result"
    }
   ],
   "source": [
    "# Full array of MFCC values\n",
    "train_df['mfcc'].shape"
   ]
  },
  {
   "cell_type": "code",
   "execution_count": 150,
   "id": "301d0bb9-2ffa-4e47-985f-2227dc456515",
   "metadata": {},
   "outputs": [],
   "source": [
    "X_train = np.stack((train_df['mfcc'],train_df['mfcc_delta'],train_df['mfcc_delta_2']),axis=-1)"
   ]
  },
  {
   "cell_type": "code",
   "execution_count": 151,
   "id": "8be2e87c-75cf-4c4c-ae56-6aede1997c82",
   "metadata": {},
   "outputs": [
    {
     "data": {
      "text/plain": [
       "(17211, 3)"
      ]
     },
     "execution_count": 151,
     "metadata": {},
     "output_type": "execute_result"
    }
   ],
   "source": [
    "X_train.shape"
   ]
  },
  {
   "cell_type": "code",
   "execution_count": 152,
   "id": "a60261e4-0f44-4a96-8e50-378842d6c4a1",
   "metadata": {},
   "outputs": [],
   "source": [
    "#X_train = np.stack((train_df['mfcc'],train_df['mfcc_delta'],train_df['mfcc_delta_2']),axis=-1)"
   ]
  },
  {
   "cell_type": "code",
   "execution_count": 153,
   "id": "65060eee-183e-4e8b-a9e9-c31299d21005",
   "metadata": {},
   "outputs": [
    {
     "data": {
      "text/plain": [
       "(17211,)"
      ]
     },
     "execution_count": 153,
     "metadata": {},
     "output_type": "execute_result"
    }
   ],
   "source": [
    "train_df['mfcc'].shape"
   ]
  },
  {
   "cell_type": "code",
   "execution_count": 154,
   "id": "59f8daa1-719c-428f-8372-993854fe7c4b",
   "metadata": {},
   "outputs": [
    {
     "data": {
      "text/plain": [
       "pandas.core.series.Series"
      ]
     },
     "execution_count": 154,
     "metadata": {},
     "output_type": "execute_result"
    }
   ],
   "source": [
    "type(train_df['mfcc'])"
   ]
  },
  {
   "cell_type": "code",
   "execution_count": 155,
   "id": "b2f59a7c-54af-4b6e-9ec2-3f7f41e81e29",
   "metadata": {},
   "outputs": [
    {
     "data": {
      "text/plain": [
       "numpy.ndarray"
      ]
     },
     "execution_count": 155,
     "metadata": {},
     "output_type": "execute_result"
    }
   ],
   "source": [
    "type(train_df['mfcc'][0])"
   ]
  },
  {
   "cell_type": "code",
   "execution_count": 156,
   "id": "cd165a0d-810a-4ab1-9d5f-b524dd3a5f76",
   "metadata": {},
   "outputs": [
    {
     "data": {
      "text/plain": [
       "(20, 44)"
      ]
     },
     "execution_count": 156,
     "metadata": {},
     "output_type": "execute_result"
    }
   ],
   "source": [
    "train_df['mfcc'][0].shape"
   ]
  },
  {
   "cell_type": "code",
   "execution_count": 157,
   "id": "78e7fdac-11d0-4b8b-9d78-a8cfd29098b1",
   "metadata": {},
   "outputs": [
    {
     "data": {
      "text/plain": [
       "0        [[-494.3632, -314.76587, -256.5209, -248.23921...\n",
       "1        [[-200.87267, -189.22813, -205.93425, -217.350...\n",
       "2        [[-269.9958, -209.71855, -199.9971, -192.51334...\n",
       "3        [[-319.19656, -307.64944, -314.54547, -295.997...\n",
       "4        [[-238.38216, -228.49149, -256.09305, -273.210...\n",
       "                               ...                        \n",
       "17206    [[-110.30995, -99.04926, -126.198555, -136.179...\n",
       "17207    [[-97.73651, -89.979546, -113.11529, -134.1764...\n",
       "17208    [[-239.09358, -160.47281, -144.84918, -154.863...\n",
       "17209    [[-87.451416, -108.45021, -148.85347, -161.430...\n",
       "17210    [[-170.16429, -178.88602, -222.11624, -225.288...\n",
       "Name: mfcc, Length: 17211, dtype: object"
      ]
     },
     "execution_count": 157,
     "metadata": {},
     "output_type": "execute_result"
    }
   ],
   "source": [
    "train_df['mfcc']"
   ]
  },
  {
   "cell_type": "code",
   "execution_count": 158,
   "id": "ddd8e4e3-0380-40e7-95ff-a00a36185f6b",
   "metadata": {},
   "outputs": [
    {
     "data": {
      "text/plain": [
       "array([-494.3632 , -314.76587, -256.5209 , -248.23921, -253.03188,\n",
       "       -255.51733, -248.05202, -232.95198, -219.96217, -142.84169,\n",
       "        -97.36846, -110.77999, -132.57796, -174.49683, -258.99118,\n",
       "       -296.77695, -227.69757, -172.99887, -191.70612, -218.03659,\n",
       "       -223.80177, -241.4747 , -248.62724, -224.09459, -206.40266,\n",
       "       -212.6678 , -253.71323, -299.12943, -224.64539, -194.39392,\n",
       "       -214.50746, -199.5038 , -175.75398, -197.1167 , -248.56822,\n",
       "       -264.3485 , -266.5907 , -286.43826, -294.3691 , -290.6586 ,\n",
       "       -294.62158, -269.237  , -165.28264, -153.55447], dtype=float32)"
      ]
     },
     "execution_count": 158,
     "metadata": {},
     "output_type": "execute_result"
    }
   ],
   "source": [
    "train_df['mfcc'][0][0]"
   ]
  },
  {
   "cell_type": "code",
   "execution_count": 159,
   "id": "b8171fe9-b747-4812-9d32-73a38ab4a562",
   "metadata": {},
   "outputs": [
    {
     "data": {
      "text/plain": [
       "numpy.ndarray"
      ]
     },
     "execution_count": 159,
     "metadata": {},
     "output_type": "execute_result"
    }
   ],
   "source": [
    "type(train_df['mfcc'][0][0])"
   ]
  },
  {
   "cell_type": "code",
   "execution_count": 160,
   "id": "b35757ee-914b-43ac-9cc0-d4719d500f60",
   "metadata": {},
   "outputs": [
    {
     "data": {
      "text/plain": [
       "(44,)"
      ]
     },
     "execution_count": 160,
     "metadata": {},
     "output_type": "execute_result"
    }
   ],
   "source": [
    "train_df['mfcc'][0][0].shape"
   ]
  },
  {
   "cell_type": "code",
   "execution_count": 161,
   "id": "8e6b5579-520a-46be-920b-181ab851ead5",
   "metadata": {},
   "outputs": [
    {
     "data": {
      "text/plain": [
       "(17211, 3)"
      ]
     },
     "execution_count": 161,
     "metadata": {},
     "output_type": "execute_result"
    }
   ],
   "source": [
    "X_train.shape"
   ]
  },
  {
   "cell_type": "code",
   "execution_count": 162,
   "id": "087fdfa6-b8b6-485e-8256-c3f11ca10fd2",
   "metadata": {},
   "outputs": [
    {
     "data": {
      "text/plain": [
       "(20, 44)"
      ]
     },
     "execution_count": 162,
     "metadata": {},
     "output_type": "execute_result"
    }
   ],
   "source": [
    "X_train[0][0].shape"
   ]
  },
  {
   "cell_type": "code",
   "execution_count": 163,
   "id": "bcb75c86-29a0-43b2-965a-8892c2a060ce",
   "metadata": {},
   "outputs": [],
   "source": [
    "X_test = np.stack((test_df['mfcc'],test_df['mfcc_delta'],test_df['mfcc_delta_2']),axis=-1)"
   ]
  },
  {
   "cell_type": "code",
   "execution_count": 164,
   "id": "ae2b427e-fa39-4429-8590-8aefdddc45e1",
   "metadata": {},
   "outputs": [],
   "source": [
    "#X_test = np.stack((test_df['mfcc'],test_df['mfcc_delta'],test_df['mfcc_delta_2']))"
   ]
  },
  {
   "cell_type": "code",
   "execution_count": 165,
   "id": "dc1a9ee5-4b38-446b-aac6-821773d9e53c",
   "metadata": {},
   "outputs": [
    {
     "data": {
      "text/plain": [
       "(4383, 3)"
      ]
     },
     "execution_count": 165,
     "metadata": {},
     "output_type": "execute_result"
    }
   ],
   "source": [
    "X_test.shape"
   ]
  },
  {
   "cell_type": "code",
   "execution_count": 166,
   "id": "a89bc577-2475-4a89-befd-c58f7a3e5a0d",
   "metadata": {},
   "outputs": [
    {
     "data": {
      "text/plain": [
       "(20, 44)"
      ]
     },
     "execution_count": 166,
     "metadata": {},
     "output_type": "execute_result"
    }
   ],
   "source": [
    "X_test[0][0].shape"
   ]
  },
  {
   "cell_type": "markdown",
   "id": "4f8c439a-184e-4398-9689-7578ea5bc530",
   "metadata": {},
   "source": [
    "## Reshape MFCC features"
   ]
  },
  {
   "cell_type": "code",
   "execution_count": 167,
   "id": "dc50c58d-d8a0-40ca-bca7-23c69fde3745",
   "metadata": {},
   "outputs": [],
   "source": [
    "def preprocess_features(feature: str ='mfcc', input: pd.DataFrame =train_df, output: pd.DataFrame ='X', ): \n",
    "    '''\n",
    "    preprocess_features(feature: str ='mfcc', input: pd.DataFrame =train_df, output: pd.DataFrame ='X',)\n",
    "    feature = numerical feature from dataset, usually 'mfcc', 'mfcc_delta', 'mfcc_delta_2'\n",
    "    input = source dataset, usually train_df or test_df\n",
    "    output = destination output dataframe\n",
    "    '''\n",
    "    flattened=[]\n",
    "    flattened_index=input.index\n",
    "    for j in input[feature]:\n",
    "        flattened.append(np.array(j.flatten()))\n",
    "    #print(len(flattened))\n",
    "    output = pd.Series(flattened, index=flattened_index)\n",
    "    output = np.stack(output.values)\n",
    "    return output\n"
   ]
  },
  {
   "cell_type": "code",
   "execution_count": 168,
   "id": "79c787f2-5cb7-458a-acd3-0dc7922e1e32",
   "metadata": {},
   "outputs": [
    {
     "name": "stdout",
     "output_type": "stream",
     "text": [
      "[[-4.94363190e+02 -3.14765869e+02 -2.56520905e+02 ... -1.60376263e+00\n",
      "  -3.11242390e+00 -1.56794906e+00]\n",
      " [-2.00872665e+02 -1.89228134e+02 -2.05934250e+02 ...  9.28223610e+00\n",
      "   8.04540825e+00  1.06966095e+01]\n",
      " [-2.69995789e+02 -2.09718552e+02 -1.99997101e+02 ... -3.92313886e+00\n",
      "  -7.42311621e+00 -5.33314514e+00]\n",
      " ...\n",
      " [-2.39093582e+02 -1.60472809e+02 -1.44849182e+02 ... -3.65712166e-01\n",
      "  -8.62231541e+00 -7.36551952e+00]\n",
      " [-8.74514160e+01 -1.08450211e+02 -1.48853470e+02 ... -3.99238062e+00\n",
      "  -2.72970438e+00 -2.40183997e+00]\n",
      " [-1.70164291e+02 -1.78886017e+02 -2.22116241e+02 ... -1.29232941e+01\n",
      "  -1.03022346e+01 -5.41623688e+00]]\n",
      "(17211, 880)\n",
      "<class 'numpy.ndarray'>\n"
     ]
    }
   ],
   "source": [
    "mfcc_train=preprocess_features('mfcc')\n",
    "print(mfcc_train)\n",
    "print(mfcc_train.shape)\n",
    "print(type(mfcc_train))"
   ]
  },
  {
   "cell_type": "code",
   "execution_count": 169,
   "id": "31030dd6-7e7c-41cd-9ba6-a3aeed8c3205",
   "metadata": {},
   "outputs": [
    {
     "name": "stdout",
     "output_type": "stream",
     "text": [
      "[[-452.64767   -411.43454   -391.5388    ...  -10.430422    -7.7031803\n",
      "     2.0929403]\n",
      " [-178.97302   -156.64561   -181.34474   ...    5.3141727    9.715349\n",
      "     8.232244 ]\n",
      " [-315.19617   -287.7445    -295.76566   ...    2.5518966    4.0287046\n",
      "     5.4730225]\n",
      " ...\n",
      " [-220.1493    -177.04103   -183.83517   ...   -4.240228    -5.7556987\n",
      "     1.8292282]\n",
      " [-347.27066   -262.6404    -208.97043   ...    7.470333     4.5664196\n",
      "     1.7955532]\n",
      " [-151.13069   -170.42526   -261.93442   ...  -11.026726    -7.1821594\n",
      "    -7.4268785]]\n",
      "(4383, 880)\n",
      "<class 'numpy.ndarray'>\n"
     ]
    }
   ],
   "source": [
    "mfcc_test=preprocess_features(feature='mfcc',input=test_df)\n",
    "print(mfcc_test)\n",
    "print(mfcc_test.shape)\n",
    "print(type(mfcc_test))"
   ]
  },
  {
   "cell_type": "code",
   "execution_count": 170,
   "id": "e6773e9a-b1b5-4d13-ae4e-fbf39da7106f",
   "metadata": {},
   "outputs": [
    {
     "data": {
      "text/plain": [
       "array([[22.54509   , 22.54509   , 22.54509   , ..., -0.12745161,\n",
       "        -0.12745161, -0.12745161],\n",
       "       [ 1.7263998 ,  1.7263998 ,  1.7263998 , ...,  1.8224183 ,\n",
       "         1.8224183 ,  1.8224183 ],\n",
       "       [ 7.1880474 ,  7.1880474 ,  7.1880474 , ..., -0.73991925,\n",
       "        -0.73991925, -0.73991925]], dtype=float32)"
      ]
     },
     "execution_count": 170,
     "metadata": {},
     "output_type": "execute_result"
    }
   ],
   "source": [
    "mfcc_delta_train=preprocess_features('mfcc_delta')\n",
    "mfcc_delta_train[0:3]"
   ]
  },
  {
   "cell_type": "code",
   "execution_count": 171,
   "id": "1a478dd8-dc1f-4df8-8dbe-6c582d14836d",
   "metadata": {},
   "outputs": [
    {
     "data": {
      "text/plain": [
       "array([[ 13.429796  ,  13.429796  ,  13.429796  , ...,  -1.9513919 ,\n",
       "         -1.9513919 ,  -1.9513919 ],\n",
       "       [-12.732409  , -12.732409  , -12.732409  , ...,  -0.13496141,\n",
       "         -0.13496141,  -0.13496141],\n",
       "       [-18.348593  , -18.348593  , -18.348593  , ...,   0.49230433,\n",
       "          0.49230433,   0.49230433]], dtype=float32)"
      ]
     },
     "execution_count": 171,
     "metadata": {},
     "output_type": "execute_result"
    }
   ],
   "source": [
    "mfcc_delta_test=preprocess_features(feature='mfcc_delta',input=test_df)\n",
    "mfcc_delta_test[0:3]"
   ]
  },
  {
   "cell_type": "code",
   "execution_count": 172,
   "id": "ac378901-1619-4702-b76a-12e11296e5f3",
   "metadata": {},
   "outputs": [
    {
     "data": {
      "text/plain": [
       "array([[-1.3363751e+01, -1.3363751e+01, -1.3363751e+01, ...,\n",
       "        -1.3258730e-04, -1.3258730e-04, -1.3258730e-04],\n",
       "       [ 8.4426136e+00,  8.4426136e+00,  8.4426136e+00, ...,\n",
       "        -4.2466238e-01, -4.2466238e-01, -4.2466238e-01],\n",
       "       [-7.4126158e+00, -7.4126158e+00, -7.4126158e+00, ...,\n",
       "        -1.4199364e+00, -1.4199364e+00, -1.4199364e+00]], dtype=float32)"
      ]
     },
     "execution_count": 172,
     "metadata": {},
     "output_type": "execute_result"
    }
   ],
   "source": [
    "mfcc_delta_2_train=preprocess_features('mfcc_delta_2')\n",
    "mfcc_delta_2_train[0:3]"
   ]
  },
  {
   "cell_type": "code",
   "execution_count": 173,
   "id": "07c23abe-59cf-4100-af1f-f51816e2a762",
   "metadata": {},
   "outputs": [
    {
     "data": {
      "text/plain": [
       "array([[-4.9557023 , -4.9557023 , -4.9557023 , ...,  0.5778711 ,\n",
       "         0.5778711 ,  0.5778711 ],\n",
       "       [-2.4780972 , -2.4780972 , -2.4780972 , ..., -0.39099583,\n",
       "        -0.39099583, -0.39099583],\n",
       "       [ 3.957236  ,  3.957236  ,  3.957236  , ...,  0.28142425,\n",
       "         0.28142425,  0.28142425]], dtype=float32)"
      ]
     },
     "execution_count": 173,
     "metadata": {},
     "output_type": "execute_result"
    }
   ],
   "source": [
    "mfcc_delta_2_test=preprocess_features(feature='mfcc_delta_2',input=test_df)\n",
    "mfcc_delta_2_test[0:3]"
   ]
  },
  {
   "cell_type": "code",
   "execution_count": 174,
   "id": "250222c5-bb4e-4587-b1f8-7b10ccd5b3c8",
   "metadata": {},
   "outputs": [
    {
     "data": {
      "text/plain": [
       "(17211, 880)"
      ]
     },
     "execution_count": 174,
     "metadata": {},
     "output_type": "execute_result"
    }
   ],
   "source": [
    "mfcc_delta_train.shape"
   ]
  },
  {
   "cell_type": "code",
   "execution_count": 175,
   "id": "2b8d6f05-f5eb-4591-bb68-98d041fb8a2d",
   "metadata": {},
   "outputs": [
    {
     "data": {
      "text/plain": [
       "(4383, 880)"
      ]
     },
     "execution_count": 175,
     "metadata": {},
     "output_type": "execute_result"
    }
   ],
   "source": [
    "mfcc_delta_test.shape"
   ]
  },
  {
   "cell_type": "code",
   "execution_count": 176,
   "id": "3444c894-5840-4125-a8ab-52d9f40f5cdb",
   "metadata": {},
   "outputs": [
    {
     "data": {
      "text/plain": [
       "21594"
      ]
     },
     "execution_count": 176,
     "metadata": {},
     "output_type": "execute_result"
    }
   ],
   "source": [
    "mfcc_delta_test.shape[0]+mfcc_delta_train.shape[0]"
   ]
  },
  {
   "cell_type": "code",
   "execution_count": 177,
   "id": "1ef09596-e37a-406c-a3ce-eafbc2423484",
   "metadata": {},
   "outputs": [
    {
     "data": {
      "text/plain": [
       "(17211, 3)"
      ]
     },
     "execution_count": 177,
     "metadata": {},
     "output_type": "execute_result"
    }
   ],
   "source": [
    "X_train.shape"
   ]
  },
  {
   "cell_type": "code",
   "execution_count": 178,
   "id": "401de680-d7f6-43a5-91d7-299d9fa27d56",
   "metadata": {},
   "outputs": [
    {
     "data": {
      "text/plain": [
       "(20, 44)"
      ]
     },
     "execution_count": 178,
     "metadata": {},
     "output_type": "execute_result"
    }
   ],
   "source": [
    "X_train[0][0].shape"
   ]
  },
  {
   "cell_type": "code",
   "execution_count": 179,
   "id": "0b904ddf-9a00-442a-b97e-b71c81b88738",
   "metadata": {},
   "outputs": [
    {
     "data": {
      "text/plain": [
       "(4383, 3)"
      ]
     },
     "execution_count": 179,
     "metadata": {},
     "output_type": "execute_result"
    }
   ],
   "source": [
    "X_test.shape"
   ]
  },
  {
   "cell_type": "code",
   "execution_count": null,
   "id": "7dc9fe1f-2ad4-44ab-b6ab-dcd0b031efa1",
   "metadata": {},
   "outputs": [],
   "source": [
    "#X_train, X_test = mfcc_train, mfcc_test"
   ]
  },
  {
   "cell_type": "code",
   "execution_count": null,
   "id": "1464bcc7-c102-4121-83a1-4e50dd4b8207",
   "metadata": {},
   "outputs": [],
   "source": [
    "#X_train=np.stack((mfcc_train, mfcc_delta_train, mfcc_delta_2_train), axis=-1)"
   ]
  },
  {
   "cell_type": "code",
   "execution_count": null,
   "id": "d2013cf4-8012-4a5d-a563-6ad11030fe9d",
   "metadata": {},
   "outputs": [],
   "source": [
    "#X_train=np.hstack((mfcc_train, mfcc_delta_train, mfcc_delta_2_train,X_genders_train))\n",
    "#X_train.shape"
   ]
  },
  {
   "cell_type": "code",
   "execution_count": null,
   "id": "96122d0b-c618-4072-9fae-86c015f17d65",
   "metadata": {},
   "outputs": [],
   "source": [
    "X_train=np.hstack((mfcc_train, mfcc_delta_train, mfcc_delta_2_train,X_genders_train,X_ages_train))\n",
    "X_train.shape"
   ]
  },
  {
   "cell_type": "code",
   "execution_count": null,
   "id": "7581cc84-0080-4f9d-ba3e-53fc88c64f56",
   "metadata": {},
   "outputs": [],
   "source": [
    "#X_test=np.stack((mfcc_test, mfcc_delta_2_test, mfcc_delta_2_test), axis=-1)"
   ]
  },
  {
   "cell_type": "code",
   "execution_count": null,
   "id": "b71316b1-aa5e-44e1-afe2-ec665409ef8b",
   "metadata": {},
   "outputs": [],
   "source": [
    "#X_test2=np.hstack((mfcc_test, mfcc_delta_2_test, mfcc_delta_2_test,X_genders_test))"
   ]
  },
  {
   "cell_type": "code",
   "execution_count": null,
   "id": "3c84d136-bb74-4fe8-bb63-3ad70bad7655",
   "metadata": {},
   "outputs": [],
   "source": [
    "#X_test2.shape"
   ]
  },
  {
   "cell_type": "code",
   "execution_count": null,
   "id": "a0ba7928-20d6-4fc0-aeb6-53995e9ccec9",
   "metadata": {},
   "outputs": [],
   "source": [
    "X_test=np.hstack((mfcc_test, mfcc_delta_2_test, mfcc_delta_2_test,X_genders_test,X_ages_test))"
   ]
  },
  {
   "cell_type": "code",
   "execution_count": null,
   "id": "6bc35842-489a-44c5-996f-95826aee88fe",
   "metadata": {},
   "outputs": [],
   "source": [
    "X_test.shape"
   ]
  },
  {
   "cell_type": "code",
   "execution_count": null,
   "id": "affdf663-8c55-4761-a6f9-a66e12e1a138",
   "metadata": {},
   "outputs": [],
   "source": [
    "# Check the total number of records in train and test is the same as in ANT and DUB dataframes\n",
    "X_train.shape[0]+X_test.shape[0]"
   ]
  },
  {
   "cell_type": "code",
   "execution_count": null,
   "id": "38183d34-024f-4426-a273-d2c627a7d557",
   "metadata": {},
   "outputs": [],
   "source": [
    "X_genders_test.value_counts()"
   ]
  },
  {
   "cell_type": "code",
   "execution_count": null,
   "id": "d03e3b40-8f21-46d3-9056-4130ff2df415",
   "metadata": {},
   "outputs": [],
   "source": [
    "X_test\n",
    "print(X_test.shape)"
   ]
  },
  {
   "cell_type": "code",
   "execution_count": null,
   "id": "6f1fb93e-5432-46c4-93b5-22964de23eb1",
   "metadata": {},
   "outputs": [],
   "source": [
    "X_train.shape"
   ]
  },
  {
   "cell_type": "code",
   "execution_count": null,
   "id": "3023d165-256d-4934-b984-62c3e7264bd8",
   "metadata": {},
   "outputs": [],
   "source": [
    "X_train[0:1]"
   ]
  },
  {
   "cell_type": "markdown",
   "id": "8860199f-394d-4605-8a8e-14f283a87f18",
   "metadata": {},
   "source": [
    "## Split output variable"
   ]
  },
  {
   "cell_type": "code",
   "execution_count": 181,
   "id": "4fd51d92-03eb-4539-8831-5c88ff4c9809",
   "metadata": {},
   "outputs": [],
   "source": [
    "y_train, y_test = train_df['y'], test_df['y'], "
   ]
  },
  {
   "cell_type": "code",
   "execution_count": 182,
   "id": "4063bfa1-ed96-442e-8444-d4094711569a",
   "metadata": {},
   "outputs": [
    {
     "name": "stdout",
     "output_type": "stream",
     "text": [
      "(17211,)\n"
     ]
    },
    {
     "data": {
      "text/plain": [
       "array([1, 1, 1, ..., 0, 0, 0], dtype=int64)"
      ]
     },
     "execution_count": 182,
     "metadata": {},
     "output_type": "execute_result"
    }
   ],
   "source": [
    "print(y_train.shape)\n",
    "y_train=np.array(y_train)\n",
    "y_train"
   ]
  },
  {
   "cell_type": "code",
   "execution_count": 183,
   "id": "3f2851ac-efb5-4870-af68-12754a721c3f",
   "metadata": {},
   "outputs": [
    {
     "name": "stdout",
     "output_type": "stream",
     "text": [
      "(4383,)\n"
     ]
    }
   ],
   "source": [
    "print(y_test.shape)\n",
    "y_test=np.array(y_test)"
   ]
  },
  {
   "cell_type": "markdown",
   "id": "35f33ca9-f06c-4446-860a-2cf209d13c1a",
   "metadata": {},
   "source": [
    "## Compute class weights"
   ]
  },
  {
   "cell_type": "code",
   "execution_count": 184,
   "id": "8fb950c5-491c-45c0-a537-efc61917bec9",
   "metadata": {},
   "outputs": [
    {
     "name": "stdout",
     "output_type": "stream",
     "text": [
      "Class Weights: {0: 0.7345710627400768, 1: 1.5657751091703056}\n"
     ]
    }
   ],
   "source": [
    "class_weights = compute_class_weight('balanced', classes=np.unique(y_train), y=y_train)\n",
    "class_weights = {i : class_weights[i] for i in range(len(class_weights))}\n",
    "print(\"Class Weights:\", class_weights)"
   ]
  },
  {
   "cell_type": "code",
   "execution_count": 122,
   "id": "15f52bd1-7f16-49bf-94ba-41d2243f06ef",
   "metadata": {},
   "outputs": [],
   "source": [
    "#scaler = StandardScaler()\n",
    "#X_train_scaled  = scaler.fit_transform(X_train)\n",
    "#X_test_scaled = scaler.transform(X_test)"
   ]
  },
  {
   "cell_type": "code",
   "execution_count": 185,
   "id": "440f2d65-0c38-4a8c-83d1-692f296bb5b6",
   "metadata": {},
   "outputs": [
    {
     "name": "stdout",
     "output_type": "stream",
     "text": [
      "ANTBEL share = 31.93%\n",
      "DUB share = 68.07%\n"
     ]
    }
   ],
   "source": [
    "ANTBEL_share=(y_train.sum()/y_train.shape[0])\n",
    "DUB_share=1-ANTBEL_share\n",
    "print(\"ANTBEL share = {:.2%}\".format(ANTBEL_share))\n",
    "print(\"DUB share = {:.2%}\".format(DUB_share))"
   ]
  },
  {
   "cell_type": "code",
   "execution_count": 186,
   "id": "3cb5c155-bbc0-4154-ace1-a21682e84628",
   "metadata": {},
   "outputs": [],
   "source": [
    "#input_shape=(880,3) # MFCCs stacked vertically\n",
    "#input_shape=(2642,) # MFCCs stacked horizontally alongside gender one-hot variables\n",
    "\n",
    "input_shape=(2655,) # MFCCs stacked horizontally alongside gender and age one-hot variables\n"
   ]
  },
  {
   "cell_type": "markdown",
   "id": "2491f27c-703d-4019-8ca9-7088d1b53607",
   "metadata": {},
   "source": [
    "## Reshape data for the CNN model"
   ]
  },
  {
   "cell_type": "code",
   "execution_count": 187,
   "id": "7955ec4b-eeb8-4c34-af96-64efe42ae229",
   "metadata": {},
   "outputs": [],
   "source": [
    "X_train = np.array(train_df['mfcc'].tolist())"
   ]
  },
  {
   "cell_type": "code",
   "execution_count": 188,
   "id": "a6987b3b-1ec0-4625-b75d-c1ff13c26515",
   "metadata": {},
   "outputs": [],
   "source": [
    "mfcc_data = np.array(train_df['mfcc'].tolist())\n",
    "mfcc_delta_data = np.array(train_df['mfcc_delta'].tolist())\n",
    "mfcc_delta_2_data = np.array(train_df['mfcc_delta_2'].tolist())"
   ]
  },
  {
   "cell_type": "code",
   "execution_count": 189,
   "id": "7ec98800-2631-4ccd-a5db-3b8bcc3397d1",
   "metadata": {},
   "outputs": [
    {
     "name": "stdout",
     "output_type": "stream",
     "text": [
      "(17211, 20, 44, 3)\n"
     ]
    }
   ],
   "source": [
    "X_train = np.stack((mfcc_data, mfcc_delta_data, mfcc_delta_2_data), axis=-1)\n",
    "\n",
    "print(X_train.shape)  # (17249, 20, 44, 3)"
   ]
  },
  {
   "cell_type": "code",
   "execution_count": 190,
   "id": "93f5c498-8148-4c16-bc74-7fb18b5985d4",
   "metadata": {},
   "outputs": [],
   "source": [
    "mfcc_data = np.array(test_df['mfcc'].tolist())\n",
    "mfcc_delta_data = np.array(test_df['mfcc_delta'].tolist())\n",
    "mfcc_delta_2_data = np.array(test_df['mfcc_delta_2'].tolist())"
   ]
  },
  {
   "cell_type": "code",
   "execution_count": 191,
   "id": "4bd93a1f-d33f-4503-a8f0-6f07129fb7a8",
   "metadata": {},
   "outputs": [
    {
     "name": "stdout",
     "output_type": "stream",
     "text": [
      "(4383, 20, 44, 3)\n"
     ]
    }
   ],
   "source": [
    "X_test = np.stack((mfcc_data, mfcc_delta_data, mfcc_delta_2_data), axis=-1)\n",
    "\n",
    "print(X_test.shape)  # (4345, 20, 44, 3)"
   ]
  },
  {
   "cell_type": "code",
   "execution_count": 247,
   "id": "958b7161-be22-43fa-ba22-39a0532e8f08",
   "metadata": {},
   "outputs": [
    {
     "data": {
      "text/plain": [
       "2640"
      ]
     },
     "execution_count": 247,
     "metadata": {},
     "output_type": "execute_result"
    }
   ],
   "source": [
    "20 * 44 * 3"
   ]
  },
  {
   "cell_type": "code",
   "execution_count": 249,
   "id": "0118f31d-c6d5-4f17-ae9e-d797af225643",
   "metadata": {},
   "outputs": [
    {
     "data": {
      "text/plain": [
       "(17211, 2640)"
      ]
     },
     "execution_count": 249,
     "metadata": {},
     "output_type": "execute_result"
    }
   ],
   "source": []
  },
  {
   "cell_type": "code",
   "execution_count": 255,
   "id": "0a6abc56-7072-46bd-a239-abc2537d0a69",
   "metadata": {},
   "outputs": [
    {
     "data": {
      "text/plain": [
       "Index(['filenames', 'names', 'counties', 'towns', 'urbanrural', 'size',\n",
       "       'genders', 'ages', 'dur', 'recording num', 'sample num',\n",
       "       'sample file name', 'sample', 'Ydb', 'sr', 'mfcc', 'mfcc_delta',\n",
       "       'mfcc_delta_2', 'y'],\n",
       "      dtype='object')"
      ]
     },
     "execution_count": 255,
     "metadata": {},
     "output_type": "execute_result"
    }
   ],
   "source": [
    "train_df.columns"
   ]
  },
  {
   "cell_type": "code",
   "execution_count": 192,
   "id": "f8ed5ff5-ea42-47e7-b85e-96bac86b1457",
   "metadata": {},
   "outputs": [],
   "source": [
    "#input_shape = (20, 44, 1) one MFCC only\n",
    "\n",
    "input_shape = (20, 44, 3) #3 MFCC variables only\n",
    "\n",
    "#input_shape=(2640,1)"
   ]
  },
  {
   "cell_type": "code",
   "execution_count": 193,
   "id": "1dc32b93-d20c-4325-b08f-27fb54778fb8",
   "metadata": {},
   "outputs": [
    {
     "data": {
      "text/plain": [
       "2640"
      ]
     },
     "execution_count": 193,
     "metadata": {},
     "output_type": "execute_result"
    }
   ],
   "source": [
    "20*44*3"
   ]
  },
  {
   "cell_type": "code",
   "execution_count": 194,
   "id": "8712cc20-b7e1-483f-9230-1d69122a862c",
   "metadata": {},
   "outputs": [],
   "source": [
    "from tensorflow.keras.models import Sequential\n",
    "from tensorflow.keras.layers import Conv2D, MaxPooling2D, Flatten, Dense, BatchNormalization, Input"
   ]
  },
  {
   "cell_type": "code",
   "execution_count": 1,
   "id": "ca537e07-ecbb-42f7-8f6d-fbc1fa7d70bf",
   "metadata": {},
   "outputs": [
    {
     "data": {
      "text/plain": [
       "\"\\nmodel = tf.keras.models.Sequential([\\n    \\n    #tf.keras.layers.LayerNormalization(input_shape=input_shape), # added 0204\\n    \\n    tf.keras.layers.Conv2D(32, (3, 3), activation='relu', input_shape=input_shape),\\n\\n    tf.keras.layers.MaxPooling2D((2, 2)),\\n    tf.keras.layers.Conv2D(64, (3, 3), activation='relu'),\\n    \\n    tf.keras.layers.MaxPooling2D((2, 2)),\\n    tf.keras.layers.Conv2D(128, (3, 3), activation='relu'),\\n    \\n    tf.keras.layers.Flatten(),\\n    tf.keras.layers.Dense(128, activation='relu'),\\n    tf.keras.layers.Dense(1, activation='sigmoid')\\n    ])\\n\""
      ]
     },
     "execution_count": 1,
     "metadata": {},
     "output_type": "execute_result"
    }
   ],
   "source": [
    "'''\n",
    "model = tf.keras.models.Sequential([\n",
    "    \n",
    "    #tf.keras.layers.LayerNormalization(input_shape=input_shape), # added 0204\n",
    "    \n",
    "    tf.keras.layers.Conv2D(32, (3, 3), activation='relu', input_shape=input_shape),\n",
    "\n",
    "    tf.keras.layers.MaxPooling2D((2, 2)),\n",
    "    tf.keras.layers.Conv2D(64, (3, 3), activation='relu'),\n",
    "    \n",
    "    tf.keras.layers.MaxPooling2D((2, 2)),\n",
    "    tf.keras.layers.Conv2D(128, (3, 3), activation='relu'),\n",
    "    \n",
    "    tf.keras.layers.Flatten(),\n",
    "    tf.keras.layers.Dense(128, activation='relu'),\n",
    "    tf.keras.layers.Dense(1, activation='sigmoid')\n",
    "    ])\n",
    "'''"
   ]
  },
  {
   "cell_type": "code",
   "execution_count": 243,
   "id": "93060ee1-421e-4aa6-ac79-70559b00b8ce",
   "metadata": {},
   "outputs": [],
   "source": [
    "# Using declared Input() layer \n",
    "model2 = tf.keras.models.Sequential([\n",
    "    \n",
    "    #tf.keras.layers.LayerNormalization(input_shape=input_shape), # added 0204\n",
    "\n",
    "    tf.keras.layers.Input(shape=(20, 44, 3), name='mfcc'),\n",
    "    \n",
    "    tf.keras.layers.Conv2D(32, (3, 3), activation='relu'),\n",
    "    BatchNormalization(),\n",
    "    tf.keras.layers.MaxPooling2D((2, 2)),\n",
    "    \n",
    "    tf.keras.layers.Conv2D(64, (3, 3), activation='relu'),\n",
    "    BatchNormalization(),\n",
    "    tf.keras.layers.MaxPooling2D((2, 2)),\n",
    "    \n",
    "    tf.keras.layers.Conv2D(128, (3, 3), activation='relu'),\n",
    "    \n",
    "    tf.keras.layers.Flatten(),\n",
    "    tf.keras.layers.Dense(128, activation='relu'),\n",
    "    tf.keras.layers.Dense(1, activation='sigmoid')\n",
    "    ])\n"
   ]
  },
  {
   "cell_type": "code",
   "execution_count": 212,
   "id": "9956deac-f91b-4ae3-9cea-6ce1422a2324",
   "metadata": {},
   "outputs": [
    {
     "name": "stdout",
     "output_type": "stream",
     "text": [
      "(17211, 20, 44, 3)\n",
      "(17211,)\n"
     ]
    }
   ],
   "source": [
    "print(X_train.shape)\n",
    "print(y_train.shape)"
   ]
  },
  {
   "cell_type": "code",
   "execution_count": 244,
   "id": "f44732fc-35c3-4f56-9b9c-6262b65cfc81",
   "metadata": {},
   "outputs": [],
   "source": [
    "model2.compile(optimizer=tf.keras.optimizers.Adam(learning_rate=0.0001),loss='binary_crossentropy', metrics=['accuracy'])"
   ]
  },
  {
   "cell_type": "code",
   "execution_count": 245,
   "id": "757fd8d7-1313-4268-a93f-0e7904499528",
   "metadata": {
    "scrolled": true
   },
   "outputs": [
    {
     "name": "stdout",
     "output_type": "stream",
     "text": [
      "Epoch 1/20\n",
      "538/538 - 3s - 6ms/step - accuracy: 0.8029 - loss: 0.4087 - val_accuracy: 0.8709 - val_loss: 0.2820\n",
      "Epoch 2/20\n",
      "538/538 - 2s - 4ms/step - accuracy: 0.8647 - loss: 0.2990 - val_accuracy: 0.9055 - val_loss: 0.2184\n",
      "Epoch 3/20\n",
      "538/538 - 2s - 4ms/step - accuracy: 0.8917 - loss: 0.2467 - val_accuracy: 0.9227 - val_loss: 0.1915\n",
      "Epoch 4/20\n",
      "538/538 - 2s - 4ms/step - accuracy: 0.9101 - loss: 0.2048 - val_accuracy: 0.8996 - val_loss: 0.2576\n",
      "Epoch 5/20\n",
      "538/538 - 2s - 4ms/step - accuracy: 0.9278 - loss: 0.1780 - val_accuracy: 0.9065 - val_loss: 0.2376\n",
      "Epoch 6/20\n",
      "538/538 - 2s - 5ms/step - accuracy: 0.9391 - loss: 0.1508 - val_accuracy: 0.9183 - val_loss: 0.2001\n",
      "Epoch 7/20\n",
      "538/538 - 2s - 4ms/step - accuracy: 0.9500 - loss: 0.1264 - val_accuracy: 0.9149 - val_loss: 0.2096\n",
      "Epoch 8/20\n",
      "538/538 - 2s - 4ms/step - accuracy: 0.9540 - loss: 0.1143 - val_accuracy: 0.9065 - val_loss: 0.2447\n",
      "Epoch 9/20\n",
      "538/538 - 2s - 4ms/step - accuracy: 0.9634 - loss: 0.0942 - val_accuracy: 0.9163 - val_loss: 0.2351\n",
      "Epoch 10/20\n",
      "538/538 - 2s - 4ms/step - accuracy: 0.9715 - loss: 0.0778 - val_accuracy: 0.9188 - val_loss: 0.2206\n",
      "Epoch 11/20\n",
      "538/538 - 2s - 4ms/step - accuracy: 0.9800 - loss: 0.0596 - val_accuracy: 0.9195 - val_loss: 0.2129\n",
      "Epoch 12/20\n",
      "538/538 - 2s - 4ms/step - accuracy: 0.9827 - loss: 0.0524 - val_accuracy: 0.9124 - val_loss: 0.2732\n",
      "Epoch 13/20\n",
      "538/538 - 2s - 4ms/step - accuracy: 0.9865 - loss: 0.0418 - val_accuracy: 0.9115 - val_loss: 0.2705\n",
      "Epoch 14/20\n",
      "538/538 - 2s - 4ms/step - accuracy: 0.9898 - loss: 0.0338 - val_accuracy: 0.9128 - val_loss: 0.2929\n",
      "Epoch 15/20\n",
      "538/538 - 2s - 4ms/step - accuracy: 0.9927 - loss: 0.0273 - val_accuracy: 0.9147 - val_loss: 0.2931\n",
      "Epoch 16/20\n",
      "538/538 - 2s - 4ms/step - accuracy: 0.9948 - loss: 0.0209 - val_accuracy: 0.9176 - val_loss: 0.2995\n",
      "Epoch 17/20\n",
      "538/538 - 2s - 4ms/step - accuracy: 0.9914 - loss: 0.0244 - val_accuracy: 0.9192 - val_loss: 0.2776\n",
      "Epoch 18/20\n",
      "538/538 - 2s - 4ms/step - accuracy: 0.9961 - loss: 0.0174 - val_accuracy: 0.9147 - val_loss: 0.3118\n",
      "Epoch 19/20\n",
      "538/538 - 2s - 4ms/step - accuracy: 0.9964 - loss: 0.0151 - val_accuracy: 0.9110 - val_loss: 0.3401\n",
      "Epoch 20/20\n",
      "538/538 - 2s - 4ms/step - accuracy: 0.9959 - loss: 0.0150 - val_accuracy: 0.9154 - val_loss: 0.3560\n"
     ]
    }
   ],
   "source": [
    "history=model2.fit(X_train, y_train, epochs=EPOCHS, batch_size=BATCH_SIZE, class_weight=class_weights, verbose=2, validation_data=(X_test, y_test))"
   ]
  },
  {
   "cell_type": "code",
   "execution_count": 215,
   "id": "b0ed4fad-fcf5-4ced-aefb-9f6c8ecb010a",
   "metadata": {},
   "outputs": [
    {
     "name": "stdout",
     "output_type": "stream",
     "text": [
      "(17211, 20, 44, 3)\n",
      "(4383, 20, 44, 3)\n",
      "(17211,)\n",
      "(4383,)\n"
     ]
    }
   ],
   "source": [
    "print(X_train.shape)\n",
    "print(X_test.shape)\n",
    "print(y_train.shape)\n",
    "print(y_test.shape)"
   ]
  },
  {
   "cell_type": "code",
   "execution_count": 216,
   "id": "e15e96eb-983e-491c-9269-bfb744cfb365",
   "metadata": {},
   "outputs": [
    {
     "data": {
      "text/html": [
       "<pre style=\"white-space:pre;overflow-x:auto;line-height:normal;font-family:Menlo,'DejaVu Sans Mono',consolas,'Courier New',monospace\"><span style=\"font-weight: bold\">Model: \"sequential_3\"</span>\n",
       "</pre>\n"
      ],
      "text/plain": [
       "\u001b[1mModel: \"sequential_3\"\u001b[0m\n"
      ]
     },
     "metadata": {},
     "output_type": "display_data"
    },
    {
     "data": {
      "text/html": [
       "<pre style=\"white-space:pre;overflow-x:auto;line-height:normal;font-family:Menlo,'DejaVu Sans Mono',consolas,'Courier New',monospace\">┏━━━━━━━━━━━━━━━━━━━━━━━━━━━━━━━━━┳━━━━━━━━━━━━━━━━━━━━━━━━┳━━━━━━━━━━━━━━━┓\n",
       "┃<span style=\"font-weight: bold\"> Layer (type)                    </span>┃<span style=\"font-weight: bold\"> Output Shape           </span>┃<span style=\"font-weight: bold\">       Param # </span>┃\n",
       "┡━━━━━━━━━━━━━━━━━━━━━━━━━━━━━━━━━╇━━━━━━━━━━━━━━━━━━━━━━━━╇━━━━━━━━━━━━━━━┩\n",
       "│ conv2d_9 (<span style=\"color: #0087ff; text-decoration-color: #0087ff\">Conv2D</span>)               │ (<span style=\"color: #00d7ff; text-decoration-color: #00d7ff\">None</span>, <span style=\"color: #00af00; text-decoration-color: #00af00\">18</span>, <span style=\"color: #00af00; text-decoration-color: #00af00\">42</span>, <span style=\"color: #00af00; text-decoration-color: #00af00\">32</span>)     │           <span style=\"color: #00af00; text-decoration-color: #00af00\">896</span> │\n",
       "├─────────────────────────────────┼────────────────────────┼───────────────┤\n",
       "│ batch_normalization_4           │ (<span style=\"color: #00d7ff; text-decoration-color: #00d7ff\">None</span>, <span style=\"color: #00af00; text-decoration-color: #00af00\">18</span>, <span style=\"color: #00af00; text-decoration-color: #00af00\">42</span>, <span style=\"color: #00af00; text-decoration-color: #00af00\">32</span>)     │           <span style=\"color: #00af00; text-decoration-color: #00af00\">128</span> │\n",
       "│ (<span style=\"color: #0087ff; text-decoration-color: #0087ff\">BatchNormalization</span>)            │                        │               │\n",
       "├─────────────────────────────────┼────────────────────────┼───────────────┤\n",
       "│ max_pooling2d_6 (<span style=\"color: #0087ff; text-decoration-color: #0087ff\">MaxPooling2D</span>)  │ (<span style=\"color: #00d7ff; text-decoration-color: #00d7ff\">None</span>, <span style=\"color: #00af00; text-decoration-color: #00af00\">9</span>, <span style=\"color: #00af00; text-decoration-color: #00af00\">21</span>, <span style=\"color: #00af00; text-decoration-color: #00af00\">32</span>)      │             <span style=\"color: #00af00; text-decoration-color: #00af00\">0</span> │\n",
       "├─────────────────────────────────┼────────────────────────┼───────────────┤\n",
       "│ conv2d_10 (<span style=\"color: #0087ff; text-decoration-color: #0087ff\">Conv2D</span>)              │ (<span style=\"color: #00d7ff; text-decoration-color: #00d7ff\">None</span>, <span style=\"color: #00af00; text-decoration-color: #00af00\">7</span>, <span style=\"color: #00af00; text-decoration-color: #00af00\">19</span>, <span style=\"color: #00af00; text-decoration-color: #00af00\">64</span>)      │        <span style=\"color: #00af00; text-decoration-color: #00af00\">18,496</span> │\n",
       "├─────────────────────────────────┼────────────────────────┼───────────────┤\n",
       "│ batch_normalization_5           │ (<span style=\"color: #00d7ff; text-decoration-color: #00d7ff\">None</span>, <span style=\"color: #00af00; text-decoration-color: #00af00\">7</span>, <span style=\"color: #00af00; text-decoration-color: #00af00\">19</span>, <span style=\"color: #00af00; text-decoration-color: #00af00\">64</span>)      │           <span style=\"color: #00af00; text-decoration-color: #00af00\">256</span> │\n",
       "│ (<span style=\"color: #0087ff; text-decoration-color: #0087ff\">BatchNormalization</span>)            │                        │               │\n",
       "├─────────────────────────────────┼────────────────────────┼───────────────┤\n",
       "│ max_pooling2d_7 (<span style=\"color: #0087ff; text-decoration-color: #0087ff\">MaxPooling2D</span>)  │ (<span style=\"color: #00d7ff; text-decoration-color: #00d7ff\">None</span>, <span style=\"color: #00af00; text-decoration-color: #00af00\">3</span>, <span style=\"color: #00af00; text-decoration-color: #00af00\">9</span>, <span style=\"color: #00af00; text-decoration-color: #00af00\">64</span>)       │             <span style=\"color: #00af00; text-decoration-color: #00af00\">0</span> │\n",
       "├─────────────────────────────────┼────────────────────────┼───────────────┤\n",
       "│ conv2d_11 (<span style=\"color: #0087ff; text-decoration-color: #0087ff\">Conv2D</span>)              │ (<span style=\"color: #00d7ff; text-decoration-color: #00d7ff\">None</span>, <span style=\"color: #00af00; text-decoration-color: #00af00\">1</span>, <span style=\"color: #00af00; text-decoration-color: #00af00\">7</span>, <span style=\"color: #00af00; text-decoration-color: #00af00\">128</span>)      │        <span style=\"color: #00af00; text-decoration-color: #00af00\">73,856</span> │\n",
       "├─────────────────────────────────┼────────────────────────┼───────────────┤\n",
       "│ flatten_3 (<span style=\"color: #0087ff; text-decoration-color: #0087ff\">Flatten</span>)             │ (<span style=\"color: #00d7ff; text-decoration-color: #00d7ff\">None</span>, <span style=\"color: #00af00; text-decoration-color: #00af00\">896</span>)            │             <span style=\"color: #00af00; text-decoration-color: #00af00\">0</span> │\n",
       "├─────────────────────────────────┼────────────────────────┼───────────────┤\n",
       "│ dense_6 (<span style=\"color: #0087ff; text-decoration-color: #0087ff\">Dense</span>)                 │ (<span style=\"color: #00d7ff; text-decoration-color: #00d7ff\">None</span>, <span style=\"color: #00af00; text-decoration-color: #00af00\">128</span>)            │       <span style=\"color: #00af00; text-decoration-color: #00af00\">114,816</span> │\n",
       "├─────────────────────────────────┼────────────────────────┼───────────────┤\n",
       "│ dense_7 (<span style=\"color: #0087ff; text-decoration-color: #0087ff\">Dense</span>)                 │ (<span style=\"color: #00d7ff; text-decoration-color: #00d7ff\">None</span>, <span style=\"color: #00af00; text-decoration-color: #00af00\">1</span>)              │           <span style=\"color: #00af00; text-decoration-color: #00af00\">129</span> │\n",
       "└─────────────────────────────────┴────────────────────────┴───────────────┘\n",
       "</pre>\n"
      ],
      "text/plain": [
       "┏━━━━━━━━━━━━━━━━━━━━━━━━━━━━━━━━━┳━━━━━━━━━━━━━━━━━━━━━━━━┳━━━━━━━━━━━━━━━┓\n",
       "┃\u001b[1m \u001b[0m\u001b[1mLayer (type)                   \u001b[0m\u001b[1m \u001b[0m┃\u001b[1m \u001b[0m\u001b[1mOutput Shape          \u001b[0m\u001b[1m \u001b[0m┃\u001b[1m \u001b[0m\u001b[1m      Param #\u001b[0m\u001b[1m \u001b[0m┃\n",
       "┡━━━━━━━━━━━━━━━━━━━━━━━━━━━━━━━━━╇━━━━━━━━━━━━━━━━━━━━━━━━╇━━━━━━━━━━━━━━━┩\n",
       "│ conv2d_9 (\u001b[38;5;33mConv2D\u001b[0m)               │ (\u001b[38;5;45mNone\u001b[0m, \u001b[38;5;34m18\u001b[0m, \u001b[38;5;34m42\u001b[0m, \u001b[38;5;34m32\u001b[0m)     │           \u001b[38;5;34m896\u001b[0m │\n",
       "├─────────────────────────────────┼────────────────────────┼───────────────┤\n",
       "│ batch_normalization_4           │ (\u001b[38;5;45mNone\u001b[0m, \u001b[38;5;34m18\u001b[0m, \u001b[38;5;34m42\u001b[0m, \u001b[38;5;34m32\u001b[0m)     │           \u001b[38;5;34m128\u001b[0m │\n",
       "│ (\u001b[38;5;33mBatchNormalization\u001b[0m)            │                        │               │\n",
       "├─────────────────────────────────┼────────────────────────┼───────────────┤\n",
       "│ max_pooling2d_6 (\u001b[38;5;33mMaxPooling2D\u001b[0m)  │ (\u001b[38;5;45mNone\u001b[0m, \u001b[38;5;34m9\u001b[0m, \u001b[38;5;34m21\u001b[0m, \u001b[38;5;34m32\u001b[0m)      │             \u001b[38;5;34m0\u001b[0m │\n",
       "├─────────────────────────────────┼────────────────────────┼───────────────┤\n",
       "│ conv2d_10 (\u001b[38;5;33mConv2D\u001b[0m)              │ (\u001b[38;5;45mNone\u001b[0m, \u001b[38;5;34m7\u001b[0m, \u001b[38;5;34m19\u001b[0m, \u001b[38;5;34m64\u001b[0m)      │        \u001b[38;5;34m18,496\u001b[0m │\n",
       "├─────────────────────────────────┼────────────────────────┼───────────────┤\n",
       "│ batch_normalization_5           │ (\u001b[38;5;45mNone\u001b[0m, \u001b[38;5;34m7\u001b[0m, \u001b[38;5;34m19\u001b[0m, \u001b[38;5;34m64\u001b[0m)      │           \u001b[38;5;34m256\u001b[0m │\n",
       "│ (\u001b[38;5;33mBatchNormalization\u001b[0m)            │                        │               │\n",
       "├─────────────────────────────────┼────────────────────────┼───────────────┤\n",
       "│ max_pooling2d_7 (\u001b[38;5;33mMaxPooling2D\u001b[0m)  │ (\u001b[38;5;45mNone\u001b[0m, \u001b[38;5;34m3\u001b[0m, \u001b[38;5;34m9\u001b[0m, \u001b[38;5;34m64\u001b[0m)       │             \u001b[38;5;34m0\u001b[0m │\n",
       "├─────────────────────────────────┼────────────────────────┼───────────────┤\n",
       "│ conv2d_11 (\u001b[38;5;33mConv2D\u001b[0m)              │ (\u001b[38;5;45mNone\u001b[0m, \u001b[38;5;34m1\u001b[0m, \u001b[38;5;34m7\u001b[0m, \u001b[38;5;34m128\u001b[0m)      │        \u001b[38;5;34m73,856\u001b[0m │\n",
       "├─────────────────────────────────┼────────────────────────┼───────────────┤\n",
       "│ flatten_3 (\u001b[38;5;33mFlatten\u001b[0m)             │ (\u001b[38;5;45mNone\u001b[0m, \u001b[38;5;34m896\u001b[0m)            │             \u001b[38;5;34m0\u001b[0m │\n",
       "├─────────────────────────────────┼────────────────────────┼───────────────┤\n",
       "│ dense_6 (\u001b[38;5;33mDense\u001b[0m)                 │ (\u001b[38;5;45mNone\u001b[0m, \u001b[38;5;34m128\u001b[0m)            │       \u001b[38;5;34m114,816\u001b[0m │\n",
       "├─────────────────────────────────┼────────────────────────┼───────────────┤\n",
       "│ dense_7 (\u001b[38;5;33mDense\u001b[0m)                 │ (\u001b[38;5;45mNone\u001b[0m, \u001b[38;5;34m1\u001b[0m)              │           \u001b[38;5;34m129\u001b[0m │\n",
       "└─────────────────────────────────┴────────────────────────┴───────────────┘\n"
      ]
     },
     "metadata": {},
     "output_type": "display_data"
    },
    {
     "data": {
      "text/html": [
       "<pre style=\"white-space:pre;overflow-x:auto;line-height:normal;font-family:Menlo,'DejaVu Sans Mono',consolas,'Courier New',monospace\"><span style=\"font-weight: bold\"> Total params: </span><span style=\"color: #00af00; text-decoration-color: #00af00\">625,349</span> (2.39 MB)\n",
       "</pre>\n"
      ],
      "text/plain": [
       "\u001b[1m Total params: \u001b[0m\u001b[38;5;34m625,349\u001b[0m (2.39 MB)\n"
      ]
     },
     "metadata": {},
     "output_type": "display_data"
    },
    {
     "data": {
      "text/html": [
       "<pre style=\"white-space:pre;overflow-x:auto;line-height:normal;font-family:Menlo,'DejaVu Sans Mono',consolas,'Courier New',monospace\"><span style=\"font-weight: bold\"> Trainable params: </span><span style=\"color: #00af00; text-decoration-color: #00af00\">208,385</span> (814.00 KB)\n",
       "</pre>\n"
      ],
      "text/plain": [
       "\u001b[1m Trainable params: \u001b[0m\u001b[38;5;34m208,385\u001b[0m (814.00 KB)\n"
      ]
     },
     "metadata": {},
     "output_type": "display_data"
    },
    {
     "data": {
      "text/html": [
       "<pre style=\"white-space:pre;overflow-x:auto;line-height:normal;font-family:Menlo,'DejaVu Sans Mono',consolas,'Courier New',monospace\"><span style=\"font-weight: bold\"> Non-trainable params: </span><span style=\"color: #00af00; text-decoration-color: #00af00\">192</span> (768.00 B)\n",
       "</pre>\n"
      ],
      "text/plain": [
       "\u001b[1m Non-trainable params: \u001b[0m\u001b[38;5;34m192\u001b[0m (768.00 B)\n"
      ]
     },
     "metadata": {},
     "output_type": "display_data"
    },
    {
     "data": {
      "text/html": [
       "<pre style=\"white-space:pre;overflow-x:auto;line-height:normal;font-family:Menlo,'DejaVu Sans Mono',consolas,'Courier New',monospace\"><span style=\"font-weight: bold\"> Optimizer params: </span><span style=\"color: #00af00; text-decoration-color: #00af00\">416,772</span> (1.59 MB)\n",
       "</pre>\n"
      ],
      "text/plain": [
       "\u001b[1m Optimizer params: \u001b[0m\u001b[38;5;34m416,772\u001b[0m (1.59 MB)\n"
      ]
     },
     "metadata": {},
     "output_type": "display_data"
    }
   ],
   "source": [
    "model.summary()"
   ]
  },
  {
   "cell_type": "code",
   "execution_count": null,
   "id": "cbfb58a6-0b92-46ec-a975-4976ea7c2ba2",
   "metadata": {},
   "outputs": [],
   "source": []
  },
  {
   "cell_type": "code",
   "execution_count": 217,
   "id": "4c99da5b-2472-4324-9348-48c6cf3184bb",
   "metadata": {},
   "outputs": [
    {
     "name": "stdout",
     "output_type": "stream",
     "text": [
      "137/137 - 0s - 1ms/step - accuracy: 0.9160 - loss: 0.3361\n",
      "Test  Accuracy: 91.60%\n"
     ]
    }
   ],
   "source": [
    "loss, accuracy = model.evaluate(X_test, y_test,verbose=2)\n",
    "print(f'Test  Accuracy: {accuracy:.2%}')"
   ]
  },
  {
   "cell_type": "code",
   "execution_count": 218,
   "id": "46c62789-566c-4ae6-8335-75ce38d5ceb2",
   "metadata": {},
   "outputs": [],
   "source": [
    "from matplotlib.ticker import MaxNLocator"
   ]
  },
  {
   "cell_type": "code",
   "execution_count": 219,
   "id": "5e350d13-eb30-44a1-8d58-aa6a3d17e852",
   "metadata": {
    "scrolled": true
   },
   "outputs": [
    {
     "data": {
      "image/png": "[encoded data removed]",
      "text/plain": [
       "<Figure size 640x480 with 1 Axes>"
      ]
     },
     "metadata": {},
     "output_type": "display_data"
    }
   ],
   "source": [
    "plt.figure()\n",
    "plt.plot([acc * 100 for acc in history.history['accuracy']], label='Training Accuracy')\n",
    "plt.plot([val_acc * 100 for val_acc in history.history['val_accuracy']], label='Test Accuracy')\n",
    "plt.xlabel('Epochs')\n",
    "plt.ylabel('Accuracy %')\n",
    "plt.title('Accuracy Curve')\n",
    "plt.legend()\n",
    "plt.gca().xaxis.set_major_locator(MaxNLocator(integer=True))\n",
    "\n",
    "mean_accuracy = np.mean(history.history['accuracy'])\n",
    "mean_val_accuracy = np.mean(history.history['val_accuracy'])\n",
    "plt.axhline(mean_accuracy * 100, color='blue', linestyle='--', linewidth=1, label=f'Mean Training Accuracy ({mean_accuracy*100:.2f}%)')\n",
    "plt.axhline(mean_val_accuracy * 100, color='orange', linestyle='--', linewidth=1, label=f'Mean Validation Accuracy ({mean_val_accuracy*100:.2f}%)')\n",
    "\n",
    "plt.show()"
   ]
  },
  {
   "cell_type": "code",
   "execution_count": 220,
   "id": "4e9b44bd-e7b2-4121-a8e5-06f2ab919cf8",
   "metadata": {},
   "outputs": [
    {
     "name": "stdout",
     "output_type": "stream",
     "text": [
      "\u001b[1m137/137\u001b[0m \u001b[32m━━━━━━━━━━━━━━━━━━━━\u001b[0m\u001b[37m\u001b[0m \u001b[1m0s\u001b[0m 2ms/step\n"
     ]
    }
   ],
   "source": [
    " # Generate predictions\n",
    "y_pred_prob = model.predict(X_test)\n",
    "y_pred = (y_pred_prob > DUB_share).astype(int)"
   ]
  },
  {
   "cell_type": "code",
   "execution_count": 221,
   "id": "a2d00853-9ad0-4b42-9662-08a959d61870",
   "metadata": {},
   "outputs": [
    {
     "name": "stdout",
     "output_type": "stream",
     "text": [
      "Confusion Matrix:\n",
      "[[3258  127]\n",
      " [ 236  762]]\n"
     ]
    }
   ],
   "source": [
    "cm = confusion_matrix(y_test,y_pred)\n",
    "print(\"Confusion Matrix:\")\n",
    "print(cm)"
   ]
  },
  {
   "cell_type": "code",
   "execution_count": 222,
   "id": "3fbe84d7-3972-42e8-b691-a312ce5aa374",
   "metadata": {},
   "outputs": [
    {
     "data": {
      "image/png": "[encoded data removed]",
      "text/plain": [
       "<Figure size 500x300 with 2 Axes>"
      ]
     },
     "metadata": {},
     "output_type": "display_data"
    }
   ],
   "source": [
    "# Plot Confusion Matrix\n",
    "plt.figure(figsize=(5, 3))\n",
    "sns.heatmap(cm, annot=True, fmt='d', cmap='Reds')\n",
    "plt.xlabel('Predicted')\n",
    "plt.ylabel('Actual')\n",
    "plt.title('Confusion Matrix')\n",
    "plt.show()"
   ]
  },
  {
   "cell_type": "code",
   "execution_count": null,
   "id": "4efb68e9-3b5f-4ec2-91ab-00e0e2bf83b8",
   "metadata": {},
   "outputs": [],
   "source": []
  },
  {
   "cell_type": "code",
   "execution_count": 223,
   "id": "1ed9495c-1d87-4f36-8a1b-b36ecc197894",
   "metadata": {},
   "outputs": [
    {
     "name": "stdout",
     "output_type": "stream",
     "text": [
      "Accuracy: 91.72%\n",
      "Precision: 85.71%\n",
      "Recall: 76.35%\n",
      "F1 Score: 80.76%\n"
     ]
    }
   ],
   "source": [
    "accuracy = accuracy_score(y_test, y_pred)\n",
    "precision = precision_score(y_test, y_pred)\n",
    "recall = recall_score(y_test, y_pred)\n",
    "f1 = f1_score(y_test, y_pred)\n",
    "\n",
    "print(f'Accuracy: {accuracy:.2%}')\n",
    "print(f'Precision: {precision:.2%}')\n",
    "print(f'Recall: {recall:.2%}')\n",
    "print(f'F1 Score: {f1:.2%}')\n"
   ]
  },
  {
   "cell_type": "code",
   "execution_count": 224,
   "id": "cf1707e9-a26e-41d4-a30e-c55847432b61",
   "metadata": {},
   "outputs": [
    {
     "name": "stdout",
     "output_type": "stream",
     "text": [
      "AUC Score: 96.17%\n"
     ]
    },
    {
     "data": {
      "image/png": "[encoded data removed]",
      "text/plain": [
       "<Figure size 640x480 with 1 Axes>"
      ]
     },
     "metadata": {},
     "output_type": "display_data"
    }
   ],
   "source": [
    "# AUC Score and Curve\n",
    "auc_score = roc_auc_score(y_test, y_pred_prob)\n",
    "fpr, tpr, thresholds = roc_curve(y_test, y_pred_prob)\n",
    "roc_auc = auc(fpr, tpr)\n",
    "\n",
    "print(f'AUC Score: {auc_score:.2%}')\n",
    "#\n",
    "plt.figure()\n",
    "plt.plot(fpr*100, tpr*100, color='red', lw=2, label=f'ROC curve (area = {roc_auc:.1%})')\n",
    "plt.plot([0, 100], [0, 100], color='navy', lw=2, linestyle='--')\n",
    "plt.xlim([0.0, 100])\n",
    "plt.ylim([0.0, 105])\n",
    "plt.xlabel('False Positive Rate %')\n",
    "plt.ylabel('True Positive Rate %')\n",
    "plt.title('Receiver Operating Characteristic')\n",
    "plt.legend(loc=\"lower right\")\n",
    "plt.show()"
   ]
  },
  {
   "cell_type": "code",
   "execution_count": 226,
   "id": "384bcfcb-6606-46cf-9e48-9bc2e1f08eac",
   "metadata": {},
   "outputs": [
    {
     "data": {
      "text/plain": [
       "'\\nLayer (type)                    ┃ Output Shape           ┃       Param # ┃\\n┡━━━━━━━━━━━━━━━━━━━━━━━━━━━━━━━━━╇━━━━━━━━━━━━━━━━━━━━━━━━╇━━━━━━━━━━━━━━━┩\\n│ conv2d (Conv2D)                 │ (None, 18, 42, 32)     │           896 │\\n├─────────────────────────────────┼────────────────────────┼───────────────┤\\n│ max_pooling2d (MaxPooling2D)    │ (None, 9, 21, 32)      │             0 │\\n├─────────────────────────────────┼────────────────────────┼───────────────┤\\n│ conv2d_1 (Conv2D)               │ (None, 7, 19, 64)      │        18,496 │\\n├─────────────────────────────────┼────────────────────────┼───────────────┤\\n│ max_pooling2d_1 (MaxPooling2D)  │ (None, 3, 9, 64)       │             0 │\\n├─────────────────────────────────┼────────────────────────┼───────────────┤\\n│ conv2d_2 (Conv2D)               │ (None, 1, 7, 128)      │        73,856 │\\n├─────────────────────────────────┼────────────────────────┼───────────────┤\\n│ flatten (Flatten)               │ (None, 896)            │             0 │\\n├─────────────────────────────────┼────────────────────────┼───────────────┤\\n│ dense (Dense)                   │ (None, 128)            │       114,816 │\\n├─────────────────────────────────┼────────────────────────┼───────────────┤\\n│ dense_1 (Dense)                 │ (None, 1)              │           129 │\\n└─────────────────────────────────┴────────────────────────┴─\\n'"
      ]
     },
     "execution_count": 226,
     "metadata": {},
     "output_type": "execute_result"
    }
   ],
   "source": [
    "'''\n",
    "  Layer (type)                    ┃ Output Shape           ┃       Param # ┃\n",
    "┡━━━━━━━━━━━━━━━━━━━━━━━━━━━━━━━━━╇━━━━━━━━━━━━━━━━━━━━━━━━╇━━━━━━━━━━━━━━━┩\n",
    "│ conv2d (Conv2D)                 │ (None, 18, 42, 32)     │           896 │\n",
    "├─────────────────────────────────┼────────────────────────┼───────────────┤\n",
    "│ max_pooling2d (MaxPooling2D)    │ (None, 9, 21, 32)      │             0 │\n",
    "├─────────────────────────────────┼────────────────────────┼───────────────┤\n",
    "│ conv2d_1 (Conv2D)               │ (None, 7, 19, 64)      │        18,496 │\n",
    "├─────────────────────────────────┼────────────────────────┼───────────────┤\n",
    "│ max_pooling2d_1 (MaxPooling2D)  │ (None, 3, 9, 64)       │             0 │\n",
    "├─────────────────────────────────┼────────────────────────┼───────────────┤\n",
    "│ conv2d_2 (Conv2D)               │ (None, 1, 7, 128)      │        73,856 │\n",
    "├─────────────────────────────────┼────────────────────────┼───────────────┤\n",
    "│ flatten (Flatten)               │ (None, 896)            │             0 │\n",
    "├─────────────────────────────────┼────────────────────────┼───────────────┤\n",
    "│ dense (Dense)                   │ (None, 128)            │       114,816 │\n",
    "├─────────────────────────────────┼────────────────────────┼───────────────┤\n",
    "│ dense_1 (Dense)                 │ (None, 1)              │           129 │\n",
    "└─────────────────────────────────┴────────────────────────┴─\n",
    "'''"
   ]
  },
  {
   "cell_type": "code",
   "execution_count": 165,
   "id": "ea37dc20-35fb-487d-85fd-479d8ba6e797",
   "metadata": {},
   "outputs": [],
   "source": []
  },
  {
   "cell_type": "code",
   "execution_count": null,
   "id": "de3f9b37-ae73-408a-a929-0fc7ccd14f5e",
   "metadata": {},
   "outputs": [],
   "source": []
  }
 ],
 "metadata": {
  "kernelspec": {
   "display_name": "audio8_2_tf",
   "language": "python",
   "name": "audio8_2_tf"
  },
  "language_info": {
   "codemirror_mode": {
    "name": "ipython",
    "version": 3
   },
   "file_extension": ".py",
   "mimetype": "text/x-python",
   "name": "python",
   "nbconvert_exporter": "python",
   "pygments_lexer": "ipython3",
   "version": "3.9.19"
  }
 },
 "nbformat": 4,
 "nbformat_minor": 5
}
